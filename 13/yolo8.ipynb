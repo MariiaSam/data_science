{
 "cells": [
  {
   "cell_type": "code",
   "execution_count": null,
   "metadata": {},
   "outputs": [],
   "source": [
    "from ultralytics import YOLO\n",
    "model = YOLO('yolov8m.pt')"
   ]
  },
  {
   "cell_type": "code",
   "execution_count": null,
   "metadata": {},
   "outputs": [],
   "source": [
    "model.info()"
   ]
  },
  {
   "cell_type": "code",
   "execution_count": null,
   "metadata": {},
   "outputs": [],
   "source": [
    "print(model)"
   ]
  },
  {
   "cell_type": "code",
   "execution_count": null,
   "metadata": {},
   "outputs": [],
   "source": [
    "results = model.predict('white_cat_and_dog.jpg')\n",
    "print(results)"
   ]
  },
  {
   "cell_type": "code",
   "execution_count": null,
   "metadata": {},
   "outputs": [],
   "source": [
    "for box in results[0].boxes:\n",
    "  print('Object type:', box.cls)\n",
    "  print('Coodrdinates:', box.xyxy)\n",
    "  print('Probability:', box.conf)\n",
    "  print('----')"
   ]
  },
  {
   "cell_type": "code",
   "execution_count": null,
   "metadata": {},
   "outputs": [],
   "source": [
    " # pip install pillow"
   ]
  },
  {
   "cell_type": "code",
   "execution_count": null,
   "metadata": {},
   "outputs": [],
   "source": [
    "from PIL import Image\n",
    "import numpy as np\n",
    "\n",
    "im = np.array(Image.open('white_cat_and_dog.jpg'), dtype=np.uint8)\n",
    "plt.imshow(im)"
   ]
  },
  {
   "cell_type": "code",
   "execution_count": null,
   "metadata": {},
   "outputs": [],
   "source": [
    "plt.imshow(im)\n",
    "\n",
    "for box in results[0].boxes:\n",
    "\n",
    "  cords = box.xyxy[0].tolist()\n",
    "  xs = [cords[0], cords[2], cords[2], cords[0], cords[0]]\n",
    "  ys = [cords[1], cords[1], cords[3], cords[3], cords[1]]\n",
    "\n",
    "  plt.text(cords[0], cords[1]-10, f'{results[0].names[int(box.cls)]} - {round(100*box.conf[0].item(), 2)}%', color='blue')\n",
    "  plt.plot(xs, ys, color='blue')"
   ]
  }
 ],
 "metadata": {
  "language_info": {
   "name": "python"
  }
 },
 "nbformat": 4,
 "nbformat_minor": 2
}
