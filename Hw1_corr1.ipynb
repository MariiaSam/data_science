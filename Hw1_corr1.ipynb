{
  "nbformat": 4,
  "nbformat_minor": 0,
  "metadata": {
    "colab": {
      "provenance": [],
      "authorship_tag": "ABX9TyNSz+r3FKj3dQakDNPg8xDa",
      "include_colab_link": true
    },
    "kernelspec": {
      "name": "python3",
      "display_name": "Python 3"
    },
    "language_info": {
      "name": "python"
    }
  },
  "cells": [
    {
      "cell_type": "markdown",
      "metadata": {
        "id": "view-in-github",
        "colab_type": "text"
      },
      "source": [
        "<a href=\"https://colab.research.google.com/github/MariiaSam/data_science/blob/main/Hw1_corr1.ipynb\" target=\"_parent\"><img src=\"https://colab.research.google.com/assets/colab-badge.svg\" alt=\"Open In Colab\"/></a>"
      ]
    },
    {
      "cell_type": "code",
      "execution_count": 125,
      "metadata": {
        "id": "pWqe25_5pquY"
      },
      "outputs": [],
      "source": [
        "import numpy as np\n"
      ]
    },
    {
      "cell_type": "code",
      "source": [
        "# 1. Створіть одновимірний масив (вектор) з першими 10-ма натуральними числами та виведіть його значення.\n",
        "\n",
        "vector = np.array([1, 2, 3, 4, 5, 6, 7, 8, 9, 10])\n",
        "\n",
        "print(vector)"
      ],
      "metadata": {
        "colab": {
          "base_uri": "https://localhost:8080/"
        },
        "id": "10uT-joupwQw",
        "outputId": "eb6f84a2-2584-44b1-b1d6-e99d6423efa5"
      },
      "execution_count": 142,
      "outputs": [
        {
          "output_type": "stream",
          "name": "stdout",
          "text": [
            "[ 1  2  3  4  5  6  7  8  9 10]\n"
          ]
        }
      ]
    },
    {
      "cell_type": "code",
      "source": [
        "# 2. Створіть двовимірний масив (матрицю) розміром 3x3, заповніть його нулями та виведіть його значення.\n",
        "matrix = np.zeros((3, 3), dtype=int)\n",
        "\n",
        "print(matrix)"
      ],
      "metadata": {
        "colab": {
          "base_uri": "https://localhost:8080/"
        },
        "id": "I9R4NA04rN_Y",
        "outputId": "682a4be8-53cf-406d-82a6-161ed1ce60f2"
      },
      "execution_count": 141,
      "outputs": [
        {
          "output_type": "stream",
          "name": "stdout",
          "text": [
            "[[0 0 0]\n",
            " [0 0 0]\n",
            " [0 0 0]]\n"
          ]
        }
      ]
    },
    {
      "cell_type": "code",
      "source": [
        "# 3. Створіть масив розміром 5x5, заповніть його випадковими цілими числами в діапазоні від 1 до 10 та виведіть його значення\n",
        "matrix = np.random.randint(1, 11, size=(5,5))\n",
        "\n",
        "print(matrix)"
      ],
      "metadata": {
        "colab": {
          "base_uri": "https://localhost:8080/"
        },
        "id": "Ci5d0RGmsXFI",
        "outputId": "19a91a36-ed0c-4545-ec2c-5764a8aecfd2"
      },
      "execution_count": 96,
      "outputs": [
        {
          "output_type": "stream",
          "name": "stdout",
          "text": [
            "[[ 7  7  3  8  6]\n",
            " [ 8  1  9 10  3]\n",
            " [10  8 10  7  2]\n",
            " [ 4 10  3  5  4]\n",
            " [ 9  3  1  3  5]]\n"
          ]
        }
      ]
    },
    {
      "cell_type": "code",
      "source": [
        "# 4. Створіть масив розміром 4x4, заповніть його випадковими дійсними числами в діапазоні від 0 до 1 та виведіть його значення\n",
        "matrix = np.random.rand(4,4)\n",
        "\n",
        "print(matrix)"
      ],
      "metadata": {
        "id": "bcHV6pIZ4p-o",
        "colab": {
          "base_uri": "https://localhost:8080/"
        },
        "outputId": "0e886762-3f0f-4224-c1cc-d7b253f78588"
      },
      "execution_count": 130,
      "outputs": [
        {
          "output_type": "stream",
          "name": "stdout",
          "text": [
            "[[0.69370646 0.35834635 0.98141805 0.34242676]\n",
            " [0.34988446 0.56652309 0.31709539 0.2036209 ]\n",
            " [0.51473686 0.29053558 0.69696028 0.54437074]\n",
            " [0.7763211  0.86629614 0.17254451 0.25602648]]\n"
          ]
        }
      ]
    },
    {
      "cell_type": "code",
      "source": [
        "# 5. Створіть два одновимірних масиви розміром 5, заповніть їх випадковими цілими числами в діапазоні від 1 до 10 та виконайте на них поелементні операції додавання, віднімання та множення\n",
        "a = np.random.randint(1, 11, size=(5), dtype=int)\n",
        "b = np.random.randint(1, 11, size=(5), dtype=int)\n",
        "\n",
        "print(a+b)\n",
        "print(a-b)\n",
        "print(a*b)\n"
      ],
      "metadata": {
        "colab": {
          "base_uri": "https://localhost:8080/"
        },
        "id": "VVSNySFw_EZI",
        "outputId": "f0ef55d2-0ffc-43a2-e58b-f6bab917b304"
      },
      "execution_count": 129,
      "outputs": [
        {
          "output_type": "stream",
          "name": "stdout",
          "text": [
            "[20  5  5 13  2]\n",
            "[ 0  1  1 -1  0]\n",
            "[100   6   6  42   1]\n"
          ]
        }
      ]
    },
    {
      "cell_type": "code",
      "source": [
        "# 6. Створіть два вектори розміром 7, заповніть довільними числами та знайдіть їх скалярний добуток\n",
        "vector1 = np.array([1, 2, 3, 4, 5, 6, 7])\n",
        "vector2 = np.array([2, 4, 6, 1, 3, 5, 9])\n",
        "\n",
        "print(np.dot(vector1, vector2))"
      ],
      "metadata": {
        "colab": {
          "base_uri": "https://localhost:8080/"
        },
        "id": "DmmikZkB_oy_",
        "outputId": "4e1a8ad1-dfe8-4c20-ce23-9f33e36ba4a0"
      },
      "execution_count": 99,
      "outputs": [
        {
          "output_type": "stream",
          "name": "stdout",
          "text": [
            "140\n"
          ]
        }
      ]
    },
    {
      "cell_type": "code",
      "source": [
        "# 7. Створіть дві матриці розміром 2x2 та 2x3, заповніть їх випадковими цілими числами в діапазоні від 1 до 10 та перемножте їх між собою\n",
        "matrix1 = np.random.randint(1, 11, size=(2,2), dtype=int)\n",
        "matrix2 = np.random.randint(1, 11, size=(2,3), dtype=int)\n",
        "\n",
        "print(np.dot(matrix1, matrix2))"
      ],
      "metadata": {
        "colab": {
          "base_uri": "https://localhost:8080/"
        },
        "id": "jy519i1fA2f5",
        "outputId": "48e48fdc-d67c-4f59-b367-bf4933820fe2"
      },
      "execution_count": 131,
      "outputs": [
        {
          "output_type": "stream",
          "name": "stdout",
          "text": [
            "[[ 47  52  35]\n",
            " [ 98 106  75]]\n"
          ]
        }
      ]
    },
    {
      "cell_type": "code",
      "source": [
        "# 8. Створіть матрицю розміром 3x3, заповніть її випадковими цілими числами в діапазоні від 1 до 10 та знайдіть її обернену матрицю.\n",
        "matrix = np.random.randint(1, 11, size=(3,3), dtype=int)\n",
        "matrix_inv = np.linalg.inv(matrix)\n",
        "print(matrix_inv)\n"
      ],
      "metadata": {
        "colab": {
          "base_uri": "https://localhost:8080/"
        },
        "id": "zinnNP1hCmal",
        "outputId": "6344dfa5-8d07-4f52-858d-d899f16a7ab2"
      },
      "execution_count": 101,
      "outputs": [
        {
          "output_type": "stream",
          "name": "stdout",
          "text": [
            "[[ 0.23595506 -0.19101124  0.03370787]\n",
            " [-0.73033708  1.06741573 -0.24719101]\n",
            " [ 0.1011236  -0.2247191   0.15730337]]\n"
          ]
        }
      ]
    },
    {
      "cell_type": "code",
      "source": [
        "# 9. Створіть матрицю розміром 4x4, заповніть її випадковими дійсними числами в діапазоні від 0 до 1 та транспонуйте її\n",
        "matrix = np.random.rand(4, 4)\n",
        "print(matrix.T)"
      ],
      "metadata": {
        "colab": {
          "base_uri": "https://localhost:8080/"
        },
        "id": "0CwNqH0DGqrJ",
        "outputId": "4745764a-bdc2-4d9e-ac57-4cc7ab9a2610"
      },
      "execution_count": 102,
      "outputs": [
        {
          "output_type": "stream",
          "name": "stdout",
          "text": [
            "[[2.11968264e-01 6.94728199e-01 8.15129307e-01 3.10238894e-01]\n",
            " [3.19161738e-01 2.72297914e-01 6.83092244e-01 6.82573698e-01]\n",
            " [5.46787957e-01 4.99807976e-01 5.79183851e-04 1.21743007e-01]\n",
            " [2.91240187e-01 2.71385885e-01 1.93363514e-01 9.72108284e-01]]\n"
          ]
        }
      ]
    },
    {
      "cell_type": "code",
      "source": [
        "# 10. Створіть матрицю розміром 3x4 та вектор розміром 4, заповніть їх випадковими цілими числами в діапазоні від 1 до 10 та перемножте матрицю на вектор\n",
        "matrix = np.random.randint(1, 11, size=(3,4), dtype=int)\n",
        "vector = np.random.randint(1, 11, size=(4), dtype=int)\n",
        "\n",
        "print(np.dot(matrix, vector))"
      ],
      "metadata": {
        "colab": {
          "base_uri": "https://localhost:8080/"
        },
        "id": "ofYr9l4rG_z_",
        "outputId": "486972ba-4f50-4118-e0d8-25ac55b38eb7"
      },
      "execution_count": 133,
      "outputs": [
        {
          "output_type": "stream",
          "name": "stdout",
          "text": [
            "[ 48 139 160]\n"
          ]
        }
      ]
    },
    {
      "cell_type": "code",
      "source": [
        "# 11. Створіть матрицю розміром 2x3 та вектор розміром 3, заповніть їх випадковими дійсними числами в діапазоні від 0 до 1 та перемножте матрицю на вектор\n",
        "matrix = np.random.rand(2, 3)\n",
        "vector = np.random.rand(3)\n",
        "\n",
        "print(np.dot(matrix, vector))"
      ],
      "metadata": {
        "colab": {
          "base_uri": "https://localhost:8080/"
        },
        "id": "Ys7KBwc_K1Pc",
        "outputId": "21d01909-46bd-451a-87e4-8284f92c9915"
      },
      "execution_count": 134,
      "outputs": [
        {
          "output_type": "stream",
          "name": "stdout",
          "text": [
            "[0.2749688  0.46662123]\n"
          ]
        }
      ]
    },
    {
      "cell_type": "code",
      "source": [
        "# 12. Створіть дві матриці розміром 2x2, заповніть їх випадковими цілими числами в діапазоні від 1 до 10 та виконайте їхнє поелементне множення\n",
        "matrix1 = np.random.randint(1, 11, size=(2,2), dtype=int)\n",
        "matrix2 = np.random.randint(1, 11, size=(2,2), dtype=int)\n",
        "\n",
        "print(matrix1*matrix2)"
      ],
      "metadata": {
        "colab": {
          "base_uri": "https://localhost:8080/"
        },
        "id": "sufRrK5NVY-c",
        "outputId": "ce9d965a-dffe-4c47-cf75-cf4bc2081a67"
      },
      "execution_count": 105,
      "outputs": [
        {
          "output_type": "stream",
          "name": "stdout",
          "text": [
            "[[ 3 21]\n",
            " [24 18]]\n"
          ]
        }
      ]
    },
    {
      "cell_type": "code",
      "source": [
        "# 13. Створіть дві матриці розміром 2x2, заповніть їх випадковими цілими числами в діапазоні від 1 до 10 та знайдіть їх добуток\n",
        "matrix1 = np.random.randint(1, 11, size=(2,2), dtype=int)\n",
        "matrix2 = np.random.randint(1, 11, size=(2,2), dtype=int)\n",
        "\n",
        "print(np.dot(matrix1, matrix2))\n"
      ],
      "metadata": {
        "colab": {
          "base_uri": "https://localhost:8080/"
        },
        "id": "Khp1Cj2PWKfG",
        "outputId": "f6657df9-d9d7-4cf8-a0ed-c90e7c6d3d79"
      },
      "execution_count": 135,
      "outputs": [
        {
          "output_type": "stream",
          "name": "stdout",
          "text": [
            "[[ 63  25]\n",
            " [108  56]]\n"
          ]
        }
      ]
    },
    {
      "cell_type": "code",
      "source": [
        "# 14. Створіть матрицю розміром 5x5, заповніть її випадковими цілими числами в діапазоні від 1 до 100 та знайдіть суму елементів матриці\n",
        "matrix = np.random.randint(1, 101, size=(5,5), dtype=int)\n",
        "print(matrix)\n",
        "\n",
        "print(matrix.sum())"
      ],
      "metadata": {
        "colab": {
          "base_uri": "https://localhost:8080/"
        },
        "id": "RaZ2q7eCWeNk",
        "outputId": "2dbed6ec-e7b9-4272-8dbb-23dc0e610671"
      },
      "execution_count": 110,
      "outputs": [
        {
          "output_type": "stream",
          "name": "stdout",
          "text": [
            "[[ 22  58  87  67  27]\n",
            " [ 78  92  15  28  94]\n",
            " [ 58  45  94  99  79]\n",
            " [ 29  86  91  70  89]\n",
            " [ 11  90  38 100  77]]\n",
            "1624\n"
          ]
        }
      ]
    },
    {
      "cell_type": "code",
      "source": [
        "# 15. Створіть дві матриці розміром 4x4, заповніть їх випадковими цілими числами в діапазоні від 1 до 10 та знайдіть їхню різницю\n",
        "matrix1 = np.random.randint(1, 11, size=(4,4), dtype=int)\n",
        "matrix2 = np.random.randint(1, 11, size=(4,4), dtype=int)\n",
        "\n",
        "print(matrix1 - matrix2)"
      ],
      "metadata": {
        "colab": {
          "base_uri": "https://localhost:8080/"
        },
        "id": "Um1b_TBPXqlH",
        "outputId": "7ffe02f7-2453-4dd5-ff04-76d7037c2783"
      },
      "execution_count": 136,
      "outputs": [
        {
          "output_type": "stream",
          "name": "stdout",
          "text": [
            "[[-1  1 -3  6]\n",
            " [ 2 -8 -1 -2]\n",
            " [-7  0 -2 -1]\n",
            " [-7  2 -4  2]]\n"
          ]
        }
      ]
    },
    {
      "cell_type": "code",
      "source": [
        "# 16. Створіть матрицю розміром 3x3, заповніть її випадковими дійсними числами в діапазоні від 0 до 1 та знайдіть вектор-стовпчик, що містить суму елементів кожного рядка матриці.\n",
        "matrix = np.random.rand(3, 3)\n",
        "row_sums = matrix.sum(axis=1).reshape(-1, 1)\n",
        "\n",
        "print(row_sums)"
      ],
      "metadata": {
        "colab": {
          "base_uri": "https://localhost:8080/"
        },
        "id": "WlP5hgaEap4M",
        "outputId": "43998abe-42e5-4514-be1f-a4bdc6ac8eb1"
      },
      "execution_count": 145,
      "outputs": [
        {
          "output_type": "stream",
          "name": "stdout",
          "text": [
            "[[2.38920578]\n",
            " [0.88784073]\n",
            " [2.54449427]]\n"
          ]
        }
      ]
    },
    {
      "cell_type": "code",
      "source": [
        "# 17. Створіть матрицю розміром 3x4 з довільними цілими числами і створінь матрицю з квадратами цих чисел.\n",
        "matrix = np.random.randint(0, 11, (3, 4))\n",
        "print(matrix)\n",
        "\n",
        "matrix2 = matrix ** 2\n",
        "\n",
        "# matrix2 = matrix ** matrix\n",
        "\n",
        "print(matrix2)"
      ],
      "metadata": {
        "colab": {
          "base_uri": "https://localhost:8080/"
        },
        "id": "L0L647UVdWhE",
        "outputId": "a4f9e5d8-ad64-4d56-d14c-4d923e11091c"
      },
      "execution_count": 139,
      "outputs": [
        {
          "output_type": "stream",
          "name": "stdout",
          "text": [
            "[[10 10 10  6]\n",
            " [ 3  4  2 10]\n",
            " [10 10  3  4]]\n",
            "[[100 100 100  36]\n",
            " [  9  16   4 100]\n",
            " [100 100   9  16]]\n"
          ]
        }
      ]
    },
    {
      "cell_type": "code",
      "source": [
        "# 18. Створіть вектор розміром 4, заповніть його випадковими цілими числами в діапазоні від 1 до 50 та знайдіть вектор з квадратними коренями цих чисел\n",
        "vector1 = np.random.randint(1, 51, size=4)\n",
        "print(vector1)\n",
        "\n",
        "vector2 = np.sqrt(vector1)\n",
        "print(vector2)\n"
      ],
      "metadata": {
        "colab": {
          "base_uri": "https://localhost:8080/"
        },
        "id": "qhNZGLJPjry_",
        "outputId": "0c907596-4ff1-4445-80cb-0cc3d7a4ad50"
      },
      "execution_count": 140,
      "outputs": [
        {
          "output_type": "stream",
          "name": "stdout",
          "text": [
            "[ 8 33 14 32]\n",
            "[2.82842712 5.74456265 3.74165739 5.65685425]\n"
          ]
        }
      ]
    }
  ]
}