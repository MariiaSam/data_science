{
  "nbformat": 4,
  "nbformat_minor": 0,
  "metadata": {
    "colab": {
      "provenance": [],
      "collapsed_sections": [
        "yNProH0CDhsV"
      ],
      "authorship_tag": "ABX9TyMM4qz2BLwlI99YPwq5MS1A"
    },
    "kernelspec": {
      "name": "python3",
      "display_name": "Python 3"
    },
    "language_info": {
      "name": "python"
    }
  },
  "cells": [
    {
      "cell_type": "markdown",
      "source": [
        "# ***Попередня обробка даних***"
      ],
      "metadata": {
        "id": "_Y7XPHogdxiX"
      }
    },
    {
      "cell_type": "markdown",
      "source": [
        "Якість даних та обсяг корисної інформації, яку вони містять, є ключовими факторами, які визначають, як добре алгоритм машинного навчання зможе навчитися. Отже, вкрай важливо спочатку набір даних обов'язково перевірити і піддати попередній обробці і тільки потім подавати його на вхід алгоритму, що навчається."
      ],
      "metadata": {
        "id": "FCm1oCUNd7Yz"
      }
    },
    {
      "cell_type": "markdown",
      "source": [
        "# ***1. Типи даних, які використовуються в машинному навчанні***"
      ],
      "metadata": {
        "id": "LuJBw5ZldslY"
      }
    },
    {
      "cell_type": "markdown",
      "source": [
        "Майже все можна перетворити на дані. Глибоке розуміння різних типів даних є важливою передумовою для проведення дослідницького аналізу даних (EDA) та інженерії ознак для моделей машинного навчання. Вам також потрібно перетворити типи даних деяких змінних, щоб зробити правильний вибір для візуального кодування при візуалізації даних.\n",
        "\n",
        "З точки зору машинного навчання більшість даних можна розділити на 4 основні типи:\n",
        "\n",
        "***числові дані (numerical data);***\n",
        "\n",
        "***категоріальні дані (Categorical Data);***\n",
        "\n",
        "***дані часових рядів (Time Seriesa Data) і текст (Text).***\n",
        "\n",
        "***Числові дані (Numerical Data)*** - це будь-які дані, де точками даних є точні числа. Числові дані іноді називають кількісними даними (Quantitative Data). Ці дані мають значення як вимірювання, наприклад, ціни на житло, або як підрахунок, наприклад, кількість житлових об'єктів у Лос-Анджелесі або кількість будинків, проданих за минулий рік.\n",
        "\n",
        "Числові дані можуть бути ***безперервними або дискретними***.\n",
        "\n",
        "***Безперервні дані можуть набувати будь-якого значення в межах діапазону, тоді як дискретні дані мають чіткі значення.***\n",
        "\n",
        "***а) дискретні дані.*** Дискретні дані - це тип даних, які складаються з окремих значень або категорій. Ці значення зазвичай підраховуються і часто є цілими числами, хоча вони не обов'язково мають бути цілими. Дискретні дані можуть набувати конкретних, кінцевих значень у визначеному діапазоні. Ключові характеристики дискретних даних включають:\n",
        "\n",
        "***Злічувані значення*** - дискретні дані представляють індивідуальні, окремі елементи або категорії, які можна порахувати або перерахувати. Наприклад, кількість учнів у класі, кількість автомобілів на парковці або кількість домашніх тварин у домогосподарстві є дискретними даними;\n",
        "\n",
        "***Окремі категорії **** - кожне значення в дискретних даних представляє окрему категорію або клас. Ці категорії часто не перетинаються, тобто елемент може належати лише до однієї категорії, без проміжних значень;\n",
        "\n",
        "***Проміжки між значеннями*** - у дискретних даних існують пропуски або пробіли між значеннями. Наприклад, якщо ви підраховуєте кількість осіб у домогосподарстві, ви можете мати такі значення, як 1, 2, 3 і так далі, але не можете мати значення 1,5 або 2,75;\n",
        "\n",
        "Часто представляють графічно за допомогою гістограм - дискретні дані зазвичай візуалізують за допомогою гістограм або стовпчастих діаграм (bar chart), де кожна категорія представлена окремим стовпчиком, а висота стовпчика відповідає частоті або кількості цієї категорії.\n",
        "\n",
        "Приклади дискретних даних: кількість дітей у сім'ї, кількість дефектів у партії продукції, кількість голів, забитих футбольною командою за сезон, кількість днів у тижні (понеділок, вівторок і т.д.), типи автомобілів на парковці (седан, позашляховик, вантажівка).\n",
        "\n",
        "\n"
      ],
      "metadata": {
        "id": "gN20fDPgeI6S"
      }
    },
    {
      "cell_type": "code",
      "source": [
        "import matplotlib.pyplot as plt\n",
        "\n",
        "households = list(range(1,6))\n",
        "cars_owned = [150, 90, 45, 10, 5]\n",
        "\n",
        "plt.stem(households, cars_owned)\n",
        "plt.title('Кількість автомобілів на домогосподарство')\n",
        "plt.xlabel('Кількість автомобілів')\n",
        "plt.ylabel('Кількість домогосподарств')\n",
        "plt.show()"
      ],
      "metadata": {
        "colab": {
          "base_uri": "https://localhost:8080/",
          "height": 472
        },
        "id": "LOqDJFR8fNZs",
        "outputId": "c71aebee-e8ff-45b7-d4ce-4a3407aa3258"
      },
      "execution_count": 9,
      "outputs": [
        {
          "output_type": "display_data",
          "data": {
            "text/plain": [
              "<Figure size 640x480 with 1 Axes>"
            ],
            "image/png": "[encoded data removed]"
          },
          "metadata": {}
        }
      ]
    },
    {
      "cell_type": "markdown",
      "source": [
        "***б) безперервні дані***.\n",
        "\n",
        "Безперервні дані - це тип даних, які можуть набувати нескінченної кількості значень у певному діапазоні. Вони представляють вимірювання, які можуть бути виражені з високим рівнем точності і, як правило, мають числову природу. На відміну від дискретних даних, які складаються з чітких, окремих значень, безперервні дані можуть мати значення в будь-якій точці безперервної шкали.\n",
        "\n",
        "***Ключові характеристики безперервних даних включають:***\n",
        "\n",
        "***Нескінченні значення***- неперервні дані можуть набувати нескінченної кількості значень у визначеному діапазоні. Ці значення можуть включати десяткові, дробові та будь-які інші дійсні числа;\n",
        "\n",
        "***Точність*** - безперервні дані часто асоціюються з високою точністю, що означає, що вимірювання можуть бути зроблені з великою деталізацією. Наприклад, температуру, зріст і вагу можна виміряти з точністю до кількох десяткових знаків;\n",
        "\n",
        "***Відсутність прогалин або розривів*** - у безперервних даних немає пропусків, пробілів або стрибків між значеннями. Ви можете мати значення, які дуже близькі одне до одного без будь-яких чітких категорій чи розділень;\n",
        "\n",
        "***Графічне представлення ***- безперервні дані зазвичай візуалізуються за допомогою лінійних діаграм або діаграм розсіювання, де точки даних з'єднуються лініями, щоб показати безперервний характер даних.\n",
        "\n",
        "Приклади безперервних даних: температурні показники (наприклад, 20,5°C), вимірювання зросту (наприклад, 175,2 см), вимірювання ваги (наприклад, 68,7 кг), інтервали часу (наприклад, 3,45 секунди), вік людей, який може включати десяткові дроби (наприклад, 27,5 років)."
      ],
      "metadata": {
        "id": "ciaDBjeafW0U"
      }
    },
    {
      "cell_type": "code",
      "source": [
        "import matplotlib.pyplot as plt\n",
        "import numpy as np\n",
        "heights = np.random.normal(165, 10, 1000) # Дані вибірки з mean=165см та std_dev=10см\n",
        "\n",
        "plt.hist(heights, bins=20, color='purple', edgecolor='black')\n",
        "plt.title('Розподіл зросту людей в країні')\n",
        "plt.xlabel('Зріст (см)')\n",
        "plt.ylabel('Частота')\n",
        "plt.show()"
      ],
      "metadata": {
        "colab": {
          "base_uri": "https://localhost:8080/",
          "height": 472
        },
        "id": "OIoWs9Wof8Pp",
        "outputId": "3489d821-82ac-4cf7-ace9-09ee1175277d"
      },
      "execution_count": 10,
      "outputs": [
        {
          "output_type": "display_data",
          "data": {
            "text/plain": [
              "<Figure size 640x480 with 1 Axes>"
            ],
            "image/png": "[encoded data removed]"
          },
          "metadata": {}
        }
      ]
    },
    {
      "cell_type": "markdown",
      "source": [
        "***Категоріальні дані (Categorical Data)*** - це тип даних, який використовується для групування інформації зі схожими характеристиками.\n",
        "\n",
        "Категоріальні дані іноді називають якісними даними (Qualitative Data). Ці дані можна розділити його категорії, але їх не можна виміряти чи кількісно оцінити.\n",
        "\n",
        "Категоріальні дані можуть бути номінальними або порядковими. Номінальні дані представляють категорії без певного порядку, тоді як порядкові дані впорядковані або ранжовані певним чином.\n",
        "\n",
        "***а) номінальні дані.***\n",
        "Номінальні дані являють собою категорії або позначення без будь-якого притаманного порядку, ранжування або числового значення як тип категоріальних даних. Іншими словами, номінальні дані класифікують об'єкти в окремі групи або класи на основі певної якісної характеристики, але категорії не мають природного або значущого порядку, пов'язаного з ними.\n",
        "\n",
        "\n",
        "**Ключові характеристики номінальних даних включають:**\n",
        "\n",
        "**Oкремі категорії**- номінальні дані складаються з дискретних, нечислових категорій або міток. Ці категорії представляють різні атрибути або класи, але між ними немає внутрішньої ієрархії або ранжування;\n",
        "\n",
        "***Немає кількісного значення*** - на відміну від порядкових, інтервальних даних або даних про співвідношення, номінальні дані не мають жодного кількісного або числового значення. Категорії є суто якісними і слугують ярликами для групування;\n",
        "\n",
        "***Довільний розподіл*** - віднесення елементів до категорій у номінальних даних часто є довільним і ґрунтується на певних суб'єктивних або контекстуальних критеріях. Наприклад, віднесення елементів до таких категорій, як \"червоний\", \"синій\" або \"зелений\" для кольорів є довільним;\n",
        "\n",
        "***Відсутність математичних операцій*** - арифметичні операції, такі як додавання, віднімання чи множення, не мають сенсу з номінальними даними, оскільки категорії не мають числового значення.\n",
        "\n",
        "Приклади номінальних даних: гендерні категорії (наприклад, \"чоловік\", \"жінка\", \"інше\"), сімейний стан (наприклад, \"неодружений\", \"одружений\", \"розлучений\", \"вдівець\"), тип тварин (наприклад, \"кіт\", \"собака\", \"кінь\", \"птах\"), етнічна чи расова приналежність (наприклад, \"кавказець\", \"афроамериканець\", \"азіат\", \"латиноамериканець\")."
      ],
      "metadata": {
        "id": "6VUZck3fgAy4"
      }
    },
    {
      "cell_type": "code",
      "source": [
        "import matplotlib.pyplot as plt\n",
        "\n",
        "hair_colors = ['Blonde', 'Brunette', 'Black', 'Red']\n",
        "counts = [120, 140, 90, 50]\n",
        "\n",
        "plt.bar(hair_colors, counts, color=['yellow', 'brown', 'black', 'red'])\n",
        "plt.title('Розподіл кольорів волосся')\n",
        "plt.xlabel('Колір волосся')\n",
        "plt.ylabel('Кількість людей')\n",
        "plt.show()"
      ],
      "metadata": {
        "colab": {
          "base_uri": "https://localhost:8080/",
          "height": 472
        },
        "id": "nJV6iuMrg-UW",
        "outputId": "5d6725b1-3cc6-4c85-858c-c5ab2fa0a035"
      },
      "execution_count": 11,
      "outputs": [
        {
          "output_type": "display_data",
          "data": {
            "text/plain": [
              "<Figure size 640x480 with 1 Axes>"
            ],
            "image/png": "[encoded data removed]"
          },
          "metadata": {}
        }
      ]
    },
    {
      "cell_type": "markdown",
      "source": [
        "б) ***порядкові дані. Порядкові дані - це тип категоріальних даних,*** які представляють значення зі значущим порядком або ранжуванням, але не мають послідовної або рівномірно розподіленої числової різниці між значеннями. Іншими словами, порядкові дані мають категорії, які можна впорядкувати або ранжувати, але інтервали між категоріями не є рівномірними або вимірюваними. Ключові характеристики порядкових даних включають:\n",
        "\n",
        "*    Впорядковані категорії - порядкові дані складаються з категорій або міток, які\n",
        "мають певний порядок або ієрархію. Ці категорії представляють різні рівні якісної характеристики, але точна різниця між ними не визначена;\n",
        "\n",
        "*   Нечислові мітки - категорії в порядкових даних зазвичай представлені нечисловими позначеннями або символами, такими як \"низький\", \"середній\" і \"високий\" для рівня задоволеності або \"малий\", \"середній\" і \"великий\" для розмірів футболок;\n",
        "\n",
        "* Немає фіксованих інтервалів - на відміну від інтервальних або відносних даних, де інтервали між значеннями мають послідовне значення і можуть бути виміряні, порядкові дані не мають фіксованих або рівномірних інтервалів. Іншими словами, ви не можете сказати, що різниця між \"низьким\" і \"середнім\" є такою ж, як різниця між \"середнім\" і \"високим\";\n",
        "\n",
        "* Обмеженість арифметичних операцій - арифметичні операції, такі як додавання та віднімання, не мають сенсу з порядковими даними, оскільки інтервали між категоріями не піддаються кількісному вимірюванню. Однак деякі базові операції, такі як підрахунок частот, обчислення медіани або знаходження мод, все ж можна виконати.\n",
        "\n",
        "Приклади порядкових даних: рівень освіти (наприклад, \"середня школа\", \"бакалаврат\", \"магістратура\"), оцінка задоволеності клієнтів (наприклад, \"дуже незадоволений\", \"дещо незадоволений\", \"нейтральний\", \"задоволений\", \"дуже задоволений\"), відповіді за шкалою Лайкерта (наприклад, \"повністю не згоден\", \"не згоден\", \"нейтрально\", \"згоден\", \"повністю згоден\")."
      ],
      "metadata": {
        "id": "WHfSBH4QhB0_"
      }
    },
    {
      "cell_type": "code",
      "source": [
        "import matplotlib.pyplot as plt\n",
        "\n",
        "education_levels = ['High School', 'Bachelor\\'s', 'Master\\'s', 'PhD']\n",
        "students = [400, 250, 100, 50]\n",
        "\n",
        "plt.bar(education_levels, students, color=['blue', 'green', 'yellow', 'red'])\n",
        "plt.title('Розподіл освітніх рівнів')\n",
        "plt.xlabel('Рівень освіти')\n",
        "plt.ylabel('Кількість студентів')\n",
        "plt.show()"
      ],
      "metadata": {
        "colab": {
          "base_uri": "https://localhost:8080/",
          "height": 472
        },
        "id": "5LtDQMJFeYHe",
        "outputId": "8406c4a6-53f0-4841-dc95-b818dac425c2"
      },
      "execution_count": 1,
      "outputs": [
        {
          "output_type": "display_data",
          "data": {
            "text/plain": [
              "<Figure size 640x480 with 1 Axes>"
            ],
            "image/png": "[encoded data removed]"
          },
          "metadata": {}
        }
      ]
    },
    {
      "cell_type": "markdown",
      "source": [
        "***Дані часових рядів (Time-Series Data)*** - це тип даних, які збираються або записуються протягом послідовності рівновіддалених часових інтервалів. Вони показують, як певна змінна або набір змінних змінюється з часом. Кожна точка даних у часовому ряді пов'язана з певною позначкою часу, яка може бути регулярною (наприклад, погодинною, щоденною, щомісячною) або нерегулярною (наприклад, позначки часу, записані через випадкові інтервали). Ключові характеристики даних часових рядів включають:\n",
        "\n",
        "* Часовий порядок - дані часового ряду впорядковані в хронологічному порядку, коли кожна наступна точка даних відбувається після попередньої. Цей часовий порядок є важливим для аналізу та моделювання закономірностей, що залежать від часу;\n",
        "\n",
        "* Рівномірні або нерегулярні інтервали - часові ряди можуть мати рівні інтервали, наприклад, щоденні ціни на акції, або нерегулярні інтервали, наприклад, клієнтські замовлення з часовою міткою. Вибір інтервалу залежить від характеру даних і контексту аналізу;\n",
        "\n",
        "* Сезонність і тренди - дані часових рядів часто демонструють сезонність, яка відноситься до повторюваних моделей або циклів, і тенденції, які представляють довгострокові зміни або рухи в даних. Розуміння цих закономірностей має вирішальне значення для прогнозування та прийняття рішень;\n",
        "\n",
        "* Шум і мінливість - часові ряди можуть містити шум або випадкові коливання, які ускладнюють розпізнавання основних закономірностей. Статистичні методи часто використовуються для фільтрації шуму та виявлення значущих закономірностей;\n",
        "\n",
        "Дані часових рядів широко використовуються в різних сферах, включаючи фінанси (ціни на акції, економічні показники), метеорологію (дані про погоду), епідеміологію (спалахи хвороб), виробництво (виробничі процеси) та інші. Вони цінні для прогнозування, відстеження тенденцій та розуміння динаміки процесів у часі."
      ],
      "metadata": {
        "id": "fgs9yAp5ec26"
      }
    },
    {
      "cell_type": "code",
      "source": [
        "import matplotlib.pyplot as plt\n",
        "import pandas as pd\n",
        "import numpy as np\n",
        "\n",
        "date_rng = pd.date_range(start='2024-01-01', end='2024-12-31', freq='M')\n",
        "df = pd.DataFrame(date_rng, columns=['date'])\n",
        "df['data'] = np.random.randint(0, 100, size=(len(date_rng)))\n",
        "\n",
        "plt.plot(df['date'], df['data'])\n",
        "plt.title('Вибірка даних часових рядів')\n",
        "plt.xlabel('Дата')\n",
        "plt.ylabel('Значення')\n",
        "plt.show()"
      ],
      "metadata": {
        "colab": {
          "base_uri": "https://localhost:8080/",
          "height": 507
        },
        "id": "Ubf0cogRg2Yt",
        "outputId": "2e3f4986-e51e-4a38-e087-cbeb859e0f72"
      },
      "execution_count": 2,
      "outputs": [
        {
          "output_type": "stream",
          "name": "stderr",
          "text": [
            "<ipython-input-2-89f52878ece4>:5: FutureWarning: 'M' is deprecated and will be removed in a future version, please use 'ME' instead.\n",
            "  date_rng = pd.date_range(start='2024-01-01', end='2024-12-31', freq='M')\n"
          ]
        },
        {
          "output_type": "display_data",
          "data": {
            "text/plain": [
              "<Figure size 640x480 with 1 Axes>"
            ],
            "image/png": "[encoded data removed]"
          },
          "metadata": {}
        }
      ]
    },
    {
      "cell_type": "markdown",
      "source": [
        "# ***2. Вирішення проблеми пропущених даних***\n",
        "\n"
      ],
      "metadata": {
        "id": "woSMY2-qiIEq"
      }
    },
    {
      "cell_type": "markdown",
      "source": [
        "У реальних додатках нерідко трапляються випадки, коли у зразках з різних причин пропущено одне або кілька значень. Можливо, у процес збирання даних вкралася помилка, деякі дані вимірювань виявилися неприйнятними, окремо взяті поля могли просто залишитися незаповненими, наприклад під час опитування. ***Ми зазвичай розглядаємо пропущені значення як пропуски в таблиці даних або як рядкові заповнювачі, такі як NaN (тобто not а number, не число).***\n",
        "\n",
        "На жаль, більшість обчислювальних інструментів нездатна обробляти такі пропущені значення або генерує непередбачувані результати, якщо їх просто проігнорувати. Тому, перш ніж продовжити подальший аналіз, вкрай важливо розібратися в цих пропущених значеннях."
      ],
      "metadata": {
        "id": "TXA_Unf3iONY"
      }
    },
    {
      "cell_type": "markdown",
      "source": [
        "# ***Чому дані відсутні у наборі даних?***"
      ],
      "metadata": {
        "id": "0gN1e2SkkVUV"
      }
    },
    {
      "cell_type": "markdown",
      "source": [
        "Існує багато причин, чому певні значення відсутні в даних. Причини відсутності даних у наборі даних впливають на підхід до обробки відсутніх даних. Тому необхідно розуміти, чому дані можуть бути відсутніми. Деякі з причин наведені нижче:"
      ],
      "metadata": {
        "_uuid": "f6e3b475-6ed4-4516-90d5-cc66de5ef97a",
        "_cell_guid": "b7d06892-b58a-4178-9df5-bf6d12b562fc",
        "formattedRanges": [],
        "cell_id": "d0b6f23d981f4ecbaa9b185e2c26ad0d",
        "deepnote_cell_type": "text-cell-p",
        "trusted": true,
        "id": "0QacKE2XinCv"
      }
    },
    {
      "cell_type": "markdown",
      "source": [
        "- Минулі дані можуть бути пошкоджені через неналежне обслуговування."
      ],
      "metadata": {
        "_uuid": "77407961-b37d-4e5e-a74a-b60f26c3c393",
        "_cell_guid": "8673c69a-a0a7-4ffa-adba-2e6ce28678d5",
        "is_collapsed": false,
        "formattedRanges": [],
        "deepnote_app_block_visible": false,
        "cell_id": "0af650e512044497b01503a3b6da2dec",
        "deepnote_cell_type": "text-cell-bullet",
        "trusted": true,
        "id": "Xt688KZ3inCw"
      }
    },
    {
      "cell_type": "markdown",
      "source": [
        "- Спостереження не реєструються для певних полів з певних причин. Можливий збій у записі значень через людський фактор."
      ],
      "metadata": {
        "_uuid": "04b29755-9e61-4f1e-a1b3-98311d3af984",
        "_cell_guid": "9b0d0619-3beb-4af1-bdcf-b9d01761793a",
        "is_collapsed": false,
        "formattedRanges": [],
        "deepnote_app_block_visible": false,
        "cell_id": "d726e9993663460fb6fa5843f7aed6a3",
        "deepnote_cell_type": "text-cell-bullet",
        "trusted": true,
        "id": "BI6eZfKjinCw"
      }
    },
    {
      "cell_type": "markdown",
      "source": [
        "- Користувач не надав значення навмисно"
      ],
      "metadata": {
        "_uuid": "e06adff5-ece3-4ed1-8849-e0f0ef6aef1b",
        "_cell_guid": "3d1e9202-0725-4c8f-9715-f79fbb158806",
        "is_collapsed": false,
        "formattedRanges": [],
        "deepnote_app_block_visible": false,
        "cell_id": "0a1b7961226b41749327afb91ac3bae5",
        "deepnote_cell_type": "text-cell-bullet",
        "trusted": true,
        "id": "z9HRMhyUinCw"
      }
    },
    {
      "cell_type": "markdown",
      "source": [
        "- Відсутність відповіді на питання: Це означає, що учасник відмовився відповідати."
      ],
      "metadata": {
        "_uuid": "6786519c-e915-4e11-9354-46ffdf4fec4c",
        "_cell_guid": "35456fa0-e466-4ff2-b936-178fd3e156f6",
        "is_collapsed": false,
        "formattedRanges": [],
        "deepnote_app_block_visible": false,
        "cell_id": "b003e039cb4b44f486025fe5ffa80655",
        "deepnote_cell_type": "text-cell-bullet",
        "trusted": true,
        "id": "R7mPlAFPinCw"
      }
    },
    {
      "cell_type": "markdown",
      "source": [
        "# ***Типи відсутніх значень***"
      ],
      "metadata": {
        "id": "k1775posnxP5"
      }
    },
    {
      "cell_type": "markdown",
      "source": [
        "**Виділяють три типи відсутніх даних:**\n",
        "\n",
        "* **Missing Completely At Random (MCAR)**;\n",
        "\n",
        "* **Missing At Random (MAR)**;\n",
        "\n",
        "* **Missing Not At Random (MNAR)**.\n",
        "\n",
        "***Missing Completely At Random.***\n",
        "\n",
        "У цьому випадку ймовірність відсутності даних однакова для всіх спостережень. У цьому випадку немає ніякого зв'язку між відсутніми даними та будь-якими іншими значеннями, що спостерігаються або не спостерігаються (дані, які не записані) в даному наборі даних. Тобто, відсутні значення повністю незалежні від інших даних. Немає жодної закономірності.\n",
        "\n",
        "У випадку даних MCAR значення може бути відсутнім через людську помилку, збій системи/обладнання, втрату зразка або незадовільні технічні умови під час запису значень. Наприклад, припустимо, що в бібліотеці є прострочені книги. Деякі значення прострочених книг у комп'ютерній системі відсутні. Причиною може бути людська помилка, наприклад, бібліотекар забув ввести значення. Отже, відсутні значення прострочених книг не пов'язані з будь-якою іншою змінною/даними в системі. Це не повинно бути припущенням, оскільки це рідкісний випадок. Перевага таких даних полягає в тому, що статистичний аналіз залишається неупередженим.\n",
        "\n",
        "***Missing At Random.***\n",
        "\n",
        "Дані MAR означають, що причину відсутності значень можна пояснити змінними, про які ви маєте повну інформацію, оскільки існує певний зв'язок між відсутніми даними та іншими значеннями/даними. У цьому випадку дані відсутні не для всіх спостережень. Вони відсутні лише в межах підвибірок даних, і існує певна закономірність у відсутніх значеннях.\n",
        "\n",
        "Наприклад, якщо ви перевірите дані опитування, ви можете виявити, що всі люди відповіли на питання \"Стать\", але значення \"Вік\" здебільшого відсутні для людей, які відповіли на питання \"Стать\" як \"жіноча\". (Причина в тому, що більшість жінок не хочуть розкривати свій вік).\n",
        "\n",
        "Отже, ймовірність відсутності даних залежить лише від спостережуваного значення або даних. У цьому випадку змінні \"Стать\" і \"Вік\" пов'язані між собою. Причину відсутності значень змінної \"Вік\" можна пояснити змінною \"Стать\", але не можна передбачити саме відсутнє значення.\n",
        "\n",
        "Припустимо, що в бібліотеці проводиться опитування щодо прострочених книг. В опитуванні запитується стать та кількість прострочених книг. Припустимо, що більшість жінок відповідають на опитування, а чоловіки відповідають рідше. Отже, відсутність даних можна пояснити іншим фактором, а саме статтю. У цьому випадку статистичний аналіз може призвести до упередженості.*** Отримати незміщену оцінку параметрів можна лише шляхом моделювання відсутніх даних.***\n",
        "\n",
        "***Missing Not At Random.***\n",
        "\n",
        "Пропущені значення залежать від неспостережуваних даних. Якщо у пропущених даних є певна структура/закономірність, а інші спостережувані дані не можуть її пояснити, то це вважається пропуском не випадковим (MNAR).\n",
        "\n",
        "Якщо відсутні дані не підпадають під MCAR або MAR, їх можна класифікувати як MNAR. Це може статися через небажання людей надавати необхідну інформацію. Певна група респондентів може не відповісти на деякі запитання в опитуванні.\n",
        "\n",
        "Наприклад, уявімо, що в опитуванні про бібліотеку запитують назву та кількість прострочених книг. Більшість людей, які не мають прострочених книг, скоріш за все, відповідатимуть на запитання. Люди, які мають більше прострочених книг, мають менше шансів відповісти на опитування. Отже, в цьому випадку пропущене значення кількості прострочених книг залежить від людей, які мають більше прострочених книг.\n",
        "\n",
        "Іншим прикладом є те, що люди з меншим доходом можуть відмовитися надавати певну інформацію в опитуванні або анкеті.\n",
        "\n",
        "У випадку MNAR статистичний аналіз також може призвести до упередженості."
      ],
      "metadata": {
        "id": "UO-fKkAKn1AZ"
      }
    },
    {
      "cell_type": "markdown",
      "source": [
        "https://www.kaggle.com/datasets/mathchi/diabetes-data-set/data"
      ],
      "metadata": {
        "id": "lNNhjzMfB45e"
      }
    },
    {
      "cell_type": "code",
      "source": [
        "import pandas as pd\n",
        "import numpy as np\n",
        "from google.colab import drive\n",
        "drive.mount('/content/drive')"
      ],
      "metadata": {
        "colab": {
          "base_uri": "https://localhost:8080/"
        },
        "id": "8Gezu0AxB9LI",
        "outputId": "7617f72c-f33a-4e13-cf48-5b83072882be"
      },
      "execution_count": 2,
      "outputs": [
        {
          "output_type": "stream",
          "name": "stdout",
          "text": [
            "Mounted at /content/drive\n"
          ]
        }
      ]
    },
    {
      "cell_type": "markdown",
      "source": [
        "#**Набір даних для демонстрації проблеми пропущених даних**"
      ],
      "metadata": {
        "id": "N6_qmzojdNa4"
      }
    },
    {
      "cell_type": "markdown",
      "source": [
        "\n",
        "\n",
        "**Context**\n",
        "\n",
        "This dataset is originally from the National Institute of Diabetes and Digestive and Kidney Diseases. The objective is to predict based on diagnostic measurements whether a patient has diabetes.\n",
        "\n",
        "Content\n",
        "Several constraints were placed on the selection of these instances from a larger database. In particular, all patients here are females at least 21 years old of Pima Indian heritage.\n",
        "\n"
      ],
      "metadata": {
        "id": "yNProH0CDhsV"
      }
    },
    {
      "cell_type": "markdown",
      "source": [
        "**Pregnancies**: Number of times pregnant\n",
        "\n",
        "**Glucose**: Plasma glucose concentration a 2 hours in an oral glucose\n",
        "tolerance test\n",
        "\n",
        "**BloodPressure**: Diastolic blood pressure (mm Hg)\n",
        "\n",
        "**SkinThickness**: Triceps skin fold thickness (mm)\n",
        "\n",
        "**Insulin**: 2-Hour serum insulin (mu U/ml)\n",
        "\n",
        "**BMI**: Body mass index (weight in kg/(height in m)^2)\n",
        "\n",
        "**DiabetesPedigreeFunction**: Diabetes pedigree function\n",
        "\n",
        "**Age**: Age (years)\n",
        "\n",
        "**Outcome**: Class variable (0 or 1)"
      ],
      "metadata": {
        "id": "dTme1II3C4m4"
      }
    },
    {
      "cell_type": "markdown",
      "source": [
        "У якості прикладу розглянемо відомий набір даних \"Pima Indians Diabetes Database\" або просто \"Diabetes Dataset\".\n",
        "\n",
        "Набір даних Diabetes Dataset передбачає прогнозування початку діабету протягом 5 років за заданими медичними даними.\n",
        "\n",
        "Це бінарна (2-класова) задача класифікації. Кількість спостережень для кожного класу не збалансована. Є 768 спостережень з 8 вхідними змінними та 1 вихідною змінною. Імена змінних наступні:\n",
        "\n",
        "* ***Кількість вагітностей***.\n",
        "\n",
        "* **Концентрація глюкози в плазмі через 2 години після перорального тесту на толерантність до глюкози**\n",
        "\n",
        "* **Діастолічний артеріальний тиск (мм рт.ст.)**\n",
        "\n",
        "* **Товщина шкірної складки трицепса (мм)**\n",
        "\n",
        "* **2-годинний інсулін сироватки крові (мОд/мл).**\n",
        "\n",
        "* **Індекс маси тіла (вага в кг/(зріст в м)^2).**\n",
        "\n",
        "* **Функція спадковості по цукровому діабету.**\n",
        "\n",
        "* **Вік (роки).**\n",
        "\n",
        "* ***Змінна класу (0 або 1).***\n",
        "\n",
        "Базові показники прогнозування найбільш поширеного класу мають точність класифікації приблизно 65%. ***Найкращі результати досягають точності класифікації приблизно 77%.***\n",
        "\n",
        "Відомо, що в цьому наборі даних є пропущені значення. Зокрема, **відсутні спостереження для деяких стовпчиків, які позначені нульовим значенням.** Ми можемо підтвердити це визначенням цих стовпчиків і знаннями з предметної області, що нульове значення є неприпустимим для цих показників, наприклад, нульове значення для індексу маси тіла або артеріального тиску є неприпустимим."
      ],
      "metadata": {
        "id": "iHdU1DW9rWzd"
      }
    },
    {
      "cell_type": "code",
      "source": [
        "file_path = '/content/drive/My Drive/Colab Notebooks/Colab/Diabetes/diabetes.csv'\n",
        "df = pd.read_csv(file_path)\n",
        "\n",
        "df"
      ],
      "metadata": {
        "colab": {
          "base_uri": "https://localhost:8080/",
          "height": 423
        },
        "id": "DsP8I1EICV2E",
        "outputId": "2a135c63-5639-4684-e893-397409d7ea1c"
      },
      "execution_count": 3,
      "outputs": [
        {
          "output_type": "execute_result",
          "data": {
            "text/plain": [
              "     Pregnancies  Glucose  BloodPressure  SkinThickness  Insulin   BMI  \\\n",
              "0              6      148             72             35        0  33.6   \n",
              "1              1       85             66             29        0  26.6   \n",
              "2              8      183             64              0        0  23.3   \n",
              "3              1       89             66             23       94  28.1   \n",
              "4              0      137             40             35      168  43.1   \n",
              "..           ...      ...            ...            ...      ...   ...   \n",
              "763           10      101             76             48      180  32.9   \n",
              "764            2      122             70             27        0  36.8   \n",
              "765            5      121             72             23      112  26.2   \n",
              "766            1      126             60              0        0  30.1   \n",
              "767            1       93             70             31        0  30.4   \n",
              "\n",
              "     DiabetesPedigreeFunction  Age  Outcome  \n",
              "0                       0.627   50        1  \n",
              "1                       0.351   31        0  \n",
              "2                       0.672   32        1  \n",
              "3                       0.167   21        0  \n",
              "4                       2.288   33        1  \n",
              "..                        ...  ...      ...  \n",
              "763                     0.171   63        0  \n",
              "764                     0.340   27        0  \n",
              "765                     0.245   30        0  \n",
              "766                     0.349   47        1  \n",
              "767                     0.315   23        0  \n",
              "\n",
              "[768 rows x 9 columns]"
            ],
            "text/html": [
              "\n",
              "  <div id=\"df-ba64c2c8-cae3-4b37-b888-16cfb853ba6d\" class=\"colab-df-container\">\n",
              "    <div>\n",
              "<style scoped>\n",
              "    .dataframe tbody tr th:only-of-type {\n",
              "        vertical-align: middle;\n",
              "    }\n",
              "\n",
              "    .dataframe tbody tr th {\n",
              "        vertical-align: top;\n",
              "    }\n",
              "\n",
              "    .dataframe thead th {\n",
              "        text-align: right;\n",
              "    }\n",
              "</style>\n",
              "<table border=\"1\" class=\"dataframe\">\n",
              "  <thead>\n",
              "    <tr style=\"text-align: right;\">\n",
              "      <th></th>\n",
              "      <th>Pregnancies</th>\n",
              "      <th>Glucose</th>\n",
              "      <th>BloodPressure</th>\n",
              "      <th>SkinThickness</th>\n",
              "      <th>Insulin</th>\n",
              "      <th>BMI</th>\n",
              "      <th>DiabetesPedigreeFunction</th>\n",
              "      <th>Age</th>\n",
              "      <th>Outcome</th>\n",
              "    </tr>\n",
              "  </thead>\n",
              "  <tbody>\n",
              "    <tr>\n",
              "      <th>0</th>\n",
              "      <td>6</td>\n",
              "      <td>148</td>\n",
              "      <td>72</td>\n",
              "      <td>35</td>\n",
              "      <td>0</td>\n",
              "      <td>33.6</td>\n",
              "      <td>0.627</td>\n",
              "      <td>50</td>\n",
              "      <td>1</td>\n",
              "    </tr>\n",
              "    <tr>\n",
              "      <th>1</th>\n",
              "      <td>1</td>\n",
              "      <td>85</td>\n",
              "      <td>66</td>\n",
              "      <td>29</td>\n",
              "      <td>0</td>\n",
              "      <td>26.6</td>\n",
              "      <td>0.351</td>\n",
              "      <td>31</td>\n",
              "      <td>0</td>\n",
              "    </tr>\n",
              "    <tr>\n",
              "      <th>2</th>\n",
              "      <td>8</td>\n",
              "      <td>183</td>\n",
              "      <td>64</td>\n",
              "      <td>0</td>\n",
              "      <td>0</td>\n",
              "      <td>23.3</td>\n",
              "      <td>0.672</td>\n",
              "      <td>32</td>\n",
              "      <td>1</td>\n",
              "    </tr>\n",
              "    <tr>\n",
              "      <th>3</th>\n",
              "      <td>1</td>\n",
              "      <td>89</td>\n",
              "      <td>66</td>\n",
              "      <td>23</td>\n",
              "      <td>94</td>\n",
              "      <td>28.1</td>\n",
              "      <td>0.167</td>\n",
              "      <td>21</td>\n",
              "      <td>0</td>\n",
              "    </tr>\n",
              "    <tr>\n",
              "      <th>4</th>\n",
              "      <td>0</td>\n",
              "      <td>137</td>\n",
              "      <td>40</td>\n",
              "      <td>35</td>\n",
              "      <td>168</td>\n",
              "      <td>43.1</td>\n",
              "      <td>2.288</td>\n",
              "      <td>33</td>\n",
              "      <td>1</td>\n",
              "    </tr>\n",
              "    <tr>\n",
              "      <th>...</th>\n",
              "      <td>...</td>\n",
              "      <td>...</td>\n",
              "      <td>...</td>\n",
              "      <td>...</td>\n",
              "      <td>...</td>\n",
              "      <td>...</td>\n",
              "      <td>...</td>\n",
              "      <td>...</td>\n",
              "      <td>...</td>\n",
              "    </tr>\n",
              "    <tr>\n",
              "      <th>763</th>\n",
              "      <td>10</td>\n",
              "      <td>101</td>\n",
              "      <td>76</td>\n",
              "      <td>48</td>\n",
              "      <td>180</td>\n",
              "      <td>32.9</td>\n",
              "      <td>0.171</td>\n",
              "      <td>63</td>\n",
              "      <td>0</td>\n",
              "    </tr>\n",
              "    <tr>\n",
              "      <th>764</th>\n",
              "      <td>2</td>\n",
              "      <td>122</td>\n",
              "      <td>70</td>\n",
              "      <td>27</td>\n",
              "      <td>0</td>\n",
              "      <td>36.8</td>\n",
              "      <td>0.340</td>\n",
              "      <td>27</td>\n",
              "      <td>0</td>\n",
              "    </tr>\n",
              "    <tr>\n",
              "      <th>765</th>\n",
              "      <td>5</td>\n",
              "      <td>121</td>\n",
              "      <td>72</td>\n",
              "      <td>23</td>\n",
              "      <td>112</td>\n",
              "      <td>26.2</td>\n",
              "      <td>0.245</td>\n",
              "      <td>30</td>\n",
              "      <td>0</td>\n",
              "    </tr>\n",
              "    <tr>\n",
              "      <th>766</th>\n",
              "      <td>1</td>\n",
              "      <td>126</td>\n",
              "      <td>60</td>\n",
              "      <td>0</td>\n",
              "      <td>0</td>\n",
              "      <td>30.1</td>\n",
              "      <td>0.349</td>\n",
              "      <td>47</td>\n",
              "      <td>1</td>\n",
              "    </tr>\n",
              "    <tr>\n",
              "      <th>767</th>\n",
              "      <td>1</td>\n",
              "      <td>93</td>\n",
              "      <td>70</td>\n",
              "      <td>31</td>\n",
              "      <td>0</td>\n",
              "      <td>30.4</td>\n",
              "      <td>0.315</td>\n",
              "      <td>23</td>\n",
              "      <td>0</td>\n",
              "    </tr>\n",
              "  </tbody>\n",
              "</table>\n",
              "<p>768 rows × 9 columns</p>\n",
              "</div>\n",
              "    <div class=\"colab-df-buttons\">\n",
              "\n",
              "  <div class=\"colab-df-container\">\n",
              "    <button class=\"colab-df-convert\" onclick=\"convertToInteractive('df-ba64c2c8-cae3-4b37-b888-16cfb853ba6d')\"\n",
              "            title=\"Convert this dataframe to an interactive table.\"\n",
              "            style=\"display:none;\">\n",
              "\n",
              "  <svg xmlns=\"http://www.w3.org/2000/svg\" height=\"24px\" viewBox=\"0 -960 960 960\">\n",
              "    <path d=\"M120-120v-720h720v720H120Zm60-500h600v-160H180v160Zm220 220h160v-160H400v160Zm0 220h160v-160H400v160ZM180-400h160v-160H180v160Zm440 0h160v-160H620v160ZM180-180h160v-160H180v160Zm440 0h160v-160H620v160Z\"/>\n",
              "  </svg>\n",
              "    </button>\n",
              "\n",
              "  <style>\n",
              "    .colab-df-container {\n",
              "      display:flex;\n",
              "      gap: 12px;\n",
              "    }\n",
              "\n",
              "    .colab-df-convert {\n",
              "      background-color: #E8F0FE;\n",
              "      border: none;\n",
              "      border-radius: 50%;\n",
              "      cursor: pointer;\n",
              "      display: none;\n",
              "      fill: #1967D2;\n",
              "      height: 32px;\n",
              "      padding: 0 0 0 0;\n",
              "      width: 32px;\n",
              "    }\n",
              "\n",
              "    .colab-df-convert:hover {\n",
              "      background-color: #E2EBFA;\n",
              "      box-shadow: 0px 1px 2px rgba(60, 64, 67, 0.3), 0px 1px 3px 1px rgba(60, 64, 67, 0.15);\n",
              "      fill: #174EA6;\n",
              "    }\n",
              "\n",
              "    .colab-df-buttons div {\n",
              "      margin-bottom: 4px;\n",
              "    }\n",
              "\n",
              "    [theme=dark] .colab-df-convert {\n",
              "      background-color: #3B4455;\n",
              "      fill: #D2E3FC;\n",
              "    }\n",
              "\n",
              "    [theme=dark] .colab-df-convert:hover {\n",
              "      background-color: #434B5C;\n",
              "      box-shadow: 0px 1px 3px 1px rgba(0, 0, 0, 0.15);\n",
              "      filter: drop-shadow(0px 1px 2px rgba(0, 0, 0, 0.3));\n",
              "      fill: #FFFFFF;\n",
              "    }\n",
              "  </style>\n",
              "\n",
              "    <script>\n",
              "      const buttonEl =\n",
              "        document.querySelector('#df-ba64c2c8-cae3-4b37-b888-16cfb853ba6d button.colab-df-convert');\n",
              "      buttonEl.style.display =\n",
              "        google.colab.kernel.accessAllowed ? 'block' : 'none';\n",
              "\n",
              "      async function convertToInteractive(key) {\n",
              "        const element = document.querySelector('#df-ba64c2c8-cae3-4b37-b888-16cfb853ba6d');\n",
              "        const dataTable =\n",
              "          await google.colab.kernel.invokeFunction('convertToInteractive',\n",
              "                                                    [key], {});\n",
              "        if (!dataTable) return;\n",
              "\n",
              "        const docLinkHtml = 'Like what you see? Visit the ' +\n",
              "          '<a target=\"_blank\" href=https://colab.research.google.com/notebooks/data_table.ipynb>data table notebook</a>'\n",
              "          + ' to learn more about interactive tables.';\n",
              "        element.innerHTML = '';\n",
              "        dataTable['output_type'] = 'display_data';\n",
              "        await google.colab.output.renderOutput(dataTable, element);\n",
              "        const docLink = document.createElement('div');\n",
              "        docLink.innerHTML = docLinkHtml;\n",
              "        element.appendChild(docLink);\n",
              "      }\n",
              "    </script>\n",
              "  </div>\n",
              "\n",
              "\n",
              "<div id=\"df-15ebf50c-9a40-401d-a0fe-9bd7d253ce59\">\n",
              "  <button class=\"colab-df-quickchart\" onclick=\"quickchart('df-15ebf50c-9a40-401d-a0fe-9bd7d253ce59')\"\n",
              "            title=\"Suggest charts\"\n",
              "            style=\"display:none;\">\n",
              "\n",
              "<svg xmlns=\"http://www.w3.org/2000/svg\" height=\"24px\"viewBox=\"0 0 24 24\"\n",
              "     width=\"24px\">\n",
              "    <g>\n",
              "        <path d=\"M19 3H5c-1.1 0-2 .9-2 2v14c0 1.1.9 2 2 2h14c1.1 0 2-.9 2-2V5c0-1.1-.9-2-2-2zM9 17H7v-7h2v7zm4 0h-2V7h2v10zm4 0h-2v-4h2v4z\"/>\n",
              "    </g>\n",
              "</svg>\n",
              "  </button>\n",
              "\n",
              "<style>\n",
              "  .colab-df-quickchart {\n",
              "      --bg-color: #E8F0FE;\n",
              "      --fill-color: #1967D2;\n",
              "      --hover-bg-color: #E2EBFA;\n",
              "      --hover-fill-color: #174EA6;\n",
              "      --disabled-fill-color: #AAA;\n",
              "      --disabled-bg-color: #DDD;\n",
              "  }\n",
              "\n",
              "  [theme=dark] .colab-df-quickchart {\n",
              "      --bg-color: #3B4455;\n",
              "      --fill-color: #D2E3FC;\n",
              "      --hover-bg-color: #434B5C;\n",
              "      --hover-fill-color: #FFFFFF;\n",
              "      --disabled-bg-color: #3B4455;\n",
              "      --disabled-fill-color: #666;\n",
              "  }\n",
              "\n",
              "  .colab-df-quickchart {\n",
              "    background-color: var(--bg-color);\n",
              "    border: none;\n",
              "    border-radius: 50%;\n",
              "    cursor: pointer;\n",
              "    display: none;\n",
              "    fill: var(--fill-color);\n",
              "    height: 32px;\n",
              "    padding: 0;\n",
              "    width: 32px;\n",
              "  }\n",
              "\n",
              "  .colab-df-quickchart:hover {\n",
              "    background-color: var(--hover-bg-color);\n",
              "    box-shadow: 0 1px 2px rgba(60, 64, 67, 0.3), 0 1px 3px 1px rgba(60, 64, 67, 0.15);\n",
              "    fill: var(--button-hover-fill-color);\n",
              "  }\n",
              "\n",
              "  .colab-df-quickchart-complete:disabled,\n",
              "  .colab-df-quickchart-complete:disabled:hover {\n",
              "    background-color: var(--disabled-bg-color);\n",
              "    fill: var(--disabled-fill-color);\n",
              "    box-shadow: none;\n",
              "  }\n",
              "\n",
              "  .colab-df-spinner {\n",
              "    border: 2px solid var(--fill-color);\n",
              "    border-color: transparent;\n",
              "    border-bottom-color: var(--fill-color);\n",
              "    animation:\n",
              "      spin 1s steps(1) infinite;\n",
              "  }\n",
              "\n",
              "  @keyframes spin {\n",
              "    0% {\n",
              "      border-color: transparent;\n",
              "      border-bottom-color: var(--fill-color);\n",
              "      border-left-color: var(--fill-color);\n",
              "    }\n",
              "    20% {\n",
              "      border-color: transparent;\n",
              "      border-left-color: var(--fill-color);\n",
              "      border-top-color: var(--fill-color);\n",
              "    }\n",
              "    30% {\n",
              "      border-color: transparent;\n",
              "      border-left-color: var(--fill-color);\n",
              "      border-top-color: var(--fill-color);\n",
              "      border-right-color: var(--fill-color);\n",
              "    }\n",
              "    40% {\n",
              "      border-color: transparent;\n",
              "      border-right-color: var(--fill-color);\n",
              "      border-top-color: var(--fill-color);\n",
              "    }\n",
              "    60% {\n",
              "      border-color: transparent;\n",
              "      border-right-color: var(--fill-color);\n",
              "    }\n",
              "    80% {\n",
              "      border-color: transparent;\n",
              "      border-right-color: var(--fill-color);\n",
              "      border-bottom-color: var(--fill-color);\n",
              "    }\n",
              "    90% {\n",
              "      border-color: transparent;\n",
              "      border-bottom-color: var(--fill-color);\n",
              "    }\n",
              "  }\n",
              "</style>\n",
              "\n",
              "  <script>\n",
              "    async function quickchart(key) {\n",
              "      const quickchartButtonEl =\n",
              "        document.querySelector('#' + key + ' button');\n",
              "      quickchartButtonEl.disabled = true;  // To prevent multiple clicks.\n",
              "      quickchartButtonEl.classList.add('colab-df-spinner');\n",
              "      try {\n",
              "        const charts = await google.colab.kernel.invokeFunction(\n",
              "            'suggestCharts', [key], {});\n",
              "      } catch (error) {\n",
              "        console.error('Error during call to suggestCharts:', error);\n",
              "      }\n",
              "      quickchartButtonEl.classList.remove('colab-df-spinner');\n",
              "      quickchartButtonEl.classList.add('colab-df-quickchart-complete');\n",
              "    }\n",
              "    (() => {\n",
              "      let quickchartButtonEl =\n",
              "        document.querySelector('#df-15ebf50c-9a40-401d-a0fe-9bd7d253ce59 button');\n",
              "      quickchartButtonEl.style.display =\n",
              "        google.colab.kernel.accessAllowed ? 'block' : 'none';\n",
              "    })();\n",
              "  </script>\n",
              "</div>\n",
              "    </div>\n",
              "  </div>\n"
            ],
            "application/vnd.google.colaboratory.intrinsic+json": {
              "type": "dataframe",
              "variable_name": "df",
              "summary": "{\n  \"name\": \"df\",\n  \"rows\": 768,\n  \"fields\": [\n    {\n      \"column\": \"Pregnancies\",\n      \"properties\": {\n        \"dtype\": \"number\",\n        \"std\": 3,\n        \"min\": 0,\n        \"max\": 17,\n        \"num_unique_values\": 17,\n        \"samples\": [\n          6,\n          1,\n          3\n        ],\n        \"semantic_type\": \"\",\n        \"description\": \"\"\n      }\n    },\n    {\n      \"column\": \"Glucose\",\n      \"properties\": {\n        \"dtype\": \"number\",\n        \"std\": 31,\n        \"min\": 0,\n        \"max\": 199,\n        \"num_unique_values\": 136,\n        \"samples\": [\n          151,\n          101,\n          112\n        ],\n        \"semantic_type\": \"\",\n        \"description\": \"\"\n      }\n    },\n    {\n      \"column\": \"BloodPressure\",\n      \"properties\": {\n        \"dtype\": \"number\",\n        \"std\": 19,\n        \"min\": 0,\n        \"max\": 122,\n        \"num_unique_values\": 47,\n        \"samples\": [\n          86,\n          46,\n          85\n        ],\n        \"semantic_type\": \"\",\n        \"description\": \"\"\n      }\n    },\n    {\n      \"column\": \"SkinThickness\",\n      \"properties\": {\n        \"dtype\": \"number\",\n        \"std\": 15,\n        \"min\": 0,\n        \"max\": 99,\n        \"num_unique_values\": 51,\n        \"samples\": [\n          7,\n          12,\n          48\n        ],\n        \"semantic_type\": \"\",\n        \"description\": \"\"\n      }\n    },\n    {\n      \"column\": \"Insulin\",\n      \"properties\": {\n        \"dtype\": \"number\",\n        \"std\": 115,\n        \"min\": 0,\n        \"max\": 846,\n        \"num_unique_values\": 186,\n        \"samples\": [\n          52,\n          41,\n          183\n        ],\n        \"semantic_type\": \"\",\n        \"description\": \"\"\n      }\n    },\n    {\n      \"column\": \"BMI\",\n      \"properties\": {\n        \"dtype\": \"number\",\n        \"std\": 7.8841603203754405,\n        \"min\": 0.0,\n        \"max\": 67.1,\n        \"num_unique_values\": 248,\n        \"samples\": [\n          19.9,\n          31.0,\n          38.1\n        ],\n        \"semantic_type\": \"\",\n        \"description\": \"\"\n      }\n    },\n    {\n      \"column\": \"DiabetesPedigreeFunction\",\n      \"properties\": {\n        \"dtype\": \"number\",\n        \"std\": 0.33132859501277484,\n        \"min\": 0.078,\n        \"max\": 2.42,\n        \"num_unique_values\": 517,\n        \"samples\": [\n          1.731,\n          0.426,\n          0.138\n        ],\n        \"semantic_type\": \"\",\n        \"description\": \"\"\n      }\n    },\n    {\n      \"column\": \"Age\",\n      \"properties\": {\n        \"dtype\": \"number\",\n        \"std\": 11,\n        \"min\": 21,\n        \"max\": 81,\n        \"num_unique_values\": 52,\n        \"samples\": [\n          60,\n          47,\n          72\n        ],\n        \"semantic_type\": \"\",\n        \"description\": \"\"\n      }\n    },\n    {\n      \"column\": \"Outcome\",\n      \"properties\": {\n        \"dtype\": \"number\",\n        \"std\": 0,\n        \"min\": 0,\n        \"max\": 1,\n        \"num_unique_values\": 2,\n        \"samples\": [\n          0,\n          1\n        ],\n        \"semantic_type\": \"\",\n        \"description\": \"\"\n      }\n    }\n  ]\n}"
            }
          },
          "metadata": {},
          "execution_count": 3
        }
      ]
    },
    {
      "cell_type": "code",
      "source": [
        "df.shape"
      ],
      "metadata": {
        "colab": {
          "base_uri": "https://localhost:8080/"
        },
        "id": "clHrVfYHEEYF",
        "outputId": "9b7e79ed-e792-47dc-a7e1-57bf81a43d0e"
      },
      "execution_count": 4,
      "outputs": [
        {
          "output_type": "execute_result",
          "data": {
            "text/plain": [
              "(768, 9)"
            ]
          },
          "metadata": {},
          "execution_count": 4
        }
      ]
    },
    {
      "cell_type": "markdown",
      "source": [
        "# ***Позначення відсутніх значень***"
      ],
      "metadata": {
        "id": "R_bEEBLStWhp"
      }
    },
    {
      "cell_type": "markdown",
      "source": [
        "Більшість даних мають пропущені значення, і ймовірність пропущених значень зростає зі збільшенням розміру набору даних.\n",
        "\n",
        "Відсутність даних не є рідкістю в реальних наборах даних. Насправді, ймовірність того, що хоча б одна точка даних буде відсутня, зростає зі збільшенням розміру набору даних.\n",
        "\n",
        "Завантажимо датасет за допомогою бібліотеки Pandas та роздрукуємо зведену статистику за кожним атрибутом."
      ],
      "metadata": {
        "id": "VSRxrbUutbOh"
      }
    },
    {
      "cell_type": "code",
      "source": [
        "df.describe()"
      ],
      "metadata": {
        "colab": {
          "base_uri": "https://localhost:8080/",
          "height": 300
        },
        "id": "nBimL01vGWt6",
        "outputId": "65d7a6d8-a329-4efa-a798-466c5e7722b3"
      },
      "execution_count": 5,
      "outputs": [
        {
          "output_type": "execute_result",
          "data": {
            "text/plain": [
              "       Pregnancies     Glucose  BloodPressure  SkinThickness     Insulin  \\\n",
              "count   768.000000  768.000000     768.000000     768.000000  768.000000   \n",
              "mean      3.845052  120.894531      69.105469      20.536458   79.799479   \n",
              "std       3.369578   31.972618      19.355807      15.952218  115.244002   \n",
              "min       0.000000    0.000000       0.000000       0.000000    0.000000   \n",
              "25%       1.000000   99.000000      62.000000       0.000000    0.000000   \n",
              "50%       3.000000  117.000000      72.000000      23.000000   30.500000   \n",
              "75%       6.000000  140.250000      80.000000      32.000000  127.250000   \n",
              "max      17.000000  199.000000     122.000000      99.000000  846.000000   \n",
              "\n",
              "              BMI  DiabetesPedigreeFunction         Age     Outcome  \n",
              "count  768.000000                768.000000  768.000000  768.000000  \n",
              "mean    31.992578                  0.471876   33.240885    0.348958  \n",
              "std      7.884160                  0.331329   11.760232    0.476951  \n",
              "min      0.000000                  0.078000   21.000000    0.000000  \n",
              "25%     27.300000                  0.243750   24.000000    0.000000  \n",
              "50%     32.000000                  0.372500   29.000000    0.000000  \n",
              "75%     36.600000                  0.626250   41.000000    1.000000  \n",
              "max     67.100000                  2.420000   81.000000    1.000000  "
            ],
            "text/html": [
              "\n",
              "  <div id=\"df-8c4062bd-7c83-449e-b3a9-7aee9424d23d\" class=\"colab-df-container\">\n",
              "    <div>\n",
              "<style scoped>\n",
              "    .dataframe tbody tr th:only-of-type {\n",
              "        vertical-align: middle;\n",
              "    }\n",
              "\n",
              "    .dataframe tbody tr th {\n",
              "        vertical-align: top;\n",
              "    }\n",
              "\n",
              "    .dataframe thead th {\n",
              "        text-align: right;\n",
              "    }\n",
              "</style>\n",
              "<table border=\"1\" class=\"dataframe\">\n",
              "  <thead>\n",
              "    <tr style=\"text-align: right;\">\n",
              "      <th></th>\n",
              "      <th>Pregnancies</th>\n",
              "      <th>Glucose</th>\n",
              "      <th>BloodPressure</th>\n",
              "      <th>SkinThickness</th>\n",
              "      <th>Insulin</th>\n",
              "      <th>BMI</th>\n",
              "      <th>DiabetesPedigreeFunction</th>\n",
              "      <th>Age</th>\n",
              "      <th>Outcome</th>\n",
              "    </tr>\n",
              "  </thead>\n",
              "  <tbody>\n",
              "    <tr>\n",
              "      <th>count</th>\n",
              "      <td>768.000000</td>\n",
              "      <td>768.000000</td>\n",
              "      <td>768.000000</td>\n",
              "      <td>768.000000</td>\n",
              "      <td>768.000000</td>\n",
              "      <td>768.000000</td>\n",
              "      <td>768.000000</td>\n",
              "      <td>768.000000</td>\n",
              "      <td>768.000000</td>\n",
              "    </tr>\n",
              "    <tr>\n",
              "      <th>mean</th>\n",
              "      <td>3.845052</td>\n",
              "      <td>120.894531</td>\n",
              "      <td>69.105469</td>\n",
              "      <td>20.536458</td>\n",
              "      <td>79.799479</td>\n",
              "      <td>31.992578</td>\n",
              "      <td>0.471876</td>\n",
              "      <td>33.240885</td>\n",
              "      <td>0.348958</td>\n",
              "    </tr>\n",
              "    <tr>\n",
              "      <th>std</th>\n",
              "      <td>3.369578</td>\n",
              "      <td>31.972618</td>\n",
              "      <td>19.355807</td>\n",
              "      <td>15.952218</td>\n",
              "      <td>115.244002</td>\n",
              "      <td>7.884160</td>\n",
              "      <td>0.331329</td>\n",
              "      <td>11.760232</td>\n",
              "      <td>0.476951</td>\n",
              "    </tr>\n",
              "    <tr>\n",
              "      <th>min</th>\n",
              "      <td>0.000000</td>\n",
              "      <td>0.000000</td>\n",
              "      <td>0.000000</td>\n",
              "      <td>0.000000</td>\n",
              "      <td>0.000000</td>\n",
              "      <td>0.000000</td>\n",
              "      <td>0.078000</td>\n",
              "      <td>21.000000</td>\n",
              "      <td>0.000000</td>\n",
              "    </tr>\n",
              "    <tr>\n",
              "      <th>25%</th>\n",
              "      <td>1.000000</td>\n",
              "      <td>99.000000</td>\n",
              "      <td>62.000000</td>\n",
              "      <td>0.000000</td>\n",
              "      <td>0.000000</td>\n",
              "      <td>27.300000</td>\n",
              "      <td>0.243750</td>\n",
              "      <td>24.000000</td>\n",
              "      <td>0.000000</td>\n",
              "    </tr>\n",
              "    <tr>\n",
              "      <th>50%</th>\n",
              "      <td>3.000000</td>\n",
              "      <td>117.000000</td>\n",
              "      <td>72.000000</td>\n",
              "      <td>23.000000</td>\n",
              "      <td>30.500000</td>\n",
              "      <td>32.000000</td>\n",
              "      <td>0.372500</td>\n",
              "      <td>29.000000</td>\n",
              "      <td>0.000000</td>\n",
              "    </tr>\n",
              "    <tr>\n",
              "      <th>75%</th>\n",
              "      <td>6.000000</td>\n",
              "      <td>140.250000</td>\n",
              "      <td>80.000000</td>\n",
              "      <td>32.000000</td>\n",
              "      <td>127.250000</td>\n",
              "      <td>36.600000</td>\n",
              "      <td>0.626250</td>\n",
              "      <td>41.000000</td>\n",
              "      <td>1.000000</td>\n",
              "    </tr>\n",
              "    <tr>\n",
              "      <th>max</th>\n",
              "      <td>17.000000</td>\n",
              "      <td>199.000000</td>\n",
              "      <td>122.000000</td>\n",
              "      <td>99.000000</td>\n",
              "      <td>846.000000</td>\n",
              "      <td>67.100000</td>\n",
              "      <td>2.420000</td>\n",
              "      <td>81.000000</td>\n",
              "      <td>1.000000</td>\n",
              "    </tr>\n",
              "  </tbody>\n",
              "</table>\n",
              "</div>\n",
              "    <div class=\"colab-df-buttons\">\n",
              "\n",
              "  <div class=\"colab-df-container\">\n",
              "    <button class=\"colab-df-convert\" onclick=\"convertToInteractive('df-8c4062bd-7c83-449e-b3a9-7aee9424d23d')\"\n",
              "            title=\"Convert this dataframe to an interactive table.\"\n",
              "            style=\"display:none;\">\n",
              "\n",
              "  <svg xmlns=\"http://www.w3.org/2000/svg\" height=\"24px\" viewBox=\"0 -960 960 960\">\n",
              "    <path d=\"M120-120v-720h720v720H120Zm60-500h600v-160H180v160Zm220 220h160v-160H400v160Zm0 220h160v-160H400v160ZM180-400h160v-160H180v160Zm440 0h160v-160H620v160ZM180-180h160v-160H180v160Zm440 0h160v-160H620v160Z\"/>\n",
              "  </svg>\n",
              "    </button>\n",
              "\n",
              "  <style>\n",
              "    .colab-df-container {\n",
              "      display:flex;\n",
              "      gap: 12px;\n",
              "    }\n",
              "\n",
              "    .colab-df-convert {\n",
              "      background-color: #E8F0FE;\n",
              "      border: none;\n",
              "      border-radius: 50%;\n",
              "      cursor: pointer;\n",
              "      display: none;\n",
              "      fill: #1967D2;\n",
              "      height: 32px;\n",
              "      padding: 0 0 0 0;\n",
              "      width: 32px;\n",
              "    }\n",
              "\n",
              "    .colab-df-convert:hover {\n",
              "      background-color: #E2EBFA;\n",
              "      box-shadow: 0px 1px 2px rgba(60, 64, 67, 0.3), 0px 1px 3px 1px rgba(60, 64, 67, 0.15);\n",
              "      fill: #174EA6;\n",
              "    }\n",
              "\n",
              "    .colab-df-buttons div {\n",
              "      margin-bottom: 4px;\n",
              "    }\n",
              "\n",
              "    [theme=dark] .colab-df-convert {\n",
              "      background-color: #3B4455;\n",
              "      fill: #D2E3FC;\n",
              "    }\n",
              "\n",
              "    [theme=dark] .colab-df-convert:hover {\n",
              "      background-color: #434B5C;\n",
              "      box-shadow: 0px 1px 3px 1px rgba(0, 0, 0, 0.15);\n",
              "      filter: drop-shadow(0px 1px 2px rgba(0, 0, 0, 0.3));\n",
              "      fill: #FFFFFF;\n",
              "    }\n",
              "  </style>\n",
              "\n",
              "    <script>\n",
              "      const buttonEl =\n",
              "        document.querySelector('#df-8c4062bd-7c83-449e-b3a9-7aee9424d23d button.colab-df-convert');\n",
              "      buttonEl.style.display =\n",
              "        google.colab.kernel.accessAllowed ? 'block' : 'none';\n",
              "\n",
              "      async function convertToInteractive(key) {\n",
              "        const element = document.querySelector('#df-8c4062bd-7c83-449e-b3a9-7aee9424d23d');\n",
              "        const dataTable =\n",
              "          await google.colab.kernel.invokeFunction('convertToInteractive',\n",
              "                                                    [key], {});\n",
              "        if (!dataTable) return;\n",
              "\n",
              "        const docLinkHtml = 'Like what you see? Visit the ' +\n",
              "          '<a target=\"_blank\" href=https://colab.research.google.com/notebooks/data_table.ipynb>data table notebook</a>'\n",
              "          + ' to learn more about interactive tables.';\n",
              "        element.innerHTML = '';\n",
              "        dataTable['output_type'] = 'display_data';\n",
              "        await google.colab.output.renderOutput(dataTable, element);\n",
              "        const docLink = document.createElement('div');\n",
              "        docLink.innerHTML = docLinkHtml;\n",
              "        element.appendChild(docLink);\n",
              "      }\n",
              "    </script>\n",
              "  </div>\n",
              "\n",
              "\n",
              "<div id=\"df-bd63f4e9-45ca-4cbb-b67f-27312e92153e\">\n",
              "  <button class=\"colab-df-quickchart\" onclick=\"quickchart('df-bd63f4e9-45ca-4cbb-b67f-27312e92153e')\"\n",
              "            title=\"Suggest charts\"\n",
              "            style=\"display:none;\">\n",
              "\n",
              "<svg xmlns=\"http://www.w3.org/2000/svg\" height=\"24px\"viewBox=\"0 0 24 24\"\n",
              "     width=\"24px\">\n",
              "    <g>\n",
              "        <path d=\"M19 3H5c-1.1 0-2 .9-2 2v14c0 1.1.9 2 2 2h14c1.1 0 2-.9 2-2V5c0-1.1-.9-2-2-2zM9 17H7v-7h2v7zm4 0h-2V7h2v10zm4 0h-2v-4h2v4z\"/>\n",
              "    </g>\n",
              "</svg>\n",
              "  </button>\n",
              "\n",
              "<style>\n",
              "  .colab-df-quickchart {\n",
              "      --bg-color: #E8F0FE;\n",
              "      --fill-color: #1967D2;\n",
              "      --hover-bg-color: #E2EBFA;\n",
              "      --hover-fill-color: #174EA6;\n",
              "      --disabled-fill-color: #AAA;\n",
              "      --disabled-bg-color: #DDD;\n",
              "  }\n",
              "\n",
              "  [theme=dark] .colab-df-quickchart {\n",
              "      --bg-color: #3B4455;\n",
              "      --fill-color: #D2E3FC;\n",
              "      --hover-bg-color: #434B5C;\n",
              "      --hover-fill-color: #FFFFFF;\n",
              "      --disabled-bg-color: #3B4455;\n",
              "      --disabled-fill-color: #666;\n",
              "  }\n",
              "\n",
              "  .colab-df-quickchart {\n",
              "    background-color: var(--bg-color);\n",
              "    border: none;\n",
              "    border-radius: 50%;\n",
              "    cursor: pointer;\n",
              "    display: none;\n",
              "    fill: var(--fill-color);\n",
              "    height: 32px;\n",
              "    padding: 0;\n",
              "    width: 32px;\n",
              "  }\n",
              "\n",
              "  .colab-df-quickchart:hover {\n",
              "    background-color: var(--hover-bg-color);\n",
              "    box-shadow: 0 1px 2px rgba(60, 64, 67, 0.3), 0 1px 3px 1px rgba(60, 64, 67, 0.15);\n",
              "    fill: var(--button-hover-fill-color);\n",
              "  }\n",
              "\n",
              "  .colab-df-quickchart-complete:disabled,\n",
              "  .colab-df-quickchart-complete:disabled:hover {\n",
              "    background-color: var(--disabled-bg-color);\n",
              "    fill: var(--disabled-fill-color);\n",
              "    box-shadow: none;\n",
              "  }\n",
              "\n",
              "  .colab-df-spinner {\n",
              "    border: 2px solid var(--fill-color);\n",
              "    border-color: transparent;\n",
              "    border-bottom-color: var(--fill-color);\n",
              "    animation:\n",
              "      spin 1s steps(1) infinite;\n",
              "  }\n",
              "\n",
              "  @keyframes spin {\n",
              "    0% {\n",
              "      border-color: transparent;\n",
              "      border-bottom-color: var(--fill-color);\n",
              "      border-left-color: var(--fill-color);\n",
              "    }\n",
              "    20% {\n",
              "      border-color: transparent;\n",
              "      border-left-color: var(--fill-color);\n",
              "      border-top-color: var(--fill-color);\n",
              "    }\n",
              "    30% {\n",
              "      border-color: transparent;\n",
              "      border-left-color: var(--fill-color);\n",
              "      border-top-color: var(--fill-color);\n",
              "      border-right-color: var(--fill-color);\n",
              "    }\n",
              "    40% {\n",
              "      border-color: transparent;\n",
              "      border-right-color: var(--fill-color);\n",
              "      border-top-color: var(--fill-color);\n",
              "    }\n",
              "    60% {\n",
              "      border-color: transparent;\n",
              "      border-right-color: var(--fill-color);\n",
              "    }\n",
              "    80% {\n",
              "      border-color: transparent;\n",
              "      border-right-color: var(--fill-color);\n",
              "      border-bottom-color: var(--fill-color);\n",
              "    }\n",
              "    90% {\n",
              "      border-color: transparent;\n",
              "      border-bottom-color: var(--fill-color);\n",
              "    }\n",
              "  }\n",
              "</style>\n",
              "\n",
              "  <script>\n",
              "    async function quickchart(key) {\n",
              "      const quickchartButtonEl =\n",
              "        document.querySelector('#' + key + ' button');\n",
              "      quickchartButtonEl.disabled = true;  // To prevent multiple clicks.\n",
              "      quickchartButtonEl.classList.add('colab-df-spinner');\n",
              "      try {\n",
              "        const charts = await google.colab.kernel.invokeFunction(\n",
              "            'suggestCharts', [key], {});\n",
              "      } catch (error) {\n",
              "        console.error('Error during call to suggestCharts:', error);\n",
              "      }\n",
              "      quickchartButtonEl.classList.remove('colab-df-spinner');\n",
              "      quickchartButtonEl.classList.add('colab-df-quickchart-complete');\n",
              "    }\n",
              "    (() => {\n",
              "      let quickchartButtonEl =\n",
              "        document.querySelector('#df-bd63f4e9-45ca-4cbb-b67f-27312e92153e button');\n",
              "      quickchartButtonEl.style.display =\n",
              "        google.colab.kernel.accessAllowed ? 'block' : 'none';\n",
              "    })();\n",
              "  </script>\n",
              "</div>\n",
              "    </div>\n",
              "  </div>\n"
            ],
            "application/vnd.google.colaboratory.intrinsic+json": {
              "type": "dataframe",
              "summary": "{\n  \"name\": \"df\",\n  \"rows\": 8,\n  \"fields\": [\n    {\n      \"column\": \"Pregnancies\",\n      \"properties\": {\n        \"dtype\": \"number\",\n        \"std\": 269.85223453356366,\n        \"min\": 0.0,\n        \"max\": 768.0,\n        \"num_unique_values\": 8,\n        \"samples\": [\n          3.8450520833333335,\n          3.0,\n          768.0\n        ],\n        \"semantic_type\": \"\",\n        \"description\": \"\"\n      }\n    },\n    {\n      \"column\": \"Glucose\",\n      \"properties\": {\n        \"dtype\": \"number\",\n        \"std\": 243.73802348295857,\n        \"min\": 0.0,\n        \"max\": 768.0,\n        \"num_unique_values\": 8,\n        \"samples\": [\n          120.89453125,\n          117.0,\n          768.0\n        ],\n        \"semantic_type\": \"\",\n        \"description\": \"\"\n      }\n    },\n    {\n      \"column\": \"BloodPressure\",\n      \"properties\": {\n        \"dtype\": \"number\",\n        \"std\": 252.85250535810619,\n        \"min\": 0.0,\n        \"max\": 768.0,\n        \"num_unique_values\": 8,\n        \"samples\": [\n          69.10546875,\n          72.0,\n          768.0\n        ],\n        \"semantic_type\": \"\",\n        \"description\": \"\"\n      }\n    },\n    {\n      \"column\": \"SkinThickness\",\n      \"properties\": {\n        \"dtype\": \"number\",\n        \"std\": 263.7684730531098,\n        \"min\": 0.0,\n        \"max\": 768.0,\n        \"num_unique_values\": 7,\n        \"samples\": [\n          768.0,\n          20.536458333333332,\n          32.0\n        ],\n        \"semantic_type\": \"\",\n        \"description\": \"\"\n      }\n    },\n    {\n      \"column\": \"Insulin\",\n      \"properties\": {\n        \"dtype\": \"number\",\n        \"std\": 350.26059167945886,\n        \"min\": 0.0,\n        \"max\": 846.0,\n        \"num_unique_values\": 7,\n        \"samples\": [\n          768.0,\n          79.79947916666667,\n          127.25\n        ],\n        \"semantic_type\": \"\",\n        \"description\": \"\"\n      }\n    },\n    {\n      \"column\": \"BMI\",\n      \"properties\": {\n        \"dtype\": \"number\",\n        \"std\": 262.05117817552093,\n        \"min\": 0.0,\n        \"max\": 768.0,\n        \"num_unique_values\": 8,\n        \"samples\": [\n          31.992578124999998,\n          32.0,\n          768.0\n        ],\n        \"semantic_type\": \"\",\n        \"description\": \"\"\n      }\n    },\n    {\n      \"column\": \"DiabetesPedigreeFunction\",\n      \"properties\": {\n        \"dtype\": \"number\",\n        \"std\": 271.3005221658502,\n        \"min\": 0.078,\n        \"max\": 768.0,\n        \"num_unique_values\": 8,\n        \"samples\": [\n          0.47187630208333325,\n          0.3725,\n          768.0\n        ],\n        \"semantic_type\": \"\",\n        \"description\": \"\"\n      }\n    },\n    {\n      \"column\": \"Age\",\n      \"properties\": {\n        \"dtype\": \"number\",\n        \"std\": 260.1941178528413,\n        \"min\": 11.76023154067868,\n        \"max\": 768.0,\n        \"num_unique_values\": 8,\n        \"samples\": [\n          33.240885416666664,\n          29.0,\n          768.0\n        ],\n        \"semantic_type\": \"\",\n        \"description\": \"\"\n      }\n    },\n    {\n      \"column\": \"Outcome\",\n      \"properties\": {\n        \"dtype\": \"number\",\n        \"std\": 271.3865920388932,\n        \"min\": 0.0,\n        \"max\": 768.0,\n        \"num_unique_values\": 5,\n        \"samples\": [\n          0.3489583333333333,\n          1.0,\n          0.4769513772427971\n        ],\n        \"semantic_type\": \"\",\n        \"description\": \"\"\n      }\n    }\n  ]\n}"
            }
          },
          "metadata": {},
          "execution_count": 5
        }
      ]
    },
    {
      "cell_type": "markdown",
      "source": [
        "Ми бачимо, що є стовпці, які мають мінімальне значення нуль (0). У деяких стовпчиках нульове значення не має сенсу і вказує на невірне або відсутнє значення.\n",
        "\n",
        "Відсутні значення часто вказують на те, що вони знаходяться за межами діапазону; це може бути від'ємне число (наприклад, -1) в числовому полі, яке зазвичай має бути тільки додатним, або 0 в числовому полі, яке зазвичай ніколи не може бути 0.\n",
        "\n",
        "**Зокрема, наступні стовпчики мають невірне нульове мінімальне значення:**\n",
        "\n",
        "* 1: Концентрація глюкози в плазмі крові\n",
        "\n",
        "* 2: Діастолічний артеріальний тиск\n",
        "\n",
        "* 3: Товщина шкірної складки трицепса\n",
        "\n",
        "* 4: 2-годинний інсулін у сироватці крові\n",
        "\n",
        "* 5: Індекс маси тіла\n",
        "\n",
        "Підтвердимо це, подивившись на вихідні дані, приклад виводить перші 20 рядків даних."
      ],
      "metadata": {
        "id": "WqBotportpLS"
      }
    },
    {
      "cell_type": "code",
      "source": [
        "df.head(21)"
      ],
      "metadata": {
        "colab": {
          "base_uri": "https://localhost:8080/",
          "height": 707
        },
        "id": "Xqkhr_9TGkWb",
        "outputId": "2c4d701f-a243-4987-9575-48a9c745c482"
      },
      "execution_count": 6,
      "outputs": [
        {
          "output_type": "execute_result",
          "data": {
            "text/plain": [
              "    Pregnancies  Glucose  BloodPressure  SkinThickness  Insulin   BMI  \\\n",
              "0             6      148             72             35        0  33.6   \n",
              "1             1       85             66             29        0  26.6   \n",
              "2             8      183             64              0        0  23.3   \n",
              "3             1       89             66             23       94  28.1   \n",
              "4             0      137             40             35      168  43.1   \n",
              "5             5      116             74              0        0  25.6   \n",
              "6             3       78             50             32       88  31.0   \n",
              "7            10      115              0              0        0  35.3   \n",
              "8             2      197             70             45      543  30.5   \n",
              "9             8      125             96              0        0   0.0   \n",
              "10            4      110             92              0        0  37.6   \n",
              "11           10      168             74              0        0  38.0   \n",
              "12           10      139             80              0        0  27.1   \n",
              "13            1      189             60             23      846  30.1   \n",
              "14            5      166             72             19      175  25.8   \n",
              "15            7      100              0              0        0  30.0   \n",
              "16            0      118             84             47      230  45.8   \n",
              "17            7      107             74              0        0  29.6   \n",
              "18            1      103             30             38       83  43.3   \n",
              "19            1      115             70             30       96  34.6   \n",
              "20            3      126             88             41      235  39.3   \n",
              "\n",
              "    DiabetesPedigreeFunction  Age  Outcome  \n",
              "0                      0.627   50        1  \n",
              "1                      0.351   31        0  \n",
              "2                      0.672   32        1  \n",
              "3                      0.167   21        0  \n",
              "4                      2.288   33        1  \n",
              "5                      0.201   30        0  \n",
              "6                      0.248   26        1  \n",
              "7                      0.134   29        0  \n",
              "8                      0.158   53        1  \n",
              "9                      0.232   54        1  \n",
              "10                     0.191   30        0  \n",
              "11                     0.537   34        1  \n",
              "12                     1.441   57        0  \n",
              "13                     0.398   59        1  \n",
              "14                     0.587   51        1  \n",
              "15                     0.484   32        1  \n",
              "16                     0.551   31        1  \n",
              "17                     0.254   31        1  \n",
              "18                     0.183   33        0  \n",
              "19                     0.529   32        1  \n",
              "20                     0.704   27        0  "
            ],
            "text/html": [
              "\n",
              "  <div id=\"df-8669212f-2474-4b5b-95d7-902e479c5a69\" class=\"colab-df-container\">\n",
              "    <div>\n",
              "<style scoped>\n",
              "    .dataframe tbody tr th:only-of-type {\n",
              "        vertical-align: middle;\n",
              "    }\n",
              "\n",
              "    .dataframe tbody tr th {\n",
              "        vertical-align: top;\n",
              "    }\n",
              "\n",
              "    .dataframe thead th {\n",
              "        text-align: right;\n",
              "    }\n",
              "</style>\n",
              "<table border=\"1\" class=\"dataframe\">\n",
              "  <thead>\n",
              "    <tr style=\"text-align: right;\">\n",
              "      <th></th>\n",
              "      <th>Pregnancies</th>\n",
              "      <th>Glucose</th>\n",
              "      <th>BloodPressure</th>\n",
              "      <th>SkinThickness</th>\n",
              "      <th>Insulin</th>\n",
              "      <th>BMI</th>\n",
              "      <th>DiabetesPedigreeFunction</th>\n",
              "      <th>Age</th>\n",
              "      <th>Outcome</th>\n",
              "    </tr>\n",
              "  </thead>\n",
              "  <tbody>\n",
              "    <tr>\n",
              "      <th>0</th>\n",
              "      <td>6</td>\n",
              "      <td>148</td>\n",
              "      <td>72</td>\n",
              "      <td>35</td>\n",
              "      <td>0</td>\n",
              "      <td>33.6</td>\n",
              "      <td>0.627</td>\n",
              "      <td>50</td>\n",
              "      <td>1</td>\n",
              "    </tr>\n",
              "    <tr>\n",
              "      <th>1</th>\n",
              "      <td>1</td>\n",
              "      <td>85</td>\n",
              "      <td>66</td>\n",
              "      <td>29</td>\n",
              "      <td>0</td>\n",
              "      <td>26.6</td>\n",
              "      <td>0.351</td>\n",
              "      <td>31</td>\n",
              "      <td>0</td>\n",
              "    </tr>\n",
              "    <tr>\n",
              "      <th>2</th>\n",
              "      <td>8</td>\n",
              "      <td>183</td>\n",
              "      <td>64</td>\n",
              "      <td>0</td>\n",
              "      <td>0</td>\n",
              "      <td>23.3</td>\n",
              "      <td>0.672</td>\n",
              "      <td>32</td>\n",
              "      <td>1</td>\n",
              "    </tr>\n",
              "    <tr>\n",
              "      <th>3</th>\n",
              "      <td>1</td>\n",
              "      <td>89</td>\n",
              "      <td>66</td>\n",
              "      <td>23</td>\n",
              "      <td>94</td>\n",
              "      <td>28.1</td>\n",
              "      <td>0.167</td>\n",
              "      <td>21</td>\n",
              "      <td>0</td>\n",
              "    </tr>\n",
              "    <tr>\n",
              "      <th>4</th>\n",
              "      <td>0</td>\n",
              "      <td>137</td>\n",
              "      <td>40</td>\n",
              "      <td>35</td>\n",
              "      <td>168</td>\n",
              "      <td>43.1</td>\n",
              "      <td>2.288</td>\n",
              "      <td>33</td>\n",
              "      <td>1</td>\n",
              "    </tr>\n",
              "    <tr>\n",
              "      <th>5</th>\n",
              "      <td>5</td>\n",
              "      <td>116</td>\n",
              "      <td>74</td>\n",
              "      <td>0</td>\n",
              "      <td>0</td>\n",
              "      <td>25.6</td>\n",
              "      <td>0.201</td>\n",
              "      <td>30</td>\n",
              "      <td>0</td>\n",
              "    </tr>\n",
              "    <tr>\n",
              "      <th>6</th>\n",
              "      <td>3</td>\n",
              "      <td>78</td>\n",
              "      <td>50</td>\n",
              "      <td>32</td>\n",
              "      <td>88</td>\n",
              "      <td>31.0</td>\n",
              "      <td>0.248</td>\n",
              "      <td>26</td>\n",
              "      <td>1</td>\n",
              "    </tr>\n",
              "    <tr>\n",
              "      <th>7</th>\n",
              "      <td>10</td>\n",
              "      <td>115</td>\n",
              "      <td>0</td>\n",
              "      <td>0</td>\n",
              "      <td>0</td>\n",
              "      <td>35.3</td>\n",
              "      <td>0.134</td>\n",
              "      <td>29</td>\n",
              "      <td>0</td>\n",
              "    </tr>\n",
              "    <tr>\n",
              "      <th>8</th>\n",
              "      <td>2</td>\n",
              "      <td>197</td>\n",
              "      <td>70</td>\n",
              "      <td>45</td>\n",
              "      <td>543</td>\n",
              "      <td>30.5</td>\n",
              "      <td>0.158</td>\n",
              "      <td>53</td>\n",
              "      <td>1</td>\n",
              "    </tr>\n",
              "    <tr>\n",
              "      <th>9</th>\n",
              "      <td>8</td>\n",
              "      <td>125</td>\n",
              "      <td>96</td>\n",
              "      <td>0</td>\n",
              "      <td>0</td>\n",
              "      <td>0.0</td>\n",
              "      <td>0.232</td>\n",
              "      <td>54</td>\n",
              "      <td>1</td>\n",
              "    </tr>\n",
              "    <tr>\n",
              "      <th>10</th>\n",
              "      <td>4</td>\n",
              "      <td>110</td>\n",
              "      <td>92</td>\n",
              "      <td>0</td>\n",
              "      <td>0</td>\n",
              "      <td>37.6</td>\n",
              "      <td>0.191</td>\n",
              "      <td>30</td>\n",
              "      <td>0</td>\n",
              "    </tr>\n",
              "    <tr>\n",
              "      <th>11</th>\n",
              "      <td>10</td>\n",
              "      <td>168</td>\n",
              "      <td>74</td>\n",
              "      <td>0</td>\n",
              "      <td>0</td>\n",
              "      <td>38.0</td>\n",
              "      <td>0.537</td>\n",
              "      <td>34</td>\n",
              "      <td>1</td>\n",
              "    </tr>\n",
              "    <tr>\n",
              "      <th>12</th>\n",
              "      <td>10</td>\n",
              "      <td>139</td>\n",
              "      <td>80</td>\n",
              "      <td>0</td>\n",
              "      <td>0</td>\n",
              "      <td>27.1</td>\n",
              "      <td>1.441</td>\n",
              "      <td>57</td>\n",
              "      <td>0</td>\n",
              "    </tr>\n",
              "    <tr>\n",
              "      <th>13</th>\n",
              "      <td>1</td>\n",
              "      <td>189</td>\n",
              "      <td>60</td>\n",
              "      <td>23</td>\n",
              "      <td>846</td>\n",
              "      <td>30.1</td>\n",
              "      <td>0.398</td>\n",
              "      <td>59</td>\n",
              "      <td>1</td>\n",
              "    </tr>\n",
              "    <tr>\n",
              "      <th>14</th>\n",
              "      <td>5</td>\n",
              "      <td>166</td>\n",
              "      <td>72</td>\n",
              "      <td>19</td>\n",
              "      <td>175</td>\n",
              "      <td>25.8</td>\n",
              "      <td>0.587</td>\n",
              "      <td>51</td>\n",
              "      <td>1</td>\n",
              "    </tr>\n",
              "    <tr>\n",
              "      <th>15</th>\n",
              "      <td>7</td>\n",
              "      <td>100</td>\n",
              "      <td>0</td>\n",
              "      <td>0</td>\n",
              "      <td>0</td>\n",
              "      <td>30.0</td>\n",
              "      <td>0.484</td>\n",
              "      <td>32</td>\n",
              "      <td>1</td>\n",
              "    </tr>\n",
              "    <tr>\n",
              "      <th>16</th>\n",
              "      <td>0</td>\n",
              "      <td>118</td>\n",
              "      <td>84</td>\n",
              "      <td>47</td>\n",
              "      <td>230</td>\n",
              "      <td>45.8</td>\n",
              "      <td>0.551</td>\n",
              "      <td>31</td>\n",
              "      <td>1</td>\n",
              "    </tr>\n",
              "    <tr>\n",
              "      <th>17</th>\n",
              "      <td>7</td>\n",
              "      <td>107</td>\n",
              "      <td>74</td>\n",
              "      <td>0</td>\n",
              "      <td>0</td>\n",
              "      <td>29.6</td>\n",
              "      <td>0.254</td>\n",
              "      <td>31</td>\n",
              "      <td>1</td>\n",
              "    </tr>\n",
              "    <tr>\n",
              "      <th>18</th>\n",
              "      <td>1</td>\n",
              "      <td>103</td>\n",
              "      <td>30</td>\n",
              "      <td>38</td>\n",
              "      <td>83</td>\n",
              "      <td>43.3</td>\n",
              "      <td>0.183</td>\n",
              "      <td>33</td>\n",
              "      <td>0</td>\n",
              "    </tr>\n",
              "    <tr>\n",
              "      <th>19</th>\n",
              "      <td>1</td>\n",
              "      <td>115</td>\n",
              "      <td>70</td>\n",
              "      <td>30</td>\n",
              "      <td>96</td>\n",
              "      <td>34.6</td>\n",
              "      <td>0.529</td>\n",
              "      <td>32</td>\n",
              "      <td>1</td>\n",
              "    </tr>\n",
              "    <tr>\n",
              "      <th>20</th>\n",
              "      <td>3</td>\n",
              "      <td>126</td>\n",
              "      <td>88</td>\n",
              "      <td>41</td>\n",
              "      <td>235</td>\n",
              "      <td>39.3</td>\n",
              "      <td>0.704</td>\n",
              "      <td>27</td>\n",
              "      <td>0</td>\n",
              "    </tr>\n",
              "  </tbody>\n",
              "</table>\n",
              "</div>\n",
              "    <div class=\"colab-df-buttons\">\n",
              "\n",
              "  <div class=\"colab-df-container\">\n",
              "    <button class=\"colab-df-convert\" onclick=\"convertToInteractive('df-8669212f-2474-4b5b-95d7-902e479c5a69')\"\n",
              "            title=\"Convert this dataframe to an interactive table.\"\n",
              "            style=\"display:none;\">\n",
              "\n",
              "  <svg xmlns=\"http://www.w3.org/2000/svg\" height=\"24px\" viewBox=\"0 -960 960 960\">\n",
              "    <path d=\"M120-120v-720h720v720H120Zm60-500h600v-160H180v160Zm220 220h160v-160H400v160Zm0 220h160v-160H400v160ZM180-400h160v-160H180v160Zm440 0h160v-160H620v160ZM180-180h160v-160H180v160Zm440 0h160v-160H620v160Z\"/>\n",
              "  </svg>\n",
              "    </button>\n",
              "\n",
              "  <style>\n",
              "    .colab-df-container {\n",
              "      display:flex;\n",
              "      gap: 12px;\n",
              "    }\n",
              "\n",
              "    .colab-df-convert {\n",
              "      background-color: #E8F0FE;\n",
              "      border: none;\n",
              "      border-radius: 50%;\n",
              "      cursor: pointer;\n",
              "      display: none;\n",
              "      fill: #1967D2;\n",
              "      height: 32px;\n",
              "      padding: 0 0 0 0;\n",
              "      width: 32px;\n",
              "    }\n",
              "\n",
              "    .colab-df-convert:hover {\n",
              "      background-color: #E2EBFA;\n",
              "      box-shadow: 0px 1px 2px rgba(60, 64, 67, 0.3), 0px 1px 3px 1px rgba(60, 64, 67, 0.15);\n",
              "      fill: #174EA6;\n",
              "    }\n",
              "\n",
              "    .colab-df-buttons div {\n",
              "      margin-bottom: 4px;\n",
              "    }\n",
              "\n",
              "    [theme=dark] .colab-df-convert {\n",
              "      background-color: #3B4455;\n",
              "      fill: #D2E3FC;\n",
              "    }\n",
              "\n",
              "    [theme=dark] .colab-df-convert:hover {\n",
              "      background-color: #434B5C;\n",
              "      box-shadow: 0px 1px 3px 1px rgba(0, 0, 0, 0.15);\n",
              "      filter: drop-shadow(0px 1px 2px rgba(0, 0, 0, 0.3));\n",
              "      fill: #FFFFFF;\n",
              "    }\n",
              "  </style>\n",
              "\n",
              "    <script>\n",
              "      const buttonEl =\n",
              "        document.querySelector('#df-8669212f-2474-4b5b-95d7-902e479c5a69 button.colab-df-convert');\n",
              "      buttonEl.style.display =\n",
              "        google.colab.kernel.accessAllowed ? 'block' : 'none';\n",
              "\n",
              "      async function convertToInteractive(key) {\n",
              "        const element = document.querySelector('#df-8669212f-2474-4b5b-95d7-902e479c5a69');\n",
              "        const dataTable =\n",
              "          await google.colab.kernel.invokeFunction('convertToInteractive',\n",
              "                                                    [key], {});\n",
              "        if (!dataTable) return;\n",
              "\n",
              "        const docLinkHtml = 'Like what you see? Visit the ' +\n",
              "          '<a target=\"_blank\" href=https://colab.research.google.com/notebooks/data_table.ipynb>data table notebook</a>'\n",
              "          + ' to learn more about interactive tables.';\n",
              "        element.innerHTML = '';\n",
              "        dataTable['output_type'] = 'display_data';\n",
              "        await google.colab.output.renderOutput(dataTable, element);\n",
              "        const docLink = document.createElement('div');\n",
              "        docLink.innerHTML = docLinkHtml;\n",
              "        element.appendChild(docLink);\n",
              "      }\n",
              "    </script>\n",
              "  </div>\n",
              "\n",
              "\n",
              "<div id=\"df-223d77ee-b0c5-4362-aa02-7bcee02eea2e\">\n",
              "  <button class=\"colab-df-quickchart\" onclick=\"quickchart('df-223d77ee-b0c5-4362-aa02-7bcee02eea2e')\"\n",
              "            title=\"Suggest charts\"\n",
              "            style=\"display:none;\">\n",
              "\n",
              "<svg xmlns=\"http://www.w3.org/2000/svg\" height=\"24px\"viewBox=\"0 0 24 24\"\n",
              "     width=\"24px\">\n",
              "    <g>\n",
              "        <path d=\"M19 3H5c-1.1 0-2 .9-2 2v14c0 1.1.9 2 2 2h14c1.1 0 2-.9 2-2V5c0-1.1-.9-2-2-2zM9 17H7v-7h2v7zm4 0h-2V7h2v10zm4 0h-2v-4h2v4z\"/>\n",
              "    </g>\n",
              "</svg>\n",
              "  </button>\n",
              "\n",
              "<style>\n",
              "  .colab-df-quickchart {\n",
              "      --bg-color: #E8F0FE;\n",
              "      --fill-color: #1967D2;\n",
              "      --hover-bg-color: #E2EBFA;\n",
              "      --hover-fill-color: #174EA6;\n",
              "      --disabled-fill-color: #AAA;\n",
              "      --disabled-bg-color: #DDD;\n",
              "  }\n",
              "\n",
              "  [theme=dark] .colab-df-quickchart {\n",
              "      --bg-color: #3B4455;\n",
              "      --fill-color: #D2E3FC;\n",
              "      --hover-bg-color: #434B5C;\n",
              "      --hover-fill-color: #FFFFFF;\n",
              "      --disabled-bg-color: #3B4455;\n",
              "      --disabled-fill-color: #666;\n",
              "  }\n",
              "\n",
              "  .colab-df-quickchart {\n",
              "    background-color: var(--bg-color);\n",
              "    border: none;\n",
              "    border-radius: 50%;\n",
              "    cursor: pointer;\n",
              "    display: none;\n",
              "    fill: var(--fill-color);\n",
              "    height: 32px;\n",
              "    padding: 0;\n",
              "    width: 32px;\n",
              "  }\n",
              "\n",
              "  .colab-df-quickchart:hover {\n",
              "    background-color: var(--hover-bg-color);\n",
              "    box-shadow: 0 1px 2px rgba(60, 64, 67, 0.3), 0 1px 3px 1px rgba(60, 64, 67, 0.15);\n",
              "    fill: var(--button-hover-fill-color);\n",
              "  }\n",
              "\n",
              "  .colab-df-quickchart-complete:disabled,\n",
              "  .colab-df-quickchart-complete:disabled:hover {\n",
              "    background-color: var(--disabled-bg-color);\n",
              "    fill: var(--disabled-fill-color);\n",
              "    box-shadow: none;\n",
              "  }\n",
              "\n",
              "  .colab-df-spinner {\n",
              "    border: 2px solid var(--fill-color);\n",
              "    border-color: transparent;\n",
              "    border-bottom-color: var(--fill-color);\n",
              "    animation:\n",
              "      spin 1s steps(1) infinite;\n",
              "  }\n",
              "\n",
              "  @keyframes spin {\n",
              "    0% {\n",
              "      border-color: transparent;\n",
              "      border-bottom-color: var(--fill-color);\n",
              "      border-left-color: var(--fill-color);\n",
              "    }\n",
              "    20% {\n",
              "      border-color: transparent;\n",
              "      border-left-color: var(--fill-color);\n",
              "      border-top-color: var(--fill-color);\n",
              "    }\n",
              "    30% {\n",
              "      border-color: transparent;\n",
              "      border-left-color: var(--fill-color);\n",
              "      border-top-color: var(--fill-color);\n",
              "      border-right-color: var(--fill-color);\n",
              "    }\n",
              "    40% {\n",
              "      border-color: transparent;\n",
              "      border-right-color: var(--fill-color);\n",
              "      border-top-color: var(--fill-color);\n",
              "    }\n",
              "    60% {\n",
              "      border-color: transparent;\n",
              "      border-right-color: var(--fill-color);\n",
              "    }\n",
              "    80% {\n",
              "      border-color: transparent;\n",
              "      border-right-color: var(--fill-color);\n",
              "      border-bottom-color: var(--fill-color);\n",
              "    }\n",
              "    90% {\n",
              "      border-color: transparent;\n",
              "      border-bottom-color: var(--fill-color);\n",
              "    }\n",
              "  }\n",
              "</style>\n",
              "\n",
              "  <script>\n",
              "    async function quickchart(key) {\n",
              "      const quickchartButtonEl =\n",
              "        document.querySelector('#' + key + ' button');\n",
              "      quickchartButtonEl.disabled = true;  // To prevent multiple clicks.\n",
              "      quickchartButtonEl.classList.add('colab-df-spinner');\n",
              "      try {\n",
              "        const charts = await google.colab.kernel.invokeFunction(\n",
              "            'suggestCharts', [key], {});\n",
              "      } catch (error) {\n",
              "        console.error('Error during call to suggestCharts:', error);\n",
              "      }\n",
              "      quickchartButtonEl.classList.remove('colab-df-spinner');\n",
              "      quickchartButtonEl.classList.add('colab-df-quickchart-complete');\n",
              "    }\n",
              "    (() => {\n",
              "      let quickchartButtonEl =\n",
              "        document.querySelector('#df-223d77ee-b0c5-4362-aa02-7bcee02eea2e button');\n",
              "      quickchartButtonEl.style.display =\n",
              "        google.colab.kernel.accessAllowed ? 'block' : 'none';\n",
              "    })();\n",
              "  </script>\n",
              "</div>\n",
              "    </div>\n",
              "  </div>\n"
            ],
            "application/vnd.google.colaboratory.intrinsic+json": {
              "type": "dataframe",
              "variable_name": "df",
              "summary": "{\n  \"name\": \"df\",\n  \"rows\": 768,\n  \"fields\": [\n    {\n      \"column\": \"Pregnancies\",\n      \"properties\": {\n        \"dtype\": \"number\",\n        \"std\": 3,\n        \"min\": 0,\n        \"max\": 17,\n        \"num_unique_values\": 17,\n        \"samples\": [\n          6,\n          1,\n          3\n        ],\n        \"semantic_type\": \"\",\n        \"description\": \"\"\n      }\n    },\n    {\n      \"column\": \"Glucose\",\n      \"properties\": {\n        \"dtype\": \"number\",\n        \"std\": 31,\n        \"min\": 0,\n        \"max\": 199,\n        \"num_unique_values\": 136,\n        \"samples\": [\n          151,\n          101,\n          112\n        ],\n        \"semantic_type\": \"\",\n        \"description\": \"\"\n      }\n    },\n    {\n      \"column\": \"BloodPressure\",\n      \"properties\": {\n        \"dtype\": \"number\",\n        \"std\": 19,\n        \"min\": 0,\n        \"max\": 122,\n        \"num_unique_values\": 47,\n        \"samples\": [\n          86,\n          46,\n          85\n        ],\n        \"semantic_type\": \"\",\n        \"description\": \"\"\n      }\n    },\n    {\n      \"column\": \"SkinThickness\",\n      \"properties\": {\n        \"dtype\": \"number\",\n        \"std\": 15,\n        \"min\": 0,\n        \"max\": 99,\n        \"num_unique_values\": 51,\n        \"samples\": [\n          7,\n          12,\n          48\n        ],\n        \"semantic_type\": \"\",\n        \"description\": \"\"\n      }\n    },\n    {\n      \"column\": \"Insulin\",\n      \"properties\": {\n        \"dtype\": \"number\",\n        \"std\": 115,\n        \"min\": 0,\n        \"max\": 846,\n        \"num_unique_values\": 186,\n        \"samples\": [\n          52,\n          41,\n          183\n        ],\n        \"semantic_type\": \"\",\n        \"description\": \"\"\n      }\n    },\n    {\n      \"column\": \"BMI\",\n      \"properties\": {\n        \"dtype\": \"number\",\n        \"std\": 7.8841603203754405,\n        \"min\": 0.0,\n        \"max\": 67.1,\n        \"num_unique_values\": 248,\n        \"samples\": [\n          19.9,\n          31.0,\n          38.1\n        ],\n        \"semantic_type\": \"\",\n        \"description\": \"\"\n      }\n    },\n    {\n      \"column\": \"DiabetesPedigreeFunction\",\n      \"properties\": {\n        \"dtype\": \"number\",\n        \"std\": 0.33132859501277484,\n        \"min\": 0.078,\n        \"max\": 2.42,\n        \"num_unique_values\": 517,\n        \"samples\": [\n          1.731,\n          0.426,\n          0.138\n        ],\n        \"semantic_type\": \"\",\n        \"description\": \"\"\n      }\n    },\n    {\n      \"column\": \"Age\",\n      \"properties\": {\n        \"dtype\": \"number\",\n        \"std\": 11,\n        \"min\": 21,\n        \"max\": 81,\n        \"num_unique_values\": 52,\n        \"samples\": [\n          60,\n          47,\n          72\n        ],\n        \"semantic_type\": \"\",\n        \"description\": \"\"\n      }\n    },\n    {\n      \"column\": \"Outcome\",\n      \"properties\": {\n        \"dtype\": \"number\",\n        \"std\": 0,\n        \"min\": 0,\n        \"max\": 1,\n        \"num_unique_values\": 2,\n        \"samples\": [\n          0,\n          1\n        ],\n        \"semantic_type\": \"\",\n        \"description\": \"\"\n      }\n    }\n  ]\n}"
            }
          },
          "metadata": {},
          "execution_count": 6
        }
      ]
    },
    {
      "cell_type": "code",
      "source": [
        "df.isnull().sum()"
      ],
      "metadata": {
        "colab": {
          "base_uri": "https://localhost:8080/",
          "height": 366
        },
        "id": "ZqwC65_wGz0r",
        "outputId": "0c292c51-26c8-4ddf-e5d1-f26e60174c0d"
      },
      "execution_count": 7,
      "outputs": [
        {
          "output_type": "execute_result",
          "data": {
            "text/plain": [
              "Pregnancies                 0\n",
              "Glucose                     0\n",
              "BloodPressure               0\n",
              "SkinThickness               0\n",
              "Insulin                     0\n",
              "BMI                         0\n",
              "DiabetesPedigreeFunction    0\n",
              "Age                         0\n",
              "Outcome                     0\n",
              "dtype: int64"
            ],
            "text/html": [
              "<div>\n",
              "<style scoped>\n",
              "    .dataframe tbody tr th:only-of-type {\n",
              "        vertical-align: middle;\n",
              "    }\n",
              "\n",
              "    .dataframe tbody tr th {\n",
              "        vertical-align: top;\n",
              "    }\n",
              "\n",
              "    .dataframe thead th {\n",
              "        text-align: right;\n",
              "    }\n",
              "</style>\n",
              "<table border=\"1\" class=\"dataframe\">\n",
              "  <thead>\n",
              "    <tr style=\"text-align: right;\">\n",
              "      <th></th>\n",
              "      <th>0</th>\n",
              "    </tr>\n",
              "  </thead>\n",
              "  <tbody>\n",
              "    <tr>\n",
              "      <th>Pregnancies</th>\n",
              "      <td>0</td>\n",
              "    </tr>\n",
              "    <tr>\n",
              "      <th>Glucose</th>\n",
              "      <td>0</td>\n",
              "    </tr>\n",
              "    <tr>\n",
              "      <th>BloodPressure</th>\n",
              "      <td>0</td>\n",
              "    </tr>\n",
              "    <tr>\n",
              "      <th>SkinThickness</th>\n",
              "      <td>0</td>\n",
              "    </tr>\n",
              "    <tr>\n",
              "      <th>Insulin</th>\n",
              "      <td>0</td>\n",
              "    </tr>\n",
              "    <tr>\n",
              "      <th>BMI</th>\n",
              "      <td>0</td>\n",
              "    </tr>\n",
              "    <tr>\n",
              "      <th>DiabetesPedigreeFunction</th>\n",
              "      <td>0</td>\n",
              "    </tr>\n",
              "    <tr>\n",
              "      <th>Age</th>\n",
              "      <td>0</td>\n",
              "    </tr>\n",
              "    <tr>\n",
              "      <th>Outcome</th>\n",
              "      <td>0</td>\n",
              "    </tr>\n",
              "  </tbody>\n",
              "</table>\n",
              "</div><br><label><b>dtype:</b> int64</label>"
            ]
          },
          "metadata": {},
          "execution_count": 7
        }
      ]
    },
    {
      "cell_type": "markdown",
      "source": [
        "***Ми можемо підрахувати кількість відсутніх значень у кожному з цих стовпчиків.***\n",
        "\n",
        "Ми можемо зробити це, позначивши всі значення у підмножині DataFrame, що нас цікавить, які мають нульові значення, як True. Після цього ми можемо підрахувати кількість значень True у кожному стовпчику."
      ],
      "metadata": {
        "id": "9uXgbl1euCF8"
      }
    },
    {
      "cell_type": "markdown",
      "source": [
        "***кількість відсутніх значень у кожному з стовпчиків***"
      ],
      "metadata": {
        "id": "HpZuvsFQHaHF"
      }
    },
    {
      "cell_type": "code",
      "source": [
        "num_missing = (df == 0).sum()\n",
        "print(num_missing)"
      ],
      "metadata": {
        "colab": {
          "base_uri": "https://localhost:8080/"
        },
        "id": "wb7d_AbhG_9x",
        "outputId": "a93ca31c-0665-4fbb-db39-d47eb86a42c4"
      },
      "execution_count": 8,
      "outputs": [
        {
          "output_type": "stream",
          "name": "stdout",
          "text": [
            "Pregnancies                 111\n",
            "Glucose                       5\n",
            "BloodPressure                35\n",
            "SkinThickness               227\n",
            "Insulin                     374\n",
            "BMI                          11\n",
            "DiabetesPedigreeFunction      0\n",
            "Age                           0\n",
            "Outcome                     500\n",
            "dtype: int64\n"
          ]
        }
      ]
    },
    {
      "cell_type": "markdown",
      "source": [
        "Ми бачимо, що стовпчики **Glucose, BloodPressure і BMI**   мають лише кілька нульових значень, тоді як у стовпчиках **SkinThickness і Insulin** їх набагато більше - майже половина рядків.\n",
        "\n",
        "Це свідчить про те, що для різних стовпців можуть знадобитися різні стратегії \"пропущених значень\", наприклад, щоб забезпечити наявність достатньої кількості записів для навчання прогнозної моделі."
      ],
      "metadata": {
        "id": "oxXMZBKhuiBh"
      }
    },
    {
      "cell_type": "markdown",
      "source": [
        "У Python, зокрема у Pandas, NumPy та Scikit-Learn, ми **позначаємо пропущені значення як NaN.**\n",
        "\n",
        "Значення зі значенням NaN ігноруються при виконанні таких операцій, як сума, підрахунок тощо.\n",
        "\n",
        "Ми можемо легко позначити значення як NaN за допомогою Pandas DataFrame, використовуючи функцію replace() на підмножині стовпців, які нас цікавлять.\n",
        "\n",
        "Перш ніж замінити відсутні значення на NaN, корисно переконатися, що стовпці містять допустимі числові типи даних, запустивши dataset.dtypes"
      ],
      "metadata": {
        "id": "GVY_6ePVIQTg"
      }
    },
    {
      "cell_type": "code",
      "source": [
        "print(df.dtypes)"
      ],
      "metadata": {
        "colab": {
          "base_uri": "https://localhost:8080/"
        },
        "id": "XkQrOJ6SIWw7",
        "outputId": "16978e76-6f49-43bc-9135-8742fc34c527"
      },
      "execution_count": 17,
      "outputs": [
        {
          "output_type": "stream",
          "name": "stdout",
          "text": [
            "Pregnancies                   int64\n",
            "Glucose                       int64\n",
            "BloodPressure                 int64\n",
            "SkinThickness                 int64\n",
            "Insulin                       int64\n",
            "BMI                         float64\n",
            "DiabetesPedigreeFunction    float64\n",
            "Age                           int64\n",
            "Outcome                       int64\n",
            "dtype: object\n"
          ]
        }
      ]
    },
    {
      "cell_type": "markdown",
      "source": [
        "Ми бачимо, що всі стовпці мають тип int або float.\n",
        "Після того, як ми позначили відсутні значення, ми можемо використати функцію isull(), щоб позначити всі значення NaN у наборі даних як True і отримати підрахунок відсутніх значень для кожного стовпчика."
      ],
      "metadata": {
        "id": "uvX39v6BvyLP"
      }
    },
    {
      "cell_type": "markdown",
      "source": [
        "Ми можемо підрахувати кількість відсутніх значень у кожному з цих стовпчиків. Ми можемо зробити це, позначивши всі значення у підмножині DataFrame, що нас цікавить, які мають нульові значення, як True. Після цього ми можемо підрахувати кількість значень True у кожному стовпчику."
      ],
      "metadata": {
        "id": "uUU3QfmLIpje"
      }
    },
    {
      "cell_type": "code",
      "source": [
        "num_missing = (df[['Glucose',\t'BloodPressure',\t'SkinThickness',\t'Insulin',\t'BMI']] == 0).sum()\n",
        "print(num_missing)"
      ],
      "metadata": {
        "colab": {
          "base_uri": "https://localhost:8080/"
        },
        "id": "gczCYU8-IyZB",
        "outputId": "11c2261a-ad46-4418-e686-42864818e267"
      },
      "execution_count": 18,
      "outputs": [
        {
          "output_type": "stream",
          "name": "stdout",
          "text": [
            "Glucose            5\n",
            "BloodPressure     35\n",
            "SkinThickness    227\n",
            "Insulin          374\n",
            "BMI               11\n",
            "dtype: int64\n"
          ]
        }
      ]
    },
    {
      "cell_type": "code",
      "source": [
        "# Замінюємо нульові значення на NaN\n",
        "df[['Glucose',\t'BloodPressure',\t'SkinThickness',\t'Insulin',\t'BMI']] = df[['Glucose',\t'BloodPressure',\t'SkinThickness',\t'Insulin',\t'BMI']].replace(0, np.NaN)\n",
        "\n",
        "# Підраховуємо кількість значень NaN у кожному стовпчику\n",
        "print(df.isnull().sum())"
      ],
      "metadata": {
        "colab": {
          "base_uri": "https://localhost:8080/"
        },
        "id": "sgHQ2Ek-Je48",
        "outputId": "a5670aaf-86a8-4d53-824e-208977373043"
      },
      "execution_count": 19,
      "outputs": [
        {
          "output_type": "stream",
          "name": "stdout",
          "text": [
            "Pregnancies                   0\n",
            "Glucose                       5\n",
            "BloodPressure                35\n",
            "SkinThickness               227\n",
            "Insulin                     374\n",
            "BMI                          11\n",
            "DiabetesPedigreeFunction      0\n",
            "Age                           0\n",
            "Outcome                       0\n",
            "dtype: int64\n"
          ]
        }
      ]
    },
    {
      "cell_type": "code",
      "source": [
        "df.head(21)"
      ],
      "metadata": {
        "colab": {
          "base_uri": "https://localhost:8080/",
          "height": 707
        },
        "id": "n-bWSJevKTj1",
        "outputId": "ebf63748-48e2-4c51-d62e-bebb015e1ba3"
      },
      "execution_count": 20,
      "outputs": [
        {
          "output_type": "execute_result",
          "data": {
            "text/plain": [
              "    Pregnancies  Glucose  BloodPressure  SkinThickness  Insulin   BMI  \\\n",
              "0             6    148.0           72.0           35.0      NaN  33.6   \n",
              "1             1     85.0           66.0           29.0      NaN  26.6   \n",
              "2             8    183.0           64.0            NaN      NaN  23.3   \n",
              "3             1     89.0           66.0           23.0     94.0  28.1   \n",
              "4             0    137.0           40.0           35.0    168.0  43.1   \n",
              "5             5    116.0           74.0            NaN      NaN  25.6   \n",
              "6             3     78.0           50.0           32.0     88.0  31.0   \n",
              "7            10    115.0            NaN            NaN      NaN  35.3   \n",
              "8             2    197.0           70.0           45.0    543.0  30.5   \n",
              "9             8    125.0           96.0            NaN      NaN   NaN   \n",
              "10            4    110.0           92.0            NaN      NaN  37.6   \n",
              "11           10    168.0           74.0            NaN      NaN  38.0   \n",
              "12           10    139.0           80.0            NaN      NaN  27.1   \n",
              "13            1    189.0           60.0           23.0    846.0  30.1   \n",
              "14            5    166.0           72.0           19.0    175.0  25.8   \n",
              "15            7    100.0            NaN            NaN      NaN  30.0   \n",
              "16            0    118.0           84.0           47.0    230.0  45.8   \n",
              "17            7    107.0           74.0            NaN      NaN  29.6   \n",
              "18            1    103.0           30.0           38.0     83.0  43.3   \n",
              "19            1    115.0           70.0           30.0     96.0  34.6   \n",
              "20            3    126.0           88.0           41.0    235.0  39.3   \n",
              "\n",
              "    DiabetesPedigreeFunction  Age  Outcome  \n",
              "0                      0.627   50        1  \n",
              "1                      0.351   31        0  \n",
              "2                      0.672   32        1  \n",
              "3                      0.167   21        0  \n",
              "4                      2.288   33        1  \n",
              "5                      0.201   30        0  \n",
              "6                      0.248   26        1  \n",
              "7                      0.134   29        0  \n",
              "8                      0.158   53        1  \n",
              "9                      0.232   54        1  \n",
              "10                     0.191   30        0  \n",
              "11                     0.537   34        1  \n",
              "12                     1.441   57        0  \n",
              "13                     0.398   59        1  \n",
              "14                     0.587   51        1  \n",
              "15                     0.484   32        1  \n",
              "16                     0.551   31        1  \n",
              "17                     0.254   31        1  \n",
              "18                     0.183   33        0  \n",
              "19                     0.529   32        1  \n",
              "20                     0.704   27        0  "
            ],
            "text/html": [
              "\n",
              "  <div id=\"df-2b86634d-9c26-4659-afdd-84b08e293429\" class=\"colab-df-container\">\n",
              "    <div>\n",
              "<style scoped>\n",
              "    .dataframe tbody tr th:only-of-type {\n",
              "        vertical-align: middle;\n",
              "    }\n",
              "\n",
              "    .dataframe tbody tr th {\n",
              "        vertical-align: top;\n",
              "    }\n",
              "\n",
              "    .dataframe thead th {\n",
              "        text-align: right;\n",
              "    }\n",
              "</style>\n",
              "<table border=\"1\" class=\"dataframe\">\n",
              "  <thead>\n",
              "    <tr style=\"text-align: right;\">\n",
              "      <th></th>\n",
              "      <th>Pregnancies</th>\n",
              "      <th>Glucose</th>\n",
              "      <th>BloodPressure</th>\n",
              "      <th>SkinThickness</th>\n",
              "      <th>Insulin</th>\n",
              "      <th>BMI</th>\n",
              "      <th>DiabetesPedigreeFunction</th>\n",
              "      <th>Age</th>\n",
              "      <th>Outcome</th>\n",
              "    </tr>\n",
              "  </thead>\n",
              "  <tbody>\n",
              "    <tr>\n",
              "      <th>0</th>\n",
              "      <td>6</td>\n",
              "      <td>148.0</td>\n",
              "      <td>72.0</td>\n",
              "      <td>35.0</td>\n",
              "      <td>NaN</td>\n",
              "      <td>33.6</td>\n",
              "      <td>0.627</td>\n",
              "      <td>50</td>\n",
              "      <td>1</td>\n",
              "    </tr>\n",
              "    <tr>\n",
              "      <th>1</th>\n",
              "      <td>1</td>\n",
              "      <td>85.0</td>\n",
              "      <td>66.0</td>\n",
              "      <td>29.0</td>\n",
              "      <td>NaN</td>\n",
              "      <td>26.6</td>\n",
              "      <td>0.351</td>\n",
              "      <td>31</td>\n",
              "      <td>0</td>\n",
              "    </tr>\n",
              "    <tr>\n",
              "      <th>2</th>\n",
              "      <td>8</td>\n",
              "      <td>183.0</td>\n",
              "      <td>64.0</td>\n",
              "      <td>NaN</td>\n",
              "      <td>NaN</td>\n",
              "      <td>23.3</td>\n",
              "      <td>0.672</td>\n",
              "      <td>32</td>\n",
              "      <td>1</td>\n",
              "    </tr>\n",
              "    <tr>\n",
              "      <th>3</th>\n",
              "      <td>1</td>\n",
              "      <td>89.0</td>\n",
              "      <td>66.0</td>\n",
              "      <td>23.0</td>\n",
              "      <td>94.0</td>\n",
              "      <td>28.1</td>\n",
              "      <td>0.167</td>\n",
              "      <td>21</td>\n",
              "      <td>0</td>\n",
              "    </tr>\n",
              "    <tr>\n",
              "      <th>4</th>\n",
              "      <td>0</td>\n",
              "      <td>137.0</td>\n",
              "      <td>40.0</td>\n",
              "      <td>35.0</td>\n",
              "      <td>168.0</td>\n",
              "      <td>43.1</td>\n",
              "      <td>2.288</td>\n",
              "      <td>33</td>\n",
              "      <td>1</td>\n",
              "    </tr>\n",
              "    <tr>\n",
              "      <th>5</th>\n",
              "      <td>5</td>\n",
              "      <td>116.0</td>\n",
              "      <td>74.0</td>\n",
              "      <td>NaN</td>\n",
              "      <td>NaN</td>\n",
              "      <td>25.6</td>\n",
              "      <td>0.201</td>\n",
              "      <td>30</td>\n",
              "      <td>0</td>\n",
              "    </tr>\n",
              "    <tr>\n",
              "      <th>6</th>\n",
              "      <td>3</td>\n",
              "      <td>78.0</td>\n",
              "      <td>50.0</td>\n",
              "      <td>32.0</td>\n",
              "      <td>88.0</td>\n",
              "      <td>31.0</td>\n",
              "      <td>0.248</td>\n",
              "      <td>26</td>\n",
              "      <td>1</td>\n",
              "    </tr>\n",
              "    <tr>\n",
              "      <th>7</th>\n",
              "      <td>10</td>\n",
              "      <td>115.0</td>\n",
              "      <td>NaN</td>\n",
              "      <td>NaN</td>\n",
              "      <td>NaN</td>\n",
              "      <td>35.3</td>\n",
              "      <td>0.134</td>\n",
              "      <td>29</td>\n",
              "      <td>0</td>\n",
              "    </tr>\n",
              "    <tr>\n",
              "      <th>8</th>\n",
              "      <td>2</td>\n",
              "      <td>197.0</td>\n",
              "      <td>70.0</td>\n",
              "      <td>45.0</td>\n",
              "      <td>543.0</td>\n",
              "      <td>30.5</td>\n",
              "      <td>0.158</td>\n",
              "      <td>53</td>\n",
              "      <td>1</td>\n",
              "    </tr>\n",
              "    <tr>\n",
              "      <th>9</th>\n",
              "      <td>8</td>\n",
              "      <td>125.0</td>\n",
              "      <td>96.0</td>\n",
              "      <td>NaN</td>\n",
              "      <td>NaN</td>\n",
              "      <td>NaN</td>\n",
              "      <td>0.232</td>\n",
              "      <td>54</td>\n",
              "      <td>1</td>\n",
              "    </tr>\n",
              "    <tr>\n",
              "      <th>10</th>\n",
              "      <td>4</td>\n",
              "      <td>110.0</td>\n",
              "      <td>92.0</td>\n",
              "      <td>NaN</td>\n",
              "      <td>NaN</td>\n",
              "      <td>37.6</td>\n",
              "      <td>0.191</td>\n",
              "      <td>30</td>\n",
              "      <td>0</td>\n",
              "    </tr>\n",
              "    <tr>\n",
              "      <th>11</th>\n",
              "      <td>10</td>\n",
              "      <td>168.0</td>\n",
              "      <td>74.0</td>\n",
              "      <td>NaN</td>\n",
              "      <td>NaN</td>\n",
              "      <td>38.0</td>\n",
              "      <td>0.537</td>\n",
              "      <td>34</td>\n",
              "      <td>1</td>\n",
              "    </tr>\n",
              "    <tr>\n",
              "      <th>12</th>\n",
              "      <td>10</td>\n",
              "      <td>139.0</td>\n",
              "      <td>80.0</td>\n",
              "      <td>NaN</td>\n",
              "      <td>NaN</td>\n",
              "      <td>27.1</td>\n",
              "      <td>1.441</td>\n",
              "      <td>57</td>\n",
              "      <td>0</td>\n",
              "    </tr>\n",
              "    <tr>\n",
              "      <th>13</th>\n",
              "      <td>1</td>\n",
              "      <td>189.0</td>\n",
              "      <td>60.0</td>\n",
              "      <td>23.0</td>\n",
              "      <td>846.0</td>\n",
              "      <td>30.1</td>\n",
              "      <td>0.398</td>\n",
              "      <td>59</td>\n",
              "      <td>1</td>\n",
              "    </tr>\n",
              "    <tr>\n",
              "      <th>14</th>\n",
              "      <td>5</td>\n",
              "      <td>166.0</td>\n",
              "      <td>72.0</td>\n",
              "      <td>19.0</td>\n",
              "      <td>175.0</td>\n",
              "      <td>25.8</td>\n",
              "      <td>0.587</td>\n",
              "      <td>51</td>\n",
              "      <td>1</td>\n",
              "    </tr>\n",
              "    <tr>\n",
              "      <th>15</th>\n",
              "      <td>7</td>\n",
              "      <td>100.0</td>\n",
              "      <td>NaN</td>\n",
              "      <td>NaN</td>\n",
              "      <td>NaN</td>\n",
              "      <td>30.0</td>\n",
              "      <td>0.484</td>\n",
              "      <td>32</td>\n",
              "      <td>1</td>\n",
              "    </tr>\n",
              "    <tr>\n",
              "      <th>16</th>\n",
              "      <td>0</td>\n",
              "      <td>118.0</td>\n",
              "      <td>84.0</td>\n",
              "      <td>47.0</td>\n",
              "      <td>230.0</td>\n",
              "      <td>45.8</td>\n",
              "      <td>0.551</td>\n",
              "      <td>31</td>\n",
              "      <td>1</td>\n",
              "    </tr>\n",
              "    <tr>\n",
              "      <th>17</th>\n",
              "      <td>7</td>\n",
              "      <td>107.0</td>\n",
              "      <td>74.0</td>\n",
              "      <td>NaN</td>\n",
              "      <td>NaN</td>\n",
              "      <td>29.6</td>\n",
              "      <td>0.254</td>\n",
              "      <td>31</td>\n",
              "      <td>1</td>\n",
              "    </tr>\n",
              "    <tr>\n",
              "      <th>18</th>\n",
              "      <td>1</td>\n",
              "      <td>103.0</td>\n",
              "      <td>30.0</td>\n",
              "      <td>38.0</td>\n",
              "      <td>83.0</td>\n",
              "      <td>43.3</td>\n",
              "      <td>0.183</td>\n",
              "      <td>33</td>\n",
              "      <td>0</td>\n",
              "    </tr>\n",
              "    <tr>\n",
              "      <th>19</th>\n",
              "      <td>1</td>\n",
              "      <td>115.0</td>\n",
              "      <td>70.0</td>\n",
              "      <td>30.0</td>\n",
              "      <td>96.0</td>\n",
              "      <td>34.6</td>\n",
              "      <td>0.529</td>\n",
              "      <td>32</td>\n",
              "      <td>1</td>\n",
              "    </tr>\n",
              "    <tr>\n",
              "      <th>20</th>\n",
              "      <td>3</td>\n",
              "      <td>126.0</td>\n",
              "      <td>88.0</td>\n",
              "      <td>41.0</td>\n",
              "      <td>235.0</td>\n",
              "      <td>39.3</td>\n",
              "      <td>0.704</td>\n",
              "      <td>27</td>\n",
              "      <td>0</td>\n",
              "    </tr>\n",
              "  </tbody>\n",
              "</table>\n",
              "</div>\n",
              "    <div class=\"colab-df-buttons\">\n",
              "\n",
              "  <div class=\"colab-df-container\">\n",
              "    <button class=\"colab-df-convert\" onclick=\"convertToInteractive('df-2b86634d-9c26-4659-afdd-84b08e293429')\"\n",
              "            title=\"Convert this dataframe to an interactive table.\"\n",
              "            style=\"display:none;\">\n",
              "\n",
              "  <svg xmlns=\"http://www.w3.org/2000/svg\" height=\"24px\" viewBox=\"0 -960 960 960\">\n",
              "    <path d=\"M120-120v-720h720v720H120Zm60-500h600v-160H180v160Zm220 220h160v-160H400v160Zm0 220h160v-160H400v160ZM180-400h160v-160H180v160Zm440 0h160v-160H620v160ZM180-180h160v-160H180v160Zm440 0h160v-160H620v160Z\"/>\n",
              "  </svg>\n",
              "    </button>\n",
              "\n",
              "  <style>\n",
              "    .colab-df-container {\n",
              "      display:flex;\n",
              "      gap: 12px;\n",
              "    }\n",
              "\n",
              "    .colab-df-convert {\n",
              "      background-color: #E8F0FE;\n",
              "      border: none;\n",
              "      border-radius: 50%;\n",
              "      cursor: pointer;\n",
              "      display: none;\n",
              "      fill: #1967D2;\n",
              "      height: 32px;\n",
              "      padding: 0 0 0 0;\n",
              "      width: 32px;\n",
              "    }\n",
              "\n",
              "    .colab-df-convert:hover {\n",
              "      background-color: #E2EBFA;\n",
              "      box-shadow: 0px 1px 2px rgba(60, 64, 67, 0.3), 0px 1px 3px 1px rgba(60, 64, 67, 0.15);\n",
              "      fill: #174EA6;\n",
              "    }\n",
              "\n",
              "    .colab-df-buttons div {\n",
              "      margin-bottom: 4px;\n",
              "    }\n",
              "\n",
              "    [theme=dark] .colab-df-convert {\n",
              "      background-color: #3B4455;\n",
              "      fill: #D2E3FC;\n",
              "    }\n",
              "\n",
              "    [theme=dark] .colab-df-convert:hover {\n",
              "      background-color: #434B5C;\n",
              "      box-shadow: 0px 1px 3px 1px rgba(0, 0, 0, 0.15);\n",
              "      filter: drop-shadow(0px 1px 2px rgba(0, 0, 0, 0.3));\n",
              "      fill: #FFFFFF;\n",
              "    }\n",
              "  </style>\n",
              "\n",
              "    <script>\n",
              "      const buttonEl =\n",
              "        document.querySelector('#df-2b86634d-9c26-4659-afdd-84b08e293429 button.colab-df-convert');\n",
              "      buttonEl.style.display =\n",
              "        google.colab.kernel.accessAllowed ? 'block' : 'none';\n",
              "\n",
              "      async function convertToInteractive(key) {\n",
              "        const element = document.querySelector('#df-2b86634d-9c26-4659-afdd-84b08e293429');\n",
              "        const dataTable =\n",
              "          await google.colab.kernel.invokeFunction('convertToInteractive',\n",
              "                                                    [key], {});\n",
              "        if (!dataTable) return;\n",
              "\n",
              "        const docLinkHtml = 'Like what you see? Visit the ' +\n",
              "          '<a target=\"_blank\" href=https://colab.research.google.com/notebooks/data_table.ipynb>data table notebook</a>'\n",
              "          + ' to learn more about interactive tables.';\n",
              "        element.innerHTML = '';\n",
              "        dataTable['output_type'] = 'display_data';\n",
              "        await google.colab.output.renderOutput(dataTable, element);\n",
              "        const docLink = document.createElement('div');\n",
              "        docLink.innerHTML = docLinkHtml;\n",
              "        element.appendChild(docLink);\n",
              "      }\n",
              "    </script>\n",
              "  </div>\n",
              "\n",
              "\n",
              "<div id=\"df-b855340f-5b95-40a4-9f13-13bc159d2ce0\">\n",
              "  <button class=\"colab-df-quickchart\" onclick=\"quickchart('df-b855340f-5b95-40a4-9f13-13bc159d2ce0')\"\n",
              "            title=\"Suggest charts\"\n",
              "            style=\"display:none;\">\n",
              "\n",
              "<svg xmlns=\"http://www.w3.org/2000/svg\" height=\"24px\"viewBox=\"0 0 24 24\"\n",
              "     width=\"24px\">\n",
              "    <g>\n",
              "        <path d=\"M19 3H5c-1.1 0-2 .9-2 2v14c0 1.1.9 2 2 2h14c1.1 0 2-.9 2-2V5c0-1.1-.9-2-2-2zM9 17H7v-7h2v7zm4 0h-2V7h2v10zm4 0h-2v-4h2v4z\"/>\n",
              "    </g>\n",
              "</svg>\n",
              "  </button>\n",
              "\n",
              "<style>\n",
              "  .colab-df-quickchart {\n",
              "      --bg-color: #E8F0FE;\n",
              "      --fill-color: #1967D2;\n",
              "      --hover-bg-color: #E2EBFA;\n",
              "      --hover-fill-color: #174EA6;\n",
              "      --disabled-fill-color: #AAA;\n",
              "      --disabled-bg-color: #DDD;\n",
              "  }\n",
              "\n",
              "  [theme=dark] .colab-df-quickchart {\n",
              "      --bg-color: #3B4455;\n",
              "      --fill-color: #D2E3FC;\n",
              "      --hover-bg-color: #434B5C;\n",
              "      --hover-fill-color: #FFFFFF;\n",
              "      --disabled-bg-color: #3B4455;\n",
              "      --disabled-fill-color: #666;\n",
              "  }\n",
              "\n",
              "  .colab-df-quickchart {\n",
              "    background-color: var(--bg-color);\n",
              "    border: none;\n",
              "    border-radius: 50%;\n",
              "    cursor: pointer;\n",
              "    display: none;\n",
              "    fill: var(--fill-color);\n",
              "    height: 32px;\n",
              "    padding: 0;\n",
              "    width: 32px;\n",
              "  }\n",
              "\n",
              "  .colab-df-quickchart:hover {\n",
              "    background-color: var(--hover-bg-color);\n",
              "    box-shadow: 0 1px 2px rgba(60, 64, 67, 0.3), 0 1px 3px 1px rgba(60, 64, 67, 0.15);\n",
              "    fill: var(--button-hover-fill-color);\n",
              "  }\n",
              "\n",
              "  .colab-df-quickchart-complete:disabled,\n",
              "  .colab-df-quickchart-complete:disabled:hover {\n",
              "    background-color: var(--disabled-bg-color);\n",
              "    fill: var(--disabled-fill-color);\n",
              "    box-shadow: none;\n",
              "  }\n",
              "\n",
              "  .colab-df-spinner {\n",
              "    border: 2px solid var(--fill-color);\n",
              "    border-color: transparent;\n",
              "    border-bottom-color: var(--fill-color);\n",
              "    animation:\n",
              "      spin 1s steps(1) infinite;\n",
              "  }\n",
              "\n",
              "  @keyframes spin {\n",
              "    0% {\n",
              "      border-color: transparent;\n",
              "      border-bottom-color: var(--fill-color);\n",
              "      border-left-color: var(--fill-color);\n",
              "    }\n",
              "    20% {\n",
              "      border-color: transparent;\n",
              "      border-left-color: var(--fill-color);\n",
              "      border-top-color: var(--fill-color);\n",
              "    }\n",
              "    30% {\n",
              "      border-color: transparent;\n",
              "      border-left-color: var(--fill-color);\n",
              "      border-top-color: var(--fill-color);\n",
              "      border-right-color: var(--fill-color);\n",
              "    }\n",
              "    40% {\n",
              "      border-color: transparent;\n",
              "      border-right-color: var(--fill-color);\n",
              "      border-top-color: var(--fill-color);\n",
              "    }\n",
              "    60% {\n",
              "      border-color: transparent;\n",
              "      border-right-color: var(--fill-color);\n",
              "    }\n",
              "    80% {\n",
              "      border-color: transparent;\n",
              "      border-right-color: var(--fill-color);\n",
              "      border-bottom-color: var(--fill-color);\n",
              "    }\n",
              "    90% {\n",
              "      border-color: transparent;\n",
              "      border-bottom-color: var(--fill-color);\n",
              "    }\n",
              "  }\n",
              "</style>\n",
              "\n",
              "  <script>\n",
              "    async function quickchart(key) {\n",
              "      const quickchartButtonEl =\n",
              "        document.querySelector('#' + key + ' button');\n",
              "      quickchartButtonEl.disabled = true;  // To prevent multiple clicks.\n",
              "      quickchartButtonEl.classList.add('colab-df-spinner');\n",
              "      try {\n",
              "        const charts = await google.colab.kernel.invokeFunction(\n",
              "            'suggestCharts', [key], {});\n",
              "      } catch (error) {\n",
              "        console.error('Error during call to suggestCharts:', error);\n",
              "      }\n",
              "      quickchartButtonEl.classList.remove('colab-df-spinner');\n",
              "      quickchartButtonEl.classList.add('colab-df-quickchart-complete');\n",
              "    }\n",
              "    (() => {\n",
              "      let quickchartButtonEl =\n",
              "        document.querySelector('#df-b855340f-5b95-40a4-9f13-13bc159d2ce0 button');\n",
              "      quickchartButtonEl.style.display =\n",
              "        google.colab.kernel.accessAllowed ? 'block' : 'none';\n",
              "    })();\n",
              "  </script>\n",
              "</div>\n",
              "    </div>\n",
              "  </div>\n"
            ],
            "application/vnd.google.colaboratory.intrinsic+json": {
              "type": "dataframe",
              "variable_name": "df",
              "summary": "{\n  \"name\": \"df\",\n  \"rows\": 768,\n  \"fields\": [\n    {\n      \"column\": \"Pregnancies\",\n      \"properties\": {\n        \"dtype\": \"number\",\n        \"std\": 3,\n        \"min\": 0,\n        \"max\": 17,\n        \"num_unique_values\": 17,\n        \"samples\": [\n          6,\n          1,\n          3\n        ],\n        \"semantic_type\": \"\",\n        \"description\": \"\"\n      }\n    },\n    {\n      \"column\": \"Glucose\",\n      \"properties\": {\n        \"dtype\": \"number\",\n        \"std\": 30.53564107280403,\n        \"min\": 44.0,\n        \"max\": 199.0,\n        \"num_unique_values\": 135,\n        \"samples\": [\n          135.0,\n          134.0,\n          86.0\n        ],\n        \"semantic_type\": \"\",\n        \"description\": \"\"\n      }\n    },\n    {\n      \"column\": \"BloodPressure\",\n      \"properties\": {\n        \"dtype\": \"number\",\n        \"std\": 12.382158210105263,\n        \"min\": 24.0,\n        \"max\": 122.0,\n        \"num_unique_values\": 46,\n        \"samples\": [\n          102.0,\n          85.0,\n          86.0\n        ],\n        \"semantic_type\": \"\",\n        \"description\": \"\"\n      }\n    },\n    {\n      \"column\": \"SkinThickness\",\n      \"properties\": {\n        \"dtype\": \"number\",\n        \"std\": 10.476982369987212,\n        \"min\": 7.0,\n        \"max\": 99.0,\n        \"num_unique_values\": 50,\n        \"samples\": [\n          36.0,\n          12.0,\n          28.0\n        ],\n        \"semantic_type\": \"\",\n        \"description\": \"\"\n      }\n    },\n    {\n      \"column\": \"Insulin\",\n      \"properties\": {\n        \"dtype\": \"number\",\n        \"std\": 118.77585518724514,\n        \"min\": 14.0,\n        \"max\": 846.0,\n        \"num_unique_values\": 185,\n        \"samples\": [\n          240.0,\n          18.0,\n          274.0\n        ],\n        \"semantic_type\": \"\",\n        \"description\": \"\"\n      }\n    },\n    {\n      \"column\": \"BMI\",\n      \"properties\": {\n        \"dtype\": \"number\",\n        \"std\": 6.924988332105907,\n        \"min\": 18.2,\n        \"max\": 67.1,\n        \"num_unique_values\": 247,\n        \"samples\": [\n          27.6,\n          31.0,\n          38.1\n        ],\n        \"semantic_type\": \"\",\n        \"description\": \"\"\n      }\n    },\n    {\n      \"column\": \"DiabetesPedigreeFunction\",\n      \"properties\": {\n        \"dtype\": \"number\",\n        \"std\": 0.33132859501277484,\n        \"min\": 0.078,\n        \"max\": 2.42,\n        \"num_unique_values\": 517,\n        \"samples\": [\n          1.731,\n          0.426,\n          0.138\n        ],\n        \"semantic_type\": \"\",\n        \"description\": \"\"\n      }\n    },\n    {\n      \"column\": \"Age\",\n      \"properties\": {\n        \"dtype\": \"number\",\n        \"std\": 11,\n        \"min\": 21,\n        \"max\": 81,\n        \"num_unique_values\": 52,\n        \"samples\": [\n          60,\n          47,\n          72\n        ],\n        \"semantic_type\": \"\",\n        \"description\": \"\"\n      }\n    },\n    {\n      \"column\": \"Outcome\",\n      \"properties\": {\n        \"dtype\": \"number\",\n        \"std\": 0,\n        \"min\": 0,\n        \"max\": 1,\n        \"num_unique_values\": 2,\n        \"samples\": [\n          0,\n          1\n        ],\n        \"semantic_type\": \"\",\n        \"description\": \"\"\n      }\n    }\n  ]\n}"
            }
          },
          "metadata": {},
          "execution_count": 20
        }
      ]
    },
    {
      "cell_type": "markdown",
      "source": [
        "# ***Відсутність значень спричиняє проблеми***"
      ],
      "metadata": {
        "id": "pu2Wh6uFKeAR"
      }
    },
    {
      "cell_type": "markdown",
      "source": [
        "*Відсутність значень у наборі даних може призвести до помилок у деяких алгоритмах машинного навчання. Для прикладу, спробуємо скористатися алгоритмом лінійного дискримінантного аналізу ( Linear Discriminant Analysis, LDA) на наборі даних з пропущеними значеннями*"
      ],
      "metadata": {
        "id": "gvVpNNg-Ksqj"
      }
    },
    {
      "cell_type": "markdown",
      "source": [],
      "metadata": {
        "id": "hR8bptHkLiC_"
      }
    },
    {
      "cell_type": "code",
      "source": [
        "from sklearn.discriminant_analysis import LinearDiscriminantAnalysis\n",
        "from sklearn.model_selection import KFold\n",
        "from sklearn.model_selection import cross_val_score\n"
      ],
      "metadata": {
        "id": "3CN9bU94K4Dg"
      },
      "execution_count": 21,
      "outputs": []
    },
    {
      "cell_type": "code",
      "source": [
        "# # Розділяємо набір даних на вхідні значення та цільову змінну\n",
        "# values = df.values\n",
        "# X = values[:,:8]\n",
        "# y = values[:,8]\n",
        "\n",
        "# # Створюємо об'єкт моделі\n",
        "# model = LinearDiscriminantAnalysis()\n",
        "\n",
        "# # Визначаємо процедуру оцінювання моделі\n",
        "# cv = KFold(n_splits=3, shuffle=True, random_state=1)\n",
        "\n",
        "# # Оцінюємо модель\n",
        "# # При виконанні даної операції буде показана помилка:\n",
        "# # ValueError: Input X contains NaN.\n",
        "# # LinearDiscriminantAnalysis does not accept missing values encoded as NaN natively\n",
        "# result = cross_val_score(model, X, y, cv=cv, scoring='accuracy')\n",
        "\n",
        "# # Роздрукуємо показник середньої точності\n",
        "# print(f'Точність: {result.mean():.3f}')"
      ],
      "metadata": {
        "id": "jpUkgzf8LBTb"
      },
      "execution_count": 22,
      "outputs": []
    },
    {
      "cell_type": "markdown",
      "source": [
        "#***Видалення рядків з пропущеними значеннями***\n",
        "\n",
        "**Найпростіший підхід до роботи з пропущеними значеннями - видалити всі цільові змінні та\\або дані, які містять пропущені значення**\n",
        "\n",
        "Ми можемо зробити це, створивши новий Pandas DataFrame з видаленими рядками, що містять пропущені значення. Pandas надає функцію dropna(), яку можна використовувати для видалення стовпців або рядків з відсутніми даними. Ми можемо використати dropna() для видалення всіх рядків з відсутніми даними"
      ],
      "metadata": {
        "id": "Nsm5oCAxLX5j"
      }
    },
    {
      "cell_type": "code",
      "source": [
        "from numpy import nan\n",
        "from pandas import read_csv\n",
        "\n",
        "# Завантажуємо датасет\n",
        "file_path = '/content/drive/My Drive/Colab Notebooks/Colab/Diabetes/diabetes.csv'\n",
        "df = pd.read_csv(file_path)\n",
        "\n",
        "# Роздрукуємо \"форму\" датасету, тобто кількість рядків та сповпців\n",
        "print(df.shape)\n",
        "\n",
        "# Замінюємо нульові значення на NaN\n",
        "df[['Glucose',\t'BloodPressure',\t'SkinThickness',\t'Insulin',\t'BMI']] = df[['Glucose',\t'BloodPressure',\t'SkinThickness',\t'Insulin',\t'BMI']].replace(0, np.NaN)\n",
        "\n",
        "# Видалення пропущених значень. Параметр inplace визначає, що повертає метод\n",
        "# Якщо параметр дорівнює True, видалення відбувається безпосередньо в датасеті, для\n",
        "# якого був викликаний метод. Якщо параметр дорівнює False, метод dropna() повертає новий датасет\n",
        "# з видаленими пропущеними значеннями, об'єкт, для якого був викликаний метод, залишається незмінним.\n",
        "df.dropna(inplace=True)\n",
        "\n",
        "print(df.shape)"
      ],
      "metadata": {
        "colab": {
          "base_uri": "https://localhost:8080/"
        },
        "id": "SVmDcKUTLvOg",
        "outputId": "5aab24c1-389f-4c4f-c339-d6e93c2c3111"
      },
      "execution_count": 23,
      "outputs": [
        {
          "output_type": "stream",
          "name": "stdout",
          "text": [
            "(768, 9)\n",
            "(392, 9)\n"
          ]
        }
      ]
    },
    {
      "cell_type": "markdown",
      "source": [
        "***Тепер у нас є набір даних, який ми можемо використовувати для оцінки алгоритму, чутливого до пропущених значень, такого як LDA.***"
      ],
      "metadata": {
        "id": "Yj1PJLEsMJbD"
      }
    },
    {
      "cell_type": "code",
      "source": [
        "# Розділяємо набір даних на вхідні значення та цільову змінну\n",
        "values = df.values\n",
        "X = values[:,:8]\n",
        "y = values[:,8]\n",
        "\n",
        "# Створюємо об'єкт моделі\n",
        "model = LinearDiscriminantAnalysis()\n",
        "\n",
        "# Визначаємо процедуру оцінювання моделі\n",
        "cv = KFold(n_splits=3, shuffle=True, random_state=1)\n",
        "\n",
        "# Оцінюємо модель\n",
        "result = cross_val_score(model, X, y, cv=cv, scoring='accuracy')\n",
        "\n",
        "# Роздрукуємо показник середньої точності\n",
        "print(f'Точність: {result.mean():.3f}')"
      ],
      "metadata": {
        "colab": {
          "base_uri": "https://localhost:8080/"
        },
        "id": "oQEGJ7oNMSyj",
        "outputId": "0508af5e-c52a-4aca-db21-cd9bd4831030"
      },
      "execution_count": 24,
      "outputs": [
        {
          "output_type": "stream",
          "name": "stdout",
          "text": [
            "Точність: 0.781\n"
          ]
        }
      ]
    },
    {
      "cell_type": "markdown",
      "source": [
        "***Недоліком даного подходу є те, що видалення рядків із пропущеними значеннями може суттєво зменшити об'єм вибірки та призвести до зменшення якості навчання моделі. Тому далі треба розглянути інші стратегії для вирішення проблеми пропущених рядків.***"
      ],
      "metadata": {
        "id": "3JO2gJluM66o"
      }
    },
    {
      "cell_type": "markdown",
      "source": [
        "# ***Імпутація пропущених значень***\n",
        "\n",
        "\n",
        "\n",
        "Імпутація - це використання моделі для заміни відсутніх значень. Існує багато варіантів, які можна розглянути, наприклад, при заміні відсутнього значення:\n",
        "\n",
        "Постійне значення, яке має значення в межах домену, наприклад, 0, відмінне від усіх інших значень\n",
        "\n",
        "Значення з іншого випадково вибраного запису.\n",
        "\n",
        "Середнє, медіана або мода для стовпчика.\n",
        "\n",
        "Значення, оцінене іншою моделлю прогнозування."
      ],
      "metadata": {
        "id": "v5Gs-z2JhJQ3"
      }
    },
    {
      "cell_type": "markdown",
      "source": [
        "Будь-яке обчислення, виконане на навчальному наборі даних, доведеться виконувати на нових даних у майбутньому, коли знадобляться прогнози від доопрацьованої моделі. Це потрібно враховувати при виборі способу обчислення пропущених значень. Наприклад, якщо ви вирішите провести імпутацію за середніми значеннями стовпців, ці середні значення стовпців потрібно буде зберегти у файлі для подальшого використання з новими даними, які містять пропущені значення."
      ],
      "metadata": {
        "id": "ZpFPHW_Biyks"
      }
    },
    {
      "cell_type": "markdown",
      "source": [
        "**Pandas надає функцію fillna() для заміни пропущених значень певним значенням. Використаємо цю функцію для заміни відсутпніх значень середніми значеннями для кожного стовпчику**"
      ],
      "metadata": {
        "id": "x9mhNFhjjLi2"
      }
    },
    {
      "cell_type": "code",
      "source": [
        "from numpy import nan\n",
        "from pandas import read_csv\n",
        "\n",
        "# Завантажуємо датасет\n",
        "file_path = '/content/drive/My Drive/Colab Notebooks/Colab/Diabetes/diabetes.csv'\n",
        "df = pd.read_csv(file_path)\n",
        "\n",
        "# Роздрукуємо \"форму\" датасету, тобто кількість рядків та сповпців\n",
        "print(df.shape)\n",
        "\n",
        "# Замінюємо нульові значення на NaN\n",
        "df[['Glucose',\t'BloodPressure',\t'SkinThickness',\t'Insulin',\t'BMI']] = df[['Glucose',\t'BloodPressure',\t'SkinThickness',\t'Insulin',\t'BMI']].replace(0, np.NaN)\n",
        "\n",
        "# Заповнюємо пропущені значення середніми значеннями стовпців\n",
        "df.fillna(df.mean(), inplace=True)\n",
        "\n",
        "# Підрахуємо кількість значень NaN у кожному стовпчику\n",
        "print(df.isnull().sum())"
      ],
      "metadata": {
        "colab": {
          "base_uri": "https://localhost:8080/"
        },
        "id": "sF7SQaGohI8b",
        "outputId": "c4a08f1f-0981-4d17-df48-ca7cc8777ad9"
      },
      "execution_count": 25,
      "outputs": [
        {
          "output_type": "stream",
          "name": "stdout",
          "text": [
            "(768, 9)\n",
            "Pregnancies                 0\n",
            "Glucose                     0\n",
            "BloodPressure               0\n",
            "SkinThickness               0\n",
            "Insulin                     0\n",
            "BMI                         0\n",
            "DiabetesPedigreeFunction    0\n",
            "Age                         0\n",
            "Outcome                     0\n",
            "dtype: int64\n"
          ]
        }
      ]
    },
    {
      "cell_type": "markdown",
      "source": [
        "reliabler"
      ],
      "metadata": {
        "id": "2QFCBH0K3DE1"
      }
    },
    {
      "cell_type": "markdown",
      "source": [
        "Бібліотека scikit-learn надає клас попередньої обробки ***SimpleImputer***, який можна використовувати для заміни відсутніх значень."
      ],
      "metadata": {
        "_uuid": "f1c0f6c9-e4b6-4e74-a38c-4151cecf3b76",
        "_cell_guid": "41a23d93-2fad-4988-b136-3158857564e3",
        "formattedRanges": [
          {
            "url": "https://scikit-learn.org/stable/modules/generated/sklearn.impute.SimpleImputer.html",
            "type": "link",
            "ranges": [],
            "toCodePoint": 68,
            "fromCodePoint": 55
          }
        ],
        "cell_id": "ce94750873ec4e45ba04766e300da1ee",
        "deepnote_cell_type": "text-cell-p",
        "trusted": true,
        "id": "lFFNQsOeinC0"
      }
    },
    {
      "cell_type": "markdown",
      "source": [
        "Це гнучкий клас, який дозволяє вам вказати значення для заміни (це може бути щось інше, ніж NaN) і метод, який використовується для заміни (наприклад, середнє значення, медіана або мода). Клас SimpleImputer працює безпосередньо з масивом NumPy замість DataFrame."
      ],
      "metadata": {
        "_uuid": "a9254ed3-97eb-4e7a-bce7-3bb4c07c9a61",
        "_cell_guid": "919625dc-3368-4fc3-92ff-7804a7bf4e7f",
        "formattedRanges": [
          {
            "type": "marks",
            "marks": {
              "code": true
            },
            "toCodePoint": 95,
            "fromCodePoint": 92
          },
          {
            "type": "marks",
            "marks": {
              "code": true
            },
            "toCodePoint": 206,
            "fromCodePoint": 193
          }
        ],
        "cell_id": "1925bc81a7af4d4caa1fcf9a97989cd3",
        "deepnote_cell_type": "text-cell-p",
        "trusted": true,
        "id": "XQStNzYwinC0"
      }
    },
    {
      "cell_type": "markdown",
      "source": [
        "У наведеному нижче прикладі клас SimpleImputer замінює відсутні значення середнім значенням кожного стовпчика, а потім виводить кількість значень NaN у перетвореній матриці."
      ],
      "metadata": {
        "_uuid": "e06d29fc-6a08-4f21-95ec-44a38620d7f2",
        "_cell_guid": "f69b3edd-f211-45c1-867d-b2b039f38532",
        "formattedRanges": [
          {
            "type": "marks",
            "marks": {
              "code": true
            },
            "toCodePoint": 46,
            "fromCodePoint": 33
          },
          {
            "type": "marks",
            "marks": {
              "code": true
            },
            "toCodePoint": 149,
            "fromCodePoint": 146
          }
        ],
        "cell_id": "27e991d56c8442a783d8af96bc7ded39",
        "deepnote_cell_type": "text-cell-p",
        "trusted": true,
        "id": "bsUh2ELDinC0"
      }
    },
    {
      "cell_type": "code",
      "source": [
        "from numpy import nan\n",
        "from pandas import read_csv\n",
        "from numpy import isnan\n",
        "from sklearn.impute import SimpleImputer\n",
        "\n",
        "# Завантажуємо датасет\n",
        "file_path = '/content/drive/My Drive/Colab Notebooks/Colab/Diabetes/diabetes.csv'\n",
        "df = pd.read_csv(file_path)\n",
        "\n",
        "# Роздрукуємо \"форму\" датасету, тобто кількість рядків та сповпців\n",
        "print(df.shape)\n",
        "\n",
        "# Замінюємо нульові значення на NaN\n",
        "df[['Glucose',\t'BloodPressure',\t'SkinThickness',\t'Insulin',\t'BMI']] = df[['Glucose',\t'BloodPressure',\t'SkinThickness',\t'Insulin',\t'BMI']].replace(0, np.NaN)\n",
        "\n",
        "# Отримуємо масив numpy\n",
        "values = df.values\n",
        "\n",
        "# Створюємо об'єкт імпутера\n",
        "imputer = SimpleImputer(missing_values=nan, strategy='mean')\n",
        "\n",
        "# Трансформуємо датасет\n",
        "transformed_values = imputer.fit_transform(values)\n",
        "\n",
        "# Підрахуємо кількість значень NaN у кожному стовпчику\n",
        "print(f'Відсутні значення: {isnan(transformed_values).sum()}')"
      ],
      "metadata": {
        "colab": {
          "base_uri": "https://localhost:8080/"
        },
        "id": "Y8-S_UsX3LzS",
        "outputId": "2a388faa-3fae-4119-e96e-c1a48ea498d0"
      },
      "execution_count": 26,
      "outputs": [
        {
          "output_type": "stream",
          "name": "stdout",
          "text": [
            "(768, 9)\n",
            "Відсутні значення: 0\n"
          ]
        }
      ]
    },
    {
      "cell_type": "markdown",
      "source": [
        "# ***Імпутація пропущених значень за допомогою KNN-імпутера***\n",
        "\n",
        "Дотепер ми розглядали прості стратегії імпутації за допомогою методу pandas fillna() та SimpleImputer від scikit-learn.\n",
        "\n",
        "Імпутація KNN або K ***найближчих сусідів*** є ще однією технікою для обробки пропущених значень. Для виконання цієї імпутації ви можете використовувати клас KNNImputer з scikit-learn.\n",
        "\n",
        "Для точки даних з відсутніми значеннями цей метод визначає K найближчих точок за обраною метрикою відстані (за замовчуванням - евклідова). Кількість найближчих точок або сусідів задається параметром n_neighbors. За замовчуванням розглядаються 5 найближчих сусідів.\n",
        "\n",
        "Розглянемо функцію з пропущеними значеннями. Відсутнє значення є середнім значенням значень цієї ознаки для K найближчих сусідів, за замовчуванням зважених рівномірно.\n",
        "\n",
        "У наведеному нижче прикладі використовується клас KNNImputer з n_neighbors, встановленим у 4, для обчислення відсутніх значень за алгоритмом найближчих сусідів."
      ],
      "metadata": {
        "id": "WfqU6eCt-CB9"
      }
    },
    {
      "cell_type": "code",
      "source": [
        "from numpy import nan\n",
        "from pandas import read_csv\n",
        "from numpy import isnan\n",
        "from sklearn.impute import KNNImputer\n",
        "\n",
        "# Завантажуємо датасет\n",
        "file_path = '/content/drive/My Drive/Colab Notebooks/Colab/Diabetes/diabetes.csv'\n",
        "df = pd.read_csv(file_path)\n",
        "\n",
        "# Роздрукуємо \"форму\" датасету, тобто кількість рядків та сповпців\n",
        "print(df.shape)\n",
        "\n",
        "# Замінюємо нульові значення на NaN\n",
        "df[['Glucose',\t'BloodPressure',\t'SkinThickness',\t'Insulin',\t'BMI']] = df[['Glucose',\t'BloodPressure',\t'SkinThickness',\t'Insulin',\t'BMI']].replace(0, np.NaN)\n",
        "\n",
        "# Отримуємо масив numpy\n",
        "values = df.values\n",
        "\n",
        "\n",
        "# Створюємо об'єкт імпутера\n",
        "imputer = KNNImputer(n_neighbors=4)\n",
        "\n",
        "# Трансформуємо набір даних\n",
        "transformed_values = imputer.fit_transform(values)\n",
        "\n",
        "# Підрахуємо кількість значень NaN у кожному стовпчику\n",
        "print(f'Вістутні значення: {isnan(transformed_values).sum()}')"
      ],
      "metadata": {
        "colab": {
          "base_uri": "https://localhost:8080/"
        },
        "id": "bVU5M1WIsBBy",
        "outputId": "4b918fa6-2904-4550-ac84-6a7275d32883"
      },
      "execution_count": 27,
      "outputs": [
        {
          "output_type": "stream",
          "name": "stdout",
          "text": [
            "(768, 9)\n",
            "Вістутні значення: 0\n"
          ]
        }
      ]
    },
    {
      "cell_type": "markdown",
      "source": [
        "Розглянемо приклад роботи алгоритму LDA з трансформованим набором даних. Щоб уникнути витоку даних, ми використовуємо KNN імпутер в конвеєрі разом з LDA класифікатором, щоб він підходив лише до вибірок з навчального набору даних.\n",
        "\n",
        "\n"
      ],
      "metadata": {
        "id": "njrUOWXIsQcL"
      }
    },
    {
      "cell_type": "code",
      "source": [
        "from numpy import nan\n",
        "from pandas import read_csv\n",
        "from sklearn.pipeline import Pipeline\n",
        "from sklearn.impute import KNNImputer\n",
        "from sklearn.discriminant_analysis import LinearDiscriminantAnalysis\n",
        "from sklearn.model_selection import KFold\n",
        "from sklearn.model_selection import cross_val_score\n",
        "\n",
        "# Завантажуємо датасет\n",
        "file_path = '/content/drive/My Drive/Colab Notebooks/Colab/Diabetes/diabetes.csv'\n",
        "df = pd.read_csv(file_path)\n",
        "\n",
        "# Роздрукуємо \"форму\" датасету, тобто кількість рядків та сповпців\n",
        "print(df.shape)\n",
        "\n",
        "# Замінюємо нульові значення на NaN\n",
        "df[['Glucose',\t'BloodPressure',\t'SkinThickness',\t'Insulin',\t'BMI']] = df[['Glucose',\t'BloodPressure',\t'SkinThickness',\t'Insulin',\t'BMI']].replace(0, np.NaN)\n",
        "\n",
        "# Розділяємо набір даних на вхідні значення та цільову змінну\n",
        "values = df.values\n",
        "X = values[:,:8]\n",
        "y = values[:,8]\n",
        "\n",
        "# Створюємо об'єкт імпутера\n",
        "imputer = KNNImputer(n_neighbors=4)\n",
        "\n",
        "# Створюємо об'єкт моделі\n",
        "model = LinearDiscriminantAnalysis()\n",
        "\n",
        "# Визначаємо конвеєр для моделювання\n",
        "pipeline = Pipeline(steps=[('imputer', imputer),('model', model)])\n",
        "\n",
        "# Визначаємо процедуру оцінювання моделі\n",
        "cv = KFold(n_splits=3, shuffle=True, random_state=1)\n",
        "\n",
        "# Оцінюємо модель\n",
        "result = cross_val_score(pipeline, X, y, cv=cv, scoring='accuracy')\n",
        "\n",
        "# Роздрукуємо показник середньої точності\n",
        "print(f'Точність: {result.mean():.3f}')"
      ],
      "metadata": {
        "colab": {
          "base_uri": "https://localhost:8080/"
        },
        "id": "MAsjm-yuspxm",
        "outputId": "5b3068ea-585d-4e6e-b2ec-81f702d41343"
      },
      "execution_count": 28,
      "outputs": [
        {
          "output_type": "stream",
          "name": "stdout",
          "text": [
            "(768, 9)\n",
            "Точність: 0.763\n"
          ]
        }
      ]
    },
    {
      "cell_type": "markdown",
      "source": [
        "# ***Імпутація пропущених значень за допомогою ітеративного імпутатора***\n",
        "\n",
        "***Клас IterativeImputer від Scikit-learn*** - це більш складна техніка багатовимірної імплікації.\n",
        "\n",
        "IterativeImputer прогнозує відсутні значення ознаки, моделюючи її як функцію інших ознак. Таким чином, імпутер прогнозує відсутні значення ознаки, використовуючи інші ознаки як предиктори.\n",
        "\n",
        "Потім він обчислює всі пропущені показники по колу. Ця ітерація продовжується ітеративно протягом max_iter кількості разів і за замовчуванням дорівнює 10. Оскільки функція IterativeImputer все ще є експериментальною, ви повинні увімкнути її явно."
      ],
      "metadata": {
        "id": "DBUxjajItptJ"
      }
    },
    {
      "cell_type": "code",
      "source": [
        "from numpy import nan\n",
        "from pandas import read_csv\n",
        "from sklearn.experimental import enable_iterative_imputer\n",
        "from sklearn.impute import IterativeImputer\n",
        "\n",
        "# Завантажуємо датасет\n",
        "file_path = '/content/drive/My Drive/Colab Notebooks/Colab/Diabetes/diabetes.csv'\n",
        "df = pd.read_csv(file_path)\n",
        "\n",
        "# Роздрукуємо \"форму\" датасету, тобто кількість рядків та сповпців\n",
        "print(df.shape)\n",
        "\n",
        "# Замінюємо нульові значення на NaN\n",
        "df[['Glucose',\t'BloodPressure',\t'SkinThickness',\t'Insulin',\t'BMI']] = df[['Glucose',\t'BloodPressure',\t'SkinThickness',\t'Insulin',\t'BMI']].replace(0, np.NaN)\n",
        "\n",
        "\n",
        "# Розділяємо набір даних на вхідні значення та цільову змінну\n",
        "values = df.values\n",
        "\n",
        "# Створюємо об'єкт імпутера\n",
        "imputer = IterativeImputer(random_state=0)\n",
        "\n",
        "# Трансформуємо набір даних\n",
        "transformed_values = imputer.fit_transform(values)\n",
        "\n",
        "# Підрахуємо кількість значень NaN у кожному стовпчику\n",
        "print(f'Вістутні значення: {isnan(transformed_values).sum()}')"
      ],
      "metadata": {
        "colab": {
          "base_uri": "https://localhost:8080/"
        },
        "id": "TvzjXyy0uwjC",
        "outputId": "0e4ff28f-92b1-4740-bcde-f9ba6a95ec00"
      },
      "execution_count": 29,
      "outputs": [
        {
          "output_type": "stream",
          "name": "stdout",
          "text": [
            "(768, 9)\n",
            "Вістутні значення: 0\n"
          ]
        }
      ]
    },
    {
      "cell_type": "markdown",
      "source": [
        "***Розглянемо приклад роботи з алгоритмом LDA з використанням IterativeImputer***"
      ],
      "metadata": {
        "id": "KB2Kfok9ytTT"
      }
    },
    {
      "cell_type": "code",
      "source": [
        "from numpy import nan\n",
        "from pandas import read_csv\n",
        "from sklearn.pipeline import Pipeline\n",
        "from sklearn.experimental import enable_iterative_imputer\n",
        "from sklearn.impute import IterativeImputer\n",
        "from sklearn.discriminant_analysis import LinearDiscriminantAnalysis\n",
        "from sklearn.model_selection import KFold\n",
        "from sklearn.model_selection import cross_val_score\n",
        "\n",
        "\n",
        "# Завантажуємо датасет\n",
        "file_path = '/content/drive/My Drive/Colab Notebooks/Colab/Diabetes/diabetes.csv'\n",
        "df = pd.read_csv(file_path)\n",
        "\n",
        "# Роздрукуємо \"форму\" датасету, тобто кількість рядків та сповпців\n",
        "print(df.shape)\n",
        "\n",
        "# Замінюємо нульові значення на NaN\n",
        "df[['Glucose',\t'BloodPressure',\t'SkinThickness',\t'Insulin',\t'BMI']] = df[['Glucose',\t'BloodPressure',\t'SkinThickness',\t'Insulin',\t'BMI']].replace(0, np.NaN)\n",
        "\n",
        "# Розділяємо набір даних на вхідні значення та цільову змінну\n",
        "values = df.values\n",
        "X = values[:,:8]\n",
        "y = values[:,8]\n",
        "\n",
        "# Створюємо об'єкт імпутера\n",
        "imputer = IterativeImputer(random_state=1)\n",
        "\n",
        "# Створюємо об'єкт моделі\n",
        "model = LinearDiscriminantAnalysis()\n",
        "\n",
        "# Визначаємо конвеєр для моделювання\n",
        "pipeline = Pipeline(steps=[('imputer', imputer),('model', model)])\n",
        "\n",
        "# Визначаємо процедуру оцінювання моделі\n",
        "cv = KFold(n_splits=3, shuffle=True, random_state=1)\n",
        "\n",
        "# Оцінюємо модель\n",
        "result = cross_val_score(pipeline, X, y, cv=cv, scoring='accuracy')\n",
        "\n",
        "# Роздрукуємо показник середньої точності\n",
        "print(f'Точність: {result.mean():.3f}')"
      ],
      "metadata": {
        "colab": {
          "base_uri": "https://localhost:8080/"
        },
        "id": "6AXCAq56yvgV",
        "outputId": "1c913d4a-f286-4ceb-8241-9b1620c733f6"
      },
      "execution_count": 30,
      "outputs": [
        {
          "output_type": "stream",
          "name": "stdout",
          "text": [
            "(768, 9)\n",
            "Точність: 0.760\n"
          ]
        }
      ]
    },
    {
      "cell_type": "markdown",
      "source": [
        "# ***Алгоритми, які працюють за умов наявності пропущених значень***"
      ],
      "metadata": {
        "id": "pry03CpDzQgv"
      }
    },
    {
      "cell_type": "markdown",
      "source": [
        "Не всі алгоритми дають збій за відсутності даних.\n",
        "Існують алгоритми, які можна зробити стійкими до пропущених даних, наприклад, метод k-найближчих сусідів, який може ігнорувати стовпчик з виміру відстані, коли значення відсутнє. Наївний Байєс також може підтримувати відсутні значення при прогнозуванні.\n",
        "\n",
        "***Існують також алгоритми, які можуть використовувати відсутнє значення як унікальне і відмінне від інших при побудові прогнозної моделі, наприклад, класифікаційні та регресійні дерева.***\n",
        "\n",
        "Реалізації scikit-learn для бустінг-оцінок природно обробляють пропущені значення. Однак scikit-learn реалізації наївного байєсу, дерев рішень та k-найближчих сусідів не є стійкими до пропущених значень"
      ],
      "metadata": {
        "id": "jT5mbeP1EqfN"
      }
    },
    {
      "cell_type": "markdown",
      "source": [
        "# ***Кодування пропущених значень за допомогою MissingIndicator***\n",
        "\n",
        "Модуль ***Scikit-learn Impute*** також надає клас **MissingIndicator** для створення бінарних індикаторів пропущених значень у наборах даних.\n",
        "\n",
        "Позначення відсутніх значень за допомогою індикаторів корисно в наступному:\n",
        "\n",
        "***Розуміння шаблонів пропусків у даних.***\n",
        "\n",
        "Керування стратегіями інтерполяції для різних ознак.\n",
        "\n",
        "***Створення нової ознаки, яка вказує на наявність або відсутність значень для певної ознаки.***\n",
        "\n",
        "У наступному прикладі показано, як використовувати MissingIndicator для позначення відсутніх значень і отримання матриці бінарних індикаторів. Параметр features за замовчуванням має значення \"missing-only\", щоб включити лише стовпці ознаки з відсутніми значеннями."
      ],
      "metadata": {
        "id": "mBQ5sERY-c4O"
      }
    },
    {
      "cell_type": "code",
      "source": [
        "from numpy import nan\n",
        "from numpy import isnan\n",
        "from pandas import read_csv\n",
        "from sklearn.impute import MissingIndicator\n",
        "\n",
        "# Завантажуємо датасет\n",
        "file_path = '/content/drive/My Drive/Colab Notebooks/Colab/Diabetes/diabetes.csv'\n",
        "df = pd.read_csv(file_path)\n",
        "\n",
        "# Роздрукуємо \"форму\" датасету, тобто кількість рядків та сповпців\n",
        "print(df.shape)\n",
        "\n",
        "# Замінюємо нульові значення на NaN\n",
        "df[['Glucose',\t'BloodPressure',\t'SkinThickness',\t'Insulin',\t'BMI']] = df[['Glucose',\t'BloodPressure',\t'SkinThickness',\t'Insulin',\t'BMI']].replace(0, np.NaN)\n",
        "\n",
        "# Розділяємо набір даних на вхідні значення та цільову змінну\n",
        "values = df.values\n",
        "\n",
        "# Створюємо об'єкт індикатора\n",
        "indicator = MissingIndicator(features=\"missing-only\", error_on_new=True)\n",
        "\n",
        "# Трансформуємо набір даних\n",
        "transformed_values = indicator.fit_transform(values)\n",
        "\n",
        "# Підрахуємо кількість значень NaN у кожному стовпчику\n",
        "print(f'Вістутні значення: \\n{transformed_values}')"
      ],
      "metadata": {
        "colab": {
          "base_uri": "https://localhost:8080/"
        },
        "id": "o_XCTVBFEqIe",
        "outputId": "fe722ba8-65af-4eef-d2af-5efa5ad47aad"
      },
      "execution_count": 31,
      "outputs": [
        {
          "output_type": "stream",
          "name": "stdout",
          "text": [
            "(768, 9)\n",
            "Вістутні значення: \n",
            "[[False False False  True False]\n",
            " [False False False  True False]\n",
            " [False False  True  True False]\n",
            " ...\n",
            " [False False False False False]\n",
            " [False False  True  True False]\n",
            " [False False False  True False]]\n"
          ]
        }
      ]
    },
    {
      "cell_type": "markdown",
      "source": [
        "# **Витік даних в процесі імпутації пропущених значень**\n",
        "\n",
        "Витік даних ***(Data leakage)*** при імпутації пропущених значень - це ситуація, ***коли інформація з тестового набору даних ненароком використовується під час тренування моделі, що може призвести до переоцінки її ефективності.*** Це особливо актуально, коли використовуються методи імпутації, що залежать від статистичних характеристик всього набору даних.\n",
        "\n",
        "Якщо для імпутації пропущених значень використовуються статистики (середнє, медіана, мода тощо), отримані з усього набору даних, включно з тестовими даними, це може призвести до витоку даних. Наприклад, якщо медіана використовується для заповнення пропусків і вона розрахована на основі всього набору даних, то модель непомітно отримує інформацію про розподіл тестових даних.\n",
        "\n",
        "Один із способів уникнути витоку даних - це розділити дані на тренувальну та тестову вибірки до імпутації. Імпутація тренувальної вибірки повинна виконуватися незалежно, використовуючи лише статистики, отримані з цієї вибірки. Тестові дані потім можуть бути імпутовані використовуючи статистики, отримані тільки з тренувального набору.\n",
        "\n",
        "Якщо використовуються більш складні методи імпутації, наприклад, машинне навчання, то тренування таких моделей повинно виконуватись тільки на тренувальних даних. Модель, використана для імпутації, не повинна бути обучена на тестових даних, навіть непрямо через характеристики набору даних.\n",
        "\n",
        "Під час використання крос-валідації імпутація повинна проводитися окремо в кожному фолді. Це запобігає використанню інформації з валидаційного фолду при обчисленні статистик для імпутації.\n",
        "\n",
        "Завжди важливо моніторити імпутовані значення та перевіряти, чи не призвела імпутація до нелогічних чи неправдоподібних значень. Також корисно перевіряти, чи не впливає імпутація на зміщення моделі.\n",
        "\n",
        "***Загалом, ключ до уникнення витоку даних при імпутації полягає у суворому розділенні даних на тренувальні та тестові перед імпутацією та у використанні лише інформації з тренувальної вибірки для обчислення статистик, які використовуються при імпутації.***\n",
        "\n"
      ],
      "metadata": {
        "id": "PkMFiaxaBu1-"
      }
    },
    {
      "cell_type": "markdown",
      "source": [
        "# ***3. Кодування категорійних ознак***\n",
        "\n",
        "Категоріальні дані, як правило, не можуть безпосередньо оброблятися алгоритмами машинного навчання, оскільки більшість алгоритмів призначені для роботи лише з числовими даними. Тому, перш ніж використовувати категоріальні ознаки як вхідні дані для алгоритмів машинного навчання, їх потрібно закодувати у вигляді числових значень.\n",
        "\n",
        "Існує кілька методів кодування категоріальних ознак, зокрема one-hot encoding, ordinal encoding та target encoding. Вибір методу кодування залежить від конкретних характеристик даних і вимог алгоритму машинного навчання, що використовується.\n",
        "\n",
        "Існує багато різних методів кодування ознак. Деякі вчені виділяють до 15 різних методів кодування ознак:"
      ],
      "metadata": {
        "id": "Q-bPypS9pP83"
      }
    },
    {
      "cell_type": "markdown",
      "source": [
        "One Hot Encoding\n",
        "\n",
        "Label Encoding\n",
        "\n",
        "Ordinal Encoding\n",
        "\n",
        "Helmert Encoding\n",
        "\n",
        "Binary Encoding\n",
        "\n",
        "Frequency Encoding\n",
        "\n",
        "Mean Encoding\n",
        "\n",
        "Weight of Evidence Encoding\n",
        "\n",
        "Probability Ratio Encoding\n",
        "\n",
        "Hashing Encoding\n",
        "\n",
        "Backward Difference Encoding\n",
        "\n",
        "Leave One Out Encoding\n",
        "\n",
        "James-Stein Encoding\n",
        "\n",
        "M-estimator Encoding\n",
        "\n",
        "Thermometer Encoder\n",
        "\n",
        "\n",
        "\n",
        "\n"
      ],
      "metadata": {
        "id": "VxuiKcoipZpu"
      }
    },
    {
      "cell_type": "code",
      "source": [
        "import pandas as pd\n",
        "import numpy as np\n",
        "\n",
        "data = {\n",
        "    'Temperature': ['Hot', 'Cold','Very Hot','Warm','Hot','Warm','Warm','Hot','Hot','Cold'],\n",
        "    'Color': ['Red','Yellow','Blue','Blue','Red','Yellow','Red','Yellow','Yellow','Yellow'],\n",
        "    'Target': [1,1,1,0,1,0,1,0,1,1]\n",
        "}\n",
        "dataset = pd.DataFrame(data, columns = ['Temperature','Color','Target'])\n",
        "\n",
        "print (dataset)"
      ],
      "metadata": {
        "colab": {
          "base_uri": "https://localhost:8080/"
        },
        "id": "yKCnz5mJqEnl",
        "outputId": "801d56f4-d3db-46fc-f27d-d124ba028574"
      },
      "execution_count": 32,
      "outputs": [
        {
          "output_type": "stream",
          "name": "stdout",
          "text": [
            "  Temperature   Color  Target\n",
            "0         Hot     Red       1\n",
            "1        Cold  Yellow       1\n",
            "2    Very Hot    Blue       1\n",
            "3        Warm    Blue       0\n",
            "4         Hot     Red       1\n",
            "5        Warm  Yellow       0\n",
            "6        Warm     Red       1\n",
            "7         Hot  Yellow       0\n",
            "8         Hot  Yellow       1\n",
            "9        Cold  Yellow       1\n"
          ]
        }
      ]
    },
    {
      "cell_type": "markdown",
      "source": [
        "# Кодування One Hot Encoding"
      ],
      "metadata": {
        "id": "G9drKm9GjhHJ"
      }
    },
    {
      "cell_type": "markdown",
      "source": [
        "У цьому методі ми зіставляємо кожну ***категорію з вектором, що містить 1 і 0,*** які позначають наявність або відсутність ознаки. Кількість векторів залежить від кількості категорій для ознак. Цей метод створює багато стовпців, що значно сповільнює навчання, якщо кількість категорій для ознаки дуже велика. У Pandas є функція get_dummies(), яка досить проста у використанні."
      ],
      "metadata": {
        "id": "x9nIjNUKi96F"
      }
    },
    {
      "cell_type": "code",
      "source": [
        "import pandas as pd\n",
        "import numpy as np\n",
        "\n",
        "data = {\n",
        "    'Temperature': ['Hot', 'Cold','Very Hot','Warm','Hot','Warm','Warm','Hot','Hot','Cold'],\n",
        "    'Color': ['Red','Yellow','Blue','Blue','Red','Yellow','Red','Yellow','Yellow','Yellow'],\n",
        "    'Target': [1,1,1,0,1,0,1,0,1,1]\n",
        "}\n",
        "\n",
        "dataset = pd.DataFrame(data, columns = ['Temperature','Color','Target'])\n",
        "\n",
        "result = pd.get_dummies(dataset, prefix=['Temp'], columns=['Temperature'], dtype='int')\n",
        "print(result)\n",
        "\n",
        "print(result.dtypes)"
      ],
      "metadata": {
        "colab": {
          "base_uri": "https://localhost:8080/"
        },
        "id": "CrIyjxtHi9s6",
        "outputId": "2b094c56-bac8-4254-e69b-fc68226ed279"
      },
      "execution_count": 33,
      "outputs": [
        {
          "output_type": "stream",
          "name": "stdout",
          "text": [
            "    Color  Target  Temp_Cold  Temp_Hot  Temp_Very Hot  Temp_Warm\n",
            "0     Red       1          0         1              0          0\n",
            "1  Yellow       1          1         0              0          0\n",
            "2    Blue       1          0         0              1          0\n",
            "3    Blue       0          0         0              0          1\n",
            "4     Red       1          0         1              0          0\n",
            "5  Yellow       0          0         0              0          1\n",
            "6     Red       1          0         0              0          1\n",
            "7  Yellow       0          0         1              0          0\n",
            "8  Yellow       1          0         1              0          0\n",
            "9  Yellow       1          1         0              0          0\n",
            "Color            object\n",
            "Target            int64\n",
            "Temp_Cold         int64\n",
            "Temp_Hot          int64\n",
            "Temp_Very Hot     int64\n",
            "Temp_Warm         int64\n",
            "dtype: object\n"
          ]
        }
      ]
    },
    {
      "cell_type": "markdown",
      "source": [
        "Дане кодування можно також виконати за допомогою класу OneHotEncoder із бібліотеки Scikit-learn, але цей клас не створює додаткових стовпчиків у наборі даних, тому їх треба додавати окремо вручну."
      ],
      "metadata": {
        "id": "l-mB881Ulkq-"
      }
    },
    {
      "cell_type": "code",
      "source": [
        "import pandas as pd\n",
        "import numpy as np\n",
        "from sklearn.preprocessing import OneHotEncoder\n",
        "\n",
        "data = {\n",
        "    'Temperature': ['Hot', 'Cold','Very Hot','Warm','Hot','Warm','Warm','Hot','Hot','Cold'],\n",
        "    'Color': ['Red','Yellow','Blue','Blue','Red','Yellow','Red','Yellow','Yellow','Yellow'],\n",
        "    'Target': [1,1,1,0,1,0,1,0,1,1]\n",
        "}\n",
        "dataset = pd.DataFrame(data, columns = ['Temperature','Color','Target'])\n",
        "\n",
        "encoder = OneHotEncoder()\n",
        "result = encoder.fit_transform(dataset.Temperature.values.reshape(-1,1)).toarray()\n",
        "df_result = pd.DataFrame(result,columns = [\"Temp_\" + str(encoder.categories_[0][i]) for i in range (len(encoder.categories_[0]))])\n",
        "\n",
        "\n",
        "print(result)\n",
        "\n",
        "new_dataset = pd.concat([dataset,df_result], axis=1)\n",
        "\n",
        "print(new_dataset)"
      ],
      "metadata": {
        "colab": {
          "base_uri": "https://localhost:8080/"
        },
        "id": "WCXqodBtlqUM",
        "outputId": "8df2d9f8-3fbf-4170-f48d-5af8d489d0d8"
      },
      "execution_count": 34,
      "outputs": [
        {
          "output_type": "stream",
          "name": "stdout",
          "text": [
            "[[0. 1. 0. 0.]\n",
            " [1. 0. 0. 0.]\n",
            " [0. 0. 1. 0.]\n",
            " [0. 0. 0. 1.]\n",
            " [0. 1. 0. 0.]\n",
            " [0. 0. 0. 1.]\n",
            " [0. 0. 0. 1.]\n",
            " [0. 1. 0. 0.]\n",
            " [0. 1. 0. 0.]\n",
            " [1. 0. 0. 0.]]\n",
            "  Temperature   Color  Target  Temp_Cold  Temp_Hot  Temp_Very Hot  Temp_Warm\n",
            "0         Hot     Red       1        0.0       1.0            0.0        0.0\n",
            "1        Cold  Yellow       1        1.0       0.0            0.0        0.0\n",
            "2    Very Hot    Blue       1        0.0       0.0            1.0        0.0\n",
            "3        Warm    Blue       0        0.0       0.0            0.0        1.0\n",
            "4         Hot     Red       1        0.0       1.0            0.0        0.0\n",
            "5        Warm  Yellow       0        0.0       0.0            0.0        1.0\n",
            "6        Warm     Red       1        0.0       0.0            0.0        1.0\n",
            "7         Hot  Yellow       0        0.0       1.0            0.0        0.0\n",
            "8         Hot  Yellow       1        0.0       1.0            0.0        0.0\n",
            "9        Cold  Yellow       1        1.0       0.0            0.0        0.0\n"
          ]
        }
      ]
    },
    {
      "cell_type": "markdown",
      "source": [
        "***One Hot Encoding*** є дуже популярним методом кодування. Ми можемо представити всі категорії за допомогою N-1 (N = номер категорії), що є достатнім для кодування тієї категорії, яка не включена. Зазвичай, для регресії ми використовуємо N-1 (опускаємо перший або останній стовпчик нової One Hot Coded ознаки). Проте, для класифікації рекомендується використовувати всі N стовпців, оскільки більшість алгоритмів на основі дерева будують дерево на основі всіх доступних змінних.\n",
        "\n",
        "У лінійній регресії слід використовувати One Hot Encoding з N-1 двійковими змінними, щоб забезпечити правильну кількість ступенів свободи (N-1). Лінійна регресія має доступ до всіх ознак, оскільки вона навчається, і тому досліджує весь набір фіктивних змінних разом. Це означає, що N-1 бінарних змінних дають повну інформацію (повністю представляють) вихідну категоріальну змінну для лінійної регресії.\n",
        "\n",
        "**Цей підхід може бути прийнятий для будь-якого алгоритму машинного навчання, який розглядає ВСІ ознаки одночасно під час навчання - наприклад, машини опорних векторів і нейронні мережі, а також алгоритми кластеризаціїм**\n",
        "\n",
        "Ми ніколи не будемо враховувати цю додаткову мітку в методах, заснованих на деревах, якщо відкинемо її. Таким чином, якщо ми використовуємо категоріальні змінні в алгоритмі навчання на основі дерева, найкраще кодувати їх у N двійкових змінних і не відкидати."
      ],
      "metadata": {
        "id": "ExT9ZkLx4sK9"
      }
    },
    {
      "cell_type": "markdown",
      "source": [
        "# **Label Encoding**"
      ],
      "metadata": {
        "id": "5Z-yLn6EBf82"
      }
    },
    {
      "cell_type": "markdown",
      "source": [
        "У цьому кодуванні кожній категорії присвоюється значення від 1 до N (де N - кількість категорій для ознаки). Однією з головних проблем такого підходу є те, що між цими класами немає зв'язку або порядку, але алгоритм може розглядати їх як певний порядок або певний зв'язок. У наведеному нижче прикладі це може виглядати так (Холодний<Гарячий<Дуже гарячий<Теплий....0 < 1 < 2 < 3 )"
      ],
      "metadata": {
        "id": "oi7s0DddB73M"
      }
    },
    {
      "cell_type": "code",
      "source": [
        "import pandas as pd\n",
        "import numpy as np\n",
        "from sklearn.preprocessing import LabelEncoder\n",
        "\n",
        "data = {\n",
        "    'Temperature': ['Hot', 'Cold','Very Hot','Warm','Hot','Warm','Warm','Hot','Hot','Cold'],\n",
        "    'Color': ['Red','Yellow','Blue','Blue','Red','Yellow','Red','Yellow','Yellow','Yellow'],\n",
        "    'Target': [1,1,1,0,1,0,1,0,1,1]\n",
        "}\n",
        "dataset = pd.DataFrame(data, columns = ['Temperature','Color','Target'])\n",
        "\n",
        "encoder = LabelEncoder()\n",
        "\n",
        "dataset['Temp_label_encoded'] = LabelEncoder().fit_transform(dataset.Temperature)\n",
        "\n",
        "print(dataset)"
      ],
      "metadata": {
        "colab": {
          "base_uri": "https://localhost:8080/"
        },
        "id": "tHB8EDn8C79m",
        "outputId": "e67e049c-f732-49f0-f1f1-1dc534c919ba"
      },
      "execution_count": 35,
      "outputs": [
        {
          "output_type": "stream",
          "name": "stdout",
          "text": [
            "  Temperature   Color  Target  Temp_label_encoded\n",
            "0         Hot     Red       1                   1\n",
            "1        Cold  Yellow       1                   0\n",
            "2    Very Hot    Blue       1                   2\n",
            "3        Warm    Blue       0                   3\n",
            "4         Hot     Red       1                   1\n",
            "5        Warm  Yellow       0                   3\n",
            "6        Warm     Red       1                   3\n",
            "7         Hot  Yellow       0                   1\n",
            "8         Hot  Yellow       1                   1\n",
            "9        Cold  Yellow       1                   0\n"
          ]
        }
      ]
    },
    {
      "cell_type": "markdown",
      "source": [
        "Функція factorize() з бібліотеки Pandas виконує таку ж роль"
      ],
      "metadata": {
        "id": "5jNhh9zrEM4z"
      }
    },
    {
      "cell_type": "code",
      "source": [
        "import pandas as pd\n",
        "import numpy as np\n",
        "\n",
        "data = {\n",
        "    'Temperature': ['Hot', 'Cold','Very Hot','Warm','Hot','Warm','Warm','Hot','Hot','Cold'],\n",
        "    'Color': ['Red','Yellow','Blue','Blue','Red','Yellow','Red','Yellow','Yellow','Yellow'],\n",
        "    'Target': [1,1,1,0,1,0,1,0,1,1]\n",
        "}\n",
        "dataset = pd.DataFrame(data, columns = ['Temperature','Color','Target'])\n",
        "\n",
        "encoder = LabelEncoder()\n",
        "\n",
        "dataset.loc[:,'Temp_factorize_encode'] = pd.factorize(dataset['Temperature'])[0].reshape(-1,1)\n",
        "\n",
        "print(dataset)"
      ],
      "metadata": {
        "colab": {
          "base_uri": "https://localhost:8080/"
        },
        "id": "GM-OjclhEPhG",
        "outputId": "a03cef52-963f-4566-b2a4-fb608d804225"
      },
      "execution_count": 36,
      "outputs": [
        {
          "output_type": "stream",
          "name": "stdout",
          "text": [
            "  Temperature   Color  Target  Temp_factorize_encode\n",
            "0         Hot     Red       1                      0\n",
            "1        Cold  Yellow       1                      1\n",
            "2    Very Hot    Blue       1                      2\n",
            "3        Warm    Blue       0                      3\n",
            "4         Hot     Red       1                      0\n",
            "5        Warm  Yellow       0                      3\n",
            "6        Warm     Red       1                      3\n",
            "7         Hot  Yellow       0                      0\n",
            "8         Hot  Yellow       1                      0\n",
            "9        Cold  Yellow       1                      1\n"
          ]
        }
      ]
    },
    {
      "cell_type": "markdown",
      "source": [
        "Метод LabelEncoding треба **використовувати з обережністю,** тому що цей метод п**рисвоює унікальний номер (починаючи з 0) кожному класу даних.** Це може призвести до виникнення проблем з пріоритетами під час навчання моделі на наборах даних. Мітка з більшим значенням може вважатися більш пріоритетною, ніж мітка з меншим значенням.\n",
        "\n",
        "Наприклад, уявімо собі, що в даних існує ознака зі значеннями Mexico, Paris, Dubai. При кодуванні міток у цьому стовпчику Мексика замінюється на 0, Париж - на 1, а Дубай - на 2. Це може бути інтерпретовано як те, що Дубай має вищий пріоритет, ніж Мексика та Париж, під час навчання моделі, але насправді такого співвідношення пріоритетів між цими містами не існує.\n",
        "\n",
        "Алгоритми машинного навчання ***на базі дерев рішень працюють з методом LabelEncoding без проблем***, тоді як алгоритми машинного навчання, які припускають лінійну залежність (наприклад, лінійна регресія) є дуже чуттєвими до використання методу LabelEncoding.\n",
        "\n",
        "Великою перевагою методу LabelEncoding є те, що для кодування категоріальних ознак використовується лише один стовпчик, що дозволяє зменшити витрати пам'яті та прискорити роботу алгоритмів машинного навчання. Також, цей метод можна використовувати у випадку, коли категоріальна ознака має лише два варіанти (Так\\Ні, Вірно\\Невірно тощо).\n",
        "\n",
        "Крім того, оскільки Label Encoding присвоює довільні числові значення категоріям, ці значення можуть мати дуже різний масштаб, що вимагатиме додаткової нормалізації даних перед використанням у моделях машинного навчання\n",
        "\n",
        "Якщо категоріальні дані мають порядковий характер, то можна використати варіант LabelEncoding під назвою Ordinal Encoding, про який буде йти мова нижче.\n",
        "\n"
      ],
      "metadata": {
        "id": "xQHRSKRLEr-A"
      }
    },
    {
      "cell_type": "markdown",
      "source": [
        "# ***Ordinal Encoding***"
      ],
      "metadata": {
        "id": "bvWLS31bFPpg"
      }
    },
    {
      "cell_type": "markdown",
      "source": [
        "Ordinal Encoding - це метод кодування категоріальних змінних, за якого кожній унікальній категорії присвоюється ціле число відповідно до їхнього порядку. Цей метод особливо корисний, коли категорії можуть бути впорядковані або ранжовані за значимістю."
      ],
      "metadata": {
        "id": "XRjWXbBeFXko"
      }
    },
    {
      "cell_type": "code",
      "source": [
        "import pandas as pd\n",
        "import numpy as np\n",
        "from sklearn.preprocessing import OrdinalEncoder\n",
        "\n",
        "data = {\n",
        "    'Temperature': ['Hot', 'Cold','Very Hot','Warm','Hot','Warm','Warm','Hot','Hot','Cold'],\n",
        "    'Color': ['Red','Yellow','Blue','Blue','Red','Yellow','Red','Yellow','Yellow','Yellow'],\n",
        "    'Target': [1,1,1,0,1,0,1,0,1,1]\n",
        "}\n",
        "dataset = pd.DataFrame(data, columns = ['Temperature','Color','Target'])\n",
        "\n",
        "encoder = OrdinalEncoder(categories = [['Cold','Warm','Hot','Very Hot']])\n",
        "\n",
        "dataset['Temp_encoded'] = encoder.fit_transform(dataset[['Temperature']])\n",
        "\n",
        "print(dataset)"
      ],
      "metadata": {
        "colab": {
          "base_uri": "https://localhost:8080/"
        },
        "id": "pgXqaRD7Fms2",
        "outputId": "271bdd41-d6d2-411d-c2b5-b3a65b6c42ea"
      },
      "execution_count": 37,
      "outputs": [
        {
          "output_type": "stream",
          "name": "stdout",
          "text": [
            "  Temperature   Color  Target  Temp_encoded\n",
            "0         Hot     Red       1           2.0\n",
            "1        Cold  Yellow       1           0.0\n",
            "2    Very Hot    Blue       1           3.0\n",
            "3        Warm    Blue       0           1.0\n",
            "4         Hot     Red       1           2.0\n",
            "5        Warm  Yellow       0           1.0\n",
            "6        Warm     Red       1           1.0\n",
            "7         Hot  Yellow       0           2.0\n",
            "8         Hot  Yellow       1           2.0\n",
            "9        Cold  Yellow       1           0.0\n"
          ]
        }
      ]
    },
    {
      "cell_type": "code",
      "source": [
        "import pandas as pd\n",
        "import numpy as np\n",
        "\n",
        "data = {\n",
        "    'Temperature': ['Hot', 'Cold','Very Hot','Warm','Hot','Warm','Warm','Hot','Hot','Cold'],\n",
        "    'Color': ['Red','Yellow','Blue','Blue','Red','Yellow','Red','Yellow','Yellow','Yellow'],\n",
        "    'Target': [1,1,1,0,1,0,1,0,1,1]\n",
        "}\n",
        "dataset = pd.DataFrame(data, columns = ['Temperature','Color','Target'])\n",
        "\n",
        "dict = {\n",
        "    'Cold': 1,\n",
        "    'Warm': 2,\n",
        "    'Hot': 3,\n",
        "    'Very Hot': 4\n",
        "    }\n",
        "\n",
        "dataset['Temp_encoded'] = dataset.Temperature.map(dict)\n",
        "\n",
        "print(dataset)"
      ],
      "metadata": {
        "colab": {
          "base_uri": "https://localhost:8080/"
        },
        "id": "igu6UAzGGCwh",
        "outputId": "b2110b6a-47ff-4290-fb4b-38cebfebebf3"
      },
      "execution_count": 38,
      "outputs": [
        {
          "output_type": "stream",
          "name": "stdout",
          "text": [
            "  Temperature   Color  Target  Temp_encoded\n",
            "0         Hot     Red       1             3\n",
            "1        Cold  Yellow       1             1\n",
            "2    Very Hot    Blue       1             4\n",
            "3        Warm    Blue       0             2\n",
            "4         Hot     Red       1             3\n",
            "5        Warm  Yellow       0             2\n",
            "6        Warm     Red       1             2\n",
            "7         Hot  Yellow       0             3\n",
            "8         Hot  Yellow       1             3\n",
            "9        Cold  Yellow       1             1\n"
          ]
        }
      ]
    },
    {
      "cell_type": "markdown",
      "source": [
        "# ***4. Видалення дублікатів***"
      ],
      "metadata": {
        "id": "JEZfoytzGIwk"
      }
    },
    {
      "cell_type": "markdown",
      "source": [
        "Видалення дублікатів - це процес ідентифікації та вилучення повторюваних записів у наборі даних. Це критично важливий крок у підготовці даних, оскільки дублікати можуть спотворювати результати аналізу та впливати на ефективність та точність моделей машинного навчання."
      ],
      "metadata": {
        "_uuid": "31de7084-3e54-4c4f-9f3f-0ba0acbd71d7",
        "_cell_guid": "b46360a1-69e7-4799-822a-bc5907d3d911",
        "formattedRanges": [],
        "cell_id": "3574235265ee47acb43583ac4a8f2b05",
        "deepnote_cell_type": "text-cell-p",
        "trusted": true,
        "id": "R9ar8ZHJinC5"
      }
    },
    {
      "cell_type": "code",
      "source": [
        "import pandas as pd\n",
        "\n",
        "# Створення DataFrame\n",
        "data = {'Name': ['John', 'Anna', 'John', 'Mike'],\n",
        "        'Age': [28, 22, 28, 32],\n",
        "        'City': ['New York', 'Paris', 'New York', 'Boston']}\n",
        "\n",
        "df = pd.DataFrame(data)\n",
        "\n",
        "print(\"Оригінальний набір даних:\")\n",
        "print(df)\n",
        "\n",
        "# Видалення дублікатів\n",
        "df_unique = df.drop_duplicates()\n",
        "\n",
        "print(\"\\nНабір даних після видалення дублікатів:\")\n",
        "print(df_unique)"
      ],
      "metadata": {
        "colab": {
          "base_uri": "https://localhost:8080/"
        },
        "id": "zr49VBSTGpxf",
        "outputId": "5dfc3461-caf4-420c-d8d8-70bbb21ab770"
      },
      "execution_count": 39,
      "outputs": [
        {
          "output_type": "stream",
          "name": "stdout",
          "text": [
            "Оригінальний набір даних:\n",
            "   Name  Age      City\n",
            "0  John   28  New York\n",
            "1  Anna   22     Paris\n",
            "2  John   28  New York\n",
            "3  Mike   32    Boston\n",
            "\n",
            "Набір даних після видалення дублікатів:\n",
            "   Name  Age      City\n",
            "0  John   28  New York\n",
            "1  Anna   22     Paris\n",
            "3  Mike   32    Boston\n"
          ]
        }
      ]
    },
    {
      "cell_type": "markdown",
      "source": [
        "Видалення даних треба здійснювати перед розділенням даних на навчальну та тестову вибірки, для запобігання витоку інформації.\n",
        "\n",
        "Застосування видалення дублікатів залежить від контексту дослідження та специфіки даних. В деяких випадках дублікати можуть відображати важливі, повторювані спостереження в наборі даних. Також, іноді буває так, що кожен запис відповідає унікальній події або спостереженню, навіть якщо деякі поля даних співпадають."
      ],
      "metadata": {
        "id": "kUtzgpF-GvHW"
      }
    },
    {
      "cell_type": "markdown",
      "source": [
        "# ***5. Нормалізація та стандартизація ознак***\n",
        "\n",
        "Здебільшого ми стикаємося з різними типами змінних з різними діапазонами, які можуть суттєво відрізнятися в одному і тому ж наборі даних. Якщо ми використовуємо дані з оригінальним масштабом, ми, безумовно, надамо більшої ваги змінним з великим діапазоном.\n",
        "\n",
        "Тому нам потрібно застосувати те, що називається перемасштабуванням ознак, щоб переконатися, що змінні мають майже однаковий масштаб, що дозволяє розглядати ознаки як однаково важливі. Часто ми звертаємося до понять стандартизації або нормалізації ознак.\n",
        "\n",
        "***Нормалізація означає, що ми змінюємо діапазон значень без зміни форми розподілу. Діапазон часто встановлюється в межах від 0 до 1 або від -1 до 1.***\n",
        "\n",
        "***Стандартизація означає перетворення розподілу даних у нормальну форму і перетворення середнього значення даних на 0, а його дисперсії - на 1.***\n",
        "\n",
        "Багато алгоритмів машинного навчання працюють краще або сходяться швидше, коли ознаки близькі до нормально розподілених і мають відносно схожий масштаб. Важливо трансформувати дані для кожної ознаки, щоб дисперсія кожної ознаки була еквівалентною іншим за порядком величини, щоб уникнути домінування цільової функції (наприклад, ядра радіальної базисної функції машин з опорними векторами), яка може зробити оцінювач нездатним правильно навчатися.\n",
        "\n",
        "***Масштабування даних необхідне в алгоритмах, що базуються на градієнтному спуску (лінійна регресія, нейронні мережі) та алгоритмах, що базуються на відстані (k-найближчих сусідів, k-середніх, SVM)***. Наприклад, немає сенсу стандартизувати дані перед вимірюванням важливості змінних у регресійних моделях або перед використанням регресій ласо та хребтових регресій.\n",
        "\n",
        "Причина стандартизації даних не однакова для всіх алгоритмів машинного навчання. Наприклад, у моделях на основі відстаней ми виконуємо стандартизацію, щоб запобігти домінуванню ознак з більш широкими діапазонами в метриці відстані. ***Деякі алгоритми, зокрема деревоподібні, такі як дерево рішень, випадковий ліс і градієнтний бустінг, не чутливі до величини змінних.***\n",
        "\n",
        "Розглянемо приклад нормалізації та стандартизації за допомогою набору даних, який містить дані об'єму сірої речовини у мозку різних пацієнтів. Спочатку імпортуємо необхідні бібліотеки"
      ],
      "metadata": {
        "id": "2N7ynFOaG1mh"
      }
    },
    {
      "cell_type": "code",
      "source": [
        "import pandas as pd\n",
        "import numpy as np\n",
        "import matplotlib.pyplot as plt\n",
        "import seaborn as sns\n",
        "from scipy.stats import skew\n",
        "import warnings\n",
        "warnings.simplefilter(action='ignore', category=FutureWarning)\n",
        "from sklearn import preprocessing\n",
        "import os"
      ],
      "metadata": {
        "id": "fyjs8XQ0IDKe"
      },
      "execution_count": 40,
      "outputs": []
    },
    {
      "cell_type": "code",
      "source": [],
      "metadata": {
        "id": "35PBHI9YIKNv"
      },
      "execution_count": 40,
      "outputs": []
    },
    {
      "cell_type": "code",
      "source": [
        "from numpy import nan\n",
        "from numpy import isnan\n",
        "from pandas import read_csv\n",
        "from sklearn.impute import MissingIndicator\n",
        "\n",
        "# Завантажуємо датасет\n",
        "csv_data = '/content/drive/My Drive/Colab Notebooks/Colab/Diabetes/brain_train.csv'\n",
        "data = pd.read_csv(csv_data, delimiter=';')\n",
        "\n",
        "df = data[[\"Target\",\"TotalGrayVol\"]]\n",
        "y = df.loc[:, df.columns == 'Target'].values.ravel()\n",
        "X = df.loc[:, df.columns != 'Target']"
      ],
      "metadata": {
        "_uuid": "631b8577-d568-4ec5-b39b-80dba803afd9",
        "_cell_guid": "78ad3d60-082f-47ed-9c33-fe26c76794ea",
        "source_hash": null,
        "execution_start": 1714334295734,
        "execution_millis": 131,
        "deepnote_to_be_reexecuted": false,
        "cell_id": "9a7091718d52450dbeefe67494da9c8d",
        "deepnote_cell_type": "code",
        "jupyter": {
          "outputs_hidden": false
        },
        "trusted": true,
        "id": "vTEi2R3sinC6"
      },
      "outputs": [],
      "execution_count": null
    },
    {
      "cell_type": "markdown",
      "source": [
        "# ***Стандартизація даних***\n",
        "\n",
        "Спочатку розглянемо процес стандартизації даних. Результатом стандартизації набору даних (або нормалізації Z-рахунку) є те, що ознаки перемасштабуються так, щоб середнє значення та стандартне відхилення дорівнювали 0 та 1 відповідно. Цей процес необхідний, коли безперервні незалежні змінні були виміряні в різних масштабах, наприклад, в різних одиницях виміру.\n",
        "\n",
        "StandardScaler видаляє середнє значення і масштабує до одиничної дисперсії:\n",
        "\n",
        "$z=\\frac{x-mean(x)}{stdev(x)}$\n",
        "\n",
        "Багато оцінок машинного навчання поводитимуться погано, якщо окремі ознаки не є стандартними, нормально розподіленими даними (гаусіана з нульовим середнім та одиничною дисперсією). Здебільшого аналітики даних не звертають уваги на форму розподілу. Вони просто центрують дані, видаляючи середнє значення кожної ознаки, і масштабують їх, ділячи непостійні значення на їхнє стандартне відхилення. Техніка StandardScaler передбачає, що дані розподілені нормально. По суті, ідея стандартизації набору даних полягає в тому, щоб мати рівний діапазон і дисперсію від перемасштабованої вихідної змінної.\n",
        "\n",
        "\n",
        "\n",
        "Під час стандартизації ознаки масштабуються так, щоб середнє значення та стандартне відхилення дорівнювали 0 та 1 відповідно.\n",
        "\n",
        "\n",
        "\n",
        "Результатом цього перетворення є те, що ми змістили середнє значення до 0; таким чином, більшість даних (68%) будуть знаходитися між -1 та 1.\n",
        "\n",
        "Уявімо, що дані не є нормально розподіленими і що 50% точок даних мають значення 0, а решта 50% мають значення 1. Гаусове масштабування віднесе половину даних до -1, а іншу половину до +1; дані будуть віддалені від 0. Залежно від форми наших даних, ми повинні розглянути інші види масштабування, які дадуть кращі результати."
      ],
      "metadata": {
        "id": "A8LfmxHMLMhJ"
      }
    },
    {
      "cell_type": "code",
      "source": [
        "StandardScaler = preprocessing.StandardScaler()\n",
        "stdscaler_transformed = StandardScaler.fit_transform(X)\n",
        "\n",
        "plt.rcParams[\"figure.figsize\"] = 13,5\n",
        "fig,ax = plt.subplots(1,2)\n",
        "sns.distplot(X, label= \"Початковий нахил: {0}\".format(np.round(skew(X),4)),\n",
        "color=\"magenta\", ax=ax[0], axlabel=\"ORGINAL\")\n",
        "sns.distplot(stdscaler_transformed, label= \"Трансформований нахил: {0}\".format(np.round\n",
        "(skew(stdscaler_transformed),4)), color=\"g\", ax=ax[1], axlabel=\"StandardScaler\")\n",
        "fig.legend()\n",
        "plt.show()"
      ],
      "metadata": {
        "id": "CtDUnBXzLgT0"
      },
      "execution_count": null,
      "outputs": []
    },
    {
      "cell_type": "markdown",
      "source": [
        "Ми бачимо, що форма розподілу не змінилася. Вершина кривої, як і очікувалося, зосереджена в точці 0."
      ],
      "metadata": {
        "id": "p5MVjwdoMdXS"
      }
    },
    {
      "cell_type": "markdown",
      "source": [
        "# ***Нормалізація даних Min-Max***\n",
        "\n",
        "Нормалізація даних Min-max (MinMaxScaler) може бути дуже корисна для деяких моделей машинного навчання. MinMaxScaler має деякі переваги над StandardScaler, коли розподіл даних не є гауссовим і ознака потрапляє в обмежений інтервал, що зазвичай трапляється з інтенсивністю пікселів, які знаходяться в діапазоні 0-255. Нормалізація даних Min-max обчислюється наступним чином:\n",
        "\n",
        "$z=\\frac{x_i-min(x)}{max(x)-min(x)}$"
      ],
      "metadata": {
        "id": "YhWQp3myMfyd"
      }
    },
    {
      "cell_type": "code",
      "source": [
        "# define MinMaxScaler\n",
        "min_max_scaler = preprocessing.MinMaxScaler()\n",
        "\n",
        "# transform data\n",
        "minmax_transformed = min_max_scaler.fit_transform(X)\n",
        "\n",
        "# plot the result\n",
        "plt.rcParams[\"figure.figsize\"] = 13,5\n",
        "fig,ax = plt.subplots(1,2)\n",
        "sns.distplot(X, label= \"Початковий нахил: {0}\".format(np.round(skew(X),4)), color=\"magenta\", ax=ax[0], axlabel=\"ORGINAL\")\n",
        "sns.distplot(minmax_transformed, label= \"Трансформований нахил: {0}\".format(np.round(skew(minmax_transformed),4)), color=\"g\", ax=ax[1], axlabel=\"MinMaxScaler\")\n",
        "fig.legend()\n",
        "#plt.savefig(folder+'re.png', bbox_inches='tight')\n",
        "plt.show()"
      ],
      "metadata": {
        "id": "ubrq3sFoM6-j"
      },
      "execution_count": null,
      "outputs": []
    },
    {
      "cell_type": "markdown",
      "source": [
        "За замовчуванням, діапазон ознаки знаходиться між 0 і 1. Ми можемо змінити цей діапазон, додавши опцію feature_range:"
      ],
      "metadata": {
        "id": "LN6rkpSWM9ap"
      }
    },
    {
      "cell_type": "code",
      "source": [
        "preprocessing.MinMaxScaler(feature_range=(0, 1))"
      ],
      "metadata": {
        "id": "aIV3wLmqM_if"
      },
      "execution_count": null,
      "outputs": []
    },
    {
      "cell_type": "markdown",
      "source": [
        "# ***Нормалізація даних MaxAbs***\n",
        "\n",
        "Нормалізація MaxAbs схожа на MinMax з тією різницею, що вона автоматично масштабує дані між 0 і 1 на основі абсолютного максимуму. Цей масштабувальник особливо підходить для даних, які вже відцентровані на нулі або розріджених даних, і не центрує їх, зберігаючи розрідженість. Нормалізація даних MaxAbs обчислюється наступним чином:\n",
        "\n",
        "$z=\\frac{x_i}{max(abs(x))}$"
      ],
      "metadata": {
        "id": "sjRnRV71NEtN"
      }
    },
    {
      "cell_type": "code",
      "source": [
        "# define MaxAbsScaler\n",
        "max_abs_scaler = preprocessing.MaxAbsScaler()\n",
        "\n",
        "# transform data\n",
        "maxabs_transformed = max_abs_scaler.fit_transform(X)\n",
        "\n",
        "# plot result\n",
        "plt.rcParams[\"figure.figsize\"] = 13,5\n",
        "fig,ax = plt.subplots(1,2)\n",
        "sns.distplot(X, label= \"Початковий нахил: {0}\".format(np.round(skew(X),4)), color=\"magenta\", ax=ax[0], axlabel=\"ORGINAL\")\n",
        "sns.distplot(maxabs_transformed, label= \"Трансформований нахил: {0}\".format(np.round(skew(maxabs_transformed),4)), color=\"g\", ax=ax[1], axlabel=\"MaxAbsScaler\")\n",
        "fig.legend()\n",
        "#plt.savefig(folder+'re.png', bbox_inches='tight')\n",
        "plt.show()"
      ],
      "metadata": {
        "id": "xjesiCe_NyX3"
      },
      "execution_count": null,
      "outputs": []
    },
    {
      "cell_type": "markdown",
      "source": [
        "# ***Нормалізація даних RobustScaler***\n",
        "\n",
        "Якщо дані містять значну кількість викидів, використання середнього значення та дисперсії для масштабування даних, ймовірно, не буде працюватиме коректно. У цьому випадку можна використовувати RobustScaler, який видаляє медіану і масштабує дані відповідно до квантильних діапазонів:\n",
        "\n",
        "$z=\\frac{x_i-Q_1(x)}{Q_3(x)-Q_1(x)}$\n",
        "\n",
        " На рисунку нижче можна побачити, що масштабувальник використовує міжквартильний діапазон (IQR), тобто діапазон між першим квартилем Q1(x) і третім квартилем Q3(x)."
      ],
      "metadata": {
        "id": "Lx0vbtAuN0Oy"
      }
    },
    {
      "cell_type": "code",
      "source": [
        "# define RobustScaler\n",
        "RobustScaler = preprocessing.RobustScaler()\n",
        "\n",
        "# transform data\n",
        "robust_transformed = RobustScaler.fit_transform(X)\n",
        "\n",
        "# plot result\n",
        "plt.rcParams[\"figure.figsize\"] = 13,5\n",
        "fig,ax = plt.subplots(1,2)\n",
        "sns.distplot(X, label= \"Orginal Skew :{0}\".format(np.round(skew(X),4)), color=\"magenta\", ax=ax[0], axlabel=\"ORGINAL\")\n",
        "sns.distplot(robust_transformed, label= \"Transformed Skew:{0}\".format(np.round(skew(robust_transformed),4)), color=\"g\", ax=ax[1], axlabel=\"RobustScaler\")\n",
        "fig.legend()\n",
        "#plt.savefig(folder+'re.png', bbox_inches='tight')\n",
        "plt.show()"
      ],
      "metadata": {
        "id": "EIBPQrRBOFlq"
      },
      "execution_count": null,
      "outputs": []
    },
    {
      "cell_type": "markdown",
      "source": [
        "### ***Коли використовувати стандартизацію, а коли нормалізацію?***"
      ],
      "metadata": {
        "id": "hWbsiySrOQaa"
      }
    },
    {
      "cell_type": "markdown",
      "source": [
        "Перш за все, треба визначити відмінності однієї процедури від іншої:\n",
        "\n",
        "***Нормалізація***:\n",
        "\n",
        "Масштабує значення в діапазоні від 0 до 1\n",
        "\n",
        "Корисно, коли розподіл даних невідомий або не є гауссовим\n",
        "\n",
        "Чутлива до викидів\n",
        "\n",
        "Зберігає форму початкового розподілу\n",
        "\n",
        "Може не зберігати взаємозв'язки між точками даних\n",
        "\n",
        "***Стандартизація:***\n",
        "\n",
        "Центрує дані навколо середнього значення і масштабує до стандартного відхилення 1\n",
        "\n",
        "Корисно, коли розподіл даних є гауссовим або невідомим\n",
        "\n",
        "Менш чутлива до викидів\n",
        "\n",
        "Змінює форму вихідного розподілу\n",
        "\n",
        "Зберігає зв'язки між точками даних\n",
        "\n",
        "Вибір між стандартизацією та нормалізацією для передобробки даних залежить від контексту задачі, особливостей даних та вимог до алгоритмів машинного навчання, які будуть використовуватися. Ось декілька ключових аспектів для визначення, коли краще використовувати стандартизацію, а коли нормалізацію:\n",
        "\n",
        "***Коли використовувати стандартизацію:***\n",
        "\n",
        "Алгоритми, засновані на відстані:\n",
        "\n",
        "Стандартизація особливо корисна для алгоритмів, які враховують відстані між точками, таких як ***K-найближчих сусідів (KNN) і метод опорних векторів (SVM)***.\n",
        "\n",
        "Вона допомагає забезпечити, що кожна ознака вносить однаковий вклад в відстань незалежно від масштабу оригінальних даних.\n",
        "\n",
        "***Алгоритми, що використовують градієнтний спуск:***\n",
        "\n",
        "Методи, як лінійна регресія і нейронні мережі, часто виграють від стандартизації, оскільки вона сприяє швидшій збіжності під час навчання через градієнтний спуск.\n",
        "\n",
        "***Дані з великою різницею в дисперсіях***:\n",
        "\n",
        "Стандартизація ефективно зменшує вплив ознак з великою дисперсією, що може домінувати над іншими ознаками при моделюванні.\n",
        "\n",
        "***Коли використовувати нормалізацію:***\n",
        "\n",
        "***Дані з визначеними межами:***\n",
        "\n",
        "Коли дані мають чіткі межі, які важливі для задачі (наприклад, пікселі зображення, які можуть варіюватися від 0 до 255), нормалізація до діапазону [0, 1] може бути дуже ефективною.\n",
        "\n",
        "***Алгоритми, чутливі до масштабу ознак:***\n",
        "Нейронні мережі часто виграють від нормалізації, оскільки вона допомагає уникнути проблем з числовою стабільністю та дозволяє моделі швидше збігатися.\n",
        "\n",
        "***Уніфікація масштабів:***\n",
        "Нормалізація може бути корисною для уніфікації масштабу ознак при обробці даних з різних джерел, щоб усі ознаки мали однаковий ваговий вплив на модель.\n",
        "\n",
        "***Розуміння вибору***\n",
        "\n",
        "Стандартизація є більш загальною та часто використовується у широкому спектрі моделей машинного навчання, особливо коли дані не обмежені визначеними межами.\n",
        "Нормалізація може бути кращим вибором у ситуаціях, де дані вже обмежені або коли модель має особливі вимоги до масштабу вхідних даних.\n",
        "\n",
        "Обидва методи важливі залежно від контексту і часто використовуються разом з іншими методами передобробки для досягнення оптимальної ефективності моделі. Важливо провести дослідження та експерименти з даними, щоб визначити, який метод найкраще підходить для конкретної задачі.\n",
        "\n"
      ],
      "metadata": {
        "id": "Xys4k5iNOheF"
      }
    },
    {
      "cell_type": "markdown",
      "source": [
        "# ***Ідентифікація та обробка аномалій (викидів)***\n",
        "\n",
        "Викиди в даних можуть бути палицею з двома кінцями для проектів машинного навчання. З одного боку, вони можуть представляти цінні екстремуми або аномалії, які містять важливу інформацію. З іншого боку, вони можуть спотворити аналіз, що призведе до менш точних моделей. Проблема полягає в тому, щоб визначити, коли потрібно коригувати, а коли залишати, і як ефективно обробляти ці відхилення.\n",
        "\n",
        "**Викид - це спостереження,** яке значно відхиляється від інших спостережень у наборі даних. Вони можуть виникати через помилки вимірювання, помилки введення даних або реальну мінливість у наборі даних.\n",
        "\n",
        "***Виявлення викидів*** - це перший крок у роботі з ними, який можна здійснити за допомогою різних статистичних методів і технік візуалізації, таких як box plots, діаграми розсіювання та Z-рахунки."
      ],
      "metadata": {
        "id": "f3f71Ub7mIkU"
      }
    },
    {
      "cell_type": "markdown",
      "source": [
        "# **Різні типи викидів**\n",
        "\n",
        "Слід розрізняти ***одновимірні та багатовимірні викиди***.\n",
        "\n",
        "***Одновимірні викиди*** - це екстремальні значення в розподілі певної змінної, тоді як ***багатовимірні викиди*** - це комбінація значень у спостереженні, яка є малоймовірною. Наприклад, одновимірним викидом може бути показник віку людини 120 років або показник температури в Антарктиді 50 градусів за Цельсієм.\n",
        "\n",
        "Багатовимірним викидом може бути спостереження за людиною, зріст якої становить 2 метри (у 95-му процентилі), а вага - 50 кг (у 5-му процентилі). Обидва типи відхилень можуть вплинути на результат аналізу, але виявляються і обробляються по-різному."
      ],
      "metadata": {
        "id": "Gf0cxGiXmjSb"
      }
    },
    {
      "cell_type": "markdown",
      "source": [
        "# ***Виявлення одномірних викидів***\n",
        "\n",
        "Викиди можна виявити різними способами, включаючи статистичні методи, методи, засновані на близькості, або контрольоване виявлення випадкових даних. Зосередимося на статичних методах\n",
        "\n",
        "Використаємо набір даних Boston Housing у якості прикладу"
      ],
      "metadata": {
        "id": "mAlfVSZhqkD3"
      }
    },
    {
      "cell_type": "code",
      "source": [
        "#Load libraries\n",
        "from sklearn.datasets import load_boston\n",
        "import numpy as np\n",
        "import pandas as pd\n",
        "import seaborn as sns\n",
        "from scipy import stats\n",
        "\n",
        "#Load data\n",
        "X, y = load_boston(return_X_y=True)\n",
        "\n",
        "#Create data frame\n",
        "boston = load_boston()\n",
        "columns = boston.feature_names\n",
        "df = pd.DataFrame(X, columns = columns)\n",
        "\n",
        "# data_url = \"http://lib.stat.cmu.edu/datasets/boston\"\n",
        "# raw_df = pd.read_csv(data_url, sep=\"\\s+\", skiprows=22, header=None)\n",
        "# data = np.hstack([raw_df.values[::2, :], raw_df.values[1::2, :2]])\n",
        "# target = raw_df.values[1::2, 2]"
      ],
      "metadata": {
        "id": "ZKhKsb4gjQoi"
      },
      "execution_count": 6,
      "outputs": []
    },
    {
      "cell_type": "markdown",
      "source": [
        "Першим і корисним кроком у виявленні одновимірних викидів є візуалізація розподілу змінних. Зазвичай, при проведенні попередньої обробки даних це потрібно зробити для всіх цікавих змінних набору даних окремо. Простим способом візуального узагальнення розподілу змінної є box plot (діаграма розмаху, коробковий графік або \"ящик з вусами\").\n",
        "\n",
        "У коробковому графіку, запровадженому Джоном Тьюкі в 1970 році, дані поділяються на квартилі. Зазвичай він показує прямокутну рамку, що представляє 25%-75% спостережень вибірки, розширену так званими вусами, які досягають мінімального і максимального значення даних. Спостереження, показані за межами вусів, є викидами.\n",
        "\n",
        "На графіку нижче показано більшість змінних, включених до набору даних про житловий фонд Бостона.\n",
        "\n",
        "Щоб отримати швидкий огляд розподілу всіх змінних, ви можете скористатися груповою діаграмою. Майте на увазі, що змінні можуть відрізнятися за масштабом, і додавання всіх змінних в одну сітку може призвести до того, що діаграми буде важко читати."
      ],
      "metadata": {
        "id": "1IHJB7M5sWFN"
      }
    },
    {
      "cell_type": "code",
      "source": [
        "df_1 = df[['TAX', 'B']]\n",
        "df_2 = df[['CRIM', 'ZN', 'INDUS', 'RM', 'AGE', 'DIS', 'RAD', 'PTRATIO','LSTAT']]\n",
        "df_3 = df[['CHAS', 'NOX']]\n",
        "\n",
        "ax = sns.boxplot(data=df_2, orient=\"h\", palette=\"Set2\")"
      ],
      "metadata": {
        "id": "AJZzBqtWtCxN"
      },
      "execution_count": null,
      "outputs": []
    },
    {
      "cell_type": "markdown",
      "source": [
        "Виявляється, що є три змінні, а саме: AGE, INDUS та RAD, які не мають одномірних спостережень, що відхиляються від норми. Решта змінних мають точки даних, що виходять за межі їхніх вусів. Розглянемо ближче змінну CRIM, яка кодує рівень злочинності на душу населення за містами. Наведений нижче індивідуальний графік показує, що рівень злочинності в більшості міст є нижчим за 5%."
      ],
      "metadata": {
        "id": "0XO99xbgt0NH"
      }
    },
    {
      "cell_type": "code",
      "source": [
        "ax = sns.boxplot(x=df[\"CRIM\"])\n",
        "ax.set_xlabel('Crime rate per capita')"
      ],
      "metadata": {
        "id": "Uh85v6JMt3gN"
      },
      "execution_count": null,
      "outputs": []
    },
    {
      "cell_type": "markdown",
      "source": [
        "\n",
        "Коробкові діаграми чудово підходять для простого та швидкого узагальнення та візуалізації розподілу змінних. Однак вони не визначають фактичні показники віддалених спостережень. Розглянеом три кількісні методи, які зазвичай використовуються в статистиці для виявлення одновимірних викидів: метод коробкової діаграми Тьюкі, метод z-рахунку, метод медіанного абсолютного відхилення.\n",
        "\n",
        "Метод коробкової діаграми Тьюкі\n",
        "\n",
        "Окрім візуальних переваг, діаграма Тьюкі надає корисну статистику для визначення окремих спостережень як викидів. Тьюкі розрізняє можливі та ймовірні викиди. Можливий викид знаходиться між внутрішньою та зовнішньою межами, тоді як ймовірний викид знаходиться за межами зовнішньої межі."
      ],
      "metadata": {
        "id": "wUUNWh_Tt7JH"
      }
    },
    {
      "cell_type": "markdown",
      "source": [
        "Приклад діаграми, що включає внутрішню та зовнішню огорожі, а також мінімальні та максимальні спостереження (відомі як \"вуса\")\n",
        "\n",
        "Хоча внутрішня (яку часто плутають з вусами) і зовнішня огорожа зазвичай не показані на фактичному графіку, їх можна розрахувати за допомогою інтерквартильного розмаху (IQR), як це показано нижче:\n",
        "\n",
        "IQR = Q3 - Q1, де q3 := 75th quartile а q1 := 25th quartile\n",
        "\n",
        "Inner fence = [Q1 - 1.5IQR, Q3 + 1.5IQR]\n",
        "\n",
        "Outer fence = [Q1 – 3IQR, Q3 + 3IQR]\n",
        "\n",
        "Внутрішня межа розподілу визначається як 1,5 x IQR нижче 1-го кварталу та 1,5 x IQR вище 3-го кварталу. Зовнішня межа визначається як 3 x IQR нижче 1-го кварталу та 3 x IQR вище 3-го кварталу. За Тьюкі обробляються лише ймовірні викиди, які знаходяться за межами зовнішньої межі."
      ],
      "metadata": {
        "id": "USeDraT1uqjF"
      }
    },
    {
      "cell_type": "code",
      "source": [
        "def tukeys_method(df, variable):\n",
        "    #Приймає два параметри: фрейм даних та змінну, що цікавить, як рядок\n",
        "\n",
        "    q1 = df[variable].quantile(0.25)\n",
        "    q3 = df[variable].quantile(0.75)\n",
        "    iqr = q3-q1\n",
        "    inner_fence = 1.5*iqr\n",
        "    outer_fence = 3*iqr\n",
        "\n",
        "    #внутрішня огорожа нижній і верхній кінець\n",
        "    inner_fence_le = q1-inner_fence\n",
        "    inner_fence_ue = q3+inner_fence\n",
        "\n",
        "    #зовнішня огорожа нижній і верхній кінець\n",
        "    outer_fence_le = q1-outer_fence\n",
        "    outer_fence_ue = q3+outer_fence\n",
        "\n",
        "    outliers_prob = []\n",
        "    outliers_poss = []\n",
        "    for index, x in enumerate(df[variable]):\n",
        "        if x <= outer_fence_le or x >= outer_fence_ue:\n",
        "            outliers_prob.append(index)\n",
        "    for index, x in enumerate(df[variable]):\n",
        "        if x <= inner_fence_le or x >= inner_fence_ue:\n",
        "            outliers_poss.append(index)\n",
        "    return outliers_prob, outliers_poss\n",
        "\n",
        "probable_outliers_tm, possible_outliers_tm = tukeys_method(df, \"CRIM\")\n",
        "print(probable_outliers_tm)"
      ],
      "metadata": {
        "id": "mB7QUytvu3-R"
      },
      "execution_count": null,
      "outputs": []
    },
    {
      "cell_type": "markdown",
      "source": [
        "30 спостережень змінної \"рівень злочинності на душу населення по містах\" можна розглядати як ймовірні, а 66 - як можливі викиди, які потребують подальшої уваги. Ви можете легко знайти викиди всіх інших змінних у наборі даних, викликавши функцію tukeys_method() для кожної змінної.\n",
        "\n",
        "Великою перевагою методу Тьюкі є те, що статистичні дані (наприклад, IQR, внутрішня та зовнішня огорожа) є стійкими до викидів, тобто знаходження одного викиду не залежить від усіх інших викидів. Крім того, статистику легко обчислити.\n",
        "\n",
        "Крім того, цей метод не вимагає нормального розподілу даних, що часто не гарантується в реальних умовах. Якщо розподіл сильно асиметричний (що зазвичай зустрічається в реальних даних), метод Тьюкі можна розширити до методу log-IQ. Тут кожне значення перетворюється на його логарифм перед тим, як обчислювати внутрішній і зовнішній бар'єри."
      ],
      "metadata": {
        "id": "5EX5R_cQu--Q"
      }
    },
    {
      "cell_type": "code",
      "source": [
        "#Перетворити 'CRIM' на log\n",
        "log_CRIM = np.log(df['CRIM'])\n",
        "df['CRIM_man'] = df['CRIM']+1\n",
        "log_CRIM = np.log(df['CRIM_man'])\n",
        "df['CRIM_log'] = log_CRIM\n",
        "\n",
        "#Діаграма\n",
        "sns.distplot(df['CRIM_log'])\n",
        "\n",
        "#Розрахувати ймовірні та можливі викиди за допомогою методу log-iq\n",
        "probable_outliers_logiq, possible_outliers_logiq = tukeys_method(df, 'CRIM_log')\n",
        "print(probable_outliers_logiq)\n",
        "print(possible_outliers_logiq)"
      ],
      "metadata": {
        "id": "CTgls_ZqvOce"
      },
      "execution_count": null,
      "outputs": []
    },
    {
      "cell_type": "markdown",
      "source": [
        "# ***Метод z-рахунку***\n",
        "\n",
        "Іншим поширеним методом виявлення одновимірних викидів є внутрішньо стандартизовані залишки, або метод z-рахунку. Для кожного спостереження вимірюється, на скільки стандартних відхилень точка даних відрізняється від свого середнього значення.\n",
        "\n",
        "За загальним емпіричним правилом, якщо z > C, де C зазвичай дорівнює 3, спостереження позначається як викид. Це правило випливає з того, що якщо змінна розподілена нормально, то 99,7% всіх точок даних розташовані на відстані 3 стандартних відхилень від середнього значення. Давайте подивимось на нашому прикладі, які спостереження \"CRIM\" визначаються як викиди за допомогою z-рахунку"
      ],
      "metadata": {
        "id": "lLW7gKv-vTeH"
      }
    },
    {
      "cell_type": "code",
      "source": [
        "def z_score_method(df, variable_name):\n",
        "    #Приймає два параметри: фрейм даних та змінну, що цікавить, як рядок\n",
        "    columns = df.columns\n",
        "    z = np.abs(stats.zscore(df))\n",
        "    threshold = 3\n",
        "\n",
        "    outlier = []\n",
        "    index=0\n",
        "    for item in range(len(columns)):\n",
        "        if columns[item] == variable_name:\n",
        "            index = item\n",
        "    for i, v in enumerate(z[:, index]):\n",
        "        if v > threshold:\n",
        "            outlier.append(i)\n",
        "        else:\n",
        "            continue\n",
        "    return outlier\n",
        "\n",
        "outlier_z = z_score_method(df, 'CRIM')\n",
        "print(outlier_z)"
      ],
      "metadata": {
        "id": "hvpZJntMvbUk"
      },
      "execution_count": null,
      "outputs": []
    },
    {
      "cell_type": "markdown",
      "source": [
        "При використанні методу z-рахунку 8 спостережень позначаються як викиди. Однак цей метод є дуже обмеженим, оскільки середнє значення розподілу та стандартне відхилення є чутливими до викидів. Це означає, що знаходження одного викиду залежить від інших викидів, оскільки кожне спостереження безпосередньо впливає на середнє значення. Крім того, метод z-критерію передбачає, що змінна, яка нас цікавить, розподілена нормально.\n",
        "\n",
        "# ***Метод медіанного абсолютного відхилення (Median Absolute Deviation, MAD)***\n",
        "\n",
        "Метод медіанного абсолютного відхилення замінює середнє та стандартне відхилення більш надійними статистичними показниками, такими як медіана та медіанне абсолютне відхилення. Медіанне абсолютне відхилення визначається як:\n",
        "\n",
        "𝑀𝐴𝐷=𝑚𝑒𝑑𝑖𝑎𝑛(|𝑋𝑖−𝑋¯|)\n",
        "\n",
        "Тестова статистика обчислюється так само, як і z-рахунок, з використанням робастної статистики. Крім того, для виявлення викидів використовується та сама точка відсікання 3. Якщо тестова статистика перевищує 3, вона позначається як викид.\n",
        "\n",
        "Порівняно з внутрішнім (z-критерієм) та зовнішнім методом залишків, цей метод є більш стійким до викидів і припускає, що X є параметрично розподіленою величиною"
      ],
      "metadata": {
        "id": "i8oIHspfvuf0"
      }
    },
    {
      "cell_type": "code",
      "source": [
        "def mad_method(df, variable_name):\n",
        "    # Приймає два параметри: фрейм даних та змінну, що цікавить, як рядок\n",
        "    columns = df.columns\n",
        "    med = np.median(df, axis = 0)\n",
        "    mad = np.abs(stats.median_absolute_deviation(df))\n",
        "    threshold = 3\n",
        "\n",
        "    outlier = []\n",
        "    index=0\n",
        "    for item in range(len(columns)):\n",
        "        if columns[item] == variable_name:\n",
        "            index == item\n",
        "    for i, v in enumerate(df.loc[:,variable_name]):\n",
        "        t = (v-med[index])/mad[index]\n",
        "        if t > threshold:\n",
        "            outlier.append(i)\n",
        "        else:\n",
        "            continue\n",
        "    return outlier\n",
        "\n",
        "outlier_mad = mad_method(df, 'CRIM')\n",
        "print(outlier_mad)"
      ],
      "metadata": {
        "id": "wRD3lTQ8xR8t"
      },
      "execution_count": null,
      "outputs": []
    },
    {
      "cell_type": "markdown",
      "source": [
        "Існують різні способи виявлення одновимірних відхилень, кожен з яких має свої переваги та недоліки.\n",
        "\n",
        "Z-критерій потрібно застосовувати дуже обережно через його чутливість до середнього значення та стандартного відхилення, а також через припущення про нормальний розподіл змінної. Замість нього часто використовують метод MAD, який є більш надійною альтернативою. Метод бокс-діаграм Тьюкі дає надійні результати і може бути легко розширений, якщо дані сильно асиметричні."
      ],
      "metadata": {
        "id": "5Pi_J0BLxZS_"
      }
    },
    {
      "cell_type": "markdown",
      "source": [
        "# ***Стратегії роботи з викидами***\n",
        "\n",
        "Підхід до обробки викидів залежить від їхньої природи та впливу на ваші дані і продуктивність моделі.\n",
        "\n",
        "***Нижче наведено кілька стратегій:***\n",
        "\n",
        "***Обрізання або видалення пропусків:***\n",
        "\n",
        "Цей спосіб підходить, коли пропуски ідентифіковані як шум. Їх видалення може підвищити точність моделі, але може призвести до втрати цінної інформації в певних контекстах.\n",
        "\n",
        "***Обмеження: ***\n",
        "\n",
        "Застосовуючи поріг, значення, що виходять за певні межі, обмежуються максимальним або мінімальним значенням. Цей метод зберігає викиди в наборі даних, але обмежує їхній вплив.\n",
        "\n",
        "***Перетворення:***\n",
        "\n",
        "Застосування таких перетворень, як логарифмічне, квадратний корінь або Бокса-Кокса, може зменшити вплив пропусків шляхом коригування масштабу точок даних.\n",
        "\n",
        "***Інтерполяція:***\n",
        "\n",
        "У деяких випадках заміна пропусків медіаною або середнім значенням (для цієї ознаки) може бути ефективною, особливо якщо припускається, що пропуски є помилками.\n",
        "\n",
        "***Використання робастних моделей:***\n",
        "\n",
        "Певні моделі менш чутливі до пропусків, наприклад, випадкові ліси або моделі, що використовують функції втрат на основі медіани. Використання цих моделей може пом'якшити вплив пропусків.\n",
        "\n",
        "Ігнорування викидів та обробка викидів може мати ризик суттєвого впливу на результати аналізу або моделі машинного навчання. На практиці часто не дуже зрозуміло, що робити з викидами спостережень.\n",
        "\n",
        "З математичної точки зору не існує правильної чи неправильної відповіді на те, як поводитися з викидами. Більш важливу роль, поряд з математикою, можна відвести якісній інформації, яку ви маєте в своєму розпорядженні в процесі прийняття рішень щодо пропусків. Наприклад, знання того, як саме виникло відхилення, може бути корисним для прийняття рішень щодо екстремальних значень.\n",
        "\n",
        "Як вже було сказано раніше, помилковий викид - це спостереження, яке є результатом неточного вимірювання, неправильного введення даних або маніпуляції з даними. У цьому випадку ці точки даних, як правило, не є частиною генеральної сукупності, що нас цікавить.\n",
        "\n",
        "З іншого боку, не пов'язані з помилками викиди, які також називають цікавими або випадковими викидами, є частиною генеральної сукупності, що нас цікавить, і можуть містити цікаву інформацію.\n",
        "\n",
        "***Обробка помилкових викидів***\n",
        "\n",
        "Помилкові викиди слід або видалити, або виправити. Найпростіше видалити спостереження, які виникли через неточні вимірювання або маніпуляції з даними. Припустімо, що існує сира версія базових даних. У такому випадку, можливо, варто відстежити початковий запис точки даних, щоб уникнути значної втрати інформації через видалення.\n",
        "\n",
        "Однак, якщо ви не маєте під рукою сирої версії даних, але впевнені, що маєте справу з помилкою (наприклад, вимірювання зросту людини 4 метри 200 дюймів або четвертий клас виміру, хоча ви знаєте, що має бути лише три класи змінної), найкращим варіантом буде просто видалити ці записи.\n",
        "\n",
        "*Обробка непомилкових викидів*\n",
        "\n",
        "Існує три різних варіанти того, як поводитися з непомилковими викидами:\n",
        "\n",
        "Зберегти\n",
        "Видалити\n",
        "Перекодувати\n",
        "Зберегти\n",
        "\n",
        "Якщо більшість виявлених відхилень не є помилковими і по праву належать до генеральної сукупності, що нас цікавить, це хороша стратегія. Крім того, часто нелегко визначити, чи належить екстремальне значення до генеральної сукупності, яка нас цікавить, чи ні.\n",
        "\n",
        "Зберігаючи викиди, пам'ятайте, що вони можуть спотворити результати вашого завдання: наприклад, призвести до відхилення нульової гіпотези або надто оптимістичного прогнозу. Тому, можливо, вам варто повідомити про свої висновки, включно з викидами та виключенням викидів, щоб підкреслити вплив, який вони можуть мати.\n",
        "\n",
        "Іншим варіантом є надійні методи для вашого завдання прогнозування або аналізу. Ці методи зменшують вплив екстремальних значень, використовуючи більш надійну статистику (наприклад, медіану) або інші непараметричні параметри (наприклад, рангові тести, бутстрапінг або машини опорних векторів).\n",
        "\n",
        "***Видалити/***\n",
        "\n",
        "Найпростіший варіант - видалити будь-яке спостереження, що не відповідає дійсності. Однак ця стратегія має високий ризик втрати інформації. Особливо, якщо ви знаходите багато точок, що виходять за межі даних, намагайтеся уникати цього. Крім того, видалення цікавих і впливових пропусків (точок, які належать до сукупності, що вас цікавить) може хибно вплинути на будь-який результат, наприклад, на прогноз або результат тесту, якого ви прагнете досягти.\n",
        "\n",
        "***Поради***:\n",
        "\n",
        "Видаляйте пропуски низького масштабу і ті, які, ймовірно, не належать до іншої сукупності.\n",
        "\n",
        "Якщо ви обираєте видалення, завжди надавайте два звіти про ваш аналіз або результати: один з пропущеними спостереженнями і один без них.\n",
        "\n",
        "***Перекодування***\n",
        "\n",
        "Перекодування пропусків є хорошим варіантом для обробки пропусків і одночасного збереження якомога більшої кількості інформації. Цей варіант завжди повинен супроводжуватися обґрунтованими міркуваннями та поясненнями. Існує два широко використовуваних метода:\n",
        "\n",
        "Вінсоризація\n",
        "Імпутація\n",
        "Вінсоризація\n",
        "\n",
        "При вінсоризації будь-яке значення змінної вище або нижче процентиля k по обидва боки розподілу змінних замінюється значенням самого k-го процентиля. Наприклад, якщо k=5, всі спостереження вище 95-го процентиля перекодовуються у значення 95-го процентиля, а значення нижче 5-го процентиля перекодовуються відповідно. Порівняно з обрізанням, вінсоризація є менш екстремальним варіантом, оскільки перекодовує викиди, а не відсікає їх повністю\n",
        "\n",
        "Вінсоризація також безпосередньо втручається в процес виявлення викидів. Точки даних, що перевищують або не перевищують певний поріг, обробляються, і немає необхідності в застосуванні незалежного методу виявлення. Однак він йде рука об руку з методом Тьюкі, оскільки k часто рекомендується встановлювати на рівні зовнішньої межі вибірки (3 стандартних відхилення навколо середнього значення). Найчастіше це k=5 і, отже, використовується як значення за замовчуванням.\n",
        "\n",
        "Спочатку визначимо зовншіню огорожу"
      ],
      "metadata": {
        "id": "9gN7mRQgxkHM"
      }
    },
    {
      "cell_type": "code",
      "source": [
        "def fences(df, variable_name):\n",
        "    q1 = df[variable_name].quantile(0.25)\n",
        "    q3 = df[variable_name].quantile(0.75)\n",
        "    iqr = q3-q1\n",
        "    outer_fence = 3*iqr\n",
        "    outer_fence_le = q1-outer_fence\n",
        "    outer_fence_ue = q3+outer_fence\n",
        "    return outer_fence_le, outer_fence_ue\n",
        "\n",
        "outer_fence_le, outer_fence_ue = fences(df, 'CRIM')\n",
        "\n",
        "print('Lower end outer fence: ', outer_fence_le)\n",
        "print('Upper end outer fence: ', outer_fence_ue)"
      ],
      "metadata": {
        "id": "1KCkmLuQz0nw"
      },
      "execution_count": null,
      "outputs": []
    },
    {
      "cell_type": "markdown",
      "source": [
        "Верхня зовнішня межа для змінної \"CRIM\" становить приблизно 14,46, тоді як нижня межа є нижчою за нуль. Оскільки рівень злочинності нижче нуля не є значущим, дані слід вінсоризувати лише по правому хвосту. Тепер ми можемо подивитися на значення в різних процентилях, щоб встановити k:"
      ],
      "metadata": {
        "id": "nf6TQLyYz387"
      }
    },
    {
      "cell_type": "code",
      "source": [
        "#Дослідження різних квантилей у верхній частині\n",
        "print('90% quantile:   ', df['CRIM'].quantile(0.90))\n",
        "print('92.5% quantile: ', df['CRIM'].quantile(0.925))\n",
        "print('95% quantile:   ', df['CRIM'].quantile(0.95))\n",
        "print('97.5% quantile: ', df['CRIM'].quantile(0.975))\n",
        "print('99% quantile:   ', df['CRIM'].quantile(0.99))\n",
        "print('99.9% quantile: ', df['CRIM'].quantile(0.999))"
      ],
      "metadata": {
        "id": "hdtMeeQG0KOG"
      },
      "execution_count": null,
      "outputs": []
    },
    {
      "cell_type": "markdown",
      "source": [
        "Схоже, що значення 92,5% (13,54) та 95% (15,79) є найближчими до верхньої зовнішньої огорожі. Оскільки 95% зустрічається частіше, будемо вінсорізувати дані для k=5 за допомогою функції winsorize() з бібліотеки scipy"
      ],
      "metadata": {
        "id": "BZKElSa80N0b"
      }
    },
    {
      "cell_type": "code",
      "source": [
        "#Create copy of df\n",
        "df_win = df.copy(deep=True)\n",
        "\n",
        "#Winsorize on right-tail\n",
        "df_win['CRIM_wins_95%'] = winsorize(df['CRIM'], limits=(0, 0.05))\n",
        "df_win['CRIM_wins_925%'] = winsorize(df['CRIM'], limits=(0, 0.075))\n",
        "\n",
        "df_win.describe()\n",
        "\n",
        "#Distribution plot: Crime rate per capita by town\n",
        "sns.distplot(df['CRIM'])\n",
        "\n",
        "#New distribution plots\n",
        "sns.distplot(df_win['CRIM_wins_95%'])\n",
        "sns.distplot(df_win['CRIM_wins_925%'])"
      ],
      "metadata": {
        "id": "DbyMmnT10P68"
      },
      "execution_count": null,
      "outputs": []
    },
    {
      "cell_type": "markdown",
      "source": [
        "Після вінсоризації середній рівень злочинності на душу населення змінився з 3,61 до 2,80 (95%).\n",
        "\n",
        "***Поради:***\n",
        "\n",
        "Виконуєйте вінсоризацію, щоб зберегти якомога більше даних\n",
        "Щоб знайти правильний рівень вінсоризації, знайте свої дані! Найкращою практикою вважається відсоткова точка, близька до зовнішньої межі\n",
        "Нульові межі можуть мати сенс, якщо змінна не може мати значення нижче нуля\n",
        "Звітуйте про основні статистичні дані (наприклад, середнє значення, середньоквадратичне відхилення) до і після вінсоризації\n",
        "\n",
        "Імпутация\n",
        "\n",
        "Імплікація - це метод, який часто використовується при обробці відсутніх даних. Однак його також застосовують, коли мають справу з екстремальними значеннями. При використанні імпутації пропуски видаляються (і разом з тим стають відсутніми значеннями) і замінюються оцінками, заснованими на даних, що залишилися.\n",
        "\n",
        "Існує кілька методів імпутації. Одна з них, яка часто використовується, але має сильну похибку, - це проста підстановка середнього значення. У цьому випадку всі викиди або пропущені значення замінюються середнім значенням змінних. Кращою альтернативою і більш надійним методом є множинна імплементація.\n",
        "\n",
        "При множинній імпутації пропущені значення або викиди замінюються M правдоподібними оцінками, отриманими з моделі прогнозування. Викид стає залежною змінною моделі прогнозування (наприклад, регресії, випадкового лісу тощо) і оцінюється на основі решти інформації, що не містить пропущених/викидних значень у спостереженні.\n",
        "\n",
        "Вибір правильної кількості правдоподібних оцінок M для пропущеного значення або викиду часто обговорюється в літературі і часто рекомендується використання від 5 до 20 при помірних пропущених значеннях\n",
        "\n",
        "На практиці множинна імпутація не така проста у python. Однак бібліотека sklearn має ітеративний імпутер, який можна використовувати для множинної імпутації. Вона базується на пакеті R mice і все ще перебуває на стадії експерименту.\n",
        "\n",
        "Версія Sklearn за замовчуванням є дуже базовою і використовує середню підстановку, але її можна легко налаштувати, передавши інші регресори до функції, наприклад, лінійну регресію, KNN або дерево рішень. Для того, щоб отримати кілька оцінок, як це робить функція mice в R, імптуер потрібно запустити кілька разів (наприклад, у циклі for).\n",
        "\n",
        "Повертаючись до прикладу з рівнем злочинності на душу населення, нам спочатку потрібно перетворити пропуски на відсутні значення. Для цього використовується список ймовірних пропусків, виявлених методом Тьюкі"
      ],
      "metadata": {
        "id": "YXEyWGy70TaX"
      }
    },
    {
      "cell_type": "code",
      "source": [
        "df_imp = df.copy(deep=True)\n",
        "probable_outliers_tm = [374, 375, 376, 378, 379, 380, 381, 384, 385, 386, 387, 398, 400,\n",
        "                        403, 404, 405, 406, 410, 412, 413, 414, 415, 417, 418, 425, 427,\n",
        "                        437, 440, 468, 477]\n",
        "\n",
        "#Перетворення викидів у пропущені значення для імплементації\n",
        "def outliers_to_nan(df, variable_name, probable_outliers):\n",
        "    for i in probable_outliers_tm:\n",
        "        df.at[i, variable_name] = None\n",
        "    return df\n",
        "\n",
        "df_imp = outliers_to_nan(df_imp, 'CRIM', probable_outliers_tm)"
      ],
      "metadata": {
        "id": "cAP6WOpn0ydy"
      },
      "execution_count": null,
      "outputs": []
    },
    {
      "cell_type": "markdown",
      "source": [
        "В якості оцінювача була обрана регуляризована лінійна регресія (BayesianRidge), і для простоти задамо m=1 (одиночна імпутація). Як вже згадувалося, імпутер можна використовувати для множинної імпутації застосовуючи його багаторазово з різними випадковими \"зернами\", коли sample_posterior=True."
      ],
      "metadata": {
        "id": "zwsI2a0Y01RC"
      }
    },
    {
      "cell_type": "code",
      "source": [
        "#Визначити імпутер\n",
        "imputer = IterativeImputer(estimator=BayesianRidge(),\n",
        "                           n_nearest_features=None,\n",
        "                           imputation_order='ascending')\n",
        "                           #, sample_posterior=True)\n",
        "# Підігнати імпутер та трансформувати\n",
        "imputer.fit(df_imp)\n",
        "df_imp_tf = imputer.transform(df_imp)\n",
        "df_imp = pd.DataFrame(df_imp_tf, columns = columns)\n",
        "\n",
        "# Нове середнє опускається до 2.36 з випадковим зерном 10\n",
        "df_imp.describe()\n",
        "\n",
        "# Новий графік розподілення\n",
        "sns.distplot(df_imp['CRIM'])"
      ],
      "metadata": {
        "id": "wTny1pfl04g_"
      },
      "execution_count": null,
      "outputs": []
    },
    {
      "cell_type": "markdown",
      "source": [
        "# ***Поради:***\n",
        "\n",
        "Поряд з обробкою пропущених даних, часто використовується техніка перекодування пропусків\n",
        "\n",
        "Множинна імплікація є більш надійною, а одиночна (наприклад, середня) імплікація є упередженою\n",
        "\n",
        "Обробка викидів є дуже суб'єктивним завданням, оскільки не існує математично правильного або неправильного рішення. Якісна інформація, наприклад, знання джерела викиду або впливу викиду, може спростити прийняття рішень щодо обробки. Помилкові викиди найкраще виправляти або видаляти, тоді як непомилкові викиди можна зберігати, видаляти або перекодовувати. Існує кілька методів **перекодування** екстремальних значень, серед яких найпопулярнішими є вінсоризація та множинна імплікація."
      ],
      "metadata": {
        "id": "1_8J_B__1GzC"
      }
    }
  ]
}