{
  "nbformat": 4,
  "nbformat_minor": 0,
  "metadata": {
    "colab": {
      "provenance": [],
      "authorship_tag": "ABX9TyMrqGmA05RtEkx208QdPZ9F"
    },
    "kernelspec": {
      "name": "python3",
      "display_name": "Python 3"
    },
    "language_info": {
      "name": "python"
    }
  },
  "cells": [
    {
      "cell_type": "code",
      "execution_count": 1,
      "metadata": {
        "id": "nNIPlwDbu4gR"
      },
      "outputs": [],
      "source": [
        "import tensorflow as tf\n"
      ]
    },
    {
      "cell_type": "markdown",
      "source": [
        "1. Загрузите готовый набор данных.\n",
        "\n",
        "2. Создайте модель машинного обучения нейронной сети, которая классифицирует изображения.\n",
        "\n",
        "3. Обучите эту нейронную сеть.\n",
        "\n",
        "4. Оцените точность модели."
      ],
      "metadata": {
        "id": "iWTeA1eVrdMa"
      }
    },
    {
      "cell_type": "markdown",
      "source": [],
      "metadata": {
        "id": "o7xLyXB9rdGE"
      }
    },
    {
      "cell_type": "markdown",
      "source": [
        "# **1. Загрузите и подготовьте набор данных MNIST**\n",
        "**Преобразуйте данные выборки из целых чисел в числа с плавающей запятой:**"
      ],
      "metadata": {
        "id": "qCPsPHcivBoX"
      }
    },
    {
      "cell_type": "code",
      "source": [
        "mnist = tf.keras.datasets.mnist\n",
        "\n",
        "(x_train, y_train), (x_test, y_test) = mnist.load_data()\n",
        "x_train, x_test = x_train / 255.0, x_test / 255.0"
      ],
      "metadata": {
        "colab": {
          "base_uri": "https://localhost:8080/"
        },
        "id": "o0wEGe62u--4",
        "outputId": "e33b7c6c-1dab-4d5e-f669-2c45e42b22bd"
      },
      "execution_count": 2,
      "outputs": [
        {
          "output_type": "stream",
          "name": "stdout",
          "text": [
            "Downloading data from https://storage.googleapis.com/tensorflow/tf-keras-datasets/mnist.npz\n",
            "\u001b[1m11490434/11490434\u001b[0m \u001b[32m━━━━━━━━━━━━━━━━━━━━\u001b[0m\u001b[37m\u001b[0m \u001b[1m1s\u001b[0m 0us/step\n"
          ]
        }
      ]
    },
    {
      "cell_type": "markdown",
      "source": [
        "# **2. Построить модель машинного обучения**\n",
        "***Создайте модель tf.keras.Sequential путем наложения слоев.***"
      ],
      "metadata": {
        "id": "glsg7aoUvJeW"
      }
    },
    {
      "cell_type": "code",
      "source": [],
      "metadata": {
        "id": "9WYlwZgI9var"
      },
      "execution_count": null,
      "outputs": []
    },
    {
      "cell_type": "code",
      "source": [
        "model = tf.keras.models.Sequential([\n",
        "  tf.keras.layers.Flatten(input_shape=(28, 28)),\n",
        "  tf.keras.layers.Dense(128, activation='relu'),\n",
        "  tf.keras.layers.Dropout(0.2),\n",
        "  tf.keras.layers.Dense(10)\n",
        "])\n",
        "\n",
        "# layers екземпляр шару."
      ],
      "metadata": {
        "colab": {
          "base_uri": "https://localhost:8080/"
        },
        "id": "mZNGhp_fvq2R",
        "outputId": "5477b1ef-ea01-4c48-cb09-4e352beba70e"
      },
      "execution_count": 3,
      "outputs": [
        {
          "output_type": "stream",
          "name": "stderr",
          "text": [
            "/usr/local/lib/python3.10/dist-packages/keras/src/layers/reshaping/flatten.py:37: UserWarning: Do not pass an `input_shape`/`input_dim` argument to a layer. When using Sequential models, prefer using an `Input(shape)` object as the first layer in the model instead.\n",
            "  super().__init__(**kwargs)\n"
          ]
        }
      ]
    },
    {
      "cell_type": "markdown",
      "source": [
        "**1.models.Sequential([ ... ])\n",
        "Sequential — це спосіб організувати шари нейронної мережі в лінійну (послідовну) модель, тобто шари розташовуються один за одним у порядку, в якому вони вказані. Це підходить для більш простих архітектур, де інформація проходить через кожен шар один раз, не повертаючись до попередніх шарів.**"
      ],
      "metadata": {
        "id": "Kv2cEyMq9guU"
      }
    },
    {
      "cell_type": "markdown",
      "source": [
        "**2. layers.Flatten(input_shape=(28, 28)) Цей шар перетворює вхідні дані з двовимірного формату 28x28 (розмірність одного зображення) на одномірний вектор із 784 елементів (28 * 28 = 784). Навіщо це потрібно? Шари нейронної мережі, такі як Dense, очікують, що вхід буде одномірним вектором. Flatten дозволяє нам передавати зображення в наступні шари мережі у форматі, який їм підходить.\n",
        "input_shape=(28, 28) означає, що на вхід подаються зображення розміром 28x28 пікселів (типовий розмір зображень у наборі даних MNIST).**"
      ],
      "metadata": {
        "id": "W5X-kYmE9pQK"
      }
    },
    {
      "cell_type": "markdown",
      "source": [
        "**3. layers.Dense(128, activation='relu') Цей шар є повнозв'язним (Dense) шаром, що містить 128 нейронів. Що таке Dense (або fully-connected) шар? У цьому шарі кожен нейрон з'єднаний із кожним входом із попереднього шару. Ці з’єднання означають, що цей шар може \"навчитися\" більш складним патернам вхідних даних. 128 — кількість нейронів у цьому шарі. Більша кількість нейронів дозволяє моделі вивчати більше особливостей, але також збільшує обчислювальну складність.\n",
        "activation='relu' — функція активації \"Rectified Linear Unit\" (ReLU). ReLU перетворює кожне значення на позитивне, якщо воно більше нуля, або на нуль, якщо менше. Це допомагає нейронній мережі вчитися нелінійним залежностям, що робить її більш потужною в обробці складних патернів.**"
      ],
      "metadata": {
        "id": "eeYkOHjI95V3"
      }
    },
    {
      "cell_type": "markdown",
      "source": [
        "**4. layers.Dropout(0.2) Цей шар випадковим чином \"відключає\" 20% нейронів у попередньому шарі під час кожного етапу навчання (epoch). Навіщо використовується Dropout? Dropout запобігає перенавчанню моделі (overfitting), тобто моделі краще узагальнювати на нові дані. Зазвичай, коли всі нейрони постійно активні, модель може дуже \"запам'ятати\" тренувальні дані, що призводить до низької якості на тестових даних.0.2 означає, що в кожну ітерацію 20% нейронів будуть відключені випадковим чином.**"
      ],
      "metadata": {
        "id": "WzvSZPPI-I5s"
      }
    },
    {
      "cell_type": "markdown",
      "source": [
        "**5. layers.Dense(10, activation='softmax') Останній шар також є повнозв'язним, але тепер із 10 нейронами. Чому 10 нейронів? У нас 10 класів (цифри від 0 до 9) для класифікації, тому кожен нейрон представляє ймовірність для одного з класів.\n",
        "activation='softmax' — функція активації softmax. Вона перетворює вихідні значення на ймовірності, які в сумі дорівнюють 1, що зручно для задачі класифікації. Кожен нейрон видає значення, що представляє ймовірність належності до одного з 10 класів.**"
      ],
      "metadata": {
        "id": "X0zn5fVs-Vq3"
      }
    },
    {
      "cell_type": "markdown",
      "source": [
        "У нейронній мережі прихований шар — це будь-який шар, розташований між вхідним та вихідним шарами. У моїй моделі шар Dense(128, activation='relu') розташований після вхідного шару (де йде розгортка Flatten) і перед вихідним шаром Dense(10, activation='softmax'). Тому цей шар є прихованим."
      ],
      "metadata": {
        "id": "NRnuAr6n_IAO"
      }
    },
    {
      "cell_type": "markdown",
      "source": [
        "Що робить прихований шар\n",
        "Приховані шари виконують обчислення, які дозволяють моделі виявляти патерни та особливості даних. У цьому шарі:\n",
        "\n",
        "128 нейронів надають модель більше можливостей для виявлення складних патернів у вхідних даних.\n",
        "Функція активації relu (Rectified Linear Unit) дозволяє моделі навчатися нелінійних взаємозв'язків між ознаками в даних.\n",
        "Приховані шари зазвичай застосовуються для навчання складніших патернів, які потім використовуються вихідним шаром для формування остаточного прогнозу чи класифікації."
      ],
      "metadata": {
        "id": "Nu_9cfb8_UT8"
      }
    },
    {
      "cell_type": "code",
      "source": [],
      "metadata": {
        "id": "r8MCs-VY-UBZ"
      },
      "execution_count": null,
      "outputs": []
    },
    {
      "cell_type": "markdown",
      "source": [
        "***Для каждого примера модель возвращает вектор оценок логитов или логарифмических шансов , по одному для каждого класса.***"
      ],
      "metadata": {
        "id": "JWLFNVmIwRz5"
      }
    },
    {
      "cell_type": "code",
      "source": [
        "predictions = model(x_train[:1]).numpy()\n",
        "predictions"
      ],
      "metadata": {
        "colab": {
          "base_uri": "https://localhost:8080/"
        },
        "id": "MRsDOeErwT0Q",
        "outputId": "c41c49eb-e72e-4eb0-8dc1-6ef8ec0fbd76"
      },
      "execution_count": 4,
      "outputs": [
        {
          "output_type": "execute_result",
          "data": {
            "text/plain": [
              "array([[-0.49228305, -0.44323528,  0.0836733 ,  0.31902844,  0.09246992,\n",
              "        -0.17969567,  0.20281628,  0.5474887 ,  0.13305305, -0.10947332]],\n",
              "      dtype=float32)"
            ]
          },
          "metadata": {},
          "execution_count": 4
        }
      ]
    },
    {
      "cell_type": "markdown",
      "source": [
        "**Функция tf.nn.softmax преобразует эти логиты в вероятности для каждого класса:**\n"
      ],
      "metadata": {
        "id": "CROfJrKxwf2A"
      }
    },
    {
      "cell_type": "code",
      "source": [
        "tf.nn.softmax(predictions).numpy()\n"
      ],
      "metadata": {
        "colab": {
          "base_uri": "https://localhost:8080/"
        },
        "id": "IILVyFIjwslh",
        "outputId": "65103f17-5e48-462b-f665-219f73d715d1"
      },
      "execution_count": 5,
      "outputs": [
        {
          "output_type": "execute_result",
          "data": {
            "text/plain": [
              "array([[0.05744083, 0.06032841, 0.10217752, 0.12929116, 0.1030803 ,\n",
              "        0.07851917, 0.11510614, 0.16247548, 0.10734968, 0.08423118]],\n",
              "      dtype=float32)"
            ]
          },
          "metadata": {},
          "execution_count": 5
        }
      ]
    },
    {
      "cell_type": "markdown",
      "source": [
        "***Определите функцию потерь для обучения с использованием losses.SparseCategoricalCrossentropy , которая принимает вектор логитов и индекс True и возвращает скалярную потерю для каждого примера.***"
      ],
      "metadata": {
        "id": "duk4FtNJwr3Y"
      }
    },
    {
      "cell_type": "code",
      "source": [
        "loss_fn = tf.keras.losses.SparseCategoricalCrossentropy(from_logits=True)\n",
        "loss_fn"
      ],
      "metadata": {
        "colab": {
          "base_uri": "https://localhost:8080/"
        },
        "id": "3nIRz3u52uIa",
        "outputId": "7acf4120-3822-4e92-cb80-e627c8e3cb30"
      },
      "execution_count": 7,
      "outputs": [
        {
          "output_type": "execute_result",
          "data": {
            "text/plain": [
              "<keras.src.losses.losses.SparseCategoricalCrossentropy at 0x7bbfd7057e80>"
            ]
          },
          "metadata": {},
          "execution_count": 7
        }
      ]
    },
    {
      "cell_type": "markdown",
      "source": [
        "Эта потеря равна отрицательной логарифмической вероятности истинного класса: потеря равна нулю, если модель уверена в правильном классе.\n",
        "\n",
        "Эта необученная модель дает вероятности, близкие к случайным (1/10 для каждого класса), поэтому начальная потеря должна быть близка к -tf.math.log(1/10) ~= 2.3 ."
      ],
      "metadata": {
        "id": "pUsNed3L2103"
      }
    },
    {
      "cell_type": "code",
      "source": [
        "loss_fn(y_train[:1], predictions).numpy()\n"
      ],
      "metadata": {
        "colab": {
          "base_uri": "https://localhost:8080/"
        },
        "id": "HOt8Mdmm2vBJ",
        "outputId": "a8d23c54-151f-4122-967c-7cb160b98a86"
      },
      "execution_count": 8,
      "outputs": [
        {
          "output_type": "execute_result",
          "data": {
            "text/plain": [
              "2.5444126"
            ]
          },
          "metadata": {},
          "execution_count": 8
        }
      ]
    },
    {
      "cell_type": "markdown",
      "source": [
        "***Перед началом обучения настройте и скомпилируйте модель с помощью Model.compile . Установите класс optimizer на adam , установите loss на функцию loss_fn , которую вы определили ранее, и укажите метрику, которая будет оцениваться для модели, установив параметр metrics на accuracy .***"
      ],
      "metadata": {
        "id": "Yzbzkuva27Vr"
      }
    },
    {
      "cell_type": "code",
      "source": [
        "model.compile(optimizer='adam',\n",
        "              loss=loss_fn,\n",
        "              metrics=['accuracy'])"
      ],
      "metadata": {
        "id": "fP9eQdgH3KZ_"
      },
      "execution_count": 9,
      "outputs": []
    },
    {
      "cell_type": "markdown",
      "source": [
        "# ***3. Обучите и оцените свою модель***"
      ],
      "metadata": {
        "id": "xiNvLXYw3EB-"
      }
    },
    {
      "cell_type": "code",
      "source": [
        "model.fit(x_train, y_train, epochs=5)\n"
      ],
      "metadata": {
        "colab": {
          "base_uri": "https://localhost:8080/"
        },
        "id": "WeABq4Ou3RI3",
        "outputId": "49d8629d-f17f-47f3-dcfb-b50a8a6010ba"
      },
      "execution_count": 10,
      "outputs": [
        {
          "output_type": "stream",
          "name": "stdout",
          "text": [
            "Epoch 1/5\n",
            "\u001b[1m1875/1875\u001b[0m \u001b[32m━━━━━━━━━━━━━━━━━━━━\u001b[0m\u001b[37m\u001b[0m \u001b[1m8s\u001b[0m 4ms/step - accuracy: 0.8600 - loss: 0.4814\n",
            "Epoch 2/5\n",
            "\u001b[1m1875/1875\u001b[0m \u001b[32m━━━━━━━━━━━━━━━━━━━━\u001b[0m\u001b[37m\u001b[0m \u001b[1m9s\u001b[0m 3ms/step - accuracy: 0.9542 - loss: 0.1563\n",
            "Epoch 3/5\n",
            "\u001b[1m1875/1875\u001b[0m \u001b[32m━━━━━━━━━━━━━━━━━━━━\u001b[0m\u001b[37m\u001b[0m \u001b[1m10s\u001b[0m 3ms/step - accuracy: 0.9668 - loss: 0.1126\n",
            "Epoch 4/5\n",
            "\u001b[1m1875/1875\u001b[0m \u001b[32m━━━━━━━━━━━━━━━━━━━━\u001b[0m\u001b[37m\u001b[0m \u001b[1m10s\u001b[0m 3ms/step - accuracy: 0.9727 - loss: 0.0870\n",
            "Epoch 5/5\n",
            "\u001b[1m1875/1875\u001b[0m \u001b[32m━━━━━━━━━━━━━━━━━━━━\u001b[0m\u001b[37m\u001b[0m \u001b[1m7s\u001b[0m 3ms/step - accuracy: 0.9776 - loss: 0.0712\n"
          ]
        },
        {
          "output_type": "execute_result",
          "data": {
            "text/plain": [
              "<keras.src.callbacks.history.History at 0x7bbfd7020e80>"
            ]
          },
          "metadata": {},
          "execution_count": 10
        }
      ]
    },
    {
      "cell_type": "markdown",
      "source": [
        "***Метод Model.evaluate проверяет производительность моделей, обычно на \" Validation-set \" или \" Test-set \"***"
      ],
      "metadata": {
        "id": "0KKVR30p3gd3"
      }
    },
    {
      "cell_type": "code",
      "source": [
        "model.evaluate(x_test,  y_test, verbose=2)\n"
      ],
      "metadata": {
        "colab": {
          "base_uri": "https://localhost:8080/"
        },
        "id": "U_tNqPly3Ukq",
        "outputId": "0715f160-a363-44c0-a1fd-114ba615b659"
      },
      "execution_count": 11,
      "outputs": [
        {
          "output_type": "stream",
          "name": "stdout",
          "text": [
            "313/313 - 1s - 2ms/step - accuracy: 0.9752 - loss: 0.0818\n"
          ]
        },
        {
          "output_type": "execute_result",
          "data": {
            "text/plain": [
              "[0.08183000981807709, 0.9751999974250793]"
            ]
          },
          "metadata": {},
          "execution_count": 11
        }
      ]
    },
    {
      "cell_type": "markdown",
      "source": [
        "***Если вы хотите, чтобы ваша модель возвращала вероятность, вы можете обернуть обученную модель и прикрепить к ней softmax:***"
      ],
      "metadata": {
        "id": "CsHUKzgj3kUu"
      }
    },
    {
      "cell_type": "code",
      "source": [
        "probability_model = tf.keras.Sequential([\n",
        "  model,\n",
        "  tf.keras.layers.Softmax()\n",
        "])\n"
      ],
      "metadata": {
        "id": "Gj-zEZp83nlk"
      },
      "execution_count": 12,
      "outputs": []
    },
    {
      "cell_type": "code",
      "source": [
        "probability_model(x_test[:5])\n"
      ],
      "metadata": {
        "colab": {
          "base_uri": "https://localhost:8080/"
        },
        "id": "_wPg0Vl03py9",
        "outputId": "982bce59-4d44-43e1-8cc8-551c945154bc"
      },
      "execution_count": 13,
      "outputs": [
        {
          "output_type": "execute_result",
          "data": {
            "text/plain": [
              "<tf.Tensor: shape=(5, 10), dtype=float32, numpy=\n",
              "array([[2.24015736e-07, 9.61562563e-09, 9.29221017e-07, 1.30649481e-04,\n",
              "        2.20125654e-12, 5.22898517e-06, 2.58797341e-11, 9.99853730e-01,\n",
              "        2.60843694e-06, 6.61347394e-06],\n",
              "       [7.01204854e-08, 2.20069196e-04, 9.99449193e-01, 1.95747780e-04,\n",
              "        2.52512941e-12, 1.68335337e-05, 9.09873279e-07, 4.00811220e-13,\n",
              "        1.17111835e-04, 2.56190347e-11],\n",
              "       [5.30398950e-07, 9.98789608e-01, 6.78714205e-05, 1.11753288e-05,\n",
              "        2.41067901e-04, 1.89546245e-05, 5.52218189e-05, 5.82071196e-04,\n",
              "        2.32169274e-04, 1.35339212e-06],\n",
              "       [9.99683976e-01, 7.59774466e-08, 7.38117451e-05, 4.26418092e-06,\n",
              "        2.75180301e-09, 3.42497551e-05, 3.21789630e-05, 6.12330696e-05,\n",
              "        2.83209971e-07, 1.09932414e-04],\n",
              "       [4.60761930e-06, 3.62312591e-07, 5.25100550e-05, 7.61053286e-07,\n",
              "        9.90703702e-01, 6.65600601e-06, 1.38740152e-05, 6.03424327e-04,\n",
              "        2.90791286e-06, 8.61124881e-03]], dtype=float32)>"
            ]
          },
          "metadata": {},
          "execution_count": 13
        }
      ]
    },
    {
      "cell_type": "code",
      "source": [
        "test_loss, test_accuracy = model.evaluate(x_test, y_test)\n",
        "print(f\"Test accuracy: {test_accuracy:.4f}\")"
      ],
      "metadata": {
        "colab": {
          "base_uri": "https://localhost:8080/"
        },
        "id": "rcOSkUTE9PBR",
        "outputId": "e66999d5-c979-42f3-9392-2c07cd4c4da6"
      },
      "execution_count": 14,
      "outputs": [
        {
          "output_type": "stream",
          "name": "stdout",
          "text": [
            "\u001b[1m313/313\u001b[0m \u001b[32m━━━━━━━━━━━━━━━━━━━━\u001b[0m\u001b[37m\u001b[0m \u001b[1m0s\u001b[0m 1ms/step - accuracy: 0.9703 - loss: 0.0944\n",
            "Test accuracy: 0.9752\n"
          ]
        }
      ]
    },
    {
      "cell_type": "markdown",
      "source": [
        "# ***Приклад моделі з кількома вхідними шарами***\n",
        "Припустимо, ми працюємо з моделлю, де є два типи вхідних даних:\n",
        "\n",
        "***Зображення (розмір 28x28) для обробки за допомогою згорткової мережі.\n",
        "Табличні дані (кілька числових ознак), які можна обробити через звичайний повнозв'язний шар.***"
      ],
      "metadata": {
        "id": "jk-f333U_9F2"
      }
    },
    {
      "cell_type": "code",
      "source": [
        "from tensorflow.keras import Input, Model\n",
        "from tensorflow.keras.layers import Dense, Flatten, Concatenate, Conv2D, MaxPooling2D\n",
        "\n",
        "# Вхід для зображень (28x28)\n",
        "image_input = Input(shape=(28, 28, 1), name='image_input')\n",
        "x1 = Conv2D(32, (3, 3), activation='relu')(image_input)\n",
        "x1 = MaxPooling2D((2, 2))(x1)\n",
        "x1 = Flatten()(x1)\n",
        "\n",
        "# Вхід для числових ознак\n",
        "numeric_input = Input(shape=(10,), name='numeric_input')  # Наприклад, 10 числових ознак\n",
        "x2 = Dense(64, activation='relu')(numeric_input)\n",
        "\n",
        "# Об'єднання обох потоків\n",
        "merged = Concatenate()([x1, x2])\n",
        "output = Dense(1, activation='sigmoid')(merged)  # Припустимо, завдання - бінарна класифікація\n",
        "\n",
        "# Створення моделі\n",
        "model = Model(inputs=[image_input, numeric_input], outputs=output)\n",
        "model.compile(optimizer='adam', loss='binary_crossentropy', metrics=['accuracy'])\n",
        "\n",
        "model.summary()\n",
        "\n",
        "\n"
      ],
      "metadata": {
        "colab": {
          "base_uri": "https://localhost:8080/",
          "height": 426
        },
        "id": "MEu_SdMGAHTE",
        "outputId": "f0bf6bb6-5fc1-42a7-c334-80537242676e"
      },
      "execution_count": 22,
      "outputs": [
        {
          "output_type": "display_data",
          "data": {
            "text/plain": [
              "\u001b[1mModel: \"functional_5\"\u001b[0m\n"
            ],
            "text/html": [
              "<pre style=\"white-space:pre;overflow-x:auto;line-height:normal;font-family:Menlo,'DejaVu Sans Mono',consolas,'Courier New',monospace\"><span style=\"font-weight: bold\">Model: \"functional_5\"</span>\n",
              "</pre>\n"
            ]
          },
          "metadata": {}
        },
        {
          "output_type": "display_data",
          "data": {
            "text/plain": [
              "┏━━━━━━━━━━━━━━━━━━━━━━━━━━━┳━━━━━━━━━━━━━━━━━━━━━━━━┳━━━━━━━━━━━━━━━━┳━━━━━━━━━━━━━━━━━━━━━━━━┓\n",
              "┃\u001b[1m \u001b[0m\u001b[1mLayer (type)             \u001b[0m\u001b[1m \u001b[0m┃\u001b[1m \u001b[0m\u001b[1mOutput Shape          \u001b[0m\u001b[1m \u001b[0m┃\u001b[1m \u001b[0m\u001b[1m       Param #\u001b[0m\u001b[1m \u001b[0m┃\u001b[1m \u001b[0m\u001b[1mConnected to          \u001b[0m\u001b[1m \u001b[0m┃\n",
              "┡━━━━━━━━━━━━━━━━━━━━━━━━━━━╇━━━━━━━━━━━━━━━━━━━━━━━━╇━━━━━━━━━━━━━━━━╇━━━━━━━━━━━━━━━━━━━━━━━━┩\n",
              "│ image_input (\u001b[38;5;33mInputLayer\u001b[0m)  │ (\u001b[38;5;45mNone\u001b[0m, \u001b[38;5;34m28\u001b[0m, \u001b[38;5;34m28\u001b[0m, \u001b[38;5;34m1\u001b[0m)      │              \u001b[38;5;34m0\u001b[0m │ -                      │\n",
              "├───────────────────────────┼────────────────────────┼────────────────┼────────────────────────┤\n",
              "│ conv2d_3 (\u001b[38;5;33mConv2D\u001b[0m)         │ (\u001b[38;5;45mNone\u001b[0m, \u001b[38;5;34m26\u001b[0m, \u001b[38;5;34m26\u001b[0m, \u001b[38;5;34m32\u001b[0m)     │            \u001b[38;5;34m320\u001b[0m │ image_input[\u001b[38;5;34m0\u001b[0m][\u001b[38;5;34m0\u001b[0m]      │\n",
              "├───────────────────────────┼────────────────────────┼────────────────┼────────────────────────┤\n",
              "│ max_pooling2d_3           │ (\u001b[38;5;45mNone\u001b[0m, \u001b[38;5;34m13\u001b[0m, \u001b[38;5;34m13\u001b[0m, \u001b[38;5;34m32\u001b[0m)     │              \u001b[38;5;34m0\u001b[0m │ conv2d_3[\u001b[38;5;34m0\u001b[0m][\u001b[38;5;34m0\u001b[0m]         │\n",
              "│ (\u001b[38;5;33mMaxPooling2D\u001b[0m)            │                        │                │                        │\n",
              "├───────────────────────────┼────────────────────────┼────────────────┼────────────────────────┤\n",
              "│ numeric_input             │ (\u001b[38;5;45mNone\u001b[0m, \u001b[38;5;34m10\u001b[0m)             │              \u001b[38;5;34m0\u001b[0m │ -                      │\n",
              "│ (\u001b[38;5;33mInputLayer\u001b[0m)              │                        │                │                        │\n",
              "├───────────────────────────┼────────────────────────┼────────────────┼────────────────────────┤\n",
              "│ flatten_4 (\u001b[38;5;33mFlatten\u001b[0m)       │ (\u001b[38;5;45mNone\u001b[0m, \u001b[38;5;34m5408\u001b[0m)           │              \u001b[38;5;34m0\u001b[0m │ max_pooling2d_3[\u001b[38;5;34m0\u001b[0m][\u001b[38;5;34m0\u001b[0m]  │\n",
              "├───────────────────────────┼────────────────────────┼────────────────┼────────────────────────┤\n",
              "│ dense_8 (\u001b[38;5;33mDense\u001b[0m)           │ (\u001b[38;5;45mNone\u001b[0m, \u001b[38;5;34m64\u001b[0m)             │            \u001b[38;5;34m704\u001b[0m │ numeric_input[\u001b[38;5;34m0\u001b[0m][\u001b[38;5;34m0\u001b[0m]    │\n",
              "├───────────────────────────┼────────────────────────┼────────────────┼────────────────────────┤\n",
              "│ concatenate_3             │ (\u001b[38;5;45mNone\u001b[0m, \u001b[38;5;34m5472\u001b[0m)           │              \u001b[38;5;34m0\u001b[0m │ flatten_4[\u001b[38;5;34m0\u001b[0m][\u001b[38;5;34m0\u001b[0m],       │\n",
              "│ (\u001b[38;5;33mConcatenate\u001b[0m)             │                        │                │ dense_8[\u001b[38;5;34m0\u001b[0m][\u001b[38;5;34m0\u001b[0m]          │\n",
              "├───────────────────────────┼────────────────────────┼────────────────┼────────────────────────┤\n",
              "│ dense_9 (\u001b[38;5;33mDense\u001b[0m)           │ (\u001b[38;5;45mNone\u001b[0m, \u001b[38;5;34m1\u001b[0m)              │          \u001b[38;5;34m5,473\u001b[0m │ concatenate_3[\u001b[38;5;34m0\u001b[0m][\u001b[38;5;34m0\u001b[0m]    │\n",
              "└───────────────────────────┴────────────────────────┴────────────────┴────────────────────────┘\n"
            ],
            "text/html": [
              "<pre style=\"white-space:pre;overflow-x:auto;line-height:normal;font-family:Menlo,'DejaVu Sans Mono',consolas,'Courier New',monospace\">┏━━━━━━━━━━━━━━━━━━━━━━━━━━━┳━━━━━━━━━━━━━━━━━━━━━━━━┳━━━━━━━━━━━━━━━━┳━━━━━━━━━━━━━━━━━━━━━━━━┓\n",
              "┃<span style=\"font-weight: bold\"> Layer (type)              </span>┃<span style=\"font-weight: bold\"> Output Shape           </span>┃<span style=\"font-weight: bold\">        Param # </span>┃<span style=\"font-weight: bold\"> Connected to           </span>┃\n",
              "┡━━━━━━━━━━━━━━━━━━━━━━━━━━━╇━━━━━━━━━━━━━━━━━━━━━━━━╇━━━━━━━━━━━━━━━━╇━━━━━━━━━━━━━━━━━━━━━━━━┩\n",
              "│ image_input (<span style=\"color: #0087ff; text-decoration-color: #0087ff\">InputLayer</span>)  │ (<span style=\"color: #00d7ff; text-decoration-color: #00d7ff\">None</span>, <span style=\"color: #00af00; text-decoration-color: #00af00\">28</span>, <span style=\"color: #00af00; text-decoration-color: #00af00\">28</span>, <span style=\"color: #00af00; text-decoration-color: #00af00\">1</span>)      │              <span style=\"color: #00af00; text-decoration-color: #00af00\">0</span> │ -                      │\n",
              "├───────────────────────────┼────────────────────────┼────────────────┼────────────────────────┤\n",
              "│ conv2d_3 (<span style=\"color: #0087ff; text-decoration-color: #0087ff\">Conv2D</span>)         │ (<span style=\"color: #00d7ff; text-decoration-color: #00d7ff\">None</span>, <span style=\"color: #00af00; text-decoration-color: #00af00\">26</span>, <span style=\"color: #00af00; text-decoration-color: #00af00\">26</span>, <span style=\"color: #00af00; text-decoration-color: #00af00\">32</span>)     │            <span style=\"color: #00af00; text-decoration-color: #00af00\">320</span> │ image_input[<span style=\"color: #00af00; text-decoration-color: #00af00\">0</span>][<span style=\"color: #00af00; text-decoration-color: #00af00\">0</span>]      │\n",
              "├───────────────────────────┼────────────────────────┼────────────────┼────────────────────────┤\n",
              "│ max_pooling2d_3           │ (<span style=\"color: #00d7ff; text-decoration-color: #00d7ff\">None</span>, <span style=\"color: #00af00; text-decoration-color: #00af00\">13</span>, <span style=\"color: #00af00; text-decoration-color: #00af00\">13</span>, <span style=\"color: #00af00; text-decoration-color: #00af00\">32</span>)     │              <span style=\"color: #00af00; text-decoration-color: #00af00\">0</span> │ conv2d_3[<span style=\"color: #00af00; text-decoration-color: #00af00\">0</span>][<span style=\"color: #00af00; text-decoration-color: #00af00\">0</span>]         │\n",
              "│ (<span style=\"color: #0087ff; text-decoration-color: #0087ff\">MaxPooling2D</span>)            │                        │                │                        │\n",
              "├───────────────────────────┼────────────────────────┼────────────────┼────────────────────────┤\n",
              "│ numeric_input             │ (<span style=\"color: #00d7ff; text-decoration-color: #00d7ff\">None</span>, <span style=\"color: #00af00; text-decoration-color: #00af00\">10</span>)             │              <span style=\"color: #00af00; text-decoration-color: #00af00\">0</span> │ -                      │\n",
              "│ (<span style=\"color: #0087ff; text-decoration-color: #0087ff\">InputLayer</span>)              │                        │                │                        │\n",
              "├───────────────────────────┼────────────────────────┼────────────────┼────────────────────────┤\n",
              "│ flatten_4 (<span style=\"color: #0087ff; text-decoration-color: #0087ff\">Flatten</span>)       │ (<span style=\"color: #00d7ff; text-decoration-color: #00d7ff\">None</span>, <span style=\"color: #00af00; text-decoration-color: #00af00\">5408</span>)           │              <span style=\"color: #00af00; text-decoration-color: #00af00\">0</span> │ max_pooling2d_3[<span style=\"color: #00af00; text-decoration-color: #00af00\">0</span>][<span style=\"color: #00af00; text-decoration-color: #00af00\">0</span>]  │\n",
              "├───────────────────────────┼────────────────────────┼────────────────┼────────────────────────┤\n",
              "│ dense_8 (<span style=\"color: #0087ff; text-decoration-color: #0087ff\">Dense</span>)           │ (<span style=\"color: #00d7ff; text-decoration-color: #00d7ff\">None</span>, <span style=\"color: #00af00; text-decoration-color: #00af00\">64</span>)             │            <span style=\"color: #00af00; text-decoration-color: #00af00\">704</span> │ numeric_input[<span style=\"color: #00af00; text-decoration-color: #00af00\">0</span>][<span style=\"color: #00af00; text-decoration-color: #00af00\">0</span>]    │\n",
              "├───────────────────────────┼────────────────────────┼────────────────┼────────────────────────┤\n",
              "│ concatenate_3             │ (<span style=\"color: #00d7ff; text-decoration-color: #00d7ff\">None</span>, <span style=\"color: #00af00; text-decoration-color: #00af00\">5472</span>)           │              <span style=\"color: #00af00; text-decoration-color: #00af00\">0</span> │ flatten_4[<span style=\"color: #00af00; text-decoration-color: #00af00\">0</span>][<span style=\"color: #00af00; text-decoration-color: #00af00\">0</span>],       │\n",
              "│ (<span style=\"color: #0087ff; text-decoration-color: #0087ff\">Concatenate</span>)             │                        │                │ dense_8[<span style=\"color: #00af00; text-decoration-color: #00af00\">0</span>][<span style=\"color: #00af00; text-decoration-color: #00af00\">0</span>]          │\n",
              "├───────────────────────────┼────────────────────────┼────────────────┼────────────────────────┤\n",
              "│ dense_9 (<span style=\"color: #0087ff; text-decoration-color: #0087ff\">Dense</span>)           │ (<span style=\"color: #00d7ff; text-decoration-color: #00d7ff\">None</span>, <span style=\"color: #00af00; text-decoration-color: #00af00\">1</span>)              │          <span style=\"color: #00af00; text-decoration-color: #00af00\">5,473</span> │ concatenate_3[<span style=\"color: #00af00; text-decoration-color: #00af00\">0</span>][<span style=\"color: #00af00; text-decoration-color: #00af00\">0</span>]    │\n",
              "└───────────────────────────┴────────────────────────┴────────────────┴────────────────────────┘\n",
              "</pre>\n"
            ]
          },
          "metadata": {}
        },
        {
          "output_type": "display_data",
          "data": {
            "text/plain": [
              "\u001b[1m Total params: \u001b[0m\u001b[38;5;34m6,497\u001b[0m (25.38 KB)\n"
            ],
            "text/html": [
              "<pre style=\"white-space:pre;overflow-x:auto;line-height:normal;font-family:Menlo,'DejaVu Sans Mono',consolas,'Courier New',monospace\"><span style=\"font-weight: bold\"> Total params: </span><span style=\"color: #00af00; text-decoration-color: #00af00\">6,497</span> (25.38 KB)\n",
              "</pre>\n"
            ]
          },
          "metadata": {}
        },
        {
          "output_type": "display_data",
          "data": {
            "text/plain": [
              "\u001b[1m Trainable params: \u001b[0m\u001b[38;5;34m6,497\u001b[0m (25.38 KB)\n"
            ],
            "text/html": [
              "<pre style=\"white-space:pre;overflow-x:auto;line-height:normal;font-family:Menlo,'DejaVu Sans Mono',consolas,'Courier New',monospace\"><span style=\"font-weight: bold\"> Trainable params: </span><span style=\"color: #00af00; text-decoration-color: #00af00\">6,497</span> (25.38 KB)\n",
              "</pre>\n"
            ]
          },
          "metadata": {}
        },
        {
          "output_type": "display_data",
          "data": {
            "text/plain": [
              "\u001b[1m Non-trainable params: \u001b[0m\u001b[38;5;34m0\u001b[0m (0.00 B)\n"
            ],
            "text/html": [
              "<pre style=\"white-space:pre;overflow-x:auto;line-height:normal;font-family:Menlo,'DejaVu Sans Mono',consolas,'Courier New',monospace\"><span style=\"font-weight: bold\"> Non-trainable params: </span><span style=\"color: #00af00; text-decoration-color: #00af00\">0</span> (0.00 B)\n",
              "</pre>\n"
            ]
          },
          "metadata": {}
        }
      ]
    },
    {
      "cell_type": "markdown",
      "source": [
        "***Input для кожного типу даних: image_input для зображень і numeric_input для числових ознак.***\n",
        "***Окремі обчислювальні шляхи: обробка зображень через згорткові шари та обробка числових ознак через повнозв'язні шари.***\n",
        "***Об'єднання (Concatenate) потоків даних перед передачею їх до вихідного шару.***"
      ],
      "metadata": {
        "id": "fVDWq7hcA8_R"
      }
    },
    {
      "cell_type": "code",
      "source": [
        "import numpy as np\n",
        "\n",
        "\n",
        "x_image_data = np.random.rand(1000, 28, 28, 1)\n",
        "# Числові дані (наприклад, 1000 прикладів з 10 ознаками)\n",
        "x_numeric_data = np.random.rand(1000, 10)\n",
        "# Мітки класів (бінарна класифікація, тому 0 або 1)\n",
        "y_labels = np.random.randint(0, 2, 1000)\n",
        "\n",
        "\n",
        "model.fit(\n",
        "    {'image_input': x_image_data, 'numeric_input': x_numeric_data},\n",
        "    y_labels,\n",
        "    epochs=10,\n",
        "    batch_size=32\n",
        ")"
      ],
      "metadata": {
        "colab": {
          "base_uri": "https://localhost:8080/"
        },
        "id": "Z8MeqhdCARX3",
        "outputId": "c467d6d9-622c-43dc-d8c5-eda97a1697f4"
      },
      "execution_count": 27,
      "outputs": [
        {
          "output_type": "stream",
          "name": "stdout",
          "text": [
            "Epoch 1/10\n",
            "\u001b[1m32/32\u001b[0m \u001b[32m━━━━━━━━━━━━━━━━━━━━\u001b[0m\u001b[37m\u001b[0m \u001b[1m2s\u001b[0m 13ms/step - accuracy: 0.4929 - loss: 0.7031\n",
            "Epoch 2/10\n",
            "\u001b[1m32/32\u001b[0m \u001b[32m━━━━━━━━━━━━━━━━━━━━\u001b[0m\u001b[37m\u001b[0m \u001b[1m1s\u001b[0m 21ms/step - accuracy: 0.5083 - loss: 0.6912\n",
            "Epoch 3/10\n",
            "\u001b[1m32/32\u001b[0m \u001b[32m━━━━━━━━━━━━━━━━━━━━\u001b[0m\u001b[37m\u001b[0m \u001b[1m1s\u001b[0m 21ms/step - accuracy: 0.6189 - loss: 0.6822\n",
            "Epoch 4/10\n",
            "\u001b[1m32/32\u001b[0m \u001b[32m━━━━━━━━━━━━━━━━━━━━\u001b[0m\u001b[37m\u001b[0m \u001b[1m1s\u001b[0m 12ms/step - accuracy: 0.5729 - loss: 0.6696\n",
            "Epoch 5/10\n",
            "\u001b[1m32/32\u001b[0m \u001b[32m━━━━━━━━━━━━━━━━━━━━\u001b[0m\u001b[37m\u001b[0m \u001b[1m1s\u001b[0m 12ms/step - accuracy: 0.5482 - loss: 0.6588\n",
            "Epoch 6/10\n",
            "\u001b[1m32/32\u001b[0m \u001b[32m━━━━━━━━━━━━━━━━━━━━\u001b[0m\u001b[37m\u001b[0m \u001b[1m0s\u001b[0m 12ms/step - accuracy: 0.6044 - loss: 0.6508\n",
            "Epoch 7/10\n",
            "\u001b[1m32/32\u001b[0m \u001b[32m━━━━━━━━━━━━━━━━━━━━\u001b[0m\u001b[37m\u001b[0m \u001b[1m1s\u001b[0m 12ms/step - accuracy: 0.7540 - loss: 0.6214\n",
            "Epoch 8/10\n",
            "\u001b[1m32/32\u001b[0m \u001b[32m━━━━━━━━━━━━━━━━━━━━\u001b[0m\u001b[37m\u001b[0m \u001b[1m1s\u001b[0m 14ms/step - accuracy: 0.8225 - loss: 0.5975\n",
            "Epoch 9/10\n",
            "\u001b[1m32/32\u001b[0m \u001b[32m━━━━━━━━━━━━━━━━━━━━\u001b[0m\u001b[37m\u001b[0m \u001b[1m1s\u001b[0m 12ms/step - accuracy: 0.7583 - loss: 0.5892\n",
            "Epoch 10/10\n",
            "\u001b[1m32/32\u001b[0m \u001b[32m━━━━━━━━━━━━━━━━━━━━\u001b[0m\u001b[37m\u001b[0m \u001b[1m0s\u001b[0m 14ms/step - accuracy: 0.8448 - loss: 0.5503\n"
          ]
        },
        {
          "output_type": "execute_result",
          "data": {
            "text/plain": [
              "<keras.src.callbacks.history.History at 0x7bbfd64fa5c0>"
            ]
          },
          "metadata": {},
          "execution_count": 27
        }
      ]
    },
    {
      "cell_type": "markdown",
      "source": [
        "x_image_data містить масив зображень розміром (1000, 28, 28, 1), де 1000 — кількість зразків, 28x28 — розмір зображення, а 1 — кількість кольорових каналів.\n",
        "\n",
        "x_numeric_data — масив числових даних розміром (1000, 10).\n",
        "\n",
        "y_labels містить мітки класів для кожного зразка."
      ],
      "metadata": {
        "id": "XVk1u5DgBXY3"
      }
    }
  ]
}