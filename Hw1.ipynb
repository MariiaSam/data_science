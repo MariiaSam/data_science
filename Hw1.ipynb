{
  "nbformat": 4,
  "nbformat_minor": 0,
  "metadata": {
    "colab": {
      "provenance": [],
      "authorship_tag": "ABX9TyMhHgGVJ375ciMC7bpjc+qE",
      "include_colab_link": true
    },
    "kernelspec": {
      "name": "python3",
      "display_name": "Python 3"
    },
    "language_info": {
      "name": "python"
    }
  },
  "cells": [
    {
      "cell_type": "markdown",
      "metadata": {
        "id": "view-in-github",
        "colab_type": "text"
      },
      "source": [
        "<a href=\"https://colab.research.google.com/github/MariiaSam/data_science/blob/main/Hw1.ipynb\" target=\"_parent\"><img src=\"https://colab.research.google.com/assets/colab-badge.svg\" alt=\"Open In Colab\"/></a>"
      ]
    },
    {
      "cell_type": "code",
      "execution_count": 125,
      "metadata": {
        "id": "pWqe25_5pquY"
      },
      "outputs": [],
      "source": [
        "import numpy as np\n"
      ]
    },
    {
      "cell_type": "code",
      "source": [
        "# 1. Створіть одновимірний масив (вектор) з першими 10-ма натуральними числами та виведіть його значення.\n",
        "\n",
        "matrix = np.matrix([1, 2, 3, 4, 5, 6, 7, 8, 9, 10])\n",
        "print(matrix)"
      ],
      "metadata": {
        "colab": {
          "base_uri": "https://localhost:8080/"
        },
        "id": "10uT-joupwQw",
        "outputId": "65454b66-7186-4650-9d05-5556bc6c21bd"
      },
      "execution_count": 57,
      "outputs": [
        {
          "output_type": "stream",
          "name": "stdout",
          "text": [
            "[[ 1  2  3  4  5  6  7  8  9 10]]\n"
          ]
        }
      ]
    },
    {
      "cell_type": "code",
      "source": [
        "# 2. Створіть двовимірний масив (матрицю) розміром 3x3, заповніть його нулями та виведіть його значення.\n",
        "matrix = np.zeros((3, 3), dtype=int)\n",
        "print(matrix)\n"
      ],
      "metadata": {
        "colab": {
          "base_uri": "https://localhost:8080/"
        },
        "id": "I9R4NA04rN_Y",
        "outputId": "2a0fe989-2386-49fc-b3a7-62ea9d7a7f08"
      },
      "execution_count": 58,
      "outputs": [
        {
          "output_type": "stream",
          "name": "stdout",
          "text": [
            "[[0 0 0]\n",
            " [0 0 0]\n",
            " [0 0 0]]\n"
          ]
        }
      ]
    },
    {
      "cell_type": "code",
      "source": [
        "# 3. Створіть масив розміром 5x5, заповніть його випадковими цілими числами в діапазоні від 1 до 10 та виведіть його значення\n",
        "\n",
        "matrix = np.random.randint(1, 11, size=(5,5))\n",
        "\n",
        "print(matrix)"
      ],
      "metadata": {
        "colab": {
          "base_uri": "https://localhost:8080/"
        },
        "id": "Ci5d0RGmsXFI",
        "outputId": "19a91a36-ed0c-4545-ec2c-5764a8aecfd2"
      },
      "execution_count": 96,
      "outputs": [
        {
          "output_type": "stream",
          "name": "stdout",
          "text": [
            "[[ 7  7  3  8  6]\n",
            " [ 8  1  9 10  3]\n",
            " [10  8 10  7  2]\n",
            " [ 4 10  3  5  4]\n",
            " [ 9  3  1  3  5]]\n"
          ]
        }
      ]
    },
    {
      "cell_type": "code",
      "source": [
        "# 4. Створіть масив розміром 4x4, заповніть його випадковими дійсними числами в діапазоні від 0 до 1 та виведіть його значення\n",
        "matrix = np.random.randint(2, size=(4,4))\n",
        "print(matrix)"
      ],
      "metadata": {
        "id": "bcHV6pIZ4p-o",
        "colab": {
          "base_uri": "https://localhost:8080/"
        },
        "outputId": "b6864718-96c9-46d3-dc12-78a9bf8803a0"
      },
      "execution_count": 97,
      "outputs": [
        {
          "output_type": "stream",
          "name": "stdout",
          "text": [
            "[[0 1 0 0]\n",
            " [1 1 1 0]\n",
            " [0 0 0 1]\n",
            " [0 0 0 1]]\n"
          ]
        }
      ]
    },
    {
      "cell_type": "code",
      "source": [
        "# 5. Створіть два одновимірних масиви розміром 5, заповніть їх випадковими цілими числами в діапазоні від 1 до 10 та виконайте на них поелементні операції додавання, віднімання та множення\n",
        "a = np.random.randint(1, 11, size=(5), dtype=int)\n",
        "b = np.random.randint(1, 11, size=(5), dtype=int)\n",
        "\n",
        "print(a+b)"
      ],
      "metadata": {
        "colab": {
          "base_uri": "https://localhost:8080/"
        },
        "id": "VVSNySFw_EZI",
        "outputId": "205cdf08-2565-4497-e698-4854ed6949c7"
      },
      "execution_count": 98,
      "outputs": [
        {
          "output_type": "stream",
          "name": "stdout",
          "text": [
            "[14  7  6 15 16]\n"
          ]
        }
      ]
    },
    {
      "cell_type": "code",
      "source": [
        "# 6. Створіть два вектори розміром 7, заповніть довільними числами та знайдіть їх скалярний добуток\n",
        "vector1 = np.array([1, 2, 3, 4, 5, 6, 7])\n",
        "vector2 = np.array([2, 4, 6, 1, 3, 5, 9])\n",
        "\n",
        "print(np.dot(vector1, vector2))"
      ],
      "metadata": {
        "colab": {
          "base_uri": "https://localhost:8080/"
        },
        "id": "DmmikZkB_oy_",
        "outputId": "4e1a8ad1-dfe8-4c20-ce23-9f33e36ba4a0"
      },
      "execution_count": 99,
      "outputs": [
        {
          "output_type": "stream",
          "name": "stdout",
          "text": [
            "140\n"
          ]
        }
      ]
    },
    {
      "cell_type": "code",
      "source": [
        "# 7. Створіть дві матриці розміром 2x2 та 2x3, заповніть їх випадковими цілими числами в діапазоні від 1 до 10 та перемножте їх між собою\n",
        "matrix1 = np.random.randint(1, 11, size=(2,2), dtype=int)\n",
        "matrix2 = np.random.randint(1, 11, size=(2,3), dtype=int)\n",
        "\n",
        "print(np.dot(matrix1, matrix2))"
      ],
      "metadata": {
        "colab": {
          "base_uri": "https://localhost:8080/"
        },
        "id": "jy519i1fA2f5",
        "outputId": "1138094b-06c8-4769-c8f3-a55f73feb39d"
      },
      "execution_count": 100,
      "outputs": [
        {
          "output_type": "stream",
          "name": "stdout",
          "text": [
            "[[54 68 62]\n",
            " [ 9 11 11]]\n"
          ]
        }
      ]
    },
    {
      "cell_type": "code",
      "source": [
        "# 8. Створіть матрицю розміром 3x3, заповніть її випадковими цілими числами в діапазоні від 1 до 10 та знайдіть її обернену матрицю.\n",
        "matrix = np.random.randint(1, 11, size=(3,3), dtype=int)\n",
        "matrix_inv = np.linalg.inv(matrix)\n",
        "print(matrix_inv)\n"
      ],
      "metadata": {
        "colab": {
          "base_uri": "https://localhost:8080/"
        },
        "id": "zinnNP1hCmal",
        "outputId": "6344dfa5-8d07-4f52-858d-d899f16a7ab2"
      },
      "execution_count": 101,
      "outputs": [
        {
          "output_type": "stream",
          "name": "stdout",
          "text": [
            "[[ 0.23595506 -0.19101124  0.03370787]\n",
            " [-0.73033708  1.06741573 -0.24719101]\n",
            " [ 0.1011236  -0.2247191   0.15730337]]\n"
          ]
        }
      ]
    },
    {
      "cell_type": "code",
      "source": [
        "# 9. Створіть матрицю розміром 4x4, заповніть її випадковими дійсними числами в діапазоні від 0 до 1 та транспонуйте її\n",
        "matrix = np.random.rand(4, 4)\n",
        "print(matrix.T)"
      ],
      "metadata": {
        "colab": {
          "base_uri": "https://localhost:8080/"
        },
        "id": "0CwNqH0DGqrJ",
        "outputId": "4745764a-bdc2-4d9e-ac57-4cc7ab9a2610"
      },
      "execution_count": 102,
      "outputs": [
        {
          "output_type": "stream",
          "name": "stdout",
          "text": [
            "[[2.11968264e-01 6.94728199e-01 8.15129307e-01 3.10238894e-01]\n",
            " [3.19161738e-01 2.72297914e-01 6.83092244e-01 6.82573698e-01]\n",
            " [5.46787957e-01 4.99807976e-01 5.79183851e-04 1.21743007e-01]\n",
            " [2.91240187e-01 2.71385885e-01 1.93363514e-01 9.72108284e-01]]\n"
          ]
        }
      ]
    },
    {
      "cell_type": "code",
      "source": [
        "# 10. Створіть матрицю розміром 3x4 та вектор розміром 4, заповніть їх випадковими цілими числами в діапазоні від 1 до 10 та перемножте матрицю на вектор\n",
        "matrix = np.random.randint(1, 11, size=(3,4), dtype=int)\n",
        "vector = np.random.randint(1, 11, size=(4), dtype=int)\n",
        "print(matrix*vector)"
      ],
      "metadata": {
        "colab": {
          "base_uri": "https://localhost:8080/"
        },
        "id": "ofYr9l4rG_z_",
        "outputId": "6cff42a1-d132-4dca-9706-4e2c44b4dec5"
      },
      "execution_count": 103,
      "outputs": [
        {
          "output_type": "stream",
          "name": "stdout",
          "text": [
            "[[ 40  54   3 100]\n",
            " [  5  42   6 100]\n",
            " [ 10  12  21  50]]\n"
          ]
        }
      ]
    },
    {
      "cell_type": "code",
      "source": [
        "# 11. Створіть матрицю розміром 2x3 та вектор розміром 3, заповніть їх випадковими дійсними числами в діапазоні від 0 до 1 та перемножте матрицю на вектор\n",
        "matrix = np.random.rand(2, 3)\n",
        "vector = np.random.rand(3)\n",
        "\n",
        "print(matrix*vector)"
      ],
      "metadata": {
        "colab": {
          "base_uri": "https://localhost:8080/"
        },
        "id": "Ys7KBwc_K1Pc",
        "outputId": "4fa33d3e-6754-4e49-f2ee-8ac5f197961e"
      },
      "execution_count": 104,
      "outputs": [
        {
          "output_type": "stream",
          "name": "stdout",
          "text": [
            "[[0.18038557 0.26506241 0.06717794]\n",
            " [0.3381364  0.04275292 0.26094685]]\n"
          ]
        }
      ]
    },
    {
      "cell_type": "code",
      "source": [
        "# 12. Створіть дві матриці розміром 2x2, заповніть їх випадковими цілими числами в діапазоні від 1 до 10 та виконайте їхнє поелементне множення\n",
        "matrix1 = np.random.randint(1, 11, size=(2,2), dtype=int)\n",
        "matrix2 = np.random.randint(1, 11, size=(2,2), dtype=int)\n",
        "\n",
        "print(matrix1*matrix2)"
      ],
      "metadata": {
        "colab": {
          "base_uri": "https://localhost:8080/"
        },
        "id": "sufRrK5NVY-c",
        "outputId": "ce9d965a-dffe-4c47-cf75-cf4bc2081a67"
      },
      "execution_count": 105,
      "outputs": [
        {
          "output_type": "stream",
          "name": "stdout",
          "text": [
            "[[ 3 21]\n",
            " [24 18]]\n"
          ]
        }
      ]
    },
    {
      "cell_type": "code",
      "source": [
        "# 13. Створіть дві матриці розміром 2x2, заповніть їх випадковими цілими числами в діапазоні від 1 до 10 та знайдіть їх добуток\n",
        "matrix1 = np.random.randint(1, 11, size=(2,2), dtype=int)\n",
        "matrix2 = np.random.randint(1, 11, size=(2,2), dtype=int)\n",
        "\n",
        "print(np.dot(matrix1, matrix2))\n"
      ],
      "metadata": {
        "colab": {
          "base_uri": "https://localhost:8080/"
        },
        "id": "Khp1Cj2PWKfG",
        "outputId": "8ca81250-a333-4b4d-cbfc-3b3860856b10"
      },
      "execution_count": 106,
      "outputs": [
        {
          "output_type": "stream",
          "name": "stdout",
          "text": [
            "[[ 16  99]\n",
            " [ 24 117]]\n"
          ]
        }
      ]
    },
    {
      "cell_type": "code",
      "source": [
        "# 14. Створіть матрицю розміром 5x5, заповніть її випадковими цілими числами в діапазоні від 1 до 100 та знайдіть суму елементів матриці\n",
        "matrix = np.random.randint(1, 101, size=(5,5), dtype=int)\n",
        "print(matrix)\n",
        "\n",
        "print(matrix.sum())"
      ],
      "metadata": {
        "colab": {
          "base_uri": "https://localhost:8080/"
        },
        "id": "RaZ2q7eCWeNk",
        "outputId": "2dbed6ec-e7b9-4272-8dbb-23dc0e610671"
      },
      "execution_count": 110,
      "outputs": [
        {
          "output_type": "stream",
          "name": "stdout",
          "text": [
            "[[ 22  58  87  67  27]\n",
            " [ 78  92  15  28  94]\n",
            " [ 58  45  94  99  79]\n",
            " [ 29  86  91  70  89]\n",
            " [ 11  90  38 100  77]]\n",
            "1624\n"
          ]
        }
      ]
    },
    {
      "cell_type": "code",
      "source": [
        "# 15. Створіть дві матриці розміром 4x4, заповніть їх випадковими цілими числами в діапазоні від 1 до 10 та знайдіть їхню різницю\n",
        "matrix1 = np.random.randint(1, 11, size=(4,4), dtype=int)\n",
        "matrix2 = np.random.randint(1, 11, size=(4,4), dtype=int)\n",
        "\n",
        "print(matrix1)\n",
        "print(matrix2)\n",
        "\n",
        "print(matrix1 - matrix2)"
      ],
      "metadata": {
        "colab": {
          "base_uri": "https://localhost:8080/"
        },
        "id": "Um1b_TBPXqlH",
        "outputId": "cd94d93b-4794-40ed-dbd5-7eb8fcd5e83f"
      },
      "execution_count": 113,
      "outputs": [
        {
          "output_type": "stream",
          "name": "stdout",
          "text": [
            "[[ 5  3 10  3]\n",
            " [ 8  2  9  1]\n",
            " [ 6  2  5  9]\n",
            " [ 2  9 10  9]]\n",
            "[[ 2  8  5  7]\n",
            " [ 3 10  5  7]\n",
            " [ 4  8  5  2]\n",
            " [10  2  4  1]]\n",
            "[[ 3 -5  5 -4]\n",
            " [ 5 -8  4 -6]\n",
            " [ 2 -6  0  7]\n",
            " [-8  7  6  8]]\n"
          ]
        }
      ]
    },
    {
      "cell_type": "code",
      "source": [
        "# 16. Створіть матрицю розміром 3x3, заповніть її випадковими дійсними числами в діапазоні від 0 до 1 та знайдіть вектор-стовпчик, що містить суму елементів кожного рядка матриці.\n",
        "matrix = np.random.rand(3, 3)\n",
        "print(matrix)\n",
        "print(matrix.shape)"
      ],
      "metadata": {
        "colab": {
          "base_uri": "https://localhost:8080/"
        },
        "id": "WlP5hgaEap4M",
        "outputId": "f4646949-df43-4891-efef-61fc27af851d"
      },
      "execution_count": 118,
      "outputs": [
        {
          "output_type": "stream",
          "name": "stdout",
          "text": [
            "[[0.24118609 0.53297844 0.7871055 ]\n",
            " [0.23839089 0.84297698 0.24155457]\n",
            " [0.83628328 0.56176787 0.04157504]]\n",
            "(3, 3)\n"
          ]
        }
      ]
    },
    {
      "cell_type": "code",
      "source": [
        "# 17. Створіть матрицю розміром 3x4 з довільними цілими числами і створінь матрицю з квадратами цих чисел.\n",
        "matrix = np.random.randint(0, 11, (3, 4))\n",
        "print(matrix)\n",
        "\n",
        "matrix2 = matrix * matrix\n",
        "print(matrix2)"
      ],
      "metadata": {
        "colab": {
          "base_uri": "https://localhost:8080/"
        },
        "id": "L0L647UVdWhE",
        "outputId": "d4baf226-1ace-488a-e936-5c6f4962318e"
      },
      "execution_count": 124,
      "outputs": [
        {
          "output_type": "stream",
          "name": "stdout",
          "text": [
            "[[10 10  2  4]\n",
            " [ 4  7  7  0]\n",
            " [10  9  0  0]]\n",
            "[[100 100   4  16]\n",
            " [ 16  49  49   0]\n",
            " [100  81   0   0]]\n"
          ]
        }
      ]
    },
    {
      "cell_type": "code",
      "source": [
        "# 18. Створіть вектор розміром 4, заповніть його випадковими цілими числами в діапазоні від 1 до 50 та знайдіть вектор з квадратними коренями цих чисел\n",
        "vector1 = np.array([1, 2, 3, 4, 5, 6, 7])\n"
      ],
      "metadata": {
        "id": "qhNZGLJPjry_"
      },
      "execution_count": null,
      "outputs": []
    }
  ]
}