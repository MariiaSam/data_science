{
  "nbformat": 4,
  "nbformat_minor": 0,
  "metadata": {
    "colab": {
      "provenance": [],
      "authorship_tag": "ABX9TyMBThqQ2ywDSuZ2XeNVS8jV",
      "include_colab_link": true
    },
    "kernelspec": {
      "name": "python3",
      "display_name": "Python 3"
    },
    "language_info": {
      "name": "python"
    }
  },
  "cells": [
    {
      "cell_type": "markdown",
      "metadata": {
        "id": "view-in-github",
        "colab_type": "text"
      },
      "source": [
        "<a href=\"https://colab.research.google.com/github/MariiaSam/data_science/blob/main/Pandas.ipynb\" target=\"_parent\"><img src=\"https://colab.research.google.com/assets/colab-badge.svg\" alt=\"Open In Colab\"/></a>"
      ]
    },
    {
      "cell_type": "markdown",
      "source": [
        "# PANDAS"
      ],
      "metadata": {
        "id": "AO6GOlo6Atd1"
      }
    },
    {
      "cell_type": "code",
      "execution_count": 1,
      "metadata": {
        "id": "ZUfTBENX-TCU"
      },
      "outputs": [],
      "source": [
        "import pandas as pd\n"
      ]
    },
    {
      "cell_type": "markdown",
      "source": [
        "# Series"
      ],
      "metadata": {
        "id": "4TNr7M-3A1Dg"
      }
    },
    {
      "cell_type": "code",
      "source": [
        "# create\n",
        "mountain_height = pd.Series([2061, 2035.8, 2028.5, 2022.5, 2016.4])\n",
        "\n",
        "print(mountain_height)"
      ],
      "metadata": {
        "colab": {
          "base_uri": "https://localhost:8080/"
        },
        "id": "99hYbGtP-W_6",
        "outputId": "352aaeff-cf66-4b56-e554-efcda95de796"
      },
      "execution_count": null,
      "outputs": [
        {
          "output_type": "stream",
          "name": "stdout",
          "text": [
            "0    2061.0\n",
            "1    2035.8\n",
            "2    2028.5\n",
            "3    2022.5\n",
            "4    2016.4\n",
            "dtype: float64\n"
          ]
        }
      ]
    },
    {
      "cell_type": "code",
      "source": [
        "mountains_height = pd.Series(\n",
        "    data=[2061, 2035.8, 2028.5, 2022.5, 2016.4],\n",
        "    index=[\"Goverla\", \"Brebenskyl\", \"Pip_Ivan\", \"Petros\", \"Gutin_Tomnatik\"],\n",
        "    name=\"Height, m\",\n",
        "    dtype=float,\n",
        ")\n",
        "\n",
        "print(mountains_height)"
      ],
      "metadata": {
        "colab": {
          "base_uri": "https://localhost:8080/"
        },
        "id": "mIDiggrP-uSB",
        "outputId": "44581ace-6b63-482c-c2fc-ef246df97823"
      },
      "execution_count": null,
      "outputs": [
        {
          "output_type": "stream",
          "name": "stdout",
          "text": [
            "Goverla           2061.0\n",
            "Brebenskyl        2035.8\n",
            "Pip_Ivan          2028.5\n",
            "Petros            2022.5\n",
            "Gutin_Tomnatik    2016.4\n",
            "Name: Height, m, dtype: float64\n"
          ]
        }
      ]
    },
    {
      "cell_type": "code",
      "source": [
        "print(mountains_height[0])  # 2061.0\n",
        "print(mountains_height[\"Goverla\"])  # 2061.0\n"
      ],
      "metadata": {
        "colab": {
          "base_uri": "https://localhost:8080/"
        },
        "id": "YQDgmA5B_cfV",
        "outputId": "f5f9f4cb-e052-4edc-803b-fe83cd63c8bd"
      },
      "execution_count": null,
      "outputs": [
        {
          "output_type": "stream",
          "name": "stdout",
          "text": [
            "2061.0\n",
            "2061.0\n"
          ]
        },
        {
          "output_type": "stream",
          "name": "stderr",
          "text": [
            "<ipython-input-4-ba70d535e9d5>:1: FutureWarning: Series.__getitem__ treating keys as positions is deprecated. In a future version, integer keys will always be treated as labels (consistent with DataFrame behavior). To access a value by position, use `ser.iloc[pos]`\n",
            "  print(mountains_height[0])  # 2061.0\n"
          ]
        }
      ]
    },
    {
      "cell_type": "code",
      "source": [
        "print(mountains_height[0])  # 2061.0\n",
        "print(mountains_height[\"Goverla\"])  # 2061.0\n"
      ],
      "metadata": {
        "colab": {
          "base_uri": "https://localhost:8080/"
        },
        "id": "enfnNR0G_iiU",
        "outputId": "956afc81-8b7f-47f6-d455-453254d0f181"
      },
      "execution_count": null,
      "outputs": [
        {
          "output_type": "stream",
          "name": "stdout",
          "text": [
            "2061.0\n",
            "2061.0\n"
          ]
        },
        {
          "output_type": "stream",
          "name": "stderr",
          "text": [
            "<ipython-input-5-ba70d535e9d5>:1: FutureWarning: Series.__getitem__ treating keys as positions is deprecated. In a future version, integer keys will always be treated as labels (consistent with DataFrame behavior). To access a value by position, use `ser.iloc[pos]`\n",
            "  print(mountains_height[0])  # 2061.0\n"
          ]
        }
      ]
    },
    {
      "cell_type": "code",
      "source": [
        "# slice"
      ],
      "metadata": {
        "id": "UeSjqjF3_lpk"
      },
      "execution_count": null,
      "outputs": []
    },
    {
      "cell_type": "code",
      "source": [
        "mountains_height = pd.Series(\n",
        "    data=[2061, 2035.8, 2028.5, 2022.5, 2016.4],\n",
        "    index=[\"Goverla\", \"Brebenskyl\", \"Pip_Ivan\", \"Petros\", \"Gutin_Tomnatik\"],\n",
        "    name=\"Height, m\",\n",
        "    dtype=float,\n",
        ")\n",
        "\n",
        "# print(mountains_height[1:3])\n",
        "print(mountains_height[\"Brebenskyl\":\"Petros\"])"
      ],
      "metadata": {
        "colab": {
          "base_uri": "https://localhost:8080/"
        },
        "id": "skBfaKv4_n2d",
        "outputId": "1831602d-6d3f-4594-c4c3-984d5d6eba80"
      },
      "execution_count": null,
      "outputs": [
        {
          "output_type": "stream",
          "name": "stdout",
          "text": [
            "Brebenskyl    2035.8\n",
            "Pip_Ivan      2028.5\n",
            "Petros        2022.5\n",
            "Name: Height, m, dtype: float64\n"
          ]
        }
      ]
    },
    {
      "cell_type": "code",
      "source": [
        "print(mountains_height.Petros)  # 2022.5\n",
        "print(mountains_height.Brebenskyl)  # 2035.8\n"
      ],
      "metadata": {
        "colab": {
          "base_uri": "https://localhost:8080/"
        },
        "id": "0g-U4x4o_19i",
        "outputId": "1dc33fdc-8dd7-4397-c9f9-2bb2d1d30f6c"
      },
      "execution_count": null,
      "outputs": [
        {
          "output_type": "stream",
          "name": "stdout",
          "text": [
            "2022.5\n",
            "2035.8\n"
          ]
        }
      ]
    },
    {
      "cell_type": "code",
      "source": [
        "# Можливе виконання числових операцій з даними Series з використанням векторизації, як і для масивів NumPy.\n",
        "\n",
        "print(mountains_height > 2030)\n",
        "print(mountains_height[mountains_height > 2030])\n"
      ],
      "metadata": {
        "colab": {
          "base_uri": "https://localhost:8080/"
        },
        "id": "n9yOGkIj_48M",
        "outputId": "4a8817a4-266f-4e05-c6e0-21fc8a023231"
      },
      "execution_count": null,
      "outputs": [
        {
          "output_type": "stream",
          "name": "stdout",
          "text": [
            "Goverla            True\n",
            "Brebenskyl         True\n",
            "Pip_Ivan          False\n",
            "Petros            False\n",
            "Gutin_Tomnatik    False\n",
            "Name: Height, m, dtype: bool\n",
            "Goverla       2061.0\n",
            "Brebenskyl    2035.8\n",
            "Name: Height, m, dtype: float64\n"
          ]
        }
      ]
    },
    {
      "cell_type": "code",
      "source": [
        "# Операції перевірки на існування елемента в Series використовують індекс, а не значення:\n",
        "\n",
        "print(\"Goverla\" in mountains_height)  # True\n"
      ],
      "metadata": {
        "colab": {
          "base_uri": "https://localhost:8080/"
        },
        "id": "SpMmP-aXACUl",
        "outputId": "8ca05f9b-94d3-4d70-b6e0-46f961319371"
      },
      "execution_count": null,
      "outputs": [
        {
          "output_type": "stream",
          "name": "stdout",
          "text": [
            "True\n"
          ]
        }
      ]
    },
    {
      "cell_type": "markdown",
      "source": [
        "# *sort*\n",
        "Series.sort_index\n",
        "Series.sort_values"
      ],
      "metadata": {
        "id": "UHKIrJzQAKQH"
      }
    },
    {
      "cell_type": "code",
      "source": [
        "sort_index = mountains_height.sort_index()\n",
        "print(sort_index)\n"
      ],
      "metadata": {
        "colab": {
          "base_uri": "https://localhost:8080/"
        },
        "id": "1jJa8PUdALgG",
        "outputId": "85aa4449-f9e7-40f9-bb77-08bd294cc2e5"
      },
      "execution_count": null,
      "outputs": [
        {
          "output_type": "stream",
          "name": "stdout",
          "text": [
            "Brebenskyl        2035.8\n",
            "Goverla           2061.0\n",
            "Gutin_Tomnatik    2016.4\n",
            "Petros            2022.5\n",
            "Pip_Ivan          2028.5\n",
            "Name: Height, m, dtype: float64\n"
          ]
        }
      ]
    },
    {
      "cell_type": "code",
      "source": [
        "mountains_height.sort_values(inplace=True, ascending=False)\n",
        "print(mountains_height)\n"
      ],
      "metadata": {
        "colab": {
          "base_uri": "https://localhost:8080/"
        },
        "id": "jOLmNDWXAaIV",
        "outputId": "eaa8f2b5-6602-4e2d-d9c2-44129d4eff4b"
      },
      "execution_count": null,
      "outputs": [
        {
          "output_type": "stream",
          "name": "stdout",
          "text": [
            "Goverla           2061.0\n",
            "Brebenskyl        2035.8\n",
            "Pip_Ivan          2028.5\n",
            "Petros            2022.5\n",
            "Gutin_Tomnatik    2016.4\n",
            "Name: Height, m, dtype: float64\n"
          ]
        }
      ]
    },
    {
      "cell_type": "markdown",
      "source": [
        "# Елементи NaN (не число) в об'єкті Series можна замінити на задане значення, використовуючи метод fillna"
      ],
      "metadata": {
        "id": "DZQAFHMRAiaQ"
      }
    },
    {
      "cell_type": "code",
      "source": [
        "\n",
        "mountains_height = pd.Series(\n",
        "    {\"Goverla\": 2061, \"Brebenskyl\": 2035.8, \"Pip_Ivan\": 2028.5},\n",
        "    index=[\"Goverla\", \"Brebenskyl\", \"Pip_Ivan\", \"Petros\", \"Gutin_Tomnatik\"],\n",
        "    name=\"Height, m\",\n",
        "    dtype=float,\n",
        ")\n",
        "\n",
        "print(mountains_height)\n",
        "\n",
        "mountains_height.fillna(0, inplace=True)\n",
        "\n",
        "print(mountains_height)\n"
      ],
      "metadata": {
        "colab": {
          "base_uri": "https://localhost:8080/"
        },
        "id": "MJdX2xs9AkdP",
        "outputId": "5c49e541-b0e0-4482-dd6e-7c06104eee46"
      },
      "execution_count": null,
      "outputs": [
        {
          "output_type": "stream",
          "name": "stdout",
          "text": [
            "Goverla           2061.0\n",
            "Brebenskyl        2035.8\n",
            "Pip_Ivan          2028.5\n",
            "Petros               NaN\n",
            "Gutin_Tomnatik       NaN\n",
            "Name: Height, m, dtype: float64\n",
            "Goverla           2061.0\n",
            "Brebenskyl        2035.8\n",
            "Pip_Ivan          2028.5\n",
            "Petros               0.0\n",
            "Gutin_Tomnatik       0.0\n",
            "Name: Height, m, dtype: float64\n"
          ]
        }
      ]
    },
    {
      "cell_type": "markdown",
      "source": [
        "# DataFrame\n",
        "**DataFrame - ця двовимірна таблиця даних.**"
      ],
      "metadata": {
        "id": "duSHjSuqA3gJ"
      }
    },
    {
      "cell_type": "code",
      "source": [
        "contacts = pd.DataFrame(\n",
        "    {\n",
        "        \"name\": [\n",
        "            \"Allen Raymond\",\n",
        "            \"Chaim Lewis\",\n",
        "            \"Kennedy Lane\",\n",
        "            \"Wylie Pope\",\n",
        "            \"Cyrus Jackson\",\n",
        "        ],\n",
        "        \"email\": [\n",
        "            \"nulla.ante@vestibul.co.uk\",\n",
        "            \"dui.in@egetlacus.ca\",\n",
        "            \"mattis.Cras@nonenimMauris.net\",\n",
        "            \"est@utquamvel.net\",\n",
        "            \"nibh@semsempererat.com\",\n",
        "        ],\n",
        "        \"phone\": [\n",
        "            \"(992) 914-3792\",\n",
        "            \"(294) 840-6685\",\n",
        "            \"(542) 451-7038\",\n",
        "            \"(692) 802-2949\",\n",
        "            \"(501) 472-5218\",\n",
        "        ],\n",
        "        \"favorite\": [False, False, True, False, True],\n",
        "    },\n",
        "    index=[1, 2, 3, 4, 5],\n",
        ")\n",
        "\n",
        "print(contacts)\n",
        "\n"
      ],
      "metadata": {
        "colab": {
          "base_uri": "https://localhost:8080/"
        },
        "id": "OrM38T0pAhA8",
        "outputId": "f58b4298-13d5-48d6-bd16-8a35f3af9592"
      },
      "execution_count": null,
      "outputs": [
        {
          "output_type": "stream",
          "name": "stdout",
          "text": [
            "            name                          email           phone  favorite\n",
            "1  Allen Raymond      nulla.ante@vestibul.co.uk  (992) 914-3792     False\n",
            "2    Chaim Lewis            dui.in@egetlacus.ca  (294) 840-6685     False\n",
            "3   Kennedy Lane  mattis.Cras@nonenimMauris.net  (542) 451-7038      True\n",
            "4     Wylie Pope              est@utquamvel.net  (692) 802-2949     False\n",
            "5  Cyrus Jackson         nibh@semsempererat.com  (501) 472-5218      True\n"
          ]
        }
      ]
    },
    {
      "cell_type": "code",
      "source": [
        "# Вибір стовпця:\n",
        "\n",
        "print(contacts[\"name\"])\n"
      ],
      "metadata": {
        "colab": {
          "base_uri": "https://localhost:8080/"
        },
        "id": "JARftU22BNrx",
        "outputId": "3b8337b5-c45b-46d3-d400-c1ead995a957"
      },
      "execution_count": null,
      "outputs": [
        {
          "output_type": "stream",
          "name": "stdout",
          "text": [
            "1    Allen Raymond\n",
            "2      Chaim Lewis\n",
            "3     Kennedy Lane\n",
            "4       Wylie Pope\n",
            "5    Cyrus Jackson\n",
            "Name: name, dtype: object\n"
          ]
        }
      ]
    },
    {
      "cell_type": "code",
      "source": [
        "# Вибір рядка за міткою:\n",
        "\n",
        "print(contacts.loc[1])\n"
      ],
      "metadata": {
        "colab": {
          "base_uri": "https://localhost:8080/"
        },
        "id": "Rmk4gwoQBZAM",
        "outputId": "b859608d-d7c3-42df-c252-0ab91ea5e037"
      },
      "execution_count": null,
      "outputs": [
        {
          "output_type": "stream",
          "name": "stdout",
          "text": [
            "name                    Allen Raymond\n",
            "email       nulla.ante@vestibul.co.uk\n",
            "phone                  (992) 914-3792\n",
            "favorite                        False\n",
            "Name: 1, dtype: object\n"
          ]
        }
      ]
    },
    {
      "cell_type": "code",
      "source": [
        "#Вибір рядка за індексом:\n",
        "print(contacts.iloc[1])\n",
        "\n"
      ],
      "metadata": {
        "colab": {
          "base_uri": "https://localhost:8080/"
        },
        "id": "m33SBd-RBhv8",
        "outputId": "d688a5ff-e960-481f-fbab-b18e35f45526"
      },
      "execution_count": null,
      "outputs": [
        {
          "output_type": "stream",
          "name": "stdout",
          "text": [
            "name                Chaim Lewis\n",
            "email       dui.in@egetlacus.ca\n",
            "phone            (294) 840-6685\n",
            "favorite                  False\n",
            "Name: 2, dtype: object\n"
          ]
        }
      ]
    },
    {
      "cell_type": "code",
      "source": [
        "#Зріз за рядками:\n",
        "print(contacts[0:2])\n",
        "\n"
      ],
      "metadata": {
        "colab": {
          "base_uri": "https://localhost:8080/"
        },
        "id": "csXYjhd5BqLE",
        "outputId": "bc32d644-dd29-44ff-cc08-73d74b4b0368"
      },
      "execution_count": null,
      "outputs": [
        {
          "output_type": "stream",
          "name": "stdout",
          "text": [
            "            name                      email           phone  favorite\n",
            "1  Allen Raymond  nulla.ante@vestibul.co.uk  (992) 914-3792     False\n",
            "2    Chaim Lewis        dui.in@egetlacus.ca  (294) 840-6685     False\n"
          ]
        }
      ]
    },
    {
      "cell_type": "code",
      "source": [
        "# Вибір рядків, які відповідають умові:\n",
        "\n",
        "print(contacts[contacts[\"favorite\"]])\n"
      ],
      "metadata": {
        "colab": {
          "base_uri": "https://localhost:8080/"
        },
        "id": "9b4Ss0i-ByVv",
        "outputId": "45ed2c2b-a548-48ae-ecfc-e12e3e101880"
      },
      "execution_count": null,
      "outputs": [
        {
          "output_type": "stream",
          "name": "stdout",
          "text": [
            "            name                          email           phone  favorite\n",
            "3   Kennedy Lane  mattis.Cras@nonenimMauris.net  (542) 451-7038      True\n",
            "5  Cyrus Jackson         nibh@semsempererat.com  (501) 472-5218      True\n"
          ]
        }
      ]
    },
    {
      "cell_type": "markdown",
      "source": [
        "# Читання та запис об'єктів Series та DataFrame​\n",
        "\n"
      ],
      "metadata": {
        "id": "0k1fIz8bB8pd"
      }
    },
    {
      "cell_type": "markdown",
      "source": [
        "# Робота з даними у форматі CSV\n",
        "Comma-Separated Values\n"
      ],
      "metadata": {
        "id": "J7XMV7uoCApV"
      }
    },
    {
      "cell_type": "code",
      "source": [
        "# read\n",
        "users = pd.read_csv(\"users.csv\")\n",
        "\n",
        "print(users)"
      ],
      "metadata": {
        "id": "ULLkVGzLCAGW"
      },
      "execution_count": null,
      "outputs": []
    },
    {
      "cell_type": "code",
      "source": [
        "# write\n",
        "\n",
        "contacts = pd.DataFrame(\n",
        "    {\n",
        "        \"name\": [\n",
        "            \"Allen Raymond\",\n",
        "            \"Chaim Lewis\",\n",
        "            \"Kennedy Lane\",\n",
        "            \"Wylie Pope\",\n",
        "            \"Cyrus Jackson\",\n",
        "        ],\n",
        "        \"email\": [\n",
        "            \"nulla.ante@vestibul.co.uk\",\n",
        "            \"dui.in@egetlacus.ca\",\n",
        "            \"mattis.Cras@nonenimMauris.net\",\n",
        "            \"est@utquamvel.net\",\n",
        "            \"nibh@semsempererat.com\",\n",
        "        ],\n",
        "        \"phone\": [\n",
        "            \"(992) 914-3792\",\n",
        "            \"(294) 840-6685\",\n",
        "            \"(542) 451-7038\",\n",
        "            \"(692) 802-2949\",\n",
        "            \"(501) 472-5218\",\n",
        "        ],\n",
        "        \"favorite\": [False, False, True, False, True],\n",
        "    },\n",
        "    index=[1, 2, 3, 4, 5],\n",
        ")\n",
        "\n",
        "contacts.to_csv(\"data.csv\", index=False)"
      ],
      "metadata": {
        "id": "t7uSKF_rCxfq"
      },
      "execution_count": null,
      "outputs": []
    },
    {
      "cell_type": "markdown",
      "source": [
        "# Робота з файлами Microsoft Excel​\n",
        "\n"
      ],
      "metadata": {
        "id": "vu6qbhDt28Pv"
      }
    },
    {
      "cell_type": "code",
      "source": [
        "import pandas as pd\n",
        "\n",
        "persons = pd.read_excel(\"persons.xlsx\")\n",
        "\n",
        "print(persons)\n"
      ],
      "metadata": {
        "id": "Rjbw2Uor27lC"
      },
      "execution_count": 3,
      "outputs": []
    },
    {
      "cell_type": "code",
      "source": [
        "# зберегти вміст об'єкта DataFrame у файл Excel\n",
        "\n",
        "contacts = pd.DataFrame(\n",
        "    {\n",
        "        \"name\": [\n",
        "            \"Allen Raymond\",\n",
        "            \"Chaim Lewis\",\n",
        "            \"Kennedy Lane\",\n",
        "            \"Wylie Pope\",\n",
        "            \"Cyrus Jackson\",\n",
        "        ],\n",
        "        \"email\": [\n",
        "            \"nulla.ante@vestibul.co.uk\",\n",
        "            \"dui.in@egetlacus.ca\",\n",
        "            \"mattis.Cras@nonenimMauris.net\",\n",
        "            \"est@utquamvel.net\",\n",
        "            \"nibh@semsempererat.com\",\n",
        "        ],\n",
        "        \"phone\": [\n",
        "            \"(992) 914-3792\",\n",
        "            \"(294) 840-6685\",\n",
        "            \"(542) 451-7038\",\n",
        "            \"(692) 802-2949\",\n",
        "            \"(501) 472-5218\",\n",
        "        ],\n",
        "        \"favorite\": [False, False, True, False, True],\n",
        "    },\n",
        "    index=[1, 2, 3, 4, 5],\n",
        ")\n",
        "\n",
        "contacts.to_excel('contacts.xlsx', sheet_name='Contacts')\n"
      ],
      "metadata": {
        "id": "2K04FRbn3WbJ"
      },
      "execution_count": null,
      "outputs": []
    },
    {
      "cell_type": "markdown",
      "source": [
        "# Робота з файлами JSON\n",
        "\n"
      ],
      "metadata": {
        "id": "z430_px73cXk"
      }
    },
    {
      "cell_type": "code",
      "source": [
        "import pandas as pd\n",
        "\n",
        "employees = pd.read_json(\"./json/split.json\", orient=\"split\")\n",
        "\n",
        "print(employees)\n"
      ],
      "metadata": {
        "id": "HT6FmzJc3ebO"
      },
      "execution_count": null,
      "outputs": []
    },
    {
      "cell_type": "code",
      "source": [
        "# write\n",
        "import pandas as pd\n",
        "\n",
        "data = {\n",
        "    \"name\": {\"1\": \"Michael\", \"2\": \"John\", \"3\": \"Liza\"},\n",
        "    \"country\": {\"1\": \"Canada\", \"2\": \"USA\", \"3\": \"Australia\"}\n",
        "}\n",
        "\n",
        "employees = pd.DataFrame(data)\n",
        "\n",
        "employees.to_json(\"employees.json\", orient=\"split\")\n"
      ],
      "metadata": {
        "id": "Pew2bREF35s7"
      },
      "execution_count": null,
      "outputs": []
    },
    {
      "cell_type": "markdown",
      "source": [
        "# Збір даних\n",
        "\n"
      ],
      "metadata": {
        "id": "KxHpJFZE8_vm"
      }
    },
    {
      "cell_type": "code",
      "source": [
        "import pandas as pd\n",
        "\n",
        "tmp = pd.read_html(\"https://statisticstimes.com/tech/top-computer-languages.php\", attrs={\"id\": \"table_id1\"})\n",
        "\n",
        "print(tmp[0].head())\n"
      ],
      "metadata": {
        "colab": {
          "base_uri": "https://localhost:8080/"
        },
        "id": "RUM1xi5Y9ByT",
        "outputId": "6a6ed272-d9ea-43a7-c7eb-4820d3c552ba"
      },
      "execution_count": 6,
      "outputs": [
        {
          "output_type": "stream",
          "name": "stdout",
          "text": [
            "   Apr 2024 Change Programming language    Share  Trends\n",
            "0         1    NaN               Python  28.43 %  +0.7 %\n",
            "1         2    NaN                 Java  16.04 %  -0.1 %\n",
            "2         3    NaN           JavaScript   8.72 %  -0.8 %\n",
            "3         4      ↑                C/C++   6.65 %  +0.2 %\n",
            "4         5      ↓                   C#   6.63 %  -0.2 %\n"
          ]
        }
      ]
    },
    {
      "cell_type": "markdown",
      "source": [],
      "metadata": {
        "id": "9FFO87UZ-Few"
      }
    },
    {
      "cell_type": "markdown",
      "source": [
        "**Робота з даними. Очищення та обстеження даних**\n",
        "\n",
        "> Додати блок цитати\n",
        "\n"
      ],
      "metadata": {
        "id": "_LWAZlp5-HKT"
      }
    },
    {
      "cell_type": "markdown",
      "source": [
        "# Додавання"
      ],
      "metadata": {
        "id": "KoBSPZz0aEKJ"
      }
    },
    {
      "cell_type": "code",
      "source": [
        "import pandas as pd\n",
        "\n",
        "data = pd.Series([1, 2, 3])\n",
        "data[3] = 4\n",
        "print(data)\n"
      ],
      "metadata": {
        "colab": {
          "base_uri": "https://localhost:8080/"
        },
        "id": "CLQgza8H-Gwi",
        "outputId": "06238b30-0e3a-413f-d156-0e25a761d6b2"
      },
      "execution_count": 7,
      "outputs": [
        {
          "output_type": "stream",
          "name": "stdout",
          "text": [
            "0    1\n",
            "1    2\n",
            "2    3\n",
            "3    4\n",
            "dtype: int64\n"
          ]
        }
      ]
    },
    {
      "cell_type": "code",
      "source": [
        "import pandas as pd\n",
        "\n",
        "\n",
        "data = {\n",
        "    \"name\": {\"1\": \"Michael\", \"2\": \"John\", \"3\": \"Liza\"},\n",
        "    \"country\": {\"1\": \"Canada\", \"2\": \"USA\", \"3\": \"Australia\"}\n",
        "}\n",
        "\n",
        "employees = pd.DataFrame(data)\n",
        "employees[\"age\"] = [25, 32, 19]\n",
        "\n",
        "print(employees)\n",
        "\n",
        "\n",
        "\n"
      ],
      "metadata": {
        "colab": {
          "base_uri": "https://localhost:8080/"
        },
        "id": "spXAHLRZaG_m",
        "outputId": "618ad0cd-c159-438c-ac81-1460d44e39fc"
      },
      "execution_count": 5,
      "outputs": [
        {
          "output_type": "stream",
          "name": "stdout",
          "text": [
            "      name    country  age\n",
            "1  Michael     Canada   25\n",
            "2     John        USA   32\n",
            "3     Liza  Australia   19\n"
          ]
        }
      ]
    },
    {
      "cell_type": "code",
      "source": [
        "# Використовуючи метод append, можна додати об'єкт Series як рядок.\n",
        "\n",
        "import pandas as pd\n",
        "\n",
        "data = {\n",
        "    \"name\": {\"1\": \"Michael\", \"2\": \"John\", \"3\": \"Liza\"},\n",
        "    \"country\": {\"1\": \"Canada\", \"2\": \"USA\", \"3\": \"Australia\"},\n",
        "    \"age\": {\"1\": 25, \"2\": 32, \"3\": 19}\n",
        "}\n",
        "\n",
        "employees = pd.DataFrame(data)\n",
        "\n",
        "new_employee = pd.Series([\"Jhon\", \"Denmark\", 23], [\"name\", \"country\", \"age\"])\n",
        "\n",
        "employees = employees.append(new_employee, ignore_index=True)\n",
        "print(employees)\n"
      ],
      "metadata": {
        "colab": {
          "base_uri": "https://localhost:8080/",
          "height": 323
        },
        "id": "rtJ2rsVBadYb",
        "outputId": "43a16be7-3a8d-4dea-dc7d-5483bf8c12f4"
      },
      "execution_count": 8,
      "outputs": [
        {
          "output_type": "error",
          "ename": "AttributeError",
          "evalue": "'DataFrame' object has no attribute 'append'",
          "traceback": [
            "\u001b[0;31m---------------------------------------------------------------------------\u001b[0m",
            "\u001b[0;31mAttributeError\u001b[0m                            Traceback (most recent call last)",
            "\u001b[0;32m<ipython-input-8-c789e49429a1>\u001b[0m in \u001b[0;36m<cell line: 15>\u001b[0;34m()\u001b[0m\n\u001b[1;32m     13\u001b[0m \u001b[0mnew_employee\u001b[0m \u001b[0;34m=\u001b[0m \u001b[0mpd\u001b[0m\u001b[0;34m.\u001b[0m\u001b[0mSeries\u001b[0m\u001b[0;34m(\u001b[0m\u001b[0;34m[\u001b[0m\u001b[0;34m\"Jhon\"\u001b[0m\u001b[0;34m,\u001b[0m \u001b[0;34m\"Denmark\"\u001b[0m\u001b[0;34m,\u001b[0m \u001b[0;36m23\u001b[0m\u001b[0;34m]\u001b[0m\u001b[0;34m,\u001b[0m \u001b[0;34m[\u001b[0m\u001b[0;34m\"name\"\u001b[0m\u001b[0;34m,\u001b[0m \u001b[0;34m\"country\"\u001b[0m\u001b[0;34m,\u001b[0m \u001b[0;34m\"age\"\u001b[0m\u001b[0;34m]\u001b[0m\u001b[0;34m)\u001b[0m\u001b[0;34m\u001b[0m\u001b[0;34m\u001b[0m\u001b[0m\n\u001b[1;32m     14\u001b[0m \u001b[0;34m\u001b[0m\u001b[0m\n\u001b[0;32m---> 15\u001b[0;31m \u001b[0memployees\u001b[0m \u001b[0;34m=\u001b[0m \u001b[0memployees\u001b[0m\u001b[0;34m.\u001b[0m\u001b[0mappend\u001b[0m\u001b[0;34m(\u001b[0m\u001b[0mnew_employee\u001b[0m\u001b[0;34m,\u001b[0m \u001b[0mignore_index\u001b[0m\u001b[0;34m=\u001b[0m\u001b[0;32mTrue\u001b[0m\u001b[0;34m)\u001b[0m\u001b[0;34m\u001b[0m\u001b[0;34m\u001b[0m\u001b[0m\n\u001b[0m\u001b[1;32m     16\u001b[0m \u001b[0mprint\u001b[0m\u001b[0;34m(\u001b[0m\u001b[0memployees\u001b[0m\u001b[0;34m)\u001b[0m\u001b[0;34m\u001b[0m\u001b[0;34m\u001b[0m\u001b[0m\n",
            "\u001b[0;32m/usr/local/lib/python3.10/dist-packages/pandas/core/generic.py\u001b[0m in \u001b[0;36m__getattr__\u001b[0;34m(self, name)\u001b[0m\n\u001b[1;32m   6202\u001b[0m         ):\n\u001b[1;32m   6203\u001b[0m             \u001b[0;32mreturn\u001b[0m \u001b[0mself\u001b[0m\u001b[0;34m[\u001b[0m\u001b[0mname\u001b[0m\u001b[0;34m]\u001b[0m\u001b[0;34m\u001b[0m\u001b[0;34m\u001b[0m\u001b[0m\n\u001b[0;32m-> 6204\u001b[0;31m         \u001b[0;32mreturn\u001b[0m \u001b[0mobject\u001b[0m\u001b[0;34m.\u001b[0m\u001b[0m__getattribute__\u001b[0m\u001b[0;34m(\u001b[0m\u001b[0mself\u001b[0m\u001b[0;34m,\u001b[0m \u001b[0mname\u001b[0m\u001b[0;34m)\u001b[0m\u001b[0;34m\u001b[0m\u001b[0;34m\u001b[0m\u001b[0m\n\u001b[0m\u001b[1;32m   6205\u001b[0m \u001b[0;34m\u001b[0m\u001b[0m\n\u001b[1;32m   6206\u001b[0m     \u001b[0;34m@\u001b[0m\u001b[0mfinal\u001b[0m\u001b[0;34m\u001b[0m\u001b[0;34m\u001b[0m\u001b[0m\n",
            "\u001b[0;31mAttributeError\u001b[0m: 'DataFrame' object has no attribute 'append'"
          ]
        }
      ]
    },
    {
      "cell_type": "markdown",
      "source": [],
      "metadata": {
        "id": "csMBxzhyadLB"
      }
    },
    {
      "cell_type": "markdown",
      "source": [
        "#Видалення\n",
        "\n"
      ],
      "metadata": {
        "id": "1I_ILdjTas4F"
      }
    },
    {
      "cell_type": "code",
      "source": [
        "numbers = pd.Series([1, 2, 3, 4, 5])\n",
        "numbers.drop([1,3], inplace=True)\n",
        "print(numbers)\n"
      ],
      "metadata": {
        "colab": {
          "base_uri": "https://localhost:8080/"
        },
        "id": "_MclXxjca8Pd",
        "outputId": "f0febd79-6ccc-4d37-c5e9-d6b962fa2fd1"
      },
      "execution_count": 9,
      "outputs": [
        {
          "output_type": "stream",
          "name": "stdout",
          "text": [
            "0    1\n",
            "2    3\n",
            "4    5\n",
            "dtype: int64\n"
          ]
        }
      ]
    },
    {
      "cell_type": "code",
      "source": [
        "import pandas as pd\n",
        "\n",
        "data = {\n",
        "    \"name\": {\"1\": \"Michael\", \"2\": \"John\", \"3\": \"Liza\"},\n",
        "    \"country\": {\"1\": \"Canada\", \"2\": \"USA\", \"3\": \"Australia\"},\n",
        "    \"age\": {\"1\": 25, \"2\": 32, \"3\": 19}\n",
        "}\n",
        "\n",
        "employees = pd.DataFrame(data)\n",
        "\n",
        "employees = employees.drop([\"2\"])\n",
        "print(employees)\n"
      ],
      "metadata": {
        "colab": {
          "base_uri": "https://localhost:8080/"
        },
        "id": "EJ3sjwi8bIj_",
        "outputId": "a79713fa-a45e-43d3-9ca8-6badcb2983b6"
      },
      "execution_count": 10,
      "outputs": [
        {
          "output_type": "stream",
          "name": "stdout",
          "text": [
            "      name    country  age\n",
            "1  Michael     Canada   25\n",
            "3     Liza  Australia   19\n"
          ]
        }
      ]
    },
    {
      "cell_type": "code",
      "source": [
        "# Щоб видаляти стовпці, необхідно вказати вісь через параметр axis за замовчуванням axis=0, що означає роботу з рядками. Якщо вказати axis=1, то це дозволить видаляти стовпці\n",
        "import pandas as pd\n",
        "\n",
        "data = {\n",
        "    \"name\": {\"1\": \"Michael\", \"2\": \"John\", \"3\": \"Liza\"},\n",
        "    \"country\": {\"1\": \"Canada\", \"2\": \"USA\", \"3\": \"Australia\"},\n",
        "    \"age\": {\"1\": 25, \"2\": 32, \"3\": 19}\n",
        "}\n",
        "\n",
        "employees = pd.DataFrame(data)\n",
        "\n",
        "employees = employees.drop([\"age\"], axis=1)\n",
        "print(employees)\n"
      ],
      "metadata": {
        "colab": {
          "base_uri": "https://localhost:8080/"
        },
        "id": "rs0uoHTSbPSh",
        "outputId": "c6e8b815-c4d2-4a4b-f7ad-bb41ea936550"
      },
      "execution_count": 11,
      "outputs": [
        {
          "output_type": "stream",
          "name": "stdout",
          "text": [
            "      name    country\n",
            "1  Michael     Canada\n",
            "2     John        USA\n",
            "3     Liza  Australia\n"
          ]
        }
      ]
    },
    {
      "cell_type": "markdown",
      "source": [
        "# Об'єднання"
      ],
      "metadata": {
        "id": "kl3GH1vRbZLG"
      }
    },
    {
      "cell_type": "code",
      "source": [
        "import pandas as pd\n",
        "\n",
        "data1 = {\n",
        "    \"name\": {\"1\": \"Michael\", \"2\": \"John\"},\n",
        "    \"country\": {\"1\": \"Canada\", \"2\": \"USA\"},\n",
        "    \"age\": {\"1\": 25, \"2\": 32}\n",
        "}\n",
        "\n",
        "employees1 = pd.DataFrame(data1)\n",
        "\n",
        "data2 = {\n",
        "    \"name\": {\"3\": \"Liza\", \"4\": \"Jhon\"},\n",
        "    \"country\": {\"3\": \"Australia\", \"4\": \"Denmark\"},\n",
        "    \"age\": {\"3\": 19, \"4\": 23}\n",
        "}\n",
        "\n",
        "employees2 = pd.DataFrame(data2)\n",
        "\n",
        "employees = pd.concat([employees1, employees2])\n",
        "\n",
        "print(employees)\n"
      ],
      "metadata": {
        "colab": {
          "base_uri": "https://localhost:8080/"
        },
        "id": "jsrGc4RsbjwG",
        "outputId": "b4a1b347-2217-4400-94cf-53d4009e00b1"
      },
      "execution_count": 12,
      "outputs": [
        {
          "output_type": "stream",
          "name": "stdout",
          "text": [
            "      name    country  age\n",
            "1  Michael     Canada   25\n",
            "2     John        USA   32\n",
            "3     Liza  Australia   19\n",
            "4     Jhon    Denmark   23\n"
          ]
        }
      ]
    },
    {
      "cell_type": "code",
      "source": [
        "# Можна об'єднати по стовпчикам.\n",
        "\n",
        "import pandas as pd\n",
        "\n",
        "data1 = {\n",
        "    \"name\": {\"1\": \"Michael\", \"2\": \"John\", \"3\": \"Liza\", \"4\": \"Jhon\"},\n",
        "    \"country\": {\"1\": \"Canada\", \"2\": \"USA\", \"3\": \"Australia\", \"4\": \"Denmark\"}\n",
        "}\n",
        "\n",
        "employees1 = pd.DataFrame(data1)\n",
        "\n",
        "data2 = {\n",
        "    \"age\": {\"1\": 25, \"2\": 32, \"3\": 19, \"4\": 23}\n",
        "}\n",
        "\n",
        "employees2 = pd.DataFrame(data2)\n",
        "\n",
        "employees = pd.concat([employees1, employees2], axis=1)\n",
        "\n",
        "print(employees)\n"
      ],
      "metadata": {
        "colab": {
          "base_uri": "https://localhost:8080/"
        },
        "id": "p0zSfrEAbwxu",
        "outputId": "92b5c83e-a8aa-40e1-c180-94a373156f74"
      },
      "execution_count": 13,
      "outputs": [
        {
          "output_type": "stream",
          "name": "stdout",
          "text": [
            "      name    country  age\n",
            "1  Michael     Canada   25\n",
            "2     John        USA   32\n",
            "3     Liza  Australia   19\n",
            "4     Jhon    Denmark   23\n"
          ]
        }
      ]
    },
    {
      "cell_type": "markdown",
      "source": [
        "# Очищення"
      ],
      "metadata": {
        "id": "21Sej9R2b5Bc"
      }
    },
    {
      "cell_type": "code",
      "source": [
        "import numpy as np\n",
        "import pandas as pd\n",
        "\n",
        "data = pd.DataFrame([[1, 2, 3], [4, np.nan, 6], [7, np.nan, np.nan]])\n",
        "\n",
        "print(data)\n"
      ],
      "metadata": {
        "colab": {
          "base_uri": "https://localhost:8080/"
        },
        "id": "JQwuJy60cBJc",
        "outputId": "e1ad36c9-3dd8-4e23-9278-0ab908c16092"
      },
      "execution_count": 14,
      "outputs": [
        {
          "output_type": "stream",
          "name": "stdout",
          "text": [
            "   0    1    2\n",
            "0  1  2.0  3.0\n",
            "1  4  NaN  6.0\n",
            "2  7  NaN  NaN\n"
          ]
        }
      ]
    },
    {
      "cell_type": "code",
      "source": [
        "data = data.dropna()\n",
        "\n",
        "print(data)\n"
      ],
      "metadata": {
        "colab": {
          "base_uri": "https://localhost:8080/"
        },
        "id": "v8JgUFnIcHWG",
        "outputId": "3c1e56d3-ef12-4167-8008-3afa05e07d53"
      },
      "execution_count": 15,
      "outputs": [
        {
          "output_type": "stream",
          "name": "stdout",
          "text": [
            "   0    1    2\n",
            "0  1  2.0  3.0\n"
          ]
        }
      ]
    },
    {
      "cell_type": "code",
      "source": [
        "# Якщо необхідно замінити, а не відкинути дані, ми знаємо, що можна використовувати метод fillna\n",
        "\n",
        "import numpy as np\n",
        "import pandas as pd\n",
        "\n",
        "data = pd.DataFrame([[1, 2, 3], [4, np.nan, 6], [7, np.nan, np.nan]])\n",
        "\n",
        "data = data.fillna({0: data[0].mean(), 1: data[1].mean(), 2: data[2].mean()})\n",
        "\n",
        "print(data)\n"
      ],
      "metadata": {
        "colab": {
          "base_uri": "https://localhost:8080/"
        },
        "id": "Dj-crMDVcofD",
        "outputId": "3acf2a29-fb19-47b4-d115-4b5a4fe35c13"
      },
      "execution_count": 16,
      "outputs": [
        {
          "output_type": "stream",
          "name": "stdout",
          "text": [
            "   0    1    2\n",
            "0  1  2.0  3.0\n",
            "1  4  2.0  6.0\n",
            "2  7  2.0  4.5\n"
          ]
        }
      ]
    },
    {
      "cell_type": "code",
      "source": [
        "# Для видалення дублюючих даних можна використовувати метод drop_duplicates\n",
        "\n",
        "import pandas as pd\n",
        "\n",
        "data = {\n",
        "    \"name\": [\"Michael\", \"Steve\", \"Liza\", \"Jhon\", \"Liza\", \"Jhon\"],\n",
        "    \"country\": [\"Canada\", \"USA\", \"Australia\", \"Denmark\", \"Australia\", \"Denmark\"],\n",
        "    \"age\": [25, 32, 19, 23, 19, 23]\n",
        "}\n",
        "\n",
        "employees = pd.DataFrame(data)\n",
        "\n",
        "employees = employees.drop_duplicates()\n",
        "print(employees)\n"
      ],
      "metadata": {
        "colab": {
          "base_uri": "https://localhost:8080/"
        },
        "id": "wKnzaY0_cu7M",
        "outputId": "06d20aac-2cec-4d5f-9a86-fbe3c07dd86e"
      },
      "execution_count": 17,
      "outputs": [
        {
          "output_type": "stream",
          "name": "stdout",
          "text": [
            "      name    country  age\n",
            "0  Michael     Canada   25\n",
            "1    Steve        USA   32\n",
            "2     Liza  Australia   19\n",
            "3     Jhon    Denmark   23\n"
          ]
        }
      ]
    },
    {
      "cell_type": "markdown",
      "source": [
        "#  pandas для роботи з часовими рядами"
      ],
      "metadata": {
        "id": "IrJjK30xc_EX"
      }
    },
    {
      "cell_type": "code",
      "source": [
        "import pandas as pd\n",
        "\n",
        "date = pd.Timestamp(\"2024-09-10\")\n",
        "\n",
        "print(date)\n"
      ],
      "metadata": {
        "colab": {
          "base_uri": "https://localhost:8080/"
        },
        "id": "pu1a8VYJdB9C",
        "outputId": "2e581ccf-1361-4ceb-e6d4-7382c0bd5d0c"
      },
      "execution_count": 18,
      "outputs": [
        {
          "output_type": "stream",
          "name": "stdout",
          "text": [
            "2024-09-10 00:00:00\n"
          ]
        }
      ]
    },
    {
      "cell_type": "code",
      "source": [
        "import pandas as pd\n",
        "\n",
        "date = pd.to_datetime(\"2024-09-10 2:54:13\")\n",
        "\n",
        "print(date)\n"
      ],
      "metadata": {
        "colab": {
          "base_uri": "https://localhost:8080/"
        },
        "id": "gLEeVQFudH3S",
        "outputId": "e6b84d7f-30a5-42dc-9310-f6ecf08de210"
      },
      "execution_count": 19,
      "outputs": [
        {
          "output_type": "stream",
          "name": "stdout",
          "text": [
            "2024-09-10 02:54:13\n"
          ]
        }
      ]
    },
    {
      "cell_type": "markdown",
      "source": [
        "# Візуалізація даних\n",
        "\n"
      ],
      "metadata": {
        "id": "ttKFD6HLdcDu"
      }
    },
    {
      "cell_type": "code",
      "source": [
        "import pandas as pd\n",
        "import matplotlib.pyplot as plt\n",
        "\n",
        "date = pd.date_range(start='2024-09-01', freq='D', periods=8)\n",
        "\n",
        "temperature = pd.Series([23, 17, 17, 16, 15, 14, 17, 20], index=date)\n",
        "\n",
        "temperature.plot()\n",
        "plt.show()\n"
      ],
      "metadata": {
        "colab": {
          "base_uri": "https://localhost:8080/",
          "height": 462
        },
        "id": "B8w-_OsPdb05",
        "outputId": "4dc0f443-73c3-4d6e-b6df-8b065f852442"
      },
      "execution_count": 21,
      "outputs": [
        {
          "output_type": "display_data",
          "data": {
            "text/plain": [
              "<Figure size 640x480 with 1 Axes>"
            ],
            "image/png": "[encoded data removed]"
          },
          "metadata": {}
        }
      ]
    }
  ]
}