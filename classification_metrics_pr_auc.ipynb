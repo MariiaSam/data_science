{
  "nbformat": 4,
  "nbformat_minor": 0,
  "metadata": {
    "kernelspec": {
      "display_name": "Python 3",
      "language": "python",
      "name": "python3"
    },
    "language_info": {
      "codemirror_mode": {
        "name": "ipython",
        "version": 3
      },
      "file_extension": ".py",
      "mimetype": "text/x-python",
      "name": "python",
      "nbconvert_exporter": "python",
      "pygments_lexer": "ipython3",
      "version": "3.8.10"
    },
    "colab": {
      "provenance": [],
      "toc_visible": true
    }
  },
  "cells": [
    {
      "cell_type": "code",
      "metadata": {
        "id": "DuNytw0DBtqA",
        "colab": {
          "base_uri": "https://localhost:8080/"
        },
        "cellView": "form",
        "outputId": "12bf2edb-c6cf-4609-cf47-afec6271b554"
      },
      "source": [
        "#@title Установка нужных библиотек\n",
        "!wget 'https://drive.google.com/uc?export=download&id=1oSFOP0j25OZAuhD8YXxyQXNTdr2lUdtn' -O requirements.txt\n",
        "!pip install -r requirements.txt"
      ],
      "execution_count": null,
      "outputs": [
        {
          "output_type": "stream",
          "name": "stdout",
          "text": [
            "--2021-11-18 09:26:46--  https://drive.google.com/uc?export=download&id=1oSFOP0j25OZAuhD8YXxyQXNTdr2lUdtn\n",
            "Resolving drive.google.com (drive.google.com)... 108.177.119.101, 108.177.119.100, 108.177.119.102, ...\n",
            "Connecting to drive.google.com (drive.google.com)|108.177.119.101|:443... connected.\n",
            "HTTP request sent, awaiting response... 302 Moved Temporarily\n",
            "Location: https://doc-0g-c0-docs.googleusercontent.com/docs/securesc/ha0ro937gcuc7l7deffksulhg5h7mbp1/5p9427a665d7a869arc5ofmogj310dih/1637227575000/14904333240138417226/*/1oSFOP0j25OZAuhD8YXxyQXNTdr2lUdtn?e=download [following]\n",
            "Warning: wildcards not supported in HTTP.\n",
            "--2021-11-18 09:26:47--  https://doc-0g-c0-docs.googleusercontent.com/docs/securesc/ha0ro937gcuc7l7deffksulhg5h7mbp1/5p9427a665d7a869arc5ofmogj310dih/1637227575000/14904333240138417226/*/1oSFOP0j25OZAuhD8YXxyQXNTdr2lUdtn?e=download\n",
            "Resolving doc-0g-c0-docs.googleusercontent.com (doc-0g-c0-docs.googleusercontent.com)... 108.177.119.132, 2a00:1450:4013:c00::84\n",
            "Connecting to doc-0g-c0-docs.googleusercontent.com (doc-0g-c0-docs.googleusercontent.com)|108.177.119.132|:443... connected.\n",
            "HTTP request sent, awaiting response... 200 OK\n",
            "Length: 74 [text/plain]\n",
            "Saving to: ‘requirements.txt’\n",
            "\n",
            "requirements.txt    100%[===================>]      74  --.-KB/s    in 0s      \n",
            "\n",
            "2021-11-18 09:26:47 (4.44 MB/s) - ‘requirements.txt’ saved [74/74]\n",
            "\n",
            "Collecting scikit-learn==0.22.2.post1\n",
            "  Downloading scikit_learn-0.22.2.post1-cp37-cp37m-manylinux1_x86_64.whl (7.1 MB)\n",
            "\u001b[K     |████████████████████████████████| 7.1 MB 12.2 MB/s \n",
            "\u001b[?25hRequirement already satisfied: pandas==1.1.5 in /usr/local/lib/python3.7/dist-packages (from -r requirements.txt (line 2)) (1.1.5)\n",
            "Requirement already satisfied: matplotlib==3.2.2 in /usr/local/lib/python3.7/dist-packages (from -r requirements.txt (line 3)) (3.2.2)\n",
            "Requirement already satisfied: numpy==1.19.5 in /usr/local/lib/python3.7/dist-packages (from -r requirements.txt (line 4)) (1.19.5)\n",
            "Requirement already satisfied: scipy>=0.17.0 in /usr/local/lib/python3.7/dist-packages (from scikit-learn==0.22.2.post1->-r requirements.txt (line 1)) (1.4.1)\n",
            "Requirement already satisfied: joblib>=0.11 in /usr/local/lib/python3.7/dist-packages (from scikit-learn==0.22.2.post1->-r requirements.txt (line 1)) (1.1.0)\n",
            "Requirement already satisfied: python-dateutil>=2.7.3 in /usr/local/lib/python3.7/dist-packages (from pandas==1.1.5->-r requirements.txt (line 2)) (2.8.2)\n",
            "Requirement already satisfied: pytz>=2017.2 in /usr/local/lib/python3.7/dist-packages (from pandas==1.1.5->-r requirements.txt (line 2)) (2018.9)\n",
            "Requirement already satisfied: cycler>=0.10 in /usr/local/lib/python3.7/dist-packages (from matplotlib==3.2.2->-r requirements.txt (line 3)) (0.11.0)\n",
            "Requirement already satisfied: kiwisolver>=1.0.1 in /usr/local/lib/python3.7/dist-packages (from matplotlib==3.2.2->-r requirements.txt (line 3)) (1.3.2)\n",
            "Requirement already satisfied: pyparsing!=2.0.4,!=2.1.2,!=2.1.6,>=2.0.1 in /usr/local/lib/python3.7/dist-packages (from matplotlib==3.2.2->-r requirements.txt (line 3)) (2.4.7)\n",
            "Requirement already satisfied: six>=1.5 in /usr/local/lib/python3.7/dist-packages (from python-dateutil>=2.7.3->pandas==1.1.5->-r requirements.txt (line 2)) (1.15.0)\n",
            "Installing collected packages: scikit-learn\n",
            "  Attempting uninstall: scikit-learn\n",
            "    Found existing installation: scikit-learn 1.0.1\n",
            "    Uninstalling scikit-learn-1.0.1:\n",
            "      Successfully uninstalled scikit-learn-1.0.1\n",
            "\u001b[31mERROR: pip's dependency resolver does not currently take into account all the packages that are installed. This behaviour is the source of the following dependency conflicts.\n",
            "imbalanced-learn 0.8.1 requires scikit-learn>=0.24, but you have scikit-learn 0.22.2.post1 which is incompatible.\u001b[0m\n",
            "Successfully installed scikit-learn-0.22.2.post1\n"
          ]
        }
      ]
    },
    {
      "cell_type": "code",
      "metadata": {
        "id": "FIaQlaQ6BtqD"
      },
      "source": [
        "import pandas as pd\n",
        "import numpy as np\n",
        "import matplotlib.pyplot as plt\n",
        "import seaborn as sns\n",
        "import matplotlib\n",
        "\n",
        "matplotlib.rcParams.update({'font.size': 14})\n",
        "pd.set_option('display.max_columns', 10)"
      ],
      "execution_count": null,
      "outputs": []
    },
    {
      "cell_type": "markdown",
      "metadata": {
        "id": "AsqaA2C3BtqG"
      },
      "source": [
        "**Метрики** в машинном обучении нужны для того, чтобы оценивать качество работы модели, чтобы понимать, а насколько модель хорошо запомнила закономерности из обучающей выборки.  \n",
        "\n",
        "Сегодня продолжаем рассматривать метрики для **задачи классификации**. Для такой задачи хочется, чтобы наши модели как можно чаще предсказывали верную метку класса объекта.\n",
        "\n",
        "<img src='https://static.javatpoint.com/tutorial/machine-learning/images/classification-algorithm-in-machine-learning.png' width=600>\n"
      ]
    },
    {
      "cell_type": "markdown",
      "metadata": {
        "id": "wCCz2PatjF56"
      },
      "source": [
        "## Получение данных"
      ]
    },
    {
      "cell_type": "markdown",
      "metadata": {
        "id": "xIvd3uwCqowD"
      },
      "source": [
        "Будем считать новую метрику PR-AUC на задаче бинарной классификации. Возьмем датасет из стандартных наборов данных в `sklearn` по предсказанию рака груди `load_breast_cancer` и выведем информацию по нему.\n",
        "\n",
        "Есть 569 объект и 30 признаков, так же здесь представлено описание признаков и целевых значений."
      ]
    },
    {
      "cell_type": "code",
      "metadata": {
        "colab": {
          "base_uri": "https://localhost:8080/"
        },
        "id": "7Po3tmGgqPqY",
        "outputId": "5693b9ca-e3ef-464d-a46d-4c619f8b33e8"
      },
      "source": [
        "from sklearn.datasets import load_breast_cancer\n",
        "\n",
        "\n",
        "data = load_breast_cancer()\n",
        "\n",
        "print(data['DESCR'])"
      ],
      "execution_count": null,
      "outputs": [
        {
          "output_type": "stream",
          "name": "stdout",
          "text": [
            ".. _breast_cancer_dataset:\n",
            "\n",
            "Breast cancer wisconsin (diagnostic) dataset\n",
            "--------------------------------------------\n",
            "\n",
            "**Data Set Characteristics:**\n",
            "\n",
            "    :Number of Instances: 569\n",
            "\n",
            "    :Number of Attributes: 30 numeric, predictive attributes and the class\n",
            "\n",
            "    :Attribute Information:\n",
            "        - radius (mean of distances from center to points on the perimeter)\n",
            "        - texture (standard deviation of gray-scale values)\n",
            "        - perimeter\n",
            "        - area\n",
            "        - smoothness (local variation in radius lengths)\n",
            "        - compactness (perimeter^2 / area - 1.0)\n",
            "        - concavity (severity of concave portions of the contour)\n",
            "        - concave points (number of concave portions of the contour)\n",
            "        - symmetry \n",
            "        - fractal dimension (\"coastline approximation\" - 1)\n",
            "\n",
            "        The mean, standard error, and \"worst\" or largest (mean of the three\n",
            "        largest values) of these features were computed for each image,\n",
            "        resulting in 30 features.  For instance, field 3 is Mean Radius, field\n",
            "        13 is Radius SE, field 23 is Worst Radius.\n",
            "\n",
            "        - class:\n",
            "                - WDBC-Malignant\n",
            "                - WDBC-Benign\n",
            "\n",
            "    :Summary Statistics:\n",
            "\n",
            "    ===================================== ====== ======\n",
            "                                           Min    Max\n",
            "    ===================================== ====== ======\n",
            "    radius (mean):                        6.981  28.11\n",
            "    texture (mean):                       9.71   39.28\n",
            "    perimeter (mean):                     43.79  188.5\n",
            "    area (mean):                          143.5  2501.0\n",
            "    smoothness (mean):                    0.053  0.163\n",
            "    compactness (mean):                   0.019  0.345\n",
            "    concavity (mean):                     0.0    0.427\n",
            "    concave points (mean):                0.0    0.201\n",
            "    symmetry (mean):                      0.106  0.304\n",
            "    fractal dimension (mean):             0.05   0.097\n",
            "    radius (standard error):              0.112  2.873\n",
            "    texture (standard error):             0.36   4.885\n",
            "    perimeter (standard error):           0.757  21.98\n",
            "    area (standard error):                6.802  542.2\n",
            "    smoothness (standard error):          0.002  0.031\n",
            "    compactness (standard error):         0.002  0.135\n",
            "    concavity (standard error):           0.0    0.396\n",
            "    concave points (standard error):      0.0    0.053\n",
            "    symmetry (standard error):            0.008  0.079\n",
            "    fractal dimension (standard error):   0.001  0.03\n",
            "    radius (worst):                       7.93   36.04\n",
            "    texture (worst):                      12.02  49.54\n",
            "    perimeter (worst):                    50.41  251.2\n",
            "    area (worst):                         185.2  4254.0\n",
            "    smoothness (worst):                   0.071  0.223\n",
            "    compactness (worst):                  0.027  1.058\n",
            "    concavity (worst):                    0.0    1.252\n",
            "    concave points (worst):               0.0    0.291\n",
            "    symmetry (worst):                     0.156  0.664\n",
            "    fractal dimension (worst):            0.055  0.208\n",
            "    ===================================== ====== ======\n",
            "\n",
            "    :Missing Attribute Values: None\n",
            "\n",
            "    :Class Distribution: 212 - Malignant, 357 - Benign\n",
            "\n",
            "    :Creator:  Dr. William H. Wolberg, W. Nick Street, Olvi L. Mangasarian\n",
            "\n",
            "    :Donor: Nick Street\n",
            "\n",
            "    :Date: November, 1995\n",
            "\n",
            "This is a copy of UCI ML Breast Cancer Wisconsin (Diagnostic) datasets.\n",
            "https://goo.gl/U2Uwz2\n",
            "\n",
            "Features are computed from a digitized image of a fine needle\n",
            "aspirate (FNA) of a breast mass.  They describe\n",
            "characteristics of the cell nuclei present in the image.\n",
            "\n",
            "Separating plane described above was obtained using\n",
            "Multisurface Method-Tree (MSM-T) [K. P. Bennett, \"Decision Tree\n",
            "Construction Via Linear Programming.\" Proceedings of the 4th\n",
            "Midwest Artificial Intelligence and Cognitive Science Society,\n",
            "pp. 97-101, 1992], a classification method which uses linear\n",
            "programming to construct a decision tree.  Relevant features\n",
            "were selected using an exhaustive search in the space of 1-4\n",
            "features and 1-3 separating planes.\n",
            "\n",
            "The actual linear program used to obtain the separating plane\n",
            "in the 3-dimensional space is that described in:\n",
            "[K. P. Bennett and O. L. Mangasarian: \"Robust Linear\n",
            "Programming Discrimination of Two Linearly Inseparable Sets\",\n",
            "Optimization Methods and Software 1, 1992, 23-34].\n",
            "\n",
            "This database is also available through the UW CS ftp server:\n",
            "\n",
            "ftp ftp.cs.wisc.edu\n",
            "cd math-prog/cpo-dataset/machine-learn/WDBC/\n",
            "\n",
            ".. topic:: References\n",
            "\n",
            "   - W.N. Street, W.H. Wolberg and O.L. Mangasarian. Nuclear feature extraction \n",
            "     for breast tumor diagnosis. IS&T/SPIE 1993 International Symposium on \n",
            "     Electronic Imaging: Science and Technology, volume 1905, pages 861-870,\n",
            "     San Jose, CA, 1993.\n",
            "   - O.L. Mangasarian, W.N. Street and W.H. Wolberg. Breast cancer diagnosis and \n",
            "     prognosis via linear programming. Operations Research, 43(4), pages 570-577, \n",
            "     July-August 1995.\n",
            "   - W.H. Wolberg, W.N. Street, and O.L. Mangasarian. Machine learning techniques\n",
            "     to diagnose breast cancer from fine-needle aspirates. Cancer Letters 77 (1994) \n",
            "     163-171.\n"
          ]
        }
      ]
    },
    {
      "cell_type": "markdown",
      "metadata": {
        "id": "_dwRn4d3a1tK"
      },
      "source": [
        "Обернем данные в датафрейм для наглядности."
      ]
    },
    {
      "cell_type": "code",
      "metadata": {
        "colab": {
          "base_uri": "https://localhost:8080/"
        },
        "id": "HA7gVZ2FrXp5",
        "outputId": "5b56d807-3102-4fc7-9a9d-77c4cb1716b5"
      },
      "source": [
        "X = pd.DataFrame(data['data'], columns=data['feature_names'])\n",
        "y = pd.Series(data['target'])\n",
        "\n",
        "X"
      ],
      "execution_count": null,
      "outputs": [
        {
          "output_type": "execute_result",
          "data": {
            "text/html": [
              "<div>\n",
              "<style scoped>\n",
              "    .dataframe tbody tr th:only-of-type {\n",
              "        vertical-align: middle;\n",
              "    }\n",
              "\n",
              "    .dataframe tbody tr th {\n",
              "        vertical-align: top;\n",
              "    }\n",
              "\n",
              "    .dataframe thead th {\n",
              "        text-align: right;\n",
              "    }\n",
              "</style>\n",
              "<table border=\"1\" class=\"dataframe\">\n",
              "  <thead>\n",
              "    <tr style=\"text-align: right;\">\n",
              "      <th></th>\n",
              "      <th>mean radius</th>\n",
              "      <th>mean texture</th>\n",
              "      <th>mean perimeter</th>\n",
              "      <th>mean area</th>\n",
              "      <th>mean smoothness</th>\n",
              "      <th>...</th>\n",
              "      <th>worst compactness</th>\n",
              "      <th>worst concavity</th>\n",
              "      <th>worst concave points</th>\n",
              "      <th>worst symmetry</th>\n",
              "      <th>worst fractal dimension</th>\n",
              "    </tr>\n",
              "  </thead>\n",
              "  <tbody>\n",
              "    <tr>\n",
              "      <th>0</th>\n",
              "      <td>17.99</td>\n",
              "      <td>10.38</td>\n",
              "      <td>122.80</td>\n",
              "      <td>1001.0</td>\n",
              "      <td>0.11840</td>\n",
              "      <td>...</td>\n",
              "      <td>0.66560</td>\n",
              "      <td>0.7119</td>\n",
              "      <td>0.2654</td>\n",
              "      <td>0.4601</td>\n",
              "      <td>0.11890</td>\n",
              "    </tr>\n",
              "    <tr>\n",
              "      <th>1</th>\n",
              "      <td>20.57</td>\n",
              "      <td>17.77</td>\n",
              "      <td>132.90</td>\n",
              "      <td>1326.0</td>\n",
              "      <td>0.08474</td>\n",
              "      <td>...</td>\n",
              "      <td>0.18660</td>\n",
              "      <td>0.2416</td>\n",
              "      <td>0.1860</td>\n",
              "      <td>0.2750</td>\n",
              "      <td>0.08902</td>\n",
              "    </tr>\n",
              "    <tr>\n",
              "      <th>2</th>\n",
              "      <td>19.69</td>\n",
              "      <td>21.25</td>\n",
              "      <td>130.00</td>\n",
              "      <td>1203.0</td>\n",
              "      <td>0.10960</td>\n",
              "      <td>...</td>\n",
              "      <td>0.42450</td>\n",
              "      <td>0.4504</td>\n",
              "      <td>0.2430</td>\n",
              "      <td>0.3613</td>\n",
              "      <td>0.08758</td>\n",
              "    </tr>\n",
              "    <tr>\n",
              "      <th>3</th>\n",
              "      <td>11.42</td>\n",
              "      <td>20.38</td>\n",
              "      <td>77.58</td>\n",
              "      <td>386.1</td>\n",
              "      <td>0.14250</td>\n",
              "      <td>...</td>\n",
              "      <td>0.86630</td>\n",
              "      <td>0.6869</td>\n",
              "      <td>0.2575</td>\n",
              "      <td>0.6638</td>\n",
              "      <td>0.17300</td>\n",
              "    </tr>\n",
              "    <tr>\n",
              "      <th>4</th>\n",
              "      <td>20.29</td>\n",
              "      <td>14.34</td>\n",
              "      <td>135.10</td>\n",
              "      <td>1297.0</td>\n",
              "      <td>0.10030</td>\n",
              "      <td>...</td>\n",
              "      <td>0.20500</td>\n",
              "      <td>0.4000</td>\n",
              "      <td>0.1625</td>\n",
              "      <td>0.2364</td>\n",
              "      <td>0.07678</td>\n",
              "    </tr>\n",
              "    <tr>\n",
              "      <th>...</th>\n",
              "      <td>...</td>\n",
              "      <td>...</td>\n",
              "      <td>...</td>\n",
              "      <td>...</td>\n",
              "      <td>...</td>\n",
              "      <td>...</td>\n",
              "      <td>...</td>\n",
              "      <td>...</td>\n",
              "      <td>...</td>\n",
              "      <td>...</td>\n",
              "      <td>...</td>\n",
              "    </tr>\n",
              "    <tr>\n",
              "      <th>564</th>\n",
              "      <td>21.56</td>\n",
              "      <td>22.39</td>\n",
              "      <td>142.00</td>\n",
              "      <td>1479.0</td>\n",
              "      <td>0.11100</td>\n",
              "      <td>...</td>\n",
              "      <td>0.21130</td>\n",
              "      <td>0.4107</td>\n",
              "      <td>0.2216</td>\n",
              "      <td>0.2060</td>\n",
              "      <td>0.07115</td>\n",
              "    </tr>\n",
              "    <tr>\n",
              "      <th>565</th>\n",
              "      <td>20.13</td>\n",
              "      <td>28.25</td>\n",
              "      <td>131.20</td>\n",
              "      <td>1261.0</td>\n",
              "      <td>0.09780</td>\n",
              "      <td>...</td>\n",
              "      <td>0.19220</td>\n",
              "      <td>0.3215</td>\n",
              "      <td>0.1628</td>\n",
              "      <td>0.2572</td>\n",
              "      <td>0.06637</td>\n",
              "    </tr>\n",
              "    <tr>\n",
              "      <th>566</th>\n",
              "      <td>16.60</td>\n",
              "      <td>28.08</td>\n",
              "      <td>108.30</td>\n",
              "      <td>858.1</td>\n",
              "      <td>0.08455</td>\n",
              "      <td>...</td>\n",
              "      <td>0.30940</td>\n",
              "      <td>0.3403</td>\n",
              "      <td>0.1418</td>\n",
              "      <td>0.2218</td>\n",
              "      <td>0.07820</td>\n",
              "    </tr>\n",
              "    <tr>\n",
              "      <th>567</th>\n",
              "      <td>20.60</td>\n",
              "      <td>29.33</td>\n",
              "      <td>140.10</td>\n",
              "      <td>1265.0</td>\n",
              "      <td>0.11780</td>\n",
              "      <td>...</td>\n",
              "      <td>0.86810</td>\n",
              "      <td>0.9387</td>\n",
              "      <td>0.2650</td>\n",
              "      <td>0.4087</td>\n",
              "      <td>0.12400</td>\n",
              "    </tr>\n",
              "    <tr>\n",
              "      <th>568</th>\n",
              "      <td>7.76</td>\n",
              "      <td>24.54</td>\n",
              "      <td>47.92</td>\n",
              "      <td>181.0</td>\n",
              "      <td>0.05263</td>\n",
              "      <td>...</td>\n",
              "      <td>0.06444</td>\n",
              "      <td>0.0000</td>\n",
              "      <td>0.0000</td>\n",
              "      <td>0.2871</td>\n",
              "      <td>0.07039</td>\n",
              "    </tr>\n",
              "  </tbody>\n",
              "</table>\n",
              "<p>569 rows × 30 columns</p>\n",
              "</div>"
            ],
            "text/plain": [
              "     mean radius  mean texture  mean perimeter  mean area  mean smoothness  \\\n",
              "0          17.99         10.38          122.80     1001.0          0.11840   \n",
              "1          20.57         17.77          132.90     1326.0          0.08474   \n",
              "2          19.69         21.25          130.00     1203.0          0.10960   \n",
              "3          11.42         20.38           77.58      386.1          0.14250   \n",
              "4          20.29         14.34          135.10     1297.0          0.10030   \n",
              "..           ...           ...             ...        ...              ...   \n",
              "564        21.56         22.39          142.00     1479.0          0.11100   \n",
              "565        20.13         28.25          131.20     1261.0          0.09780   \n",
              "566        16.60         28.08          108.30      858.1          0.08455   \n",
              "567        20.60         29.33          140.10     1265.0          0.11780   \n",
              "568         7.76         24.54           47.92      181.0          0.05263   \n",
              "\n",
              "     ...  worst compactness  worst concavity  worst concave points  \\\n",
              "0    ...            0.66560           0.7119                0.2654   \n",
              "1    ...            0.18660           0.2416                0.1860   \n",
              "2    ...            0.42450           0.4504                0.2430   \n",
              "3    ...            0.86630           0.6869                0.2575   \n",
              "4    ...            0.20500           0.4000                0.1625   \n",
              "..   ...                ...              ...                   ...   \n",
              "564  ...            0.21130           0.4107                0.2216   \n",
              "565  ...            0.19220           0.3215                0.1628   \n",
              "566  ...            0.30940           0.3403                0.1418   \n",
              "567  ...            0.86810           0.9387                0.2650   \n",
              "568  ...            0.06444           0.0000                0.0000   \n",
              "\n",
              "     worst symmetry  worst fractal dimension  \n",
              "0            0.4601                  0.11890  \n",
              "1            0.2750                  0.08902  \n",
              "2            0.3613                  0.08758  \n",
              "3            0.6638                  0.17300  \n",
              "4            0.2364                  0.07678  \n",
              "..              ...                      ...  \n",
              "564          0.2060                  0.07115  \n",
              "565          0.2572                  0.06637  \n",
              "566          0.2218                  0.07820  \n",
              "567          0.4087                  0.12400  \n",
              "568          0.2871                  0.07039  \n",
              "\n",
              "[569 rows x 30 columns]"
            ]
          },
          "metadata": {},
          "execution_count": 4
        }
      ]
    },
    {
      "cell_type": "markdown",
      "metadata": {
        "id": "RI4jYoaEsEKS"
      },
      "source": [
        "И посмотрим, на целевую переменную:   \n",
        "- 212 нулей - это класс злокачественной опухоли (Malignant).   \n",
        "- А 357 единиц - класс доброкачественной опухоли (Benign)."
      ]
    },
    {
      "cell_type": "code",
      "metadata": {
        "colab": {
          "base_uri": "https://localhost:8080/"
        },
        "id": "LxAzIW7urMHs",
        "outputId": "680ca6fe-f32a-48bb-e392-c7c4bfcbc3ce"
      },
      "source": [
        "y.value_counts()"
      ],
      "execution_count": null,
      "outputs": [
        {
          "output_type": "execute_result",
          "data": {
            "text/plain": [
              "1    357\n",
              "0    212\n",
              "dtype: int64"
            ]
          },
          "metadata": {},
          "execution_count": 5
        }
      ]
    },
    {
      "cell_type": "markdown",
      "metadata": {
        "id": "8cBdSoaOc8Pk"
      },
      "source": [
        "Разобьем выборку на обучающую и тестовую. Из исходного набора возьмем только два случайных признака, а на тест возьмем только 9 объектов для простоты подсчета метрик."
      ]
    },
    {
      "cell_type": "code",
      "metadata": {
        "id": "MBoxhEjodNA2"
      },
      "source": [
        "from sklearn.model_selection import train_test_split\n",
        "\n",
        "\n",
        "np.random.seed(5)\n",
        "features = np.random.randint(X.shape[1], size=2)\n",
        "\n",
        "\n",
        "X_train, X_test, y_train, y_test = train_test_split(X.iloc[:, features], y, test_size=9, random_state=4)"
      ],
      "execution_count": null,
      "outputs": []
    },
    {
      "cell_type": "markdown",
      "metadata": {
        "id": "MwUGpFNzNudk"
      },
      "source": [
        "Получили выборку для которой будем считать метрику PR AUC."
      ]
    },
    {
      "cell_type": "code",
      "metadata": {
        "colab": {
          "base_uri": "https://localhost:8080/"
        },
        "id": "4C8Hjt8V8vAP",
        "outputId": "ab62f727-92d2-471c-82e3-af21d5c166c2"
      },
      "source": [
        "X_test"
      ],
      "execution_count": null,
      "outputs": [
        {
          "output_type": "execute_result",
          "data": {
            "text/html": [
              "<div>\n",
              "<style scoped>\n",
              "    .dataframe tbody tr th:only-of-type {\n",
              "        vertical-align: middle;\n",
              "    }\n",
              "\n",
              "    .dataframe tbody tr th {\n",
              "        vertical-align: top;\n",
              "    }\n",
              "\n",
              "    .dataframe thead th {\n",
              "        text-align: right;\n",
              "    }\n",
              "</style>\n",
              "<table border=\"1\" class=\"dataframe\">\n",
              "  <thead>\n",
              "    <tr style=\"text-align: right;\">\n",
              "      <th></th>\n",
              "      <th>mean area</th>\n",
              "      <th>smoothness error</th>\n",
              "    </tr>\n",
              "  </thead>\n",
              "  <tbody>\n",
              "    <tr>\n",
              "      <th>340</th>\n",
              "      <td>641.2</td>\n",
              "      <td>0.004577</td>\n",
              "    </tr>\n",
              "    <tr>\n",
              "      <th>382</th>\n",
              "      <td>447.8</td>\n",
              "      <td>0.005042</td>\n",
              "    </tr>\n",
              "    <tr>\n",
              "      <th>300</th>\n",
              "      <td>1217.0</td>\n",
              "      <td>0.006056</td>\n",
              "    </tr>\n",
              "    <tr>\n",
              "      <th>262</th>\n",
              "      <td>947.8</td>\n",
              "      <td>0.006717</td>\n",
              "    </tr>\n",
              "    <tr>\n",
              "      <th>363</th>\n",
              "      <td>838.1</td>\n",
              "      <td>0.007257</td>\n",
              "    </tr>\n",
              "    <tr>\n",
              "      <th>157</th>\n",
              "      <td>880.2</td>\n",
              "      <td>0.003443</td>\n",
              "    </tr>\n",
              "    <tr>\n",
              "      <th>120</th>\n",
              "      <td>403.3</td>\n",
              "      <td>0.006040</td>\n",
              "    </tr>\n",
              "    <tr>\n",
              "      <th>139</th>\n",
              "      <td>384.8</td>\n",
              "      <td>0.011270</td>\n",
              "    </tr>\n",
              "    <tr>\n",
              "      <th>99</th>\n",
              "      <td>642.5</td>\n",
              "      <td>0.008005</td>\n",
              "    </tr>\n",
              "  </tbody>\n",
              "</table>\n",
              "</div>"
            ],
            "text/plain": [
              "     mean area  smoothness error\n",
              "340      641.2          0.004577\n",
              "382      447.8          0.005042\n",
              "300     1217.0          0.006056\n",
              "262      947.8          0.006717\n",
              "363      838.1          0.007257\n",
              "157      880.2          0.003443\n",
              "120      403.3          0.006040\n",
              "139      384.8          0.011270\n",
              "99       642.5          0.008005"
            ]
          },
          "metadata": {},
          "execution_count": 7
        }
      ]
    },
    {
      "cell_type": "markdown",
      "metadata": {
        "id": "luYUeiTabwhL"
      },
      "source": [
        "Шестеро из них относятся к классу 1, а трое к классу 0."
      ]
    },
    {
      "cell_type": "code",
      "metadata": {
        "colab": {
          "base_uri": "https://localhost:8080/"
        },
        "id": "fzt_1grT8vgL",
        "outputId": "40d11d29-a38f-45fa-81ed-5183d78e5a59"
      },
      "source": [
        "y_test"
      ],
      "execution_count": null,
      "outputs": [
        {
          "output_type": "execute_result",
          "data": {
            "text/plain": [
              "340    1\n",
              "382    1\n",
              "300    0\n",
              "262    0\n",
              "363    1\n",
              "157    1\n",
              "120    1\n",
              "139    1\n",
              "99     0\n",
              "dtype: int64"
            ]
          },
          "metadata": {},
          "execution_count": 8
        }
      ]
    },
    {
      "cell_type": "markdown",
      "metadata": {
        "id": "v3biXQxAjKqc"
      },
      "source": [
        "## Обучение модели"
      ]
    },
    {
      "cell_type": "markdown",
      "metadata": {
        "id": "h5YckVon8Lp3"
      },
      "source": [
        "И обучим дерево решений на классификацию опухоли."
      ]
    },
    {
      "cell_type": "code",
      "metadata": {
        "colab": {
          "base_uri": "https://localhost:8080/"
        },
        "id": "SOPbbG0i8R8y",
        "outputId": "5f43512c-7a02-4e8b-a80e-5079290c9439"
      },
      "source": [
        "from sklearn.tree import DecisionTreeClassifier\n",
        "\n",
        "tree = DecisionTreeClassifier(random_state=1, max_depth=5, min_samples_leaf=5)\n",
        "\n",
        "tree.fit(X_train, y_train)"
      ],
      "execution_count": null,
      "outputs": [
        {
          "output_type": "execute_result",
          "data": {
            "text/plain": [
              "DecisionTreeClassifier(ccp_alpha=0.0, class_weight=None, criterion='gini',\n",
              "                       max_depth=5, max_features=None, max_leaf_nodes=None,\n",
              "                       min_impurity_decrease=0.0, min_impurity_split=None,\n",
              "                       min_samples_leaf=5, min_samples_split=2,\n",
              "                       min_weight_fraction_leaf=0.0, presort='deprecated',\n",
              "                       random_state=1, splitter='best')"
            ]
          },
          "metadata": {},
          "execution_count": 9
        }
      ]
    },
    {
      "cell_type": "markdown",
      "metadata": {
        "id": "2Y5Ulw3lqEkF"
      },
      "source": [
        "Наши модели машинного обучения на выходе могут давать метку класса, к которому принадлежит объект через метод predict."
      ]
    },
    {
      "cell_type": "code",
      "metadata": {
        "colab": {
          "base_uri": "https://localhost:8080/"
        },
        "id": "sZHJonqh8bXo",
        "outputId": "ad2a2a1e-53d3-4b66-f848-cdb0bf738a2c"
      },
      "source": [
        "tree.predict(X_test)"
      ],
      "execution_count": null,
      "outputs": [
        {
          "output_type": "execute_result",
          "data": {
            "text/plain": [
              "array([1, 1, 0, 0, 0, 0, 1, 1, 1])"
            ]
          },
          "metadata": {},
          "execution_count": 10
        }
      ]
    },
    {
      "cell_type": "markdown",
      "metadata": {
        "id": "qpXOjN6Fb4T6"
      },
      "source": [
        "А так же вероятность принадлежности к каждому классу через метод predict_proba."
      ]
    },
    {
      "cell_type": "code",
      "metadata": {
        "colab": {
          "base_uri": "https://localhost:8080/"
        },
        "id": "63yRikItb9uK",
        "outputId": "9570ccab-2413-4240-ead0-b60424b8f098"
      },
      "source": [
        "tree.predict_proba(X_test)"
      ],
      "execution_count": null,
      "outputs": [
        {
          "output_type": "execute_result",
          "data": {
            "text/plain": [
              "array([[0.1509434 , 0.8490566 ],\n",
              "       [0.03125   , 0.96875   ],\n",
              "       [1.        , 0.        ],\n",
              "       [1.        , 0.        ],\n",
              "       [1.        , 0.        ],\n",
              "       [1.        , 0.        ],\n",
              "       [0.        , 1.        ],\n",
              "       [0.03370787, 0.96629213],\n",
              "       [0.45454545, 0.54545455]])"
            ]
          },
          "metadata": {},
          "execution_count": 11
        }
      ]
    },
    {
      "cell_type": "markdown",
      "metadata": {
        "id": "SG6YHuTycIUQ"
      },
      "source": [
        "Так как классов только два, то и видим 2 столбика, 1 столбик - это вероятность того, что объект является нулевым классом, а 2 столбик - это вероятность того, что объект первый класс.   \n",
        "В сумме вероятности дают 1.   \n",
        "\n",
        "К примеру, первый объект вероятней всего будет 1 классом (85% объект может быть 1 классом, и 15% объект может быть 0 классом), а третий объект со стопроцентной уверенностью будет 0 классом (нулевая вероятность быть 1 классом, и единичная вероятность быть 0 классом)\n",
        "\n",
        "Оперируя вероятностями мы можем самостоятельно принимать решения выше или ниже какой отметки, объект становится нулевым классом или первым. По умолчанию такая отсечка равна 0.5."
      ]
    },
    {
      "cell_type": "markdown",
      "metadata": {
        "id": "FwXNr3lxO47f"
      },
      "source": [
        "Убедимся в этом. Руками поставим соответствующие классы на объекты с вероятностями, которые больше 0.5. То есть, если вероятность быть 1 классом, больше или равна 50%, то мы ставим объекту класс 1, если предсказанная вероятность быть 1 классом меньше 50%, то ставим объекту метку класса 0. Для этого мы взяли только первый столбик."
      ]
    },
    {
      "cell_type": "code",
      "metadata": {
        "colab": {
          "base_uri": "https://localhost:8080/"
        },
        "id": "OaFbcJFqdxib",
        "outputId": "20d8f726-bd80-408c-9a52-2205bf2e7abd"
      },
      "source": [
        "pred_proba = tree.predict_proba(X_test)\n",
        "pred_proba"
      ],
      "execution_count": null,
      "outputs": [
        {
          "output_type": "execute_result",
          "data": {
            "text/plain": [
              "array([[0.1509434 , 0.8490566 ],\n",
              "       [0.03125   , 0.96875   ],\n",
              "       [1.        , 0.        ],\n",
              "       [1.        , 0.        ],\n",
              "       [1.        , 0.        ],\n",
              "       [1.        , 0.        ],\n",
              "       [0.        , 1.        ],\n",
              "       [0.03370787, 0.96629213],\n",
              "       [0.45454545, 0.54545455]])"
            ]
          },
          "metadata": {},
          "execution_count": 12
        }
      ]
    },
    {
      "cell_type": "code",
      "metadata": {
        "colab": {
          "base_uri": "https://localhost:8080/"
        },
        "id": "RhsKIjAUPWeT",
        "outputId": "c4f52d51-3a87-40af-e5fc-de656f99efda"
      },
      "source": [
        "np.where(pred_proba[:, 1] >= 0.5, 1, 0)"
      ],
      "execution_count": null,
      "outputs": [
        {
          "output_type": "execute_result",
          "data": {
            "text/plain": [
              "array([1, 1, 0, 0, 0, 0, 1, 1, 1])"
            ]
          },
          "metadata": {},
          "execution_count": 13
        }
      ]
    },
    {
      "cell_type": "code",
      "metadata": {
        "colab": {
          "base_uri": "https://localhost:8080/"
        },
        "id": "FXcIpxIDP4KG",
        "outputId": "d8e05d1f-4d3a-4459-fd73-10da8c6f76b2"
      },
      "source": [
        "tree.predict(X_test)"
      ],
      "execution_count": null,
      "outputs": [
        {
          "output_type": "execute_result",
          "data": {
            "text/plain": [
              "array([1, 1, 0, 0, 0, 0, 1, 1, 1])"
            ]
          },
          "metadata": {},
          "execution_count": 14
        }
      ]
    },
    {
      "cell_type": "markdown",
      "metadata": {
        "id": "qK3sc7C6PsWL"
      },
      "source": [
        "Получили точно такие же предсказанные метки классов, как и были после метода predict, значит точно, по умолчанию в методах predict стоит отсечка в 0.5."
      ]
    },
    {
      "cell_type": "markdown",
      "metadata": {
        "id": "lB2oLxbQjTDx"
      },
      "source": [
        "## Визуализация вероятностей"
      ]
    },
    {
      "cell_type": "markdown",
      "metadata": {
        "id": "Ac6vY4MjSFNn"
      },
      "source": [
        "Визуализируем вероятности быть 1 классом наших 9 объектов, по оси абсцисс порядковый номер объектов, а по оси ординат вероятность быть первым классом и раскрасим их в зависимости от истинной метки класса.   \n",
        "Оранжевые - объекты 0 класса, синие - объекты 1 класса.\n",
        "\n",
        "При этом есть низкой вероятностью обладают объекты как первого класса, так и нулевого."
      ]
    },
    {
      "cell_type": "code",
      "metadata": {
        "colab": {
          "base_uri": "https://localhost:8080/"
        },
        "id": "e5fpONI8QKUl",
        "outputId": "d39e6ee4-a0f9-4d73-cb1f-34ad3f94d8f2"
      },
      "source": [
        "class_1 = pred_proba[:, 1][y_test == 1]\n",
        "class_0 = pred_proba[:, 1][y_test == 0]\n",
        "\n",
        "plt.scatter(np.arange(len(class_1)), class_1, label='class_1')\n",
        "plt.scatter(np.arange(len(class_1), len(class_1)+len(class_0)), class_0, label='class_0')\n",
        "plt.title('Вероятность быть 1 классом')\n",
        "plt.legend();"
      ],
      "execution_count": null,
      "outputs": [
        {
          "output_type": "display_data",
          "data": {
            "image/png": "[encoded data removed]",
            "text/plain": [
              "<Figure size 432x288 with 1 Axes>"
            ]
          },
          "metadata": {
            "needs_background": "light"
          }
        }
      ]
    },
    {
      "cell_type": "markdown",
      "metadata": {
        "id": "qgVJ3tCLjbJO"
      },
      "source": [
        "### Отсечка 0.5"
      ]
    },
    {
      "cell_type": "markdown",
      "metadata": {
        "id": "qDgafUs1SX7u"
      },
      "source": [
        "Как мы с вами определились, по умолчанию отсечка равна 0.5. Отрисуем её тоже.   \n",
        "По этой отсечке, у нас пять объектов будут классифицированы, как 1 класс, т.к. у них предсказанная вероятность больше 0.5, а четыре объекта будут классифицированы как 0 класс, т.к. их предсказанные вероятности меньше 0.5.  \n",
        "При этом два объекта первого класса мы ошибочно посчитали нулевыми классами, предсказали им маленькие вероятности (0), сделали ошибки ложного пропуска False Negative.  \n",
        "И ещё есть один объект с другой ошибкой - ложного срабатывания False Positive - это объект нулевого класса, который мы ошибочно посчитали объектом первого класса, т.к. ему предсказали большую вероятность быть первым классом (0.5454)."
      ]
    },
    {
      "cell_type": "code",
      "metadata": {
        "colab": {
          "base_uri": "https://localhost:8080/"
        },
        "id": "cTRduSjuSXWC",
        "outputId": "8441de00-1627-4454-cc74-4a2a2ca8decc"
      },
      "source": [
        "threshold = 0.5\n",
        "class_1 = pred_proba[:, 1][y_test == 1]\n",
        "class_0 = pred_proba[:, 1][y_test == 0]\n",
        "\n",
        "plt.scatter(np.arange(len(class_1)), class_1, label='class_1')\n",
        "plt.scatter(np.arange(len(class_1), len(class_1)+len(class_0)), class_0, label='class_0')\n",
        "plt.plot([-0.2, len(pred_proba[:, 1])], [threshold, threshold], c='b')\n",
        "plt.title('Вероятность быть 1 классом')\n",
        "plt.legend();"
      ],
      "execution_count": null,
      "outputs": [
        {
          "output_type": "display_data",
          "data": {
            "image/png": "[encoded data removed]",
            "text/plain": [
              "<Figure size 432x288 with 1 Axes>"
            ]
          },
          "metadata": {
            "needs_background": "light"
          }
        }
      ]
    },
    {
      "cell_type": "markdown",
      "metadata": {
        "id": "9A_YUxtwaMYe"
      },
      "source": [
        "Можем для такого случая отрисовать матрицу ошибок, получается 2 TN, 4 TP, 1 FP и 2 FN.   \n",
        "И выведем метрики точности и полноты, они довольно неплохие, но не идеальные."
      ]
    },
    {
      "cell_type": "code",
      "metadata": {
        "colab": {
          "base_uri": "https://localhost:8080/"
        },
        "id": "icZxvYRyaQw4",
        "outputId": "4058d6ae-e84b-4bd0-d089-4e9e10b61184"
      },
      "source": [
        "from sklearn.metrics import confusion_matrix, recall_score, precision_score\n",
        "\n",
        "\n",
        "pred = np.where(pred_proba[:, 1] >= threshold, 1, 0)\n",
        "\n",
        "print('Precision', precision_score(y_test, pred))\n",
        "print('Recall', recall_score(y_test, pred))\n",
        "\n",
        "cm = confusion_matrix(y_test, pred)\n",
        "f = sns.heatmap(cm, annot=True)\n",
        "plt.ylabel('Groud truth')\n",
        "plt.xlabel('Prediction');"
      ],
      "execution_count": null,
      "outputs": [
        {
          "output_type": "stream",
          "name": "stdout",
          "text": [
            "Precision 0.8\n",
            "Recall 0.6666666666666666\n"
          ]
        },
        {
          "output_type": "display_data",
          "data": {
            "image/png": "[encoded data removed]",
            "text/plain": [
              "<Figure size 432x288 with 2 Axes>"
            ]
          },
          "metadata": {
            "needs_background": "light"
          }
        }
      ]
    },
    {
      "cell_type": "markdown",
      "metadata": {
        "id": "w2YnhsP2je6P"
      },
      "source": [
        "### Отсечка 0.6"
      ]
    },
    {
      "cell_type": "markdown",
      "metadata": {
        "id": "wBS0pMMXaKPp"
      },
      "source": [
        "Данную отсечку можем менять, как захотим.\n",
        "\n",
        "Если мы захотим увеличить чистоту классификации, то можем поднять отсечку, к примеру, до 0.6, в этом случае наша ошибка False Positive убирается, т.к. предсказанная вероятность теперь будет меньше. А значит больше нет ошибок ложного срабатывания и precision будет равен единице."
      ]
    },
    {
      "cell_type": "code",
      "metadata": {
        "colab": {
          "base_uri": "https://localhost:8080/"
        },
        "id": "qYfB-7UjghPO",
        "outputId": "153b67f0-85f3-4fdb-bd39-9fee378feb2b"
      },
      "source": [
        "threshold = 0.6\n",
        "\n",
        "class_1 = pred_proba[:, 1][y_test == 1]\n",
        "class_0 = pred_proba[:, 1][y_test == 0]\n",
        "\n",
        "pred = np.where(pred_proba[:, 1] >= threshold, 1, 0)\n",
        "\n",
        "print('Precision', precision_score(y_test, pred))\n",
        "print('Recall', recall_score(y_test, pred))\n",
        "\n",
        "plt.scatter(np.arange(len(class_1)), class_1, label='class_1')\n",
        "plt.scatter(np.arange(len(class_1), len(class_1)+len(class_0)), class_0, label='class_0')\n",
        "plt.plot([-0.2, len(pred_proba[:, 1])], [threshold, threshold], c='b')\n",
        "plt.title('Вероятность быть 1 классом')\n",
        "plt.legend();"
      ],
      "execution_count": null,
      "outputs": [
        {
          "output_type": "stream",
          "name": "stdout",
          "text": [
            "Precision 1.0\n",
            "Recall 0.6666666666666666\n"
          ]
        },
        {
          "output_type": "display_data",
          "data": {
            "image/png": "[encoded data removed]",
            "text/plain": [
              "<Figure size 432x288 with 1 Axes>"
            ]
          },
          "metadata": {
            "needs_background": "light"
          }
        }
      ]
    },
    {
      "cell_type": "markdown",
      "metadata": {
        "id": "57VagMEzgyXZ"
      },
      "source": [
        "Посчитаем матрицу ошибок и видим, что больше ошибок ложного срабатывания нет. А значит точность будет идеальной."
      ]
    },
    {
      "cell_type": "code",
      "metadata": {
        "colab": {
          "base_uri": "https://localhost:8080/"
        },
        "id": "nTGEAKcagyXa",
        "outputId": "6bc54ffa-bf67-4eea-e16c-3dc26a064754"
      },
      "source": [
        "cm = confusion_matrix(y_test, pred)\n",
        "f = sns.heatmap(cm, annot=True)\n",
        "plt.ylabel('Groud truth')\n",
        "plt.xlabel('Prediction');"
      ],
      "execution_count": null,
      "outputs": [
        {
          "output_type": "display_data",
          "data": {
            "image/png": "[encoded data removed]",
            "text/plain": [
              "<Figure size 432x288 with 2 Axes>"
            ]
          },
          "metadata": {
            "needs_background": "light"
          }
        }
      ]
    },
    {
      "cell_type": "markdown",
      "metadata": {
        "id": "pfNGwh4cjkLI"
      },
      "source": [
        "### Отсечка 0"
      ]
    },
    {
      "cell_type": "markdown",
      "metadata": {
        "id": "QrKVSet-QVVr"
      },
      "source": [
        "И можем сделать по-другому: снизить отсечку до 0, тем самым будем классифицировать, как первый класс все объекты. А значит мы найдём все объекты первого класса. Ошибок ложного пропуска больше нет, метрика Recall будет единичная."
      ]
    },
    {
      "cell_type": "code",
      "metadata": {
        "colab": {
          "base_uri": "https://localhost:8080/"
        },
        "id": "Jyw4EkFdQVWW",
        "outputId": "4ab30b55-6f8c-40e0-aadb-551341967607"
      },
      "source": [
        "threshold = 0\n",
        "\n",
        "class_1 = pred_proba[:, 1][y_test == 1]\n",
        "class_0 = pred_proba[:, 1][y_test == 0]\n",
        "\n",
        "pred = np.where(pred_proba[:, 1] >= threshold, 1, 0)\n",
        "\n",
        "print('Precision', precision_score(y_test, pred))\n",
        "print('Recall', recall_score(y_test, pred))\n",
        "\n",
        "plt.scatter(np.arange(len(class_1)), class_1, label='class_1')\n",
        "plt.scatter(np.arange(len(class_1), len(class_1)+len(class_0)), class_0, label='class_0')\n",
        "plt.plot([-0.2, len(pred_proba[:, 1])], [threshold, threshold], c='b')\n",
        "plt.title('Вероятность быть 1 классом')\n",
        "plt.legend();"
      ],
      "execution_count": null,
      "outputs": [
        {
          "output_type": "stream",
          "name": "stdout",
          "text": [
            "Precision 0.6666666666666666\n",
            "Recall 1.0\n"
          ]
        },
        {
          "output_type": "display_data",
          "data": {
            "image/png": "[encoded data removed]",
            "text/plain": [
              "<Figure size 432x288 with 1 Axes>"
            ]
          },
          "metadata": {
            "needs_background": "light"
          }
        }
      ]
    },
    {
      "cell_type": "markdown",
      "metadata": {
        "id": "wSmCwW4LQVWa"
      },
      "source": [
        "Посчитаем матрицу ошибок и теперь ошибок ложного пропуска больше нет, ровно как и нет классификаций в нулевом классе."
      ]
    },
    {
      "cell_type": "code",
      "metadata": {
        "colab": {
          "base_uri": "https://localhost:8080/"
        },
        "id": "CEipS6qqQVWb",
        "outputId": "dea4337e-4bd6-488f-a2e8-188d5f06ea61"
      },
      "source": [
        "cm = confusion_matrix(y_test, pred)\n",
        "f = sns.heatmap(cm, annot=True)\n",
        "plt.ylabel('Groud truth')\n",
        "plt.xlabel('Prediction');"
      ],
      "execution_count": null,
      "outputs": [
        {
          "output_type": "display_data",
          "data": {
            "image/png": "[encoded data removed]",
            "text/plain": [
              "<Figure size 432x288 with 2 Axes>"
            ]
          },
          "metadata": {
            "needs_background": "light"
          }
        }
      ]
    },
    {
      "cell_type": "markdown",
      "metadata": {
        "id": "JuqhIJdbjnk3"
      },
      "source": [
        "## PR-кривая (PR-curve)"
      ]
    },
    {
      "cell_type": "markdown",
      "metadata": {
        "id": "KZZatbGnRTfT"
      },
      "source": [
        "На этих разных отсечках и строится метрика PR-кривая и PR-AUC. Из себя она представляет кривую, состоящую из точек с разными отсечками.  \n",
        "Ниже пример PR-кривой на обучающей выборке. Для неё выбираются разные отсечки и считаются метрики precision и recall, далее откладываются точки. Прямая начинается с точки (0, 1), где нулевой recall и где единичный precision.\n",
        "\n",
        "В идеале, когда PR-кривая проходит через точку (1, 1), где одновременно идеальный recall и такой же precision, но на реальных данных такого не встретишь, только на синтетических искусственных выборках."
      ]
    },
    {
      "cell_type": "code",
      "metadata": {
        "colab": {
          "base_uri": "https://localhost:8080/"
        },
        "id": "k23IYrEIRcFZ",
        "outputId": "37b7a3e0-9949-4e9d-e438-6d10e8055e18"
      },
      "source": [
        "from sklearn.metrics import plot_precision_recall_curve\n",
        "\n",
        "plot_precision_recall_curve(tree, X_train, y_train)\n",
        "plt.ylim([0, 1.1]);"
      ],
      "execution_count": null,
      "outputs": [
        {
          "output_type": "display_data",
          "data": {
            "image/png": "[encoded data removed]",
            "text/plain": [
              "<Figure size 432x288 with 1 Axes>"
            ]
          },
          "metadata": {
            "needs_background": "light"
          }
        }
      ]
    },
    {
      "cell_type": "markdown",
      "metadata": {
        "id": "n1eXEzZ9Sbzz"
      },
      "source": [
        "Давайте посчитаем PR-кривую на тестовой выборке самостоятельно.\n",
        "\n",
        "Объединим предсказанные вероятности быть первым классом и истинные целевые значения в датафрейм и отсортируем по пробе, вначале маленькие вероятности, затем большие."
      ]
    },
    {
      "cell_type": "code",
      "metadata": {
        "colab": {
          "base_uri": "https://localhost:8080/"
        },
        "id": "J7vHso6gShBi",
        "outputId": "eb0b2cb2-fa20-4123-89d9-87c6f52a2125"
      },
      "source": [
        "df_pred = pd.DataFrame({\n",
        "    'proba': pred_proba[:, 1],\n",
        "    'label': y_test\n",
        "})\n",
        "\n",
        "df_pred = df_pred.sort_values(by='proba')\n",
        "df_pred"
      ],
      "execution_count": null,
      "outputs": [
        {
          "output_type": "execute_result",
          "data": {
            "text/html": [
              "<div>\n",
              "<style scoped>\n",
              "    .dataframe tbody tr th:only-of-type {\n",
              "        vertical-align: middle;\n",
              "    }\n",
              "\n",
              "    .dataframe tbody tr th {\n",
              "        vertical-align: top;\n",
              "    }\n",
              "\n",
              "    .dataframe thead th {\n",
              "        text-align: right;\n",
              "    }\n",
              "</style>\n",
              "<table border=\"1\" class=\"dataframe\">\n",
              "  <thead>\n",
              "    <tr style=\"text-align: right;\">\n",
              "      <th></th>\n",
              "      <th>proba</th>\n",
              "      <th>label</th>\n",
              "    </tr>\n",
              "  </thead>\n",
              "  <tbody>\n",
              "    <tr>\n",
              "      <th>300</th>\n",
              "      <td>0.000000</td>\n",
              "      <td>0</td>\n",
              "    </tr>\n",
              "    <tr>\n",
              "      <th>262</th>\n",
              "      <td>0.000000</td>\n",
              "      <td>0</td>\n",
              "    </tr>\n",
              "    <tr>\n",
              "      <th>363</th>\n",
              "      <td>0.000000</td>\n",
              "      <td>1</td>\n",
              "    </tr>\n",
              "    <tr>\n",
              "      <th>157</th>\n",
              "      <td>0.000000</td>\n",
              "      <td>1</td>\n",
              "    </tr>\n",
              "    <tr>\n",
              "      <th>99</th>\n",
              "      <td>0.545455</td>\n",
              "      <td>0</td>\n",
              "    </tr>\n",
              "    <tr>\n",
              "      <th>340</th>\n",
              "      <td>0.849057</td>\n",
              "      <td>1</td>\n",
              "    </tr>\n",
              "    <tr>\n",
              "      <th>139</th>\n",
              "      <td>0.966292</td>\n",
              "      <td>1</td>\n",
              "    </tr>\n",
              "    <tr>\n",
              "      <th>382</th>\n",
              "      <td>0.968750</td>\n",
              "      <td>1</td>\n",
              "    </tr>\n",
              "    <tr>\n",
              "      <th>120</th>\n",
              "      <td>1.000000</td>\n",
              "      <td>1</td>\n",
              "    </tr>\n",
              "  </tbody>\n",
              "</table>\n",
              "</div>"
            ],
            "text/plain": [
              "        proba  label\n",
              "300  0.000000      0\n",
              "262  0.000000      0\n",
              "363  0.000000      1\n",
              "157  0.000000      1\n",
              "99   0.545455      0\n",
              "340  0.849057      1\n",
              "139  0.966292      1\n",
              "382  0.968750      1\n",
              "120  1.000000      1"
            ]
          },
          "metadata": {},
          "execution_count": 23
        }
      ]
    },
    {
      "cell_type": "markdown",
      "metadata": {
        "id": "lOzjqKFYTQkQ"
      },
      "source": [
        "В идеале должна существовать такая отсечка, выше которой находятся объекты только первого класса, а ниже находятся объекты нулевого класса, но в нашей задаче с такими предсказаниями не так, у нас такую границу провести не получится, всё равно будут либо ошибки ложного пропуска (FN), если поставим отсечку в 0.6, либо ошибки ложного срабатывания (FP), если поставим отсечку в 0."
      ]
    },
    {
      "cell_type": "markdown",
      "metadata": {
        "id": "elRDUQF2jtG0"
      },
      "source": [
        "### Отсечка 1"
      ]
    },
    {
      "cell_type": "markdown",
      "metadata": {
        "id": "Sse1YsI6xFbX"
      },
      "source": [
        "Все-таки переходим к построению PR-кривой и начнем с подсчета удачности метрик при самой высокой отсечке равной 1.  \n",
        "В этом случае у нас 8 из 9 объектов будут классифицированы, как нулевой класс, т.к. у них у всех предсказанная вероятность меньше 1 и только один объект с пробой в 1, будет отнесен моделью к первому классу."
      ]
    },
    {
      "cell_type": "code",
      "metadata": {
        "colab": {
          "base_uri": "https://localhost:8080/"
        },
        "id": "kBfyNM4yxzb4",
        "outputId": "513c1c41-eacf-4b87-ed0d-ba77d9d91c81"
      },
      "source": [
        "threshold = 1\n",
        "df_pred['pred_label'] = (df_pred['proba'] >= threshold).astype('int')\n",
        "\n",
        "df_pred"
      ],
      "execution_count": null,
      "outputs": [
        {
          "output_type": "execute_result",
          "data": {
            "text/html": [
              "<div>\n",
              "<style scoped>\n",
              "    .dataframe tbody tr th:only-of-type {\n",
              "        vertical-align: middle;\n",
              "    }\n",
              "\n",
              "    .dataframe tbody tr th {\n",
              "        vertical-align: top;\n",
              "    }\n",
              "\n",
              "    .dataframe thead th {\n",
              "        text-align: right;\n",
              "    }\n",
              "</style>\n",
              "<table border=\"1\" class=\"dataframe\">\n",
              "  <thead>\n",
              "    <tr style=\"text-align: right;\">\n",
              "      <th></th>\n",
              "      <th>proba</th>\n",
              "      <th>label</th>\n",
              "      <th>pred_label</th>\n",
              "    </tr>\n",
              "  </thead>\n",
              "  <tbody>\n",
              "    <tr>\n",
              "      <th>300</th>\n",
              "      <td>0.000000</td>\n",
              "      <td>0</td>\n",
              "      <td>0</td>\n",
              "    </tr>\n",
              "    <tr>\n",
              "      <th>262</th>\n",
              "      <td>0.000000</td>\n",
              "      <td>0</td>\n",
              "      <td>0</td>\n",
              "    </tr>\n",
              "    <tr>\n",
              "      <th>363</th>\n",
              "      <td>0.000000</td>\n",
              "      <td>1</td>\n",
              "      <td>0</td>\n",
              "    </tr>\n",
              "    <tr>\n",
              "      <th>157</th>\n",
              "      <td>0.000000</td>\n",
              "      <td>1</td>\n",
              "      <td>0</td>\n",
              "    </tr>\n",
              "    <tr>\n",
              "      <th>99</th>\n",
              "      <td>0.545455</td>\n",
              "      <td>0</td>\n",
              "      <td>0</td>\n",
              "    </tr>\n",
              "    <tr>\n",
              "      <th>340</th>\n",
              "      <td>0.849057</td>\n",
              "      <td>1</td>\n",
              "      <td>0</td>\n",
              "    </tr>\n",
              "    <tr>\n",
              "      <th>139</th>\n",
              "      <td>0.966292</td>\n",
              "      <td>1</td>\n",
              "      <td>0</td>\n",
              "    </tr>\n",
              "    <tr>\n",
              "      <th>382</th>\n",
              "      <td>0.968750</td>\n",
              "      <td>1</td>\n",
              "      <td>0</td>\n",
              "    </tr>\n",
              "    <tr>\n",
              "      <th>120</th>\n",
              "      <td>1.000000</td>\n",
              "      <td>1</td>\n",
              "      <td>1</td>\n",
              "    </tr>\n",
              "  </tbody>\n",
              "</table>\n",
              "</div>"
            ],
            "text/plain": [
              "        proba  label  pred_label\n",
              "300  0.000000      0           0\n",
              "262  0.000000      0           0\n",
              "363  0.000000      1           0\n",
              "157  0.000000      1           0\n",
              "99   0.545455      0           0\n",
              "340  0.849057      1           0\n",
              "139  0.966292      1           0\n",
              "382  0.968750      1           0\n",
              "120  1.000000      1           1"
            ]
          },
          "metadata": {},
          "execution_count": 24
        }
      ]
    },
    {
      "cell_type": "markdown",
      "metadata": {
        "id": "_Z9eewSsyw5I"
      },
      "source": [
        "Получаем, что у нас одна классификация и она верная, то есть $\\text{precision} = \\frac{TP}{TP + FP} = \\frac{1}{1 + 0} = 1$\n",
        "\n",
        "В свою очередь recall будет равен $\\frac{TP}{TP + FN} = \\frac{1}{1 + 5} = 0.167$, потому что нашли только одну единицу из 6 возможных."
      ]
    },
    {
      "cell_type": "code",
      "metadata": {
        "colab": {
          "base_uri": "https://localhost:8080/"
        },
        "id": "fojqA9jYyDUm",
        "outputId": "4fee7bc8-26e8-4937-b39b-3fbb91671f32"
      },
      "source": [
        "class_1 = df_pred[df_pred.label == 1]\n",
        "class_0 = df_pred[df_pred.label == 0]\n",
        "\n",
        "pred = df_pred['pred_label']\n",
        "\n",
        "precision = precision_score(df_pred['label'], pred)\n",
        "recall = recall_score(df_pred['label'], pred)\n",
        "print('Precision', precision)\n",
        "print('Recall', recall)\n",
        "\n",
        "plt.scatter(np.arange(len(class_1)), class_1['proba'], label='class_1')\n",
        "plt.scatter(np.arange(len(class_1), len(class_1)+len(class_0)), class_0['proba'], label='class_0')\n",
        "plt.plot([-0.2, len(df_pred)], [threshold, threshold], c='b')\n",
        "plt.title('Вероятность быть 1 классом')\n",
        "plt.legend();"
      ],
      "execution_count": null,
      "outputs": [
        {
          "output_type": "stream",
          "name": "stdout",
          "text": [
            "Precision 1.0\n",
            "Recall 0.16666666666666666\n"
          ]
        },
        {
          "output_type": "display_data",
          "data": {
            "image/png": "[encoded data removed]",
            "text/plain": [
              "<Figure size 432x288 with 1 Axes>"
            ]
          },
          "metadata": {
            "needs_background": "light"
          }
        }
      ]
    },
    {
      "cell_type": "markdown",
      "metadata": {
        "id": "k5CmPpn6zVVy"
      },
      "source": [
        "Эти значения полноты и точности дают нам первую точку - (0.167, 1)."
      ]
    },
    {
      "cell_type": "code",
      "metadata": {
        "id": "yY0PbGR8z4pQ"
      },
      "source": [
        "recalls = [0]\n",
        "precisions = [1]"
      ],
      "execution_count": null,
      "outputs": []
    },
    {
      "cell_type": "code",
      "metadata": {
        "colab": {
          "base_uri": "https://localhost:8080/"
        },
        "id": "9oMHVSXd0KBL",
        "outputId": "c21a707f-481b-44e1-a347-2da7dc2e8749"
      },
      "source": [
        "recalls.append(recall)\n",
        "precisions.append(precision)\n",
        "\n",
        "plt.plot(recalls, precisions, marker='o')\n",
        "plt.ylim([0, 1.1]);plt.xlim([0, 1.1])\n",
        "plt.xlabel('Recall');plt.ylabel('Precision')\n",
        "plt.title('PR_curve');"
      ],
      "execution_count": null,
      "outputs": [
        {
          "output_type": "display_data",
          "data": {
            "image/png": "[encoded data removed]",
            "text/plain": [
              "<Figure size 432x288 with 1 Axes>"
            ]
          },
          "metadata": {
            "needs_background": "light"
          }
        }
      ]
    },
    {
      "cell_type": "markdown",
      "metadata": {
        "id": "tzNmnfGajwcc"
      },
      "source": [
        "### Отсечка 0.968"
      ]
    },
    {
      "cell_type": "markdown",
      "metadata": {
        "id": "xZHQXiMN04q2"
      },
      "source": [
        "Уменьшаем отсечку до 0.968, чтобы уже два объекта относились к первому классу по мнению модели.   \n",
        "Теперь 7 из 9 объектов будут классифицированы, как нулевой класс, а два объекта имеют пробу больше нашей отсечки, значит они будут отнесены к первому классу."
      ]
    },
    {
      "cell_type": "code",
      "metadata": {
        "colab": {
          "base_uri": "https://localhost:8080/"
        },
        "id": "7FSNiXxH04rl",
        "outputId": "06a8615a-10d3-4b41-8071-9629fd58289f"
      },
      "source": [
        "threshold = 0.968\n",
        "df_pred['pred_label'] = (df_pred['proba'] >= threshold).astype('int')\n",
        "\n",
        "df_pred"
      ],
      "execution_count": null,
      "outputs": [
        {
          "output_type": "execute_result",
          "data": {
            "text/html": [
              "<div>\n",
              "<style scoped>\n",
              "    .dataframe tbody tr th:only-of-type {\n",
              "        vertical-align: middle;\n",
              "    }\n",
              "\n",
              "    .dataframe tbody tr th {\n",
              "        vertical-align: top;\n",
              "    }\n",
              "\n",
              "    .dataframe thead th {\n",
              "        text-align: right;\n",
              "    }\n",
              "</style>\n",
              "<table border=\"1\" class=\"dataframe\">\n",
              "  <thead>\n",
              "    <tr style=\"text-align: right;\">\n",
              "      <th></th>\n",
              "      <th>proba</th>\n",
              "      <th>label</th>\n",
              "      <th>pred_label</th>\n",
              "    </tr>\n",
              "  </thead>\n",
              "  <tbody>\n",
              "    <tr>\n",
              "      <th>300</th>\n",
              "      <td>0.000000</td>\n",
              "      <td>0</td>\n",
              "      <td>0</td>\n",
              "    </tr>\n",
              "    <tr>\n",
              "      <th>262</th>\n",
              "      <td>0.000000</td>\n",
              "      <td>0</td>\n",
              "      <td>0</td>\n",
              "    </tr>\n",
              "    <tr>\n",
              "      <th>363</th>\n",
              "      <td>0.000000</td>\n",
              "      <td>1</td>\n",
              "      <td>0</td>\n",
              "    </tr>\n",
              "    <tr>\n",
              "      <th>157</th>\n",
              "      <td>0.000000</td>\n",
              "      <td>1</td>\n",
              "      <td>0</td>\n",
              "    </tr>\n",
              "    <tr>\n",
              "      <th>99</th>\n",
              "      <td>0.545455</td>\n",
              "      <td>0</td>\n",
              "      <td>0</td>\n",
              "    </tr>\n",
              "    <tr>\n",
              "      <th>340</th>\n",
              "      <td>0.849057</td>\n",
              "      <td>1</td>\n",
              "      <td>0</td>\n",
              "    </tr>\n",
              "    <tr>\n",
              "      <th>139</th>\n",
              "      <td>0.966292</td>\n",
              "      <td>1</td>\n",
              "      <td>0</td>\n",
              "    </tr>\n",
              "    <tr>\n",
              "      <th>382</th>\n",
              "      <td>0.968750</td>\n",
              "      <td>1</td>\n",
              "      <td>1</td>\n",
              "    </tr>\n",
              "    <tr>\n",
              "      <th>120</th>\n",
              "      <td>1.000000</td>\n",
              "      <td>1</td>\n",
              "      <td>1</td>\n",
              "    </tr>\n",
              "  </tbody>\n",
              "</table>\n",
              "</div>"
            ],
            "text/plain": [
              "        proba  label  pred_label\n",
              "300  0.000000      0           0\n",
              "262  0.000000      0           0\n",
              "363  0.000000      1           0\n",
              "157  0.000000      1           0\n",
              "99   0.545455      0           0\n",
              "340  0.849057      1           0\n",
              "139  0.966292      1           0\n",
              "382  0.968750      1           1\n",
              "120  1.000000      1           1"
            ]
          },
          "metadata": {},
          "execution_count": 28
        }
      ]
    },
    {
      "cell_type": "markdown",
      "metadata": {
        "id": "zjyLdiyg04rp"
      },
      "source": [
        "У нас две классификация и они верные, то есть $\\text{precision} = \\frac{TP}{TP + FP} = \\frac{2}{2 + 0} = 1$\n",
        "\n",
        "$\\text{recall} =\\frac{TP}{TP + FN} = \\frac{2}{2 + 4} = 0.334$, потому что нашли две единицы из 6 возможных."
      ]
    },
    {
      "cell_type": "code",
      "metadata": {
        "colab": {
          "base_uri": "https://localhost:8080/"
        },
        "id": "jbRQ8KK-04rq",
        "outputId": "1b6fe2df-c002-4cdd-f7c2-f32547757e0e"
      },
      "source": [
        "class_1 = df_pred[df_pred.label == 1]\n",
        "class_0 = df_pred[df_pred.label == 0]\n",
        "\n",
        "pred = df_pred['pred_label']\n",
        "\n",
        "precision = precision_score(df_pred['label'], pred)\n",
        "recall = recall_score(df_pred['label'], pred)\n",
        "print('Precision', precision)\n",
        "print('Recall', recall)\n",
        "\n",
        "plt.scatter(np.arange(len(class_1)), class_1['proba'], label='class_1')\n",
        "plt.scatter(np.arange(len(class_1), len(class_1)+len(class_0)), class_0['proba'], label='class_0')\n",
        "plt.plot([-0.2, len(df_pred)], [threshold, threshold], c='b')\n",
        "plt.title('Вероятность быть 1 классом')\n",
        "plt.legend();"
      ],
      "execution_count": null,
      "outputs": [
        {
          "output_type": "stream",
          "name": "stdout",
          "text": [
            "Precision 1.0\n",
            "Recall 0.3333333333333333\n"
          ]
        },
        {
          "output_type": "display_data",
          "data": {
            "image/png": "[encoded data removed]",
            "text/plain": [
              "<Figure size 432x288 with 1 Axes>"
            ]
          },
          "metadata": {
            "needs_background": "light"
          }
        }
      ]
    },
    {
      "cell_type": "markdown",
      "metadata": {
        "id": "f0GsSy4W04rs"
      },
      "source": [
        "Эти значения полноты и точности дают нам вторую точку - (0.334, 1)."
      ]
    },
    {
      "cell_type": "code",
      "metadata": {
        "colab": {
          "base_uri": "https://localhost:8080/"
        },
        "id": "Yps4gQ_804ru",
        "outputId": "d6e40643-a0e6-4afa-98c5-637d1bd782ab"
      },
      "source": [
        "recalls.append(recall)\n",
        "precisions.append(precision)\n",
        "\n",
        "plt.plot(recalls, precisions, marker='o')\n",
        "plt.ylim([0, 1.1]);plt.xlim([0, 1.1])\n",
        "plt.xlabel('Recall');plt.ylabel('Precision')\n",
        "plt.title('PR_curve');"
      ],
      "execution_count": null,
      "outputs": [
        {
          "output_type": "display_data",
          "data": {
            "image/png": "[encoded data removed]",
            "text/plain": [
              "<Figure size 432x288 with 1 Axes>"
            ]
          },
          "metadata": {
            "needs_background": "light"
          }
        }
      ]
    },
    {
      "cell_type": "markdown",
      "metadata": {
        "id": "M-dpd3kdjzMF"
      },
      "source": [
        "### Отсечка 0.966"
      ]
    },
    {
      "cell_type": "markdown",
      "metadata": {
        "id": "0xJCqlUd1vtn"
      },
      "source": [
        "Едем дальше и снижаем отсечку до 0.966, чтобы три объекта относились к первому классу.   \n",
        "Теперь 6 из 9 объектов будут классифицированы, как нулевой класс, а три объекта будут отнесены к первому классу."
      ]
    },
    {
      "cell_type": "code",
      "metadata": {
        "colab": {
          "base_uri": "https://localhost:8080/"
        },
        "id": "jPRWKDO41vt4",
        "outputId": "32b2246d-9ddf-4cb2-bea1-d6f0e1fab016"
      },
      "source": [
        "threshold = 0.966\n",
        "df_pred['pred_label'] = (df_pred['proba'] >= threshold).astype('int')\n",
        "\n",
        "df_pred"
      ],
      "execution_count": null,
      "outputs": [
        {
          "output_type": "execute_result",
          "data": {
            "text/html": [
              "<div>\n",
              "<style scoped>\n",
              "    .dataframe tbody tr th:only-of-type {\n",
              "        vertical-align: middle;\n",
              "    }\n",
              "\n",
              "    .dataframe tbody tr th {\n",
              "        vertical-align: top;\n",
              "    }\n",
              "\n",
              "    .dataframe thead th {\n",
              "        text-align: right;\n",
              "    }\n",
              "</style>\n",
              "<table border=\"1\" class=\"dataframe\">\n",
              "  <thead>\n",
              "    <tr style=\"text-align: right;\">\n",
              "      <th></th>\n",
              "      <th>proba</th>\n",
              "      <th>label</th>\n",
              "      <th>pred_label</th>\n",
              "    </tr>\n",
              "  </thead>\n",
              "  <tbody>\n",
              "    <tr>\n",
              "      <th>300</th>\n",
              "      <td>0.000000</td>\n",
              "      <td>0</td>\n",
              "      <td>0</td>\n",
              "    </tr>\n",
              "    <tr>\n",
              "      <th>262</th>\n",
              "      <td>0.000000</td>\n",
              "      <td>0</td>\n",
              "      <td>0</td>\n",
              "    </tr>\n",
              "    <tr>\n",
              "      <th>363</th>\n",
              "      <td>0.000000</td>\n",
              "      <td>1</td>\n",
              "      <td>0</td>\n",
              "    </tr>\n",
              "    <tr>\n",
              "      <th>157</th>\n",
              "      <td>0.000000</td>\n",
              "      <td>1</td>\n",
              "      <td>0</td>\n",
              "    </tr>\n",
              "    <tr>\n",
              "      <th>99</th>\n",
              "      <td>0.545455</td>\n",
              "      <td>0</td>\n",
              "      <td>0</td>\n",
              "    </tr>\n",
              "    <tr>\n",
              "      <th>340</th>\n",
              "      <td>0.849057</td>\n",
              "      <td>1</td>\n",
              "      <td>0</td>\n",
              "    </tr>\n",
              "    <tr>\n",
              "      <th>139</th>\n",
              "      <td>0.966292</td>\n",
              "      <td>1</td>\n",
              "      <td>1</td>\n",
              "    </tr>\n",
              "    <tr>\n",
              "      <th>382</th>\n",
              "      <td>0.968750</td>\n",
              "      <td>1</td>\n",
              "      <td>1</td>\n",
              "    </tr>\n",
              "    <tr>\n",
              "      <th>120</th>\n",
              "      <td>1.000000</td>\n",
              "      <td>1</td>\n",
              "      <td>1</td>\n",
              "    </tr>\n",
              "  </tbody>\n",
              "</table>\n",
              "</div>"
            ],
            "text/plain": [
              "        proba  label  pred_label\n",
              "300  0.000000      0           0\n",
              "262  0.000000      0           0\n",
              "363  0.000000      1           0\n",
              "157  0.000000      1           0\n",
              "99   0.545455      0           0\n",
              "340  0.849057      1           0\n",
              "139  0.966292      1           1\n",
              "382  0.968750      1           1\n",
              "120  1.000000      1           1"
            ]
          },
          "metadata": {},
          "execution_count": 31
        }
      ]
    },
    {
      "cell_type": "markdown",
      "metadata": {
        "id": "FSZtPt991vt6"
      },
      "source": [
        "У нас три классификация и до сих пор они все верные, $\\text{precision} = \\frac{TP}{TP + FP} = \\frac{3}{3 + 0} = 1$\n",
        "\n",
        "И полнота так же увеличивается $\\text{recall} =\\frac{TP}{TP + FN} = \\frac{3}{3 + 3} = 0.5$."
      ]
    },
    {
      "cell_type": "code",
      "metadata": {
        "colab": {
          "base_uri": "https://localhost:8080/"
        },
        "id": "Em0xB0Rg1vt7",
        "outputId": "7d169d8e-9908-4b13-ae11-fab978795ca3"
      },
      "source": [
        "class_1 = df_pred[df_pred.label == 1]\n",
        "class_0 = df_pred[df_pred.label == 0]\n",
        "\n",
        "pred = df_pred['pred_label']\n",
        "\n",
        "precision = precision_score(df_pred['label'], pred)\n",
        "recall = recall_score(df_pred['label'], pred)\n",
        "print('Precision', precision)\n",
        "print('Recall', recall)\n",
        "\n",
        "plt.scatter(np.arange(len(class_1)), class_1['proba'], label='class_1')\n",
        "plt.scatter(np.arange(len(class_1), len(class_1)+len(class_0)), class_0['proba'], label='class_0')\n",
        "plt.plot([-0.2, len(df_pred)], [threshold, threshold], c='b')\n",
        "plt.title('Вероятность быть 1 классом')\n",
        "plt.legend();"
      ],
      "execution_count": null,
      "outputs": [
        {
          "output_type": "stream",
          "name": "stdout",
          "text": [
            "Precision 1.0\n",
            "Recall 0.5\n"
          ]
        },
        {
          "output_type": "display_data",
          "data": {
            "image/png": "[encoded data removed]",
            "text/plain": [
              "<Figure size 432x288 with 1 Axes>"
            ]
          },
          "metadata": {
            "needs_background": "light"
          }
        }
      ]
    },
    {
      "cell_type": "markdown",
      "metadata": {
        "id": "Akb2YgeE1vt8"
      },
      "source": [
        "Эти значения полноты и точности дают нам третью точку - (0.5, 1)."
      ]
    },
    {
      "cell_type": "code",
      "metadata": {
        "colab": {
          "base_uri": "https://localhost:8080/"
        },
        "id": "uahcDjl_1vt9",
        "outputId": "e8d8de93-c182-45d1-dd51-551231eb13eb"
      },
      "source": [
        "recalls.append(recall)\n",
        "precisions.append(precision)\n",
        "\n",
        "plt.plot(recalls, precisions, marker='o')\n",
        "plt.ylim([0, 1.1]);plt.xlim([0, 1.1])\n",
        "plt.xlabel('Recall');plt.ylabel('Precision')\n",
        "plt.title('PR_curve');"
      ],
      "execution_count": null,
      "outputs": [
        {
          "output_type": "display_data",
          "data": {
            "image/png": "[encoded data removed]",
            "text/plain": [
              "<Figure size 432x288 with 1 Axes>"
            ]
          },
          "metadata": {
            "needs_background": "light"
          }
        }
      ]
    },
    {
      "cell_type": "markdown",
      "metadata": {
        "id": "K89J0ScKj1jM"
      },
      "source": [
        "### Отсечка 0.84"
      ]
    },
    {
      "cell_type": "markdown",
      "metadata": {
        "id": "iQt7wuGh2NWa"
      },
      "source": [
        "Ещё делаем меньше отсечку, теперь она равна 0.84, четыре объекта относятся к первому классу по предсказанным вероятностям.   \n",
        "5 из 9 объектов будут классифицированы, как нулевой класс, а четыре объекта классифицированы как первый класс."
      ]
    },
    {
      "cell_type": "code",
      "metadata": {
        "colab": {
          "base_uri": "https://localhost:8080/",
          "height": 328
        },
        "id": "aCfOU6yF2NXK",
        "outputId": "4f8c7f43-7af7-4d82-82c4-29ebc3c7a739"
      },
      "source": [
        "threshold = 0.84\n",
        "df_pred['pred_label'] = (df_pred['proba'] >= threshold).astype('int')\n",
        "\n",
        "df_pred"
      ],
      "execution_count": null,
      "outputs": [
        {
          "output_type": "execute_result",
          "data": {
            "text/html": [
              "<div>\n",
              "<style scoped>\n",
              "    .dataframe tbody tr th:only-of-type {\n",
              "        vertical-align: middle;\n",
              "    }\n",
              "\n",
              "    .dataframe tbody tr th {\n",
              "        vertical-align: top;\n",
              "    }\n",
              "\n",
              "    .dataframe thead th {\n",
              "        text-align: right;\n",
              "    }\n",
              "</style>\n",
              "<table border=\"1\" class=\"dataframe\">\n",
              "  <thead>\n",
              "    <tr style=\"text-align: right;\">\n",
              "      <th></th>\n",
              "      <th>proba</th>\n",
              "      <th>label</th>\n",
              "      <th>pred_label</th>\n",
              "    </tr>\n",
              "  </thead>\n",
              "  <tbody>\n",
              "    <tr>\n",
              "      <th>300</th>\n",
              "      <td>0.000000</td>\n",
              "      <td>0</td>\n",
              "      <td>0</td>\n",
              "    </tr>\n",
              "    <tr>\n",
              "      <th>262</th>\n",
              "      <td>0.000000</td>\n",
              "      <td>0</td>\n",
              "      <td>0</td>\n",
              "    </tr>\n",
              "    <tr>\n",
              "      <th>363</th>\n",
              "      <td>0.000000</td>\n",
              "      <td>1</td>\n",
              "      <td>0</td>\n",
              "    </tr>\n",
              "    <tr>\n",
              "      <th>157</th>\n",
              "      <td>0.000000</td>\n",
              "      <td>1</td>\n",
              "      <td>0</td>\n",
              "    </tr>\n",
              "    <tr>\n",
              "      <th>99</th>\n",
              "      <td>0.545455</td>\n",
              "      <td>0</td>\n",
              "      <td>0</td>\n",
              "    </tr>\n",
              "    <tr>\n",
              "      <th>340</th>\n",
              "      <td>0.849057</td>\n",
              "      <td>1</td>\n",
              "      <td>1</td>\n",
              "    </tr>\n",
              "    <tr>\n",
              "      <th>139</th>\n",
              "      <td>0.966292</td>\n",
              "      <td>1</td>\n",
              "      <td>1</td>\n",
              "    </tr>\n",
              "    <tr>\n",
              "      <th>382</th>\n",
              "      <td>0.968750</td>\n",
              "      <td>1</td>\n",
              "      <td>1</td>\n",
              "    </tr>\n",
              "    <tr>\n",
              "      <th>120</th>\n",
              "      <td>1.000000</td>\n",
              "      <td>1</td>\n",
              "      <td>1</td>\n",
              "    </tr>\n",
              "  </tbody>\n",
              "</table>\n",
              "</div>"
            ],
            "text/plain": [
              "        proba  label  pred_label\n",
              "300  0.000000      0           0\n",
              "262  0.000000      0           0\n",
              "363  0.000000      1           0\n",
              "157  0.000000      1           0\n",
              "99   0.545455      0           0\n",
              "340  0.849057      1           1\n",
              "139  0.966292      1           1\n",
              "382  0.968750      1           1\n",
              "120  1.000000      1           1"
            ]
          },
          "metadata": {},
          "execution_count": 108
        }
      ]
    },
    {
      "cell_type": "markdown",
      "metadata": {
        "id": "he0aRo0f2NXN"
      },
      "source": [
        "Четыре классификации и всё ещё не допустили ошибку ложного срабатывания (FP), $\\text{precision} = \\frac{TP}{TP + FP} = \\frac{4}{4 + 0} = 1$\n",
        "\n",
        "И полнота растёт $\\text{recall} =\\frac{TP}{TP + FN} = \\frac{4}{4 + 2} = 0.667$, остается найти ещё две единицы, тогда recall будет единичным."
      ]
    },
    {
      "cell_type": "code",
      "metadata": {
        "colab": {
          "base_uri": "https://localhost:8080/",
          "height": 326
        },
        "id": "23aHiWic2NXP",
        "outputId": "27a6e101-14d7-4560-e956-14f932cb39c2"
      },
      "source": [
        "class_1 = df_pred[df_pred.label == 1]\n",
        "class_0 = df_pred[df_pred.label == 0]\n",
        "\n",
        "pred = df_pred['pred_label']\n",
        "\n",
        "precision = precision_score(df_pred['label'], pred)\n",
        "recall = recall_score(df_pred['label'], pred)\n",
        "print('Precision', precision)\n",
        "print('Recall', recall)\n",
        "\n",
        "plt.scatter(np.arange(len(class_1)), class_1['proba'], label='class_1')\n",
        "plt.scatter(np.arange(len(class_1), len(class_1)+len(class_0)), class_0['proba'], label='class_0')\n",
        "plt.plot([-0.2, len(df_pred)], [threshold, threshold], c='b')\n",
        "plt.title('Вероятность быть 1 классом')\n",
        "plt.legend();"
      ],
      "execution_count": null,
      "outputs": [
        {
          "output_type": "stream",
          "name": "stdout",
          "text": [
            "Precision 1.0\n",
            "Recall 0.6666666666666666\n"
          ]
        },
        {
          "output_type": "display_data",
          "data": {
            "image/png": "[encoded data removed]",
            "text/plain": [
              "<Figure size 432x288 with 1 Axes>"
            ]
          },
          "metadata": {
            "needs_background": "light"
          }
        }
      ]
    },
    {
      "cell_type": "markdown",
      "metadata": {
        "id": "PNZwHn682NXQ"
      },
      "source": [
        "Эти значения полноты и точности дают нам четвертую точку - (0.667, 1)."
      ]
    },
    {
      "cell_type": "code",
      "metadata": {
        "colab": {
          "base_uri": "https://localhost:8080/",
          "height": 307
        },
        "id": "yEmkZbpE2NXS",
        "outputId": "0adb041f-6bd9-4b08-b3c0-2e05021a53d6"
      },
      "source": [
        "recalls.append(recall)\n",
        "precisions.append(precision)\n",
        "\n",
        "plt.plot(recalls, precisions, marker='o')\n",
        "plt.ylim([0, 1.1]);plt.xlim([0, 1.1])\n",
        "plt.xlabel('Recall');plt.ylabel('Precision')\n",
        "plt.title('PR_curve');"
      ],
      "execution_count": null,
      "outputs": [
        {
          "output_type": "display_data",
          "data": {
            "image/png": "[encoded data removed]",
            "text/plain": [
              "<Figure size 432x288 with 1 Axes>"
            ]
          },
          "metadata": {
            "needs_background": "light"
          }
        }
      ]
    },
    {
      "cell_type": "markdown",
      "metadata": {
        "id": "3lLyLmKFj4Qe"
      },
      "source": [
        "### Отсечка 0.54"
      ]
    },
    {
      "cell_type": "markdown",
      "metadata": {
        "id": "-Ec5v0ot23y3"
      },
      "source": [
        "Резкое снижение отсечки до значения 0.54, пять объектов относятся к первому классу по предсказанным вероятностям, в четыре к нулевому классу.   "
      ]
    },
    {
      "cell_type": "code",
      "metadata": {
        "colab": {
          "base_uri": "https://localhost:8080/",
          "height": 328
        },
        "id": "nuDHo9eu23zl",
        "outputId": "c55ae007-77fb-4f3c-fc4c-f6afef09a60b"
      },
      "source": [
        "threshold = 0.54\n",
        "df_pred['pred_label'] = (df_pred['proba'] >= threshold).astype('int')\n",
        "\n",
        "df_pred"
      ],
      "execution_count": null,
      "outputs": [
        {
          "output_type": "execute_result",
          "data": {
            "text/html": [
              "<div>\n",
              "<style scoped>\n",
              "    .dataframe tbody tr th:only-of-type {\n",
              "        vertical-align: middle;\n",
              "    }\n",
              "\n",
              "    .dataframe tbody tr th {\n",
              "        vertical-align: top;\n",
              "    }\n",
              "\n",
              "    .dataframe thead th {\n",
              "        text-align: right;\n",
              "    }\n",
              "</style>\n",
              "<table border=\"1\" class=\"dataframe\">\n",
              "  <thead>\n",
              "    <tr style=\"text-align: right;\">\n",
              "      <th></th>\n",
              "      <th>proba</th>\n",
              "      <th>label</th>\n",
              "      <th>pred_label</th>\n",
              "    </tr>\n",
              "  </thead>\n",
              "  <tbody>\n",
              "    <tr>\n",
              "      <th>300</th>\n",
              "      <td>0.000000</td>\n",
              "      <td>0</td>\n",
              "      <td>0</td>\n",
              "    </tr>\n",
              "    <tr>\n",
              "      <th>262</th>\n",
              "      <td>0.000000</td>\n",
              "      <td>0</td>\n",
              "      <td>0</td>\n",
              "    </tr>\n",
              "    <tr>\n",
              "      <th>363</th>\n",
              "      <td>0.000000</td>\n",
              "      <td>1</td>\n",
              "      <td>0</td>\n",
              "    </tr>\n",
              "    <tr>\n",
              "      <th>157</th>\n",
              "      <td>0.000000</td>\n",
              "      <td>1</td>\n",
              "      <td>0</td>\n",
              "    </tr>\n",
              "    <tr>\n",
              "      <th>99</th>\n",
              "      <td>0.545455</td>\n",
              "      <td>0</td>\n",
              "      <td>1</td>\n",
              "    </tr>\n",
              "    <tr>\n",
              "      <th>340</th>\n",
              "      <td>0.849057</td>\n",
              "      <td>1</td>\n",
              "      <td>1</td>\n",
              "    </tr>\n",
              "    <tr>\n",
              "      <th>139</th>\n",
              "      <td>0.966292</td>\n",
              "      <td>1</td>\n",
              "      <td>1</td>\n",
              "    </tr>\n",
              "    <tr>\n",
              "      <th>382</th>\n",
              "      <td>0.968750</td>\n",
              "      <td>1</td>\n",
              "      <td>1</td>\n",
              "    </tr>\n",
              "    <tr>\n",
              "      <th>120</th>\n",
              "      <td>1.000000</td>\n",
              "      <td>1</td>\n",
              "      <td>1</td>\n",
              "    </tr>\n",
              "  </tbody>\n",
              "</table>\n",
              "</div>"
            ],
            "text/plain": [
              "        proba  label  pred_label\n",
              "300  0.000000      0           0\n",
              "262  0.000000      0           0\n",
              "363  0.000000      1           0\n",
              "157  0.000000      1           0\n",
              "99   0.545455      0           1\n",
              "340  0.849057      1           1\n",
              "139  0.966292      1           1\n",
              "382  0.968750      1           1\n",
              "120  1.000000      1           1"
            ]
          },
          "metadata": {},
          "execution_count": 111
        }
      ]
    },
    {
      "cell_type": "markdown",
      "metadata": {
        "id": "pR2Fbl6123zo"
      },
      "source": [
        "И наконец-то получаем ошибку ложного срабатывания (FP), объект нулевого класса по мнению модели принадлежит к первому классу с вероятностью 0.5454, что больше нашей отсечки, значит он получает метку первого класса, но ошибочно, точность больше неидеальная: $\\text{precision} = \\frac{TP}{TP + FP} = \\frac{4}{4 + 1} = 0.8$\n",
        "\n",
        "Да и полнота никак не увеличилась, новую единицу не нашли $\\text{recall} =\\frac{TP}{TP + FN} = \\frac{4}{4 + 2} = 0.667$."
      ]
    },
    {
      "cell_type": "code",
      "metadata": {
        "colab": {
          "base_uri": "https://localhost:8080/",
          "height": 326
        },
        "id": "wFhPFWG523zp",
        "outputId": "589167b0-5bcc-4890-f3a6-70ae3eddaf5d"
      },
      "source": [
        "class_1 = df_pred[df_pred.label == 1]\n",
        "class_0 = df_pred[df_pred.label == 0]\n",
        "\n",
        "pred = df_pred['pred_label']\n",
        "\n",
        "precision = precision_score(df_pred['label'], pred)\n",
        "recall = recall_score(df_pred['label'], pred)\n",
        "print('Precision', precision)\n",
        "print('Recall', recall)\n",
        "\n",
        "plt.scatter(np.arange(len(class_1)), class_1['proba'], label='class_1')\n",
        "plt.scatter(np.arange(len(class_1), len(class_1)+len(class_0)), class_0['proba'], label='class_0')\n",
        "plt.plot([-0.2, len(df_pred)], [threshold, threshold], c='b')\n",
        "plt.title('Вероятность быть 1 классом')\n",
        "plt.legend();"
      ],
      "execution_count": null,
      "outputs": [
        {
          "output_type": "stream",
          "name": "stdout",
          "text": [
            "Precision 0.8\n",
            "Recall 0.6666666666666666\n"
          ]
        },
        {
          "output_type": "display_data",
          "data": {
            "image/png": "[encoded data removed]",
            "text/plain": [
              "<Figure size 432x288 with 1 Axes>"
            ]
          },
          "metadata": {
            "needs_background": "light"
          }
        }
      ]
    },
    {
      "cell_type": "markdown",
      "metadata": {
        "id": "vwhJiLRR23zq"
      },
      "source": [
        "Эти значения полноты и точности дают нам пятую точку - (0.667, 0.8)."
      ]
    },
    {
      "cell_type": "code",
      "metadata": {
        "colab": {
          "base_uri": "https://localhost:8080/",
          "height": 307
        },
        "id": "8IwZUH0Y23zr",
        "outputId": "7f20d04b-b93f-4f10-ceee-299c969bffc1"
      },
      "source": [
        "recalls.append(recall)\n",
        "precisions.append(precision)\n",
        "\n",
        "plt.plot(recalls, precisions, marker='o')\n",
        "plt.ylim([0, 1.1]);plt.xlim([0, 1.1])\n",
        "plt.xlabel('Recall');plt.ylabel('Precision')\n",
        "plt.title('PR_curve');"
      ],
      "execution_count": null,
      "outputs": [
        {
          "output_type": "display_data",
          "data": {
            "image/png": "[encoded data removed]",
            "text/plain": [
              "<Figure size 432x288 with 1 Axes>"
            ]
          },
          "metadata": {
            "needs_background": "light"
          }
        }
      ]
    },
    {
      "cell_type": "markdown",
      "metadata": {
        "id": "wPqmVWJYj6_X"
      },
      "source": [
        "### Отсечка 0"
      ]
    },
    {
      "cell_type": "markdown",
      "metadata": {
        "id": "c0um_Bek3oJB"
      },
      "source": [
        "Ещё хотим снизить отсечку в надежде увеличить recall, но получается, что у оставшихся объектов предсказанная вероятность нулевая, так что нам ничего не остается кроме как занулить отсечку и относить к первому классу все объекты из выборки."
      ]
    },
    {
      "cell_type": "code",
      "metadata": {
        "colab": {
          "base_uri": "https://localhost:8080/",
          "height": 328
        },
        "id": "NI6seEQ93oJ5",
        "outputId": "f876a4ad-15d6-4447-ad70-6b438c6beee9"
      },
      "source": [
        "threshold = 0\n",
        "df_pred['pred_label'] = (df_pred['proba'] >= threshold).astype('int')\n",
        "\n",
        "df_pred"
      ],
      "execution_count": null,
      "outputs": [
        {
          "output_type": "execute_result",
          "data": {
            "text/html": [
              "<div>\n",
              "<style scoped>\n",
              "    .dataframe tbody tr th:only-of-type {\n",
              "        vertical-align: middle;\n",
              "    }\n",
              "\n",
              "    .dataframe tbody tr th {\n",
              "        vertical-align: top;\n",
              "    }\n",
              "\n",
              "    .dataframe thead th {\n",
              "        text-align: right;\n",
              "    }\n",
              "</style>\n",
              "<table border=\"1\" class=\"dataframe\">\n",
              "  <thead>\n",
              "    <tr style=\"text-align: right;\">\n",
              "      <th></th>\n",
              "      <th>proba</th>\n",
              "      <th>label</th>\n",
              "      <th>pred_label</th>\n",
              "    </tr>\n",
              "  </thead>\n",
              "  <tbody>\n",
              "    <tr>\n",
              "      <th>300</th>\n",
              "      <td>0.000000</td>\n",
              "      <td>0</td>\n",
              "      <td>1</td>\n",
              "    </tr>\n",
              "    <tr>\n",
              "      <th>262</th>\n",
              "      <td>0.000000</td>\n",
              "      <td>0</td>\n",
              "      <td>1</td>\n",
              "    </tr>\n",
              "    <tr>\n",
              "      <th>363</th>\n",
              "      <td>0.000000</td>\n",
              "      <td>1</td>\n",
              "      <td>1</td>\n",
              "    </tr>\n",
              "    <tr>\n",
              "      <th>157</th>\n",
              "      <td>0.000000</td>\n",
              "      <td>1</td>\n",
              "      <td>1</td>\n",
              "    </tr>\n",
              "    <tr>\n",
              "      <th>99</th>\n",
              "      <td>0.545455</td>\n",
              "      <td>0</td>\n",
              "      <td>1</td>\n",
              "    </tr>\n",
              "    <tr>\n",
              "      <th>340</th>\n",
              "      <td>0.849057</td>\n",
              "      <td>1</td>\n",
              "      <td>1</td>\n",
              "    </tr>\n",
              "    <tr>\n",
              "      <th>139</th>\n",
              "      <td>0.966292</td>\n",
              "      <td>1</td>\n",
              "      <td>1</td>\n",
              "    </tr>\n",
              "    <tr>\n",
              "      <th>382</th>\n",
              "      <td>0.968750</td>\n",
              "      <td>1</td>\n",
              "      <td>1</td>\n",
              "    </tr>\n",
              "    <tr>\n",
              "      <th>120</th>\n",
              "      <td>1.000000</td>\n",
              "      <td>1</td>\n",
              "      <td>1</td>\n",
              "    </tr>\n",
              "  </tbody>\n",
              "</table>\n",
              "</div>"
            ],
            "text/plain": [
              "        proba  label  pred_label\n",
              "300  0.000000      0           1\n",
              "262  0.000000      0           1\n",
              "363  0.000000      1           1\n",
              "157  0.000000      1           1\n",
              "99   0.545455      0           1\n",
              "340  0.849057      1           1\n",
              "139  0.966292      1           1\n",
              "382  0.968750      1           1\n",
              "120  1.000000      1           1"
            ]
          },
          "metadata": {},
          "execution_count": 114
        }
      ]
    },
    {
      "cell_type": "markdown",
      "metadata": {
        "id": "Nd4EoObi3oKB"
      },
      "source": [
        "Имеем много ошибок ложного срабатывания -  3 штуки, но и истинных срабатываний прибавилось, их уже 6 штук $\\text{precision} = \\frac{TP}{TP + FP} = \\frac{6}{6 + 3} = 0.667$\n",
        "\n",
        "А вот полнота единичная, как и хотелось, нашли все объекты первого класса из нашей выборки $\\text{recall} =\\frac{TP}{TP + FN} = \\frac{6}{6 + 0} = 1$."
      ]
    },
    {
      "cell_type": "code",
      "metadata": {
        "colab": {
          "base_uri": "https://localhost:8080/",
          "height": 326
        },
        "id": "jpkLRtj03oKD",
        "outputId": "3d8b4ec9-f9c6-4ba6-e185-e6230477b6cf"
      },
      "source": [
        "class_1 = df_pred[df_pred.label == 1]\n",
        "class_0 = df_pred[df_pred.label == 0]\n",
        "\n",
        "pred = df_pred['pred_label']\n",
        "\n",
        "precision = precision_score(df_pred['label'], pred)\n",
        "recall = recall_score(df_pred['label'], pred)\n",
        "print('Precision', precision)\n",
        "print('Recall', recall)\n",
        "\n",
        "plt.scatter(np.arange(len(class_1)), class_1['proba'], label='class_1')\n",
        "plt.scatter(np.arange(len(class_1), len(class_1)+len(class_0)), class_0['proba'], label='class_0')\n",
        "plt.plot([-0.2, len(df_pred)], [threshold, threshold], c='b')\n",
        "plt.title('Вероятность быть 1 классом')\n",
        "plt.legend();"
      ],
      "execution_count": null,
      "outputs": [
        {
          "output_type": "stream",
          "name": "stdout",
          "text": [
            "Precision 0.6666666666666666\n",
            "Recall 1.0\n"
          ]
        },
        {
          "output_type": "display_data",
          "data": {
            "image/png": "[encoded data removed]",
            "text/plain": [
              "<Figure size 432x288 with 1 Axes>"
            ]
          },
          "metadata": {
            "needs_background": "light"
          }
        }
      ]
    },
    {
      "cell_type": "markdown",
      "metadata": {
        "id": "ZhERmnL43oKF"
      },
      "source": [
        "Эти значения полноты и точности дают нам шестую точку - (1, 0.667)."
      ]
    },
    {
      "cell_type": "code",
      "metadata": {
        "colab": {
          "base_uri": "https://localhost:8080/",
          "height": 307
        },
        "id": "miskQLi43oKG",
        "outputId": "7394b0f8-6357-4e07-8aad-599dd86718c3"
      },
      "source": [
        "recalls.append(recall)\n",
        "precisions.append(precision)\n",
        "\n",
        "plt.plot(recalls, precisions, marker='o')\n",
        "plt.ylim([0, 1.1]);plt.xlim([0, 1.1])\n",
        "plt.xlabel('Recall');plt.ylabel('Precision')\n",
        "plt.title('PR_curve');"
      ],
      "execution_count": null,
      "outputs": [
        {
          "output_type": "display_data",
          "data": {
            "image/png": "[encoded data removed]",
            "text/plain": [
              "<Figure size 432x288 with 1 Axes>"
            ]
          },
          "metadata": {
            "needs_background": "light"
          }
        }
      ]
    },
    {
      "cell_type": "markdown",
      "metadata": {
        "id": "GBndtY01AqI-"
      },
      "source": [
        "Такую же кривую мы могли бы получить через sklearn, если бы вызвали функцию `precision_recall_curve`, на выходе у неё список метрик precision, список метрик recall и список отсечек."
      ]
    },
    {
      "cell_type": "code",
      "metadata": {
        "colab": {
          "base_uri": "https://localhost:8080/",
          "height": 307
        },
        "id": "-oCxddARzbqD",
        "outputId": "a1937a20-cc58-4e7f-87d0-acf53d4a1f99"
      },
      "source": [
        "prs, recs, _ = precision_recall_curve(y_test, pred_proba[:, 1])\n",
        "\n",
        "plt.plot(recs, prs, marker='o')\n",
        "plt.ylim([0, 1.1]);plt.xlim([0, 1.1])\n",
        "plt.xlabel('Recall');plt.ylabel('Precision')\n",
        "plt.title('PR_curve');"
      ],
      "execution_count": null,
      "outputs": [
        {
          "output_type": "display_data",
          "data": {
            "image/png": "[encoded data removed]",
            "text/plain": [
              "<Figure size 432x288 with 1 Axes>"
            ]
          },
          "metadata": {
            "needs_background": "light"
          }
        }
      ]
    },
    {
      "cell_type": "markdown",
      "metadata": {
        "id": "VTZxvGswkD1b"
      },
      "source": [
        "## PR-AUC"
      ]
    },
    {
      "cell_type": "markdown",
      "metadata": {
        "id": "rhPNccfWCaUf"
      },
      "source": [
        "Так же мы можем узнать площадь под данными кривыми, результаты тоже будет одинаковыми.  \n",
        "В данным случае считаем площадь через функцию `auc` (area under curve) из `sklearn`.\n",
        "\n",
        "Получаем одинаковые метрики PR-AUC по нашей задаче."
      ]
    },
    {
      "cell_type": "code",
      "metadata": {
        "colab": {
          "base_uri": "https://localhost:8080/"
        },
        "id": "5gRI7NMKA9_n",
        "outputId": "6e031e62-13af-49b1-a53c-82606607c7c6"
      },
      "source": [
        "from sklearn.metrics import auc\n",
        "\n",
        "auc(recs, prs), auc(recalls, precisions)"
      ],
      "execution_count": null,
      "outputs": [
        {
          "output_type": "execute_result",
          "data": {
            "text/plain": [
              "(0.911111111111111, 0.9111111111111111)"
            ]
          },
          "metadata": {},
          "execution_count": 118
        }
      ]
    },
    {
      "cell_type": "markdown",
      "metadata": {
        "id": "IoHK1woXcHkk"
      },
      "source": [
        "# Summary"
      ]
    },
    {
      "cell_type": "markdown",
      "metadata": {
        "id": "2tMycW_yBts9"
      },
      "source": [
        "В этом занятии посмотрели на PR-кривую и на площадь под ней - метрику PR-AUC. Данные метрики в большинстве своём можно считать только для задач бинарной классификации, т.к. мы оперируем вероятностями быть или не быть целевым классом. Но есть два подхода для решения задач многоклассовой классификации - OVR и OVO, как раз с помощью них и можно считать эти метрики для задач, где классов больше двух."
      ]
    },
    {
      "cell_type": "markdown",
      "metadata": {
        "id": "R4KYbNBiKOIo"
      },
      "source": [
        "<table>\n",
        "\n",
        "<tr>\n",
        "<td>\n",
        "Метрика\n",
        "</td>\n",
        "\n",
        "<td>\n",
        "Область определения\n",
        "</td>\n",
        "\n",
        "<td>\n",
        "Идеал\n",
        "</td>\n",
        "\n",
        "</tr>\n",
        "\n",
        "<tr>\n",
        "<td>\n",
        "PR-curve (PR-кривая)\n",
        "</td>\n",
        "\n",
        "<td>\n",
        "\n",
        "кривая начинается от точки (0,1) и заканчивается<br>в точке с координатой x равной 1.\n",
        "\n",
        "</td>\n",
        "\n",
        "<td>\n",
        "Чем выше кривая, тем лучше алгоритм.\n",
        "</td>\n",
        "\n",
        "</tr>\n",
        "\n",
        "\n",
        "\n",
        "<tr>\n",
        "<td>\n",
        "PR-AUC\n",
        "</td>\n",
        "\n",
        "<td>\n",
        "\n",
        "[0, 1]\n",
        "\n",
        "</td>\n",
        "\n",
        "<td>\n",
        "1\n",
        "\n",
        "</td>\n",
        "\n",
        "</tr>\n",
        "\n",
        "\n",
        "<table>"
      ]
    }
  ]
}