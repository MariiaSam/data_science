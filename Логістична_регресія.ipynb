{
  "nbformat": 4,
  "nbformat_minor": 0,
  "metadata": {
    "colab": {
      "provenance": [],
      "authorship_tag": "ABX9TyMIa0OdELVqMV/nhq4HHuGz",
      "include_colab_link": true
    },
    "kernelspec": {
      "name": "python3",
      "display_name": "Python 3"
    },
    "language_info": {
      "name": "python"
    }
  },
  "cells": [
    {
      "cell_type": "markdown",
      "metadata": {
        "id": "view-in-github",
        "colab_type": "text"
      },
      "source": [
        "<a href=\"https://colab.research.google.com/github/MariiaSam/data_science/blob/main/%D0%9B%D0%BE%D0%B3%D1%96%D1%81%D1%82%D0%B8%D1%87%D0%BD%D0%B0_%D1%80%D0%B5%D0%B3%D1%80%D0%B5%D1%81%D1%96%D1%8F.ipynb\" target=\"_parent\"><img src=\"https://colab.research.google.com/assets/colab-badge.svg\" alt=\"Open In Colab\"/></a>"
      ]
    },
    {
      "cell_type": "code",
      "execution_count": null,
      "metadata": {
        "id": "_62vmt8eyks4"
      },
      "outputs": [],
      "source": [
        "Реалізація логістичної регресії в scikit-learn: простий і ефективний підхід\n",
        "scikit-learn - це потужна бібліотека Python для машинного навчання, яка надає зручні інструменти для реалізації різних алгоритмів, включаючи логістичну регресію. Її використання дозволяє швидко створити і навчити модель, не вдаючись у складні математичні деталі.\n",
        "\n",
        "Основні кроки реалізації:\n",
        "Імпорт необхідних модулів:\n",
        "\n",
        "Python\n",
        "from sklearn.linear_model import LogisticRegression\n",
        "from sklearn.model_selection import train_test_split\n",
        "from sklearn.metrics import accuracy_score\n",
        "Використовуйте цей код обачно.\n",
        "\n",
        "Підготовка даних:\n",
        "\n",
        "Розділення даних на ознаки (X) та мітки (y):\n",
        "Python\n",
        "X = [[feature1, feature2, ...], ...]  # Матриця ознак\n",
        "y = [label1, label2, ...]  # Вектор міток (0 або 1)\n",
        "Використовуйте цей код обачно.\n",
        "\n",
        "Розділення даних на тренувальну і тестову множини:\n",
        "Python\n",
        "X_train, X_test, y_train, y_test = train_test_split(X, y, test_size=0.2, random_state=42)\n",
        "Використовуйте цей код обачно.\n",
        "\n",
        "Створення і навчання моделі:\n",
        "\n",
        "Python\n",
        "model = LogisticRegression()\n",
        "model.fit(X_train, y_train)\n",
        "Використовуйте цей код обачно.\n",
        "\n",
        "Прогнозування на тестових даних:\n",
        "\n",
        "Python\n",
        "y_pred = model.predict(X_test)\n",
        "Використовуйте цей код обачно.\n",
        "\n",
        "Оцінка точності:\n",
        "\n",
        "Python\n",
        "accuracy = accuracy_score(y_test, y_pred)\n",
        "print(\"Точність моделі:\", accuracy)\n",
        "Використовуйте цей код обачно.\n",
        "\n",
        "Приклад повного коду:\n",
        "Python\n",
        "import pandas as pd\n",
        "from sklearn.model_selection import train_test_split\n",
        "from sklearn.linear_model import LogisticRegression\n",
        "from sklearn.metrics import accuracy_score\n",
        "\n",
        "# Завантаження даних (приклад з використанням pandas)\n",
        "data = pd.read_csv(\"your_data.csv\")\n",
        "X = data.drop(\"target\", axis=1)  # Ознаки\n",
        "y = data[\"target\"]  # Мітки\n",
        "\n",
        "# Розділення даних на тренувальну і тестову множини\n",
        "X_train, X_test, y_train, y_test = train_test_split(X, y, test_size=0.2, random_state=42)\n",
        "\n",
        "# Створення і навчання моделі\n",
        "model = LogisticRegression()\n",
        "model.fit(X_train, y_train)\n",
        "\n",
        "# Прогнозування на тестових даних\n",
        "y_pred = model.predict(X_test)\n",
        "\n",
        "# Оцінка точності\n",
        "accuracy = accuracy_score(y_test, y_pred)\n",
        "print(\"Точність моделі:\", accuracy)"
      ]
    }
  ]
}