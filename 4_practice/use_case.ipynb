{
 "cells": [
  {
   "cell_type": "code",
   "execution_count": null,
   "metadata": {},
   "outputs": [],
   "source": [
    "import numpy as np\n",
    "import pandas as pd\n",
    "import matplotlib.pyplot as plt"
   ]
  },
  {
   "cell_type": "code",
   "execution_count": null,
   "metadata": {},
   "outputs": [
    {
     "ename": "",
     "evalue": "",
     "output_type": "error",
     "traceback": [
      "\u001b[1;31mНе удалось подключиться к удаленному серверу Jupyter \"http://localhost:8889/\". Убедитесь, что сервер работает и доступен. (Не удалось подключиться к удаленному серверу Jupyter \"http://localhost:8889/\". Убедитесь, что сервер работает и доступен. (request to http://localhost:8889/api/kernels?1725625053467 failed, reason: ).)."
     ]
    }
   ],
   "source": [
    "# y: expected meat damand for naext week, 1000 kg\n",
    "\n",
    "y = 1\n",
    "df = pd.DataFrame.from_dict({\"store_id\": [1], \"y_meat_demand\": [y]})\n",
    "df"
   ]
  }
 ],
 "metadata": {
  "kernelspec": {
   "display_name": "Python 3 (ipykernel)",
   "language": "python",
   "name": "python3"
  },
  "language_info": {
   "codemirror_mode": {
    "name": "ipython",
    "version": 3
   },
   "file_extension": ".py",
   "mimetype": "text/x-python",
   "name": "python",
   "nbconvert_exporter": "python",
   "pygments_lexer": "ipython3",
   "version": "3.12.4"
  }
 },
 "nbformat": 4,
 "nbformat_minor": 2
}
