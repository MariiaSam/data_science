{
  "nbformat": 4,
  "nbformat_minor": 0,
  "metadata": {
    "colab": {
      "provenance": []
    },
    "kernelspec": {
      "name": "python3",
      "display_name": "Python 3"
    },
    "language_info": {
      "name": "python"
    }
  },
  "cells": [
    {
      "cell_type": "markdown",
      "source": [
        "## Модель кластеризации KMeans"
      ],
      "metadata": {
        "id": "Faqf8pG8itot"
      }
    },
    {
      "cell_type": "markdown",
      "metadata": {
        "id": "oq8LyMncuf_B"
      },
      "source": [
        "## Алгоритм K-means (K-средних)<a class='anchor' id='kmeans'>"
      ]
    },
    {
      "cell_type": "markdown",
      "metadata": {
        "id": "xDbkTkTYuf_F"
      },
      "source": [
        "Вначале сгенерируем три облака точек с помощью `sklearn`."
      ]
    },
    {
      "cell_type": "code",
      "execution_count": null,
      "metadata": {
        "id": "1mmhR0gXuHnq"
      },
      "outputs": [],
      "source": [
        "import matplotlib.pyplot as plt\n",
        "import numpy as np"
      ]
    },
    {
      "cell_type": "code",
      "execution_count": null,
      "metadata": {
        "id": "qRhCTQdZuf_G"
      },
      "outputs": [],
      "source": [
        "from sklearn.datasets import make_blobs\n",
        "\n",
        "X, y = make_blobs(n_samples=100, random_state=10)"
      ]
    },
    {
      "cell_type": "code",
      "execution_count": null,
      "metadata": {
        "id": "I6VqFOARuf_I",
        "outputId": "831235e8-5575-4e00-8730-4227712d2c31",
        "colab": {
          "base_uri": "https://localhost:8080/",
          "height": 428
        }
      },
      "outputs": [
        {
          "output_type": "display_data",
          "data": {
            "text/plain": [
              "<Figure size 504x504 with 1 Axes>"
            ],
            "image/png": "[encoded data removed]"
          },
          "metadata": {
            "needs_background": "light"
          }
        }
      ],
      "source": [
        "plt.figure(figsize=(7, 7))\n",
        "plt.scatter(X[:, 0], X[:, 1]);"
      ]
    },
    {
      "cell_type": "markdown",
      "source": [
        "### Инициализируем центроиды"
      ],
      "metadata": {
        "id": "F2K8ciibza-A"
      }
    },
    {
      "cell_type": "markdown",
      "metadata": {
        "id": "Slqzj4Siuf_C"
      },
      "source": [
        "Алгоритм построения:\n",
        "\n",
        "1. Выбрать количество кластеров $k$, на которые будут делиться данные.\n"
      ]
    },
    {
      "cell_type": "code",
      "source": [
        "k = 3"
      ],
      "metadata": {
        "id": "_4P10Qx6zkeM"
      },
      "execution_count": null,
      "outputs": []
    },
    {
      "cell_type": "markdown",
      "source": [
        "2. Случайным образом выбрать в пространстве данных $k$ точек $c_{k}$ (центроидов) - центров будущих кластеров.\n",
        "\n"
      ],
      "metadata": {
        "id": "T6u8qGCWDxmo"
      }
    },
    {
      "cell_type": "code",
      "source": [
        "np.random.seed(0)\n",
        "centroid_ids = np.random.choice(X.shape[0], k, replace=False)\n",
        "centroid_ids"
      ],
      "metadata": {
        "colab": {
          "base_uri": "https://localhost:8080/"
        },
        "id": "LBaGfvo-zepq",
        "outputId": "8c8d05d1-8bc5-4235-b441-009af74b0eeb"
      },
      "execution_count": null,
      "outputs": [
        {
          "output_type": "execute_result",
          "data": {
            "text/plain": [
              "array([26, 86,  2])"
            ]
          },
          "metadata": {},
          "execution_count": 7
        }
      ]
    },
    {
      "cell_type": "code",
      "source": [
        "centroids = X[centroid_ids]\n",
        "centroids"
      ],
      "metadata": {
        "colab": {
          "base_uri": "https://localhost:8080/"
        },
        "id": "zAIDTcxvywFv",
        "outputId": "1d3c6a0f-f595-4309-edd0-8f73eb518d71"
      },
      "execution_count": null,
      "outputs": [
        {
          "output_type": "execute_result",
          "data": {
            "text/plain": [
              "array([[ 2.52859794,  4.5759393 ],\n",
              "       [-1.45074027, -6.18301386],\n",
              "       [ 2.44301805,  3.84652646]])"
            ]
          },
          "metadata": {},
          "execution_count": 8
        }
      ]
    },
    {
      "cell_type": "code",
      "source": [
        "plt.figure(figsize=(7, 7))\n",
        "plt.scatter(X[:, 0], X[:, 1])\n",
        "plt.scatter(centroids[:, 0], centroids[:, 1], marker='*', s=100);"
      ],
      "metadata": {
        "colab": {
          "base_uri": "https://localhost:8080/",
          "height": 428
        },
        "id": "si-iGWWdzvLq",
        "outputId": "ab693892-5b3c-4f2a-b448-08a3df7cb3cc"
      },
      "execution_count": null,
      "outputs": [
        {
          "output_type": "display_data",
          "data": {
            "text/plain": [
              "<Figure size 504x504 with 1 Axes>"
            ],
            "image/png": "[encoded data removed]"
          },
          "metadata": {
            "needs_background": "light"
          }
        }
      ]
    },
    {
      "cell_type": "markdown",
      "source": [
        "\n",
        "3. Для каждой точки из выборки посчитать, к какому из центроидов она ближе."
      ],
      "metadata": {
        "id": "c32LxnfxD1M1"
      }
    },
    {
      "cell_type": "markdown",
      "metadata": {
        "id": "a421abi0uf_L"
      },
      "source": [
        "В качестве метрики расстояния будем использовать евклидово расстояние\n",
        "\n",
        "$$\\sqrt{\\sum{(x_1 - x_2)^2}}$$"
      ]
    },
    {
      "cell_type": "code",
      "source": [
        "colors = ['green', 'orange', 'red']"
      ],
      "metadata": {
        "id": "sHmKF8_Q24PL"
      },
      "execution_count": null,
      "outputs": []
    },
    {
      "cell_type": "code",
      "source": [
        "idx_1 = 0\n",
        "plt.figure(figsize=(7, 7))\n",
        "plt.scatter(X[idx_1, 0], X[idx_1, 1], s=300)\n",
        "\n",
        "for i, centr in enumerate(centroids):\n",
        "    plt.scatter(centr[0], centr[1], marker='*', s=500, c=colors[i])\n",
        "    plt.text(centr[0]-0.1, centr[1]-0.2, f'{i+1}', fontsize=20);"
      ],
      "metadata": {
        "colab": {
          "base_uri": "https://localhost:8080/",
          "height": 428
        },
        "id": "KfHVIYJ40k3j",
        "outputId": "fd2ad5e9-c8ec-4390-ec70-10b6ee0c90cb"
      },
      "execution_count": null,
      "outputs": [
        {
          "output_type": "display_data",
          "data": {
            "text/plain": [
              "<Figure size 504x504 with 1 Axes>"
            ],
            "image/png": "[encoded data removed]"
          },
          "metadata": {
            "needs_background": "light"
          }
        }
      ]
    },
    {
      "cell_type": "code",
      "source": [
        "np.linalg.norm(centroids - X[idx_1], axis=1)"
      ],
      "metadata": {
        "colab": {
          "base_uri": "https://localhost:8080/"
        },
        "id": "cpB3M7gD0ZCm",
        "outputId": "9e0b8663-ca0e-472a-fb3a-9ee97549663f"
      },
      "execution_count": null,
      "outputs": [
        {
          "output_type": "execute_result",
          "data": {
            "text/plain": [
              "array([12.27614681,  1.01564584, 11.5742295 ])"
            ]
          },
          "metadata": {},
          "execution_count": 15
        }
      ]
    },
    {
      "cell_type": "code",
      "source": [
        "idx_2 = 11\n",
        "\n",
        "plt.figure(figsize=(7, 7))\n",
        "plt.scatter(X[idx_1, 0], X[idx_1, 1], s=300, c=colors[1])\n",
        "plt.scatter(X[idx_2, 0], X[idx_2, 1], s=300)\n",
        "\n",
        "for i, centr in enumerate(centroids):\n",
        "    plt.scatter(centr[0], centr[1], marker='*', s=500, c=colors[i])\n",
        "    plt.text(centr[0]-0.1, centr[1]-0.2, f'{i+1}', fontsize=20);"
      ],
      "metadata": {
        "colab": {
          "base_uri": "https://localhost:8080/",
          "height": 428
        },
        "id": "dc5Jfs7R11vR",
        "outputId": "41d15cd6-e849-4e9f-b088-1951aafc58d3"
      },
      "execution_count": null,
      "outputs": [
        {
          "output_type": "display_data",
          "data": {
            "text/plain": [
              "<Figure size 504x504 with 1 Axes>"
            ],
            "image/png": "[encoded data removed]"
          },
          "metadata": {
            "needs_background": "light"
          }
        }
      ]
    },
    {
      "cell_type": "code",
      "source": [
        "np.linalg.norm(centroids - X[idx_2], axis=1)"
      ],
      "metadata": {
        "colab": {
          "base_uri": "https://localhost:8080/"
        },
        "id": "3pYIyAj-2Mju",
        "outputId": "c1e8348a-320c-4593-cbc9-a7d42b7328d5"
      },
      "execution_count": null,
      "outputs": [
        {
          "output_type": "execute_result",
          "data": {
            "text/plain": [
              "array([ 1.70360812, 12.06653963,  2.16731949])"
            ]
          },
          "metadata": {},
          "execution_count": 17
        }
      ]
    },
    {
      "cell_type": "code",
      "source": [
        "idx_3 = 9\n",
        "\n",
        "plt.figure(figsize=(7, 7))\n",
        "plt.scatter(X[idx_1, 0], X[idx_1, 1], s=300, c=colors[1])\n",
        "plt.scatter(X[idx_2, 0], X[idx_2, 1], s=300, c=colors[0])\n",
        "plt.scatter(X[idx_3, 0], X[idx_3, 1], s=300)\n",
        "\n",
        "for i, centr in enumerate(centroids):\n",
        "    plt.scatter(centr[0], centr[1], marker='*', s=500, c=colors[i])\n",
        "    plt.text(centr[0]-0.1, centr[1]-0.2, f'{i+1}', fontsize=20);"
      ],
      "metadata": {
        "colab": {
          "base_uri": "https://localhost:8080/",
          "height": 428
        },
        "id": "pWshSFTE2Qew",
        "outputId": "98478dff-c65d-4534-ea95-b266502595f7"
      },
      "execution_count": null,
      "outputs": [
        {
          "output_type": "display_data",
          "data": {
            "text/plain": [
              "<Figure size 504x504 with 1 Axes>"
            ],
            "image/png": "[encoded data removed]"
          },
          "metadata": {
            "needs_background": "light"
          }
        }
      ]
    },
    {
      "cell_type": "code",
      "source": [
        "np.linalg.norm(centroids - X[idx_3], axis=1)"
      ],
      "metadata": {
        "colab": {
          "base_uri": "https://localhost:8080/"
        },
        "id": "52LV02Aj2tyi",
        "outputId": "797d3a44-a870-4fa5-c266-f8656968c422"
      },
      "execution_count": null,
      "outputs": [
        {
          "output_type": "execute_result",
          "data": {
            "text/plain": [
              "array([12.1935543 ,  7.21525378, 11.51453993])"
            ]
          },
          "metadata": {},
          "execution_count": 19
        }
      ]
    },
    {
      "cell_type": "code",
      "source": [
        "plt.figure(figsize=(7, 7))\n",
        "plt.scatter(X[idx_1, 0], X[idx_1, 1], s=300, c=colors[1])\n",
        "plt.scatter(X[idx_2, 0], X[idx_2, 1], s=300, c=colors[0])\n",
        "plt.scatter(X[idx_3, 0], X[idx_3, 1], s=300, c=colors[1])\n",
        "\n",
        "for i, centr in enumerate(centroids):\n",
        "    plt.scatter(centr[0], centr[1], marker='*', s=500, c=colors[i])\n",
        "    plt.text(centr[0]-0.1, centr[1]-0.2, f'{i+1}', fontsize=20);"
      ],
      "metadata": {
        "colab": {
          "base_uri": "https://localhost:8080/",
          "height": 428
        },
        "id": "WfR9nEL32w0F",
        "outputId": "45aba515-884f-4b63-eba0-8c30604b349f"
      },
      "execution_count": null,
      "outputs": [
        {
          "output_type": "display_data",
          "data": {
            "text/plain": [
              "<Figure size 504x504 with 1 Axes>"
            ],
            "image/png": "[encoded data removed]"
          },
          "metadata": {
            "needs_background": "light"
          }
        }
      ]
    },
    {
      "cell_type": "markdown",
      "source": [
        "#### Первая итерация обучения"
      ],
      "metadata": {
        "id": "MEJnyQ31fKRw"
      }
    },
    {
      "cell_type": "markdown",
      "source": [
        "Создадим словарь для кластеризации"
      ],
      "metadata": {
        "id": "fZS3jB92LIBZ"
      }
    },
    {
      "cell_type": "code",
      "source": [
        "clusters = {i: [] for i in range(k)}\n",
        "clusters"
      ],
      "metadata": {
        "colab": {
          "base_uri": "https://localhost:8080/"
        },
        "id": "bQBjZ8r70FrR",
        "outputId": "754a1701-78f3-44b5-a1c4-5f65073d2b2f"
      },
      "execution_count": null,
      "outputs": [
        {
          "output_type": "execute_result",
          "data": {
            "text/plain": [
              "{0: [], 1: [], 2: []}"
            ]
          },
          "metadata": {},
          "execution_count": 21
        }
      ]
    },
    {
      "cell_type": "code",
      "source": [
        "for x in X:\n",
        "    distances = np.linalg.norm(centroids - x, axis=1)\n",
        "    cluster_ind = distances.argmin()\n",
        "    clusters[cluster_ind].append(x)\n",
        "\n",
        "clusters"
      ],
      "metadata": {
        "colab": {
          "base_uri": "https://localhost:8080/"
        },
        "id": "ASaLFICM0M9j",
        "outputId": "a2872427-5781-46c2-c4a7-874c99ba01cf"
      },
      "execution_count": null,
      "outputs": [
        {
          "output_type": "execute_result",
          "data": {
            "text/plain": [
              "{0: [array([2.03300209, 5.28990817]),\n",
              "  array([3.37979515, 4.18880872]),\n",
              "  array([3.78067293, 5.22062163]),\n",
              "  array([1.16464321, 5.59667831]),\n",
              "  array([4.32968132, 5.64396726]),\n",
              "  array([2.61105267, 4.22218469]),\n",
              "  array([0.81677922, 4.75330395]),\n",
              "  array([2.52859794, 4.5759393 ]),\n",
              "  array([3.69548081, 5.14288792]),\n",
              "  array([2.37698085, 5.82428626]),\n",
              "  array([1.44712872, 4.75428451]),\n",
              "  array([2.96590542, 4.5052704 ]),\n",
              "  array([2.45717481, 5.96515011]),\n",
              "  array([4.05619693, 5.32231077]),\n",
              "  array([3.90917002, 7.44140273]),\n",
              "  array([2.62413419, 5.36941887]),\n",
              "  array([2.98771848, 7.44372871]),\n",
              "  array([5.0772903 , 4.23672091]),\n",
              "  array([4.65804929, 6.7208918 ]),\n",
              "  array([2.36013594, 4.62719573]),\n",
              "  array([2.23393846, 5.11718182]),\n",
              "  array([4.01289101, 5.00538736]),\n",
              "  array([1.75005543, 5.44582908]),\n",
              "  array([3.38492372, 5.8943468 ]),\n",
              "  array([2.19087156, 5.06566526])],\n",
              " 1: [array([-2.32496308, -6.6999964 ]),\n",
              "  array([ 0.51856831, -4.90086804]),\n",
              "  array([ 5.82662285, -9.92259335]),\n",
              "  array([  6.04774884, -10.30504657]),\n",
              "  array([-0.42084194, -4.24889336]),\n",
              "  array([ 5.69248303, -7.19999368]),\n",
              "  array([  5.15909568, -10.13427003]),\n",
              "  array([ 1.1882891 , -5.56058781]),\n",
              "  array([-0.31748917, -6.86337766]),\n",
              "  array([ 4.28981065, -9.44982413]),\n",
              "  array([ 5.31414039, -9.94714146]),\n",
              "  array([ 4.88653379, -8.87680099]),\n",
              "  array([ 1.95552599, -4.05690149]),\n",
              "  array([ 1.31468967, -5.01055177]),\n",
              "  array([ 5.52556208, -8.18696464]),\n",
              "  array([ 5.69192445, -9.47641249]),\n",
              "  array([ 0.91726632, -6.52637778]),\n",
              "  array([  6.68288513, -10.31693051]),\n",
              "  array([-0.43558928, -4.7222919 ]),\n",
              "  array([ 0.34789333, -3.88965912]),\n",
              "  array([ 0.97700138, -5.7984931 ]),\n",
              "  array([-1.74093095, -4.89176978]),\n",
              "  array([ 5.85943906, -8.38192364]),\n",
              "  array([-1.10955714, -5.62713692]),\n",
              "  array([ 0.24431303, -6.01897701]),\n",
              "  array([  5.55912116, -10.06110303]),\n",
              "  array([ 5.99156553, -9.73238127]),\n",
              "  array([ 4.46134719, -8.55668693]),\n",
              "  array([-1.05461272, -5.34366793]),\n",
              "  array([  6.91094987, -10.6647659 ]),\n",
              "  array([ 2.19518988, -5.38688567]),\n",
              "  array([  3.44868458, -11.32833331]),\n",
              "  array([ 6.55010412, -7.9123388 ]),\n",
              "  array([-0.07790108, -5.98485443]),\n",
              "  array([ 7.82111653, -8.66750208]),\n",
              "  array([ 0.48085466, -5.08976945]),\n",
              "  array([ 6.08664442, -9.9358329 ]),\n",
              "  array([ 5.06391368, -9.7068667 ]),\n",
              "  array([-1.15296379, -5.89279504]),\n",
              "  array([ 0.10327774, -4.30132322]),\n",
              "  array([ 1.13730861, -6.0760439 ]),\n",
              "  array([  6.55519802, -10.28277104]),\n",
              "  array([ 5.655043 , -9.1398234]),\n",
              "  array([ 0.50402506, -4.76009269]),\n",
              "  array([-0.36296092, -6.29545786]),\n",
              "  array([ 0.3024902 , -4.36909392]),\n",
              "  array([ 6.73488595, -9.38994773]),\n",
              "  array([ 0.21475477, -5.68136591]),\n",
              "  array([ 0.91264065, -8.48366386]),\n",
              "  array([ 5.15516488, -8.97175683]),\n",
              "  array([ 5.4307043 , -9.75956122]),\n",
              "  array([ 5.74576929, -9.12405811]),\n",
              "  array([ 4.62182172, -9.79765865]),\n",
              "  array([-0.74265919, -5.76492657]),\n",
              "  array([-1.45074027, -6.18301386]),\n",
              "  array([ 5.08727262, -9.27279108]),\n",
              "  array([ 1.07026962, -4.93971456]),\n",
              "  array([ 0.4310287 , -4.84169308]),\n",
              "  array([  5.19423061, -10.08668991]),\n",
              "  array([  6.47259572, -11.00351704]),\n",
              "  array([  5.34529068, -10.11425709]),\n",
              "  array([ 0.32361786, -5.71134658]),\n",
              "  array([-0.26686394, -5.44678194]),\n",
              "  array([-0.7369312 , -4.95740225]),\n",
              "  array([  4.48697951, -10.07429823]),\n",
              "  array([ 6.2686376 , -9.38138022]),\n",
              "  array([ 5.40050753, -9.29586681])],\n",
              " 2: [array([2.44301805, 3.84652646]),\n",
              "  array([2.94601402, 3.3575069 ]),\n",
              "  array([3.49996332, 3.02156553]),\n",
              "  array([2.09985134, 3.6556301 ]),\n",
              "  array([2.60711685, 2.84436554]),\n",
              "  array([2.89022984, 2.98168388]),\n",
              "  array([1.62783216, 4.17806883]),\n",
              "  array([2.79044036, 3.06862076])]}"
            ]
          },
          "metadata": {},
          "execution_count": 22
        }
      ]
    },
    {
      "cell_type": "code",
      "source": [
        "len(clusters[0]), len(clusters[1]), len(clusters[2])"
      ],
      "metadata": {
        "colab": {
          "base_uri": "https://localhost:8080/"
        },
        "id": "agULOe4zLxbW",
        "outputId": "ba165a59-3e03-4f6e-840e-1e7f79cc2ef9"
      },
      "execution_count": null,
      "outputs": [
        {
          "output_type": "execute_result",
          "data": {
            "text/plain": [
              "(25, 67, 8)"
            ]
          },
          "metadata": {},
          "execution_count": 23
        }
      ]
    },
    {
      "cell_type": "code",
      "source": [
        "plt.figure(figsize=(7, 7))\n",
        "\n",
        "for i in clusters:\n",
        "    for x in clusters[i]:\n",
        "        plt.scatter(x[0], x[1], color=colors[i])\n",
        "\n",
        "for i, centr in enumerate(centroids):\n",
        "    plt.scatter(centr[0], centr[1], marker='*', s=500, c=colors[i])\n",
        "    plt.text(centr[0]-0.1, centr[1]-0.2, f'{i+1}', fontsize=20);"
      ],
      "metadata": {
        "colab": {
          "base_uri": "https://localhost:8080/",
          "height": 428
        },
        "id": "bMfmNcrA4AbT",
        "outputId": "3c8964b1-89d3-403d-8933-af8abcbd11d4"
      },
      "execution_count": null,
      "outputs": [
        {
          "output_type": "display_data",
          "data": {
            "text/plain": [
              "<Figure size 504x504 with 1 Axes>"
            ],
            "image/png": "[encoded data removed]"
          },
          "metadata": {
            "needs_background": "light"
          }
        }
      ]
    },
    {
      "cell_type": "markdown",
      "source": [
        "\n",
        "4. Переместить каждый центроид в центр выборки, отнесенной к этому центроиду, определив его как среднее арифметическое всех точек кластера:\n",
        "\n",
        "$$c_{k} = \\frac{\\sum_{i=1}^{l}[a(x_{i})=k]x_{i}}{\\sum_{i=1}^{l}[a(x_{i}) = k]}.$$\n"
      ],
      "metadata": {
        "id": "hyEUNpogD6i3"
      }
    },
    {
      "cell_type": "markdown",
      "source": [
        "Пересчитаем центроиды как среднее по кластерам\n"
      ],
      "metadata": {
        "id": "tjyax93I6CUs"
      }
    },
    {
      "cell_type": "code",
      "source": [
        "centroids"
      ],
      "metadata": {
        "colab": {
          "base_uri": "https://localhost:8080/"
        },
        "id": "ZecA-l3W6Mvo",
        "outputId": "9a77dea5-b580-4653-cceb-28064f07af20"
      },
      "execution_count": null,
      "outputs": [
        {
          "output_type": "execute_result",
          "data": {
            "text/plain": [
              "array([[ 2.52859794,  4.5759393 ],\n",
              "       [-1.45074027, -6.18301386],\n",
              "       [ 2.44301805,  3.84652646]])"
            ]
          },
          "metadata": {},
          "execution_count": 25
        }
      ]
    },
    {
      "cell_type": "code",
      "source": [
        "new_centroids = {}\n",
        "for cluster in clusters:\n",
        "    new_centroids[cluster] = np.mean(clusters[cluster], axis=0)\n",
        "\n",
        "new_centroids"
      ],
      "metadata": {
        "colab": {
          "base_uri": "https://localhost:8080/"
        },
        "id": "6RoqGZ_Y6Bva",
        "outputId": "a08629e4-b996-4b17-ce36-e53121c2ebc7"
      },
      "execution_count": null,
      "outputs": [
        {
          "output_type": "execute_result",
          "data": {
            "text/plain": [
              "{0: array([2.91329082, 5.33493484]),\n",
              " 1: array([ 2.89504171, -7.53408753]),\n",
              " 2: array([2.61305824, 3.369246  ])}"
            ]
          },
          "metadata": {},
          "execution_count": 26
        }
      ]
    },
    {
      "cell_type": "code",
      "source": [
        "plt.figure(figsize=(7, 7))\n",
        "\n",
        "for i in clusters:\n",
        "    for x in clusters[i]:\n",
        "        plt.scatter(x[0], x[1], color=colors[i])\n",
        "\n",
        "for i, centr in enumerate(centroids):\n",
        "    plt.scatter(centr[0], centr[1], s=80, c=colors[i], marker='*', alpha=0.5, edgecolors='black')\n",
        "\n",
        "for i in new_centroids:\n",
        "    plt.scatter(new_centroids[i][0], new_centroids[i][1], marker='*', s=150, c=colors[i], edgecolors='black')"
      ],
      "metadata": {
        "colab": {
          "base_uri": "https://localhost:8080/",
          "height": 428
        },
        "id": "JU0IFq6C4T80",
        "outputId": "896134e2-0245-4b66-b71c-a6384534a8e9"
      },
      "execution_count": null,
      "outputs": [
        {
          "output_type": "display_data",
          "data": {
            "text/plain": [
              "<Figure size 504x504 with 1 Axes>"
            ],
            "image/png": "[encoded data removed]"
          },
          "metadata": {
            "needs_background": "light"
          }
        }
      ]
    },
    {
      "cell_type": "markdown",
      "source": [
        "#### Вторая итерация обучения"
      ],
      "metadata": {
        "id": "sdbva_hM4Tzm"
      }
    },
    {
      "cell_type": "markdown",
      "source": [
        "\n",
        "5. Повторить шаги 3-4 до сходимости алгоритма (обычно это оценивается по величине смещения центроида после каждого шага - сходимость означает непревышение смещения какого-то заданного значения)."
      ],
      "metadata": {
        "id": "OBLe1q9zD9lv"
      }
    },
    {
      "cell_type": "code",
      "source": [
        "new_centroids = dict(sorted(new_centroids.items()))\n",
        "new_centroids = np.array(list(new_centroids.values()))\n",
        "centroids = new_centroids.copy()\n",
        "centroids"
      ],
      "metadata": {
        "colab": {
          "base_uri": "https://localhost:8080/"
        },
        "id": "2wBR8yK7-BKT",
        "outputId": "442b813b-4bda-4119-e2b5-1b4a50a0fcfc"
      },
      "execution_count": null,
      "outputs": [
        {
          "output_type": "execute_result",
          "data": {
            "text/plain": [
              "array([[ 2.91329082,  5.33493484],\n",
              "       [ 2.89504171, -7.53408753],\n",
              "       [ 2.61305824,  3.369246  ]])"
            ]
          },
          "metadata": {},
          "execution_count": 32
        }
      ]
    },
    {
      "cell_type": "code",
      "source": [
        "clusters = {i: [] for i in range(k)}\n",
        "clusters"
      ],
      "metadata": {
        "colab": {
          "base_uri": "https://localhost:8080/"
        },
        "id": "Wix9W3dAL_WB",
        "outputId": "f943918a-119e-4ff0-f235-eee9d9c31795"
      },
      "execution_count": null,
      "outputs": [
        {
          "output_type": "execute_result",
          "data": {
            "text/plain": [
              "{0: [], 1: [], 2: []}"
            ]
          },
          "metadata": {},
          "execution_count": 33
        }
      ]
    },
    {
      "cell_type": "code",
      "source": [
        "for x in X:\n",
        "    distances = np.linalg.norm(centroids - x, axis=1)\n",
        "    cluster_ind = distances.argmin()\n",
        "    clusters[cluster_ind].append(x)\n",
        "\n",
        "clusters"
      ],
      "metadata": {
        "colab": {
          "base_uri": "https://localhost:8080/"
        },
        "id": "2pe3DbG292YE",
        "outputId": "6d0f7828-36f5-4c1f-eecd-bc3aa20f8316"
      },
      "execution_count": null,
      "outputs": [
        {
          "output_type": "execute_result",
          "data": {
            "text/plain": [
              "{0: [array([2.03300209, 5.28990817]),\n",
              "  array([3.78067293, 5.22062163]),\n",
              "  array([1.16464321, 5.59667831]),\n",
              "  array([4.32968132, 5.64396726]),\n",
              "  array([0.81677922, 4.75330395]),\n",
              "  array([2.52859794, 4.5759393 ]),\n",
              "  array([3.69548081, 5.14288792]),\n",
              "  array([2.37698085, 5.82428626]),\n",
              "  array([1.44712872, 4.75428451]),\n",
              "  array([2.96590542, 4.5052704 ]),\n",
              "  array([2.45717481, 5.96515011]),\n",
              "  array([4.05619693, 5.32231077]),\n",
              "  array([3.90917002, 7.44140273]),\n",
              "  array([2.62413419, 5.36941887]),\n",
              "  array([2.98771848, 7.44372871]),\n",
              "  array([5.0772903 , 4.23672091]),\n",
              "  array([4.65804929, 6.7208918 ]),\n",
              "  array([2.36013594, 4.62719573]),\n",
              "  array([2.23393846, 5.11718182]),\n",
              "  array([4.01289101, 5.00538736]),\n",
              "  array([1.75005543, 5.44582908]),\n",
              "  array([3.38492372, 5.8943468 ]),\n",
              "  array([2.19087156, 5.06566526])],\n",
              " 1: [array([-2.32496308, -6.6999964 ]),\n",
              "  array([ 0.51856831, -4.90086804]),\n",
              "  array([ 5.82662285, -9.92259335]),\n",
              "  array([  6.04774884, -10.30504657]),\n",
              "  array([-0.42084194, -4.24889336]),\n",
              "  array([ 5.69248303, -7.19999368]),\n",
              "  array([  5.15909568, -10.13427003]),\n",
              "  array([ 1.1882891 , -5.56058781]),\n",
              "  array([-0.31748917, -6.86337766]),\n",
              "  array([ 4.28981065, -9.44982413]),\n",
              "  array([ 5.31414039, -9.94714146]),\n",
              "  array([ 4.88653379, -8.87680099]),\n",
              "  array([ 1.95552599, -4.05690149]),\n",
              "  array([ 1.31468967, -5.01055177]),\n",
              "  array([ 5.52556208, -8.18696464]),\n",
              "  array([ 5.69192445, -9.47641249]),\n",
              "  array([ 0.91726632, -6.52637778]),\n",
              "  array([  6.68288513, -10.31693051]),\n",
              "  array([-0.43558928, -4.7222919 ]),\n",
              "  array([ 0.34789333, -3.88965912]),\n",
              "  array([ 0.97700138, -5.7984931 ]),\n",
              "  array([-1.74093095, -4.89176978]),\n",
              "  array([ 5.85943906, -8.38192364]),\n",
              "  array([-1.10955714, -5.62713692]),\n",
              "  array([ 0.24431303, -6.01897701]),\n",
              "  array([  5.55912116, -10.06110303]),\n",
              "  array([ 5.99156553, -9.73238127]),\n",
              "  array([ 4.46134719, -8.55668693]),\n",
              "  array([-1.05461272, -5.34366793]),\n",
              "  array([  6.91094987, -10.6647659 ]),\n",
              "  array([ 2.19518988, -5.38688567]),\n",
              "  array([  3.44868458, -11.32833331]),\n",
              "  array([ 6.55010412, -7.9123388 ]),\n",
              "  array([-0.07790108, -5.98485443]),\n",
              "  array([ 7.82111653, -8.66750208]),\n",
              "  array([ 0.48085466, -5.08976945]),\n",
              "  array([ 6.08664442, -9.9358329 ]),\n",
              "  array([ 5.06391368, -9.7068667 ]),\n",
              "  array([-1.15296379, -5.89279504]),\n",
              "  array([ 0.10327774, -4.30132322]),\n",
              "  array([ 1.13730861, -6.0760439 ]),\n",
              "  array([  6.55519802, -10.28277104]),\n",
              "  array([ 5.655043 , -9.1398234]),\n",
              "  array([ 0.50402506, -4.76009269]),\n",
              "  array([-0.36296092, -6.29545786]),\n",
              "  array([ 0.3024902 , -4.36909392]),\n",
              "  array([ 6.73488595, -9.38994773]),\n",
              "  array([ 0.21475477, -5.68136591]),\n",
              "  array([ 0.91264065, -8.48366386]),\n",
              "  array([ 5.15516488, -8.97175683]),\n",
              "  array([ 5.4307043 , -9.75956122]),\n",
              "  array([ 5.74576929, -9.12405811]),\n",
              "  array([ 4.62182172, -9.79765865]),\n",
              "  array([-0.74265919, -5.76492657]),\n",
              "  array([-1.45074027, -6.18301386]),\n",
              "  array([ 5.08727262, -9.27279108]),\n",
              "  array([ 1.07026962, -4.93971456]),\n",
              "  array([ 0.4310287 , -4.84169308]),\n",
              "  array([  5.19423061, -10.08668991]),\n",
              "  array([  6.47259572, -11.00351704]),\n",
              "  array([  5.34529068, -10.11425709]),\n",
              "  array([ 0.32361786, -5.71134658]),\n",
              "  array([-0.26686394, -5.44678194]),\n",
              "  array([-0.7369312 , -4.95740225]),\n",
              "  array([  4.48697951, -10.07429823]),\n",
              "  array([ 6.2686376 , -9.38138022]),\n",
              "  array([ 5.40050753, -9.29586681])],\n",
              " 2: [array([2.44301805, 3.84652646]),\n",
              "  array([3.37979515, 4.18880872]),\n",
              "  array([2.94601402, 3.3575069 ]),\n",
              "  array([3.49996332, 3.02156553]),\n",
              "  array([2.61105267, 4.22218469]),\n",
              "  array([2.09985134, 3.6556301 ]),\n",
              "  array([2.60711685, 2.84436554]),\n",
              "  array([2.89022984, 2.98168388]),\n",
              "  array([1.62783216, 4.17806883]),\n",
              "  array([2.79044036, 3.06862076])]}"
            ]
          },
          "metadata": {},
          "execution_count": 34
        }
      ]
    },
    {
      "cell_type": "code",
      "source": [
        "len(clusters[0]), len(clusters[1]), len(clusters[2])"
      ],
      "metadata": {
        "colab": {
          "base_uri": "https://localhost:8080/"
        },
        "id": "cHZRUVWlL8Ps",
        "outputId": "bb9cc348-9951-4a90-b201-9ddfe5e2df86"
      },
      "execution_count": null,
      "outputs": [
        {
          "output_type": "execute_result",
          "data": {
            "text/plain": [
              "(23, 67, 10)"
            ]
          },
          "metadata": {},
          "execution_count": 35
        }
      ]
    },
    {
      "cell_type": "code",
      "source": [
        "new_centroids = {}\n",
        "for cluster in clusters:\n",
        "    new_centroids[cluster] = np.mean(clusters[cluster], axis=0)\n",
        "\n",
        "new_centroids"
      ],
      "metadata": {
        "colab": {
          "base_uri": "https://localhost:8080/"
        },
        "id": "S3zzcpAe_Rin",
        "outputId": "cf5389db-cd29-41a0-923b-7eb2e0819a4b"
      },
      "execution_count": null,
      "outputs": [
        {
          "output_type": "execute_result",
          "data": {
            "text/plain": [
              "{0: array([2.90614881, 5.43314686]),\n",
              " 1: array([ 2.89504171, -7.53408753]),\n",
              " 2: array([2.68953138, 3.53649614])}"
            ]
          },
          "metadata": {},
          "execution_count": 36
        }
      ]
    },
    {
      "cell_type": "code",
      "source": [
        "plt.figure(figsize=(7, 7))\n",
        "\n",
        "for i in clusters:\n",
        "    for x in clusters[i]:\n",
        "        plt.scatter(x[0], x[1], color=colors[i])\n",
        "\n",
        "for i, centr in enumerate(centroids):\n",
        "    plt.scatter(centr[0], centr[1], marker='*', s=500, c=colors[i])\n",
        "\n",
        "for i in new_centroids:\n",
        "    plt.scatter(new_centroids[i][0], new_centroids[i][1], marker='*', s=150, c=colors[i], edgecolors='black')"
      ],
      "metadata": {
        "colab": {
          "base_uri": "https://localhost:8080/",
          "height": 428
        },
        "id": "ILQIKUcH-svv",
        "outputId": "76de8106-765e-44a7-f740-c630f3bdd0ae"
      },
      "execution_count": null,
      "outputs": [
        {
          "output_type": "display_data",
          "data": {
            "text/plain": [
              "<Figure size 504x504 with 1 Axes>"
            ],
            "image/png": "[encoded data removed]"
          },
          "metadata": {
            "needs_background": "light"
          }
        }
      ]
    },
    {
      "cell_type": "markdown",
      "source": [
        "### Функция для обучения KMeans"
      ],
      "metadata": {
        "id": "oQ1d_0ZN92TE"
      }
    },
    {
      "cell_type": "code",
      "source": [
        "from tqdm import tqdm\n",
        "\n",
        "def KMeans(X, k=3, num_iter=10):\n",
        "    np.random.seed(0)\n",
        "    centroid_ids = np.random.choice(X.shape[0], k, replace=False)\n",
        "    centroids = X[centroid_ids]\n",
        "\n",
        "    for i in tqdm(range(num_iter)):\n",
        "        clusters = {i: [] for i in range(k)}\n",
        "\n",
        "        for x in X:\n",
        "            distances = np.linalg.norm(centroids - x, axis=1)\n",
        "            cluster_ind = distances.argmin()\n",
        "            clusters[cluster_ind].append(x)\n",
        "\n",
        "        new_centroids = {}\n",
        "        for cluster in clusters:\n",
        "            new_centroids[cluster] = np.mean(clusters[cluster], axis=0)\n",
        "\n",
        "        new_centroids = dict(sorted(new_centroids.items()))\n",
        "        new_centroids = np.array(list(new_centroids.values()))\n",
        "        centroids = new_centroids.copy()\n",
        "\n",
        "    return centroids, clusters"
      ],
      "metadata": {
        "id": "UVFYzA3n_g7F"
      },
      "execution_count": null,
      "outputs": []
    },
    {
      "cell_type": "code",
      "source": [
        "centroids, clusters = KMeans(X)\n",
        "centroids"
      ],
      "metadata": {
        "colab": {
          "base_uri": "https://localhost:8080/"
        },
        "id": "It2WN6vE_Z7j",
        "outputId": "6abd6964-be1f-4f44-9ce5-d842660b337b"
      },
      "execution_count": null,
      "outputs": [
        {
          "output_type": "stream",
          "name": "stderr",
          "text": [
            "100%|██████████| 10/10 [00:00<00:00, 525.94it/s]\n"
          ]
        },
        {
          "output_type": "execute_result",
          "data": {
            "text/plain": [
              "array([[ 2.90614881,  5.43314686],\n",
              "       [ 2.89504171, -7.53408753],\n",
              "       [ 2.68953138,  3.53649614]])"
            ]
          },
          "metadata": {},
          "execution_count": 42
        }
      ]
    },
    {
      "cell_type": "code",
      "source": [
        "clusters"
      ],
      "metadata": {
        "colab": {
          "base_uri": "https://localhost:8080/"
        },
        "id": "lFpBT9DiAc80",
        "outputId": "0af9f7e4-5aec-4877-ab2a-b7e1ac16552e"
      },
      "execution_count": null,
      "outputs": [
        {
          "output_type": "execute_result",
          "data": {
            "text/plain": [
              "{0: [array([2.03300209, 5.28990817]),\n",
              "  array([3.78067293, 5.22062163]),\n",
              "  array([1.16464321, 5.59667831]),\n",
              "  array([4.32968132, 5.64396726]),\n",
              "  array([0.81677922, 4.75330395]),\n",
              "  array([2.52859794, 4.5759393 ]),\n",
              "  array([3.69548081, 5.14288792]),\n",
              "  array([2.37698085, 5.82428626]),\n",
              "  array([1.44712872, 4.75428451]),\n",
              "  array([2.96590542, 4.5052704 ]),\n",
              "  array([2.45717481, 5.96515011]),\n",
              "  array([4.05619693, 5.32231077]),\n",
              "  array([3.90917002, 7.44140273]),\n",
              "  array([2.62413419, 5.36941887]),\n",
              "  array([2.98771848, 7.44372871]),\n",
              "  array([5.0772903 , 4.23672091]),\n",
              "  array([4.65804929, 6.7208918 ]),\n",
              "  array([2.36013594, 4.62719573]),\n",
              "  array([2.23393846, 5.11718182]),\n",
              "  array([4.01289101, 5.00538736]),\n",
              "  array([1.75005543, 5.44582908]),\n",
              "  array([3.38492372, 5.8943468 ]),\n",
              "  array([2.19087156, 5.06566526])],\n",
              " 1: [array([-2.32496308, -6.6999964 ]),\n",
              "  array([ 0.51856831, -4.90086804]),\n",
              "  array([ 5.82662285, -9.92259335]),\n",
              "  array([  6.04774884, -10.30504657]),\n",
              "  array([-0.42084194, -4.24889336]),\n",
              "  array([ 5.69248303, -7.19999368]),\n",
              "  array([  5.15909568, -10.13427003]),\n",
              "  array([ 1.1882891 , -5.56058781]),\n",
              "  array([-0.31748917, -6.86337766]),\n",
              "  array([ 4.28981065, -9.44982413]),\n",
              "  array([ 5.31414039, -9.94714146]),\n",
              "  array([ 4.88653379, -8.87680099]),\n",
              "  array([ 1.95552599, -4.05690149]),\n",
              "  array([ 1.31468967, -5.01055177]),\n",
              "  array([ 5.52556208, -8.18696464]),\n",
              "  array([ 5.69192445, -9.47641249]),\n",
              "  array([ 0.91726632, -6.52637778]),\n",
              "  array([  6.68288513, -10.31693051]),\n",
              "  array([-0.43558928, -4.7222919 ]),\n",
              "  array([ 0.34789333, -3.88965912]),\n",
              "  array([ 0.97700138, -5.7984931 ]),\n",
              "  array([-1.74093095, -4.89176978]),\n",
              "  array([ 5.85943906, -8.38192364]),\n",
              "  array([-1.10955714, -5.62713692]),\n",
              "  array([ 0.24431303, -6.01897701]),\n",
              "  array([  5.55912116, -10.06110303]),\n",
              "  array([ 5.99156553, -9.73238127]),\n",
              "  array([ 4.46134719, -8.55668693]),\n",
              "  array([-1.05461272, -5.34366793]),\n",
              "  array([  6.91094987, -10.6647659 ]),\n",
              "  array([ 2.19518988, -5.38688567]),\n",
              "  array([  3.44868458, -11.32833331]),\n",
              "  array([ 6.55010412, -7.9123388 ]),\n",
              "  array([-0.07790108, -5.98485443]),\n",
              "  array([ 7.82111653, -8.66750208]),\n",
              "  array([ 0.48085466, -5.08976945]),\n",
              "  array([ 6.08664442, -9.9358329 ]),\n",
              "  array([ 5.06391368, -9.7068667 ]),\n",
              "  array([-1.15296379, -5.89279504]),\n",
              "  array([ 0.10327774, -4.30132322]),\n",
              "  array([ 1.13730861, -6.0760439 ]),\n",
              "  array([  6.55519802, -10.28277104]),\n",
              "  array([ 5.655043 , -9.1398234]),\n",
              "  array([ 0.50402506, -4.76009269]),\n",
              "  array([-0.36296092, -6.29545786]),\n",
              "  array([ 0.3024902 , -4.36909392]),\n",
              "  array([ 6.73488595, -9.38994773]),\n",
              "  array([ 0.21475477, -5.68136591]),\n",
              "  array([ 0.91264065, -8.48366386]),\n",
              "  array([ 5.15516488, -8.97175683]),\n",
              "  array([ 5.4307043 , -9.75956122]),\n",
              "  array([ 5.74576929, -9.12405811]),\n",
              "  array([ 4.62182172, -9.79765865]),\n",
              "  array([-0.74265919, -5.76492657]),\n",
              "  array([-1.45074027, -6.18301386]),\n",
              "  array([ 5.08727262, -9.27279108]),\n",
              "  array([ 1.07026962, -4.93971456]),\n",
              "  array([ 0.4310287 , -4.84169308]),\n",
              "  array([  5.19423061, -10.08668991]),\n",
              "  array([  6.47259572, -11.00351704]),\n",
              "  array([  5.34529068, -10.11425709]),\n",
              "  array([ 0.32361786, -5.71134658]),\n",
              "  array([-0.26686394, -5.44678194]),\n",
              "  array([-0.7369312 , -4.95740225]),\n",
              "  array([  4.48697951, -10.07429823]),\n",
              "  array([ 6.2686376 , -9.38138022]),\n",
              "  array([ 5.40050753, -9.29586681])],\n",
              " 2: [array([2.44301805, 3.84652646]),\n",
              "  array([3.37979515, 4.18880872]),\n",
              "  array([2.94601402, 3.3575069 ]),\n",
              "  array([3.49996332, 3.02156553]),\n",
              "  array([2.61105267, 4.22218469]),\n",
              "  array([2.09985134, 3.6556301 ]),\n",
              "  array([2.60711685, 2.84436554]),\n",
              "  array([2.89022984, 2.98168388]),\n",
              "  array([1.62783216, 4.17806883]),\n",
              "  array([2.79044036, 3.06862076])]}"
            ]
          },
          "metadata": {},
          "execution_count": 43
        }
      ]
    },
    {
      "cell_type": "code",
      "source": [
        "plt.figure(figsize=(7, 7))\n",
        "\n",
        "for i in clusters:\n",
        "    for x in clusters[i]:\n",
        "        plt.scatter(x[0], x[1], color=colors[i])\n",
        "\n",
        "for i, centr in enumerate(centroids):\n",
        "    plt.scatter(centr[0], centr[1], marker='*', s=500, c=colors[i])"
      ],
      "metadata": {
        "colab": {
          "base_uri": "https://localhost:8080/",
          "height": 428
        },
        "id": "7GDoJsOXAMS1",
        "outputId": "fba35430-75cd-4948-ebe1-4a18fb99f59c"
      },
      "execution_count": null,
      "outputs": [
        {
          "output_type": "display_data",
          "data": {
            "text/plain": [
              "<Figure size 504x504 with 1 Axes>"
            ],
            "image/png": "[encoded data removed]"
          },
          "metadata": {
            "needs_background": "light"
          }
        }
      ]
    },
    {
      "cell_type": "markdown",
      "source": [
        "### Функция для обучения KMeans с критерием останова"
      ],
      "metadata": {
        "id": "yNsaknC3A3g3"
      }
    },
    {
      "cell_type": "code",
      "source": [
        "def KMeans(X, k=3, num_iter=10, min_distance=1e-4, seed=0):\n",
        "    np.random.seed(seed)\n",
        "    centroid_ids = np.random.choice(X.shape[0], k, replace=False)\n",
        "    centroids = X[centroid_ids]\n",
        "\n",
        "    for i in range(num_iter):\n",
        "        clusters = {i: [] for i in range(k)}\n",
        "\n",
        "        for x in X:\n",
        "            distances = np.linalg.norm(centroids - x, axis=1)\n",
        "            cluster_ind = distances.argmin()\n",
        "            clusters[cluster_ind].append(x)\n",
        "\n",
        "        new_centroids = {}\n",
        "        for cluster in clusters:\n",
        "            new_centroids[cluster] = np.mean(clusters[cluster], axis=0)\n",
        "\n",
        "        new_centroids = dict(sorted(new_centroids.items()))\n",
        "        new_centroids = np.array(list(new_centroids.values()))\n",
        "\n",
        "        print(len(clusters[0]), len(clusters[1]), len(clusters[2]))\n",
        "        print(new_centroids)\n",
        "\n",
        "        is_stop = True\n",
        "        for clust in range(len(centroids)):\n",
        "            if np.linalg.norm(centroids[clust] - new_centroids[clust]) > min_distance:\n",
        "                is_stop = False\n",
        "                break\n",
        "        if is_stop:\n",
        "            print(f'stopping at iter {i}')\n",
        "            break\n",
        "\n",
        "        centroids = new_centroids.copy()\n",
        "\n",
        "    return centroids, clusters"
      ],
      "metadata": {
        "id": "b5W2jDPuBE-g"
      },
      "execution_count": null,
      "outputs": []
    },
    {
      "cell_type": "code",
      "source": [
        "centroids, clusters = KMeans(X)\n",
        "centroids"
      ],
      "metadata": {
        "colab": {
          "base_uri": "https://localhost:8080/"
        },
        "id": "7LvC8VHdCOaS",
        "outputId": "acfbdf71-1dd7-48d8-cc0a-2380e05cd2f4"
      },
      "execution_count": null,
      "outputs": [
        {
          "output_type": "stream",
          "name": "stdout",
          "text": [
            "25 67 8\n",
            "[[ 2.91329082  5.33493484]\n",
            " [ 2.89504171 -7.53408753]\n",
            " [ 2.61305824  3.369246  ]]\n",
            "23 67 10\n",
            "[[ 2.90614881  5.43314686]\n",
            " [ 2.89504171 -7.53408753]\n",
            " [ 2.68953138  3.53649614]]\n",
            "23 67 10\n",
            "[[ 2.90614881  5.43314686]\n",
            " [ 2.89504171 -7.53408753]\n",
            " [ 2.68953138  3.53649614]]\n",
            "stopping at iter 2\n"
          ]
        },
        {
          "output_type": "execute_result",
          "data": {
            "text/plain": [
              "array([[ 2.90614881,  5.43314686],\n",
              "       [ 2.89504171, -7.53408753],\n",
              "       [ 2.68953138,  3.53649614]])"
            ]
          },
          "metadata": {},
          "execution_count": 48
        }
      ]
    },
    {
      "cell_type": "code",
      "source": [
        "centr1 = np.array([[ 2.91329082,  5.33493484],\n",
        "                   [ 2.89504171, -7.53408753],\n",
        "                   [ 2.61305824,  3.369246  ]])\n",
        "centr2 = np.array([[ 2.90614881,  5.43314686],\n",
        "                   [ 2.89504171, -7.53408753],\n",
        "                   [ 2.68953138,  3.53649614]])\n",
        "centr3 = np.array([[ 2.90614881,  5.43314686],\n",
        "                   [ 2.89504171, -7.53408753],\n",
        "                   [ 2.68953138,  3.53649614]])"
      ],
      "metadata": {
        "id": "Bkqt4fYPDONR"
      },
      "execution_count": null,
      "outputs": []
    },
    {
      "cell_type": "code",
      "source": [
        "plt.figure(figsize=(7, 7))\n",
        "\n",
        "for i, centr in enumerate(centr1):\n",
        "    # plt.scatter(centr1[i][0], centr1[i][1], marker='*', s=100, c=colors[i])\n",
        "    plt.scatter(centr2[i][0], centr2[i][1], marker='^', s=100, c=colors[i])\n",
        "    plt.scatter(centr3[i][0], centr3[i][1], marker='o', s=100, c=colors[i])"
      ],
      "metadata": {
        "colab": {
          "base_uri": "https://localhost:8080/",
          "height": 430
        },
        "id": "dJgwUoWhDJ5A",
        "outputId": "6b4ec873-80ca-4747-80f9-2222ac8b760e"
      },
      "execution_count": null,
      "outputs": [
        {
          "output_type": "display_data",
          "data": {
            "text/plain": [
              "<Figure size 504x504 with 1 Axes>"
            ],
            "image/png": "[encoded data removed]"
          },
          "metadata": {
            "needs_background": "light"
          }
        }
      ]
    },
    {
      "cell_type": "code",
      "source": [
        "np.linalg.norm(centr2[0] - centr3[0])"
      ],
      "metadata": {
        "colab": {
          "base_uri": "https://localhost:8080/"
        },
        "id": "o8DOIm2JEhgE",
        "outputId": "96a1cc5e-e8ae-4648-ac8d-48cdf18a5e33"
      },
      "execution_count": null,
      "outputs": [
        {
          "output_type": "execute_result",
          "data": {
            "text/plain": [
              "0.0"
            ]
          },
          "metadata": {},
          "execution_count": 52
        }
      ]
    },
    {
      "cell_type": "markdown",
      "source": [
        "Поменяем seed для другой инициализации стартовых центроид"
      ],
      "metadata": {
        "id": "6TU6IlGlNWAc"
      }
    },
    {
      "cell_type": "code",
      "source": [
        "centroids, clusters = KMeans(X, seed=1)\n",
        "centroids"
      ],
      "metadata": {
        "colab": {
          "base_uri": "https://localhost:8080/"
        },
        "id": "Gj0pwv0zNg8u",
        "outputId": "8512fc50-0cf7-40e4-d57f-4051fb0399be"
      },
      "execution_count": null,
      "outputs": [
        {
          "output_type": "stream",
          "name": "stdout",
          "text": [
            "26 66 8\n",
            "[[  5.29660654  -9.38045292]\n",
            " [  1.46485965  -0.3030066 ]\n",
            " [  6.66400306 -10.07078922]]\n",
            "29 61 10\n",
            "[[ 4.49298218 -8.90049529]\n",
            " [ 1.50550525  0.21865431]\n",
            " [ 6.55722276 -9.96800753]]\n",
            "33 48 19\n",
            "[[ 2.34915724 -7.50785928]\n",
            " [ 1.95733764  1.86223045]\n",
            " [ 6.11737555 -9.79390688]]\n",
            "33 33 34\n",
            "[[ 0.08921213 -5.46441742]\n",
            " [ 2.84050716  4.85840422]\n",
            " [ 5.6183469  -9.54288499]]\n",
            "33 33 34\n",
            "[[ 0.08921213 -5.46441742]\n",
            " [ 2.84050716  4.85840422]\n",
            " [ 5.6183469  -9.54288499]]\n",
            "stopping at iter 4\n"
          ]
        },
        {
          "output_type": "execute_result",
          "data": {
            "text/plain": [
              "array([[ 0.08921213, -5.46441742],\n",
              "       [ 2.84050716,  4.85840422],\n",
              "       [ 5.6183469 , -9.54288499]])"
            ]
          },
          "metadata": {},
          "execution_count": 53
        }
      ]
    },
    {
      "cell_type": "code",
      "source": [
        "plt.figure(figsize=(7, 7))\n",
        "\n",
        "for i in clusters:\n",
        "    for x in clusters[i]:\n",
        "        plt.scatter(x[0], x[1], color=colors[i])\n",
        "\n",
        "for i, centr in enumerate(centroids):\n",
        "    plt.scatter(centr[0], centr[1], marker='*', s=500, c=colors[i])\n",
        "    plt.text(centr[0]-0.1, centr[1]-0.2, f'{i+1}', fontsize=20);"
      ],
      "metadata": {
        "colab": {
          "base_uri": "https://localhost:8080/",
          "height": 428
        },
        "id": "zdZ2simvNsbq",
        "outputId": "60ef9a28-3478-4724-c5d3-a9a0b01276d9"
      },
      "execution_count": null,
      "outputs": [
        {
          "output_type": "display_data",
          "data": {
            "text/plain": [
              "<Figure size 504x504 with 1 Axes>"
            ],
            "image/png": "[encoded data removed]"
          },
          "metadata": {
            "needs_background": "light"
          }
        }
      ]
    },
    {
      "cell_type": "markdown",
      "source": [
        "Хотелось бы не перебирать случайность, пока не повезет, а иметь другой более умный способ инициализации центроид - это KMeans++"
      ],
      "metadata": {
        "id": "rt9QuCA6NyTF"
      }
    },
    {
      "cell_type": "markdown",
      "source": [
        "## KMeans в sklearn"
      ],
      "metadata": {
        "id": "qtLnf-ocEGHj"
      }
    },
    {
      "cell_type": "code",
      "source": [
        "from sklearn.cluster import KMeans as sk_KMeans\n",
        "\n",
        "model = sk_KMeans(n_clusters=3,\n",
        "                  init='k-means++',\n",
        "                  max_iter=10,\n",
        "                  random_state=0)\n",
        "\n",
        "model.fit(X)"
      ],
      "metadata": {
        "colab": {
          "base_uri": "https://localhost:8080/"
        },
        "id": "zzG0HOq2ES6g",
        "outputId": "144af2f2-4aa3-449b-f98a-43a71ae7f139"
      },
      "execution_count": null,
      "outputs": [
        {
          "output_type": "execute_result",
          "data": {
            "text/plain": [
              "KMeans(max_iter=10, n_clusters=3, random_state=0)"
            ]
          },
          "metadata": {},
          "execution_count": 55
        }
      ]
    },
    {
      "cell_type": "code",
      "source": [
        "labels = model.predict(X)\n",
        "labels[:10]"
      ],
      "metadata": {
        "colab": {
          "base_uri": "https://localhost:8080/"
        },
        "id": "nysmpXX6EsIa",
        "outputId": "eba3728e-5067-4958-82f1-256f0b633d0f"
      },
      "execution_count": null,
      "outputs": [
        {
          "output_type": "execute_result",
          "data": {
            "text/plain": [
              "array([1, 1, 0, 2, 0, 0, 2, 1, 0, 2], dtype=int32)"
            ]
          },
          "metadata": {},
          "execution_count": 56
        }
      ]
    },
    {
      "cell_type": "code",
      "source": [
        "plt.figure(figsize=(7, 7))\n",
        "\n",
        "for i in range(len(labels)):\n",
        "    plt.scatter(X[i, 0], X[i, 1], color=colors[labels[i]])"
      ],
      "metadata": {
        "colab": {
          "base_uri": "https://localhost:8080/",
          "height": 428
        },
        "id": "tG8F3vyYErQ5",
        "outputId": "71419525-7514-4006-d6d8-8e1e46b66c3d"
      },
      "execution_count": null,
      "outputs": [
        {
          "output_type": "display_data",
          "data": {
            "text/plain": [
              "<Figure size 504x504 with 1 Axes>"
            ],
            "image/png": "[encoded data removed]"
          },
          "metadata": {
            "needs_background": "light"
          }
        }
      ]
    },
    {
      "cell_type": "code",
      "source": [
        "model.cluster_centers_"
      ],
      "metadata": {
        "colab": {
          "base_uri": "https://localhost:8080/"
        },
        "id": "HjWmbWjQFdYK",
        "outputId": "f3e001f9-5310-4653-f7c4-774c65ef7606"
      },
      "execution_count": null,
      "outputs": [
        {
          "output_type": "execute_result",
          "data": {
            "text/plain": [
              "array([[ 2.84050716,  4.85840422],\n",
              "       [ 0.08921213, -5.46441742],\n",
              "       [ 5.6183469 , -9.54288499]])"
            ]
          },
          "metadata": {},
          "execution_count": 59
        }
      ]
    },
    {
      "cell_type": "code",
      "source": [
        "plt.figure(figsize=(7, 7))\n",
        "\n",
        "for i in range(len(labels)):\n",
        "    plt.scatter(X[i, 0], X[i, 1], color=colors[labels[i]])\n",
        "\n",
        "for i, centr in enumerate(model.cluster_centers_):\n",
        "    plt.scatter(centr[0], centr[1], marker='*', s=500, c=colors[i])\n",
        "    plt.text(centr[0]-0.1, centr[1]-0.2, f'{i+1}', fontsize=20);"
      ],
      "metadata": {
        "colab": {
          "base_uri": "https://localhost:8080/",
          "height": 428
        },
        "id": "pKUBMRrwFgFn",
        "outputId": "9d8f83d4-2037-41f7-a400-d1aa941d5209"
      },
      "execution_count": null,
      "outputs": [
        {
          "output_type": "display_data",
          "data": {
            "text/plain": [
              "<Figure size 504x504 with 1 Axes>"
            ],
            "image/png": "[encoded data removed]"
          },
          "metadata": {
            "needs_background": "light"
          }
        }
      ]
    }
  ]
}