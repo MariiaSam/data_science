{
  "cells": [
    {
      "cell_type": "markdown",
      "metadata": {
        "id": "IctzaDVx1EP4"
      },
      "source": [
        "# Масштабирование данных"
      ]
    },
    {
      "cell_type": "markdown",
      "metadata": {
        "id": "Faqf8pG8itot"
      },
      "source": [
        "## Для чего нужно масштабирование"
      ]
    },
    {
      "cell_type": "markdown",
      "metadata": {
        "id": "tx_o0s6JBiX2"
      },
      "source": [
        "Давайте обучим модель для регрессии из `sklearn` на датасете про недвижимость."
      ]
    },
    {
      "cell_type": "code",
      "execution_count": null,
      "metadata": {
        "colab": {
          "base_uri": "https://localhost:8080/",
          "height": 224
        },
        "id": "KkurWNut0zz5",
        "outputId": "52c3b171-e7cc-4856-b942-e68cc1b571c5"
      },
      "outputs": [
        {
          "name": "stderr",
          "output_type": "stream",
          "text": [
            "Downloading Cal. housing from https://ndownloader.figshare.com/files/5976036 to /root/scikit_learn_data\n"
          ]
        },
        {
          "data": {
            "text/html": [
              "\n",
              "  <div id=\"df-83421011-8cf3-44fe-b892-b337836fb97d\">\n",
              "    <div class=\"colab-df-container\">\n",
              "      <div>\n",
              "<style scoped>\n",
              "    .dataframe tbody tr th:only-of-type {\n",
              "        vertical-align: middle;\n",
              "    }\n",
              "\n",
              "    .dataframe tbody tr th {\n",
              "        vertical-align: top;\n",
              "    }\n",
              "\n",
              "    .dataframe thead th {\n",
              "        text-align: right;\n",
              "    }\n",
              "</style>\n",
              "<table border=\"1\" class=\"dataframe\">\n",
              "  <thead>\n",
              "    <tr style=\"text-align: right;\">\n",
              "      <th></th>\n",
              "      <th>MedInc</th>\n",
              "      <th>HouseAge</th>\n",
              "      <th>AveRooms</th>\n",
              "      <th>AveBedrms</th>\n",
              "      <th>Population</th>\n",
              "      <th>AveOccup</th>\n",
              "      <th>Latitude</th>\n",
              "      <th>Longitude</th>\n",
              "    </tr>\n",
              "  </thead>\n",
              "  <tbody>\n",
              "    <tr>\n",
              "      <th>0</th>\n",
              "      <td>8.3252</td>\n",
              "      <td>41.0</td>\n",
              "      <td>6.984127</td>\n",
              "      <td>1.023810</td>\n",
              "      <td>322.0</td>\n",
              "      <td>2.555556</td>\n",
              "      <td>37.88</td>\n",
              "      <td>-122.23</td>\n",
              "    </tr>\n",
              "    <tr>\n",
              "      <th>1</th>\n",
              "      <td>8.3014</td>\n",
              "      <td>21.0</td>\n",
              "      <td>6.238137</td>\n",
              "      <td>0.971880</td>\n",
              "      <td>2401.0</td>\n",
              "      <td>2.109842</td>\n",
              "      <td>37.86</td>\n",
              "      <td>-122.22</td>\n",
              "    </tr>\n",
              "    <tr>\n",
              "      <th>2</th>\n",
              "      <td>7.2574</td>\n",
              "      <td>52.0</td>\n",
              "      <td>8.288136</td>\n",
              "      <td>1.073446</td>\n",
              "      <td>496.0</td>\n",
              "      <td>2.802260</td>\n",
              "      <td>37.85</td>\n",
              "      <td>-122.24</td>\n",
              "    </tr>\n",
              "    <tr>\n",
              "      <th>3</th>\n",
              "      <td>5.6431</td>\n",
              "      <td>52.0</td>\n",
              "      <td>5.817352</td>\n",
              "      <td>1.073059</td>\n",
              "      <td>558.0</td>\n",
              "      <td>2.547945</td>\n",
              "      <td>37.85</td>\n",
              "      <td>-122.25</td>\n",
              "    </tr>\n",
              "    <tr>\n",
              "      <th>4</th>\n",
              "      <td>3.8462</td>\n",
              "      <td>52.0</td>\n",
              "      <td>6.281853</td>\n",
              "      <td>1.081081</td>\n",
              "      <td>565.0</td>\n",
              "      <td>2.181467</td>\n",
              "      <td>37.85</td>\n",
              "      <td>-122.25</td>\n",
              "    </tr>\n",
              "  </tbody>\n",
              "</table>\n",
              "</div>\n",
              "      <button class=\"colab-df-convert\" onclick=\"convertToInteractive('df-83421011-8cf3-44fe-b892-b337836fb97d')\"\n",
              "              title=\"Convert this dataframe to an interactive table.\"\n",
              "              style=\"display:none;\">\n",
              "        \n",
              "  <svg xmlns=\"http://www.w3.org/2000/svg\" height=\"24px\"viewBox=\"0 0 24 24\"\n",
              "       width=\"24px\">\n",
              "    <path d=\"M0 0h24v24H0V0z\" fill=\"none\"/>\n",
              "    <path d=\"M18.56 5.44l.94 2.06.94-2.06 2.06-.94-2.06-.94-.94-2.06-.94 2.06-2.06.94zm-11 1L8.5 8.5l.94-2.06 2.06-.94-2.06-.94L8.5 2.5l-.94 2.06-2.06.94zm10 10l.94 2.06.94-2.06 2.06-.94-2.06-.94-.94-2.06-.94 2.06-2.06.94z\"/><path d=\"M17.41 7.96l-1.37-1.37c-.4-.4-.92-.59-1.43-.59-.52 0-1.04.2-1.43.59L10.3 9.45l-7.72 7.72c-.78.78-.78 2.05 0 2.83L4 21.41c.39.39.9.59 1.41.59.51 0 1.02-.2 1.41-.59l7.78-7.78 2.81-2.81c.8-.78.8-2.07 0-2.86zM5.41 20L4 18.59l7.72-7.72 1.47 1.35L5.41 20z\"/>\n",
              "  </svg>\n",
              "      </button>\n",
              "      \n",
              "  <style>\n",
              "    .colab-df-container {\n",
              "      display:flex;\n",
              "      flex-wrap:wrap;\n",
              "      gap: 12px;\n",
              "    }\n",
              "\n",
              "    .colab-df-convert {\n",
              "      background-color: #E8F0FE;\n",
              "      border: none;\n",
              "      border-radius: 50%;\n",
              "      cursor: pointer;\n",
              "      display: none;\n",
              "      fill: #1967D2;\n",
              "      height: 32px;\n",
              "      padding: 0 0 0 0;\n",
              "      width: 32px;\n",
              "    }\n",
              "\n",
              "    .colab-df-convert:hover {\n",
              "      background-color: #E2EBFA;\n",
              "      box-shadow: 0px 1px 2px rgba(60, 64, 67, 0.3), 0px 1px 3px 1px rgba(60, 64, 67, 0.15);\n",
              "      fill: #174EA6;\n",
              "    }\n",
              "\n",
              "    [theme=dark] .colab-df-convert {\n",
              "      background-color: #3B4455;\n",
              "      fill: #D2E3FC;\n",
              "    }\n",
              "\n",
              "    [theme=dark] .colab-df-convert:hover {\n",
              "      background-color: #434B5C;\n",
              "      box-shadow: 0px 1px 3px 1px rgba(0, 0, 0, 0.15);\n",
              "      filter: drop-shadow(0px 1px 2px rgba(0, 0, 0, 0.3));\n",
              "      fill: #FFFFFF;\n",
              "    }\n",
              "  </style>\n",
              "\n",
              "      <script>\n",
              "        const buttonEl =\n",
              "          document.querySelector('#df-83421011-8cf3-44fe-b892-b337836fb97d button.colab-df-convert');\n",
              "        buttonEl.style.display =\n",
              "          google.colab.kernel.accessAllowed ? 'block' : 'none';\n",
              "\n",
              "        async function convertToInteractive(key) {\n",
              "          const element = document.querySelector('#df-83421011-8cf3-44fe-b892-b337836fb97d');\n",
              "          const dataTable =\n",
              "            await google.colab.kernel.invokeFunction('convertToInteractive',\n",
              "                                                     [key], {});\n",
              "          if (!dataTable) return;\n",
              "\n",
              "          const docLinkHtml = 'Like what you see? Visit the ' +\n",
              "            '<a target=\"_blank\" href=https://colab.research.google.com/notebooks/data_table.ipynb>data table notebook</a>'\n",
              "            + ' to learn more about interactive tables.';\n",
              "          element.innerHTML = '';\n",
              "          dataTable['output_type'] = 'display_data';\n",
              "          await google.colab.output.renderOutput(dataTable, element);\n",
              "          const docLink = document.createElement('div');\n",
              "          docLink.innerHTML = docLinkHtml;\n",
              "          element.appendChild(docLink);\n",
              "        }\n",
              "      </script>\n",
              "    </div>\n",
              "  </div>\n",
              "  "
            ],
            "text/plain": [
              "   MedInc  HouseAge  AveRooms  AveBedrms  Population  AveOccup  Latitude  \\\n",
              "0  8.3252      41.0  6.984127   1.023810       322.0  2.555556     37.88   \n",
              "1  8.3014      21.0  6.238137   0.971880      2401.0  2.109842     37.86   \n",
              "2  7.2574      52.0  8.288136   1.073446       496.0  2.802260     37.85   \n",
              "3  5.6431      52.0  5.817352   1.073059       558.0  2.547945     37.85   \n",
              "4  3.8462      52.0  6.281853   1.081081       565.0  2.181467     37.85   \n",
              "\n",
              "   Longitude  \n",
              "0    -122.23  \n",
              "1    -122.22  \n",
              "2    -122.24  \n",
              "3    -122.25  \n",
              "4    -122.25  "
            ]
          },
          "execution_count": 2,
          "metadata": {},
          "output_type": "execute_result"
        }
      ],
      "source": [
        "from sklearn.datasets import fetch_california_housing\n",
        "import pandas as pd\n",
        "\n",
        "\n",
        "data = fetch_california_housing()\n",
        "X = pd.DataFrame(data['data'], columns=data['feature_names'])\n",
        "y = data['target']\n",
        "\n",
        "X.head()"
      ]
    },
    {
      "cell_type": "markdown",
      "metadata": {
        "id": "MUTOouynBiX4"
      },
      "source": [
        "Разобьем выборку на обучение и тест с помощью `train_test_split`."
      ]
    },
    {
      "cell_type": "code",
      "execution_count": null,
      "metadata": {
        "colab": {
          "base_uri": "https://localhost:8080/"
        },
        "id": "Csv1yNExBiX5",
        "outputId": "4e59f636-3bae-4f25-e4a5-0fef0d37941f"
      },
      "outputs": [
        {
          "data": {
            "text/plain": [
              "((16512, 8), (4128, 8))"
            ]
          },
          "execution_count": 3,
          "metadata": {},
          "output_type": "execute_result"
        }
      ],
      "source": [
        "from sklearn.model_selection import train_test_split\n",
        "\n",
        "X_train, X_test, y_train, y_test = train_test_split(X, y, random_state=10, test_size=0.2)\n",
        "X_train.shape, X_test.shape"
      ]
    },
    {
      "cell_type": "markdown",
      "metadata": {
        "id": "xuEW-OJ9BiX6"
      },
      "source": [
        "Инициализируем модель `KNeighborsRegressor` для задачи регрессии из `sklearn`."
      ]
    },
    {
      "cell_type": "code",
      "execution_count": null,
      "metadata": {
        "id": "IR2S6-gMBiX6"
      },
      "outputs": [],
      "source": [
        "from sklearn.neighbors import KNeighborsRegressor\n",
        "\n",
        "knn = KNeighborsRegressor()"
      ]
    },
    {
      "cell_type": "markdown",
      "metadata": {
        "id": "1ptkvqF-BiX6"
      },
      "source": [
        "И обучаем на обучающей выборке."
      ]
    },
    {
      "cell_type": "code",
      "execution_count": null,
      "metadata": {
        "colab": {
          "base_uri": "https://localhost:8080/"
        },
        "id": "GKUIoYs7BiX6",
        "outputId": "99ef164e-f63b-4544-f5d3-b61e3f8bb141"
      },
      "outputs": [
        {
          "data": {
            "text/plain": [
              "KNeighborsRegressor(algorithm='auto', leaf_size=30, metric='minkowski',\n",
              "                    metric_params=None, n_jobs=None, n_neighbors=5, p=2,\n",
              "                    weights='uniform')"
            ]
          },
          "execution_count": 5,
          "metadata": {},
          "output_type": "execute_result"
        }
      ],
      "source": [
        "knn.fit(X_train, y_train)"
      ]
    },
    {
      "cell_type": "markdown",
      "metadata": {
        "id": "dxpF3TMUBiX7"
      },
      "source": [
        "И теперь можем посчитать метрику качества.\n",
        "\n",
        "Про метрики качества для задачи регрессии можете посмотреть [здесь](https://youtu.be/vh2smjQyhp8)"
      ]
    },
    {
      "cell_type": "code",
      "execution_count": null,
      "metadata": {
        "colab": {
          "base_uri": "https://localhost:8080/"
        },
        "id": "QPuJP0RXBiX8",
        "outputId": "d3ae1460-16aa-4738-bfcb-302fdbdeefa5"
      },
      "outputs": [
        {
          "name": "stdout",
          "output_type": "stream",
          "text": [
            "Train R2 0.45\n",
            "Test R2 0.18\n"
          ]
        }
      ],
      "source": [
        "from sklearn.metrics import r2_score\n",
        "\n",
        "pred_train = knn.predict(X_train)\n",
        "pred_test = knn.predict(X_test)\n",
        "\n",
        "\n",
        "print(f'Train R2 {r2_score(y_train, pred_train):.2f}')\n",
        "print(f'Test R2 {r2_score(y_test, pred_test):.2f}')"
      ]
    },
    {
      "cell_type": "markdown",
      "metadata": {
        "id": "L1CU1aufBiX8"
      },
      "source": [
        "А метрики получаются совсем плохие."
      ]
    },
    {
      "cell_type": "markdown",
      "metadata": {
        "id": "gbPn3agL15rd"
      },
      "source": [
        "Давайте попробуем другую модель."
      ]
    },
    {
      "cell_type": "code",
      "execution_count": null,
      "metadata": {
        "colab": {
          "base_uri": "https://localhost:8080/"
        },
        "id": "7UKJfOZr2py4",
        "outputId": "e7e39308-8302-4947-e038-59cd73eeebf9"
      },
      "outputs": [
        {
          "data": {
            "text/plain": [
              "LinearRegression(copy_X=True, fit_intercept=True, n_jobs=None, normalize=False)"
            ]
          },
          "execution_count": 7,
          "metadata": {},
          "output_type": "execute_result"
        }
      ],
      "source": [
        "from sklearn.linear_model import LinearRegression\n",
        "\n",
        "lr = LinearRegression()\n",
        "lr.fit(X_train, y_train)"
      ]
    },
    {
      "cell_type": "markdown",
      "metadata": {
        "id": "ZQjUr5Xh2w9A"
      },
      "source": [
        "И так же сделаем предсказания этой моделью."
      ]
    },
    {
      "cell_type": "code",
      "execution_count": null,
      "metadata": {
        "colab": {
          "base_uri": "https://localhost:8080/"
        },
        "id": "mXtSo8rH2w9B",
        "outputId": "7ad19696-c8ee-4ddd-e155-59f25aac0646"
      },
      "outputs": [
        {
          "name": "stdout",
          "output_type": "stream",
          "text": [
            "Train R2 0.61\n",
            "Test R2 0.60\n"
          ]
        }
      ],
      "source": [
        "pred_train = lr.predict(X_train)\n",
        "pred_test = lr.predict(X_test)\n",
        "\n",
        "\n",
        "print(f'Train R2 {r2_score(y_train, pred_train):.2f}')\n",
        "print(f'Test R2 {r2_score(y_test, pred_test):.2f}')"
      ]
    },
    {
      "cell_type": "markdown",
      "metadata": {
        "id": "D8YSlqC920hh"
      },
      "source": [
        "Метрики уже выше, но не настолько хорошие, чтобы пускать модель к реальным данным.\n",
        "\n",
        "Здесь модель линейная, простая, поэтому и высокого качества могли и не ожидать."
      ]
    },
    {
      "cell_type": "markdown",
      "metadata": {
        "id": "UVXxjakO3Lm4"
      },
      "source": [
        "Давайте возьмем ещё другую модель, может быть задача очень сложная, что наши предыдущие модели машинного обучения не справляются с ней."
      ]
    },
    {
      "cell_type": "code",
      "execution_count": null,
      "metadata": {
        "colab": {
          "base_uri": "https://localhost:8080/"
        },
        "id": "zaolDxmR2TjP",
        "outputId": "04557d86-f040-4829-9741-319d58e033d8"
      },
      "outputs": [
        {
          "data": {
            "text/plain": [
              "DecisionTreeRegressor(ccp_alpha=0.0, criterion='mse', max_depth=9,\n",
              "                      max_features=None, max_leaf_nodes=None,\n",
              "                      min_impurity_decrease=0.0, min_impurity_split=None,\n",
              "                      min_samples_leaf=1, min_samples_split=2,\n",
              "                      min_weight_fraction_leaf=0.0, presort='deprecated',\n",
              "                      random_state=1, splitter='best')"
            ]
          },
          "execution_count": 9,
          "metadata": {},
          "output_type": "execute_result"
        }
      ],
      "source": [
        "from sklearn.tree import DecisionTreeRegressor\n",
        "\n",
        "tree_1 = DecisionTreeRegressor(random_state=1, max_depth=9)\n",
        "tree_1.fit(X_train, y_train)"
      ]
    },
    {
      "cell_type": "markdown",
      "metadata": {
        "id": "FTv0J1BW2fJ9"
      },
      "source": [
        "И так же сделаем предсказания этой моделью."
      ]
    },
    {
      "cell_type": "code",
      "execution_count": null,
      "metadata": {
        "colab": {
          "base_uri": "https://localhost:8080/"
        },
        "id": "0nq9pfVf2iSm",
        "outputId": "a5346b17-6038-4748-8b48-cf5c34511a69"
      },
      "outputs": [
        {
          "name": "stdout",
          "output_type": "stream",
          "text": [
            "Train R2 0.79\n",
            "Test R2 0.72\n"
          ]
        }
      ],
      "source": [
        "pred_train = tree_1.predict(X_train)\n",
        "pred_test = tree_1.predict(X_test)\n",
        "\n",
        "\n",
        "print(f'Train R2 {r2_score(y_train, pred_train):.2f}')\n",
        "print(f'Test R2 {r2_score(y_test, pred_test):.2f}')"
      ]
    },
    {
      "cell_type": "markdown",
      "metadata": {
        "id": "X2hsiZGp2lQK"
      },
      "source": [
        "Ну вот, совсем другое дело, значит проблема не в данных, а в моделях, раз модель дерева решений обучилась.\n",
        "\n"
      ]
    },
    {
      "cell_type": "markdown",
      "metadata": {
        "id": "kwdQSxPC8CRh"
      },
      "source": [
        "### Что может быть не так с моделями?\n",
        "\n",
        "А KNN, линейные модели и другие модели очень чувстительны к входным данным. Давайте глянем на эти данные.\n"
      ]
    },
    {
      "cell_type": "code",
      "execution_count": null,
      "metadata": {
        "colab": {
          "base_uri": "https://localhost:8080/",
          "height": 300
        },
        "id": "LnamgGaF3yS6",
        "outputId": "b651bb34-b605-4f2c-fc27-3976d891ac20"
      },
      "outputs": [
        {
          "data": {
            "text/html": [
              "\n",
              "  <div id=\"df-ee1eb775-45cc-4973-8fa8-9e14266eb760\">\n",
              "    <div class=\"colab-df-container\">\n",
              "      <div>\n",
              "<style scoped>\n",
              "    .dataframe tbody tr th:only-of-type {\n",
              "        vertical-align: middle;\n",
              "    }\n",
              "\n",
              "    .dataframe tbody tr th {\n",
              "        vertical-align: top;\n",
              "    }\n",
              "\n",
              "    .dataframe thead th {\n",
              "        text-align: right;\n",
              "    }\n",
              "</style>\n",
              "<table border=\"1\" class=\"dataframe\">\n",
              "  <thead>\n",
              "    <tr style=\"text-align: right;\">\n",
              "      <th></th>\n",
              "      <th>MedInc</th>\n",
              "      <th>HouseAge</th>\n",
              "      <th>AveRooms</th>\n",
              "      <th>AveBedrms</th>\n",
              "      <th>Population</th>\n",
              "      <th>AveOccup</th>\n",
              "      <th>Latitude</th>\n",
              "      <th>Longitude</th>\n",
              "    </tr>\n",
              "  </thead>\n",
              "  <tbody>\n",
              "    <tr>\n",
              "      <th>count</th>\n",
              "      <td>20640.000000</td>\n",
              "      <td>20640.000000</td>\n",
              "      <td>20640.000000</td>\n",
              "      <td>20640.000000</td>\n",
              "      <td>20640.000000</td>\n",
              "      <td>20640.000000</td>\n",
              "      <td>20640.000000</td>\n",
              "      <td>20640.000000</td>\n",
              "    </tr>\n",
              "    <tr>\n",
              "      <th>mean</th>\n",
              "      <td>3.870671</td>\n",
              "      <td>28.639486</td>\n",
              "      <td>5.429000</td>\n",
              "      <td>1.096675</td>\n",
              "      <td>1425.476744</td>\n",
              "      <td>3.070655</td>\n",
              "      <td>35.631861</td>\n",
              "      <td>-119.569704</td>\n",
              "    </tr>\n",
              "    <tr>\n",
              "      <th>std</th>\n",
              "      <td>1.899822</td>\n",
              "      <td>12.585558</td>\n",
              "      <td>2.474173</td>\n",
              "      <td>0.473911</td>\n",
              "      <td>1132.462122</td>\n",
              "      <td>10.386050</td>\n",
              "      <td>2.135952</td>\n",
              "      <td>2.003532</td>\n",
              "    </tr>\n",
              "    <tr>\n",
              "      <th>min</th>\n",
              "      <td>0.499900</td>\n",
              "      <td>1.000000</td>\n",
              "      <td>0.846154</td>\n",
              "      <td>0.333333</td>\n",
              "      <td>3.000000</td>\n",
              "      <td>0.692308</td>\n",
              "      <td>32.540000</td>\n",
              "      <td>-124.350000</td>\n",
              "    </tr>\n",
              "    <tr>\n",
              "      <th>25%</th>\n",
              "      <td>2.563400</td>\n",
              "      <td>18.000000</td>\n",
              "      <td>4.440716</td>\n",
              "      <td>1.006079</td>\n",
              "      <td>787.000000</td>\n",
              "      <td>2.429741</td>\n",
              "      <td>33.930000</td>\n",
              "      <td>-121.800000</td>\n",
              "    </tr>\n",
              "    <tr>\n",
              "      <th>50%</th>\n",
              "      <td>3.534800</td>\n",
              "      <td>29.000000</td>\n",
              "      <td>5.229129</td>\n",
              "      <td>1.048780</td>\n",
              "      <td>1166.000000</td>\n",
              "      <td>2.818116</td>\n",
              "      <td>34.260000</td>\n",
              "      <td>-118.490000</td>\n",
              "    </tr>\n",
              "    <tr>\n",
              "      <th>75%</th>\n",
              "      <td>4.743250</td>\n",
              "      <td>37.000000</td>\n",
              "      <td>6.052381</td>\n",
              "      <td>1.099526</td>\n",
              "      <td>1725.000000</td>\n",
              "      <td>3.282261</td>\n",
              "      <td>37.710000</td>\n",
              "      <td>-118.010000</td>\n",
              "    </tr>\n",
              "    <tr>\n",
              "      <th>max</th>\n",
              "      <td>15.000100</td>\n",
              "      <td>52.000000</td>\n",
              "      <td>141.909091</td>\n",
              "      <td>34.066667</td>\n",
              "      <td>35682.000000</td>\n",
              "      <td>1243.333333</td>\n",
              "      <td>41.950000</td>\n",
              "      <td>-114.310000</td>\n",
              "    </tr>\n",
              "  </tbody>\n",
              "</table>\n",
              "</div>\n",
              "      <button class=\"colab-df-convert\" onclick=\"convertToInteractive('df-ee1eb775-45cc-4973-8fa8-9e14266eb760')\"\n",
              "              title=\"Convert this dataframe to an interactive table.\"\n",
              "              style=\"display:none;\">\n",
              "        \n",
              "  <svg xmlns=\"http://www.w3.org/2000/svg\" height=\"24px\"viewBox=\"0 0 24 24\"\n",
              "       width=\"24px\">\n",
              "    <path d=\"M0 0h24v24H0V0z\" fill=\"none\"/>\n",
              "    <path d=\"M18.56 5.44l.94 2.06.94-2.06 2.06-.94-2.06-.94-.94-2.06-.94 2.06-2.06.94zm-11 1L8.5 8.5l.94-2.06 2.06-.94-2.06-.94L8.5 2.5l-.94 2.06-2.06.94zm10 10l.94 2.06.94-2.06 2.06-.94-2.06-.94-.94-2.06-.94 2.06-2.06.94z\"/><path d=\"M17.41 7.96l-1.37-1.37c-.4-.4-.92-.59-1.43-.59-.52 0-1.04.2-1.43.59L10.3 9.45l-7.72 7.72c-.78.78-.78 2.05 0 2.83L4 21.41c.39.39.9.59 1.41.59.51 0 1.02-.2 1.41-.59l7.78-7.78 2.81-2.81c.8-.78.8-2.07 0-2.86zM5.41 20L4 18.59l7.72-7.72 1.47 1.35L5.41 20z\"/>\n",
              "  </svg>\n",
              "      </button>\n",
              "      \n",
              "  <style>\n",
              "    .colab-df-container {\n",
              "      display:flex;\n",
              "      flex-wrap:wrap;\n",
              "      gap: 12px;\n",
              "    }\n",
              "\n",
              "    .colab-df-convert {\n",
              "      background-color: #E8F0FE;\n",
              "      border: none;\n",
              "      border-radius: 50%;\n",
              "      cursor: pointer;\n",
              "      display: none;\n",
              "      fill: #1967D2;\n",
              "      height: 32px;\n",
              "      padding: 0 0 0 0;\n",
              "      width: 32px;\n",
              "    }\n",
              "\n",
              "    .colab-df-convert:hover {\n",
              "      background-color: #E2EBFA;\n",
              "      box-shadow: 0px 1px 2px rgba(60, 64, 67, 0.3), 0px 1px 3px 1px rgba(60, 64, 67, 0.15);\n",
              "      fill: #174EA6;\n",
              "    }\n",
              "\n",
              "    [theme=dark] .colab-df-convert {\n",
              "      background-color: #3B4455;\n",
              "      fill: #D2E3FC;\n",
              "    }\n",
              "\n",
              "    [theme=dark] .colab-df-convert:hover {\n",
              "      background-color: #434B5C;\n",
              "      box-shadow: 0px 1px 3px 1px rgba(0, 0, 0, 0.15);\n",
              "      filter: drop-shadow(0px 1px 2px rgba(0, 0, 0, 0.3));\n",
              "      fill: #FFFFFF;\n",
              "    }\n",
              "  </style>\n",
              "\n",
              "      <script>\n",
              "        const buttonEl =\n",
              "          document.querySelector('#df-ee1eb775-45cc-4973-8fa8-9e14266eb760 button.colab-df-convert');\n",
              "        buttonEl.style.display =\n",
              "          google.colab.kernel.accessAllowed ? 'block' : 'none';\n",
              "\n",
              "        async function convertToInteractive(key) {\n",
              "          const element = document.querySelector('#df-ee1eb775-45cc-4973-8fa8-9e14266eb760');\n",
              "          const dataTable =\n",
              "            await google.colab.kernel.invokeFunction('convertToInteractive',\n",
              "                                                     [key], {});\n",
              "          if (!dataTable) return;\n",
              "\n",
              "          const docLinkHtml = 'Like what you see? Visit the ' +\n",
              "            '<a target=\"_blank\" href=https://colab.research.google.com/notebooks/data_table.ipynb>data table notebook</a>'\n",
              "            + ' to learn more about interactive tables.';\n",
              "          element.innerHTML = '';\n",
              "          dataTable['output_type'] = 'display_data';\n",
              "          await google.colab.output.renderOutput(dataTable, element);\n",
              "          const docLink = document.createElement('div');\n",
              "          docLink.innerHTML = docLinkHtml;\n",
              "          element.appendChild(docLink);\n",
              "        }\n",
              "      </script>\n",
              "    </div>\n",
              "  </div>\n",
              "  "
            ],
            "text/plain": [
              "             MedInc      HouseAge      AveRooms     AveBedrms    Population  \\\n",
              "count  20640.000000  20640.000000  20640.000000  20640.000000  20640.000000   \n",
              "mean       3.870671     28.639486      5.429000      1.096675   1425.476744   \n",
              "std        1.899822     12.585558      2.474173      0.473911   1132.462122   \n",
              "min        0.499900      1.000000      0.846154      0.333333      3.000000   \n",
              "25%        2.563400     18.000000      4.440716      1.006079    787.000000   \n",
              "50%        3.534800     29.000000      5.229129      1.048780   1166.000000   \n",
              "75%        4.743250     37.000000      6.052381      1.099526   1725.000000   \n",
              "max       15.000100     52.000000    141.909091     34.066667  35682.000000   \n",
              "\n",
              "           AveOccup      Latitude     Longitude  \n",
              "count  20640.000000  20640.000000  20640.000000  \n",
              "mean       3.070655     35.631861   -119.569704  \n",
              "std       10.386050      2.135952      2.003532  \n",
              "min        0.692308     32.540000   -124.350000  \n",
              "25%        2.429741     33.930000   -121.800000  \n",
              "50%        2.818116     34.260000   -118.490000  \n",
              "75%        3.282261     37.710000   -118.010000  \n",
              "max     1243.333333     41.950000   -114.310000  "
            ]
          },
          "execution_count": 11,
          "metadata": {},
          "output_type": "execute_result"
        }
      ],
      "source": [
        "X.describe()"
      ]
    },
    {
      "cell_type": "markdown",
      "metadata": {
        "id": "R4Yu9cpw30eM"
      },
      "source": [
        "Есть признаки с маленькими значениями (`MedInc`, `AveBedrms`), а есть признаки со значениями побольше (`Latitude`, `HouseAge`), а есть прям с очень большими значениями (`Population` и `AveOccup`).\n",
        "\n",
        "Значения в признаках **отличаются на порядки** и это огромная **проблема** для чувствительных моделей.\n"
      ]
    },
    {
      "cell_type": "markdown",
      "metadata": {
        "id": "jkciXbfv6oEY"
      },
      "source": [
        "\n",
        "Имея такие данные, модель может ошибочно считать, что раз признак большой (`Population`), то он полезный, но какие-нибудь маленькие признаки (`MedInc`) могут оказаться в разы полезней больших. А вот такие большие будут перетягивать на себя всё внимание модели.\n",
        "\n"
      ]
    },
    {
      "cell_type": "markdown",
      "metadata": {
        "id": "olfOgumY7o9w"
      },
      "source": [
        "А значит нужно наши признаки уравнивать, масштабировать, чтобы модель изначально считала, что всё признаки одинаково полезные и никому не давала перетягивать одеяло."
      ]
    },
    {
      "cell_type": "markdown",
      "metadata": {
        "id": "yTjmJ6PeTCXc"
      },
      "source": [
        "## Масштабирование данных"
      ]
    },
    {
      "cell_type": "markdown",
      "metadata": {
        "id": "ABU2RmXMTFHR"
      },
      "source": [
        "А есть два основных вида масштабирования данных: нормализация и стандартизация.\n",
        "\n",
        "Пойдем по порядку."
      ]
    },
    {
      "cell_type": "markdown",
      "metadata": {
        "id": "KtpsFfCZTMkc"
      },
      "source": [
        "### Нормализация\n",
        "\n",
        "Для того, чтобы сделать нормализацию данных нужно посчитать в каждом признаке его минимум (min) и максимум (max), а затем сделать следующее вычисление:\n",
        "\n",
        "$$x = \\frac{x - min}{max - min}$$\n",
        "\n",
        "После такого преобразования $min = 0, max = 1$."
      ]
    },
    {
      "cell_type": "markdown",
      "metadata": {
        "id": "4rQjgn9aefHs"
      },
      "source": [
        "#### Через sklearn"
      ]
    },
    {
      "cell_type": "markdown",
      "metadata": {
        "id": "VKm77nu3TvLP"
      },
      "source": [
        "Давайте для начала обучим sklearn версию, а затем напишим свою реализацию."
      ]
    },
    {
      "cell_type": "code",
      "execution_count": null,
      "metadata": {
        "colab": {
          "base_uri": "https://localhost:8080/"
        },
        "id": "RzIEo44JT00h",
        "outputId": "9df7b05a-815c-410e-a205-554029a5ad4e"
      },
      "outputs": [
        {
          "data": {
            "text/plain": [
              "MinMaxScaler(copy=True, feature_range=(0, 1))"
            ]
          },
          "execution_count": 12,
          "metadata": {},
          "output_type": "execute_result"
        }
      ],
      "source": [
        "from sklearn.preprocessing import MinMaxScaler\n",
        "\n",
        "mms = MinMaxScaler()\n",
        "mms.fit(X_train)"
      ]
    },
    {
      "cell_type": "markdown",
      "metadata": {
        "id": "a_NuRITAUHVh"
      },
      "source": [
        "Нормализатор обучился, давайте посмотрим, какие были минимальные значения в признаках."
      ]
    },
    {
      "cell_type": "code",
      "execution_count": null,
      "metadata": {
        "colab": {
          "base_uri": "https://localhost:8080/"
        },
        "id": "YRPajKIgd4Xk",
        "outputId": "b32bc2c0-9638-42ce-e7a5-77cf55340526"
      },
      "outputs": [
        {
          "data": {
            "text/plain": [
              "array([   0.4999    ,    1.        ,    0.84615385,    0.33333333,\n",
              "          3.        ,    0.69230769,   32.54      , -124.35      ])"
            ]
          },
          "execution_count": 13,
          "metadata": {},
          "output_type": "execute_result"
        }
      ],
      "source": [
        "mms.data_min_"
      ]
    },
    {
      "cell_type": "code",
      "execution_count": null,
      "metadata": {
        "colab": {
          "base_uri": "https://localhost:8080/"
        },
        "id": "5yiSiRmNd_kP",
        "outputId": "9cfb8d37-c624-49ab-aad3-3c683fd0f829"
      },
      "outputs": [
        {
          "data": {
            "text/plain": [
              "MedInc          0.499900\n",
              "HouseAge        1.000000\n",
              "AveRooms        0.846154\n",
              "AveBedrms       0.333333\n",
              "Population      3.000000\n",
              "AveOccup        0.692308\n",
              "Latitude       32.540000\n",
              "Longitude    -124.350000\n",
              "dtype: float64"
            ]
          },
          "execution_count": 14,
          "metadata": {},
          "output_type": "execute_result"
        }
      ],
      "source": [
        "X_train.min()"
      ]
    },
    {
      "cell_type": "markdown",
      "metadata": {
        "id": "KpzfeY90d8uX"
      },
      "source": [
        "И посмотрим, какие были максимальные значения в признаках."
      ]
    },
    {
      "cell_type": "code",
      "execution_count": null,
      "metadata": {
        "colab": {
          "base_uri": "https://localhost:8080/"
        },
        "id": "zjLl4tybeEEE",
        "outputId": "1e578809-e310-4621-d0f3-f1c554c9df49"
      },
      "outputs": [
        {
          "data": {
            "text/plain": [
              "array([ 1.50001000e+01,  5.20000000e+01,  1.41909091e+02,  3.40666667e+01,\n",
              "        3.56820000e+04,  5.99714286e+02,  4.19500000e+01, -1.14310000e+02])"
            ]
          },
          "execution_count": 15,
          "metadata": {},
          "output_type": "execute_result"
        }
      ],
      "source": [
        "mms.data_max_"
      ]
    },
    {
      "cell_type": "markdown",
      "metadata": {
        "id": "tr7abuFSm6Y8"
      },
      "source": [
        "Кстати, небольшой лайфхак, если хотите видеть не научную запись с `e`, а обычную запись чисел, то можете воспользоваться следующей строчкой кода"
      ]
    },
    {
      "cell_type": "code",
      "execution_count": null,
      "metadata": {
        "id": "kWcP4Gsim4JF"
      },
      "outputs": [],
      "source": [
        "import numpy as np\n",
        "np.set_printoptions(suppress=True)"
      ]
    },
    {
      "cell_type": "code",
      "execution_count": null,
      "metadata": {
        "colab": {
          "base_uri": "https://localhost:8080/"
        },
        "id": "5yLhkD4pm5aw",
        "outputId": "877c6b73-708e-4516-f661-e80f4e0d2a5b"
      },
      "outputs": [
        {
          "data": {
            "text/plain": [
              "array([   15.0001    ,    52.        ,   141.90909091,    34.06666667,\n",
              "       35682.        ,   599.71428571,    41.95      ,  -114.31      ])"
            ]
          },
          "execution_count": 17,
          "metadata": {},
          "output_type": "execute_result"
        }
      ],
      "source": [
        "mms.data_max_"
      ]
    },
    {
      "cell_type": "code",
      "execution_count": null,
      "metadata": {
        "colab": {
          "base_uri": "https://localhost:8080/"
        },
        "id": "WaozghLWeEEF",
        "outputId": "11ccd7da-c165-4ef1-db8b-fef8d40f6a96"
      },
      "outputs": [
        {
          "data": {
            "text/plain": [
              "MedInc           15.000100\n",
              "HouseAge         52.000000\n",
              "AveRooms        141.909091\n",
              "AveBedrms        34.066667\n",
              "Population    35682.000000\n",
              "AveOccup        599.714286\n",
              "Latitude         41.950000\n",
              "Longitude      -114.310000\n",
              "dtype: float64"
            ]
          },
          "execution_count": 18,
          "metadata": {},
          "output_type": "execute_result"
        }
      ],
      "source": [
        "X_train.max()"
      ]
    },
    {
      "cell_type": "markdown",
      "metadata": {
        "id": "eBoL4FgbeMIo"
      },
      "source": [
        "А теперь можем нормализовать нашу обучающую выборку."
      ]
    },
    {
      "cell_type": "code",
      "execution_count": null,
      "metadata": {
        "colab": {
          "base_uri": "https://localhost:8080/"
        },
        "id": "u-_z0tKz3f-h",
        "outputId": "51b0a9e2-14db-4ba6-a255-a8f9057168ac"
      },
      "outputs": [
        {
          "data": {
            "text/plain": [
              "array([[0.13939808, 0.39215686, 0.03581217, ..., 0.00233227, 0.1360255 ,\n",
              "        0.77988048],\n",
              "       [0.14701177, 0.88235294, 0.03816278, ..., 0.00252513, 0.63336876,\n",
              "        0.14043825],\n",
              "       [0.32103695, 0.58823529, 0.02966471, ..., 0.00282055, 0.54091392,\n",
              "        0.18525896],\n",
              "       ...,\n",
              "       [0.34714694, 0.09803922, 0.02877568, ..., 0.0050506 , 0.50797024,\n",
              "        0.25498008],\n",
              "       [0.11765355, 0.66666667, 0.01348573, ..., 0.00609956, 0.15302869,\n",
              "        0.60956175],\n",
              "       [0.15009448, 0.29411765, 0.02202461, ..., 0.00294788, 0.50584485,\n",
              "        0.24601594]])"
            ]
          },
          "execution_count": 19,
          "metadata": {},
          "output_type": "execute_result"
        }
      ],
      "source": [
        "mms.transform(X_train)"
      ]
    },
    {
      "cell_type": "code",
      "execution_count": null,
      "metadata": {
        "colab": {
          "base_uri": "https://localhost:8080/",
          "height": 424
        },
        "id": "MB-_ixUpUGyh",
        "outputId": "df415e3a-86a9-4684-80e1-89420305dc13"
      },
      "outputs": [
        {
          "data": {
            "text/html": [
              "\n",
              "  <div id=\"df-cf523317-b7d2-4e25-a3d2-b30b11e26c6a\">\n",
              "    <div class=\"colab-df-container\">\n",
              "      <div>\n",
              "<style scoped>\n",
              "    .dataframe tbody tr th:only-of-type {\n",
              "        vertical-align: middle;\n",
              "    }\n",
              "\n",
              "    .dataframe tbody tr th {\n",
              "        vertical-align: top;\n",
              "    }\n",
              "\n",
              "    .dataframe thead th {\n",
              "        text-align: right;\n",
              "    }\n",
              "</style>\n",
              "<table border=\"1\" class=\"dataframe\">\n",
              "  <thead>\n",
              "    <tr style=\"text-align: right;\">\n",
              "      <th></th>\n",
              "      <th>MedInc</th>\n",
              "      <th>HouseAge</th>\n",
              "      <th>AveRooms</th>\n",
              "      <th>AveBedrms</th>\n",
              "      <th>Population</th>\n",
              "      <th>AveOccup</th>\n",
              "      <th>Latitude</th>\n",
              "      <th>Longitude</th>\n",
              "    </tr>\n",
              "  </thead>\n",
              "  <tbody>\n",
              "    <tr>\n",
              "      <th>0</th>\n",
              "      <td>0.139398</td>\n",
              "      <td>0.392157</td>\n",
              "      <td>0.035812</td>\n",
              "      <td>0.029696</td>\n",
              "      <td>0.101460</td>\n",
              "      <td>0.002332</td>\n",
              "      <td>0.136026</td>\n",
              "      <td>0.779880</td>\n",
              "    </tr>\n",
              "    <tr>\n",
              "      <th>1</th>\n",
              "      <td>0.147012</td>\n",
              "      <td>0.882353</td>\n",
              "      <td>0.038163</td>\n",
              "      <td>0.029968</td>\n",
              "      <td>0.022534</td>\n",
              "      <td>0.002525</td>\n",
              "      <td>0.633369</td>\n",
              "      <td>0.140438</td>\n",
              "    </tr>\n",
              "    <tr>\n",
              "      <th>2</th>\n",
              "      <td>0.321037</td>\n",
              "      <td>0.588235</td>\n",
              "      <td>0.029665</td>\n",
              "      <td>0.019907</td>\n",
              "      <td>0.041173</td>\n",
              "      <td>0.002821</td>\n",
              "      <td>0.540914</td>\n",
              "      <td>0.185259</td>\n",
              "    </tr>\n",
              "    <tr>\n",
              "      <th>3</th>\n",
              "      <td>0.160205</td>\n",
              "      <td>0.294118</td>\n",
              "      <td>0.027323</td>\n",
              "      <td>0.022704</td>\n",
              "      <td>0.048964</td>\n",
              "      <td>0.004528</td>\n",
              "      <td>0.161530</td>\n",
              "      <td>0.621514</td>\n",
              "    </tr>\n",
              "    <tr>\n",
              "      <th>4</th>\n",
              "      <td>0.101061</td>\n",
              "      <td>0.784314</td>\n",
              "      <td>0.031278</td>\n",
              "      <td>0.034030</td>\n",
              "      <td>0.026262</td>\n",
              "      <td>0.001939</td>\n",
              "      <td>0.275239</td>\n",
              "      <td>0.367530</td>\n",
              "    </tr>\n",
              "    <tr>\n",
              "      <th>...</th>\n",
              "      <td>...</td>\n",
              "      <td>...</td>\n",
              "      <td>...</td>\n",
              "      <td>...</td>\n",
              "      <td>...</td>\n",
              "      <td>...</td>\n",
              "      <td>...</td>\n",
              "      <td>...</td>\n",
              "    </tr>\n",
              "    <tr>\n",
              "      <th>16507</th>\n",
              "      <td>0.250003</td>\n",
              "      <td>0.705882</td>\n",
              "      <td>0.030225</td>\n",
              "      <td>0.021082</td>\n",
              "      <td>0.018078</td>\n",
              "      <td>0.002054</td>\n",
              "      <td>0.572795</td>\n",
              "      <td>0.181275</td>\n",
              "    </tr>\n",
              "    <tr>\n",
              "      <th>16508</th>\n",
              "      <td>0.048689</td>\n",
              "      <td>0.333333</td>\n",
              "      <td>0.011987</td>\n",
              "      <td>0.022423</td>\n",
              "      <td>0.053533</td>\n",
              "      <td>0.003393</td>\n",
              "      <td>0.153029</td>\n",
              "      <td>0.610558</td>\n",
              "    </tr>\n",
              "    <tr>\n",
              "      <th>16509</th>\n",
              "      <td>0.347147</td>\n",
              "      <td>0.098039</td>\n",
              "      <td>0.028776</td>\n",
              "      <td>0.018742</td>\n",
              "      <td>0.060456</td>\n",
              "      <td>0.005051</td>\n",
              "      <td>0.507970</td>\n",
              "      <td>0.254980</td>\n",
              "    </tr>\n",
              "    <tr>\n",
              "      <th>16510</th>\n",
              "      <td>0.117654</td>\n",
              "      <td>0.666667</td>\n",
              "      <td>0.013486</td>\n",
              "      <td>0.019703</td>\n",
              "      <td>0.060456</td>\n",
              "      <td>0.006100</td>\n",
              "      <td>0.153029</td>\n",
              "      <td>0.609562</td>\n",
              "    </tr>\n",
              "    <tr>\n",
              "      <th>16511</th>\n",
              "      <td>0.150094</td>\n",
              "      <td>0.294118</td>\n",
              "      <td>0.022025</td>\n",
              "      <td>0.022723</td>\n",
              "      <td>0.046834</td>\n",
              "      <td>0.002948</td>\n",
              "      <td>0.505845</td>\n",
              "      <td>0.246016</td>\n",
              "    </tr>\n",
              "  </tbody>\n",
              "</table>\n",
              "<p>16512 rows × 8 columns</p>\n",
              "</div>\n",
              "      <button class=\"colab-df-convert\" onclick=\"convertToInteractive('df-cf523317-b7d2-4e25-a3d2-b30b11e26c6a')\"\n",
              "              title=\"Convert this dataframe to an interactive table.\"\n",
              "              style=\"display:none;\">\n",
              "        \n",
              "  <svg xmlns=\"http://www.w3.org/2000/svg\" height=\"24px\"viewBox=\"0 0 24 24\"\n",
              "       width=\"24px\">\n",
              "    <path d=\"M0 0h24v24H0V0z\" fill=\"none\"/>\n",
              "    <path d=\"M18.56 5.44l.94 2.06.94-2.06 2.06-.94-2.06-.94-.94-2.06-.94 2.06-2.06.94zm-11 1L8.5 8.5l.94-2.06 2.06-.94-2.06-.94L8.5 2.5l-.94 2.06-2.06.94zm10 10l.94 2.06.94-2.06 2.06-.94-2.06-.94-.94-2.06-.94 2.06-2.06.94z\"/><path d=\"M17.41 7.96l-1.37-1.37c-.4-.4-.92-.59-1.43-.59-.52 0-1.04.2-1.43.59L10.3 9.45l-7.72 7.72c-.78.78-.78 2.05 0 2.83L4 21.41c.39.39.9.59 1.41.59.51 0 1.02-.2 1.41-.59l7.78-7.78 2.81-2.81c.8-.78.8-2.07 0-2.86zM5.41 20L4 18.59l7.72-7.72 1.47 1.35L5.41 20z\"/>\n",
              "  </svg>\n",
              "      </button>\n",
              "      \n",
              "  <style>\n",
              "    .colab-df-container {\n",
              "      display:flex;\n",
              "      flex-wrap:wrap;\n",
              "      gap: 12px;\n",
              "    }\n",
              "\n",
              "    .colab-df-convert {\n",
              "      background-color: #E8F0FE;\n",
              "      border: none;\n",
              "      border-radius: 50%;\n",
              "      cursor: pointer;\n",
              "      display: none;\n",
              "      fill: #1967D2;\n",
              "      height: 32px;\n",
              "      padding: 0 0 0 0;\n",
              "      width: 32px;\n",
              "    }\n",
              "\n",
              "    .colab-df-convert:hover {\n",
              "      background-color: #E2EBFA;\n",
              "      box-shadow: 0px 1px 2px rgba(60, 64, 67, 0.3), 0px 1px 3px 1px rgba(60, 64, 67, 0.15);\n",
              "      fill: #174EA6;\n",
              "    }\n",
              "\n",
              "    [theme=dark] .colab-df-convert {\n",
              "      background-color: #3B4455;\n",
              "      fill: #D2E3FC;\n",
              "    }\n",
              "\n",
              "    [theme=dark] .colab-df-convert:hover {\n",
              "      background-color: #434B5C;\n",
              "      box-shadow: 0px 1px 3px 1px rgba(0, 0, 0, 0.15);\n",
              "      filter: drop-shadow(0px 1px 2px rgba(0, 0, 0, 0.3));\n",
              "      fill: #FFFFFF;\n",
              "    }\n",
              "  </style>\n",
              "\n",
              "      <script>\n",
              "        const buttonEl =\n",
              "          document.querySelector('#df-cf523317-b7d2-4e25-a3d2-b30b11e26c6a button.colab-df-convert');\n",
              "        buttonEl.style.display =\n",
              "          google.colab.kernel.accessAllowed ? 'block' : 'none';\n",
              "\n",
              "        async function convertToInteractive(key) {\n",
              "          const element = document.querySelector('#df-cf523317-b7d2-4e25-a3d2-b30b11e26c6a');\n",
              "          const dataTable =\n",
              "            await google.colab.kernel.invokeFunction('convertToInteractive',\n",
              "                                                     [key], {});\n",
              "          if (!dataTable) return;\n",
              "\n",
              "          const docLinkHtml = 'Like what you see? Visit the ' +\n",
              "            '<a target=\"_blank\" href=https://colab.research.google.com/notebooks/data_table.ipynb>data table notebook</a>'\n",
              "            + ' to learn more about interactive tables.';\n",
              "          element.innerHTML = '';\n",
              "          dataTable['output_type'] = 'display_data';\n",
              "          await google.colab.output.renderOutput(dataTable, element);\n",
              "          const docLink = document.createElement('div');\n",
              "          docLink.innerHTML = docLinkHtml;\n",
              "          element.appendChild(docLink);\n",
              "        }\n",
              "      </script>\n",
              "    </div>\n",
              "  </div>\n",
              "  "
            ],
            "text/plain": [
              "         MedInc  HouseAge  AveRooms  AveBedrms  Population  AveOccup  \\\n",
              "0      0.139398  0.392157  0.035812   0.029696    0.101460  0.002332   \n",
              "1      0.147012  0.882353  0.038163   0.029968    0.022534  0.002525   \n",
              "2      0.321037  0.588235  0.029665   0.019907    0.041173  0.002821   \n",
              "3      0.160205  0.294118  0.027323   0.022704    0.048964  0.004528   \n",
              "4      0.101061  0.784314  0.031278   0.034030    0.026262  0.001939   \n",
              "...         ...       ...       ...        ...         ...       ...   \n",
              "16507  0.250003  0.705882  0.030225   0.021082    0.018078  0.002054   \n",
              "16508  0.048689  0.333333  0.011987   0.022423    0.053533  0.003393   \n",
              "16509  0.347147  0.098039  0.028776   0.018742    0.060456  0.005051   \n",
              "16510  0.117654  0.666667  0.013486   0.019703    0.060456  0.006100   \n",
              "16511  0.150094  0.294118  0.022025   0.022723    0.046834  0.002948   \n",
              "\n",
              "       Latitude  Longitude  \n",
              "0      0.136026   0.779880  \n",
              "1      0.633369   0.140438  \n",
              "2      0.540914   0.185259  \n",
              "3      0.161530   0.621514  \n",
              "4      0.275239   0.367530  \n",
              "...         ...        ...  \n",
              "16507  0.572795   0.181275  \n",
              "16508  0.153029   0.610558  \n",
              "16509  0.507970   0.254980  \n",
              "16510  0.153029   0.609562  \n",
              "16511  0.505845   0.246016  \n",
              "\n",
              "[16512 rows x 8 columns]"
            ]
          },
          "execution_count": 20,
          "metadata": {},
          "output_type": "execute_result"
        }
      ],
      "source": [
        "X_train_norm = pd.DataFrame(mms.transform(X_train), columns=X_train.columns)\n",
        "X_train_norm"
      ]
    },
    {
      "cell_type": "markdown",
      "metadata": {
        "id": "HDkmqotQeRED"
      },
      "source": [
        "Значения на первый взгляд стали меньше, давайте глянем через `describe()`"
      ]
    },
    {
      "cell_type": "code",
      "execution_count": null,
      "metadata": {
        "colab": {
          "base_uri": "https://localhost:8080/",
          "height": 300
        },
        "id": "xDHjbqoXeWgm",
        "outputId": "ab9effa2-e738-4f57-fa4e-dea0eb37dad9"
      },
      "outputs": [
        {
          "data": {
            "text/html": [
              "\n",
              "  <div id=\"df-fca4180e-0f8b-429c-92d5-7c483577b117\">\n",
              "    <div class=\"colab-df-container\">\n",
              "      <div>\n",
              "<style scoped>\n",
              "    .dataframe tbody tr th:only-of-type {\n",
              "        vertical-align: middle;\n",
              "    }\n",
              "\n",
              "    .dataframe tbody tr th {\n",
              "        vertical-align: top;\n",
              "    }\n",
              "\n",
              "    .dataframe thead th {\n",
              "        text-align: right;\n",
              "    }\n",
              "</style>\n",
              "<table border=\"1\" class=\"dataframe\">\n",
              "  <thead>\n",
              "    <tr style=\"text-align: right;\">\n",
              "      <th></th>\n",
              "      <th>MedInc</th>\n",
              "      <th>HouseAge</th>\n",
              "      <th>AveRooms</th>\n",
              "      <th>AveBedrms</th>\n",
              "      <th>Population</th>\n",
              "      <th>AveOccup</th>\n",
              "      <th>Latitude</th>\n",
              "      <th>Longitude</th>\n",
              "    </tr>\n",
              "  </thead>\n",
              "  <tbody>\n",
              "    <tr>\n",
              "      <th>count</th>\n",
              "      <td>16512.000000</td>\n",
              "      <td>16512.000000</td>\n",
              "      <td>16512.000000</td>\n",
              "      <td>16512.000000</td>\n",
              "      <td>16512.000000</td>\n",
              "      <td>16512.000000</td>\n",
              "      <td>16512.000000</td>\n",
              "      <td>16512.000000</td>\n",
              "    </tr>\n",
              "    <tr>\n",
              "      <th>mean</th>\n",
              "      <td>0.231956</td>\n",
              "      <td>0.541389</td>\n",
              "      <td>0.032506</td>\n",
              "      <td>0.022676</td>\n",
              "      <td>0.039882</td>\n",
              "      <td>0.003897</td>\n",
              "      <td>0.329404</td>\n",
              "      <td>0.475445</td>\n",
              "    </tr>\n",
              "    <tr>\n",
              "      <th>std</th>\n",
              "      <td>0.130436</td>\n",
              "      <td>0.247553</td>\n",
              "      <td>0.018406</td>\n",
              "      <td>0.014861</td>\n",
              "      <td>0.031845</td>\n",
              "      <td>0.010724</td>\n",
              "      <td>0.227318</td>\n",
              "      <td>0.199838</td>\n",
              "    </tr>\n",
              "    <tr>\n",
              "      <th>min</th>\n",
              "      <td>0.000000</td>\n",
              "      <td>0.000000</td>\n",
              "      <td>0.000000</td>\n",
              "      <td>0.000000</td>\n",
              "      <td>0.000000</td>\n",
              "      <td>0.000000</td>\n",
              "      <td>0.000000</td>\n",
              "      <td>0.000000</td>\n",
              "    </tr>\n",
              "    <tr>\n",
              "      <th>25%</th>\n",
              "      <td>0.142019</td>\n",
              "      <td>0.333333</td>\n",
              "      <td>0.025438</td>\n",
              "      <td>0.019949</td>\n",
              "      <td>0.021918</td>\n",
              "      <td>0.002900</td>\n",
              "      <td>0.147715</td>\n",
              "      <td>0.253984</td>\n",
              "    </tr>\n",
              "    <tr>\n",
              "      <th>50%</th>\n",
              "      <td>0.209138</td>\n",
              "      <td>0.549020</td>\n",
              "      <td>0.031022</td>\n",
              "      <td>0.021210</td>\n",
              "      <td>0.032582</td>\n",
              "      <td>0.003548</td>\n",
              "      <td>0.182784</td>\n",
              "      <td>0.582669</td>\n",
              "    </tr>\n",
              "    <tr>\n",
              "      <th>75%</th>\n",
              "      <td>0.292396</td>\n",
              "      <td>0.705882</td>\n",
              "      <td>0.036928</td>\n",
              "      <td>0.022704</td>\n",
              "      <td>0.048404</td>\n",
              "      <td>0.004322</td>\n",
              "      <td>0.550478</td>\n",
              "      <td>0.631474</td>\n",
              "    </tr>\n",
              "    <tr>\n",
              "      <th>max</th>\n",
              "      <td>1.000000</td>\n",
              "      <td>1.000000</td>\n",
              "      <td>1.000000</td>\n",
              "      <td>1.000000</td>\n",
              "      <td>1.000000</td>\n",
              "      <td>1.000000</td>\n",
              "      <td>1.000000</td>\n",
              "      <td>1.000000</td>\n",
              "    </tr>\n",
              "  </tbody>\n",
              "</table>\n",
              "</div>\n",
              "      <button class=\"colab-df-convert\" onclick=\"convertToInteractive('df-fca4180e-0f8b-429c-92d5-7c483577b117')\"\n",
              "              title=\"Convert this dataframe to an interactive table.\"\n",
              "              style=\"display:none;\">\n",
              "        \n",
              "  <svg xmlns=\"http://www.w3.org/2000/svg\" height=\"24px\"viewBox=\"0 0 24 24\"\n",
              "       width=\"24px\">\n",
              "    <path d=\"M0 0h24v24H0V0z\" fill=\"none\"/>\n",
              "    <path d=\"M18.56 5.44l.94 2.06.94-2.06 2.06-.94-2.06-.94-.94-2.06-.94 2.06-2.06.94zm-11 1L8.5 8.5l.94-2.06 2.06-.94-2.06-.94L8.5 2.5l-.94 2.06-2.06.94zm10 10l.94 2.06.94-2.06 2.06-.94-2.06-.94-.94-2.06-.94 2.06-2.06.94z\"/><path d=\"M17.41 7.96l-1.37-1.37c-.4-.4-.92-.59-1.43-.59-.52 0-1.04.2-1.43.59L10.3 9.45l-7.72 7.72c-.78.78-.78 2.05 0 2.83L4 21.41c.39.39.9.59 1.41.59.51 0 1.02-.2 1.41-.59l7.78-7.78 2.81-2.81c.8-.78.8-2.07 0-2.86zM5.41 20L4 18.59l7.72-7.72 1.47 1.35L5.41 20z\"/>\n",
              "  </svg>\n",
              "      </button>\n",
              "      \n",
              "  <style>\n",
              "    .colab-df-container {\n",
              "      display:flex;\n",
              "      flex-wrap:wrap;\n",
              "      gap: 12px;\n",
              "    }\n",
              "\n",
              "    .colab-df-convert {\n",
              "      background-color: #E8F0FE;\n",
              "      border: none;\n",
              "      border-radius: 50%;\n",
              "      cursor: pointer;\n",
              "      display: none;\n",
              "      fill: #1967D2;\n",
              "      height: 32px;\n",
              "      padding: 0 0 0 0;\n",
              "      width: 32px;\n",
              "    }\n",
              "\n",
              "    .colab-df-convert:hover {\n",
              "      background-color: #E2EBFA;\n",
              "      box-shadow: 0px 1px 2px rgba(60, 64, 67, 0.3), 0px 1px 3px 1px rgba(60, 64, 67, 0.15);\n",
              "      fill: #174EA6;\n",
              "    }\n",
              "\n",
              "    [theme=dark] .colab-df-convert {\n",
              "      background-color: #3B4455;\n",
              "      fill: #D2E3FC;\n",
              "    }\n",
              "\n",
              "    [theme=dark] .colab-df-convert:hover {\n",
              "      background-color: #434B5C;\n",
              "      box-shadow: 0px 1px 3px 1px rgba(0, 0, 0, 0.15);\n",
              "      filter: drop-shadow(0px 1px 2px rgba(0, 0, 0, 0.3));\n",
              "      fill: #FFFFFF;\n",
              "    }\n",
              "  </style>\n",
              "\n",
              "      <script>\n",
              "        const buttonEl =\n",
              "          document.querySelector('#df-fca4180e-0f8b-429c-92d5-7c483577b117 button.colab-df-convert');\n",
              "        buttonEl.style.display =\n",
              "          google.colab.kernel.accessAllowed ? 'block' : 'none';\n",
              "\n",
              "        async function convertToInteractive(key) {\n",
              "          const element = document.querySelector('#df-fca4180e-0f8b-429c-92d5-7c483577b117');\n",
              "          const dataTable =\n",
              "            await google.colab.kernel.invokeFunction('convertToInteractive',\n",
              "                                                     [key], {});\n",
              "          if (!dataTable) return;\n",
              "\n",
              "          const docLinkHtml = 'Like what you see? Visit the ' +\n",
              "            '<a target=\"_blank\" href=https://colab.research.google.com/notebooks/data_table.ipynb>data table notebook</a>'\n",
              "            + ' to learn more about interactive tables.';\n",
              "          element.innerHTML = '';\n",
              "          dataTable['output_type'] = 'display_data';\n",
              "          await google.colab.output.renderOutput(dataTable, element);\n",
              "          const docLink = document.createElement('div');\n",
              "          docLink.innerHTML = docLinkHtml;\n",
              "          element.appendChild(docLink);\n",
              "        }\n",
              "      </script>\n",
              "    </div>\n",
              "  </div>\n",
              "  "
            ],
            "text/plain": [
              "             MedInc      HouseAge      AveRooms     AveBedrms    Population  \\\n",
              "count  16512.000000  16512.000000  16512.000000  16512.000000  16512.000000   \n",
              "mean       0.231956      0.541389      0.032506      0.022676      0.039882   \n",
              "std        0.130436      0.247553      0.018406      0.014861      0.031845   \n",
              "min        0.000000      0.000000      0.000000      0.000000      0.000000   \n",
              "25%        0.142019      0.333333      0.025438      0.019949      0.021918   \n",
              "50%        0.209138      0.549020      0.031022      0.021210      0.032582   \n",
              "75%        0.292396      0.705882      0.036928      0.022704      0.048404   \n",
              "max        1.000000      1.000000      1.000000      1.000000      1.000000   \n",
              "\n",
              "           AveOccup      Latitude     Longitude  \n",
              "count  16512.000000  16512.000000  16512.000000  \n",
              "mean       0.003897      0.329404      0.475445  \n",
              "std        0.010724      0.227318      0.199838  \n",
              "min        0.000000      0.000000      0.000000  \n",
              "25%        0.002900      0.147715      0.253984  \n",
              "50%        0.003548      0.182784      0.582669  \n",
              "75%        0.004322      0.550478      0.631474  \n",
              "max        1.000000      1.000000      1.000000  "
            ]
          },
          "execution_count": 21,
          "metadata": {},
          "output_type": "execute_result"
        }
      ],
      "source": [
        "X_train_norm.describe()"
      ]
    },
    {
      "cell_type": "markdown",
      "metadata": {
        "id": "nqE2xQNAeYnW"
      },
      "source": [
        "Действительно, минимальные значения везде равны 0, а максимальные везде равны 1."
      ]
    },
    {
      "cell_type": "markdown",
      "metadata": {
        "id": "syNJMzcme096"
      },
      "source": [
        "И давайте вдобавок нормализуем тестовую выборку. При этом пользуемся `min` и `max` значениями с обучающей выборке, на тесте ничего никогда не считается."
      ]
    },
    {
      "cell_type": "code",
      "execution_count": null,
      "metadata": {
        "colab": {
          "base_uri": "https://localhost:8080/",
          "height": 300
        },
        "id": "OZGBbI2xe097",
        "outputId": "bd503147-1827-4a8c-fd93-9c9f87859aa7"
      },
      "outputs": [
        {
          "data": {
            "text/html": [
              "\n",
              "  <div id=\"df-cdb131c0-5856-4957-804e-e2578b236286\">\n",
              "    <div class=\"colab-df-container\">\n",
              "      <div>\n",
              "<style scoped>\n",
              "    .dataframe tbody tr th:only-of-type {\n",
              "        vertical-align: middle;\n",
              "    }\n",
              "\n",
              "    .dataframe tbody tr th {\n",
              "        vertical-align: top;\n",
              "    }\n",
              "\n",
              "    .dataframe thead th {\n",
              "        text-align: right;\n",
              "    }\n",
              "</style>\n",
              "<table border=\"1\" class=\"dataframe\">\n",
              "  <thead>\n",
              "    <tr style=\"text-align: right;\">\n",
              "      <th></th>\n",
              "      <th>MedInc</th>\n",
              "      <th>HouseAge</th>\n",
              "      <th>AveRooms</th>\n",
              "      <th>AveBedrms</th>\n",
              "      <th>Population</th>\n",
              "      <th>AveOccup</th>\n",
              "      <th>Latitude</th>\n",
              "      <th>Longitude</th>\n",
              "    </tr>\n",
              "  </thead>\n",
              "  <tbody>\n",
              "    <tr>\n",
              "      <th>count</th>\n",
              "      <td>4128.000000</td>\n",
              "      <td>4128.000000</td>\n",
              "      <td>4128.000000</td>\n",
              "      <td>4128.000000</td>\n",
              "      <td>4128.000000</td>\n",
              "      <td>4128.000000</td>\n",
              "      <td>4128.000000</td>\n",
              "      <td>4128.000000</td>\n",
              "    </tr>\n",
              "    <tr>\n",
              "      <th>mean</th>\n",
              "      <td>0.234496</td>\n",
              "      <td>0.544198</td>\n",
              "      <td>0.032414</td>\n",
              "      <td>0.022440</td>\n",
              "      <td>0.039816</td>\n",
              "      <td>0.004262</td>\n",
              "      <td>0.325244</td>\n",
              "      <td>0.478847</td>\n",
              "    </tr>\n",
              "    <tr>\n",
              "      <th>std</th>\n",
              "      <td>0.133330</td>\n",
              "      <td>0.243659</td>\n",
              "      <td>0.013532</td>\n",
              "      <td>0.010172</td>\n",
              "      <td>0.031321</td>\n",
              "      <td>0.032298</td>\n",
              "      <td>0.225655</td>\n",
              "      <td>0.198421</td>\n",
              "    </tr>\n",
              "    <tr>\n",
              "      <th>min</th>\n",
              "      <td>0.000000</td>\n",
              "      <td>0.000000</td>\n",
              "      <td>0.002015</td>\n",
              "      <td>0.003294</td>\n",
              "      <td>0.000056</td>\n",
              "      <td>0.000465</td>\n",
              "      <td>0.002125</td>\n",
              "      <td>0.004980</td>\n",
              "    </tr>\n",
              "    <tr>\n",
              "      <th>25%</th>\n",
              "      <td>0.143938</td>\n",
              "      <td>0.333333</td>\n",
              "      <td>0.025715</td>\n",
              "      <td>0.019910</td>\n",
              "      <td>0.022142</td>\n",
              "      <td>0.002904</td>\n",
              "      <td>0.148778</td>\n",
              "      <td>0.258715</td>\n",
              "    </tr>\n",
              "    <tr>\n",
              "      <th>50%</th>\n",
              "      <td>0.210390</td>\n",
              "      <td>0.549020</td>\n",
              "      <td>0.031240</td>\n",
              "      <td>0.021195</td>\n",
              "      <td>0.032680</td>\n",
              "      <td>0.003552</td>\n",
              "      <td>0.180659</td>\n",
              "      <td>0.584661</td>\n",
              "    </tr>\n",
              "    <tr>\n",
              "      <th>75%</th>\n",
              "      <td>0.294279</td>\n",
              "      <td>0.705882</td>\n",
              "      <td>0.036861</td>\n",
              "      <td>0.022743</td>\n",
              "      <td>0.047619</td>\n",
              "      <td>0.004325</td>\n",
              "      <td>0.548353</td>\n",
              "      <td>0.631474</td>\n",
              "    </tr>\n",
              "    <tr>\n",
              "      <th>max</th>\n",
              "      <td>1.000000</td>\n",
              "      <td>1.000000</td>\n",
              "      <td>0.436515</td>\n",
              "      <td>0.408432</td>\n",
              "      <td>0.451778</td>\n",
              "      <td>2.074450</td>\n",
              "      <td>0.988310</td>\n",
              "      <td>0.982072</td>\n",
              "    </tr>\n",
              "  </tbody>\n",
              "</table>\n",
              "</div>\n",
              "      <button class=\"colab-df-convert\" onclick=\"convertToInteractive('df-cdb131c0-5856-4957-804e-e2578b236286')\"\n",
              "              title=\"Convert this dataframe to an interactive table.\"\n",
              "              style=\"display:none;\">\n",
              "        \n",
              "  <svg xmlns=\"http://www.w3.org/2000/svg\" height=\"24px\"viewBox=\"0 0 24 24\"\n",
              "       width=\"24px\">\n",
              "    <path d=\"M0 0h24v24H0V0z\" fill=\"none\"/>\n",
              "    <path d=\"M18.56 5.44l.94 2.06.94-2.06 2.06-.94-2.06-.94-.94-2.06-.94 2.06-2.06.94zm-11 1L8.5 8.5l.94-2.06 2.06-.94-2.06-.94L8.5 2.5l-.94 2.06-2.06.94zm10 10l.94 2.06.94-2.06 2.06-.94-2.06-.94-.94-2.06-.94 2.06-2.06.94z\"/><path d=\"M17.41 7.96l-1.37-1.37c-.4-.4-.92-.59-1.43-.59-.52 0-1.04.2-1.43.59L10.3 9.45l-7.72 7.72c-.78.78-.78 2.05 0 2.83L4 21.41c.39.39.9.59 1.41.59.51 0 1.02-.2 1.41-.59l7.78-7.78 2.81-2.81c.8-.78.8-2.07 0-2.86zM5.41 20L4 18.59l7.72-7.72 1.47 1.35L5.41 20z\"/>\n",
              "  </svg>\n",
              "      </button>\n",
              "      \n",
              "  <style>\n",
              "    .colab-df-container {\n",
              "      display:flex;\n",
              "      flex-wrap:wrap;\n",
              "      gap: 12px;\n",
              "    }\n",
              "\n",
              "    .colab-df-convert {\n",
              "      background-color: #E8F0FE;\n",
              "      border: none;\n",
              "      border-radius: 50%;\n",
              "      cursor: pointer;\n",
              "      display: none;\n",
              "      fill: #1967D2;\n",
              "      height: 32px;\n",
              "      padding: 0 0 0 0;\n",
              "      width: 32px;\n",
              "    }\n",
              "\n",
              "    .colab-df-convert:hover {\n",
              "      background-color: #E2EBFA;\n",
              "      box-shadow: 0px 1px 2px rgba(60, 64, 67, 0.3), 0px 1px 3px 1px rgba(60, 64, 67, 0.15);\n",
              "      fill: #174EA6;\n",
              "    }\n",
              "\n",
              "    [theme=dark] .colab-df-convert {\n",
              "      background-color: #3B4455;\n",
              "      fill: #D2E3FC;\n",
              "    }\n",
              "\n",
              "    [theme=dark] .colab-df-convert:hover {\n",
              "      background-color: #434B5C;\n",
              "      box-shadow: 0px 1px 3px 1px rgba(0, 0, 0, 0.15);\n",
              "      filter: drop-shadow(0px 1px 2px rgba(0, 0, 0, 0.3));\n",
              "      fill: #FFFFFF;\n",
              "    }\n",
              "  </style>\n",
              "\n",
              "      <script>\n",
              "        const buttonEl =\n",
              "          document.querySelector('#df-cdb131c0-5856-4957-804e-e2578b236286 button.colab-df-convert');\n",
              "        buttonEl.style.display =\n",
              "          google.colab.kernel.accessAllowed ? 'block' : 'none';\n",
              "\n",
              "        async function convertToInteractive(key) {\n",
              "          const element = document.querySelector('#df-cdb131c0-5856-4957-804e-e2578b236286');\n",
              "          const dataTable =\n",
              "            await google.colab.kernel.invokeFunction('convertToInteractive',\n",
              "                                                     [key], {});\n",
              "          if (!dataTable) return;\n",
              "\n",
              "          const docLinkHtml = 'Like what you see? Visit the ' +\n",
              "            '<a target=\"_blank\" href=https://colab.research.google.com/notebooks/data_table.ipynb>data table notebook</a>'\n",
              "            + ' to learn more about interactive tables.';\n",
              "          element.innerHTML = '';\n",
              "          dataTable['output_type'] = 'display_data';\n",
              "          await google.colab.output.renderOutput(dataTable, element);\n",
              "          const docLink = document.createElement('div');\n",
              "          docLink.innerHTML = docLinkHtml;\n",
              "          element.appendChild(docLink);\n",
              "        }\n",
              "      </script>\n",
              "    </div>\n",
              "  </div>\n",
              "  "
            ],
            "text/plain": [
              "            MedInc     HouseAge     AveRooms    AveBedrms   Population  \\\n",
              "count  4128.000000  4128.000000  4128.000000  4128.000000  4128.000000   \n",
              "mean      0.234496     0.544198     0.032414     0.022440     0.039816   \n",
              "std       0.133330     0.243659     0.013532     0.010172     0.031321   \n",
              "min       0.000000     0.000000     0.002015     0.003294     0.000056   \n",
              "25%       0.143938     0.333333     0.025715     0.019910     0.022142   \n",
              "50%       0.210390     0.549020     0.031240     0.021195     0.032680   \n",
              "75%       0.294279     0.705882     0.036861     0.022743     0.047619   \n",
              "max       1.000000     1.000000     0.436515     0.408432     0.451778   \n",
              "\n",
              "          AveOccup     Latitude    Longitude  \n",
              "count  4128.000000  4128.000000  4128.000000  \n",
              "mean      0.004262     0.325244     0.478847  \n",
              "std       0.032298     0.225655     0.198421  \n",
              "min       0.000465     0.002125     0.004980  \n",
              "25%       0.002904     0.148778     0.258715  \n",
              "50%       0.003552     0.180659     0.584661  \n",
              "75%       0.004325     0.548353     0.631474  \n",
              "max       2.074450     0.988310     0.982072  "
            ]
          },
          "execution_count": 22,
          "metadata": {},
          "output_type": "execute_result"
        }
      ],
      "source": [
        "X_test_norm = pd.DataFrame(mms.transform(X_test), columns=X_train.columns)\n",
        "X_test_norm.describe()"
      ]
    },
    {
      "cell_type": "markdown",
      "metadata": {
        "id": "3ya2LhQQggWi"
      },
      "source": [
        "При этом где-то мы не получили чистый 0 в `min` и 1 в `max`, это как раз-таки из-за того, что используем `min` и `max` с обучения.\n",
        "\n",
        "В этом ничего страшного нет, на тесте нет цели получить сто процентный 0 и 1, цель - **перевести данные в такую же шкалу**, что получили на трейне."
      ]
    },
    {
      "cell_type": "markdown",
      "metadata": {
        "id": "7bGBAbvLhUaY"
      },
      "source": [
        "Ведь действительно у нас на обучении самый густонаселенный дом вмещает 35к людей, а вот на тесте всего лишь 16к, меньше в два раза, чем на обучении, поэтому и максимальное значение в `Population` с теста оказывается на половине шкалы с обучения."
      ]
    },
    {
      "cell_type": "code",
      "execution_count": null,
      "metadata": {
        "colab": {
          "base_uri": "https://localhost:8080/"
        },
        "id": "M_jNY0OjhO6D",
        "outputId": "ce007118-735d-426d-c6a7-6d9ad71010b2"
      },
      "outputs": [
        {
          "data": {
            "text/plain": [
              "(35682.0, 16122.0)"
            ]
          },
          "execution_count": 23,
          "metadata": {},
          "output_type": "execute_result"
        }
      ],
      "source": [
        "X_train['Population'].max(), X_test['Population'].max()"
      ]
    },
    {
      "cell_type": "code",
      "execution_count": null,
      "metadata": {
        "colab": {
          "base_uri": "https://localhost:8080/",
          "height": 265
        },
        "id": "2vm1DTXAhkw9",
        "outputId": "283ce0db-909b-4e00-ffc3-7146982610ae"
      },
      "outputs": [
        {
          "data": {
            "image/png": "[encoded data removed]",
            "text/plain": [
              "<Figure size 432x288 with 1 Axes>"
            ]
          },
          "metadata": {
            "needs_background": "light"
          },
          "output_type": "display_data"
        }
      ],
      "source": [
        "import matplotlib.pyplot as plt\n",
        "import numpy as np\n",
        "\n",
        "\n",
        "x = np.arange(0, 36000)\n",
        "y = 0 * x\n",
        "plt.plot(x, y)\n",
        "plt.scatter([X_train['Population'].max()], [0], label='max train population', marker='*', c='r', s=100)\n",
        "plt.scatter([X_test['Population'].max()], [0], label='max test population', marker='o', c='g')\n",
        "plt.grid()\n",
        "plt.legend();"
      ]
    },
    {
      "cell_type": "markdown",
      "metadata": {
        "id": "VoWDrlh6i7ns"
      },
      "source": [
        "Тоже самое будет и в масштабированном виде."
      ]
    },
    {
      "cell_type": "code",
      "execution_count": null,
      "metadata": {
        "colab": {
          "base_uri": "https://localhost:8080/"
        },
        "id": "nHPG2zbCi-6E",
        "outputId": "e3239a5c-278a-4019-d0e7-2e8f502c176b"
      },
      "outputs": [
        {
          "data": {
            "text/plain": [
              "(1.0, 0.4517783570167325)"
            ]
          },
          "execution_count": 25,
          "metadata": {},
          "output_type": "execute_result"
        }
      ],
      "source": [
        "X_train_norm['Population'].max(), X_test_norm['Population'].max()"
      ]
    },
    {
      "cell_type": "code",
      "execution_count": null,
      "metadata": {
        "colab": {
          "base_uri": "https://localhost:8080/",
          "height": 265
        },
        "id": "XshmR1_6i-6F",
        "outputId": "a02332b8-48a0-40c9-8a0c-15b11903af89"
      },
      "outputs": [
        {
          "data": {
            "image/png": "[encoded data removed]",
            "text/plain": [
              "<Figure size 432x288 with 1 Axes>"
            ]
          },
          "metadata": {
            "needs_background": "light"
          },
          "output_type": "display_data"
        }
      ],
      "source": [
        "x = np.linspace(0, 1, 5)\n",
        "y = 0 * x\n",
        "plt.plot(x, y)\n",
        "plt.scatter([X_train_norm['Population'].max()], [0], label='max train population', marker='*', c='r', s=100)\n",
        "plt.scatter([X_test_norm['Population'].max()], [0], label='max test population', marker='o', c='g')\n",
        "plt.grid()\n",
        "plt.legend();"
      ]
    },
    {
      "cell_type": "markdown",
      "metadata": {
        "id": "_fuTxsv5hNyK"
      },
      "source": [
        "Так что это абсолютная норма, что на тесте данные не принимают в максимальном 1, а в минимальном 0."
      ]
    },
    {
      "cell_type": "markdown",
      "metadata": {
        "id": "M_1zfNTXejCt"
      },
      "source": [
        "#### Самостоятельно"
      ]
    },
    {
      "cell_type": "markdown",
      "metadata": {
        "id": "kO-VNcE6ekz1"
      },
      "source": [
        "С sklearn версией разобрались, сейчас давайте напишим свой нормализатор.\n",
        "\n",
        "Для начала нужно посчитать минимальные и максимальные значения в исходных данных."
      ]
    },
    {
      "cell_type": "code",
      "execution_count": null,
      "metadata": {
        "colab": {
          "base_uri": "https://localhost:8080/",
          "height": 329
        },
        "id": "n0KlQFl8euJF",
        "outputId": "32ff5e5d-f097-4b7c-b1da-e1e8be18c5ac"
      },
      "outputs": [
        {
          "data": {
            "text/plain": [
              "MedInc          0.499900\n",
              "HouseAge        1.000000\n",
              "AveRooms        0.846154\n",
              "AveBedrms       0.333333\n",
              "Population      3.000000\n",
              "AveOccup        0.692308\n",
              "Latitude       32.540000\n",
              "Longitude    -124.350000\n",
              "dtype: float64"
            ]
          },
          "metadata": {},
          "output_type": "display_data"
        },
        {
          "data": {
            "text/plain": [
              "MedInc           15.000100\n",
              "HouseAge         52.000000\n",
              "AveRooms        141.909091\n",
              "AveBedrms        34.066667\n",
              "Population    35682.000000\n",
              "AveOccup        599.714286\n",
              "Latitude         41.950000\n",
              "Longitude      -114.310000\n",
              "dtype: float64"
            ]
          },
          "metadata": {},
          "output_type": "display_data"
        }
      ],
      "source": [
        "mins = X_train.min()\n",
        "maxs = X_train.max()\n",
        "\n",
        "display(mins, maxs)"
      ]
    },
    {
      "cell_type": "markdown",
      "metadata": {
        "id": "JC823oQxfhLn"
      },
      "source": [
        "А затем нужно пройтись по всем признакам и вычесть минимум и поделть на разницу минимума и максимуму:\n",
        "\n",
        "$$x = \\frac{x - min}{max - min}$$\n"
      ]
    },
    {
      "cell_type": "code",
      "execution_count": null,
      "metadata": {
        "colab": {
          "base_uri": "https://localhost:8080/",
          "height": 300
        },
        "id": "zioym95Pfpbr",
        "outputId": "7f9fcaf4-3f71-4505-fb22-f2755029ee7d"
      },
      "outputs": [
        {
          "data": {
            "text/html": [
              "\n",
              "  <div id=\"df-99cec1f1-1498-4cb8-a396-c88bf26ba9e3\">\n",
              "    <div class=\"colab-df-container\">\n",
              "      <div>\n",
              "<style scoped>\n",
              "    .dataframe tbody tr th:only-of-type {\n",
              "        vertical-align: middle;\n",
              "    }\n",
              "\n",
              "    .dataframe tbody tr th {\n",
              "        vertical-align: top;\n",
              "    }\n",
              "\n",
              "    .dataframe thead th {\n",
              "        text-align: right;\n",
              "    }\n",
              "</style>\n",
              "<table border=\"1\" class=\"dataframe\">\n",
              "  <thead>\n",
              "    <tr style=\"text-align: right;\">\n",
              "      <th></th>\n",
              "      <th>MedInc</th>\n",
              "      <th>HouseAge</th>\n",
              "      <th>AveRooms</th>\n",
              "      <th>AveBedrms</th>\n",
              "      <th>Population</th>\n",
              "      <th>AveOccup</th>\n",
              "      <th>Latitude</th>\n",
              "      <th>Longitude</th>\n",
              "    </tr>\n",
              "  </thead>\n",
              "  <tbody>\n",
              "    <tr>\n",
              "      <th>count</th>\n",
              "      <td>16512.000000</td>\n",
              "      <td>16512.000000</td>\n",
              "      <td>16512.000000</td>\n",
              "      <td>16512.000000</td>\n",
              "      <td>16512.000000</td>\n",
              "      <td>16512.000000</td>\n",
              "      <td>16512.000000</td>\n",
              "      <td>16512.000000</td>\n",
              "    </tr>\n",
              "    <tr>\n",
              "      <th>mean</th>\n",
              "      <td>0.231956</td>\n",
              "      <td>0.541389</td>\n",
              "      <td>0.032506</td>\n",
              "      <td>0.022676</td>\n",
              "      <td>0.039882</td>\n",
              "      <td>0.003897</td>\n",
              "      <td>0.329404</td>\n",
              "      <td>0.475445</td>\n",
              "    </tr>\n",
              "    <tr>\n",
              "      <th>std</th>\n",
              "      <td>0.130436</td>\n",
              "      <td>0.247553</td>\n",
              "      <td>0.018406</td>\n",
              "      <td>0.014861</td>\n",
              "      <td>0.031845</td>\n",
              "      <td>0.010724</td>\n",
              "      <td>0.227318</td>\n",
              "      <td>0.199838</td>\n",
              "    </tr>\n",
              "    <tr>\n",
              "      <th>min</th>\n",
              "      <td>0.000000</td>\n",
              "      <td>0.000000</td>\n",
              "      <td>0.000000</td>\n",
              "      <td>0.000000</td>\n",
              "      <td>0.000000</td>\n",
              "      <td>0.000000</td>\n",
              "      <td>0.000000</td>\n",
              "      <td>0.000000</td>\n",
              "    </tr>\n",
              "    <tr>\n",
              "      <th>25%</th>\n",
              "      <td>0.142019</td>\n",
              "      <td>0.333333</td>\n",
              "      <td>0.025438</td>\n",
              "      <td>0.019949</td>\n",
              "      <td>0.021918</td>\n",
              "      <td>0.002900</td>\n",
              "      <td>0.147715</td>\n",
              "      <td>0.253984</td>\n",
              "    </tr>\n",
              "    <tr>\n",
              "      <th>50%</th>\n",
              "      <td>0.209138</td>\n",
              "      <td>0.549020</td>\n",
              "      <td>0.031022</td>\n",
              "      <td>0.021210</td>\n",
              "      <td>0.032582</td>\n",
              "      <td>0.003548</td>\n",
              "      <td>0.182784</td>\n",
              "      <td>0.582669</td>\n",
              "    </tr>\n",
              "    <tr>\n",
              "      <th>75%</th>\n",
              "      <td>0.292396</td>\n",
              "      <td>0.705882</td>\n",
              "      <td>0.036928</td>\n",
              "      <td>0.022704</td>\n",
              "      <td>0.048404</td>\n",
              "      <td>0.004322</td>\n",
              "      <td>0.550478</td>\n",
              "      <td>0.631474</td>\n",
              "    </tr>\n",
              "    <tr>\n",
              "      <th>max</th>\n",
              "      <td>1.000000</td>\n",
              "      <td>1.000000</td>\n",
              "      <td>1.000000</td>\n",
              "      <td>1.000000</td>\n",
              "      <td>1.000000</td>\n",
              "      <td>1.000000</td>\n",
              "      <td>1.000000</td>\n",
              "      <td>1.000000</td>\n",
              "    </tr>\n",
              "  </tbody>\n",
              "</table>\n",
              "</div>\n",
              "      <button class=\"colab-df-convert\" onclick=\"convertToInteractive('df-99cec1f1-1498-4cb8-a396-c88bf26ba9e3')\"\n",
              "              title=\"Convert this dataframe to an interactive table.\"\n",
              "              style=\"display:none;\">\n",
              "        \n",
              "  <svg xmlns=\"http://www.w3.org/2000/svg\" height=\"24px\"viewBox=\"0 0 24 24\"\n",
              "       width=\"24px\">\n",
              "    <path d=\"M0 0h24v24H0V0z\" fill=\"none\"/>\n",
              "    <path d=\"M18.56 5.44l.94 2.06.94-2.06 2.06-.94-2.06-.94-.94-2.06-.94 2.06-2.06.94zm-11 1L8.5 8.5l.94-2.06 2.06-.94-2.06-.94L8.5 2.5l-.94 2.06-2.06.94zm10 10l.94 2.06.94-2.06 2.06-.94-2.06-.94-.94-2.06-.94 2.06-2.06.94z\"/><path d=\"M17.41 7.96l-1.37-1.37c-.4-.4-.92-.59-1.43-.59-.52 0-1.04.2-1.43.59L10.3 9.45l-7.72 7.72c-.78.78-.78 2.05 0 2.83L4 21.41c.39.39.9.59 1.41.59.51 0 1.02-.2 1.41-.59l7.78-7.78 2.81-2.81c.8-.78.8-2.07 0-2.86zM5.41 20L4 18.59l7.72-7.72 1.47 1.35L5.41 20z\"/>\n",
              "  </svg>\n",
              "      </button>\n",
              "      \n",
              "  <style>\n",
              "    .colab-df-container {\n",
              "      display:flex;\n",
              "      flex-wrap:wrap;\n",
              "      gap: 12px;\n",
              "    }\n",
              "\n",
              "    .colab-df-convert {\n",
              "      background-color: #E8F0FE;\n",
              "      border: none;\n",
              "      border-radius: 50%;\n",
              "      cursor: pointer;\n",
              "      display: none;\n",
              "      fill: #1967D2;\n",
              "      height: 32px;\n",
              "      padding: 0 0 0 0;\n",
              "      width: 32px;\n",
              "    }\n",
              "\n",
              "    .colab-df-convert:hover {\n",
              "      background-color: #E2EBFA;\n",
              "      box-shadow: 0px 1px 2px rgba(60, 64, 67, 0.3), 0px 1px 3px 1px rgba(60, 64, 67, 0.15);\n",
              "      fill: #174EA6;\n",
              "    }\n",
              "\n",
              "    [theme=dark] .colab-df-convert {\n",
              "      background-color: #3B4455;\n",
              "      fill: #D2E3FC;\n",
              "    }\n",
              "\n",
              "    [theme=dark] .colab-df-convert:hover {\n",
              "      background-color: #434B5C;\n",
              "      box-shadow: 0px 1px 3px 1px rgba(0, 0, 0, 0.15);\n",
              "      filter: drop-shadow(0px 1px 2px rgba(0, 0, 0, 0.3));\n",
              "      fill: #FFFFFF;\n",
              "    }\n",
              "  </style>\n",
              "\n",
              "      <script>\n",
              "        const buttonEl =\n",
              "          document.querySelector('#df-99cec1f1-1498-4cb8-a396-c88bf26ba9e3 button.colab-df-convert');\n",
              "        buttonEl.style.display =\n",
              "          google.colab.kernel.accessAllowed ? 'block' : 'none';\n",
              "\n",
              "        async function convertToInteractive(key) {\n",
              "          const element = document.querySelector('#df-99cec1f1-1498-4cb8-a396-c88bf26ba9e3');\n",
              "          const dataTable =\n",
              "            await google.colab.kernel.invokeFunction('convertToInteractive',\n",
              "                                                     [key], {});\n",
              "          if (!dataTable) return;\n",
              "\n",
              "          const docLinkHtml = 'Like what you see? Visit the ' +\n",
              "            '<a target=\"_blank\" href=https://colab.research.google.com/notebooks/data_table.ipynb>data table notebook</a>'\n",
              "            + ' to learn more about interactive tables.';\n",
              "          element.innerHTML = '';\n",
              "          dataTable['output_type'] = 'display_data';\n",
              "          await google.colab.output.renderOutput(dataTable, element);\n",
              "          const docLink = document.createElement('div');\n",
              "          docLink.innerHTML = docLinkHtml;\n",
              "          element.appendChild(docLink);\n",
              "        }\n",
              "      </script>\n",
              "    </div>\n",
              "  </div>\n",
              "  "
            ],
            "text/plain": [
              "             MedInc      HouseAge      AveRooms     AveBedrms    Population  \\\n",
              "count  16512.000000  16512.000000  16512.000000  16512.000000  16512.000000   \n",
              "mean       0.231956      0.541389      0.032506      0.022676      0.039882   \n",
              "std        0.130436      0.247553      0.018406      0.014861      0.031845   \n",
              "min        0.000000      0.000000      0.000000      0.000000      0.000000   \n",
              "25%        0.142019      0.333333      0.025438      0.019949      0.021918   \n",
              "50%        0.209138      0.549020      0.031022      0.021210      0.032582   \n",
              "75%        0.292396      0.705882      0.036928      0.022704      0.048404   \n",
              "max        1.000000      1.000000      1.000000      1.000000      1.000000   \n",
              "\n",
              "           AveOccup      Latitude     Longitude  \n",
              "count  16512.000000  16512.000000  16512.000000  \n",
              "mean       0.003897      0.329404      0.475445  \n",
              "std        0.010724      0.227318      0.199838  \n",
              "min        0.000000      0.000000      0.000000  \n",
              "25%        0.002900      0.147715      0.253984  \n",
              "50%        0.003548      0.182784      0.582669  \n",
              "75%        0.004322      0.550478      0.631474  \n",
              "max        1.000000      1.000000      1.000000  "
            ]
          },
          "execution_count": 28,
          "metadata": {},
          "output_type": "execute_result"
        }
      ],
      "source": [
        "X_train_my_norm = X_train.copy()\n",
        "\n",
        "for col in X_train.columns:\n",
        "    X_train_my_norm[col] = (X_train[col] - mins[col]) / (maxs[col] - mins[col])\n",
        "\n",
        "X_train_my_norm.describe()"
      ]
    },
    {
      "cell_type": "markdown",
      "metadata": {
        "id": "hIcZJeYlgIgV"
      },
      "source": [
        "Или же такой проход в цикле могли бы заменить на более приятную операцию, работая со всеми признаками за раз."
      ]
    },
    {
      "cell_type": "code",
      "execution_count": null,
      "metadata": {
        "colab": {
          "base_uri": "https://localhost:8080/",
          "height": 300
        },
        "id": "2vrfmSoygMWd",
        "outputId": "242ada04-baa8-4763-aeba-742c1066f5f1"
      },
      "outputs": [
        {
          "data": {
            "text/html": [
              "\n",
              "  <div id=\"df-31a248e8-6c37-4cc7-a84a-a1b79bc1e0f3\">\n",
              "    <div class=\"colab-df-container\">\n",
              "      <div>\n",
              "<style scoped>\n",
              "    .dataframe tbody tr th:only-of-type {\n",
              "        vertical-align: middle;\n",
              "    }\n",
              "\n",
              "    .dataframe tbody tr th {\n",
              "        vertical-align: top;\n",
              "    }\n",
              "\n",
              "    .dataframe thead th {\n",
              "        text-align: right;\n",
              "    }\n",
              "</style>\n",
              "<table border=\"1\" class=\"dataframe\">\n",
              "  <thead>\n",
              "    <tr style=\"text-align: right;\">\n",
              "      <th></th>\n",
              "      <th>MedInc</th>\n",
              "      <th>HouseAge</th>\n",
              "      <th>AveRooms</th>\n",
              "      <th>AveBedrms</th>\n",
              "      <th>Population</th>\n",
              "      <th>AveOccup</th>\n",
              "      <th>Latitude</th>\n",
              "      <th>Longitude</th>\n",
              "    </tr>\n",
              "  </thead>\n",
              "  <tbody>\n",
              "    <tr>\n",
              "      <th>count</th>\n",
              "      <td>16512.000000</td>\n",
              "      <td>16512.000000</td>\n",
              "      <td>16512.000000</td>\n",
              "      <td>16512.000000</td>\n",
              "      <td>16512.000000</td>\n",
              "      <td>16512.000000</td>\n",
              "      <td>16512.000000</td>\n",
              "      <td>16512.000000</td>\n",
              "    </tr>\n",
              "    <tr>\n",
              "      <th>mean</th>\n",
              "      <td>0.231956</td>\n",
              "      <td>0.541389</td>\n",
              "      <td>0.032506</td>\n",
              "      <td>0.022676</td>\n",
              "      <td>0.039882</td>\n",
              "      <td>0.003897</td>\n",
              "      <td>0.329404</td>\n",
              "      <td>0.475445</td>\n",
              "    </tr>\n",
              "    <tr>\n",
              "      <th>std</th>\n",
              "      <td>0.130436</td>\n",
              "      <td>0.247553</td>\n",
              "      <td>0.018406</td>\n",
              "      <td>0.014861</td>\n",
              "      <td>0.031845</td>\n",
              "      <td>0.010724</td>\n",
              "      <td>0.227318</td>\n",
              "      <td>0.199838</td>\n",
              "    </tr>\n",
              "    <tr>\n",
              "      <th>min</th>\n",
              "      <td>0.000000</td>\n",
              "      <td>0.000000</td>\n",
              "      <td>0.000000</td>\n",
              "      <td>0.000000</td>\n",
              "      <td>0.000000</td>\n",
              "      <td>0.000000</td>\n",
              "      <td>0.000000</td>\n",
              "      <td>0.000000</td>\n",
              "    </tr>\n",
              "    <tr>\n",
              "      <th>25%</th>\n",
              "      <td>0.142019</td>\n",
              "      <td>0.333333</td>\n",
              "      <td>0.025438</td>\n",
              "      <td>0.019949</td>\n",
              "      <td>0.021918</td>\n",
              "      <td>0.002900</td>\n",
              "      <td>0.147715</td>\n",
              "      <td>0.253984</td>\n",
              "    </tr>\n",
              "    <tr>\n",
              "      <th>50%</th>\n",
              "      <td>0.209138</td>\n",
              "      <td>0.549020</td>\n",
              "      <td>0.031022</td>\n",
              "      <td>0.021210</td>\n",
              "      <td>0.032582</td>\n",
              "      <td>0.003548</td>\n",
              "      <td>0.182784</td>\n",
              "      <td>0.582669</td>\n",
              "    </tr>\n",
              "    <tr>\n",
              "      <th>75%</th>\n",
              "      <td>0.292396</td>\n",
              "      <td>0.705882</td>\n",
              "      <td>0.036928</td>\n",
              "      <td>0.022704</td>\n",
              "      <td>0.048404</td>\n",
              "      <td>0.004322</td>\n",
              "      <td>0.550478</td>\n",
              "      <td>0.631474</td>\n",
              "    </tr>\n",
              "    <tr>\n",
              "      <th>max</th>\n",
              "      <td>1.000000</td>\n",
              "      <td>1.000000</td>\n",
              "      <td>1.000000</td>\n",
              "      <td>1.000000</td>\n",
              "      <td>1.000000</td>\n",
              "      <td>1.000000</td>\n",
              "      <td>1.000000</td>\n",
              "      <td>1.000000</td>\n",
              "    </tr>\n",
              "  </tbody>\n",
              "</table>\n",
              "</div>\n",
              "      <button class=\"colab-df-convert\" onclick=\"convertToInteractive('df-31a248e8-6c37-4cc7-a84a-a1b79bc1e0f3')\"\n",
              "              title=\"Convert this dataframe to an interactive table.\"\n",
              "              style=\"display:none;\">\n",
              "        \n",
              "  <svg xmlns=\"http://www.w3.org/2000/svg\" height=\"24px\"viewBox=\"0 0 24 24\"\n",
              "       width=\"24px\">\n",
              "    <path d=\"M0 0h24v24H0V0z\" fill=\"none\"/>\n",
              "    <path d=\"M18.56 5.44l.94 2.06.94-2.06 2.06-.94-2.06-.94-.94-2.06-.94 2.06-2.06.94zm-11 1L8.5 8.5l.94-2.06 2.06-.94-2.06-.94L8.5 2.5l-.94 2.06-2.06.94zm10 10l.94 2.06.94-2.06 2.06-.94-2.06-.94-.94-2.06-.94 2.06-2.06.94z\"/><path d=\"M17.41 7.96l-1.37-1.37c-.4-.4-.92-.59-1.43-.59-.52 0-1.04.2-1.43.59L10.3 9.45l-7.72 7.72c-.78.78-.78 2.05 0 2.83L4 21.41c.39.39.9.59 1.41.59.51 0 1.02-.2 1.41-.59l7.78-7.78 2.81-2.81c.8-.78.8-2.07 0-2.86zM5.41 20L4 18.59l7.72-7.72 1.47 1.35L5.41 20z\"/>\n",
              "  </svg>\n",
              "      </button>\n",
              "      \n",
              "  <style>\n",
              "    .colab-df-container {\n",
              "      display:flex;\n",
              "      flex-wrap:wrap;\n",
              "      gap: 12px;\n",
              "    }\n",
              "\n",
              "    .colab-df-convert {\n",
              "      background-color: #E8F0FE;\n",
              "      border: none;\n",
              "      border-radius: 50%;\n",
              "      cursor: pointer;\n",
              "      display: none;\n",
              "      fill: #1967D2;\n",
              "      height: 32px;\n",
              "      padding: 0 0 0 0;\n",
              "      width: 32px;\n",
              "    }\n",
              "\n",
              "    .colab-df-convert:hover {\n",
              "      background-color: #E2EBFA;\n",
              "      box-shadow: 0px 1px 2px rgba(60, 64, 67, 0.3), 0px 1px 3px 1px rgba(60, 64, 67, 0.15);\n",
              "      fill: #174EA6;\n",
              "    }\n",
              "\n",
              "    [theme=dark] .colab-df-convert {\n",
              "      background-color: #3B4455;\n",
              "      fill: #D2E3FC;\n",
              "    }\n",
              "\n",
              "    [theme=dark] .colab-df-convert:hover {\n",
              "      background-color: #434B5C;\n",
              "      box-shadow: 0px 1px 3px 1px rgba(0, 0, 0, 0.15);\n",
              "      filter: drop-shadow(0px 1px 2px rgba(0, 0, 0, 0.3));\n",
              "      fill: #FFFFFF;\n",
              "    }\n",
              "  </style>\n",
              "\n",
              "      <script>\n",
              "        const buttonEl =\n",
              "          document.querySelector('#df-31a248e8-6c37-4cc7-a84a-a1b79bc1e0f3 button.colab-df-convert');\n",
              "        buttonEl.style.display =\n",
              "          google.colab.kernel.accessAllowed ? 'block' : 'none';\n",
              "\n",
              "        async function convertToInteractive(key) {\n",
              "          const element = document.querySelector('#df-31a248e8-6c37-4cc7-a84a-a1b79bc1e0f3');\n",
              "          const dataTable =\n",
              "            await google.colab.kernel.invokeFunction('convertToInteractive',\n",
              "                                                     [key], {});\n",
              "          if (!dataTable) return;\n",
              "\n",
              "          const docLinkHtml = 'Like what you see? Visit the ' +\n",
              "            '<a target=\"_blank\" href=https://colab.research.google.com/notebooks/data_table.ipynb>data table notebook</a>'\n",
              "            + ' to learn more about interactive tables.';\n",
              "          element.innerHTML = '';\n",
              "          dataTable['output_type'] = 'display_data';\n",
              "          await google.colab.output.renderOutput(dataTable, element);\n",
              "          const docLink = document.createElement('div');\n",
              "          docLink.innerHTML = docLinkHtml;\n",
              "          element.appendChild(docLink);\n",
              "        }\n",
              "      </script>\n",
              "    </div>\n",
              "  </div>\n",
              "  "
            ],
            "text/plain": [
              "             MedInc      HouseAge      AveRooms     AveBedrms    Population  \\\n",
              "count  16512.000000  16512.000000  16512.000000  16512.000000  16512.000000   \n",
              "mean       0.231956      0.541389      0.032506      0.022676      0.039882   \n",
              "std        0.130436      0.247553      0.018406      0.014861      0.031845   \n",
              "min        0.000000      0.000000      0.000000      0.000000      0.000000   \n",
              "25%        0.142019      0.333333      0.025438      0.019949      0.021918   \n",
              "50%        0.209138      0.549020      0.031022      0.021210      0.032582   \n",
              "75%        0.292396      0.705882      0.036928      0.022704      0.048404   \n",
              "max        1.000000      1.000000      1.000000      1.000000      1.000000   \n",
              "\n",
              "           AveOccup      Latitude     Longitude  \n",
              "count  16512.000000  16512.000000  16512.000000  \n",
              "mean       0.003897      0.329404      0.475445  \n",
              "std        0.010724      0.227318      0.199838  \n",
              "min        0.000000      0.000000      0.000000  \n",
              "25%        0.002900      0.147715      0.253984  \n",
              "50%        0.003548      0.182784      0.582669  \n",
              "75%        0.004322      0.550478      0.631474  \n",
              "max        1.000000      1.000000      1.000000  "
            ]
          },
          "execution_count": 29,
          "metadata": {},
          "output_type": "execute_result"
        }
      ],
      "source": [
        "X_train_my_norm = (X_train - mins) / (maxs - mins)\n",
        "X_train_my_norm.describe()"
      ]
    },
    {
      "cell_type": "markdown",
      "metadata": {
        "id": "B5sLhQCwgU3K"
      },
      "source": [
        "И так же нормализуем тестовую выборку."
      ]
    },
    {
      "cell_type": "code",
      "execution_count": null,
      "metadata": {
        "colab": {
          "base_uri": "https://localhost:8080/",
          "height": 300
        },
        "id": "bJOPauyxgYKW",
        "outputId": "87abca11-7ece-4d76-e012-7371c3474f78"
      },
      "outputs": [
        {
          "data": {
            "text/html": [
              "\n",
              "  <div id=\"df-2324d4dc-5b6d-46aa-a76b-e022a5ff2052\">\n",
              "    <div class=\"colab-df-container\">\n",
              "      <div>\n",
              "<style scoped>\n",
              "    .dataframe tbody tr th:only-of-type {\n",
              "        vertical-align: middle;\n",
              "    }\n",
              "\n",
              "    .dataframe tbody tr th {\n",
              "        vertical-align: top;\n",
              "    }\n",
              "\n",
              "    .dataframe thead th {\n",
              "        text-align: right;\n",
              "    }\n",
              "</style>\n",
              "<table border=\"1\" class=\"dataframe\">\n",
              "  <thead>\n",
              "    <tr style=\"text-align: right;\">\n",
              "      <th></th>\n",
              "      <th>MedInc</th>\n",
              "      <th>HouseAge</th>\n",
              "      <th>AveRooms</th>\n",
              "      <th>AveBedrms</th>\n",
              "      <th>Population</th>\n",
              "      <th>AveOccup</th>\n",
              "      <th>Latitude</th>\n",
              "      <th>Longitude</th>\n",
              "    </tr>\n",
              "  </thead>\n",
              "  <tbody>\n",
              "    <tr>\n",
              "      <th>count</th>\n",
              "      <td>4128.000000</td>\n",
              "      <td>4128.000000</td>\n",
              "      <td>4128.000000</td>\n",
              "      <td>4128.000000</td>\n",
              "      <td>4128.000000</td>\n",
              "      <td>4128.000000</td>\n",
              "      <td>4128.000000</td>\n",
              "      <td>4128.000000</td>\n",
              "    </tr>\n",
              "    <tr>\n",
              "      <th>mean</th>\n",
              "      <td>0.234496</td>\n",
              "      <td>0.544198</td>\n",
              "      <td>0.032414</td>\n",
              "      <td>0.022440</td>\n",
              "      <td>0.039816</td>\n",
              "      <td>0.004262</td>\n",
              "      <td>0.325244</td>\n",
              "      <td>0.478847</td>\n",
              "    </tr>\n",
              "    <tr>\n",
              "      <th>std</th>\n",
              "      <td>0.133330</td>\n",
              "      <td>0.243659</td>\n",
              "      <td>0.013532</td>\n",
              "      <td>0.010172</td>\n",
              "      <td>0.031321</td>\n",
              "      <td>0.032298</td>\n",
              "      <td>0.225655</td>\n",
              "      <td>0.198421</td>\n",
              "    </tr>\n",
              "    <tr>\n",
              "      <th>min</th>\n",
              "      <td>0.000000</td>\n",
              "      <td>0.000000</td>\n",
              "      <td>0.002015</td>\n",
              "      <td>0.003294</td>\n",
              "      <td>0.000056</td>\n",
              "      <td>0.000465</td>\n",
              "      <td>0.002125</td>\n",
              "      <td>0.004980</td>\n",
              "    </tr>\n",
              "    <tr>\n",
              "      <th>25%</th>\n",
              "      <td>0.143938</td>\n",
              "      <td>0.333333</td>\n",
              "      <td>0.025715</td>\n",
              "      <td>0.019910</td>\n",
              "      <td>0.022142</td>\n",
              "      <td>0.002904</td>\n",
              "      <td>0.148778</td>\n",
              "      <td>0.258715</td>\n",
              "    </tr>\n",
              "    <tr>\n",
              "      <th>50%</th>\n",
              "      <td>0.210390</td>\n",
              "      <td>0.549020</td>\n",
              "      <td>0.031240</td>\n",
              "      <td>0.021195</td>\n",
              "      <td>0.032680</td>\n",
              "      <td>0.003552</td>\n",
              "      <td>0.180659</td>\n",
              "      <td>0.584661</td>\n",
              "    </tr>\n",
              "    <tr>\n",
              "      <th>75%</th>\n",
              "      <td>0.294279</td>\n",
              "      <td>0.705882</td>\n",
              "      <td>0.036861</td>\n",
              "      <td>0.022743</td>\n",
              "      <td>0.047619</td>\n",
              "      <td>0.004325</td>\n",
              "      <td>0.548353</td>\n",
              "      <td>0.631474</td>\n",
              "    </tr>\n",
              "    <tr>\n",
              "      <th>max</th>\n",
              "      <td>1.000000</td>\n",
              "      <td>1.000000</td>\n",
              "      <td>0.436515</td>\n",
              "      <td>0.408432</td>\n",
              "      <td>0.451778</td>\n",
              "      <td>2.074450</td>\n",
              "      <td>0.988310</td>\n",
              "      <td>0.982072</td>\n",
              "    </tr>\n",
              "  </tbody>\n",
              "</table>\n",
              "</div>\n",
              "      <button class=\"colab-df-convert\" onclick=\"convertToInteractive('df-2324d4dc-5b6d-46aa-a76b-e022a5ff2052')\"\n",
              "              title=\"Convert this dataframe to an interactive table.\"\n",
              "              style=\"display:none;\">\n",
              "        \n",
              "  <svg xmlns=\"http://www.w3.org/2000/svg\" height=\"24px\"viewBox=\"0 0 24 24\"\n",
              "       width=\"24px\">\n",
              "    <path d=\"M0 0h24v24H0V0z\" fill=\"none\"/>\n",
              "    <path d=\"M18.56 5.44l.94 2.06.94-2.06 2.06-.94-2.06-.94-.94-2.06-.94 2.06-2.06.94zm-11 1L8.5 8.5l.94-2.06 2.06-.94-2.06-.94L8.5 2.5l-.94 2.06-2.06.94zm10 10l.94 2.06.94-2.06 2.06-.94-2.06-.94-.94-2.06-.94 2.06-2.06.94z\"/><path d=\"M17.41 7.96l-1.37-1.37c-.4-.4-.92-.59-1.43-.59-.52 0-1.04.2-1.43.59L10.3 9.45l-7.72 7.72c-.78.78-.78 2.05 0 2.83L4 21.41c.39.39.9.59 1.41.59.51 0 1.02-.2 1.41-.59l7.78-7.78 2.81-2.81c.8-.78.8-2.07 0-2.86zM5.41 20L4 18.59l7.72-7.72 1.47 1.35L5.41 20z\"/>\n",
              "  </svg>\n",
              "      </button>\n",
              "      \n",
              "  <style>\n",
              "    .colab-df-container {\n",
              "      display:flex;\n",
              "      flex-wrap:wrap;\n",
              "      gap: 12px;\n",
              "    }\n",
              "\n",
              "    .colab-df-convert {\n",
              "      background-color: #E8F0FE;\n",
              "      border: none;\n",
              "      border-radius: 50%;\n",
              "      cursor: pointer;\n",
              "      display: none;\n",
              "      fill: #1967D2;\n",
              "      height: 32px;\n",
              "      padding: 0 0 0 0;\n",
              "      width: 32px;\n",
              "    }\n",
              "\n",
              "    .colab-df-convert:hover {\n",
              "      background-color: #E2EBFA;\n",
              "      box-shadow: 0px 1px 2px rgba(60, 64, 67, 0.3), 0px 1px 3px 1px rgba(60, 64, 67, 0.15);\n",
              "      fill: #174EA6;\n",
              "    }\n",
              "\n",
              "    [theme=dark] .colab-df-convert {\n",
              "      background-color: #3B4455;\n",
              "      fill: #D2E3FC;\n",
              "    }\n",
              "\n",
              "    [theme=dark] .colab-df-convert:hover {\n",
              "      background-color: #434B5C;\n",
              "      box-shadow: 0px 1px 3px 1px rgba(0, 0, 0, 0.15);\n",
              "      filter: drop-shadow(0px 1px 2px rgba(0, 0, 0, 0.3));\n",
              "      fill: #FFFFFF;\n",
              "    }\n",
              "  </style>\n",
              "\n",
              "      <script>\n",
              "        const buttonEl =\n",
              "          document.querySelector('#df-2324d4dc-5b6d-46aa-a76b-e022a5ff2052 button.colab-df-convert');\n",
              "        buttonEl.style.display =\n",
              "          google.colab.kernel.accessAllowed ? 'block' : 'none';\n",
              "\n",
              "        async function convertToInteractive(key) {\n",
              "          const element = document.querySelector('#df-2324d4dc-5b6d-46aa-a76b-e022a5ff2052');\n",
              "          const dataTable =\n",
              "            await google.colab.kernel.invokeFunction('convertToInteractive',\n",
              "                                                     [key], {});\n",
              "          if (!dataTable) return;\n",
              "\n",
              "          const docLinkHtml = 'Like what you see? Visit the ' +\n",
              "            '<a target=\"_blank\" href=https://colab.research.google.com/notebooks/data_table.ipynb>data table notebook</a>'\n",
              "            + ' to learn more about interactive tables.';\n",
              "          element.innerHTML = '';\n",
              "          dataTable['output_type'] = 'display_data';\n",
              "          await google.colab.output.renderOutput(dataTable, element);\n",
              "          const docLink = document.createElement('div');\n",
              "          docLink.innerHTML = docLinkHtml;\n",
              "          element.appendChild(docLink);\n",
              "        }\n",
              "      </script>\n",
              "    </div>\n",
              "  </div>\n",
              "  "
            ],
            "text/plain": [
              "            MedInc     HouseAge     AveRooms    AveBedrms   Population  \\\n",
              "count  4128.000000  4128.000000  4128.000000  4128.000000  4128.000000   \n",
              "mean      0.234496     0.544198     0.032414     0.022440     0.039816   \n",
              "std       0.133330     0.243659     0.013532     0.010172     0.031321   \n",
              "min       0.000000     0.000000     0.002015     0.003294     0.000056   \n",
              "25%       0.143938     0.333333     0.025715     0.019910     0.022142   \n",
              "50%       0.210390     0.549020     0.031240     0.021195     0.032680   \n",
              "75%       0.294279     0.705882     0.036861     0.022743     0.047619   \n",
              "max       1.000000     1.000000     0.436515     0.408432     0.451778   \n",
              "\n",
              "          AveOccup     Latitude    Longitude  \n",
              "count  4128.000000  4128.000000  4128.000000  \n",
              "mean      0.004262     0.325244     0.478847  \n",
              "std       0.032298     0.225655     0.198421  \n",
              "min       0.000465     0.002125     0.004980  \n",
              "25%       0.002904     0.148778     0.258715  \n",
              "50%       0.003552     0.180659     0.584661  \n",
              "75%       0.004325     0.548353     0.631474  \n",
              "max       2.074450     0.988310     0.982072  "
            ]
          },
          "execution_count": 30,
          "metadata": {},
          "output_type": "execute_result"
        }
      ],
      "source": [
        "X_test_my_norm = (X_test - mins) / (maxs - mins)\n",
        "X_test_my_norm.describe()"
      ]
    },
    {
      "cell_type": "markdown",
      "metadata": {
        "id": "QiPgEHTGjVIC"
      },
      "source": [
        "#### Обучение модели на масштабированных данных"
      ]
    },
    {
      "cell_type": "code",
      "execution_count": null,
      "metadata": {
        "colab": {
          "base_uri": "https://localhost:8080/"
        },
        "id": "AHPVvFfejeX5",
        "outputId": "34980968-890c-43f6-80af-804bb85022c6"
      },
      "outputs": [
        {
          "data": {
            "text/plain": [
              "KNeighborsRegressor(algorithm='auto', leaf_size=30, metric='minkowski',\n",
              "                    metric_params=None, n_jobs=None, n_neighbors=5, p=2,\n",
              "                    weights='uniform')"
            ]
          },
          "execution_count": 31,
          "metadata": {},
          "output_type": "execute_result"
        }
      ],
      "source": [
        "knn = KNeighborsRegressor()\n",
        "knn.fit(X_train_norm, y_train)"
      ]
    },
    {
      "cell_type": "markdown",
      "metadata": {
        "id": "EmftKysqjpZ9"
      },
      "source": [
        "Для справки, что было до\n",
        "\n",
        "\n",
        "\n",
        "```\n",
        "Train R2 0.45\n",
        "Test R2 0.18\n",
        "```\n",
        "\n"
      ]
    },
    {
      "cell_type": "markdown",
      "metadata": {
        "id": "I8qh98c-jwb7"
      },
      "source": [
        "И что стало после, а качество выросло очень прилично.\n",
        "\n",
        "Вот в чём была проблема, в немасштабированных данных, в признаках, которые собой перекрывали все остальные признаки."
      ]
    },
    {
      "cell_type": "code",
      "execution_count": null,
      "metadata": {
        "colab": {
          "base_uri": "https://localhost:8080/"
        },
        "id": "m-EEl8S-jeX8",
        "outputId": "094193e7-f556-49bf-cef1-695c6e556349"
      },
      "outputs": [
        {
          "name": "stdout",
          "output_type": "stream",
          "text": [
            "Train R2 0.81\n",
            "Test R2 0.70\n"
          ]
        }
      ],
      "source": [
        "pred_train = knn.predict(X_train_norm)\n",
        "pred_test = knn.predict(X_test_norm)\n",
        "\n",
        "\n",
        "print(f'Train R2 {r2_score(y_train, pred_train):.2f}')\n",
        "print(f'Test R2 {r2_score(y_test, pred_test):.2f}')"
      ]
    },
    {
      "cell_type": "markdown",
      "metadata": {
        "id": "T6o5dcCNjeX-"
      },
      "source": [
        "Давайте попробуем другую модель."
      ]
    },
    {
      "cell_type": "code",
      "execution_count": null,
      "metadata": {
        "colab": {
          "base_uri": "https://localhost:8080/"
        },
        "id": "lLhA3t1njeX-",
        "outputId": "ff1bd477-7f19-4315-93ac-067481d6ab6d"
      },
      "outputs": [
        {
          "data": {
            "text/plain": [
              "LinearRegression(copy_X=True, fit_intercept=True, n_jobs=None, normalize=False)"
            ]
          },
          "execution_count": 33,
          "metadata": {},
          "output_type": "execute_result"
        }
      ],
      "source": [
        "lr = LinearRegression()\n",
        "lr.fit(X_train_norm, y_train)"
      ]
    },
    {
      "cell_type": "markdown",
      "metadata": {
        "id": "WkdEWcBLkEus"
      },
      "source": [
        "Для справки, что было до\n",
        "\n",
        "\n",
        "\n",
        "```\n",
        "Train R2 0.61\n",
        "Test R2 0.60\n",
        "```\n",
        "\n"
      ]
    },
    {
      "cell_type": "code",
      "execution_count": null,
      "metadata": {
        "colab": {
          "base_uri": "https://localhost:8080/"
        },
        "id": "Qa59DuiLjeX_",
        "outputId": "988c83c5-59fe-4b24-d84c-74a8de36daf6"
      },
      "outputs": [
        {
          "name": "stdout",
          "output_type": "stream",
          "text": [
            "Train R2 0.61\n",
            "Test R2 0.60\n"
          ]
        }
      ],
      "source": [
        "pred_train = lr.predict(X_train_norm)\n",
        "pred_test = lr.predict(X_test_norm)\n",
        "\n",
        "\n",
        "print(f'Train R2 {r2_score(y_train, pred_train):.2f}')\n",
        "print(f'Test R2 {r2_score(y_test, pred_test):.2f}')"
      ]
    },
    {
      "cell_type": "markdown",
      "metadata": {
        "id": "g8GmZmu7jYeO"
      },
      "source": [
        "А ничего сильно не поменялось, а это потому что **линейным моделям** больше подходит следующий метод масштабирования данных - **стандартизация** (ну или мы выжали все соки из линейно регрессии)"
      ]
    },
    {
      "cell_type": "markdown",
      "metadata": {
        "id": "Nz1sSAj6TSws"
      },
      "source": [
        "### Стандартизация\n",
        "\n",
        "Для того, чтобы сделать стандартизацию данных нужно посчитать в каждом признаке его среднее значение (`mean`) и стандартное отклонение (`std`), а затем сделать следующее вычисление:\n",
        "\n",
        "$$x = \\frac{x - mean}{std}$$\n",
        "\n",
        "После такого преобразования $mean = 0, std = 1$."
      ]
    },
    {
      "cell_type": "markdown",
      "metadata": {
        "id": "NfDNwac8kf--"
      },
      "source": [
        "#### Через sklearn"
      ]
    },
    {
      "cell_type": "markdown",
      "metadata": {
        "id": "OtKPZDt_kf--"
      },
      "source": [
        "И по-классике, для начала обучим sklearn версию, а затем напишим свою реализацию."
      ]
    },
    {
      "cell_type": "code",
      "execution_count": null,
      "metadata": {
        "colab": {
          "base_uri": "https://localhost:8080/"
        },
        "id": "Fj95KaENkf-_",
        "outputId": "c3937912-6dfd-4083-861a-4e2a3034c62e"
      },
      "outputs": [
        {
          "data": {
            "text/plain": [
              "StandardScaler(copy=True, with_mean=True, with_std=True)"
            ]
          },
          "execution_count": 35,
          "metadata": {},
          "output_type": "execute_result"
        }
      ],
      "source": [
        "from sklearn.preprocessing import StandardScaler\n",
        "\n",
        "scaler = StandardScaler()\n",
        "scaler.fit(X_train)"
      ]
    },
    {
      "cell_type": "markdown",
      "metadata": {
        "id": "vHGckwmjkf-_"
      },
      "source": [
        "Стандартизатор обучился, посмотрим, какими были средние значения в признаках."
      ]
    },
    {
      "cell_type": "code",
      "execution_count": null,
      "metadata": {
        "colab": {
          "base_uri": "https://localhost:8080/"
        },
        "id": "qFQratdTkf-_",
        "outputId": "d4b2660e-9394-4732-ee47-3b7204bf2367"
      },
      "outputs": [
        {
          "data": {
            "text/plain": [
              "array([   3.86330436,   28.61082849,    5.43161001,    1.09826536,\n",
              "       1425.94797723,    3.0269867 ,   35.63968932, -119.57653706])"
            ]
          },
          "execution_count": 36,
          "metadata": {},
          "output_type": "execute_result"
        }
      ],
      "source": [
        "scaler.mean_"
      ]
    },
    {
      "cell_type": "code",
      "execution_count": null,
      "metadata": {
        "colab": {
          "base_uri": "https://localhost:8080/"
        },
        "id": "XhbXWcgYkf-_",
        "outputId": "2c02dc53-fe78-4cef-ac00-b4968f1ae2c0"
      },
      "outputs": [
        {
          "data": {
            "text/plain": [
              "MedInc           3.863304\n",
              "HouseAge        28.610828\n",
              "AveRooms         5.431610\n",
              "AveBedrms        1.098265\n",
              "Population    1425.947977\n",
              "AveOccup         3.026987\n",
              "Latitude        35.639689\n",
              "Longitude     -119.576537\n",
              "dtype: float64"
            ]
          },
          "execution_count": 37,
          "metadata": {},
          "output_type": "execute_result"
        }
      ],
      "source": [
        "X_train.mean()"
      ]
    },
    {
      "cell_type": "markdown",
      "metadata": {
        "id": "CdHzuGqjkf_A"
      },
      "source": [
        "И посмотрим, какие были стандартные отклонения в признаках."
      ]
    },
    {
      "cell_type": "code",
      "execution_count": null,
      "metadata": {
        "colab": {
          "base_uri": "https://localhost:8080/"
        },
        "id": "3qQYDgmDkf_A",
        "outputId": "97c4e245-2cc7-4057-94d8-e0d9f989b3d7"
      },
      "outputs": [
        {
          "data": {
            "text/plain": [
              "array([   1.89128773,   12.62480616,    2.59629804,    0.50128107,\n",
              "       1136.1680751 ,    6.4238777 ,    2.1390021 ,    2.00630999])"
            ]
          },
          "execution_count": 38,
          "metadata": {},
          "output_type": "execute_result"
        }
      ],
      "source": [
        "scaler.scale_"
      ]
    },
    {
      "cell_type": "code",
      "execution_count": null,
      "metadata": {
        "colab": {
          "base_uri": "https://localhost:8080/"
        },
        "id": "FSL0Z9qtkf_A",
        "outputId": "eefa351b-98ad-48fa-9778-4022568d8abe"
      },
      "outputs": [
        {
          "data": {
            "text/plain": [
              "MedInc           1.891345\n",
              "HouseAge        12.625188\n",
              "AveRooms         2.596377\n",
              "AveBedrms        0.501296\n",
              "Population    1136.202481\n",
              "AveOccup         6.424072\n",
              "Latitude         2.139067\n",
              "Longitude        2.006371\n",
              "dtype: float64"
            ]
          },
          "execution_count": 39,
          "metadata": {},
          "output_type": "execute_result"
        }
      ],
      "source": [
        "X_train.std()"
      ]
    },
    {
      "cell_type": "markdown",
      "metadata": {
        "id": "HTKsvlT0kf_B"
      },
      "source": [
        "А теперь можем привести к стандартному виду нашу обучающую выборку."
      ]
    },
    {
      "cell_type": "code",
      "execution_count": null,
      "metadata": {
        "colab": {
          "base_uri": "https://localhost:8080/",
          "height": 424
        },
        "id": "I3I3rGLWkf_B",
        "outputId": "b6f9449f-246a-43a1-d68a-32d2f1c97db4"
      },
      "outputs": [
        {
          "data": {
            "text/html": [
              "\n",
              "  <div id=\"df-29910263-cb3f-42ff-bfe1-db0dc70f2650\">\n",
              "    <div class=\"colab-df-container\">\n",
              "      <div>\n",
              "<style scoped>\n",
              "    .dataframe tbody tr th:only-of-type {\n",
              "        vertical-align: middle;\n",
              "    }\n",
              "\n",
              "    .dataframe tbody tr th {\n",
              "        vertical-align: top;\n",
              "    }\n",
              "\n",
              "    .dataframe thead th {\n",
              "        text-align: right;\n",
              "    }\n",
              "</style>\n",
              "<table border=\"1\" class=\"dataframe\">\n",
              "  <thead>\n",
              "    <tr style=\"text-align: right;\">\n",
              "      <th></th>\n",
              "      <th>MedInc</th>\n",
              "      <th>HouseAge</th>\n",
              "      <th>AveRooms</th>\n",
              "      <th>AveBedrms</th>\n",
              "      <th>Population</th>\n",
              "      <th>AveOccup</th>\n",
              "      <th>Latitude</th>\n",
              "      <th>Longitude</th>\n",
              "    </tr>\n",
              "  </thead>\n",
              "  <tbody>\n",
              "    <tr>\n",
              "      <th>0</th>\n",
              "      <td>-0.709625</td>\n",
              "      <td>-0.602847</td>\n",
              "      <td>0.179607</td>\n",
              "      <td>0.472386</td>\n",
              "      <td>1.933739</td>\n",
              "      <td>-0.145955</td>\n",
              "      <td>-0.850719</td>\n",
              "      <td>1.523462</td>\n",
              "    </tr>\n",
              "    <tr>\n",
              "      <th>1</th>\n",
              "      <td>-0.651252</td>\n",
              "      <td>1.377381</td>\n",
              "      <td>0.307321</td>\n",
              "      <td>0.490737</td>\n",
              "      <td>-0.544768</td>\n",
              "      <td>-0.127971</td>\n",
              "      <td>1.337217</td>\n",
              "      <td>-1.676442</td>\n",
              "    </tr>\n",
              "    <tr>\n",
              "      <th>2</th>\n",
              "      <td>0.682972</td>\n",
              "      <td>0.189244</td>\n",
              "      <td>-0.154399</td>\n",
              "      <td>-0.186345</td>\n",
              "      <td>0.040533</td>\n",
              "      <td>-0.100424</td>\n",
              "      <td>0.930486</td>\n",
              "      <td>-1.452150</td>\n",
              "    </tr>\n",
              "    <tr>\n",
              "      <th>3</th>\n",
              "      <td>-0.550104</td>\n",
              "      <td>-0.998893</td>\n",
              "      <td>-0.281640</td>\n",
              "      <td>0.001908</td>\n",
              "      <td>0.285215</td>\n",
              "      <td>0.058794</td>\n",
              "      <td>-0.738517</td>\n",
              "      <td>0.730962</td>\n",
              "    </tr>\n",
              "    <tr>\n",
              "      <th>4</th>\n",
              "      <td>-1.003551</td>\n",
              "      <td>0.981336</td>\n",
              "      <td>-0.066721</td>\n",
              "      <td>0.764036</td>\n",
              "      <td>-0.427708</td>\n",
              "      <td>-0.182591</td>\n",
              "      <td>-0.238284</td>\n",
              "      <td>-0.540028</td>\n",
              "    </tr>\n",
              "    <tr>\n",
              "      <th>...</th>\n",
              "      <td>...</td>\n",
              "      <td>...</td>\n",
              "      <td>...</td>\n",
              "      <td>...</td>\n",
              "      <td>...</td>\n",
              "      <td>...</td>\n",
              "      <td>...</td>\n",
              "      <td>...</td>\n",
              "    </tr>\n",
              "    <tr>\n",
              "      <th>16507</th>\n",
              "      <td>0.138369</td>\n",
              "      <td>0.664499</td>\n",
              "      <td>-0.123953</td>\n",
              "      <td>-0.107235</td>\n",
              "      <td>-0.684712</td>\n",
              "      <td>-0.171880</td>\n",
              "      <td>1.070738</td>\n",
              "      <td>-1.472087</td>\n",
              "    </tr>\n",
              "    <tr>\n",
              "      <th>16508</th>\n",
              "      <td>-1.405077</td>\n",
              "      <td>-0.840475</td>\n",
              "      <td>-1.114885</td>\n",
              "      <td>-0.017000</td>\n",
              "      <td>0.428680</td>\n",
              "      <td>-0.046999</td>\n",
              "      <td>-0.775918</td>\n",
              "      <td>0.676135</td>\n",
              "    </tr>\n",
              "    <tr>\n",
              "      <th>16509</th>\n",
              "      <td>0.883153</td>\n",
              "      <td>-1.790984</td>\n",
              "      <td>-0.202702</td>\n",
              "      <td>-0.264699</td>\n",
              "      <td>0.646077</td>\n",
              "      <td>0.107527</td>\n",
              "      <td>0.785558</td>\n",
              "      <td>-1.103251</td>\n",
              "    </tr>\n",
              "    <tr>\n",
              "      <th>16510</th>\n",
              "      <td>-0.876336</td>\n",
              "      <td>0.506081</td>\n",
              "      <td>-1.033440</td>\n",
              "      <td>-0.200042</td>\n",
              "      <td>0.646077</td>\n",
              "      <td>0.205342</td>\n",
              "      <td>-0.775918</td>\n",
              "      <td>0.671151</td>\n",
              "    </tr>\n",
              "    <tr>\n",
              "      <th>16511</th>\n",
              "      <td>-0.627617</td>\n",
              "      <td>-0.998893</td>\n",
              "      <td>-0.569503</td>\n",
              "      <td>0.003167</td>\n",
              "      <td>0.218323</td>\n",
              "      <td>-0.088550</td>\n",
              "      <td>0.776208</td>\n",
              "      <td>-1.148109</td>\n",
              "    </tr>\n",
              "  </tbody>\n",
              "</table>\n",
              "<p>16512 rows × 8 columns</p>\n",
              "</div>\n",
              "      <button class=\"colab-df-convert\" onclick=\"convertToInteractive('df-29910263-cb3f-42ff-bfe1-db0dc70f2650')\"\n",
              "              title=\"Convert this dataframe to an interactive table.\"\n",
              "              style=\"display:none;\">\n",
              "        \n",
              "  <svg xmlns=\"http://www.w3.org/2000/svg\" height=\"24px\"viewBox=\"0 0 24 24\"\n",
              "       width=\"24px\">\n",
              "    <path d=\"M0 0h24v24H0V0z\" fill=\"none\"/>\n",
              "    <path d=\"M18.56 5.44l.94 2.06.94-2.06 2.06-.94-2.06-.94-.94-2.06-.94 2.06-2.06.94zm-11 1L8.5 8.5l.94-2.06 2.06-.94-2.06-.94L8.5 2.5l-.94 2.06-2.06.94zm10 10l.94 2.06.94-2.06 2.06-.94-2.06-.94-.94-2.06-.94 2.06-2.06.94z\"/><path d=\"M17.41 7.96l-1.37-1.37c-.4-.4-.92-.59-1.43-.59-.52 0-1.04.2-1.43.59L10.3 9.45l-7.72 7.72c-.78.78-.78 2.05 0 2.83L4 21.41c.39.39.9.59 1.41.59.51 0 1.02-.2 1.41-.59l7.78-7.78 2.81-2.81c.8-.78.8-2.07 0-2.86zM5.41 20L4 18.59l7.72-7.72 1.47 1.35L5.41 20z\"/>\n",
              "  </svg>\n",
              "      </button>\n",
              "      \n",
              "  <style>\n",
              "    .colab-df-container {\n",
              "      display:flex;\n",
              "      flex-wrap:wrap;\n",
              "      gap: 12px;\n",
              "    }\n",
              "\n",
              "    .colab-df-convert {\n",
              "      background-color: #E8F0FE;\n",
              "      border: none;\n",
              "      border-radius: 50%;\n",
              "      cursor: pointer;\n",
              "      display: none;\n",
              "      fill: #1967D2;\n",
              "      height: 32px;\n",
              "      padding: 0 0 0 0;\n",
              "      width: 32px;\n",
              "    }\n",
              "\n",
              "    .colab-df-convert:hover {\n",
              "      background-color: #E2EBFA;\n",
              "      box-shadow: 0px 1px 2px rgba(60, 64, 67, 0.3), 0px 1px 3px 1px rgba(60, 64, 67, 0.15);\n",
              "      fill: #174EA6;\n",
              "    }\n",
              "\n",
              "    [theme=dark] .colab-df-convert {\n",
              "      background-color: #3B4455;\n",
              "      fill: #D2E3FC;\n",
              "    }\n",
              "\n",
              "    [theme=dark] .colab-df-convert:hover {\n",
              "      background-color: #434B5C;\n",
              "      box-shadow: 0px 1px 3px 1px rgba(0, 0, 0, 0.15);\n",
              "      filter: drop-shadow(0px 1px 2px rgba(0, 0, 0, 0.3));\n",
              "      fill: #FFFFFF;\n",
              "    }\n",
              "  </style>\n",
              "\n",
              "      <script>\n",
              "        const buttonEl =\n",
              "          document.querySelector('#df-29910263-cb3f-42ff-bfe1-db0dc70f2650 button.colab-df-convert');\n",
              "        buttonEl.style.display =\n",
              "          google.colab.kernel.accessAllowed ? 'block' : 'none';\n",
              "\n",
              "        async function convertToInteractive(key) {\n",
              "          const element = document.querySelector('#df-29910263-cb3f-42ff-bfe1-db0dc70f2650');\n",
              "          const dataTable =\n",
              "            await google.colab.kernel.invokeFunction('convertToInteractive',\n",
              "                                                     [key], {});\n",
              "          if (!dataTable) return;\n",
              "\n",
              "          const docLinkHtml = 'Like what you see? Visit the ' +\n",
              "            '<a target=\"_blank\" href=https://colab.research.google.com/notebooks/data_table.ipynb>data table notebook</a>'\n",
              "            + ' to learn more about interactive tables.';\n",
              "          element.innerHTML = '';\n",
              "          dataTable['output_type'] = 'display_data';\n",
              "          await google.colab.output.renderOutput(dataTable, element);\n",
              "          const docLink = document.createElement('div');\n",
              "          docLink.innerHTML = docLinkHtml;\n",
              "          element.appendChild(docLink);\n",
              "        }\n",
              "      </script>\n",
              "    </div>\n",
              "  </div>\n",
              "  "
            ],
            "text/plain": [
              "         MedInc  HouseAge  AveRooms  AveBedrms  Population  AveOccup  \\\n",
              "0     -0.709625 -0.602847  0.179607   0.472386    1.933739 -0.145955   \n",
              "1     -0.651252  1.377381  0.307321   0.490737   -0.544768 -0.127971   \n",
              "2      0.682972  0.189244 -0.154399  -0.186345    0.040533 -0.100424   \n",
              "3     -0.550104 -0.998893 -0.281640   0.001908    0.285215  0.058794   \n",
              "4     -1.003551  0.981336 -0.066721   0.764036   -0.427708 -0.182591   \n",
              "...         ...       ...       ...        ...         ...       ...   \n",
              "16507  0.138369  0.664499 -0.123953  -0.107235   -0.684712 -0.171880   \n",
              "16508 -1.405077 -0.840475 -1.114885  -0.017000    0.428680 -0.046999   \n",
              "16509  0.883153 -1.790984 -0.202702  -0.264699    0.646077  0.107527   \n",
              "16510 -0.876336  0.506081 -1.033440  -0.200042    0.646077  0.205342   \n",
              "16511 -0.627617 -0.998893 -0.569503   0.003167    0.218323 -0.088550   \n",
              "\n",
              "       Latitude  Longitude  \n",
              "0     -0.850719   1.523462  \n",
              "1      1.337217  -1.676442  \n",
              "2      0.930486  -1.452150  \n",
              "3     -0.738517   0.730962  \n",
              "4     -0.238284  -0.540028  \n",
              "...         ...        ...  \n",
              "16507  1.070738  -1.472087  \n",
              "16508 -0.775918   0.676135  \n",
              "16509  0.785558  -1.103251  \n",
              "16510 -0.775918   0.671151  \n",
              "16511  0.776208  -1.148109  \n",
              "\n",
              "[16512 rows x 8 columns]"
            ]
          },
          "execution_count": 40,
          "metadata": {},
          "output_type": "execute_result"
        }
      ],
      "source": [
        "X_train_std = pd.DataFrame(scaler.transform(X_train), columns=X_train.columns)\n",
        "X_train_std"
      ]
    },
    {
      "cell_type": "markdown",
      "metadata": {
        "id": "ZUAqaJkBkf_B"
      },
      "source": [
        "Глянем на `describe()`"
      ]
    },
    {
      "cell_type": "code",
      "execution_count": null,
      "metadata": {
        "colab": {
          "base_uri": "https://localhost:8080/",
          "height": 300
        },
        "id": "Hvi5NeYFkf_B",
        "outputId": "b8402589-af81-4209-a7d8-ecec842d4d81"
      },
      "outputs": [
        {
          "data": {
            "text/html": [
              "\n",
              "  <div id=\"df-85b92cb7-79c6-461b-a37a-60e4019bff9e\">\n",
              "    <div class=\"colab-df-container\">\n",
              "      <div>\n",
              "<style scoped>\n",
              "    .dataframe tbody tr th:only-of-type {\n",
              "        vertical-align: middle;\n",
              "    }\n",
              "\n",
              "    .dataframe tbody tr th {\n",
              "        vertical-align: top;\n",
              "    }\n",
              "\n",
              "    .dataframe thead th {\n",
              "        text-align: right;\n",
              "    }\n",
              "</style>\n",
              "<table border=\"1\" class=\"dataframe\">\n",
              "  <thead>\n",
              "    <tr style=\"text-align: right;\">\n",
              "      <th></th>\n",
              "      <th>MedInc</th>\n",
              "      <th>HouseAge</th>\n",
              "      <th>AveRooms</th>\n",
              "      <th>AveBedrms</th>\n",
              "      <th>Population</th>\n",
              "      <th>AveOccup</th>\n",
              "      <th>Latitude</th>\n",
              "      <th>Longitude</th>\n",
              "    </tr>\n",
              "  </thead>\n",
              "  <tbody>\n",
              "    <tr>\n",
              "      <th>count</th>\n",
              "      <td>1.651200e+04</td>\n",
              "      <td>1.651200e+04</td>\n",
              "      <td>1.651200e+04</td>\n",
              "      <td>1.651200e+04</td>\n",
              "      <td>1.651200e+04</td>\n",
              "      <td>1.651200e+04</td>\n",
              "      <td>1.651200e+04</td>\n",
              "      <td>1.651200e+04</td>\n",
              "    </tr>\n",
              "    <tr>\n",
              "      <th>mean</th>\n",
              "      <td>1.344747e-20</td>\n",
              "      <td>2.056790e-17</td>\n",
              "      <td>2.323050e-16</td>\n",
              "      <td>9.214177e-17</td>\n",
              "      <td>-6.575140e-17</td>\n",
              "      <td>-7.259868e-17</td>\n",
              "      <td>1.456926e-15</td>\n",
              "      <td>3.342395e-15</td>\n",
              "    </tr>\n",
              "    <tr>\n",
              "      <th>std</th>\n",
              "      <td>1.000030e+00</td>\n",
              "      <td>1.000030e+00</td>\n",
              "      <td>1.000030e+00</td>\n",
              "      <td>1.000030e+00</td>\n",
              "      <td>1.000030e+00</td>\n",
              "      <td>1.000030e+00</td>\n",
              "      <td>1.000030e+00</td>\n",
              "      <td>1.000030e+00</td>\n",
              "    </tr>\n",
              "    <tr>\n",
              "      <th>min</th>\n",
              "      <td>-1.778367e+00</td>\n",
              "      <td>-2.187030e+00</td>\n",
              "      <td>-1.766152e+00</td>\n",
              "      <td>-1.525954e+00</td>\n",
              "      <td>-1.252410e+00</td>\n",
              "      <td>-3.634376e-01</td>\n",
              "      <td>-1.449129e+00</td>\n",
              "      <td>-2.379225e+00</td>\n",
              "    </tr>\n",
              "    <tr>\n",
              "      <th>25%</th>\n",
              "      <td>-6.895325e-01</td>\n",
              "      <td>-8.404746e-01</td>\n",
              "      <td>-3.840347e-01</td>\n",
              "      <td>-1.834951e-01</td>\n",
              "      <td>-5.641313e-01</td>\n",
              "      <td>-9.305279e-02</td>\n",
              "      <td>-7.992930e-01</td>\n",
              "      <td>-1.108235e+00</td>\n",
              "    </tr>\n",
              "    <tr>\n",
              "      <th>50%</th>\n",
              "      <td>-1.749360e-01</td>\n",
              "      <td>3.082594e-02</td>\n",
              "      <td>-8.066830e-02</td>\n",
              "      <td>-9.862835e-02</td>\n",
              "      <td>-2.292337e-01</td>\n",
              "      <td>-3.257503e-02</td>\n",
              "      <td>-6.450154e-01</td>\n",
              "      <td>5.365756e-01</td>\n",
              "    </tr>\n",
              "    <tr>\n",
              "      <th>75%</th>\n",
              "      <td>4.633857e-01</td>\n",
              "      <td>6.644990e-01</td>\n",
              "      <td>2.402373e-01</td>\n",
              "      <td>1.868945e-03</td>\n",
              "      <td>2.676118e-01</td>\n",
              "      <td>3.960738e-02</td>\n",
              "      <td>9.725613e-01</td>\n",
              "      <td>7.808051e-01</td>\n",
              "    </tr>\n",
              "    <tr>\n",
              "      <th>max</th>\n",
              "      <td>5.888472e+00</td>\n",
              "      <td>1.852636e+00</td>\n",
              "      <td>5.256618e+01</td>\n",
              "      <td>6.576830e+01</td>\n",
              "      <td>3.015051e+01</td>\n",
              "      <td>9.288584e+01</td>\n",
              "      <td>2.950119e+00</td>\n",
              "      <td>2.624987e+00</td>\n",
              "    </tr>\n",
              "  </tbody>\n",
              "</table>\n",
              "</div>\n",
              "      <button class=\"colab-df-convert\" onclick=\"convertToInteractive('df-85b92cb7-79c6-461b-a37a-60e4019bff9e')\"\n",
              "              title=\"Convert this dataframe to an interactive table.\"\n",
              "              style=\"display:none;\">\n",
              "        \n",
              "  <svg xmlns=\"http://www.w3.org/2000/svg\" height=\"24px\"viewBox=\"0 0 24 24\"\n",
              "       width=\"24px\">\n",
              "    <path d=\"M0 0h24v24H0V0z\" fill=\"none\"/>\n",
              "    <path d=\"M18.56 5.44l.94 2.06.94-2.06 2.06-.94-2.06-.94-.94-2.06-.94 2.06-2.06.94zm-11 1L8.5 8.5l.94-2.06 2.06-.94-2.06-.94L8.5 2.5l-.94 2.06-2.06.94zm10 10l.94 2.06.94-2.06 2.06-.94-2.06-.94-.94-2.06-.94 2.06-2.06.94z\"/><path d=\"M17.41 7.96l-1.37-1.37c-.4-.4-.92-.59-1.43-.59-.52 0-1.04.2-1.43.59L10.3 9.45l-7.72 7.72c-.78.78-.78 2.05 0 2.83L4 21.41c.39.39.9.59 1.41.59.51 0 1.02-.2 1.41-.59l7.78-7.78 2.81-2.81c.8-.78.8-2.07 0-2.86zM5.41 20L4 18.59l7.72-7.72 1.47 1.35L5.41 20z\"/>\n",
              "  </svg>\n",
              "      </button>\n",
              "      \n",
              "  <style>\n",
              "    .colab-df-container {\n",
              "      display:flex;\n",
              "      flex-wrap:wrap;\n",
              "      gap: 12px;\n",
              "    }\n",
              "\n",
              "    .colab-df-convert {\n",
              "      background-color: #E8F0FE;\n",
              "      border: none;\n",
              "      border-radius: 50%;\n",
              "      cursor: pointer;\n",
              "      display: none;\n",
              "      fill: #1967D2;\n",
              "      height: 32px;\n",
              "      padding: 0 0 0 0;\n",
              "      width: 32px;\n",
              "    }\n",
              "\n",
              "    .colab-df-convert:hover {\n",
              "      background-color: #E2EBFA;\n",
              "      box-shadow: 0px 1px 2px rgba(60, 64, 67, 0.3), 0px 1px 3px 1px rgba(60, 64, 67, 0.15);\n",
              "      fill: #174EA6;\n",
              "    }\n",
              "\n",
              "    [theme=dark] .colab-df-convert {\n",
              "      background-color: #3B4455;\n",
              "      fill: #D2E3FC;\n",
              "    }\n",
              "\n",
              "    [theme=dark] .colab-df-convert:hover {\n",
              "      background-color: #434B5C;\n",
              "      box-shadow: 0px 1px 3px 1px rgba(0, 0, 0, 0.15);\n",
              "      filter: drop-shadow(0px 1px 2px rgba(0, 0, 0, 0.3));\n",
              "      fill: #FFFFFF;\n",
              "    }\n",
              "  </style>\n",
              "\n",
              "      <script>\n",
              "        const buttonEl =\n",
              "          document.querySelector('#df-85b92cb7-79c6-461b-a37a-60e4019bff9e button.colab-df-convert');\n",
              "        buttonEl.style.display =\n",
              "          google.colab.kernel.accessAllowed ? 'block' : 'none';\n",
              "\n",
              "        async function convertToInteractive(key) {\n",
              "          const element = document.querySelector('#df-85b92cb7-79c6-461b-a37a-60e4019bff9e');\n",
              "          const dataTable =\n",
              "            await google.colab.kernel.invokeFunction('convertToInteractive',\n",
              "                                                     [key], {});\n",
              "          if (!dataTable) return;\n",
              "\n",
              "          const docLinkHtml = 'Like what you see? Visit the ' +\n",
              "            '<a target=\"_blank\" href=https://colab.research.google.com/notebooks/data_table.ipynb>data table notebook</a>'\n",
              "            + ' to learn more about interactive tables.';\n",
              "          element.innerHTML = '';\n",
              "          dataTable['output_type'] = 'display_data';\n",
              "          await google.colab.output.renderOutput(dataTable, element);\n",
              "          const docLink = document.createElement('div');\n",
              "          docLink.innerHTML = docLinkHtml;\n",
              "          element.appendChild(docLink);\n",
              "        }\n",
              "      </script>\n",
              "    </div>\n",
              "  </div>\n",
              "  "
            ],
            "text/plain": [
              "             MedInc      HouseAge      AveRooms     AveBedrms    Population  \\\n",
              "count  1.651200e+04  1.651200e+04  1.651200e+04  1.651200e+04  1.651200e+04   \n",
              "mean   1.344747e-20  2.056790e-17  2.323050e-16  9.214177e-17 -6.575140e-17   \n",
              "std    1.000030e+00  1.000030e+00  1.000030e+00  1.000030e+00  1.000030e+00   \n",
              "min   -1.778367e+00 -2.187030e+00 -1.766152e+00 -1.525954e+00 -1.252410e+00   \n",
              "25%   -6.895325e-01 -8.404746e-01 -3.840347e-01 -1.834951e-01 -5.641313e-01   \n",
              "50%   -1.749360e-01  3.082594e-02 -8.066830e-02 -9.862835e-02 -2.292337e-01   \n",
              "75%    4.633857e-01  6.644990e-01  2.402373e-01  1.868945e-03  2.676118e-01   \n",
              "max    5.888472e+00  1.852636e+00  5.256618e+01  6.576830e+01  3.015051e+01   \n",
              "\n",
              "           AveOccup      Latitude     Longitude  \n",
              "count  1.651200e+04  1.651200e+04  1.651200e+04  \n",
              "mean  -7.259868e-17  1.456926e-15  3.342395e-15  \n",
              "std    1.000030e+00  1.000030e+00  1.000030e+00  \n",
              "min   -3.634376e-01 -1.449129e+00 -2.379225e+00  \n",
              "25%   -9.305279e-02 -7.992930e-01 -1.108235e+00  \n",
              "50%   -3.257503e-02 -6.450154e-01  5.365756e-01  \n",
              "75%    3.960738e-02  9.725613e-01  7.808051e-01  \n",
              "max    9.288584e+01  2.950119e+00  2.624987e+00  "
            ]
          },
          "execution_count": 41,
          "metadata": {},
          "output_type": "execute_result"
        }
      ],
      "source": [
        "X_train_std.describe()"
      ]
    },
    {
      "cell_type": "markdown",
      "metadata": {
        "id": "kBb4nrr7nOIC"
      },
      "source": [
        "И тут небольшой лайфхак, если и в pandas хочется избавиться от научной записи чисел, то выполняйте следующую строку кода"
      ]
    },
    {
      "cell_type": "code",
      "execution_count": null,
      "metadata": {
        "id": "hRlO_yNJnWHl"
      },
      "outputs": [],
      "source": [
        "pd.set_option('display.float_format', lambda x: '%0.4f' % x)"
      ]
    },
    {
      "cell_type": "code",
      "execution_count": null,
      "metadata": {
        "colab": {
          "base_uri": "https://localhost:8080/",
          "height": 300
        },
        "id": "JsHH16LZnXtR",
        "outputId": "8d5042c4-7c60-4412-cd95-9e7061f4f9ea"
      },
      "outputs": [
        {
          "data": {
            "text/html": [
              "\n",
              "  <div id=\"df-82aaa644-2ad9-43ab-ab8b-941fb814c6c7\">\n",
              "    <div class=\"colab-df-container\">\n",
              "      <div>\n",
              "<style scoped>\n",
              "    .dataframe tbody tr th:only-of-type {\n",
              "        vertical-align: middle;\n",
              "    }\n",
              "\n",
              "    .dataframe tbody tr th {\n",
              "        vertical-align: top;\n",
              "    }\n",
              "\n",
              "    .dataframe thead th {\n",
              "        text-align: right;\n",
              "    }\n",
              "</style>\n",
              "<table border=\"1\" class=\"dataframe\">\n",
              "  <thead>\n",
              "    <tr style=\"text-align: right;\">\n",
              "      <th></th>\n",
              "      <th>MedInc</th>\n",
              "      <th>HouseAge</th>\n",
              "      <th>AveRooms</th>\n",
              "      <th>AveBedrms</th>\n",
              "      <th>Population</th>\n",
              "      <th>AveOccup</th>\n",
              "      <th>Latitude</th>\n",
              "      <th>Longitude</th>\n",
              "    </tr>\n",
              "  </thead>\n",
              "  <tbody>\n",
              "    <tr>\n",
              "      <th>count</th>\n",
              "      <td>16512.0000</td>\n",
              "      <td>16512.0000</td>\n",
              "      <td>16512.0000</td>\n",
              "      <td>16512.0000</td>\n",
              "      <td>16512.0000</td>\n",
              "      <td>16512.0000</td>\n",
              "      <td>16512.0000</td>\n",
              "      <td>16512.0000</td>\n",
              "    </tr>\n",
              "    <tr>\n",
              "      <th>mean</th>\n",
              "      <td>0.0000</td>\n",
              "      <td>0.0000</td>\n",
              "      <td>0.0000</td>\n",
              "      <td>0.0000</td>\n",
              "      <td>-0.0000</td>\n",
              "      <td>-0.0000</td>\n",
              "      <td>0.0000</td>\n",
              "      <td>0.0000</td>\n",
              "    </tr>\n",
              "    <tr>\n",
              "      <th>std</th>\n",
              "      <td>1.0000</td>\n",
              "      <td>1.0000</td>\n",
              "      <td>1.0000</td>\n",
              "      <td>1.0000</td>\n",
              "      <td>1.0000</td>\n",
              "      <td>1.0000</td>\n",
              "      <td>1.0000</td>\n",
              "      <td>1.0000</td>\n",
              "    </tr>\n",
              "    <tr>\n",
              "      <th>min</th>\n",
              "      <td>-1.7784</td>\n",
              "      <td>-2.1870</td>\n",
              "      <td>-1.7662</td>\n",
              "      <td>-1.5260</td>\n",
              "      <td>-1.2524</td>\n",
              "      <td>-0.3634</td>\n",
              "      <td>-1.4491</td>\n",
              "      <td>-2.3792</td>\n",
              "    </tr>\n",
              "    <tr>\n",
              "      <th>25%</th>\n",
              "      <td>-0.6895</td>\n",
              "      <td>-0.8405</td>\n",
              "      <td>-0.3840</td>\n",
              "      <td>-0.1835</td>\n",
              "      <td>-0.5641</td>\n",
              "      <td>-0.0931</td>\n",
              "      <td>-0.7993</td>\n",
              "      <td>-1.1082</td>\n",
              "    </tr>\n",
              "    <tr>\n",
              "      <th>50%</th>\n",
              "      <td>-0.1749</td>\n",
              "      <td>0.0308</td>\n",
              "      <td>-0.0807</td>\n",
              "      <td>-0.0986</td>\n",
              "      <td>-0.2292</td>\n",
              "      <td>-0.0326</td>\n",
              "      <td>-0.6450</td>\n",
              "      <td>0.5366</td>\n",
              "    </tr>\n",
              "    <tr>\n",
              "      <th>75%</th>\n",
              "      <td>0.4634</td>\n",
              "      <td>0.6645</td>\n",
              "      <td>0.2402</td>\n",
              "      <td>0.0019</td>\n",
              "      <td>0.2676</td>\n",
              "      <td>0.0396</td>\n",
              "      <td>0.9726</td>\n",
              "      <td>0.7808</td>\n",
              "    </tr>\n",
              "    <tr>\n",
              "      <th>max</th>\n",
              "      <td>5.8885</td>\n",
              "      <td>1.8526</td>\n",
              "      <td>52.5662</td>\n",
              "      <td>65.7683</td>\n",
              "      <td>30.1505</td>\n",
              "      <td>92.8858</td>\n",
              "      <td>2.9501</td>\n",
              "      <td>2.6250</td>\n",
              "    </tr>\n",
              "  </tbody>\n",
              "</table>\n",
              "</div>\n",
              "      <button class=\"colab-df-convert\" onclick=\"convertToInteractive('df-82aaa644-2ad9-43ab-ab8b-941fb814c6c7')\"\n",
              "              title=\"Convert this dataframe to an interactive table.\"\n",
              "              style=\"display:none;\">\n",
              "        \n",
              "  <svg xmlns=\"http://www.w3.org/2000/svg\" height=\"24px\"viewBox=\"0 0 24 24\"\n",
              "       width=\"24px\">\n",
              "    <path d=\"M0 0h24v24H0V0z\" fill=\"none\"/>\n",
              "    <path d=\"M18.56 5.44l.94 2.06.94-2.06 2.06-.94-2.06-.94-.94-2.06-.94 2.06-2.06.94zm-11 1L8.5 8.5l.94-2.06 2.06-.94-2.06-.94L8.5 2.5l-.94 2.06-2.06.94zm10 10l.94 2.06.94-2.06 2.06-.94-2.06-.94-.94-2.06-.94 2.06-2.06.94z\"/><path d=\"M17.41 7.96l-1.37-1.37c-.4-.4-.92-.59-1.43-.59-.52 0-1.04.2-1.43.59L10.3 9.45l-7.72 7.72c-.78.78-.78 2.05 0 2.83L4 21.41c.39.39.9.59 1.41.59.51 0 1.02-.2 1.41-.59l7.78-7.78 2.81-2.81c.8-.78.8-2.07 0-2.86zM5.41 20L4 18.59l7.72-7.72 1.47 1.35L5.41 20z\"/>\n",
              "  </svg>\n",
              "      </button>\n",
              "      \n",
              "  <style>\n",
              "    .colab-df-container {\n",
              "      display:flex;\n",
              "      flex-wrap:wrap;\n",
              "      gap: 12px;\n",
              "    }\n",
              "\n",
              "    .colab-df-convert {\n",
              "      background-color: #E8F0FE;\n",
              "      border: none;\n",
              "      border-radius: 50%;\n",
              "      cursor: pointer;\n",
              "      display: none;\n",
              "      fill: #1967D2;\n",
              "      height: 32px;\n",
              "      padding: 0 0 0 0;\n",
              "      width: 32px;\n",
              "    }\n",
              "\n",
              "    .colab-df-convert:hover {\n",
              "      background-color: #E2EBFA;\n",
              "      box-shadow: 0px 1px 2px rgba(60, 64, 67, 0.3), 0px 1px 3px 1px rgba(60, 64, 67, 0.15);\n",
              "      fill: #174EA6;\n",
              "    }\n",
              "\n",
              "    [theme=dark] .colab-df-convert {\n",
              "      background-color: #3B4455;\n",
              "      fill: #D2E3FC;\n",
              "    }\n",
              "\n",
              "    [theme=dark] .colab-df-convert:hover {\n",
              "      background-color: #434B5C;\n",
              "      box-shadow: 0px 1px 3px 1px rgba(0, 0, 0, 0.15);\n",
              "      filter: drop-shadow(0px 1px 2px rgba(0, 0, 0, 0.3));\n",
              "      fill: #FFFFFF;\n",
              "    }\n",
              "  </style>\n",
              "\n",
              "      <script>\n",
              "        const buttonEl =\n",
              "          document.querySelector('#df-82aaa644-2ad9-43ab-ab8b-941fb814c6c7 button.colab-df-convert');\n",
              "        buttonEl.style.display =\n",
              "          google.colab.kernel.accessAllowed ? 'block' : 'none';\n",
              "\n",
              "        async function convertToInteractive(key) {\n",
              "          const element = document.querySelector('#df-82aaa644-2ad9-43ab-ab8b-941fb814c6c7');\n",
              "          const dataTable =\n",
              "            await google.colab.kernel.invokeFunction('convertToInteractive',\n",
              "                                                     [key], {});\n",
              "          if (!dataTable) return;\n",
              "\n",
              "          const docLinkHtml = 'Like what you see? Visit the ' +\n",
              "            '<a target=\"_blank\" href=https://colab.research.google.com/notebooks/data_table.ipynb>data table notebook</a>'\n",
              "            + ' to learn more about interactive tables.';\n",
              "          element.innerHTML = '';\n",
              "          dataTable['output_type'] = 'display_data';\n",
              "          await google.colab.output.renderOutput(dataTable, element);\n",
              "          const docLink = document.createElement('div');\n",
              "          docLink.innerHTML = docLinkHtml;\n",
              "          element.appendChild(docLink);\n",
              "        }\n",
              "      </script>\n",
              "    </div>\n",
              "  </div>\n",
              "  "
            ],
            "text/plain": [
              "          MedInc   HouseAge   AveRooms  AveBedrms  Population   AveOccup  \\\n",
              "count 16512.0000 16512.0000 16512.0000 16512.0000  16512.0000 16512.0000   \n",
              "mean      0.0000     0.0000     0.0000     0.0000     -0.0000    -0.0000   \n",
              "std       1.0000     1.0000     1.0000     1.0000      1.0000     1.0000   \n",
              "min      -1.7784    -2.1870    -1.7662    -1.5260     -1.2524    -0.3634   \n",
              "25%      -0.6895    -0.8405    -0.3840    -0.1835     -0.5641    -0.0931   \n",
              "50%      -0.1749     0.0308    -0.0807    -0.0986     -0.2292    -0.0326   \n",
              "75%       0.4634     0.6645     0.2402     0.0019      0.2676     0.0396   \n",
              "max       5.8885     1.8526    52.5662    65.7683     30.1505    92.8858   \n",
              "\n",
              "        Latitude  Longitude  \n",
              "count 16512.0000 16512.0000  \n",
              "mean      0.0000     0.0000  \n",
              "std       1.0000     1.0000  \n",
              "min      -1.4491    -2.3792  \n",
              "25%      -0.7993    -1.1082  \n",
              "50%      -0.6450     0.5366  \n",
              "75%       0.9726     0.7808  \n",
              "max       2.9501     2.6250  "
            ]
          },
          "execution_count": 43,
          "metadata": {},
          "output_type": "execute_result"
        }
      ],
      "source": [
        "X_train_std.describe()"
      ]
    },
    {
      "cell_type": "markdown",
      "metadata": {
        "id": "eA_heSxCkf_B"
      },
      "source": [
        "И да, теперь среднее во всех признаках равно 0, а стандартное отклонение равно 1."
      ]
    },
    {
      "cell_type": "markdown",
      "metadata": {
        "id": "LfShgv4Kkf_C"
      },
      "source": [
        "И давайте стандартизируем тестовую выборку. При этом пользуемся `mean` и `std` значениями с обучающей выборке, на тесте ничего никогда не считается."
      ]
    },
    {
      "cell_type": "code",
      "execution_count": null,
      "metadata": {
        "colab": {
          "base_uri": "https://localhost:8080/",
          "height": 300
        },
        "id": "gfgXDwkYkf_C",
        "outputId": "eda8411b-139b-4aa6-d66b-b6bca6d15722"
      },
      "outputs": [
        {
          "data": {
            "text/html": [
              "\n",
              "  <div id=\"df-1a0e2810-1f0f-4910-8702-b15106baead0\">\n",
              "    <div class=\"colab-df-container\">\n",
              "      <div>\n",
              "<style scoped>\n",
              "    .dataframe tbody tr th:only-of-type {\n",
              "        vertical-align: middle;\n",
              "    }\n",
              "\n",
              "    .dataframe tbody tr th {\n",
              "        vertical-align: top;\n",
              "    }\n",
              "\n",
              "    .dataframe thead th {\n",
              "        text-align: right;\n",
              "    }\n",
              "</style>\n",
              "<table border=\"1\" class=\"dataframe\">\n",
              "  <thead>\n",
              "    <tr style=\"text-align: right;\">\n",
              "      <th></th>\n",
              "      <th>MedInc</th>\n",
              "      <th>HouseAge</th>\n",
              "      <th>AveRooms</th>\n",
              "      <th>AveBedrms</th>\n",
              "      <th>Population</th>\n",
              "      <th>AveOccup</th>\n",
              "      <th>Latitude</th>\n",
              "      <th>Longitude</th>\n",
              "    </tr>\n",
              "  </thead>\n",
              "  <tbody>\n",
              "    <tr>\n",
              "      <th>count</th>\n",
              "      <td>4128.0000</td>\n",
              "      <td>4128.0000</td>\n",
              "      <td>4128.0000</td>\n",
              "      <td>4128.0000</td>\n",
              "      <td>4128.0000</td>\n",
              "      <td>4128.0000</td>\n",
              "      <td>4128.0000</td>\n",
              "      <td>4128.0000</td>\n",
              "    </tr>\n",
              "    <tr>\n",
              "      <th>mean</th>\n",
              "      <td>0.0195</td>\n",
              "      <td>0.0113</td>\n",
              "      <td>-0.0050</td>\n",
              "      <td>-0.0159</td>\n",
              "      <td>-0.0021</td>\n",
              "      <td>0.0340</td>\n",
              "      <td>-0.0183</td>\n",
              "      <td>0.0170</td>\n",
              "    </tr>\n",
              "    <tr>\n",
              "      <th>std</th>\n",
              "      <td>1.0222</td>\n",
              "      <td>0.9843</td>\n",
              "      <td>0.7352</td>\n",
              "      <td>0.6845</td>\n",
              "      <td>0.9836</td>\n",
              "      <td>3.0118</td>\n",
              "      <td>0.9927</td>\n",
              "      <td>0.9929</td>\n",
              "    </tr>\n",
              "    <tr>\n",
              "      <th>min</th>\n",
              "      <td>-1.7784</td>\n",
              "      <td>-2.1870</td>\n",
              "      <td>-1.6567</td>\n",
              "      <td>-1.3043</td>\n",
              "      <td>-1.2506</td>\n",
              "      <td>-0.3201</td>\n",
              "      <td>-1.4398</td>\n",
              "      <td>-2.3543</td>\n",
              "    </tr>\n",
              "    <tr>\n",
              "      <th>25%</th>\n",
              "      <td>-0.6748</td>\n",
              "      <td>-0.8405</td>\n",
              "      <td>-0.3690</td>\n",
              "      <td>-0.1861</td>\n",
              "      <td>-0.5571</td>\n",
              "      <td>-0.0926</td>\n",
              "      <td>-0.7946</td>\n",
              "      <td>-1.0846</td>\n",
              "    </tr>\n",
              "    <tr>\n",
              "      <th>50%</th>\n",
              "      <td>-0.1653</td>\n",
              "      <td>0.0308</td>\n",
              "      <td>-0.0688</td>\n",
              "      <td>-0.0997</td>\n",
              "      <td>-0.2262</td>\n",
              "      <td>-0.0322</td>\n",
              "      <td>-0.6544</td>\n",
              "      <td>0.5465</td>\n",
              "    </tr>\n",
              "    <tr>\n",
              "      <th>75%</th>\n",
              "      <td>0.4778</td>\n",
              "      <td>0.6645</td>\n",
              "      <td>0.2366</td>\n",
              "      <td>0.0045</td>\n",
              "      <td>0.2430</td>\n",
              "      <td>0.0398</td>\n",
              "      <td>0.9632</td>\n",
              "      <td>0.7808</td>\n",
              "    </tr>\n",
              "    <tr>\n",
              "      <th>max</th>\n",
              "      <td>5.8885</td>\n",
              "      <td>1.8526</td>\n",
              "      <td>21.9507</td>\n",
              "      <td>25.9592</td>\n",
              "      <td>12.9348</td>\n",
              "      <td>193.0775</td>\n",
              "      <td>2.8987</td>\n",
              "      <td>2.5353</td>\n",
              "    </tr>\n",
              "  </tbody>\n",
              "</table>\n",
              "</div>\n",
              "      <button class=\"colab-df-convert\" onclick=\"convertToInteractive('df-1a0e2810-1f0f-4910-8702-b15106baead0')\"\n",
              "              title=\"Convert this dataframe to an interactive table.\"\n",
              "              style=\"display:none;\">\n",
              "        \n",
              "  <svg xmlns=\"http://www.w3.org/2000/svg\" height=\"24px\"viewBox=\"0 0 24 24\"\n",
              "       width=\"24px\">\n",
              "    <path d=\"M0 0h24v24H0V0z\" fill=\"none\"/>\n",
              "    <path d=\"M18.56 5.44l.94 2.06.94-2.06 2.06-.94-2.06-.94-.94-2.06-.94 2.06-2.06.94zm-11 1L8.5 8.5l.94-2.06 2.06-.94-2.06-.94L8.5 2.5l-.94 2.06-2.06.94zm10 10l.94 2.06.94-2.06 2.06-.94-2.06-.94-.94-2.06-.94 2.06-2.06.94z\"/><path d=\"M17.41 7.96l-1.37-1.37c-.4-.4-.92-.59-1.43-.59-.52 0-1.04.2-1.43.59L10.3 9.45l-7.72 7.72c-.78.78-.78 2.05 0 2.83L4 21.41c.39.39.9.59 1.41.59.51 0 1.02-.2 1.41-.59l7.78-7.78 2.81-2.81c.8-.78.8-2.07 0-2.86zM5.41 20L4 18.59l7.72-7.72 1.47 1.35L5.41 20z\"/>\n",
              "  </svg>\n",
              "      </button>\n",
              "      \n",
              "  <style>\n",
              "    .colab-df-container {\n",
              "      display:flex;\n",
              "      flex-wrap:wrap;\n",
              "      gap: 12px;\n",
              "    }\n",
              "\n",
              "    .colab-df-convert {\n",
              "      background-color: #E8F0FE;\n",
              "      border: none;\n",
              "      border-radius: 50%;\n",
              "      cursor: pointer;\n",
              "      display: none;\n",
              "      fill: #1967D2;\n",
              "      height: 32px;\n",
              "      padding: 0 0 0 0;\n",
              "      width: 32px;\n",
              "    }\n",
              "\n",
              "    .colab-df-convert:hover {\n",
              "      background-color: #E2EBFA;\n",
              "      box-shadow: 0px 1px 2px rgba(60, 64, 67, 0.3), 0px 1px 3px 1px rgba(60, 64, 67, 0.15);\n",
              "      fill: #174EA6;\n",
              "    }\n",
              "\n",
              "    [theme=dark] .colab-df-convert {\n",
              "      background-color: #3B4455;\n",
              "      fill: #D2E3FC;\n",
              "    }\n",
              "\n",
              "    [theme=dark] .colab-df-convert:hover {\n",
              "      background-color: #434B5C;\n",
              "      box-shadow: 0px 1px 3px 1px rgba(0, 0, 0, 0.15);\n",
              "      filter: drop-shadow(0px 1px 2px rgba(0, 0, 0, 0.3));\n",
              "      fill: #FFFFFF;\n",
              "    }\n",
              "  </style>\n",
              "\n",
              "      <script>\n",
              "        const buttonEl =\n",
              "          document.querySelector('#df-1a0e2810-1f0f-4910-8702-b15106baead0 button.colab-df-convert');\n",
              "        buttonEl.style.display =\n",
              "          google.colab.kernel.accessAllowed ? 'block' : 'none';\n",
              "\n",
              "        async function convertToInteractive(key) {\n",
              "          const element = document.querySelector('#df-1a0e2810-1f0f-4910-8702-b15106baead0');\n",
              "          const dataTable =\n",
              "            await google.colab.kernel.invokeFunction('convertToInteractive',\n",
              "                                                     [key], {});\n",
              "          if (!dataTable) return;\n",
              "\n",
              "          const docLinkHtml = 'Like what you see? Visit the ' +\n",
              "            '<a target=\"_blank\" href=https://colab.research.google.com/notebooks/data_table.ipynb>data table notebook</a>'\n",
              "            + ' to learn more about interactive tables.';\n",
              "          element.innerHTML = '';\n",
              "          dataTable['output_type'] = 'display_data';\n",
              "          await google.colab.output.renderOutput(dataTable, element);\n",
              "          const docLink = document.createElement('div');\n",
              "          docLink.innerHTML = docLinkHtml;\n",
              "          element.appendChild(docLink);\n",
              "        }\n",
              "      </script>\n",
              "    </div>\n",
              "  </div>\n",
              "  "
            ],
            "text/plain": [
              "         MedInc  HouseAge  AveRooms  AveBedrms  Population  AveOccup  \\\n",
              "count 4128.0000 4128.0000 4128.0000  4128.0000   4128.0000 4128.0000   \n",
              "mean     0.0195    0.0113   -0.0050    -0.0159     -0.0021    0.0340   \n",
              "std      1.0222    0.9843    0.7352     0.6845      0.9836    3.0118   \n",
              "min     -1.7784   -2.1870   -1.6567    -1.3043     -1.2506   -0.3201   \n",
              "25%     -0.6748   -0.8405   -0.3690    -0.1861     -0.5571   -0.0926   \n",
              "50%     -0.1653    0.0308   -0.0688    -0.0997     -0.2262   -0.0322   \n",
              "75%      0.4778    0.6645    0.2366     0.0045      0.2430    0.0398   \n",
              "max      5.8885    1.8526   21.9507    25.9592     12.9348  193.0775   \n",
              "\n",
              "       Latitude  Longitude  \n",
              "count 4128.0000  4128.0000  \n",
              "mean    -0.0183     0.0170  \n",
              "std      0.9927     0.9929  \n",
              "min     -1.4398    -2.3543  \n",
              "25%     -0.7946    -1.0846  \n",
              "50%     -0.6544     0.5465  \n",
              "75%      0.9632     0.7808  \n",
              "max      2.8987     2.5353  "
            ]
          },
          "execution_count": 44,
          "metadata": {},
          "output_type": "execute_result"
        }
      ],
      "source": [
        "X_test_std = pd.DataFrame(scaler.transform(X_test), columns=X_train.columns)\n",
        "X_test_std.describe()"
      ]
    },
    {
      "cell_type": "markdown",
      "metadata": {
        "id": "sk7T84kkkf_C"
      },
      "source": [
        "При этом та же самая история, где-то мы не получили чистый 0 в `mean` и 1 в `std`, это снова из-за того, что используем `mean` и `std` с обучения.\n",
        "\n",
        "В этом ничего страшного нет, на тесте нет цели получить сто процентный 0 и 1, цель - **перевести данные в такую же шкалу**, что получили на трейне."
      ]
    },
    {
      "cell_type": "markdown",
      "metadata": {
        "id": "fyJ6uCWekf_D"
      },
      "source": [
        "#### Самостоятельно"
      ]
    },
    {
      "cell_type": "markdown",
      "metadata": {
        "id": "sT51NxqDkf_D"
      },
      "source": [
        "С sklearn версией разобрались, сейчас давайте напишим свой нормализатор.\n",
        "\n",
        "Для начала нужно посчитать среднее и стандартное отклонение в исходных данных."
      ]
    },
    {
      "cell_type": "code",
      "execution_count": null,
      "metadata": {
        "colab": {
          "base_uri": "https://localhost:8080/",
          "height": 329
        },
        "id": "Znr9_jLpkf_D",
        "outputId": "59597f32-7e00-4774-a29d-9bfc8fbb1378"
      },
      "outputs": [
        {
          "data": {
            "text/plain": [
              "MedInc          3.8633\n",
              "HouseAge       28.6108\n",
              "AveRooms        5.4316\n",
              "AveBedrms       1.0983\n",
              "Population   1425.9480\n",
              "AveOccup        3.0270\n",
              "Latitude       35.6397\n",
              "Longitude    -119.5765\n",
              "dtype: float64"
            ]
          },
          "metadata": {},
          "output_type": "display_data"
        },
        {
          "data": {
            "text/plain": [
              "MedInc          1.8913\n",
              "HouseAge       12.6252\n",
              "AveRooms        2.5964\n",
              "AveBedrms       0.5013\n",
              "Population   1136.2025\n",
              "AveOccup        6.4241\n",
              "Latitude        2.1391\n",
              "Longitude       2.0064\n",
              "dtype: float64"
            ]
          },
          "metadata": {},
          "output_type": "display_data"
        }
      ],
      "source": [
        "means = X_train.mean()\n",
        "stds = X_train.std()\n",
        "\n",
        "display(means, stds)"
      ]
    },
    {
      "cell_type": "markdown",
      "metadata": {
        "id": "BCpmRGzEkf_E"
      },
      "source": [
        "А затем нужно пройтись по всем признакам и вычесть среднее и поделить на стандартное отклонение:\n",
        "\n",
        "$$x = \\frac{x - mean}{std}$$\n"
      ]
    },
    {
      "cell_type": "code",
      "execution_count": null,
      "metadata": {
        "colab": {
          "base_uri": "https://localhost:8080/",
          "height": 300
        },
        "id": "uOrqKcO0kf_E",
        "outputId": "b24b0ad6-feda-499d-9c9b-085f753fde59"
      },
      "outputs": [
        {
          "data": {
            "text/html": [
              "\n",
              "  <div id=\"df-e4916403-b740-47bb-b702-38ca52441826\">\n",
              "    <div class=\"colab-df-container\">\n",
              "      <div>\n",
              "<style scoped>\n",
              "    .dataframe tbody tr th:only-of-type {\n",
              "        vertical-align: middle;\n",
              "    }\n",
              "\n",
              "    .dataframe tbody tr th {\n",
              "        vertical-align: top;\n",
              "    }\n",
              "\n",
              "    .dataframe thead th {\n",
              "        text-align: right;\n",
              "    }\n",
              "</style>\n",
              "<table border=\"1\" class=\"dataframe\">\n",
              "  <thead>\n",
              "    <tr style=\"text-align: right;\">\n",
              "      <th></th>\n",
              "      <th>MedInc</th>\n",
              "      <th>HouseAge</th>\n",
              "      <th>AveRooms</th>\n",
              "      <th>AveBedrms</th>\n",
              "      <th>Population</th>\n",
              "      <th>AveOccup</th>\n",
              "      <th>Latitude</th>\n",
              "      <th>Longitude</th>\n",
              "    </tr>\n",
              "  </thead>\n",
              "  <tbody>\n",
              "    <tr>\n",
              "      <th>count</th>\n",
              "      <td>16512.0000</td>\n",
              "      <td>16512.0000</td>\n",
              "      <td>16512.0000</td>\n",
              "      <td>16512.0000</td>\n",
              "      <td>16512.0000</td>\n",
              "      <td>16512.0000</td>\n",
              "      <td>16512.0000</td>\n",
              "      <td>16512.0000</td>\n",
              "    </tr>\n",
              "    <tr>\n",
              "      <th>mean</th>\n",
              "      <td>-0.0000</td>\n",
              "      <td>0.0000</td>\n",
              "      <td>-0.0000</td>\n",
              "      <td>0.0000</td>\n",
              "      <td>-0.0000</td>\n",
              "      <td>0.0000</td>\n",
              "      <td>-0.0000</td>\n",
              "      <td>-0.0000</td>\n",
              "    </tr>\n",
              "    <tr>\n",
              "      <th>std</th>\n",
              "      <td>1.0000</td>\n",
              "      <td>1.0000</td>\n",
              "      <td>1.0000</td>\n",
              "      <td>1.0000</td>\n",
              "      <td>1.0000</td>\n",
              "      <td>1.0000</td>\n",
              "      <td>1.0000</td>\n",
              "      <td>1.0000</td>\n",
              "    </tr>\n",
              "    <tr>\n",
              "      <th>min</th>\n",
              "      <td>-1.7783</td>\n",
              "      <td>-2.1870</td>\n",
              "      <td>-1.7661</td>\n",
              "      <td>-1.5259</td>\n",
              "      <td>-1.2524</td>\n",
              "      <td>-0.3634</td>\n",
              "      <td>-1.4491</td>\n",
              "      <td>-2.3792</td>\n",
              "    </tr>\n",
              "    <tr>\n",
              "      <th>25%</th>\n",
              "      <td>-0.6895</td>\n",
              "      <td>-0.8404</td>\n",
              "      <td>-0.3840</td>\n",
              "      <td>-0.1835</td>\n",
              "      <td>-0.5641</td>\n",
              "      <td>-0.0930</td>\n",
              "      <td>-0.7993</td>\n",
              "      <td>-1.1082</td>\n",
              "    </tr>\n",
              "    <tr>\n",
              "      <th>50%</th>\n",
              "      <td>-0.1749</td>\n",
              "      <td>0.0308</td>\n",
              "      <td>-0.0807</td>\n",
              "      <td>-0.0986</td>\n",
              "      <td>-0.2292</td>\n",
              "      <td>-0.0326</td>\n",
              "      <td>-0.6450</td>\n",
              "      <td>0.5366</td>\n",
              "    </tr>\n",
              "    <tr>\n",
              "      <th>75%</th>\n",
              "      <td>0.4634</td>\n",
              "      <td>0.6645</td>\n",
              "      <td>0.2402</td>\n",
              "      <td>0.0019</td>\n",
              "      <td>0.2676</td>\n",
              "      <td>0.0396</td>\n",
              "      <td>0.9725</td>\n",
              "      <td>0.7808</td>\n",
              "    </tr>\n",
              "    <tr>\n",
              "      <th>max</th>\n",
              "      <td>5.8883</td>\n",
              "      <td>1.8526</td>\n",
              "      <td>52.5646</td>\n",
              "      <td>65.7663</td>\n",
              "      <td>30.1496</td>\n",
              "      <td>92.8830</td>\n",
              "      <td>2.9500</td>\n",
              "      <td>2.6249</td>\n",
              "    </tr>\n",
              "  </tbody>\n",
              "</table>\n",
              "</div>\n",
              "      <button class=\"colab-df-convert\" onclick=\"convertToInteractive('df-e4916403-b740-47bb-b702-38ca52441826')\"\n",
              "              title=\"Convert this dataframe to an interactive table.\"\n",
              "              style=\"display:none;\">\n",
              "        \n",
              "  <svg xmlns=\"http://www.w3.org/2000/svg\" height=\"24px\"viewBox=\"0 0 24 24\"\n",
              "       width=\"24px\">\n",
              "    <path d=\"M0 0h24v24H0V0z\" fill=\"none\"/>\n",
              "    <path d=\"M18.56 5.44l.94 2.06.94-2.06 2.06-.94-2.06-.94-.94-2.06-.94 2.06-2.06.94zm-11 1L8.5 8.5l.94-2.06 2.06-.94-2.06-.94L8.5 2.5l-.94 2.06-2.06.94zm10 10l.94 2.06.94-2.06 2.06-.94-2.06-.94-.94-2.06-.94 2.06-2.06.94z\"/><path d=\"M17.41 7.96l-1.37-1.37c-.4-.4-.92-.59-1.43-.59-.52 0-1.04.2-1.43.59L10.3 9.45l-7.72 7.72c-.78.78-.78 2.05 0 2.83L4 21.41c.39.39.9.59 1.41.59.51 0 1.02-.2 1.41-.59l7.78-7.78 2.81-2.81c.8-.78.8-2.07 0-2.86zM5.41 20L4 18.59l7.72-7.72 1.47 1.35L5.41 20z\"/>\n",
              "  </svg>\n",
              "      </button>\n",
              "      \n",
              "  <style>\n",
              "    .colab-df-container {\n",
              "      display:flex;\n",
              "      flex-wrap:wrap;\n",
              "      gap: 12px;\n",
              "    }\n",
              "\n",
              "    .colab-df-convert {\n",
              "      background-color: #E8F0FE;\n",
              "      border: none;\n",
              "      border-radius: 50%;\n",
              "      cursor: pointer;\n",
              "      display: none;\n",
              "      fill: #1967D2;\n",
              "      height: 32px;\n",
              "      padding: 0 0 0 0;\n",
              "      width: 32px;\n",
              "    }\n",
              "\n",
              "    .colab-df-convert:hover {\n",
              "      background-color: #E2EBFA;\n",
              "      box-shadow: 0px 1px 2px rgba(60, 64, 67, 0.3), 0px 1px 3px 1px rgba(60, 64, 67, 0.15);\n",
              "      fill: #174EA6;\n",
              "    }\n",
              "\n",
              "    [theme=dark] .colab-df-convert {\n",
              "      background-color: #3B4455;\n",
              "      fill: #D2E3FC;\n",
              "    }\n",
              "\n",
              "    [theme=dark] .colab-df-convert:hover {\n",
              "      background-color: #434B5C;\n",
              "      box-shadow: 0px 1px 3px 1px rgba(0, 0, 0, 0.15);\n",
              "      filter: drop-shadow(0px 1px 2px rgba(0, 0, 0, 0.3));\n",
              "      fill: #FFFFFF;\n",
              "    }\n",
              "  </style>\n",
              "\n",
              "      <script>\n",
              "        const buttonEl =\n",
              "          document.querySelector('#df-e4916403-b740-47bb-b702-38ca52441826 button.colab-df-convert');\n",
              "        buttonEl.style.display =\n",
              "          google.colab.kernel.accessAllowed ? 'block' : 'none';\n",
              "\n",
              "        async function convertToInteractive(key) {\n",
              "          const element = document.querySelector('#df-e4916403-b740-47bb-b702-38ca52441826');\n",
              "          const dataTable =\n",
              "            await google.colab.kernel.invokeFunction('convertToInteractive',\n",
              "                                                     [key], {});\n",
              "          if (!dataTable) return;\n",
              "\n",
              "          const docLinkHtml = 'Like what you see? Visit the ' +\n",
              "            '<a target=\"_blank\" href=https://colab.research.google.com/notebooks/data_table.ipynb>data table notebook</a>'\n",
              "            + ' to learn more about interactive tables.';\n",
              "          element.innerHTML = '';\n",
              "          dataTable['output_type'] = 'display_data';\n",
              "          await google.colab.output.renderOutput(dataTable, element);\n",
              "          const docLink = document.createElement('div');\n",
              "          docLink.innerHTML = docLinkHtml;\n",
              "          element.appendChild(docLink);\n",
              "        }\n",
              "      </script>\n",
              "    </div>\n",
              "  </div>\n",
              "  "
            ],
            "text/plain": [
              "          MedInc   HouseAge   AveRooms  AveBedrms  Population   AveOccup  \\\n",
              "count 16512.0000 16512.0000 16512.0000 16512.0000  16512.0000 16512.0000   \n",
              "mean     -0.0000     0.0000    -0.0000     0.0000     -0.0000     0.0000   \n",
              "std       1.0000     1.0000     1.0000     1.0000      1.0000     1.0000   \n",
              "min      -1.7783    -2.1870    -1.7661    -1.5259     -1.2524    -0.3634   \n",
              "25%      -0.6895    -0.8404    -0.3840    -0.1835     -0.5641    -0.0930   \n",
              "50%      -0.1749     0.0308    -0.0807    -0.0986     -0.2292    -0.0326   \n",
              "75%       0.4634     0.6645     0.2402     0.0019      0.2676     0.0396   \n",
              "max       5.8883     1.8526    52.5646    65.7663     30.1496    92.8830   \n",
              "\n",
              "        Latitude  Longitude  \n",
              "count 16512.0000 16512.0000  \n",
              "mean     -0.0000    -0.0000  \n",
              "std       1.0000     1.0000  \n",
              "min      -1.4491    -2.3792  \n",
              "25%      -0.7993    -1.1082  \n",
              "50%      -0.6450     0.5366  \n",
              "75%       0.9725     0.7808  \n",
              "max       2.9500     2.6249  "
            ]
          },
          "execution_count": 46,
          "metadata": {},
          "output_type": "execute_result"
        }
      ],
      "source": [
        "X_train_my_std = X_train.copy()\n",
        "\n",
        "for col in X_train.columns:\n",
        "    X_train_my_std[col] = (X_train[col] - means[col]) / stds[col]\n",
        "\n",
        "X_train_my_std.describe()"
      ]
    },
    {
      "cell_type": "markdown",
      "metadata": {
        "id": "jemobK0Hkf_E"
      },
      "source": [
        "Или же такой проход в цикле могли бы заменить на более приятную операцию, работая со всеми признаками за раз."
      ]
    },
    {
      "cell_type": "code",
      "execution_count": null,
      "metadata": {
        "colab": {
          "base_uri": "https://localhost:8080/",
          "height": 300
        },
        "id": "6ZQO-_5wkf_E",
        "outputId": "d9240bb7-0853-4324-ef5a-b21cd6a26e2f"
      },
      "outputs": [
        {
          "data": {
            "text/html": [
              "\n",
              "  <div id=\"df-1ca3fab3-06d5-403d-8f12-5adf918f965b\">\n",
              "    <div class=\"colab-df-container\">\n",
              "      <div>\n",
              "<style scoped>\n",
              "    .dataframe tbody tr th:only-of-type {\n",
              "        vertical-align: middle;\n",
              "    }\n",
              "\n",
              "    .dataframe tbody tr th {\n",
              "        vertical-align: top;\n",
              "    }\n",
              "\n",
              "    .dataframe thead th {\n",
              "        text-align: right;\n",
              "    }\n",
              "</style>\n",
              "<table border=\"1\" class=\"dataframe\">\n",
              "  <thead>\n",
              "    <tr style=\"text-align: right;\">\n",
              "      <th></th>\n",
              "      <th>MedInc</th>\n",
              "      <th>HouseAge</th>\n",
              "      <th>AveRooms</th>\n",
              "      <th>AveBedrms</th>\n",
              "      <th>Population</th>\n",
              "      <th>AveOccup</th>\n",
              "      <th>Latitude</th>\n",
              "      <th>Longitude</th>\n",
              "    </tr>\n",
              "  </thead>\n",
              "  <tbody>\n",
              "    <tr>\n",
              "      <th>count</th>\n",
              "      <td>16512.0000</td>\n",
              "      <td>16512.0000</td>\n",
              "      <td>16512.0000</td>\n",
              "      <td>16512.0000</td>\n",
              "      <td>16512.0000</td>\n",
              "      <td>16512.0000</td>\n",
              "      <td>16512.0000</td>\n",
              "      <td>16512.0000</td>\n",
              "    </tr>\n",
              "    <tr>\n",
              "      <th>mean</th>\n",
              "      <td>-0.0000</td>\n",
              "      <td>0.0000</td>\n",
              "      <td>-0.0000</td>\n",
              "      <td>0.0000</td>\n",
              "      <td>-0.0000</td>\n",
              "      <td>0.0000</td>\n",
              "      <td>-0.0000</td>\n",
              "      <td>-0.0000</td>\n",
              "    </tr>\n",
              "    <tr>\n",
              "      <th>std</th>\n",
              "      <td>1.0000</td>\n",
              "      <td>1.0000</td>\n",
              "      <td>1.0000</td>\n",
              "      <td>1.0000</td>\n",
              "      <td>1.0000</td>\n",
              "      <td>1.0000</td>\n",
              "      <td>1.0000</td>\n",
              "      <td>1.0000</td>\n",
              "    </tr>\n",
              "    <tr>\n",
              "      <th>min</th>\n",
              "      <td>-1.7783</td>\n",
              "      <td>-2.1870</td>\n",
              "      <td>-1.7661</td>\n",
              "      <td>-1.5259</td>\n",
              "      <td>-1.2524</td>\n",
              "      <td>-0.3634</td>\n",
              "      <td>-1.4491</td>\n",
              "      <td>-2.3792</td>\n",
              "    </tr>\n",
              "    <tr>\n",
              "      <th>25%</th>\n",
              "      <td>-0.6895</td>\n",
              "      <td>-0.8404</td>\n",
              "      <td>-0.3840</td>\n",
              "      <td>-0.1835</td>\n",
              "      <td>-0.5641</td>\n",
              "      <td>-0.0930</td>\n",
              "      <td>-0.7993</td>\n",
              "      <td>-1.1082</td>\n",
              "    </tr>\n",
              "    <tr>\n",
              "      <th>50%</th>\n",
              "      <td>-0.1749</td>\n",
              "      <td>0.0308</td>\n",
              "      <td>-0.0807</td>\n",
              "      <td>-0.0986</td>\n",
              "      <td>-0.2292</td>\n",
              "      <td>-0.0326</td>\n",
              "      <td>-0.6450</td>\n",
              "      <td>0.5366</td>\n",
              "    </tr>\n",
              "    <tr>\n",
              "      <th>75%</th>\n",
              "      <td>0.4634</td>\n",
              "      <td>0.6645</td>\n",
              "      <td>0.2402</td>\n",
              "      <td>0.0019</td>\n",
              "      <td>0.2676</td>\n",
              "      <td>0.0396</td>\n",
              "      <td>0.9725</td>\n",
              "      <td>0.7808</td>\n",
              "    </tr>\n",
              "    <tr>\n",
              "      <th>max</th>\n",
              "      <td>5.8883</td>\n",
              "      <td>1.8526</td>\n",
              "      <td>52.5646</td>\n",
              "      <td>65.7663</td>\n",
              "      <td>30.1496</td>\n",
              "      <td>92.8830</td>\n",
              "      <td>2.9500</td>\n",
              "      <td>2.6249</td>\n",
              "    </tr>\n",
              "  </tbody>\n",
              "</table>\n",
              "</div>\n",
              "      <button class=\"colab-df-convert\" onclick=\"convertToInteractive('df-1ca3fab3-06d5-403d-8f12-5adf918f965b')\"\n",
              "              title=\"Convert this dataframe to an interactive table.\"\n",
              "              style=\"display:none;\">\n",
              "        \n",
              "  <svg xmlns=\"http://www.w3.org/2000/svg\" height=\"24px\"viewBox=\"0 0 24 24\"\n",
              "       width=\"24px\">\n",
              "    <path d=\"M0 0h24v24H0V0z\" fill=\"none\"/>\n",
              "    <path d=\"M18.56 5.44l.94 2.06.94-2.06 2.06-.94-2.06-.94-.94-2.06-.94 2.06-2.06.94zm-11 1L8.5 8.5l.94-2.06 2.06-.94-2.06-.94L8.5 2.5l-.94 2.06-2.06.94zm10 10l.94 2.06.94-2.06 2.06-.94-2.06-.94-.94-2.06-.94 2.06-2.06.94z\"/><path d=\"M17.41 7.96l-1.37-1.37c-.4-.4-.92-.59-1.43-.59-.52 0-1.04.2-1.43.59L10.3 9.45l-7.72 7.72c-.78.78-.78 2.05 0 2.83L4 21.41c.39.39.9.59 1.41.59.51 0 1.02-.2 1.41-.59l7.78-7.78 2.81-2.81c.8-.78.8-2.07 0-2.86zM5.41 20L4 18.59l7.72-7.72 1.47 1.35L5.41 20z\"/>\n",
              "  </svg>\n",
              "      </button>\n",
              "      \n",
              "  <style>\n",
              "    .colab-df-container {\n",
              "      display:flex;\n",
              "      flex-wrap:wrap;\n",
              "      gap: 12px;\n",
              "    }\n",
              "\n",
              "    .colab-df-convert {\n",
              "      background-color: #E8F0FE;\n",
              "      border: none;\n",
              "      border-radius: 50%;\n",
              "      cursor: pointer;\n",
              "      display: none;\n",
              "      fill: #1967D2;\n",
              "      height: 32px;\n",
              "      padding: 0 0 0 0;\n",
              "      width: 32px;\n",
              "    }\n",
              "\n",
              "    .colab-df-convert:hover {\n",
              "      background-color: #E2EBFA;\n",
              "      box-shadow: 0px 1px 2px rgba(60, 64, 67, 0.3), 0px 1px 3px 1px rgba(60, 64, 67, 0.15);\n",
              "      fill: #174EA6;\n",
              "    }\n",
              "\n",
              "    [theme=dark] .colab-df-convert {\n",
              "      background-color: #3B4455;\n",
              "      fill: #D2E3FC;\n",
              "    }\n",
              "\n",
              "    [theme=dark] .colab-df-convert:hover {\n",
              "      background-color: #434B5C;\n",
              "      box-shadow: 0px 1px 3px 1px rgba(0, 0, 0, 0.15);\n",
              "      filter: drop-shadow(0px 1px 2px rgba(0, 0, 0, 0.3));\n",
              "      fill: #FFFFFF;\n",
              "    }\n",
              "  </style>\n",
              "\n",
              "      <script>\n",
              "        const buttonEl =\n",
              "          document.querySelector('#df-1ca3fab3-06d5-403d-8f12-5adf918f965b button.colab-df-convert');\n",
              "        buttonEl.style.display =\n",
              "          google.colab.kernel.accessAllowed ? 'block' : 'none';\n",
              "\n",
              "        async function convertToInteractive(key) {\n",
              "          const element = document.querySelector('#df-1ca3fab3-06d5-403d-8f12-5adf918f965b');\n",
              "          const dataTable =\n",
              "            await google.colab.kernel.invokeFunction('convertToInteractive',\n",
              "                                                     [key], {});\n",
              "          if (!dataTable) return;\n",
              "\n",
              "          const docLinkHtml = 'Like what you see? Visit the ' +\n",
              "            '<a target=\"_blank\" href=https://colab.research.google.com/notebooks/data_table.ipynb>data table notebook</a>'\n",
              "            + ' to learn more about interactive tables.';\n",
              "          element.innerHTML = '';\n",
              "          dataTable['output_type'] = 'display_data';\n",
              "          await google.colab.output.renderOutput(dataTable, element);\n",
              "          const docLink = document.createElement('div');\n",
              "          docLink.innerHTML = docLinkHtml;\n",
              "          element.appendChild(docLink);\n",
              "        }\n",
              "      </script>\n",
              "    </div>\n",
              "  </div>\n",
              "  "
            ],
            "text/plain": [
              "          MedInc   HouseAge   AveRooms  AveBedrms  Population   AveOccup  \\\n",
              "count 16512.0000 16512.0000 16512.0000 16512.0000  16512.0000 16512.0000   \n",
              "mean     -0.0000     0.0000    -0.0000     0.0000     -0.0000     0.0000   \n",
              "std       1.0000     1.0000     1.0000     1.0000      1.0000     1.0000   \n",
              "min      -1.7783    -2.1870    -1.7661    -1.5259     -1.2524    -0.3634   \n",
              "25%      -0.6895    -0.8404    -0.3840    -0.1835     -0.5641    -0.0930   \n",
              "50%      -0.1749     0.0308    -0.0807    -0.0986     -0.2292    -0.0326   \n",
              "75%       0.4634     0.6645     0.2402     0.0019      0.2676     0.0396   \n",
              "max       5.8883     1.8526    52.5646    65.7663     30.1496    92.8830   \n",
              "\n",
              "        Latitude  Longitude  \n",
              "count 16512.0000 16512.0000  \n",
              "mean     -0.0000    -0.0000  \n",
              "std       1.0000     1.0000  \n",
              "min      -1.4491    -2.3792  \n",
              "25%      -0.7993    -1.1082  \n",
              "50%      -0.6450     0.5366  \n",
              "75%       0.9725     0.7808  \n",
              "max       2.9500     2.6249  "
            ]
          },
          "execution_count": 47,
          "metadata": {},
          "output_type": "execute_result"
        }
      ],
      "source": [
        "X_train_my_std = (X_train - means) / stds\n",
        "X_train_my_std.describe()"
      ]
    },
    {
      "cell_type": "markdown",
      "metadata": {
        "id": "GxyvcAOQkf_E"
      },
      "source": [
        "И так же стандартизируем тестовую выборку."
      ]
    },
    {
      "cell_type": "code",
      "execution_count": null,
      "metadata": {
        "colab": {
          "base_uri": "https://localhost:8080/",
          "height": 300
        },
        "id": "WOvBrKpCkf_E",
        "outputId": "9285a964-5a90-49dd-dbb5-530816b48990"
      },
      "outputs": [
        {
          "data": {
            "text/html": [
              "\n",
              "  <div id=\"df-5552ba11-1358-4b61-8bd0-71d2879b7519\">\n",
              "    <div class=\"colab-df-container\">\n",
              "      <div>\n",
              "<style scoped>\n",
              "    .dataframe tbody tr th:only-of-type {\n",
              "        vertical-align: middle;\n",
              "    }\n",
              "\n",
              "    .dataframe tbody tr th {\n",
              "        vertical-align: top;\n",
              "    }\n",
              "\n",
              "    .dataframe thead th {\n",
              "        text-align: right;\n",
              "    }\n",
              "</style>\n",
              "<table border=\"1\" class=\"dataframe\">\n",
              "  <thead>\n",
              "    <tr style=\"text-align: right;\">\n",
              "      <th></th>\n",
              "      <th>MedInc</th>\n",
              "      <th>HouseAge</th>\n",
              "      <th>AveRooms</th>\n",
              "      <th>AveBedrms</th>\n",
              "      <th>Population</th>\n",
              "      <th>AveOccup</th>\n",
              "      <th>Latitude</th>\n",
              "      <th>Longitude</th>\n",
              "    </tr>\n",
              "  </thead>\n",
              "  <tbody>\n",
              "    <tr>\n",
              "      <th>count</th>\n",
              "      <td>4128.0000</td>\n",
              "      <td>4128.0000</td>\n",
              "      <td>4128.0000</td>\n",
              "      <td>4128.0000</td>\n",
              "      <td>4128.0000</td>\n",
              "      <td>4128.0000</td>\n",
              "      <td>4128.0000</td>\n",
              "      <td>4128.0000</td>\n",
              "    </tr>\n",
              "    <tr>\n",
              "      <th>mean</th>\n",
              "      <td>0.0195</td>\n",
              "      <td>0.0113</td>\n",
              "      <td>-0.0050</td>\n",
              "      <td>-0.0159</td>\n",
              "      <td>-0.0021</td>\n",
              "      <td>0.0340</td>\n",
              "      <td>-0.0183</td>\n",
              "      <td>0.0170</td>\n",
              "    </tr>\n",
              "    <tr>\n",
              "      <th>std</th>\n",
              "      <td>1.0222</td>\n",
              "      <td>0.9843</td>\n",
              "      <td>0.7352</td>\n",
              "      <td>0.6845</td>\n",
              "      <td>0.9835</td>\n",
              "      <td>3.0117</td>\n",
              "      <td>0.9927</td>\n",
              "      <td>0.9929</td>\n",
              "    </tr>\n",
              "    <tr>\n",
              "      <th>min</th>\n",
              "      <td>-1.7783</td>\n",
              "      <td>-2.1870</td>\n",
              "      <td>-1.6566</td>\n",
              "      <td>-1.3043</td>\n",
              "      <td>-1.2506</td>\n",
              "      <td>-0.3201</td>\n",
              "      <td>-1.4397</td>\n",
              "      <td>-2.3542</td>\n",
              "    </tr>\n",
              "    <tr>\n",
              "      <th>25%</th>\n",
              "      <td>-0.6748</td>\n",
              "      <td>-0.8404</td>\n",
              "      <td>-0.3690</td>\n",
              "      <td>-0.1861</td>\n",
              "      <td>-0.5571</td>\n",
              "      <td>-0.0926</td>\n",
              "      <td>-0.7946</td>\n",
              "      <td>-1.0845</td>\n",
              "    </tr>\n",
              "    <tr>\n",
              "      <th>50%</th>\n",
              "      <td>-0.1653</td>\n",
              "      <td>0.0308</td>\n",
              "      <td>-0.0688</td>\n",
              "      <td>-0.0997</td>\n",
              "      <td>-0.2261</td>\n",
              "      <td>-0.0322</td>\n",
              "      <td>-0.6543</td>\n",
              "      <td>0.5465</td>\n",
              "    </tr>\n",
              "    <tr>\n",
              "      <th>75%</th>\n",
              "      <td>0.4778</td>\n",
              "      <td>0.6645</td>\n",
              "      <td>0.2366</td>\n",
              "      <td>0.0045</td>\n",
              "      <td>0.2430</td>\n",
              "      <td>0.0398</td>\n",
              "      <td>0.9632</td>\n",
              "      <td>0.7808</td>\n",
              "    </tr>\n",
              "    <tr>\n",
              "      <th>max</th>\n",
              "      <td>5.8883</td>\n",
              "      <td>1.8526</td>\n",
              "      <td>21.9501</td>\n",
              "      <td>25.9584</td>\n",
              "      <td>12.9344</td>\n",
              "      <td>193.0717</td>\n",
              "      <td>2.8986</td>\n",
              "      <td>2.5352</td>\n",
              "    </tr>\n",
              "  </tbody>\n",
              "</table>\n",
              "</div>\n",
              "      <button class=\"colab-df-convert\" onclick=\"convertToInteractive('df-5552ba11-1358-4b61-8bd0-71d2879b7519')\"\n",
              "              title=\"Convert this dataframe to an interactive table.\"\n",
              "              style=\"display:none;\">\n",
              "        \n",
              "  <svg xmlns=\"http://www.w3.org/2000/svg\" height=\"24px\"viewBox=\"0 0 24 24\"\n",
              "       width=\"24px\">\n",
              "    <path d=\"M0 0h24v24H0V0z\" fill=\"none\"/>\n",
              "    <path d=\"M18.56 5.44l.94 2.06.94-2.06 2.06-.94-2.06-.94-.94-2.06-.94 2.06-2.06.94zm-11 1L8.5 8.5l.94-2.06 2.06-.94-2.06-.94L8.5 2.5l-.94 2.06-2.06.94zm10 10l.94 2.06.94-2.06 2.06-.94-2.06-.94-.94-2.06-.94 2.06-2.06.94z\"/><path d=\"M17.41 7.96l-1.37-1.37c-.4-.4-.92-.59-1.43-.59-.52 0-1.04.2-1.43.59L10.3 9.45l-7.72 7.72c-.78.78-.78 2.05 0 2.83L4 21.41c.39.39.9.59 1.41.59.51 0 1.02-.2 1.41-.59l7.78-7.78 2.81-2.81c.8-.78.8-2.07 0-2.86zM5.41 20L4 18.59l7.72-7.72 1.47 1.35L5.41 20z\"/>\n",
              "  </svg>\n",
              "      </button>\n",
              "      \n",
              "  <style>\n",
              "    .colab-df-container {\n",
              "      display:flex;\n",
              "      flex-wrap:wrap;\n",
              "      gap: 12px;\n",
              "    }\n",
              "\n",
              "    .colab-df-convert {\n",
              "      background-color: #E8F0FE;\n",
              "      border: none;\n",
              "      border-radius: 50%;\n",
              "      cursor: pointer;\n",
              "      display: none;\n",
              "      fill: #1967D2;\n",
              "      height: 32px;\n",
              "      padding: 0 0 0 0;\n",
              "      width: 32px;\n",
              "    }\n",
              "\n",
              "    .colab-df-convert:hover {\n",
              "      background-color: #E2EBFA;\n",
              "      box-shadow: 0px 1px 2px rgba(60, 64, 67, 0.3), 0px 1px 3px 1px rgba(60, 64, 67, 0.15);\n",
              "      fill: #174EA6;\n",
              "    }\n",
              "\n",
              "    [theme=dark] .colab-df-convert {\n",
              "      background-color: #3B4455;\n",
              "      fill: #D2E3FC;\n",
              "    }\n",
              "\n",
              "    [theme=dark] .colab-df-convert:hover {\n",
              "      background-color: #434B5C;\n",
              "      box-shadow: 0px 1px 3px 1px rgba(0, 0, 0, 0.15);\n",
              "      filter: drop-shadow(0px 1px 2px rgba(0, 0, 0, 0.3));\n",
              "      fill: #FFFFFF;\n",
              "    }\n",
              "  </style>\n",
              "\n",
              "      <script>\n",
              "        const buttonEl =\n",
              "          document.querySelector('#df-5552ba11-1358-4b61-8bd0-71d2879b7519 button.colab-df-convert');\n",
              "        buttonEl.style.display =\n",
              "          google.colab.kernel.accessAllowed ? 'block' : 'none';\n",
              "\n",
              "        async function convertToInteractive(key) {\n",
              "          const element = document.querySelector('#df-5552ba11-1358-4b61-8bd0-71d2879b7519');\n",
              "          const dataTable =\n",
              "            await google.colab.kernel.invokeFunction('convertToInteractive',\n",
              "                                                     [key], {});\n",
              "          if (!dataTable) return;\n",
              "\n",
              "          const docLinkHtml = 'Like what you see? Visit the ' +\n",
              "            '<a target=\"_blank\" href=https://colab.research.google.com/notebooks/data_table.ipynb>data table notebook</a>'\n",
              "            + ' to learn more about interactive tables.';\n",
              "          element.innerHTML = '';\n",
              "          dataTable['output_type'] = 'display_data';\n",
              "          await google.colab.output.renderOutput(dataTable, element);\n",
              "          const docLink = document.createElement('div');\n",
              "          docLink.innerHTML = docLinkHtml;\n",
              "          element.appendChild(docLink);\n",
              "        }\n",
              "      </script>\n",
              "    </div>\n",
              "  </div>\n",
              "  "
            ],
            "text/plain": [
              "         MedInc  HouseAge  AveRooms  AveBedrms  Population  AveOccup  \\\n",
              "count 4128.0000 4128.0000 4128.0000  4128.0000   4128.0000 4128.0000   \n",
              "mean     0.0195    0.0113   -0.0050    -0.0159     -0.0021    0.0340   \n",
              "std      1.0222    0.9843    0.7352     0.6845      0.9835    3.0117   \n",
              "min     -1.7783   -2.1870   -1.6566    -1.3043     -1.2506   -0.3201   \n",
              "25%     -0.6748   -0.8404   -0.3690    -0.1861     -0.5571   -0.0926   \n",
              "50%     -0.1653    0.0308   -0.0688    -0.0997     -0.2261   -0.0322   \n",
              "75%      0.4778    0.6645    0.2366     0.0045      0.2430    0.0398   \n",
              "max      5.8883    1.8526   21.9501    25.9584     12.9344  193.0717   \n",
              "\n",
              "       Latitude  Longitude  \n",
              "count 4128.0000  4128.0000  \n",
              "mean    -0.0183     0.0170  \n",
              "std      0.9927     0.9929  \n",
              "min     -1.4397    -2.3542  \n",
              "25%     -0.7946    -1.0845  \n",
              "50%     -0.6543     0.5465  \n",
              "75%      0.9632     0.7808  \n",
              "max      2.8986     2.5352  "
            ]
          },
          "execution_count": 48,
          "metadata": {},
          "output_type": "execute_result"
        }
      ],
      "source": [
        "X_test_my_std = (X_test - means) / stds\n",
        "X_test_my_std.describe()"
      ]
    },
    {
      "cell_type": "markdown",
      "metadata": {
        "id": "U6lQfgffkf_E"
      },
      "source": [
        "#### Обучение модели на масштабированных данных\n",
        "\n",
        "Снова повторим обучение моделей, но уже на стандартизированных данных."
      ]
    },
    {
      "cell_type": "code",
      "execution_count": null,
      "metadata": {
        "colab": {
          "base_uri": "https://localhost:8080/"
        },
        "id": "Ny9oLkbskf_F",
        "outputId": "e9d82b46-2363-4f86-8910-525f2e2c91a7"
      },
      "outputs": [
        {
          "data": {
            "text/plain": [
              "KNeighborsRegressor(algorithm='auto', leaf_size=30, metric='minkowski',\n",
              "                    metric_params=None, n_jobs=None, n_neighbors=5, p=2,\n",
              "                    weights='uniform')"
            ]
          },
          "execution_count": 49,
          "metadata": {},
          "output_type": "execute_result"
        }
      ],
      "source": [
        "knn = KNeighborsRegressor()\n",
        "knn.fit(X_train_std, y_train)"
      ]
    },
    {
      "cell_type": "markdown",
      "metadata": {
        "id": "75QA6Hj8kf_F"
      },
      "source": [
        "Для справки, что было до\n",
        "\n",
        "\n",
        "\n",
        "```\n",
        "исходные данные\n",
        "Train R2 0.45\n",
        "Test R2 0.18\n",
        "\n",
        "после нормализации\n",
        "Train R2 0.81\n",
        "Test R2 0.70\n",
        "```\n",
        "\n"
      ]
    },
    {
      "cell_type": "markdown",
      "metadata": {
        "id": "oPgUuFSbkf_F"
      },
      "source": [
        "И снова качество выросло, при этом здесь оно такое же, как и после нормализации данных."
      ]
    },
    {
      "cell_type": "code",
      "execution_count": null,
      "metadata": {
        "colab": {
          "base_uri": "https://localhost:8080/"
        },
        "id": "W9gU4bChkf_F",
        "outputId": "04de2a0c-4aa6-481f-f43a-c0b44b4cc3f4"
      },
      "outputs": [
        {
          "name": "stdout",
          "output_type": "stream",
          "text": [
            "Train R2 0.81\n",
            "Test R2 0.70\n"
          ]
        }
      ],
      "source": [
        "pred_train = knn.predict(X_train_std)\n",
        "pred_test = knn.predict(X_test_std)\n",
        "\n",
        "\n",
        "print(f'Train R2 {r2_score(y_train, pred_train):.2f}')\n",
        "print(f'Test R2 {r2_score(y_test, pred_test):.2f}')"
      ]
    },
    {
      "cell_type": "markdown",
      "metadata": {
        "id": "vFgzaPLFkf_G"
      },
      "source": [
        "Давайте попробуем другую модель."
      ]
    },
    {
      "cell_type": "code",
      "execution_count": null,
      "metadata": {
        "colab": {
          "base_uri": "https://localhost:8080/"
        },
        "id": "WKeQlk7wkf_G",
        "outputId": "1aa22ed5-e7c1-4013-b0b2-5c555dfe1f25"
      },
      "outputs": [
        {
          "data": {
            "text/plain": [
              "LinearRegression(copy_X=True, fit_intercept=True, n_jobs=None, normalize=False)"
            ]
          },
          "execution_count": 51,
          "metadata": {},
          "output_type": "execute_result"
        }
      ],
      "source": [
        "lr = LinearRegression()\n",
        "lr.fit(X_train_std, y_train)"
      ]
    },
    {
      "cell_type": "markdown",
      "metadata": {
        "id": "ocHonptUkf_G"
      },
      "source": [
        "Для справки, что было до\n",
        "\n",
        "\n",
        "\n",
        "```\n",
        "исходные данные\n",
        "Train R2 0.61\n",
        "Test R2 0.60\n",
        "\n",
        "после нормализации\n",
        "Train R2 0.61\n",
        "Test R2 0.60\n",
        "```\n",
        "\n"
      ]
    },
    {
      "cell_type": "code",
      "execution_count": null,
      "metadata": {
        "colab": {
          "base_uri": "https://localhost:8080/"
        },
        "id": "zzFXIcLnkf_H",
        "outputId": "0e889970-f8f2-4ce4-d4dd-ea6ce1bb0fe8"
      },
      "outputs": [
        {
          "name": "stdout",
          "output_type": "stream",
          "text": [
            "Train R2 0.61\n",
            "Test R2 0.60\n"
          ]
        }
      ],
      "source": [
        "pred_train = lr.predict(X_train_std)\n",
        "pred_test = lr.predict(X_test_std)\n",
        "\n",
        "\n",
        "print(f'Train R2 {r2_score(y_train, pred_train):.2f}')\n",
        "print(f'Test R2 {r2_score(y_test, pred_test):.2f}')"
      ]
    },
    {
      "cell_type": "markdown",
      "metadata": {
        "id": "ih8usyy5kf_H"
      },
      "source": [
        "И здесь сильно не поменялось, делаем вывод, что в этом случае наши данные не вызывают дискомфорта у линейной модели, хоть масштабируй, хоть нет, результат будет одинаковым.\n",
        "\n",
        "Но уж точно лишним не будет сделать масштабирование данных для таких моделей."
      ]
    },
    {
      "cell_type": "markdown",
      "metadata": {
        "id": "7e7GvSz8qcAb"
      },
      "source": [
        "Ради интереса можем обучить и дерево решений и сравнить его метрики."
      ]
    },
    {
      "cell_type": "code",
      "execution_count": null,
      "metadata": {
        "colab": {
          "base_uri": "https://localhost:8080/"
        },
        "id": "F0BjTPYKqiOv",
        "outputId": "7373dab8-2878-47d2-ab38-53344cad73bd"
      },
      "outputs": [
        {
          "data": {
            "text/plain": [
              "DecisionTreeRegressor(ccp_alpha=0.0, criterion='mse', max_depth=9,\n",
              "                      max_features=None, max_leaf_nodes=None,\n",
              "                      min_impurity_decrease=0.0, min_impurity_split=None,\n",
              "                      min_samples_leaf=1, min_samples_split=2,\n",
              "                      min_weight_fraction_leaf=0.0, presort='deprecated',\n",
              "                      random_state=1, splitter='best')"
            ]
          },
          "execution_count": 53,
          "metadata": {},
          "output_type": "execute_result"
        }
      ],
      "source": [
        "tree_2 = DecisionTreeRegressor(random_state=1, max_depth=9)\n",
        "tree_2.fit(X_train_norm, y_train)"
      ]
    },
    {
      "cell_type": "markdown",
      "metadata": {
        "id": "SoXh-BghqiOw"
      },
      "source": [
        "```\n",
        "метрики до\n",
        "Train R2 0.79\n",
        "Test R2 0.72\n",
        "```"
      ]
    },
    {
      "cell_type": "code",
      "execution_count": null,
      "metadata": {
        "colab": {
          "base_uri": "https://localhost:8080/"
        },
        "id": "XggT-hwvqiOw",
        "outputId": "5add1d64-8f12-449b-f6cb-9c20103d98b2"
      },
      "outputs": [
        {
          "name": "stdout",
          "output_type": "stream",
          "text": [
            "Train R2 0.79\n",
            "Test R2 0.72\n"
          ]
        }
      ],
      "source": [
        "pred_train = tree_2.predict(X_train_norm)\n",
        "pred_test = tree_2.predict(X_test_norm)\n",
        "\n",
        "\n",
        "print(f'Train R2 {r2_score(y_train, pred_train):.2f}')\n",
        "print(f'Test R2 {r2_score(y_test, pred_test):.2f}')"
      ]
    },
    {
      "cell_type": "markdown",
      "metadata": {
        "id": "Eu8IVibLqvGm"
      },
      "source": [
        "А в целом, так всё и осталось, ведь дереву решений без разницы, какой масштаб у признака, дерево решений задает вопросы к данным.\n",
        "\n",
        "А если мы применем масштабирование, то вопросы к признакам не поменяются, поменяется только значение, с которым сравнивается вопрос.\n",
        "\n",
        "А если забыли, как строится **дерево решений**, то можете вспомнить, посмотрев [здесь](https://youtube.com/playlist?list=PLkJJmZ1EJno5eV954-PwtRJAw2lE6s-w1)"
      ]
    },
    {
      "cell_type": "code",
      "execution_count": null,
      "metadata": {
        "colab": {
          "base_uri": "https://localhost:8080/",
          "height": 466
        },
        "id": "AW-7ctOFrwKP",
        "outputId": "509eee84-0cb0-43e3-e1df-ccc511b208f7"
      },
      "outputs": [
        {
          "data": {
            "image/png": "[encoded data removed]",
            "text/plain": [
              "<Figure size 720x576 with 1 Axes>"
            ]
          },
          "metadata": {
            "needs_background": "light"
          },
          "output_type": "display_data"
        }
      ],
      "source": [
        "from sklearn.tree import plot_tree\n",
        "\n",
        "plt.figure(figsize=(10, 8))\n",
        "plot_tree(tree_1, max_depth=1, filled=True, feature_names=X_train.columns);"
      ]
    },
    {
      "cell_type": "code",
      "execution_count": null,
      "metadata": {
        "colab": {
          "base_uri": "https://localhost:8080/",
          "height": 466
        },
        "id": "IRjmN5YdsL6X",
        "outputId": "e821ebf4-5590-4611-89d9-d4a7e66f9ffa"
      },
      "outputs": [
        {
          "data": {
            "image/png": "[encoded data removed]",
            "text/plain": [
              "<Figure size 720x576 with 1 Axes>"
            ]
          },
          "metadata": {
            "needs_background": "light"
          },
          "output_type": "display_data"
        }
      ],
      "source": [
        "plt.figure(figsize=(10, 8))\n",
        "plot_tree(tree_2, max_depth=1, filled=True, feature_names=X_train.columns);"
      ]
    },
    {
      "cell_type": "markdown",
      "metadata": {
        "id": "NLm3MFeQNENl"
      },
      "source": [
        "## Summary\n",
        "\n",
        "Вот мы и разобрались, зачем нужно масштабирование данных и как его применять.\n",
        "\n",
        "- Масштабирование данных нужно для более **стабильного** обучения модели.\n",
        "- Есть два основных вида масштабирование\n",
        "    1. ***Нормализация***\n",
        "        - После min = 0, max = 1 у всех признаков\n",
        "        - Подход лучше зарекомендовал себя в подходах МЛ, которые работают с расстояниями (KNN)\n",
        "    2. ***Стандартизация***\n",
        "        - После mean = 0, std = 1 у всех признаков\n",
        "        - Подход лучше зарекомендовал себя в линейных подходах МЛ (LinearRegression, SVM)\n",
        "- Для моделей, основанных не **дереве решений** (DecisionTree, Bagging, RandomForest, Boosting) масштабирование данных **необязательно**"
      ]
    }
  ],
  "metadata": {
    "colab": {
      "provenance": [],
      "toc_visible": true
    },
    "kernelspec": {
      "display_name": "Python 3",
      "name": "python3"
    },
    "language_info": {
      "name": "python"
    }
  },
  "nbformat": 4,
  "nbformat_minor": 0
}
