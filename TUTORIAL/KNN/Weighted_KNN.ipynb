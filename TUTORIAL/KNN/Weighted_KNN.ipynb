{
  "nbformat": 4,
  "nbformat_minor": 0,
  "metadata": {
    "colab": {
      "provenance": [],
      "toc_visible": true
    },
    "kernelspec": {
      "name": "python3",
      "display_name": "Python 3"
    },
    "language_info": {
      "name": "python"
    }
  },
  "cells": [
    {
      "cell_type": "code",
      "metadata": {
        "id": "2aEQws1__x5W"
      },
      "source": [
        "#@title Установка нужных версий библиотек\n",
        "!wget 'https://drive.google.com/uc?export=download&id=1oSFOP0j25OZAuhD8YXxyQXNTdr2lUdtn' -O requirements.txt\n",
        "!pip install -r requirements.txt"
      ],
      "execution_count": null,
      "outputs": []
    },
    {
      "cell_type": "markdown",
      "source": [
        "## Зачем нужен взвешенный *KNN* для классификации"
      ],
      "metadata": {
        "id": "Faqf8pG8itot"
      }
    },
    {
      "cell_type": "markdown",
      "source": [
        "Расшифровывается название как _\"k ближайших соседей (k nearest neighbours)\"_."
      ],
      "metadata": {
        "id": "Qb_1a1MV-s3b"
      }
    },
    {
      "cell_type": "markdown",
      "source": [
        "- Обучения нет, модель запоминает обучающую выборку\n",
        "- На моменте предсказания\n",
        "    1. Считаем **расстояния** до всех объектов с **обучения**\n",
        "    2. Выбираем **K** ближайших\n",
        "    3. Делаем **голосование** между соседами, за какой класс больше голосов, тот и выбираем\n",
        "\n",
        "\n",
        " <img src='https://upload.wikimedia.org/wikipedia/commons/thumb/e/e7/KnnClassification.svg/220px-KnnClassification.svg.png'>\n"
      ],
      "metadata": {
        "id": "6eN1mepjVJ5D"
      }
    },
    {
      "cell_type": "markdown",
      "source": [
        "Давайте обучим модель KNN из `sklearn` на сгенерированных данных.\n",
        "\n",
        "Сгенерируем два класса с помощью функции `make_moons`."
      ],
      "metadata": {
        "id": "vArDNjL1WeRv"
      }
    },
    {
      "cell_type": "code",
      "source": [
        "from sklearn.datasets import make_moons\n",
        "\n",
        "X, y = make_moons(n_samples=50, random_state=6)\n",
        "\n",
        "display(X, y)"
      ],
      "metadata": {
        "colab": {
          "base_uri": "https://localhost:8080/",
          "height": 937
        },
        "id": "-BI3C8CZWtY1",
        "outputId": "b2c4950c-b93d-4aac-f4a9-12ee4a9c61f4"
      },
      "execution_count": null,
      "outputs": [
        {
          "output_type": "display_data",
          "data": {
            "text/plain": [
              "array([[ 2.00000000e+00,  5.00000000e-01],\n",
              "       [ 1.38268343e+00, -4.23879533e-01],\n",
              "       [ 1.13052619e+00, -4.91444861e-01],\n",
              "       [-9.91444861e-01,  1.30526192e-01],\n",
              "       [ 6.08761429e-01,  7.93353340e-01],\n",
              "       [ 1.00000000e+00,  0.00000000e+00],\n",
              "       [ 7.07106781e-01,  7.07106781e-01],\n",
              "       [ 6.17316568e-01, -4.23879533e-01],\n",
              "       [-2.58819045e-01,  9.65925826e-01],\n",
              "       [ 2.92893219e-01, -2.07106781e-01],\n",
              "       [ 1.99144486e+00,  3.69473808e-01],\n",
              "       [-1.00000000e+00,  1.22464680e-16],\n",
              "       [-7.93353340e-01,  6.08761429e-01],\n",
              "       [ 9.23879533e-01,  3.82683432e-01],\n",
              "       [ 1.50000000e+00, -3.66025404e-01],\n",
              "       [ 7.61204675e-02,  1.17316568e-01],\n",
              "       [ 1.70710678e+00, -2.07106781e-01],\n",
              "       [ 2.06646660e-01, -1.08761429e-01],\n",
              "       [ 1.96592583e+00,  2.41180955e-01],\n",
              "       [-6.08761429e-01,  7.93353340e-01],\n",
              "       [-9.23879533e-01,  3.82683432e-01],\n",
              "       [ 1.33974596e-01,  0.00000000e+00],\n",
              "       [ 1.25881905e+00, -4.65925826e-01],\n",
              "       [-7.07106781e-01,  7.07106781e-01],\n",
              "       [-9.65925826e-01,  2.58819045e-01],\n",
              "       [ 1.79335334e+00, -1.08761429e-01],\n",
              "       [ 1.00000000e+00, -5.00000000e-01],\n",
              "       [ 7.93353340e-01,  6.08761429e-01],\n",
              "       [ 3.91238571e-01, -2.93353340e-01],\n",
              "       [ 3.40741737e-02,  2.41180955e-01],\n",
              "       [ 1.92387953e+00,  1.17316568e-01],\n",
              "       [ 6.12323400e-17,  1.00000000e+00],\n",
              "       [ 9.65925826e-01,  2.58819045e-01],\n",
              "       [ 5.00000000e-01,  8.66025404e-01],\n",
              "       [ 8.69473808e-01, -4.91444861e-01],\n",
              "       [ 8.66025404e-01,  5.00000000e-01],\n",
              "       [ 5.00000000e-01, -3.66025404e-01],\n",
              "       [ 8.55513863e-03,  3.69473808e-01],\n",
              "       [-1.30526192e-01,  9.91444861e-01],\n",
              "       [ 1.30526192e-01,  9.91444861e-01],\n",
              "       [ 9.91444861e-01,  1.30526192e-01],\n",
              "       [ 0.00000000e+00,  5.00000000e-01],\n",
              "       [-5.00000000e-01,  8.66025404e-01],\n",
              "       [ 1.86602540e+00, -3.33066907e-16],\n",
              "       [-3.82683432e-01,  9.23879533e-01],\n",
              "       [ 1.60876143e+00, -2.93353340e-01],\n",
              "       [-8.66025404e-01,  5.00000000e-01],\n",
              "       [ 7.41180955e-01, -4.65925826e-01],\n",
              "       [ 3.82683432e-01,  9.23879533e-01],\n",
              "       [ 2.58819045e-01,  9.65925826e-01]])"
            ]
          },
          "metadata": {}
        },
        {
          "output_type": "display_data",
          "data": {
            "text/plain": [
              "array([1, 1, 1, 0, 0, 0, 0, 1, 0, 1, 1, 0, 0, 0, 1, 1, 1, 1, 1, 0, 0, 1,\n",
              "       1, 0, 0, 1, 1, 0, 1, 1, 1, 0, 0, 0, 1, 0, 1, 1, 0, 0, 0, 1, 0, 1,\n",
              "       0, 1, 0, 1, 0, 0])"
            ]
          },
          "metadata": {}
        }
      ]
    },
    {
      "cell_type": "markdown",
      "source": [
        "Разобьем выборку на обучение и тест с помощью `train_test_split`."
      ],
      "metadata": {
        "id": "qBHrLQeIaOYy"
      }
    },
    {
      "cell_type": "code",
      "source": [
        "from sklearn.model_selection import train_test_split\n",
        "\n",
        "X_train, X_test, y_train, y_test = train_test_split(X, y, random_state=6, test_size=5)\n",
        "X_train.shape, X_test.shape"
      ],
      "metadata": {
        "colab": {
          "base_uri": "https://localhost:8080/"
        },
        "id": "THfMKGCXZBeX",
        "outputId": "40ba8f58-5cf9-4e5b-cf90-a09f8ab26c89"
      },
      "execution_count": null,
      "outputs": [
        {
          "output_type": "execute_result",
          "data": {
            "text/plain": [
              "((45, 2), (5, 2))"
            ]
          },
          "metadata": {},
          "execution_count": 3
        }
      ]
    },
    {
      "cell_type": "markdown",
      "source": [
        "И отрисуем полученные точки, синие - это один класс, оранжевые - это второй класс, а вот зеленые звезды - это тестовые точки, для них будет искать ближайших соседей."
      ],
      "metadata": {
        "id": "lFklshUYaTKQ"
      }
    },
    {
      "cell_type": "code",
      "source": [
        "import seaborn as sns\n",
        "import matplotlib.pyplot as plt\n",
        "from matplotlib.colors import ListedColormap\n",
        "\n",
        "# Create color maps\n",
        "cmap_bold = [\"darkorange\", \"darkblue\"]\n",
        "\n",
        "plt.figure(figsize=(10, 8))\n",
        "sns.scatterplot(\n",
        "    x=X_train[:, 0],\n",
        "    y=X_train[:, 1],\n",
        "    hue=y_train,\n",
        "    palette=cmap_bold\n",
        ")\n",
        "\n",
        "plt.scatter(X_test[:, 0], X_test[:, 1], c='g', marker='*', s=100, label='test dots')\n",
        "plt.legend();"
      ],
      "metadata": {
        "colab": {
          "base_uri": "https://localhost:8080/",
          "height": 483
        },
        "id": "f4Gb9GgPXgnu",
        "outputId": "572b258e-ed69-494a-eef4-8c9069843da1"
      },
      "execution_count": null,
      "outputs": [
        {
          "output_type": "display_data",
          "data": {
            "text/plain": [
              "<Figure size 720x576 with 1 Axes>"
            ],
            "image/png": "[encoded data removed]"
          },
          "metadata": {
            "needs_background": "light"
          }
        }
      ]
    },
    {
      "cell_type": "markdown",
      "source": [
        "Обучим модель `KNeighborsClassifier` для задачи классификации из `sklearn`.\n",
        "\n",
        "Укажем, что хотим слышать мнение 20 соседей, для нашей задачи из 50 объектов - это много соседей, но давайте пока обучимся так и посмотрим, а действительно ли 20 - это плохое количество соседей."
      ],
      "metadata": {
        "id": "z3xaqbVhab_H"
      }
    },
    {
      "cell_type": "code",
      "source": [
        "from sklearn.neighbors import KNeighborsClassifier\n",
        "\n",
        "n_neighbors = 20\n",
        "model = KNeighborsClassifier(n_neighbors=n_neighbors)"
      ],
      "metadata": {
        "id": "1WGhw4MiWhKt"
      },
      "execution_count": null,
      "outputs": []
    },
    {
      "cell_type": "code",
      "source": [
        "model.fit(X_train, y_train)"
      ],
      "metadata": {
        "colab": {
          "base_uri": "https://localhost:8080/"
        },
        "id": "eNIA8S9xaqKR",
        "outputId": "b37f5cac-fb38-4ab4-9bcd-5c89d3d0cfca"
      },
      "execution_count": null,
      "outputs": [
        {
          "output_type": "execute_result",
          "data": {
            "text/plain": [
              "KNeighborsClassifier(algorithm='auto', leaf_size=30, metric='minkowski',\n",
              "                     metric_params=None, n_jobs=None, n_neighbors=20, p=2,\n",
              "                     weights='uniform')"
            ]
          },
          "metadata": {},
          "execution_count": 6
        }
      ]
    },
    {
      "cell_type": "markdown",
      "source": [
        "И теперь можем сделать предсказания для наших тестовых объектов."
      ],
      "metadata": {
        "id": "TtLsG-dnateC"
      }
    },
    {
      "cell_type": "code",
      "source": [
        "pred_test = model.predict(X_test)\n",
        "pred_test"
      ],
      "metadata": {
        "colab": {
          "base_uri": "https://localhost:8080/"
        },
        "id": "85hnvzsSaxgw",
        "outputId": "3a7a350e-2947-4f53-a8ba-51fe4afd1841"
      },
      "execution_count": null,
      "outputs": [
        {
          "output_type": "execute_result",
          "data": {
            "text/plain": [
              "array([0, 1, 0, 0, 1])"
            ]
          },
          "metadata": {},
          "execution_count": 7
        }
      ]
    },
    {
      "cell_type": "markdown",
      "source": [
        "И посмотрим, насколько предсказанные классы похожи на правду."
      ],
      "metadata": {
        "id": "5wV0RIxSa0_r"
      }
    },
    {
      "cell_type": "code",
      "source": [
        "display(pred_test, y_test)"
      ],
      "metadata": {
        "colab": {
          "base_uri": "https://localhost:8080/",
          "height": 52
        },
        "id": "EjzPaoBwa4e8",
        "outputId": "9d779206-15ac-4158-c782-37d77a0eaf09"
      },
      "execution_count": null,
      "outputs": [
        {
          "output_type": "display_data",
          "data": {
            "text/plain": [
              "array([0, 1, 0, 0, 1])"
            ]
          },
          "metadata": {}
        },
        {
          "output_type": "display_data",
          "data": {
            "text/plain": [
              "array([0, 0, 0, 0, 1])"
            ]
          },
          "metadata": {}
        }
      ]
    },
    {
      "cell_type": "markdown",
      "source": [
        "Не совпали для одной точки, возможно для неё мы и переборщили с количеством соседей."
      ],
      "metadata": {
        "id": "1fHGnnMga8BQ"
      }
    },
    {
      "cell_type": "markdown",
      "source": [
        "#### Детали получения предсказания в KNN"
      ],
      "metadata": {
        "id": "nka4yvRqgiaI"
      }
    },
    {
      "cell_type": "markdown",
      "source": [
        "Получим ближайших соседей для парочки тестовых объектов."
      ],
      "metadata": {
        "id": "t_Qfp4LlduwF"
      }
    },
    {
      "cell_type": "code",
      "source": [
        "import numpy as np\n",
        "import pandas as pd\n",
        "\n",
        "\n",
        "idx = 0\n",
        "test_dot = X_test[idx]\n",
        "\n",
        "distances = pd.DataFrame()\n",
        "for i, train_dot in enumerate(X_train):  # 1\n",
        "    distances = distances.append({\n",
        "        'train_idx': i,\n",
        "        'dst': np.linalg.norm(train_dot - test_dot, ord=2)  # 2\n",
        "    }, ignore_index=True)"
      ],
      "metadata": {
        "id": "gOdcvkp0biqs"
      },
      "execution_count": null,
      "outputs": []
    },
    {
      "cell_type": "markdown",
      "source": [
        "И получим их индексы для дальнейшей отрисовки."
      ],
      "metadata": {
        "id": "-2XPtP0vejac"
      }
    },
    {
      "cell_type": "code",
      "source": [
        "nearest_neigbors_idxs = distances.sort_values('dst').head(n_neighbors).index\n",
        "nearest_neigbors_idxs"
      ],
      "metadata": {
        "colab": {
          "base_uri": "https://localhost:8080/"
        },
        "id": "R6FNlJGbcnaj",
        "outputId": "784b24a1-0375-4441-9a24-d5bf98c4fe33"
      },
      "execution_count": null,
      "outputs": [
        {
          "output_type": "execute_result",
          "data": {
            "text/plain": [
              "Int64Index([5, 17, 31, 4, 30, 1, 28, 9, 20, 24, 21, 16, 42, 40, 39, 33, 7, 15,\n",
              "            23, 14],\n",
              "           dtype='int64')"
            ]
          },
          "metadata": {},
          "execution_count": 10
        }
      ]
    },
    {
      "cell_type": "markdown",
      "source": [
        "Отрисовываем 20 найденных соседей в полупрозрачные зеленые окружности.\n",
        "\n",
        "Видим, что здесь нам повезло и большинство соседей являются оранжевым классом, именно представителем этого класса и является наш тестовый объект."
      ],
      "metadata": {
        "id": "b6qHbzQFemjM"
      }
    },
    {
      "cell_type": "code",
      "source": [
        "# Create color maps\n",
        "cmap_bold = [\"darkorange\", \"darkblue\"]\n",
        "\n",
        "plt.figure(figsize=(10, 8))\n",
        "sns.scatterplot(\n",
        "    x=X_train[:, 0],\n",
        "    y=X_train[:, 1],\n",
        "    hue=y_train,\n",
        "    palette=cmap_bold\n",
        ")\n",
        "\n",
        "plt.scatter(X_train[nearest_neigbors_idxs, 0], X_train[nearest_neigbors_idxs, 1],\n",
        "            c='g', alpha=0.3, marker='o', s=100, label='nearest neighbors')\n",
        "\n",
        "plt.scatter(X_test[idx, 0], X_test[idx, 1], c='g', marker='*', s=100, label='test dot')\n",
        "plt.legend();"
      ],
      "metadata": {
        "colab": {
          "base_uri": "https://localhost:8080/",
          "height": 483
        },
        "id": "XSoucL19bHAj",
        "outputId": "313e0d59-34c9-4943-ed32-5f52a5facd60"
      },
      "execution_count": null,
      "outputs": [
        {
          "output_type": "display_data",
          "data": {
            "text/plain": [
              "<Figure size 720x576 with 1 Axes>"
            ],
            "image/png": "[encoded data removed]"
          },
          "metadata": {
            "needs_background": "light"
          }
        }
      ]
    },
    {
      "cell_type": "markdown",
      "source": [
        "А давайте возьмем еще один тестовый объект."
      ],
      "metadata": {
        "id": "g_gXbUI6e0a6"
      }
    },
    {
      "cell_type": "code",
      "source": [
        "idx = 1\n",
        "test_dot = X_test[idx]\n",
        "\n",
        "distances = pd.DataFrame()\n",
        "for i, train_dot in enumerate(X_train):  # 1\n",
        "    distances = distances.append({\n",
        "        'train_idx': i,\n",
        "        'dst': np.linalg.norm(train_dot - test_dot, ord=2),  # 2\n",
        "        'label': y_train[i]\n",
        "    }, ignore_index=True)"
      ],
      "metadata": {
        "id": "qkuOthGAe0a7"
      },
      "execution_count": null,
      "outputs": []
    },
    {
      "cell_type": "code",
      "source": [
        "nearest_neigbors_idxs = distances.sort_values('dst').head(n_neighbors).index\n",
        "nearest_neigbors_idxs"
      ],
      "metadata": {
        "colab": {
          "base_uri": "https://localhost:8080/"
        },
        "outputId": "28e1aba9-ba84-4982-f82f-752b53e3fc64",
        "id": "mWIuYNwse0a8"
      },
      "execution_count": null,
      "outputs": [
        {
          "output_type": "execute_result",
          "data": {
            "text/plain": [
              "Int64Index([22, 23, 33, 42, 24, 32, 2, 27, 1, 13, 19, 35, 29, 3, 10, 38, 30,\n",
              "            43, 37, 14],\n",
              "           dtype='int64')"
            ]
          },
          "metadata": {},
          "execution_count": 13
        }
      ]
    },
    {
      "cell_type": "markdown",
      "source": [
        "А вот здесь не повезло, т.к. наши 20 ближайших соседей в большинстве своем являются представителями синего класса, а наш тестовый объект на самом деле оранжевый класс, так что 20 - это всё-таки многовато для нашей задачи."
      ],
      "metadata": {
        "id": "o9Wydp7fe0a9"
      }
    },
    {
      "cell_type": "code",
      "source": [
        "# Create color maps\n",
        "cmap_bold = [\"darkorange\", \"darkblue\"]\n",
        "\n",
        "plt.figure(figsize=(10, 8))\n",
        "sns.scatterplot(\n",
        "    x=X_train[:, 0],\n",
        "    y=X_train[:, 1],\n",
        "    hue=y_train,\n",
        "    palette=cmap_bold\n",
        ")\n",
        "\n",
        "plt.scatter(X_train[nearest_neigbors_idxs, 0], X_train[nearest_neigbors_idxs, 1],\n",
        "            c='g', alpha=0.3, marker='o', s=100, label='nearest neighbors')\n",
        "\n",
        "plt.scatter(X_test[idx, 0], X_test[idx, 1], c='g', marker='*', s=100, label='test dot')\n",
        "plt.legend();"
      ],
      "metadata": {
        "colab": {
          "base_uri": "https://localhost:8080/",
          "height": 483
        },
        "outputId": "cef76fc2-c3e3-4892-ffc6-c441f8b0aabd",
        "id": "ENdkTz_ze0a9"
      },
      "execution_count": null,
      "outputs": [
        {
          "output_type": "display_data",
          "data": {
            "text/plain": [
              "<Figure size 720x576 with 1 Axes>"
            ],
            "image/png": "[encoded data removed]"
          },
          "metadata": {
            "needs_background": "light"
          }
        }
      ]
    },
    {
      "cell_type": "markdown",
      "source": [
        "Но как мы можем с этим побороться?\n",
        "\n",
        "А можем пользоваться модификацией модели KNN - **Weighted KNN (взвешенный KNN)**"
      ],
      "metadata": {
        "id": "KTHRGKjFL81E"
      }
    },
    {
      "cell_type": "markdown",
      "source": [
        "### Взвешенный KNN"
      ],
      "metadata": {
        "id": "QSa9XSrGMWYx"
      }
    },
    {
      "cell_type": "markdown",
      "source": [
        "По дефолту модель с `sklearn` обучается с атрибутом `weights=uniform` - это значит, что каждый сосед одинаково важен и одинаково влияет на финальное предсказание модели."
      ],
      "metadata": {
        "id": "JqSdSJcAMjYt"
      }
    },
    {
      "cell_type": "code",
      "source": [
        "KNeighborsClassifier?"
      ],
      "metadata": {
        "id": "6Hl_db1bMuGR"
      },
      "execution_count": null,
      "outputs": []
    },
    {
      "cell_type": "markdown",
      "source": [
        "Но мы можем это поменять и сделать каких-то соседей более значимыми, а каких-то менее, для этого атрибут `weights` поменяем на `distance`.\n",
        "\n",
        "В этом случае веса будут обратными расстоянию до объектов с обучения.\n",
        "\n",
        "Можем привести пример на наших 20 соседях."
      ],
      "metadata": {
        "id": "3ZTy_TyQM4kv"
      }
    },
    {
      "cell_type": "code",
      "source": [
        "n_neighbors = 20\n",
        "model = KNeighborsClassifier(n_neighbors=n_neighbors, weights='distance')"
      ],
      "metadata": {
        "id": "WYbTgUbVMTSS"
      },
      "execution_count": null,
      "outputs": []
    },
    {
      "cell_type": "code",
      "source": [
        "model.fit(X_train, y_train)"
      ],
      "metadata": {
        "colab": {
          "base_uri": "https://localhost:8080/"
        },
        "outputId": "1c887c39-620c-4762-83af-84ca47a2180c",
        "id": "Hd2vo_wdMTSk"
      },
      "execution_count": null,
      "outputs": [
        {
          "output_type": "execute_result",
          "data": {
            "text/plain": [
              "KNeighborsClassifier(algorithm='auto', leaf_size=30, metric='minkowski',\n",
              "                     metric_params=None, n_jobs=None, n_neighbors=20, p=2,\n",
              "                     weights='distance')"
            ]
          },
          "metadata": {},
          "execution_count": 17
        }
      ]
    },
    {
      "cell_type": "code",
      "source": [
        "pred_test = model.predict(X_test)\n",
        "display(pred_test, y_test)"
      ],
      "metadata": {
        "colab": {
          "base_uri": "https://localhost:8080/",
          "height": 52
        },
        "outputId": "2f664494-3c3f-47d5-95c0-0052c9b7025e",
        "id": "FypMU4IXMTSn"
      },
      "execution_count": null,
      "outputs": [
        {
          "output_type": "display_data",
          "data": {
            "text/plain": [
              "array([0, 0, 0, 0, 1])"
            ]
          },
          "metadata": {}
        },
        {
          "output_type": "display_data",
          "data": {
            "text/plain": [
              "array([0, 0, 0, 0, 1])"
            ]
          },
          "metadata": {}
        }
      ]
    },
    {
      "cell_type": "markdown",
      "source": [
        "А вот теперь всё совпало.\n"
      ],
      "metadata": {
        "id": "uZen5TuuMTSq"
      }
    },
    {
      "cell_type": "markdown",
      "source": [
        "#### Детали получения предсказания в KNN"
      ],
      "metadata": {
        "id": "W8piE50ZMTSr"
      }
    },
    {
      "cell_type": "markdown",
      "source": [
        "Возьмем тот объект, где была ошибка."
      ],
      "metadata": {
        "id": "2-7FX9wROnmU"
      }
    },
    {
      "cell_type": "code",
      "source": [
        "idx = 1\n",
        "test_dot = X_test[idx]\n",
        "\n",
        "distances = pd.DataFrame()\n",
        "for i, train_dot in enumerate(X_train):  # 1\n",
        "    distances = distances.append({\n",
        "        'train_idx': i,\n",
        "        'dst': np.linalg.norm(train_dot - test_dot, ord=2),  # 2\n",
        "        'label': y_train[i]\n",
        "    }, ignore_index=True)"
      ],
      "metadata": {
        "id": "E7iACTO1MTSu"
      },
      "execution_count": null,
      "outputs": []
    },
    {
      "cell_type": "code",
      "source": [
        "nearest_neigbors_idxs = distances.sort_values('dst').head(n_neighbors).index\n",
        "nearest_neigbors_idxs"
      ],
      "metadata": {
        "colab": {
          "base_uri": "https://localhost:8080/"
        },
        "outputId": "49f8782f-7739-4956-aacd-e01bedf5919d",
        "id": "IWuMIR_QMTSv"
      },
      "execution_count": null,
      "outputs": [
        {
          "output_type": "execute_result",
          "data": {
            "text/plain": [
              "Int64Index([22, 23, 33, 42, 24, 32, 2, 27, 1, 13, 19, 35, 29, 3, 10, 38, 30,\n",
              "            43, 37, 14],\n",
              "           dtype='int64')"
            ]
          },
          "metadata": {},
          "execution_count": 20
        }
      ]
    },
    {
      "cell_type": "markdown",
      "source": [
        "Все те же самые соседи, но теперь те, кто находятся далеко влияют меньше, а те, кто близко влияют больше."
      ],
      "metadata": {
        "id": "5sHkyljOMTSv"
      }
    },
    {
      "cell_type": "code",
      "source": [
        "# Create color maps\n",
        "cmap_bold = [\"darkorange\", \"darkblue\"]\n",
        "\n",
        "plt.figure(figsize=(10, 8))\n",
        "sns.scatterplot(\n",
        "    x=X_train[:, 0],\n",
        "    y=X_train[:, 1],\n",
        "    hue=y_train,\n",
        "    palette=cmap_bold\n",
        ")\n",
        "\n",
        "plt.scatter(X_train[nearest_neigbors_idxs, 0], X_train[nearest_neigbors_idxs, 1],\n",
        "            c='g', alpha=0.3, marker='o', s=100, label='nearest neighbors')\n",
        "\n",
        "plt.scatter(X_test[idx, 0], X_test[idx, 1], c='g', marker='*', s=100, label='test dot')\n",
        "plt.legend();"
      ],
      "metadata": {
        "colab": {
          "base_uri": "https://localhost:8080/",
          "height": 483
        },
        "outputId": "75c44c51-b3e4-476e-9977-4fcbaa1ec901",
        "id": "4tCgy7InMTSv"
      },
      "execution_count": null,
      "outputs": [
        {
          "output_type": "display_data",
          "data": {
            "text/plain": [
              "<Figure size 720x576 with 1 Axes>"
            ],
            "image/png": "[encoded data removed]"
          },
          "metadata": {
            "needs_background": "light"
          }
        }
      ]
    },
    {
      "cell_type": "markdown",
      "source": [
        "Можем рассчитать вес каждого соседа, для этого 1 поделим на расстояние до объекта."
      ],
      "metadata": {
        "id": "S7dmKJrLPB7M"
      }
    },
    {
      "cell_type": "code",
      "source": [
        "distances['weight'] = 1 / distances['dst']\n",
        "distances = distances.sort_values('dst').head(n_neighbors)\n",
        "distances"
      ],
      "metadata": {
        "colab": {
          "base_uri": "https://localhost:8080/",
          "height": 676
        },
        "id": "yMWzmg-yO6bw",
        "outputId": "8cff1851-f1d6-4540-bb0e-d3f3694fec2f"
      },
      "execution_count": null,
      "outputs": [
        {
          "output_type": "execute_result",
          "data": {
            "text/plain": [
              "         dst  label  train_idx    weight\n",
              "22  0.130806    0.0       22.0  7.644894\n",
              "23  0.130806    0.0       23.0  7.644894\n",
              "33  0.261052    0.0       33.0  3.830649\n",
              "42  0.390181    0.0       42.0  2.562915\n",
              "24  0.517638    0.0       24.0  1.931852\n",
              "32  0.630584    1.0       32.0  1.585831\n",
              "2   0.633818    1.0        2.0  1.577741\n",
              "27  0.637332    1.0       27.0  1.569042\n",
              "1   0.642879    0.0        1.0  1.555503\n",
              "13  0.646828    1.0       13.0  1.546005\n",
              "19  0.653639    1.0       19.0  1.529896\n",
              "35  0.678552    1.0       35.0  1.473726\n",
              "29  0.698628    1.0       29.0  1.431376\n",
              "3   0.710768    1.0        3.0  1.406928\n",
              "10  0.734793    1.0       10.0  1.360927\n",
              "38  0.748835    1.0       38.0  1.335408\n",
              "30  0.765367    0.0       30.0  1.306563\n",
              "43  0.775868    1.0       43.0  1.288880\n",
              "37  0.791308    1.0       37.0  1.263731\n",
              "14  0.820467    1.0       14.0  1.218817"
            ],
            "text/html": [
              "\n",
              "  <div id=\"df-d3a47856-0272-4377-ac4a-1673e11a69a3\">\n",
              "    <div class=\"colab-df-container\">\n",
              "      <div>\n",
              "<style scoped>\n",
              "    .dataframe tbody tr th:only-of-type {\n",
              "        vertical-align: middle;\n",
              "    }\n",
              "\n",
              "    .dataframe tbody tr th {\n",
              "        vertical-align: top;\n",
              "    }\n",
              "\n",
              "    .dataframe thead th {\n",
              "        text-align: right;\n",
              "    }\n",
              "</style>\n",
              "<table border=\"1\" class=\"dataframe\">\n",
              "  <thead>\n",
              "    <tr style=\"text-align: right;\">\n",
              "      <th></th>\n",
              "      <th>dst</th>\n",
              "      <th>label</th>\n",
              "      <th>train_idx</th>\n",
              "      <th>weight</th>\n",
              "    </tr>\n",
              "  </thead>\n",
              "  <tbody>\n",
              "    <tr>\n",
              "      <th>22</th>\n",
              "      <td>0.130806</td>\n",
              "      <td>0.0</td>\n",
              "      <td>22.0</td>\n",
              "      <td>7.644894</td>\n",
              "    </tr>\n",
              "    <tr>\n",
              "      <th>23</th>\n",
              "      <td>0.130806</td>\n",
              "      <td>0.0</td>\n",
              "      <td>23.0</td>\n",
              "      <td>7.644894</td>\n",
              "    </tr>\n",
              "    <tr>\n",
              "      <th>33</th>\n",
              "      <td>0.261052</td>\n",
              "      <td>0.0</td>\n",
              "      <td>33.0</td>\n",
              "      <td>3.830649</td>\n",
              "    </tr>\n",
              "    <tr>\n",
              "      <th>42</th>\n",
              "      <td>0.390181</td>\n",
              "      <td>0.0</td>\n",
              "      <td>42.0</td>\n",
              "      <td>2.562915</td>\n",
              "    </tr>\n",
              "    <tr>\n",
              "      <th>24</th>\n",
              "      <td>0.517638</td>\n",
              "      <td>0.0</td>\n",
              "      <td>24.0</td>\n",
              "      <td>1.931852</td>\n",
              "    </tr>\n",
              "    <tr>\n",
              "      <th>32</th>\n",
              "      <td>0.630584</td>\n",
              "      <td>1.0</td>\n",
              "      <td>32.0</td>\n",
              "      <td>1.585831</td>\n",
              "    </tr>\n",
              "    <tr>\n",
              "      <th>2</th>\n",
              "      <td>0.633818</td>\n",
              "      <td>1.0</td>\n",
              "      <td>2.0</td>\n",
              "      <td>1.577741</td>\n",
              "    </tr>\n",
              "    <tr>\n",
              "      <th>27</th>\n",
              "      <td>0.637332</td>\n",
              "      <td>1.0</td>\n",
              "      <td>27.0</td>\n",
              "      <td>1.569042</td>\n",
              "    </tr>\n",
              "    <tr>\n",
              "      <th>1</th>\n",
              "      <td>0.642879</td>\n",
              "      <td>0.0</td>\n",
              "      <td>1.0</td>\n",
              "      <td>1.555503</td>\n",
              "    </tr>\n",
              "    <tr>\n",
              "      <th>13</th>\n",
              "      <td>0.646828</td>\n",
              "      <td>1.0</td>\n",
              "      <td>13.0</td>\n",
              "      <td>1.546005</td>\n",
              "    </tr>\n",
              "    <tr>\n",
              "      <th>19</th>\n",
              "      <td>0.653639</td>\n",
              "      <td>1.0</td>\n",
              "      <td>19.0</td>\n",
              "      <td>1.529896</td>\n",
              "    </tr>\n",
              "    <tr>\n",
              "      <th>35</th>\n",
              "      <td>0.678552</td>\n",
              "      <td>1.0</td>\n",
              "      <td>35.0</td>\n",
              "      <td>1.473726</td>\n",
              "    </tr>\n",
              "    <tr>\n",
              "      <th>29</th>\n",
              "      <td>0.698628</td>\n",
              "      <td>1.0</td>\n",
              "      <td>29.0</td>\n",
              "      <td>1.431376</td>\n",
              "    </tr>\n",
              "    <tr>\n",
              "      <th>3</th>\n",
              "      <td>0.710768</td>\n",
              "      <td>1.0</td>\n",
              "      <td>3.0</td>\n",
              "      <td>1.406928</td>\n",
              "    </tr>\n",
              "    <tr>\n",
              "      <th>10</th>\n",
              "      <td>0.734793</td>\n",
              "      <td>1.0</td>\n",
              "      <td>10.0</td>\n",
              "      <td>1.360927</td>\n",
              "    </tr>\n",
              "    <tr>\n",
              "      <th>38</th>\n",
              "      <td>0.748835</td>\n",
              "      <td>1.0</td>\n",
              "      <td>38.0</td>\n",
              "      <td>1.335408</td>\n",
              "    </tr>\n",
              "    <tr>\n",
              "      <th>30</th>\n",
              "      <td>0.765367</td>\n",
              "      <td>0.0</td>\n",
              "      <td>30.0</td>\n",
              "      <td>1.306563</td>\n",
              "    </tr>\n",
              "    <tr>\n",
              "      <th>43</th>\n",
              "      <td>0.775868</td>\n",
              "      <td>1.0</td>\n",
              "      <td>43.0</td>\n",
              "      <td>1.288880</td>\n",
              "    </tr>\n",
              "    <tr>\n",
              "      <th>37</th>\n",
              "      <td>0.791308</td>\n",
              "      <td>1.0</td>\n",
              "      <td>37.0</td>\n",
              "      <td>1.263731</td>\n",
              "    </tr>\n",
              "    <tr>\n",
              "      <th>14</th>\n",
              "      <td>0.820467</td>\n",
              "      <td>1.0</td>\n",
              "      <td>14.0</td>\n",
              "      <td>1.218817</td>\n",
              "    </tr>\n",
              "  </tbody>\n",
              "</table>\n",
              "</div>\n",
              "      <button class=\"colab-df-convert\" onclick=\"convertToInteractive('df-d3a47856-0272-4377-ac4a-1673e11a69a3')\"\n",
              "              title=\"Convert this dataframe to an interactive table.\"\n",
              "              style=\"display:none;\">\n",
              "        \n",
              "  <svg xmlns=\"http://www.w3.org/2000/svg\" height=\"24px\"viewBox=\"0 0 24 24\"\n",
              "       width=\"24px\">\n",
              "    <path d=\"M0 0h24v24H0V0z\" fill=\"none\"/>\n",
              "    <path d=\"M18.56 5.44l.94 2.06.94-2.06 2.06-.94-2.06-.94-.94-2.06-.94 2.06-2.06.94zm-11 1L8.5 8.5l.94-2.06 2.06-.94-2.06-.94L8.5 2.5l-.94 2.06-2.06.94zm10 10l.94 2.06.94-2.06 2.06-.94-2.06-.94-.94-2.06-.94 2.06-2.06.94z\"/><path d=\"M17.41 7.96l-1.37-1.37c-.4-.4-.92-.59-1.43-.59-.52 0-1.04.2-1.43.59L10.3 9.45l-7.72 7.72c-.78.78-.78 2.05 0 2.83L4 21.41c.39.39.9.59 1.41.59.51 0 1.02-.2 1.41-.59l7.78-7.78 2.81-2.81c.8-.78.8-2.07 0-2.86zM5.41 20L4 18.59l7.72-7.72 1.47 1.35L5.41 20z\"/>\n",
              "  </svg>\n",
              "      </button>\n",
              "      \n",
              "  <style>\n",
              "    .colab-df-container {\n",
              "      display:flex;\n",
              "      flex-wrap:wrap;\n",
              "      gap: 12px;\n",
              "    }\n",
              "\n",
              "    .colab-df-convert {\n",
              "      background-color: #E8F0FE;\n",
              "      border: none;\n",
              "      border-radius: 50%;\n",
              "      cursor: pointer;\n",
              "      display: none;\n",
              "      fill: #1967D2;\n",
              "      height: 32px;\n",
              "      padding: 0 0 0 0;\n",
              "      width: 32px;\n",
              "    }\n",
              "\n",
              "    .colab-df-convert:hover {\n",
              "      background-color: #E2EBFA;\n",
              "      box-shadow: 0px 1px 2px rgba(60, 64, 67, 0.3), 0px 1px 3px 1px rgba(60, 64, 67, 0.15);\n",
              "      fill: #174EA6;\n",
              "    }\n",
              "\n",
              "    [theme=dark] .colab-df-convert {\n",
              "      background-color: #3B4455;\n",
              "      fill: #D2E3FC;\n",
              "    }\n",
              "\n",
              "    [theme=dark] .colab-df-convert:hover {\n",
              "      background-color: #434B5C;\n",
              "      box-shadow: 0px 1px 3px 1px rgba(0, 0, 0, 0.15);\n",
              "      filter: drop-shadow(0px 1px 2px rgba(0, 0, 0, 0.3));\n",
              "      fill: #FFFFFF;\n",
              "    }\n",
              "  </style>\n",
              "\n",
              "      <script>\n",
              "        const buttonEl =\n",
              "          document.querySelector('#df-d3a47856-0272-4377-ac4a-1673e11a69a3 button.colab-df-convert');\n",
              "        buttonEl.style.display =\n",
              "          google.colab.kernel.accessAllowed ? 'block' : 'none';\n",
              "\n",
              "        async function convertToInteractive(key) {\n",
              "          const element = document.querySelector('#df-d3a47856-0272-4377-ac4a-1673e11a69a3');\n",
              "          const dataTable =\n",
              "            await google.colab.kernel.invokeFunction('convertToInteractive',\n",
              "                                                     [key], {});\n",
              "          if (!dataTable) return;\n",
              "\n",
              "          const docLinkHtml = 'Like what you see? Visit the ' +\n",
              "            '<a target=\"_blank\" href=https://colab.research.google.com/notebooks/data_table.ipynb>data table notebook</a>'\n",
              "            + ' to learn more about interactive tables.';\n",
              "          element.innerHTML = '';\n",
              "          dataTable['output_type'] = 'display_data';\n",
              "          await google.colab.output.renderOutput(dataTable, element);\n",
              "          const docLink = document.createElement('div');\n",
              "          docLink.innerHTML = docLinkHtml;\n",
              "          element.appendChild(docLink);\n",
              "        }\n",
              "      </script>\n",
              "    </div>\n",
              "  </div>\n",
              "  "
            ]
          },
          "metadata": {},
          "execution_count": 22
        }
      ]
    },
    {
      "cell_type": "code",
      "source": [
        "x = np.linspace(0, 1, 50)\n",
        "plt.plot(x, 1/(x))\n",
        "plt.ylabel('weight')\n",
        "plt.xlabel('distance');"
      ],
      "metadata": {
        "colab": {
          "base_uri": "https://localhost:8080/",
          "height": 334
        },
        "id": "VZ3DsFxGPUf3",
        "outputId": "303aa285-2801-49d7-e9f8-80e57241e3ed"
      },
      "execution_count": null,
      "outputs": [
        {
          "output_type": "stream",
          "name": "stderr",
          "text": [
            "/usr/local/lib/python3.7/dist-packages/ipykernel_launcher.py:2: RuntimeWarning: divide by zero encountered in true_divide\n",
            "  \n"
          ]
        },
        {
          "output_type": "display_data",
          "data": {
            "text/plain": [
              "<Figure size 432x288 with 1 Axes>"
            ],
            "image/png": "[encoded data removed]"
          },
          "metadata": {
            "needs_background": "light"
          }
        }
      ]
    },
    {
      "cell_type": "markdown",
      "source": [
        "Зная вес каждого соседа, можем посчитать взвешенную сумму и где сумма весов будет больше, тот класс и наше финальное предсказание.\n",
        "\n",
        "Победил нулевой класс - а это наш оранжевый."
      ],
      "metadata": {
        "id": "FcyK42BYSP4e"
      }
    },
    {
      "cell_type": "code",
      "source": [
        "display(f\"Вес для класса 0 - {distances[distances['label'] == 0]['weight'].sum()}\",\n",
        "        f\"Вес для класса 1 - {distances[distances['label'] == 1]['weight'].sum()}\")"
      ],
      "metadata": {
        "colab": {
          "base_uri": "https://localhost:8080/",
          "height": 53
        },
        "id": "GMCG5vguQoS3",
        "outputId": "c1ea796c-8957-49dc-d3ad-94dec4541fce"
      },
      "execution_count": null,
      "outputs": [
        {
          "output_type": "display_data",
          "data": {
            "text/plain": [
              "'Вес для класса 0 - 26.477269988013717'"
            ],
            "application/vnd.google.colaboratory.intrinsic+json": {
              "type": "string"
            }
          },
          "metadata": {}
        },
        {
          "output_type": "display_data",
          "data": {
            "text/plain": [
              "'Вес для класса 1 - 18.588307260356473'"
            ],
            "application/vnd.google.colaboratory.intrinsic+json": {
              "type": "string"
            }
          },
          "metadata": {}
        }
      ]
    },
    {
      "cell_type": "markdown",
      "source": [
        "Получаем, что по обычному большинству побеждал первый класс, а по весу побеждает нулевой класс, т.к. не все объекты активно участвуют в голосовании."
      ],
      "metadata": {
        "id": "FYYcHGjbSk2m"
      }
    },
    {
      "cell_type": "code",
      "source": [
        "distances['label'].value_counts()"
      ],
      "metadata": {
        "colab": {
          "base_uri": "https://localhost:8080/"
        },
        "id": "YD5p3TKcSe_w",
        "outputId": "a86f6bb7-3b4b-427c-d5e9-5eed608c26e4"
      },
      "execution_count": null,
      "outputs": [
        {
          "output_type": "execute_result",
          "data": {
            "text/plain": [
              "1.0    13\n",
              "0.0     7\n",
              "Name: label, dtype: int64"
            ]
          },
          "metadata": {},
          "execution_count": 25
        }
      ]
    },
    {
      "cell_type": "markdown",
      "source": [
        "И можем с помощью визуализации отрисовать важность соседей.\n",
        "\n",
        "Те, кто ближе имеют полузеленую окружность больше, а те, кто дальше имеют маленькую окружность."
      ],
      "metadata": {
        "id": "6fwID6vmUmxz"
      }
    },
    {
      "cell_type": "code",
      "source": [
        "# Create color maps\n",
        "cmap_bold = [\"darkorange\", \"darkblue\"]\n",
        "\n",
        "plt.figure(figsize=(10, 8))\n",
        "sns.scatterplot(\n",
        "    x=X_train[:, 0],\n",
        "    y=X_train[:, 1],\n",
        "    hue=y_train,\n",
        "    palette=cmap_bold\n",
        ")\n",
        "\n",
        "plt.scatter(X_train[nearest_neigbors_idxs, 0], X_train[nearest_neigbors_idxs, 1],\n",
        "            c='g', alpha=0.3, marker='o', s=distances['weight']*100, label='nearest neighbors')\n",
        "\n",
        "plt.scatter(X_test[idx, 0], X_test[idx, 1], c='g', marker='*', s=100, label='test dot')\n",
        "plt.legend();"
      ],
      "metadata": {
        "colab": {
          "base_uri": "https://localhost:8080/",
          "height": 483
        },
        "id": "y-g2negMUbvF",
        "outputId": "995af2d6-b868-4195-f55b-cfe43212fda6"
      },
      "execution_count": null,
      "outputs": [
        {
          "output_type": "display_data",
          "data": {
            "text/plain": [
              "<Figure size 720x576 with 1 Axes>"
            ],
            "image/png": "[encoded data removed]"
          },
          "metadata": {
            "needs_background": "light"
          }
        }
      ]
    },
    {
      "cell_type": "markdown",
      "source": [
        "#### Резюме взвешенного KNN"
      ],
      "metadata": {
        "id": "ZZq_KFgagr3l"
      }
    },
    {
      "cell_type": "markdown",
      "source": [
        "\n",
        "На **моменте обучения** ничего интересного не происходит: все точки из обучения попросту запоминаются.\n",
        "\n",
        "На **моменте предсказания**:\n",
        "1. для тестовой точки считаем расстояния до всех точек с обучения\n",
        "2. сортируем от самого ближнего до самого дальнего расстояния\n",
        "3. считаем веса для ближайших $N$ соседей\n",
        "4. суммируем веса для каждого класса, где максимальная сумма - это предсказанная метка класса"
      ],
      "metadata": {
        "id": "k2KMkTkxfLB3"
      }
    },
    {
      "cell_type": "markdown",
      "source": [
        "## Зачем нужен взвешенный KNN для регрессии"
      ],
      "metadata": {
        "id": "B7JWc3aEgSCH"
      }
    },
    {
      "cell_type": "markdown",
      "source": [
        "А теперь давайте обсудим, чем может быть полезен KNN для регрессии."
      ],
      "metadata": {
        "id": "Q80Y_7yQBYQy"
      }
    },
    {
      "cell_type": "markdown",
      "metadata": {
        "id": "-cLKHMqVYr9v"
      },
      "source": [
        "Но для начала давайте быстро вспомним, в чем суть модели *KNN* для этой задачи."
      ]
    },
    {
      "cell_type": "markdown",
      "source": [
        "- Обучения нет, модель запоминает обучающую выборку\n",
        "- На моменте предсказания\n",
        "    1. Считаем **расстояния** до всех объектов с **обучения**\n",
        "    2. Выбираем **K** ближайших\n",
        "    3. Делаем **усреднение** между соседами\n",
        "\n",
        "\n",
        " <img src='https://drive.google.com/uc?id=1ABbqUeWI0vpWslGm_cBw-wWe5TpWxV6D' width=500>\n"
      ],
      "metadata": {
        "id": "GMGIdGHIYr95"
      }
    },
    {
      "cell_type": "markdown",
      "source": [
        "Давайте обучим модель KNN для регресии из `sklearn` на сгенерированных данных.\n",
        "\n",
        "Сгенерируем 50 объектов с помощью придуманной функции."
      ],
      "metadata": {
        "id": "tx_o0s6JBiX2"
      }
    },
    {
      "cell_type": "code",
      "source": [
        "from sklearn.datasets import make_regression\n",
        "import numpy as np\n",
        "np.random.seed(8)\n",
        "\n",
        "def func(x):\n",
        "    return 0.03*x**3 + 0.2*x**2\n",
        "\n",
        "\n",
        "X = np.linspace(-10, 10, 50).reshape(-1, 1)\n",
        "y = func(X) + np.random.randn(50, 1)\n",
        "\n",
        "display(X, y)\n"
      ],
      "metadata": {
        "colab": {
          "base_uri": "https://localhost:8080/",
          "height": 1000
        },
        "outputId": "8ecdd198-da11-4f38-9c5e-8c0c3db7bdbe",
        "id": "gVECxRpDBiX4"
      },
      "execution_count": null,
      "outputs": [
        {
          "output_type": "display_data",
          "data": {
            "text/plain": [
              "array([[-10.        ],\n",
              "       [ -9.59183673],\n",
              "       [ -9.18367347],\n",
              "       [ -8.7755102 ],\n",
              "       [ -8.36734694],\n",
              "       [ -7.95918367],\n",
              "       [ -7.55102041],\n",
              "       [ -7.14285714],\n",
              "       [ -6.73469388],\n",
              "       [ -6.32653061],\n",
              "       [ -5.91836735],\n",
              "       [ -5.51020408],\n",
              "       [ -5.10204082],\n",
              "       [ -4.69387755],\n",
              "       [ -4.28571429],\n",
              "       [ -3.87755102],\n",
              "       [ -3.46938776],\n",
              "       [ -3.06122449],\n",
              "       [ -2.65306122],\n",
              "       [ -2.24489796],\n",
              "       [ -1.83673469],\n",
              "       [ -1.42857143],\n",
              "       [ -1.02040816],\n",
              "       [ -0.6122449 ],\n",
              "       [ -0.20408163],\n",
              "       [  0.20408163],\n",
              "       [  0.6122449 ],\n",
              "       [  1.02040816],\n",
              "       [  1.42857143],\n",
              "       [  1.83673469],\n",
              "       [  2.24489796],\n",
              "       [  2.65306122],\n",
              "       [  3.06122449],\n",
              "       [  3.46938776],\n",
              "       [  3.87755102],\n",
              "       [  4.28571429],\n",
              "       [  4.69387755],\n",
              "       [  5.10204082],\n",
              "       [  5.51020408],\n",
              "       [  5.91836735],\n",
              "       [  6.32653061],\n",
              "       [  6.73469388],\n",
              "       [  7.14285714],\n",
              "       [  7.55102041],\n",
              "       [  7.95918367],\n",
              "       [  8.36734694],\n",
              "       [  8.7755102 ],\n",
              "       [  9.18367347],\n",
              "       [  9.59183673],\n",
              "       [ 10.        ]])"
            ]
          },
          "metadata": {}
        },
        {
          "output_type": "display_data",
          "data": {
            "text/plain": [
              "array([[-9.90879528e+00],\n",
              "       [-6.98247905e+00],\n",
              "       [-8.31549023e+00],\n",
              "       [-6.25838414e+00],\n",
              "       [-5.86855764e+00],\n",
              "       [-4.65401665e-02],\n",
              "       [ 2.15116128e-01],\n",
              "       [ 1.47569331e+00],\n",
              "       [ 7.02264167e-01],\n",
              "       [ 1.38483936e+00],\n",
              "       [-3.97105122e-01],\n",
              "       [ 2.96975123e+00],\n",
              "       [ 9.85280388e-02],\n",
              "       [ 6.39928015e-01],\n",
              "       [ 9.33594782e-01],\n",
              "       [ 4.66448970e-01],\n",
              "       [ 2.01408406e+00],\n",
              "       [ 7.82819280e-01],\n",
              "       [ 7.81859988e-01],\n",
              "       [ 4.59877735e-01],\n",
              "       [ 1.83569550e+00],\n",
              "       [-2.86253089e-01],\n",
              "       [ 2.12387622e-03],\n",
              "       [ 4.92135298e-01],\n",
              "       [-1.63791524e+00],\n",
              "       [-4.74956092e-01],\n",
              "       [ 6.17321899e-01],\n",
              "       [ 1.40626152e+00],\n",
              "       [ 6.57309931e-01],\n",
              "       [ 1.87776873e-01],\n",
              "       [ 2.78983690e+00],\n",
              "       [ 1.74649192e+00],\n",
              "       [ 2.76609419e+00],\n",
              "       [ 3.84205420e+00],\n",
              "       [ 4.69316779e+00],\n",
              "       [ 5.49341696e+00],\n",
              "       [ 7.98354952e+00],\n",
              "       [ 8.02588219e+00],\n",
              "       [ 1.05906426e+01],\n",
              "       [ 1.28159458e+01],\n",
              "       [ 1.46672292e+01],\n",
              "       [ 1.83195143e+01],\n",
              "       [ 2.12807173e+01],\n",
              "       [ 2.43954332e+01],\n",
              "       [ 2.76401713e+01],\n",
              "       [ 3.21279140e+01],\n",
              "       [ 3.73778963e+01],\n",
              "       [ 4.11105570e+01],\n",
              "       [ 4.17401748e+01],\n",
              "       [ 5.11395335e+01]])"
            ]
          },
          "metadata": {}
        }
      ]
    },
    {
      "cell_type": "markdown",
      "source": [
        "Разобьем выборку на обучение и тест с помощью `train_test_split`."
      ],
      "metadata": {
        "id": "MUTOouynBiX4"
      }
    },
    {
      "cell_type": "code",
      "source": [
        "from sklearn.model_selection import train_test_split\n",
        "\n",
        "X_train, X_test, y_train, y_test = train_test_split(X, y, random_state=12, test_size=5)\n",
        "X_train.shape, X_test.shape"
      ],
      "metadata": {
        "colab": {
          "base_uri": "https://localhost:8080/"
        },
        "outputId": "1a9916f1-dbae-4a53-dae9-028ee2a16381",
        "id": "Csv1yNExBiX5"
      },
      "execution_count": null,
      "outputs": [
        {
          "output_type": "execute_result",
          "data": {
            "text/plain": [
              "((45, 1), (5, 1))"
            ]
          },
          "metadata": {},
          "execution_count": 28
        }
      ]
    },
    {
      "cell_type": "markdown",
      "source": [
        "И отрисуем полученные точки.\n",
        "\n",
        "А зеленые звезды - это тестовые точки, для них будет искать ближайших соседей."
      ],
      "metadata": {
        "id": "R0Wkoaw_BiX5"
      }
    },
    {
      "cell_type": "code",
      "source": [
        "import matplotlib.pyplot as plt\n",
        "\n",
        "plt.figure(figsize=(10, 8))\n",
        "\n",
        "plt.scatter(X_train, y_train, c='b', marker='o', s=10, label='train dots')\n",
        "plt.scatter(X_test, y_test, c='g', marker='*', s=50, label='test dots')\n",
        "plt.grid()\n",
        "plt.ylabel('target')\n",
        "plt.xlabel('feature')\n",
        "plt.legend();"
      ],
      "metadata": {
        "colab": {
          "base_uri": "https://localhost:8080/",
          "height": 497
        },
        "outputId": "fd1bbfee-a8a1-451c-a5a8-786360f95ae0",
        "id": "Nrbq4l4xBiX5"
      },
      "execution_count": null,
      "outputs": [
        {
          "output_type": "display_data",
          "data": {
            "text/plain": [
              "<Figure size 720x576 with 1 Axes>"
            ],
            "image/png": "[encoded data removed]"
          },
          "metadata": {
            "needs_background": "light"
          }
        }
      ]
    },
    {
      "cell_type": "markdown",
      "source": [
        "Инициализируем модель `KNeighborsRegressor` для задачи регрессии из `sklearn`."
      ],
      "metadata": {
        "id": "xuEW-OJ9BiX6"
      }
    },
    {
      "cell_type": "code",
      "source": [
        "from sklearn.neighbors import KNeighborsRegressor\n",
        "\n",
        "n_neighbors = 20\n",
        "model = KNeighborsRegressor(n_neighbors=n_neighbors)"
      ],
      "metadata": {
        "id": "IR2S6-gMBiX6"
      },
      "execution_count": null,
      "outputs": []
    },
    {
      "cell_type": "code",
      "source": [
        "model.fit(X_train, y_train)"
      ],
      "metadata": {
        "colab": {
          "base_uri": "https://localhost:8080/"
        },
        "outputId": "26fa1b48-9e99-49cf-bd7f-27fb77931c7f",
        "id": "GKUIoYs7BiX6"
      },
      "execution_count": null,
      "outputs": [
        {
          "output_type": "execute_result",
          "data": {
            "text/plain": [
              "KNeighborsRegressor(algorithm='auto', leaf_size=30, metric='minkowski',\n",
              "                    metric_params=None, n_jobs=None, n_neighbors=20, p=2,\n",
              "                    weights='uniform')"
            ]
          },
          "metadata": {},
          "execution_count": 31
        }
      ]
    },
    {
      "cell_type": "markdown",
      "source": [
        "И теперь можем сделать предсказания для наших тестовых объектов."
      ],
      "metadata": {
        "id": "woBE8vvKBiX7"
      }
    },
    {
      "cell_type": "code",
      "source": [
        "pred_test = model.predict(X_test)\n",
        "pred_test"
      ],
      "metadata": {
        "colab": {
          "base_uri": "https://localhost:8080/"
        },
        "outputId": "c5d21df0-d861-4a0b-d486-443843c1922e",
        "id": "tFlQPmwOBiX7"
      },
      "execution_count": null,
      "outputs": [
        {
          "output_type": "execute_result",
          "data": {
            "text/plain": [
              "array([[ 2.80737304],\n",
              "       [15.45383115],\n",
              "       [-1.22462722],\n",
              "       [15.45383115],\n",
              "       [10.70420217]])"
            ]
          },
          "metadata": {},
          "execution_count": 32
        }
      ]
    },
    {
      "cell_type": "markdown",
      "source": [
        "И посчитаем метрику качества. Она совсем печальная.\n",
        "\n",
        "Видимо 20 соседей - это многовато для наших данных."
      ],
      "metadata": {
        "id": "MTnB88tNdcIl"
      }
    },
    {
      "cell_type": "code",
      "source": [
        "from sklearn.metrics import r2_score\n",
        "\n",
        "r2_score(pred_test, y_test)"
      ],
      "metadata": {
        "colab": {
          "base_uri": "https://localhost:8080/"
        },
        "id": "BjzB48rLq5il",
        "outputId": "a7dab2b8-a309-49c7-9151-417404332841"
      },
      "execution_count": null,
      "outputs": [
        {
          "output_type": "execute_result",
          "data": {
            "text/plain": [
              "-1.22454737493758"
            ]
          },
          "metadata": {},
          "execution_count": 33
        }
      ]
    },
    {
      "cell_type": "markdown",
      "source": [
        "#### Детали получения предсказания в KNN"
      ],
      "metadata": {
        "id": "fJm4fUtABiX8"
      }
    },
    {
      "cell_type": "markdown",
      "source": [
        "Давайте посмотрим на ближайших соседей для пары тестовых объектов.\n",
        "\n",
        "Для этого\n",
        "1. пройдемся по всем обучающим объектам\n",
        "2. посчитаем Эвклидово расстояние (ведь именно оно и считается по умолчанию в KNN в `sklearn`) через `numpy.linalg.norm`."
      ],
      "metadata": {
        "id": "dJC45bVEBiX8"
      }
    },
    {
      "cell_type": "code",
      "source": [
        "import numpy as np\n",
        "import pandas as pd\n",
        "\n",
        "\n",
        "idx = 0\n",
        "test_dot = X_test[idx]\n",
        "\n",
        "distances = pd.DataFrame()\n",
        "for i, train_dot in enumerate(X_train):  # 1\n",
        "    distances = distances.append({\n",
        "        'train_idx': i,\n",
        "        'dst': np.linalg.norm(train_dot - test_dot, ord=2)  # 2\n",
        "    }, ignore_index=True)"
      ],
      "metadata": {
        "id": "5kdXP1wKBiX8"
      },
      "execution_count": null,
      "outputs": []
    },
    {
      "cell_type": "markdown",
      "source": [
        "И получим их индексы для дальнейшей отрисовки."
      ],
      "metadata": {
        "id": "-q1XCvEpBiX9"
      }
    },
    {
      "cell_type": "code",
      "source": [
        "nearest_neigbors_idxs = distances.sort_values('dst').head(n_neighbors).index\n",
        "nearest_neigbors_idxs"
      ],
      "metadata": {
        "colab": {
          "base_uri": "https://localhost:8080/"
        },
        "outputId": "36008ece-125f-432e-c790-63ac77c60e9a",
        "id": "AVrb98xJBiX9"
      },
      "execution_count": null,
      "outputs": [
        {
          "output_type": "execute_result",
          "data": {
            "text/plain": [
              "Int64Index([0, 43, 23, 11, 9, 34, 17, 19, 13, 21, 37, 33, 1, 20, 15, 7, 3, 27,\n",
              "            6, 5],\n",
              "           dtype='int64')"
            ]
          },
          "metadata": {},
          "execution_count": 35
        }
      ]
    },
    {
      "cell_type": "markdown",
      "source": [
        "Отрисовываем 20 найденных соседей в полупрозрачные зеленые окружности.\n",
        "\n",
        "Чтобы получить предсказания для тестового объекта, нужно усреднить целевые значения ближайших соседей.\n",
        "\n",
        "И видим, что наше предсказание в целом-то походит на правду."
      ],
      "metadata": {
        "id": "9FW68g9-BiX-"
      }
    },
    {
      "cell_type": "code",
      "source": [
        "plt.figure(figsize=(10, 8))\n",
        "\n",
        "plt.scatter(X_train, y_train, c='b', marker='o', s=10, label='train dots')\n",
        "plt.grid()\n",
        "\n",
        "plt.scatter(X_train[nearest_neigbors_idxs], y_train[nearest_neigbors_idxs],\n",
        "            c='g', alpha=0.3, marker='o', s=100, label='nearest neighbors')\n",
        "\n",
        "plt.scatter(X_test[idx, 0], y_test[idx], c='g', marker='*', s=100, label='test dot')\n",
        "plt.scatter(X_test[idx, 0], pred_test[idx], c='r', marker='*', s=100, label='prediction')\n",
        "\n",
        "plt.xlabel('feature')\n",
        "plt.ylabel('target')\n",
        "plt.legend();"
      ],
      "metadata": {
        "colab": {
          "base_uri": "https://localhost:8080/",
          "height": 497
        },
        "outputId": "b432c86c-1f54-4b89-9f46-7959fb0796d3",
        "id": "eLlopVfHBiX-"
      },
      "execution_count": null,
      "outputs": [
        {
          "output_type": "display_data",
          "data": {
            "text/plain": [
              "<Figure size 720x576 with 1 Axes>"
            ],
            "image/png": "[encoded data removed]"
          },
          "metadata": {
            "needs_background": "light"
          }
        }
      ]
    },
    {
      "cell_type": "markdown",
      "source": [
        "А давайте возьмем еще один тестовый объект и сделаем для него точно такие же действия."
      ],
      "metadata": {
        "id": "48ZAvW89BiX-"
      }
    },
    {
      "cell_type": "code",
      "source": [
        "idx = 1\n",
        "test_dot = X_test[idx]\n",
        "\n",
        "distances = pd.DataFrame()\n",
        "for i, train_dot in enumerate(X_train):  # 1\n",
        "    distances = distances.append({\n",
        "        'train_idx': i,\n",
        "        'dst': np.linalg.norm(train_dot - test_dot, ord=2)  # 2\n",
        "    }, ignore_index=True)"
      ],
      "metadata": {
        "id": "rxhALkt7BiX-"
      },
      "execution_count": null,
      "outputs": []
    },
    {
      "cell_type": "code",
      "source": [
        "nearest_neigbors_idxs = distances.sort_values('dst').head(n_neighbors).index\n",
        "nearest_neigbors_idxs"
      ],
      "metadata": {
        "colab": {
          "base_uri": "https://localhost:8080/"
        },
        "outputId": "4c1a4518-fd0a-40d0-faa3-53bc30aad4fa",
        "id": "VgZzLPjQBiX_"
      },
      "execution_count": null,
      "outputs": [
        {
          "output_type": "execute_result",
          "data": {
            "text/plain": [
              "Int64Index([14, 39, 25, 2, 32, 29, 18, 28, 26, 6, 7, 20, 33, 13, 19, 9, 23, 0,\n",
              "            43, 11],\n",
              "           dtype='int64')"
            ]
          },
          "metadata": {},
          "execution_count": 38
        }
      ]
    },
    {
      "cell_type": "markdown",
      "source": [
        "Отрисовываем 20 найденных соседей в полупрозрачные зеленые окружности.\n",
        "\n",
        "Вот здесь уже не совпадаем даже на чуть-чуть, предсказание очень сильно отличается от истины, а значит все-таки 20 соседей - это перебор."
      ],
      "metadata": {
        "id": "EzSAR3VlBiX_"
      }
    },
    {
      "cell_type": "code",
      "source": [
        "plt.figure(figsize=(10, 8))\n",
        "\n",
        "plt.scatter(X_train, y_train, c='b', marker='o', s=10, label='train dots')\n",
        "plt.grid()\n",
        "\n",
        "plt.scatter(X_train[nearest_neigbors_idxs], y_train[nearest_neigbors_idxs],\n",
        "            c='g', alpha=0.3, marker='o', s=100, label='nearest neighbors')\n",
        "\n",
        "plt.scatter(X_test[idx, 0], y_test[idx], c='g', marker='*', s=100, label='test dot')\n",
        "plt.scatter(X_test[idx, 0], pred_test[idx], c='r', marker='*', s=100, label='prediction')\n",
        "\n",
        "plt.xlabel('feature')\n",
        "plt.ylabel('target')\n",
        "\n",
        "plt.legend();"
      ],
      "metadata": {
        "colab": {
          "base_uri": "https://localhost:8080/",
          "height": 497
        },
        "outputId": "44d62c14-9a66-42de-ebcc-96dcea18d5e6",
        "id": "O54leDA0BiX_"
      },
      "execution_count": null,
      "outputs": [
        {
          "output_type": "display_data",
          "data": {
            "text/plain": [
              "<Figure size 720x576 with 1 Axes>"
            ],
            "image/png": "[encoded data removed]"
          },
          "metadata": {
            "needs_background": "light"
          }
        }
      ]
    },
    {
      "cell_type": "markdown",
      "source": [
        "Давайте снова с этим бороться с помощью **Weighted KNN (взвешенный KNN)**"
      ],
      "metadata": {
        "id": "lb-ToYyAefO1"
      }
    },
    {
      "cell_type": "markdown",
      "source": [
        "### Взвешенный KNN"
      ],
      "metadata": {
        "id": "Qmst29CZefPH"
      }
    },
    {
      "cell_type": "markdown",
      "source": [
        "Вспомним, что по умолчанию модель с `sklearn` обучается с атрибутом `weights=uniform` - это значит, что каждый сосед одинаково важен и одинаково влияет на финальное предсказание модели."
      ],
      "metadata": {
        "id": "8cNO9g_uefPI"
      }
    },
    {
      "cell_type": "code",
      "source": [
        "KNeighborsRegressor?"
      ],
      "metadata": {
        "id": "mUgPeReVefPI"
      },
      "execution_count": null,
      "outputs": []
    },
    {
      "cell_type": "markdown",
      "source": [
        "Но мы можем это поменять и сделать каких-то соседей более значимыми, а каких-то менее, для этого атрибут `weights` поменяем на `distance`.\n",
        "\n",
        "В этом случае веса будут обратными расстоянию до объектов с обучения."
      ],
      "metadata": {
        "id": "d5nPZQLSefPJ"
      }
    },
    {
      "cell_type": "code",
      "source": [
        "n_neighbors = 20\n",
        "model = KNeighborsRegressor(n_neighbors=n_neighbors, weights='distance')"
      ],
      "metadata": {
        "id": "GOZkVl0AefPJ"
      },
      "execution_count": null,
      "outputs": []
    },
    {
      "cell_type": "code",
      "source": [
        "model.fit(X_train, y_train)"
      ],
      "metadata": {
        "colab": {
          "base_uri": "https://localhost:8080/"
        },
        "outputId": "24f02c81-9c0a-4974-e403-714640bce756",
        "id": "FPay3MXIefPK"
      },
      "execution_count": null,
      "outputs": [
        {
          "output_type": "execute_result",
          "data": {
            "text/plain": [
              "KNeighborsRegressor(algorithm='auto', leaf_size=30, metric='minkowski',\n",
              "                    metric_params=None, n_jobs=None, n_neighbors=20, p=2,\n",
              "                    weights='distance')"
            ]
          },
          "metadata": {},
          "execution_count": 41
        }
      ]
    },
    {
      "cell_type": "markdown",
      "source": [
        "Для справки\n",
        "```\n",
        "-1.22454737493758\n",
        "```"
      ],
      "metadata": {
        "id": "BhHaje9Ee1ay"
      }
    },
    {
      "cell_type": "code",
      "source": [
        "prev_pred_test = pred_test.copy()"
      ],
      "metadata": {
        "id": "7wpWdA_1mMsU"
      },
      "execution_count": null,
      "outputs": []
    },
    {
      "cell_type": "code",
      "source": [
        "pred_test = model.predict(X_test)\n",
        "r2_score(pred_test, y_test)"
      ],
      "metadata": {
        "colab": {
          "base_uri": "https://localhost:8080/"
        },
        "outputId": "e754b726-e926-437f-fcb1-0c1e51afaff8",
        "id": "ElOXKt3sefPL"
      },
      "execution_count": null,
      "outputs": [
        {
          "output_type": "execute_result",
          "data": {
            "text/plain": [
              "0.8683987446927024"
            ]
          },
          "metadata": {},
          "execution_count": 43
        }
      ]
    },
    {
      "cell_type": "markdown",
      "source": [
        "Метрика стала гораздо лучше, а всего лишь изменили способ подсчета ближайших соседей."
      ],
      "metadata": {
        "id": "9MC3zHCuefPL"
      }
    },
    {
      "cell_type": "markdown",
      "source": [
        "#### Детали получения предсказания в KNN"
      ],
      "metadata": {
        "id": "cs9dWeayefPM"
      }
    },
    {
      "cell_type": "markdown",
      "source": [
        "Возьмем тот объект, где была ошибка."
      ],
      "metadata": {
        "id": "HQddM_1defPM"
      }
    },
    {
      "cell_type": "code",
      "source": [
        "idx = 1\n",
        "test_dot = X_test[idx]\n",
        "\n",
        "distances = pd.DataFrame()\n",
        "for i, train_dot in enumerate(X_train):  # 1\n",
        "    distances = distances.append({\n",
        "        'train_idx': i,\n",
        "        'dst': np.linalg.norm(train_dot - test_dot, ord=2),  # 2\n",
        "        'label': y_train[i][0]\n",
        "    }, ignore_index=True)"
      ],
      "metadata": {
        "id": "MmG695hVefPN"
      },
      "execution_count": null,
      "outputs": []
    },
    {
      "cell_type": "code",
      "source": [
        "nearest_neigbors_idxs = distances.sort_values('dst').head(n_neighbors).index\n",
        "nearest_neigbors_idxs"
      ],
      "metadata": {
        "colab": {
          "base_uri": "https://localhost:8080/"
        },
        "outputId": "7840f076-8580-4221-c3fd-e6b22e882ded",
        "id": "Ry9c0DP6efPN"
      },
      "execution_count": null,
      "outputs": [
        {
          "output_type": "execute_result",
          "data": {
            "text/plain": [
              "Int64Index([14, 39, 25, 2, 32, 29, 18, 28, 26, 6, 7, 20, 33, 13, 19, 9, 23, 0,\n",
              "            43, 11],\n",
              "           dtype='int64')"
            ]
          },
          "metadata": {},
          "execution_count": 45
        }
      ]
    },
    {
      "cell_type": "markdown",
      "source": [
        "Все те же самые соседи, но предсказание сейчас гораздо лучше, ведь теперь те соседи, которые находятся далеко влияют меньше, а те, кто близко влияют больше."
      ],
      "metadata": {
        "id": "N7gMgKokefPN"
      }
    },
    {
      "cell_type": "code",
      "source": [
        "plt.figure(figsize=(10, 8))\n",
        "\n",
        "plt.scatter(X_train, y_train, c='b', marker='o', s=10, label='train dots')\n",
        "plt.grid()\n",
        "\n",
        "plt.scatter(X_train[nearest_neigbors_idxs], y_train[nearest_neigbors_idxs],\n",
        "            c='g', alpha=0.3, marker='o', s=100, label='nearest neighbors')\n",
        "\n",
        "plt.scatter(X_test[idx, 0], y_test[idx], c='g', marker='*', s=100, label='test dot')\n",
        "plt.scatter(X_test[idx, 0], prev_pred_test[idx][0], c='r', alpha=0.5, marker='*', s=100, label='previous prediction')\n",
        "plt.scatter(X_test[idx, 0], pred_test[idx], c='r', marker='*', s=100, label='prediction')\n",
        "\n",
        "plt.legend();"
      ],
      "metadata": {
        "colab": {
          "base_uri": "https://localhost:8080/",
          "height": 483
        },
        "outputId": "9a0804aa-3932-478f-caee-f600235ca879",
        "id": "PDb6ISZ8efPO"
      },
      "execution_count": null,
      "outputs": [
        {
          "output_type": "display_data",
          "data": {
            "text/plain": [
              "<Figure size 720x576 with 1 Axes>"
            ],
            "image/png": "[encoded data removed]"
          },
          "metadata": {
            "needs_background": "light"
          }
        }
      ]
    },
    {
      "cell_type": "markdown",
      "source": [
        "Можем рассчитать вес каждого соседа, для этого 1 поделим на расстояние до объекта."
      ],
      "metadata": {
        "id": "byDotK6AefPO"
      }
    },
    {
      "cell_type": "code",
      "source": [
        "distances['weight'] = 1 / (distances['dst'])\n",
        "distances = distances.sort_values('dst').head(n_neighbors)\n",
        "distances"
      ],
      "metadata": {
        "colab": {
          "base_uri": "https://localhost:8080/",
          "height": 676
        },
        "outputId": "adb1d63d-12f8-46d2-832e-5d6ad2a3c6de",
        "id": "0nUj_Fp6efPO"
      },
      "execution_count": null,
      "outputs": [
        {
          "output_type": "execute_result",
          "data": {
            "text/plain": [
              "         dst      label  train_idx    weight\n",
              "14  0.408163  41.110557       14.0  2.450000\n",
              "39  0.408163  32.127914       39.0  2.450000\n",
              "25  0.816327  27.640171       25.0  1.225000\n",
              "2   0.816327  41.740175        2.0  1.225000\n",
              "32  1.224490  51.139534       32.0  0.816667\n",
              "29  1.224490  24.395433       29.0  0.816667\n",
              "18  1.632653  21.280717       18.0  0.612500\n",
              "28  2.448980  14.667229       28.0  0.408333\n",
              "26  2.857143  12.815946       26.0  0.350000\n",
              "6   3.265306  10.590643        6.0  0.306250\n",
              "7   3.673469   8.025882        7.0  0.272222\n",
              "20  4.489796   5.493417       20.0  0.222727\n",
              "33  4.897959   4.693168       33.0  0.204167\n",
              "13  5.306122   3.842054       13.0  0.188462\n",
              "19  5.714286   2.766094       19.0  0.175000\n",
              "9   6.122449   1.746492        9.0  0.163333\n",
              "23  6.530612   2.789837       23.0  0.153125\n",
              "0   6.938776   0.187777        0.0  0.144118\n",
              "43  7.755102   1.406262       43.0  0.128947\n",
              "11  8.163265   0.617322       11.0  0.122500"
            ],
            "text/html": [
              "\n",
              "  <div id=\"df-4058b1a3-619b-4782-919f-9c625c8b95d3\">\n",
              "    <div class=\"colab-df-container\">\n",
              "      <div>\n",
              "<style scoped>\n",
              "    .dataframe tbody tr th:only-of-type {\n",
              "        vertical-align: middle;\n",
              "    }\n",
              "\n",
              "    .dataframe tbody tr th {\n",
              "        vertical-align: top;\n",
              "    }\n",
              "\n",
              "    .dataframe thead th {\n",
              "        text-align: right;\n",
              "    }\n",
              "</style>\n",
              "<table border=\"1\" class=\"dataframe\">\n",
              "  <thead>\n",
              "    <tr style=\"text-align: right;\">\n",
              "      <th></th>\n",
              "      <th>dst</th>\n",
              "      <th>label</th>\n",
              "      <th>train_idx</th>\n",
              "      <th>weight</th>\n",
              "    </tr>\n",
              "  </thead>\n",
              "  <tbody>\n",
              "    <tr>\n",
              "      <th>14</th>\n",
              "      <td>0.408163</td>\n",
              "      <td>41.110557</td>\n",
              "      <td>14.0</td>\n",
              "      <td>2.450000</td>\n",
              "    </tr>\n",
              "    <tr>\n",
              "      <th>39</th>\n",
              "      <td>0.408163</td>\n",
              "      <td>32.127914</td>\n",
              "      <td>39.0</td>\n",
              "      <td>2.450000</td>\n",
              "    </tr>\n",
              "    <tr>\n",
              "      <th>25</th>\n",
              "      <td>0.816327</td>\n",
              "      <td>27.640171</td>\n",
              "      <td>25.0</td>\n",
              "      <td>1.225000</td>\n",
              "    </tr>\n",
              "    <tr>\n",
              "      <th>2</th>\n",
              "      <td>0.816327</td>\n",
              "      <td>41.740175</td>\n",
              "      <td>2.0</td>\n",
              "      <td>1.225000</td>\n",
              "    </tr>\n",
              "    <tr>\n",
              "      <th>32</th>\n",
              "      <td>1.224490</td>\n",
              "      <td>51.139534</td>\n",
              "      <td>32.0</td>\n",
              "      <td>0.816667</td>\n",
              "    </tr>\n",
              "    <tr>\n",
              "      <th>29</th>\n",
              "      <td>1.224490</td>\n",
              "      <td>24.395433</td>\n",
              "      <td>29.0</td>\n",
              "      <td>0.816667</td>\n",
              "    </tr>\n",
              "    <tr>\n",
              "      <th>18</th>\n",
              "      <td>1.632653</td>\n",
              "      <td>21.280717</td>\n",
              "      <td>18.0</td>\n",
              "      <td>0.612500</td>\n",
              "    </tr>\n",
              "    <tr>\n",
              "      <th>28</th>\n",
              "      <td>2.448980</td>\n",
              "      <td>14.667229</td>\n",
              "      <td>28.0</td>\n",
              "      <td>0.408333</td>\n",
              "    </tr>\n",
              "    <tr>\n",
              "      <th>26</th>\n",
              "      <td>2.857143</td>\n",
              "      <td>12.815946</td>\n",
              "      <td>26.0</td>\n",
              "      <td>0.350000</td>\n",
              "    </tr>\n",
              "    <tr>\n",
              "      <th>6</th>\n",
              "      <td>3.265306</td>\n",
              "      <td>10.590643</td>\n",
              "      <td>6.0</td>\n",
              "      <td>0.306250</td>\n",
              "    </tr>\n",
              "    <tr>\n",
              "      <th>7</th>\n",
              "      <td>3.673469</td>\n",
              "      <td>8.025882</td>\n",
              "      <td>7.0</td>\n",
              "      <td>0.272222</td>\n",
              "    </tr>\n",
              "    <tr>\n",
              "      <th>20</th>\n",
              "      <td>4.489796</td>\n",
              "      <td>5.493417</td>\n",
              "      <td>20.0</td>\n",
              "      <td>0.222727</td>\n",
              "    </tr>\n",
              "    <tr>\n",
              "      <th>33</th>\n",
              "      <td>4.897959</td>\n",
              "      <td>4.693168</td>\n",
              "      <td>33.0</td>\n",
              "      <td>0.204167</td>\n",
              "    </tr>\n",
              "    <tr>\n",
              "      <th>13</th>\n",
              "      <td>5.306122</td>\n",
              "      <td>3.842054</td>\n",
              "      <td>13.0</td>\n",
              "      <td>0.188462</td>\n",
              "    </tr>\n",
              "    <tr>\n",
              "      <th>19</th>\n",
              "      <td>5.714286</td>\n",
              "      <td>2.766094</td>\n",
              "      <td>19.0</td>\n",
              "      <td>0.175000</td>\n",
              "    </tr>\n",
              "    <tr>\n",
              "      <th>9</th>\n",
              "      <td>6.122449</td>\n",
              "      <td>1.746492</td>\n",
              "      <td>9.0</td>\n",
              "      <td>0.163333</td>\n",
              "    </tr>\n",
              "    <tr>\n",
              "      <th>23</th>\n",
              "      <td>6.530612</td>\n",
              "      <td>2.789837</td>\n",
              "      <td>23.0</td>\n",
              "      <td>0.153125</td>\n",
              "    </tr>\n",
              "    <tr>\n",
              "      <th>0</th>\n",
              "      <td>6.938776</td>\n",
              "      <td>0.187777</td>\n",
              "      <td>0.0</td>\n",
              "      <td>0.144118</td>\n",
              "    </tr>\n",
              "    <tr>\n",
              "      <th>43</th>\n",
              "      <td>7.755102</td>\n",
              "      <td>1.406262</td>\n",
              "      <td>43.0</td>\n",
              "      <td>0.128947</td>\n",
              "    </tr>\n",
              "    <tr>\n",
              "      <th>11</th>\n",
              "      <td>8.163265</td>\n",
              "      <td>0.617322</td>\n",
              "      <td>11.0</td>\n",
              "      <td>0.122500</td>\n",
              "    </tr>\n",
              "  </tbody>\n",
              "</table>\n",
              "</div>\n",
              "      <button class=\"colab-df-convert\" onclick=\"convertToInteractive('df-4058b1a3-619b-4782-919f-9c625c8b95d3')\"\n",
              "              title=\"Convert this dataframe to an interactive table.\"\n",
              "              style=\"display:none;\">\n",
              "        \n",
              "  <svg xmlns=\"http://www.w3.org/2000/svg\" height=\"24px\"viewBox=\"0 0 24 24\"\n",
              "       width=\"24px\">\n",
              "    <path d=\"M0 0h24v24H0V0z\" fill=\"none\"/>\n",
              "    <path d=\"M18.56 5.44l.94 2.06.94-2.06 2.06-.94-2.06-.94-.94-2.06-.94 2.06-2.06.94zm-11 1L8.5 8.5l.94-2.06 2.06-.94-2.06-.94L8.5 2.5l-.94 2.06-2.06.94zm10 10l.94 2.06.94-2.06 2.06-.94-2.06-.94-.94-2.06-.94 2.06-2.06.94z\"/><path d=\"M17.41 7.96l-1.37-1.37c-.4-.4-.92-.59-1.43-.59-.52 0-1.04.2-1.43.59L10.3 9.45l-7.72 7.72c-.78.78-.78 2.05 0 2.83L4 21.41c.39.39.9.59 1.41.59.51 0 1.02-.2 1.41-.59l7.78-7.78 2.81-2.81c.8-.78.8-2.07 0-2.86zM5.41 20L4 18.59l7.72-7.72 1.47 1.35L5.41 20z\"/>\n",
              "  </svg>\n",
              "      </button>\n",
              "      \n",
              "  <style>\n",
              "    .colab-df-container {\n",
              "      display:flex;\n",
              "      flex-wrap:wrap;\n",
              "      gap: 12px;\n",
              "    }\n",
              "\n",
              "    .colab-df-convert {\n",
              "      background-color: #E8F0FE;\n",
              "      border: none;\n",
              "      border-radius: 50%;\n",
              "      cursor: pointer;\n",
              "      display: none;\n",
              "      fill: #1967D2;\n",
              "      height: 32px;\n",
              "      padding: 0 0 0 0;\n",
              "      width: 32px;\n",
              "    }\n",
              "\n",
              "    .colab-df-convert:hover {\n",
              "      background-color: #E2EBFA;\n",
              "      box-shadow: 0px 1px 2px rgba(60, 64, 67, 0.3), 0px 1px 3px 1px rgba(60, 64, 67, 0.15);\n",
              "      fill: #174EA6;\n",
              "    }\n",
              "\n",
              "    [theme=dark] .colab-df-convert {\n",
              "      background-color: #3B4455;\n",
              "      fill: #D2E3FC;\n",
              "    }\n",
              "\n",
              "    [theme=dark] .colab-df-convert:hover {\n",
              "      background-color: #434B5C;\n",
              "      box-shadow: 0px 1px 3px 1px rgba(0, 0, 0, 0.15);\n",
              "      filter: drop-shadow(0px 1px 2px rgba(0, 0, 0, 0.3));\n",
              "      fill: #FFFFFF;\n",
              "    }\n",
              "  </style>\n",
              "\n",
              "      <script>\n",
              "        const buttonEl =\n",
              "          document.querySelector('#df-4058b1a3-619b-4782-919f-9c625c8b95d3 button.colab-df-convert');\n",
              "        buttonEl.style.display =\n",
              "          google.colab.kernel.accessAllowed ? 'block' : 'none';\n",
              "\n",
              "        async function convertToInteractive(key) {\n",
              "          const element = document.querySelector('#df-4058b1a3-619b-4782-919f-9c625c8b95d3');\n",
              "          const dataTable =\n",
              "            await google.colab.kernel.invokeFunction('convertToInteractive',\n",
              "                                                     [key], {});\n",
              "          if (!dataTable) return;\n",
              "\n",
              "          const docLinkHtml = 'Like what you see? Visit the ' +\n",
              "            '<a target=\"_blank\" href=https://colab.research.google.com/notebooks/data_table.ipynb>data table notebook</a>'\n",
              "            + ' to learn more about interactive tables.';\n",
              "          element.innerHTML = '';\n",
              "          dataTable['output_type'] = 'display_data';\n",
              "          await google.colab.output.renderOutput(dataTable, element);\n",
              "          const docLink = document.createElement('div');\n",
              "          docLink.innerHTML = docLinkHtml;\n",
              "          element.appendChild(docLink);\n",
              "        }\n",
              "      </script>\n",
              "    </div>\n",
              "  </div>\n",
              "  "
            ]
          },
          "metadata": {},
          "execution_count": 47
        }
      ]
    },
    {
      "cell_type": "code",
      "source": [
        "x = np.linspace(0, 1, 50)\n",
        "plt.plot(x, 1/(x))\n",
        "plt.grid()\n",
        "plt.ylabel('weight')\n",
        "plt.xlabel('distance');"
      ],
      "metadata": {
        "colab": {
          "base_uri": "https://localhost:8080/",
          "height": 334
        },
        "outputId": "f4254216-85fa-496e-c62f-b085c064a3ac",
        "id": "TV6Kiw1BefPP"
      },
      "execution_count": null,
      "outputs": [
        {
          "output_type": "stream",
          "name": "stderr",
          "text": [
            "/usr/local/lib/python3.7/dist-packages/ipykernel_launcher.py:2: RuntimeWarning: divide by zero encountered in true_divide\n",
            "  \n"
          ]
        },
        {
          "output_type": "display_data",
          "data": {
            "text/plain": [
              "<Figure size 432x288 with 1 Axes>"
            ],
            "image/png": "[encoded data removed]"
          },
          "metadata": {
            "needs_background": "light"
          }
        }
      ]
    },
    {
      "cell_type": "markdown",
      "source": [
        "Зная вес каждого соседа, можем посчитать нормированную взвешенную сумму предсказания.\n"
      ],
      "metadata": {
        "id": "kfKTZld1efPP"
      }
    },
    {
      "cell_type": "code",
      "source": [
        "(distances['label'] * distances['weight']).sum() / distances['weight'].sum()"
      ],
      "metadata": {
        "colab": {
          "base_uri": "https://localhost:8080/"
        },
        "id": "DNBrFGv0iJJ2",
        "outputId": "79a8bb2c-5820-4fed-e944-2725839e0250"
      },
      "execution_count": null,
      "outputs": [
        {
          "output_type": "execute_result",
          "data": {
            "text/plain": [
              "28.905126006757015"
            ]
          },
          "metadata": {},
          "execution_count": 49
        }
      ]
    },
    {
      "cell_type": "code",
      "source": [
        "y_test[idx]"
      ],
      "metadata": {
        "colab": {
          "base_uri": "https://localhost:8080/"
        },
        "outputId": "d4403561-f18b-4aa0-86fd-a60215a0e576",
        "id": "rndiPNxiefPQ"
      },
      "execution_count": null,
      "outputs": [
        {
          "output_type": "execute_result",
          "data": {
            "text/plain": [
              "array([37.3778963])"
            ]
          },
          "metadata": {},
          "execution_count": 50
        }
      ]
    },
    {
      "cell_type": "markdown",
      "source": [
        "Получаем, что по обычному большинству предсказание было слишком маленькое, из-за того, что есть точки с маленькими значениями и их больше, но они расположены дальше."
      ],
      "metadata": {
        "id": "4ExvH-PZefPQ"
      }
    },
    {
      "cell_type": "code",
      "source": [
        "prev_pred_test[idx]"
      ],
      "metadata": {
        "colab": {
          "base_uri": "https://localhost:8080/"
        },
        "outputId": "6e7d75fd-3c94-478d-8025-1d4bc6a6ad61",
        "id": "04UyVuCjefPQ"
      },
      "execution_count": null,
      "outputs": [
        {
          "output_type": "execute_result",
          "data": {
            "text/plain": [
              "array([15.45383115])"
            ]
          },
          "metadata": {},
          "execution_count": 51
        }
      ]
    },
    {
      "cell_type": "markdown",
      "source": [
        "А с помощью весов предсказание получилось гораздо лучше, ведь те объекты, которые расположены далеко и имеют маленькие целевые значения, теперь влияют не так сильно."
      ],
      "metadata": {
        "id": "SJr48lmXnpXT"
      }
    },
    {
      "cell_type": "code",
      "source": [
        "pred_test[idx]"
      ],
      "metadata": {
        "colab": {
          "base_uri": "https://localhost:8080/"
        },
        "id": "4smLcG6SnxS8",
        "outputId": "abc0fd9c-00af-43d1-d024-755433861026"
      },
      "execution_count": null,
      "outputs": [
        {
          "output_type": "execute_result",
          "data": {
            "text/plain": [
              "array([28.90512601])"
            ]
          },
          "metadata": {},
          "execution_count": 52
        }
      ]
    },
    {
      "cell_type": "markdown",
      "source": [
        "И можем с помощью визуализации отрисовать важность соседей.\n",
        "\n",
        "Те, кто ближе имеют полузеленую окружность больше, а те, кто дальше имеют маленькую окружность."
      ],
      "metadata": {
        "id": "YYH5_WKYefPR"
      }
    },
    {
      "cell_type": "code",
      "source": [
        "plt.figure(figsize=(10, 8))\n",
        "\n",
        "plt.scatter(X_train, y_train, c='b', marker='o', s=10, label='train dots')\n",
        "plt.grid()\n",
        "\n",
        "plt.scatter(X_train[nearest_neigbors_idxs], y_train[nearest_neigbors_idxs],\n",
        "            c='g', alpha=0.3, marker='o', s=distances['weight']*150, label='nearest neighbors')\n",
        "\n",
        "plt.scatter(X_test[idx, 0], y_test[idx], c='g', marker='*', s=100, label='test dot')\n",
        "plt.scatter(X_test[idx, 0], prev_pred_test[idx][0], c='r', alpha=0.5, marker='*', s=100, label='previous prediction')\n",
        "plt.scatter(X_test[idx, 0], pred_test[idx], c='r', marker='*', s=100, label='prediction')\n",
        "\n",
        "plt.xlabel('feature')\n",
        "plt.ylabel('target')\n",
        "\n",
        "plt.legend();"
      ],
      "metadata": {
        "colab": {
          "base_uri": "https://localhost:8080/",
          "height": 497
        },
        "outputId": "904af83a-82d5-48a0-aa0f-866350897397",
        "id": "C4KhH3rXefPR"
      },
      "execution_count": null,
      "outputs": [
        {
          "output_type": "display_data",
          "data": {
            "text/plain": [
              "<Figure size 720x576 with 1 Axes>"
            ],
            "image/png": "[encoded data removed]"
          },
          "metadata": {
            "needs_background": "light"
          }
        }
      ]
    },
    {
      "cell_type": "markdown",
      "source": [
        "#### Резюме взвешенного KNN"
      ],
      "metadata": {
        "id": "t_ynCi-eefPS"
      }
    },
    {
      "cell_type": "markdown",
      "source": [
        "\n",
        "На **моменте обучения** ничего интересного не происходит: все точки из обучения попросту запоминаются.\n",
        "\n",
        "На **моменте предсказания**:\n",
        "1. для тестовой точки считаем расстояния до всех точек с обучения\n",
        "2. сортируем от самого ближнего до самого дальнего расстояния\n",
        "3. считаем веса для ближайших $N$ соседей\n",
        "4. умножаем веса на таргеты соседей\n",
        "5. суммируем перемножения\n",
        "6. нормируем на сумму весов"
      ],
      "metadata": {
        "id": "adfwt-flefPS"
      }
    },
    {
      "cell_type": "markdown",
      "source": [
        "## Callable объект в атрибут weights"
      ],
      "metadata": {
        "id": "p6JT35ePefPS"
      }
    },
    {
      "cell_type": "markdown",
      "source": [
        "С взвешенными KNN для регрессии и классификации разобрались, теперь можем поговорить, а какие еще веса можем использовать для модели.\n",
        "\n",
        "А на самом деле мы не ограничиваемся значениями `uniform` и `distance` в атрибуте `weights`, мы можем написать свою кастомную функцию для подсчета весов.\n",
        "\n"
      ],
      "metadata": {
        "id": "rljwrdXHomTh"
      }
    },
    {
      "cell_type": "markdown",
      "source": [
        "К примеру, давайте реализуем аналог `distance`."
      ],
      "metadata": {
        "id": "47C5cnk0o6vl"
      }
    },
    {
      "cell_type": "markdown",
      "source": [
        "На вход эта функция должна принимать массив дистанций и выдавать массив весов."
      ],
      "metadata": {
        "id": "lVzz7x2VpIfO"
      }
    },
    {
      "cell_type": "code",
      "source": [
        "def calc_weight_distance(dists):\n",
        "    return 1 / dists"
      ],
      "metadata": {
        "id": "d8E50LTjpDyI"
      },
      "execution_count": null,
      "outputs": []
    },
    {
      "cell_type": "markdown",
      "source": [
        "Теперь эту функцию можем передать в атрибут `weights`."
      ],
      "metadata": {
        "id": "YZ8-MDxLpnR3"
      }
    },
    {
      "cell_type": "code",
      "source": [
        "n_neighbors = 20\n",
        "model = KNeighborsRegressor(n_neighbors=n_neighbors, weights=calc_weight_distance)"
      ],
      "metadata": {
        "id": "xj8ztMttpTa_"
      },
      "execution_count": null,
      "outputs": []
    },
    {
      "cell_type": "code",
      "source": [
        "model.fit(X_train, y_train)"
      ],
      "metadata": {
        "colab": {
          "base_uri": "https://localhost:8080/"
        },
        "outputId": "bb09e7ef-edc5-4692-d4ea-b027bd00b004",
        "id": "xASJ03mhpTbA"
      },
      "execution_count": null,
      "outputs": [
        {
          "output_type": "execute_result",
          "data": {
            "text/plain": [
              "KNeighborsRegressor(algorithm='auto', leaf_size=30, metric='minkowski',\n",
              "                    metric_params=None, n_jobs=None, n_neighbors=20, p=2,\n",
              "                    weights=<function calc_weight_distance at 0x7fb171dae7a0>)"
            ]
          },
          "metadata": {},
          "execution_count": 56
        }
      ]
    },
    {
      "cell_type": "markdown",
      "source": [
        "И убедимся, что предсказания и метрики получаются идентичными."
      ],
      "metadata": {
        "id": "9OIObFZ-prZf"
      }
    },
    {
      "cell_type": "markdown",
      "source": [
        "Для справки (вот такая метрика была на KNN из `sklearn`)\n",
        "```\n",
        "0.8683987446927024\n",
        "```"
      ],
      "metadata": {
        "id": "dTd3lcNBpTbB"
      }
    },
    {
      "cell_type": "code",
      "source": [
        "pred_test = model.predict(X_test)\n",
        "r2_score(pred_test, y_test)"
      ],
      "metadata": {
        "colab": {
          "base_uri": "https://localhost:8080/"
        },
        "outputId": "552f1069-c6fe-4fc7-8595-81db585d4e32",
        "id": "hbrYPrXvpTbC"
      },
      "execution_count": null,
      "outputs": [
        {
          "output_type": "execute_result",
          "data": {
            "text/plain": [
              "0.8683987446927024"
            ]
          },
          "metadata": {},
          "execution_count": 57
        }
      ]
    },
    {
      "cell_type": "markdown",
      "source": [
        "Можем реализовать немного другую функцию подсчета весов."
      ],
      "metadata": {
        "id": "vAokBSHUpw_D"
      }
    },
    {
      "cell_type": "code",
      "source": [
        "def calc_weight_distance_2(dists):\n",
        "    return 0.5 ** dists"
      ],
      "metadata": {
        "id": "alkq6jGyp3qA"
      },
      "execution_count": null,
      "outputs": []
    },
    {
      "cell_type": "markdown",
      "source": [
        "Теперь эту функцию можем передать в атрибут `weights`."
      ],
      "metadata": {
        "id": "gqyC68RFp8wm"
      }
    },
    {
      "cell_type": "code",
      "source": [
        "n_neighbors = 20\n",
        "model = KNeighborsRegressor(n_neighbors=n_neighbors, weights=calc_weight_distance_2)"
      ],
      "metadata": {
        "id": "H7Mc8gvRp8wn"
      },
      "execution_count": null,
      "outputs": []
    },
    {
      "cell_type": "code",
      "source": [
        "model.fit(X_train, y_train)"
      ],
      "metadata": {
        "colab": {
          "base_uri": "https://localhost:8080/"
        },
        "outputId": "0dc0c564-56f0-420d-d92d-b6a990b33e70",
        "id": "1GiihZyCp8wo"
      },
      "execution_count": null,
      "outputs": [
        {
          "output_type": "execute_result",
          "data": {
            "text/plain": [
              "KNeighborsRegressor(algorithm='auto', leaf_size=30, metric='minkowski',\n",
              "                    metric_params=None, n_jobs=None, n_neighbors=20, p=2,\n",
              "                    weights=<function calc_weight_distance_2 at 0x7fb171dae200>)"
            ]
          },
          "metadata": {},
          "execution_count": 60
        }
      ]
    },
    {
      "cell_type": "markdown",
      "source": [
        "И посмотрим, что стало с метрикой.\n",
        "\n",
        "А так вышло, что она стала выше. Значит данный метод рассчета весов подходит для этой задачи больше."
      ],
      "metadata": {
        "id": "yyfR-Gx0p8wo"
      }
    },
    {
      "cell_type": "code",
      "source": [
        "pred_test = model.predict(X_test)\n",
        "r2_score(pred_test, y_test)"
      ],
      "metadata": {
        "colab": {
          "base_uri": "https://localhost:8080/"
        },
        "outputId": "5614b01f-7ed9-4efe-a360-35cc9e997dda",
        "id": "PpoLJfG5p8wp"
      },
      "execution_count": null,
      "outputs": [
        {
          "output_type": "execute_result",
          "data": {
            "text/plain": [
              "0.9369864623634033"
            ]
          },
          "metadata": {},
          "execution_count": 61
        }
      ]
    },
    {
      "cell_type": "markdown",
      "source": [
        "Давайте в целом посмотрим, какие виды функций можно придумывать для подсчета весов."
      ],
      "metadata": {
        "id": "pA1r4LDjqLrI"
      }
    },
    {
      "cell_type": "markdown",
      "metadata": {
        "id": "B7bzqECrPAYh"
      },
      "source": [
        "### От расстояния $d$"
      ]
    },
    {
      "cell_type": "markdown",
      "source": [
        "\n",
        "#### - $w(d) = q^{d}$,   $q \\in (0,1)$;"
      ],
      "metadata": {
        "id": "wOcemmOSPkZ3"
      }
    },
    {
      "cell_type": "code",
      "execution_count": null,
      "metadata": {
        "id": "92mnb2MFPAYh",
        "outputId": "7fb23db8-6b4c-4f68-e43b-cc4ba42530fc",
        "colab": {
          "base_uri": "https://localhost:8080/",
          "height": 279
        }
      },
      "outputs": [
        {
          "output_type": "display_data",
          "data": {
            "text/plain": [
              "<Figure size 432x288 with 1 Axes>"
            ],
            "image/png": "[encoded data removed]"
          },
          "metadata": {
            "needs_background": "light"
          }
        }
      ],
      "source": [
        "q = 0.25\n",
        "x = np.linspace(0, 1, 50)\n",
        "plt.plot(x, q ** x)\n",
        "plt.xlabel('distance')\n",
        "plt.ylabel('weight')\n",
        "plt.grid();"
      ]
    },
    {
      "cell_type": "markdown",
      "metadata": {
        "id": "flEahhbFPAYi"
      },
      "source": [
        "#### - $w(d) = \\frac{1}{d+a}$,\n",
        "брать вес $\\frac{1}{d}$ - неудачное решение, так как при $d = 0$ вес будет бесконечно большим\n",
        "\n",
        "\n",
        "В `sklearn` такую ситуацию обходят путем присваивания веса 1 для такого объекта, а все остальные объекты будут иметь вес 0."
      ]
    },
    {
      "cell_type": "code",
      "execution_count": null,
      "metadata": {
        "id": "khBKqhTHPAYi",
        "outputId": "6445efb8-6817-42db-cbd8-4064ae5d84f0",
        "colab": {
          "base_uri": "https://localhost:8080/",
          "height": 279
        }
      },
      "outputs": [
        {
          "output_type": "display_data",
          "data": {
            "text/plain": [
              "<Figure size 432x288 with 1 Axes>"
            ],
            "image/png": "[encoded data removed]"
          },
          "metadata": {
            "needs_background": "light"
          }
        }
      ],
      "source": [
        "a = 1\n",
        "x = np.linspace(0, 1, 50)\n",
        "plt.plot(x, 1 / (x + a))\n",
        "plt.xlabel('distance')\n",
        "plt.ylabel('weight')\n",
        "plt.grid();"
      ]
    },
    {
      "cell_type": "markdown",
      "metadata": {
        "id": "sp6CCXB8PAYa"
      },
      "source": [
        "### От номера соседа $i$"
      ]
    },
    {
      "cell_type": "markdown",
      "source": [
        "#### - $w(i) = q^{i}$,   $q \\in (0,1)$;"
      ],
      "metadata": {
        "id": "T1j7Ul_FPcT1"
      }
    },
    {
      "cell_type": "code",
      "execution_count": null,
      "metadata": {
        "id": "ZG5x4UdVPAYe",
        "outputId": "4a09ce5c-7703-4c3e-d30c-af6641cbce34",
        "colab": {
          "base_uri": "https://localhost:8080/",
          "height": 279
        }
      },
      "outputs": [
        {
          "output_type": "display_data",
          "data": {
            "text/plain": [
              "<Figure size 432x288 with 1 Axes>"
            ],
            "image/png": "[encoded data removed]"
          },
          "metadata": {
            "needs_background": "light"
          }
        }
      ],
      "source": [
        "q = 0.5\n",
        "x = np.linspace(1, 51, 50)\n",
        "plt.plot(x, q ** x)\n",
        "plt.xlabel('n')\n",
        "plt.ylabel('weight')\n",
        "plt.grid();"
      ]
    },
    {
      "cell_type": "markdown",
      "metadata": {
        "id": "0GDXmH_1PAYg"
      },
      "source": [
        "#### - $w(i) = \\frac{1}{i}$;"
      ]
    },
    {
      "cell_type": "code",
      "execution_count": null,
      "metadata": {
        "id": "ozagfzvXPAYg",
        "outputId": "c856c079-1b31-48da-dcf4-63c7bead81f4",
        "colab": {
          "base_uri": "https://localhost:8080/",
          "height": 279
        }
      },
      "outputs": [
        {
          "output_type": "display_data",
          "data": {
            "text/plain": [
              "<Figure size 432x288 with 1 Axes>"
            ],
            "image/png": "[encoded data removed]"
          },
          "metadata": {
            "needs_background": "light"
          }
        }
      ],
      "source": [
        "x = np.linspace(1, 51, 50)\n",
        "plt.plot(x, 1/x)\n",
        "plt.xlabel('n')\n",
        "plt.ylabel('weight')\n",
        "plt.grid();"
      ]
    },
    {
      "cell_type": "markdown",
      "source": [
        "И давайте ради примера реализцем функцию подсчета весов от номера соседа."
      ],
      "metadata": {
        "id": "D-wT8Ps8RX_K"
      }
    },
    {
      "cell_type": "code",
      "source": [
        "def calc_weight_n_neigbours(dists):\n",
        "    weights = np.zeros(dists.shape)\n",
        "\n",
        "    for i in range(dists.shape[1]):\n",
        "        weights[:, i] = 1/(i+1)\n",
        "\n",
        "    return weights"
      ],
      "metadata": {
        "id": "S-6SvfwwRX_f"
      },
      "execution_count": null,
      "outputs": []
    },
    {
      "cell_type": "markdown",
      "source": [
        "Теперь эту функцию можем передать в атрибут `weights`."
      ],
      "metadata": {
        "id": "Be_Knk5YRX_h"
      }
    },
    {
      "cell_type": "code",
      "source": [
        "n_neighbors = 20\n",
        "model = KNeighborsRegressor(n_neighbors=n_neighbors, weights=calc_weight_n_neigbours)"
      ],
      "metadata": {
        "id": "qz4wDoOYRX_h"
      },
      "execution_count": null,
      "outputs": []
    },
    {
      "cell_type": "code",
      "source": [
        "model.fit(X_train, y_train)"
      ],
      "metadata": {
        "colab": {
          "base_uri": "https://localhost:8080/"
        },
        "outputId": "f1dc4684-ffe6-4c2b-bd33-0040227bd0f2",
        "id": "iPRWR_saRX_i"
      },
      "execution_count": null,
      "outputs": [
        {
          "output_type": "execute_result",
          "data": {
            "text/plain": [
              "KNeighborsRegressor(algorithm='auto', leaf_size=30, metric='minkowski',\n",
              "                    metric_params=None, n_jobs=None, n_neighbors=20, p=2,\n",
              "                    weights=<function calc_weight_n_neigbours at 0x7fb171f03dd0>)"
            ]
          },
          "metadata": {},
          "execution_count": 69
        }
      ]
    },
    {
      "cell_type": "code",
      "source": [
        "pred_test = model.predict(X_test)\n",
        "r2_score(pred_test, y_test)"
      ],
      "metadata": {
        "colab": {
          "base_uri": "https://localhost:8080/"
        },
        "outputId": "79a41987-13be-461e-dca8-af784d70c589",
        "id": "EGbULYsxRX_k"
      },
      "execution_count": null,
      "outputs": [
        {
          "output_type": "execute_result",
          "data": {
            "text/plain": [
              "0.7710471732745973"
            ]
          },
          "metadata": {},
          "execution_count": 70
        }
      ]
    },
    {
      "cell_type": "markdown",
      "source": [
        "## Summary\n",
        "\n",
        "Вот мы и разобрались, как обучается модель Weighted KNN.\n",
        "\n",
        "1. Модель и для регрессии, и для классификации **обучается** одинаково - **никак**, она запоминает обучающую выборку.\n",
        "2. Затем поступает тестовый объект и нужно сделать предсказание\n",
        "    - Считаем **расстояния до** всех объектов с **обучения**\n",
        "    - Выбираем **K** ближайших\n",
        "    - Считаем веса для ближайших **K** соседей\n",
        "    - И в зависимости от задачи выдаем финальное предсказание\n",
        "        1. ***Классификация***\n",
        "            - суммируем веса для каждого класса\n",
        "            - максимальная сумма - это предсказанная метка класса\n",
        "        2. ***Регрессия***\n",
        "            - умножаем веса на таргеты соседей\n",
        "            - суммируем перемножения\n",
        "            - нормируем на сумму весов"
      ],
      "metadata": {
        "id": "NLm3MFeQNENl"
      }
    }
  ]
}