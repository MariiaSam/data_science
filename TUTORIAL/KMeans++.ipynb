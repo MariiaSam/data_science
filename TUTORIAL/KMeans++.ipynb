{
  "nbformat": 4,
  "nbformat_minor": 0,
  "metadata": {
    "colab": {
      "provenance": [],
      "toc_visible": true
    },
    "kernelspec": {
      "name": "python3",
      "display_name": "Python 3"
    },
    "language_info": {
      "name": "python"
    }
  },
  "cells": [
    {
      "cell_type": "markdown",
      "source": [
        "## Инициализация центроид KMeans++"
      ],
      "metadata": {
        "id": "Faqf8pG8itot"
      }
    },
    {
      "cell_type": "markdown",
      "source": [
        "## Инициализация центроид KMeans++"
      ],
      "metadata": {
        "id": "cjfIebMtfBBt"
      }
    },
    {
      "cell_type": "markdown",
      "metadata": {
        "id": "oq8LyMncuf_B"
      },
      "source": [
        "### Инициализация случайная"
      ]
    },
    {
      "cell_type": "markdown",
      "metadata": {
        "id": "xDbkTkTYuf_F"
      },
      "source": [
        "Вначале сгенерируем три облака точек с помощью `sklearn`."
      ]
    },
    {
      "cell_type": "code",
      "execution_count": null,
      "metadata": {
        "id": "1mmhR0gXuHnq"
      },
      "outputs": [],
      "source": [
        "import matplotlib.pyplot as plt\n",
        "import numpy as np"
      ]
    },
    {
      "cell_type": "code",
      "execution_count": null,
      "metadata": {
        "id": "qRhCTQdZuf_G"
      },
      "outputs": [],
      "source": [
        "from sklearn.datasets import make_blobs\n",
        "\n",
        "X, y = make_blobs(n_samples=100, random_state=10)"
      ]
    },
    {
      "cell_type": "code",
      "execution_count": null,
      "metadata": {
        "id": "I6VqFOARuf_I",
        "outputId": "9f7d55c4-8021-4560-f558-70b89172634a",
        "colab": {
          "base_uri": "https://localhost:8080/",
          "height": 428
        }
      },
      "outputs": [
        {
          "output_type": "display_data",
          "data": {
            "text/plain": [
              "<Figure size 504x504 with 1 Axes>"
            ],
            "image/png": "[encoded data removed]"
          },
          "metadata": {
            "needs_background": "light"
          }
        }
      ],
      "source": [
        "plt.figure(figsize=(7, 7))\n",
        "plt.scatter(X[:, 0], X[:, 1]);"
      ]
    },
    {
      "cell_type": "markdown",
      "source": [
        "Инициализируем центроиды"
      ],
      "metadata": {
        "id": "F2K8ciibza-A"
      }
    },
    {
      "cell_type": "code",
      "source": [
        "k = 3"
      ],
      "metadata": {
        "id": "_4P10Qx6zkeM"
      },
      "execution_count": null,
      "outputs": []
    },
    {
      "cell_type": "code",
      "source": [
        "np.random.seed(0)\n",
        "centroid_ids = np.random.choice(X.shape[0], k, replace=False)\n",
        "centroid_ids"
      ],
      "metadata": {
        "colab": {
          "base_uri": "https://localhost:8080/"
        },
        "id": "LBaGfvo-zepq",
        "outputId": "55d2068f-7d4b-47f1-955f-fa34bd64d913"
      },
      "execution_count": null,
      "outputs": [
        {
          "output_type": "execute_result",
          "data": {
            "text/plain": [
              "array([26, 86,  2])"
            ]
          },
          "metadata": {},
          "execution_count": 6
        }
      ]
    },
    {
      "cell_type": "code",
      "source": [
        "centroids = X[centroid_ids]\n",
        "centroids"
      ],
      "metadata": {
        "colab": {
          "base_uri": "https://localhost:8080/"
        },
        "id": "zAIDTcxvywFv",
        "outputId": "dccb727b-9dc8-4f89-99d8-5a3c113f6196"
      },
      "execution_count": null,
      "outputs": [
        {
          "output_type": "execute_result",
          "data": {
            "text/plain": [
              "array([[ 2.52859794,  4.5759393 ],\n",
              "       [-1.45074027, -6.18301386],\n",
              "       [ 2.44301805,  3.84652646]])"
            ]
          },
          "metadata": {},
          "execution_count": 7
        }
      ]
    },
    {
      "cell_type": "code",
      "source": [
        "plt.figure(figsize=(7, 7))\n",
        "plt.scatter(X[:, 0], X[:, 1])\n",
        "plt.scatter(centroids[:, 0], centroids[:, 1], marker='*', s=100);"
      ],
      "metadata": {
        "colab": {
          "base_uri": "https://localhost:8080/",
          "height": 428
        },
        "id": "si-iGWWdzvLq",
        "outputId": "3809ba12-da03-48a2-c132-9378113829ea"
      },
      "execution_count": null,
      "outputs": [
        {
          "output_type": "display_data",
          "data": {
            "text/plain": [
              "<Figure size 504x504 with 1 Axes>"
            ],
            "image/png": "[encoded data removed]"
          },
          "metadata": {
            "needs_background": "light"
          }
        }
      ]
    },
    {
      "cell_type": "code",
      "source": [
        "colors = ['green', 'orange', 'red']"
      ],
      "metadata": {
        "id": "sHmKF8_Q24PL"
      },
      "execution_count": null,
      "outputs": []
    },
    {
      "cell_type": "markdown",
      "source": [
        "### Функция для обучения KMeans"
      ],
      "metadata": {
        "id": "yNsaknC3A3g3"
      }
    },
    {
      "cell_type": "code",
      "source": [
        "def KMeans(X, k=3, num_iter=10, min_distance=1e-4, seed=0):\n",
        "    np.random.seed(seed)\n",
        "    centroid_ids = np.random.choice(X.shape[0], k, replace=False)\n",
        "    centroids = X[centroid_ids]\n",
        "\n",
        "    for i in range(num_iter):\n",
        "        clusters = {i: [] for i in range(k)}\n",
        "\n",
        "        for x in X:\n",
        "            distances = np.linalg.norm(centroids - x, axis=1)\n",
        "            cluster_ind = distances.argmin()\n",
        "            clusters[cluster_ind].append(x)\n",
        "\n",
        "        new_centroids = {}\n",
        "        for cluster in clusters:\n",
        "            new_centroids[cluster] = np.mean(clusters[cluster], axis=0)\n",
        "\n",
        "        new_centroids = dict(sorted(new_centroids.items()))\n",
        "        new_centroids = np.array(list(new_centroids.values()))\n",
        "\n",
        "        is_stop = True\n",
        "        for clust in range(len(centroids)):\n",
        "            if np.linalg.norm(centroids[clust] - new_centroids[clust]) > min_distance:\n",
        "                is_stop = False\n",
        "                break\n",
        "        if is_stop:\n",
        "            print(f'stopping at iter {i}')\n",
        "            break\n",
        "\n",
        "        centroids = new_centroids.copy()\n",
        "\n",
        "    return centroids, clusters"
      ],
      "metadata": {
        "id": "b5W2jDPuBE-g"
      },
      "execution_count": null,
      "outputs": []
    },
    {
      "cell_type": "code",
      "source": [
        "centroids, clusters = KMeans(X)\n",
        "centroids"
      ],
      "metadata": {
        "colab": {
          "base_uri": "https://localhost:8080/"
        },
        "id": "7LvC8VHdCOaS",
        "outputId": "edab065c-2810-46c4-ccc6-c4c1ec48530c"
      },
      "execution_count": null,
      "outputs": [
        {
          "output_type": "stream",
          "name": "stdout",
          "text": [
            "stopping at iter 2\n"
          ]
        },
        {
          "output_type": "execute_result",
          "data": {
            "text/plain": [
              "array([[ 2.90614881,  5.43314686],\n",
              "       [ 2.89504171, -7.53408753],\n",
              "       [ 2.68953138,  3.53649614]])"
            ]
          },
          "metadata": {},
          "execution_count": 11
        }
      ]
    },
    {
      "cell_type": "code",
      "source": [
        "plt.figure(figsize=(7, 7))\n",
        "\n",
        "for i in clusters:\n",
        "    for x in clusters[i]:\n",
        "        plt.scatter(x[0], x[1], color=colors[i])\n",
        "\n",
        "for i, centr in enumerate(centroids):\n",
        "    plt.scatter(centr[0], centr[1], marker='*', s=500, c=colors[i])\n",
        "    plt.text(centr[0]-0.1, centr[1]-0.2, f'{i+1}', fontsize=20);"
      ],
      "metadata": {
        "colab": {
          "base_uri": "https://localhost:8080/",
          "height": 428
        },
        "id": "zdZ2simvNsbq",
        "outputId": "c336cbb8-2cb8-4ddf-d77c-5d832a89b871"
      },
      "execution_count": null,
      "outputs": [
        {
          "output_type": "display_data",
          "data": {
            "text/plain": [
              "<Figure size 504x504 with 1 Axes>"
            ],
            "image/png": "[encoded data removed]"
          },
          "metadata": {
            "needs_background": "light"
          }
        }
      ]
    },
    {
      "cell_type": "markdown",
      "source": [
        "### Инициализация KMeans++ из sklearn"
      ],
      "metadata": {
        "id": "rt9QuCA6NyTF"
      }
    },
    {
      "cell_type": "code",
      "source": [
        "from sklearn.cluster import kmeans_plusplus\n",
        "\n",
        "centroids_pp, centroids_ids = kmeans_plusplus(X, n_clusters=3, random_state=0)\n",
        "centroids_pp, centroids_ids"
      ],
      "metadata": {
        "colab": {
          "base_uri": "https://localhost:8080/"
        },
        "id": "z6nTqPuDXm_3",
        "outputId": "31a56f7b-f3bc-421b-b1b2-89bb1709d961"
      },
      "execution_count": null,
      "outputs": [
        {
          "output_type": "execute_result",
          "data": {
            "text/plain": [
              "(array([[ 4.05619693,  5.32231077],\n",
              "        [ 1.13730861, -6.0760439 ],\n",
              "        [ 5.99156553, -9.73238127]]), array([44, 64, 46]))"
            ]
          },
          "metadata": {},
          "execution_count": 13
        }
      ]
    },
    {
      "cell_type": "code",
      "source": [
        "X[centroids_ids]"
      ],
      "metadata": {
        "colab": {
          "base_uri": "https://localhost:8080/"
        },
        "id": "zr6ovqecYEmi",
        "outputId": "2d647cbb-a2f4-4a7a-e13c-218981a68adc"
      },
      "execution_count": null,
      "outputs": [
        {
          "output_type": "execute_result",
          "data": {
            "text/plain": [
              "array([[ 4.05619693,  5.32231077],\n",
              "       [ 1.13730861, -6.0760439 ],\n",
              "       [ 5.99156553, -9.73238127]])"
            ]
          },
          "metadata": {},
          "execution_count": 14
        }
      ]
    },
    {
      "cell_type": "code",
      "source": [
        "plt.figure(figsize=(7, 7))\n",
        "\n",
        "plt.scatter(X[:, 0], X[:, 1])\n",
        "\n",
        "for i, centr in enumerate(centroids_pp):\n",
        "    plt.scatter(centr[0], centr[1], marker='*', s=500, c=colors[i])\n",
        "    plt.text(centr[0]-0.1, centr[1]-0.2, f'{i+1}', fontsize=20);"
      ],
      "metadata": {
        "colab": {
          "base_uri": "https://localhost:8080/",
          "height": 428
        },
        "id": "XbXGSLhGX3Ff",
        "outputId": "1dea63a9-001e-43c2-f041-2d3527d893dd"
      },
      "execution_count": null,
      "outputs": [
        {
          "output_type": "display_data",
          "data": {
            "text/plain": [
              "<Figure size 504x504 with 1 Axes>"
            ],
            "image/png": "[encoded data removed]"
          },
          "metadata": {
            "needs_background": "light"
          }
        }
      ]
    },
    {
      "cell_type": "markdown",
      "source": [
        "### Самостоятельная реализация KMeans++"
      ],
      "metadata": {
        "id": "WIup0cqf4Yp6"
      }
    },
    {
      "cell_type": "code",
      "source": [
        "def plot_data(X, centroids):\n",
        "    plt.figure(figsize=(7, 7))\n",
        "\n",
        "    plt.scatter(X[:, 0], X[:, 1])\n",
        "    plt.scatter(centroids[:-1, 0], centroids[:-1, 1], marker='*', label='предыдущие центроиды')\n",
        "    plt.scatter(centroids[-1, 0], centroids[-1, 1], marker='*', label='следующая центроида', s=200, edgecolors='black')\n",
        "\n",
        "    plt.legend()\n",
        "    plt.show()"
      ],
      "metadata": {
        "id": "BMzccc2SZZ1y"
      },
      "execution_count": null,
      "outputs": []
    },
    {
      "cell_type": "code",
      "source": [
        "centroids = []\n",
        "centroids.append(X[centroids_ids[0]])\n",
        "plot_data(X, np.array(centroids))"
      ],
      "metadata": {
        "colab": {
          "base_uri": "https://localhost:8080/",
          "height": 428
        },
        "id": "WOTChoXzZTxw",
        "outputId": "242ee156-6f0d-46b8-c62a-86fb57ac4eba"
      },
      "execution_count": null,
      "outputs": [
        {
          "output_type": "display_data",
          "data": {
            "text/plain": [
              "<Figure size 504x504 with 1 Axes>"
            ],
            "image/png": "[encoded data removed]"
          },
          "metadata": {
            "needs_background": "light"
          }
        }
      ]
    },
    {
      "cell_type": "code",
      "source": [
        "for x in X:\n",
        "    distances = np.linalg.norm(centroids - x, axis=1)\n",
        "    obj_ind = distances.argmax()\n",
        "\n",
        "next_centroid = X[obj_ind]\n",
        "centroids.append(next_centroid)\n",
        "\n",
        "plot_data(X, np.array(centroids))"
      ],
      "metadata": {
        "colab": {
          "base_uri": "https://localhost:8080/",
          "height": 428
        },
        "id": "kjyiL8VjaJ3u",
        "outputId": "87b6c5a4-579e-4be4-b718-f7d981624679"
      },
      "execution_count": null,
      "outputs": [
        {
          "output_type": "display_data",
          "data": {
            "text/plain": [
              "<Figure size 504x504 with 1 Axes>"
            ],
            "image/png": "[encoded data removed]"
          },
          "metadata": {
            "needs_background": "light"
          }
        }
      ]
    },
    {
      "cell_type": "code",
      "source": [
        "dists = []\n",
        "\n",
        "for x in X:\n",
        "    distances = np.linalg.norm(centroids - x, axis=1)\n",
        "    dists.append(distances.min())\n",
        "\n",
        "dists[:10]"
      ],
      "metadata": {
        "id": "riIXJpXGbyy6",
        "colab": {
          "base_uri": "https://localhost:8080/"
        },
        "outputId": "2e4975b8-5069-4b4c-a96c-63966e5dc88d"
      },
      "execution_count": null,
      "outputs": [
        {
          "output_type": "execute_result",
          "data": {
            "text/plain": [
              "[0.0,\n",
              " 3.3648972729747024,\n",
              " 2.1863863808352844,\n",
              " 8.76547114399139,\n",
              " 2.0234542899343846,\n",
              " 1.3199796359180924,\n",
              " 9.11584837953402,\n",
              " 3.103801452730353,\n",
              " 0.2936905729075689,\n",
              " 8.033021812744863]"
            ]
          },
          "metadata": {},
          "execution_count": 19
        }
      ]
    },
    {
      "cell_type": "code",
      "source": [
        "obj_ind = np.array(dists).argmax()\n",
        "next_centroid = X[obj_ind]\n",
        "centroids.append(next_centroid)\n",
        "\n",
        "plot_data(X, np.array(centroids))"
      ],
      "metadata": {
        "colab": {
          "base_uri": "https://localhost:8080/",
          "height": 428
        },
        "id": "RTdRBXyy46qb",
        "outputId": "3a5a3dd1-5163-4d36-8fa9-fb9103bac9f1"
      },
      "execution_count": null,
      "outputs": [
        {
          "output_type": "display_data",
          "data": {
            "text/plain": [
              "<Figure size 504x504 with 1 Axes>"
            ],
            "image/png": "[encoded data removed]"
          },
          "metadata": {
            "needs_background": "light"
          }
        }
      ]
    },
    {
      "cell_type": "code",
      "source": [
        "centroids"
      ],
      "metadata": {
        "colab": {
          "base_uri": "https://localhost:8080/"
        },
        "id": "bB-6Rbix4-_g",
        "outputId": "ae7942ac-cb1b-4be7-ae8b-838544996902"
      },
      "execution_count": null,
      "outputs": [
        {
          "output_type": "execute_result",
          "data": {
            "text/plain": [
              "[array([4.05619693, 5.32231077]),\n",
              " array([-2.32496308, -6.6999964 ]),\n",
              " array([ 7.82111653, -8.66750208])]"
            ]
          },
          "metadata": {},
          "execution_count": 21
        }
      ]
    },
    {
      "cell_type": "markdown",
      "source": [
        "### Функция для инициализации KMeans++"
      ],
      "metadata": {
        "id": "rXpxfrsi5H1t"
      }
    },
    {
      "cell_type": "code",
      "source": [
        "def kmeanspp(X, k=3, seed=0):\n",
        "    centroids = []\n",
        "\n",
        "    np.random.seed(seed)\n",
        "    centroid_id = np.random.choice(X.shape[0])\n",
        "    centroids.append(X[centroid_id])\n",
        "\n",
        "    plot_data(X, np.array(centroids))\n",
        "\n",
        "\n",
        "    for _ in range(k-1):\n",
        "        dists = []\n",
        "        for x in X:\n",
        "            distances = np.linalg.norm(centroids - x, axis=1)\n",
        "            dists.append(distances.min())\n",
        "\n",
        "        obj_ind = np.array(dists).argmax()\n",
        "        next_centroid = X[obj_ind]\n",
        "        centroids.append(next_centroid)\n",
        "\n",
        "        plot_data(X, np.array(centroids))\n",
        "\n",
        "    return centroids"
      ],
      "metadata": {
        "id": "44z65A6r5sa5"
      },
      "execution_count": null,
      "outputs": []
    },
    {
      "cell_type": "code",
      "source": [
        "centroids = kmeanspp(X, k=3)"
      ],
      "metadata": {
        "colab": {
          "base_uri": "https://localhost:8080/",
          "height": 1000
        },
        "id": "C3eIxGWz6igO",
        "outputId": "ec3b03d4-b587-4148-ef5f-0222069c8dd4"
      },
      "execution_count": null,
      "outputs": [
        {
          "output_type": "display_data",
          "data": {
            "text/plain": [
              "<Figure size 504x504 with 1 Axes>"
            ],
            "image/png": "[encoded data removed]"
          },
          "metadata": {
            "needs_background": "light"
          }
        },
        {
          "output_type": "display_data",
          "data": {
            "text/plain": [
              "<Figure size 504x504 with 1 Axes>"
            ],
            "image/png": "[encoded data removed]"
          },
          "metadata": {
            "needs_background": "light"
          }
        },
        {
          "output_type": "display_data",
          "data": {
            "text/plain": [
              "<Figure size 504x504 with 1 Axes>"
            ],
            "image/png": "[encoded data removed]"
          },
          "metadata": {
            "needs_background": "light"
          }
        }
      ]
    },
    {
      "cell_type": "code",
      "source": [
        "centroids"
      ],
      "metadata": {
        "colab": {
          "base_uri": "https://localhost:8080/"
        },
        "id": "JxB0y9qE6z7D",
        "outputId": "c243f6d6-1cd8-44ef-9393-75f296ad9507"
      },
      "execution_count": null,
      "outputs": [
        {
          "output_type": "execute_result",
          "data": {
            "text/plain": [
              "[array([4.05619693, 5.32231077]),\n",
              " array([  3.44868458, -11.32833331]),\n",
              " array([-1.74093095, -4.89176978])]"
            ]
          },
          "metadata": {},
          "execution_count": 25
        }
      ]
    },
    {
      "cell_type": "code",
      "source": [
        "def KMeans(X, k=3, num_iter=10, min_distance=1e-4, seed=0, centroids=None):\n",
        "    if centroids is None:\n",
        "        np.random.seed(seed)\n",
        "        centroid_ids = np.random.choice(X.shape[0], k, replace=False)\n",
        "        centroids = X[centroid_ids]\n",
        "\n",
        "    for i in range(num_iter):\n",
        "        clusters = {i: [] for i in range(k)}\n",
        "\n",
        "        for x in X:\n",
        "            distances = np.linalg.norm(centroids - x, axis=1)\n",
        "            cluster_ind = distances.argmin()\n",
        "            clusters[cluster_ind].append(x)\n",
        "\n",
        "        new_centroids = {}\n",
        "        for cluster in clusters:\n",
        "            new_centroids[cluster] = np.mean(clusters[cluster], axis=0)\n",
        "\n",
        "        new_centroids = dict(sorted(new_centroids.items()))\n",
        "        new_centroids = np.array(list(new_centroids.values()))\n",
        "\n",
        "        is_stop = True\n",
        "        for clust in range(len(centroids)):\n",
        "            if np.linalg.norm(centroids[clust] - new_centroids[clust]) > min_distance:\n",
        "                is_stop = False\n",
        "                break\n",
        "        if is_stop:\n",
        "            print(f'stopping at iter {i}')\n",
        "            break\n",
        "\n",
        "        centroids = new_centroids.copy()\n",
        "\n",
        "    return centroids, clusters"
      ],
      "metadata": {
        "id": "UClCoceK5H1u"
      },
      "execution_count": null,
      "outputs": []
    },
    {
      "cell_type": "code",
      "source": [
        "centroids, clusters = KMeans(X, centroids=centroids)"
      ],
      "metadata": {
        "colab": {
          "base_uri": "https://localhost:8080/"
        },
        "id": "iaUeFqhh6-5s",
        "outputId": "1dfff971-6fa9-453c-aed1-0dde4e955a72"
      },
      "execution_count": null,
      "outputs": [
        {
          "output_type": "stream",
          "name": "stdout",
          "text": [
            "stopping at iter 2\n"
          ]
        }
      ]
    },
    {
      "cell_type": "code",
      "source": [
        "plt.figure(figsize=(7, 7))\n",
        "\n",
        "for i in clusters:\n",
        "    for x in clusters[i]:\n",
        "        plt.scatter(x[0], x[1], color=colors[i])\n",
        "\n",
        "for i, centr in enumerate(centroids):\n",
        "    plt.scatter(centr[0], centr[1], marker='*', s=500, c=colors[i])\n",
        "    plt.text(centr[0]-0.1, centr[1]-0.2, f'{i+1}', fontsize=20);"
      ],
      "metadata": {
        "colab": {
          "base_uri": "https://localhost:8080/",
          "height": 428
        },
        "id": "_bWFCFEh7FSN",
        "outputId": "835e925c-3de0-48dd-abeb-3d0a7d5049d4"
      },
      "execution_count": null,
      "outputs": [
        {
          "output_type": "display_data",
          "data": {
            "text/plain": [
              "<Figure size 504x504 with 1 Axes>"
            ],
            "image/png": "[encoded data removed]"
          },
          "metadata": {
            "needs_background": "light"
          }
        }
      ]
    },
    {
      "cell_type": "markdown",
      "source": [
        "### KMeans++ из оригинальной [статьи](http://ilpubs.stanford.edu:8090/778/1/2006-13.pdf)\n",
        "\n"
      ],
      "metadata": {
        "id": "vkl_4Q_-9f1Y"
      }
    },
    {
      "cell_type": "code",
      "source": [
        "centroids = np.empty((k, X.shape[1]))\n",
        "centroids[0] = X[centroids_ids[0]]\n",
        "centroids"
      ],
      "metadata": {
        "colab": {
          "base_uri": "https://localhost:8080/"
        },
        "id": "9F9vQTzwLvws",
        "outputId": "6d0971a5-3f78-4704-f6ce-3f04e6f4a372"
      },
      "execution_count": null,
      "outputs": [
        {
          "output_type": "execute_result",
          "data": {
            "text/plain": [
              "array([[ 4.05619693,  5.32231077],\n",
              "       [17.2       , 17.2       ],\n",
              "       [17.2       , 17.2       ]])"
            ]
          },
          "metadata": {},
          "execution_count": 30
        }
      ]
    },
    {
      "cell_type": "markdown",
      "source": [
        "\n",
        "In particular, let D(x) denote the shortest distance from a data point to the closest center we have already chosen.\n",
        "Then, we define the following algorithm, which we call k-means++.\n",
        "\n",
        "\n",
        "1.   Take one center c1, chosen uniformly at random from X .\n",
        "2.   Take a new center ci, choosing x ∈ X with probability $\\frac{D(x)^2}{\\sum{D(x)^2}}$\n"
      ],
      "metadata": {
        "id": "4z6fG7_eZvTU"
      }
    },
    {
      "cell_type": "code",
      "source": [
        "distances = []\n",
        "for x in X:\n",
        "    distances.append(np.linalg.norm(centroids[0] - x))\n",
        "\n",
        "distances = np.array(distances) ** 2\n",
        "distances[:10]"
      ],
      "metadata": {
        "colab": {
          "base_uri": "https://localhost:8080/"
        },
        "id": "C0qJkrK8M51k",
        "outputId": "c1424d48-1b59-4581-e8de-6da8c21bf44f"
      },
      "execution_count": null,
      "outputs": [
        {
          "output_type": "execute_result",
          "data": {
            "text/plain": [
              "array([1.85255073e+02, 1.17028201e+02, 4.78028541e+00, 2.35541509e+02,\n",
              "       4.09436726e+00, 1.74234624e+00, 2.48180576e+02, 1.11651825e+02,\n",
              "       8.62541526e-02, 1.59485541e+02])"
            ]
          },
          "metadata": {},
          "execution_count": 31
        }
      ]
    },
    {
      "cell_type": "code",
      "source": [
        "sum_dist = distances.sum()\n",
        "sum_dist"
      ],
      "metadata": {
        "colab": {
          "base_uri": "https://localhost:8080/"
        },
        "id": "9W3wyKLP-LCx",
        "outputId": "fa445016-a0e5-4cda-c546-b63e137263c9"
      },
      "execution_count": null,
      "outputs": [
        {
          "output_type": "execute_result",
          "data": {
            "text/plain": [
              "12197.31232118332"
            ]
          },
          "metadata": {},
          "execution_count": 32
        }
      ]
    },
    {
      "cell_type": "code",
      "source": [
        "np.set_printoptions(suppress=True)\n",
        "\n",
        "proba = distances / sum_dist\n",
        "proba"
      ],
      "metadata": {
        "colab": {
          "base_uri": "https://localhost:8080/"
        },
        "id": "T7zzmgQcW1Xh",
        "outputId": "198729ef-ad95-4a75-bd54-e43a872d6b9f"
      },
      "execution_count": null,
      "outputs": [
        {
          "output_type": "execute_result",
          "data": {
            "text/plain": [
              "array([0.01518819, 0.00959459, 0.00039191, 0.01931094, 0.00033568,\n",
              "       0.00014285, 0.02034715, 0.00915381, 0.00000707, 0.01307547,\n",
              "       0.01968649, 0.00069166, 0.00041755, 0.01038445, 0.01374238,\n",
              "       0.00001461, 0.01789497, 0.00045935, 0.01924511, 0.00027045,\n",
              "       0.01658597, 0.007574  , 0.00054152, 0.0093696 , 0.01513936,\n",
              "       0.00088688, 0.00023699, 0.00001331, 0.00025184, 0.01817432,\n",
              "       0.01231782, 0.00058455, 0.00015219, 0.0206181 , 0.00992597,\n",
              "       0.00808472, 0.01091664, 0.00024351, 0.00067556, 0.00056062,\n",
              "       0.01130857, 0.01566392, 0.01201703, 0.01173662, 0.        ,\n",
              "       0.01958695, 0.01888854, 0.015806  , 0.01146839, 0.02162249,\n",
              "       0.00036993, 0.00968658, 0.02276018, 0.01487012, 0.01188317,\n",
              "       0.01720785, 0.00016832, 0.00993616, 0.01942507, 0.01860178,\n",
              "       0.00046257, 0.0001821 , 0.01253669, 0.00887408, 0.01135024,\n",
              "       0.02047694, 0.01735707, 0.00936869, 0.01266685, 0.00885553,\n",
              "       0.00019006, 0.01833403, 0.00027545, 0.00027569, 0.01113668,\n",
              "       0.00059081, 0.00000839, 0.01643697, 0.01685028, 0.0188035 ,\n",
              "       0.01734417, 0.00043727, 0.01876917, 0.00006377, 0.01196623,\n",
              "       0.00029066, 0.01333891, 0.01755142, 0.00936476, 0.00954709,\n",
              "       0.01957254, 0.02233046, 0.01967232, 0.01112325, 0.01104032,\n",
              "       0.01054712, 0.00054776, 0.01945028, 0.0181264 , 0.01766769])"
            ]
          },
          "metadata": {},
          "execution_count": 33
        }
      ]
    },
    {
      "cell_type": "code",
      "source": [
        "proba.argmax()"
      ],
      "metadata": {
        "colab": {
          "base_uri": "https://localhost:8080/"
        },
        "id": "ss0-wVjhXHOy",
        "outputId": "c6c972cf-bcb2-4a74-a522-29019b1e74e3"
      },
      "execution_count": null,
      "outputs": [
        {
          "output_type": "execute_result",
          "data": {
            "text/plain": [
              "52"
            ]
          },
          "metadata": {},
          "execution_count": 34
        }
      ]
    },
    {
      "cell_type": "code",
      "source": [
        "proba[52]"
      ],
      "metadata": {
        "colab": {
          "base_uri": "https://localhost:8080/"
        },
        "id": "7iSR01IdNM2N",
        "outputId": "8f25a831-5e49-4477-c43e-6d54c57cb05b"
      },
      "execution_count": null,
      "outputs": [
        {
          "output_type": "execute_result",
          "data": {
            "text/plain": [
              "0.022760179623509538"
            ]
          },
          "metadata": {},
          "execution_count": 35
        }
      ]
    },
    {
      "cell_type": "code",
      "source": [
        "ind = np.random.choice(list(range(X.shape[0])), size=1, p=proba)\n",
        "ind"
      ],
      "metadata": {
        "colab": {
          "base_uri": "https://localhost:8080/"
        },
        "id": "6-isvVaWYzWw",
        "outputId": "fe255591-889b-4fb2-ac7c-910d6724c0f8"
      },
      "execution_count": null,
      "outputs": [
        {
          "output_type": "execute_result",
          "data": {
            "text/plain": [
              "array([90])"
            ]
          },
          "metadata": {},
          "execution_count": 40
        }
      ]
    },
    {
      "cell_type": "code",
      "source": [
        "plt.figure(figsize=(7, 7))\n",
        "\n",
        "plt.scatter(X[:, 0], X[:, 1])\n",
        "\n",
        "plt.scatter(centroids[0, 0], centroids[0, 1], marker='*', s=500, c=colors[0])\n",
        "plt.scatter(X[ind, 0], X[ind, 1], marker='*', s=500, c=colors[1]);"
      ],
      "metadata": {
        "colab": {
          "base_uri": "https://localhost:8080/",
          "height": 428
        },
        "id": "Fwn4sCEuU5i7",
        "outputId": "3a96eb1e-010a-4580-f189-1d78d826277a"
      },
      "execution_count": null,
      "outputs": [
        {
          "output_type": "display_data",
          "data": {
            "text/plain": [
              "<Figure size 504x504 with 1 Axes>"
            ],
            "image/png": "[encoded data removed]"
          },
          "metadata": {
            "needs_background": "light"
          }
        }
      ]
    },
    {
      "cell_type": "code",
      "source": [
        "centroids[1] = X[ind]\n",
        "centroids"
      ],
      "metadata": {
        "colab": {
          "base_uri": "https://localhost:8080/"
        },
        "id": "OCHSeWnUaDVW",
        "outputId": "02553504-ad40-4e16-b397-a7be0d07e9f7"
      },
      "execution_count": null,
      "outputs": [
        {
          "output_type": "execute_result",
          "data": {
            "text/plain": [
              "array([[  4.05619693,   5.32231077],\n",
              "       [  5.19423061, -10.08668991],\n",
              "       [ 17.2       ,  17.2       ]])"
            ]
          },
          "metadata": {},
          "execution_count": 42
        }
      ]
    },
    {
      "cell_type": "markdown",
      "source": [
        "Третья центроида"
      ],
      "metadata": {
        "id": "NW0HpHibaaAH"
      }
    },
    {
      "cell_type": "code",
      "source": [
        "distances = []\n",
        "for x in X:\n",
        "    distances.append(min(np.linalg.norm(centroids - x, axis=1)))\n",
        "\n",
        "distances = np.array(distances) ** 2\n",
        "distances[:10]"
      ],
      "metadata": {
        "colab": {
          "base_uri": "https://localhost:8080/"
        },
        "id": "cTE3-fWJaKD-",
        "outputId": "5d273901-b300-460d-9d57-bab84637e054"
      },
      "execution_count": null,
      "outputs": [
        {
          "output_type": "execute_result",
          "data": {
            "text/plain": [
              "array([68.00796672, 48.75456642,  4.78028541,  0.42684763,  4.09436726,\n",
              "        1.74234624,  0.776173  , 65.60890834,  0.08625415,  8.5812706 ])"
            ]
          },
          "metadata": {},
          "execution_count": 43
        }
      ]
    },
    {
      "cell_type": "code",
      "source": [
        "sum_dist = distances.sum()\n",
        "sum_dist"
      ],
      "metadata": {
        "colab": {
          "base_uri": "https://localhost:8080/"
        },
        "id": "gU6Jo8VNaeGo",
        "outputId": "f08dc3f6-4a8c-4a17-b35d-8bee99d1406b"
      },
      "execution_count": null,
      "outputs": [
        {
          "output_type": "execute_result",
          "data": {
            "text/plain": [
              "1823.4872426534132"
            ]
          },
          "metadata": {},
          "execution_count": 44
        }
      ]
    },
    {
      "cell_type": "code",
      "source": [
        "proba = distances / sum_dist\n",
        "proba"
      ],
      "metadata": {
        "colab": {
          "base_uri": "https://localhost:8080/"
        },
        "id": "aa0qXiuIagEg",
        "outputId": "e3659572-0a0d-446d-85b8-623778b26044"
      },
      "execution_count": null,
      "outputs": [
        {
          "output_type": "execute_result",
          "data": {
            "text/plain": [
              "array([0.03729555, 0.02673699, 0.00262151, 0.00023408, 0.00224535,\n",
              "       0.0009555 , 0.00042565, 0.03597991, 0.0000473 , 0.00470597,\n",
              "       0.00000192, 0.0046265 , 0.00279298, 0.02003478, 0.0223576 ,\n",
              "       0.00009776, 0.00067101, 0.00307259, 0.00001856, 0.00180902,\n",
              "       0.00085469, 0.02569119, 0.00362224, 0.02238459, 0.00203935,\n",
              "       0.00593237, 0.00158522, 0.00008901, 0.00168454, 0.00034008,\n",
              "       0.01698298, 0.00391003, 0.00101799, 0.00124438, 0.03316263,\n",
              "       0.03394056, 0.01983762, 0.00162881, 0.00451884, 0.00374997,\n",
              "       0.04117586, 0.00183644, 0.03269853, 0.0225107 , 0.        ,\n",
              "       0.00007338, 0.00041748, 0.00157831, 0.03375088, 0.00179946,\n",
              "       0.00247447, 0.01704558, 0.00251639, 0.0036009 , 0.02446983,\n",
              "       0.00488878, 0.00112588, 0.02587631, 0.00044923, 0.00008843,\n",
              "       0.0030941 , 0.00121807, 0.03173898, 0.03256851, 0.01784707,\n",
              "       0.00103685, 0.00060812, 0.02762326, 0.02481828, 0.03105041,\n",
              "       0.00127133, 0.00156791, 0.00184252, 0.00184411, 0.0242404 ,\n",
              "       0.0039519 , 0.00005611, 0.01146249, 0.00068254, 0.00008935,\n",
              "       0.000675  , 0.00292492, 0.0002255 , 0.00042656, 0.02957207,\n",
              "       0.00194424, 0.03257183, 0.00036955, 0.02385452, 0.02752862,\n",
              "       0.        , 0.00135717, 0.00001293, 0.02350798, 0.02816159,\n",
              "       0.03372015, 0.003664  , 0.0002744 , 0.00090585, 0.0003663 ])"
            ]
          },
          "metadata": {},
          "execution_count": 45
        }
      ]
    },
    {
      "cell_type": "code",
      "source": [
        "proba.argmax()"
      ],
      "metadata": {
        "colab": {
          "base_uri": "https://localhost:8080/"
        },
        "id": "-I42so20ajnB",
        "outputId": "fe2dacc9-6179-48a3-83a5-53116351160e"
      },
      "execution_count": null,
      "outputs": [
        {
          "output_type": "execute_result",
          "data": {
            "text/plain": [
              "40"
            ]
          },
          "metadata": {},
          "execution_count": 46
        }
      ]
    },
    {
      "cell_type": "code",
      "source": [
        "ind = np.random.choice(list(range(X.shape[0])), size=1, p=proba)\n",
        "ind"
      ],
      "metadata": {
        "colab": {
          "base_uri": "https://localhost:8080/"
        },
        "id": "yA-ZZWxtalfI",
        "outputId": "cfcef6d8-309a-4f11-cd6b-850b3f6ee05b"
      },
      "execution_count": null,
      "outputs": [
        {
          "output_type": "execute_result",
          "data": {
            "text/plain": [
              "array([40])"
            ]
          },
          "metadata": {},
          "execution_count": 51
        }
      ]
    },
    {
      "cell_type": "code",
      "source": [
        "plt.figure(figsize=(7, 7))\n",
        "\n",
        "plt.scatter(X[:, 0], X[:, 1])\n",
        "\n",
        "plt.scatter(centroids[0, 0], centroids[0, 1], marker='*', s=500, c=colors[0])\n",
        "plt.scatter(centroids[1, 0], centroids[1, 1], marker='*', s=500, c=colors[0])\n",
        "plt.scatter(X[ind, 0], X[ind, 1], marker='*', s=500, c=colors[1]);"
      ],
      "metadata": {
        "colab": {
          "base_uri": "https://localhost:8080/",
          "height": 428
        },
        "id": "7TR2TLT6aoRW",
        "outputId": "93a3adae-193b-45fb-e307-0dbd876443b7"
      },
      "execution_count": null,
      "outputs": [
        {
          "output_type": "display_data",
          "data": {
            "text/plain": [
              "<Figure size 504x504 with 1 Axes>"
            ],
            "image/png": "[encoded data removed]"
          },
          "metadata": {
            "needs_background": "light"
          }
        }
      ]
    },
    {
      "cell_type": "markdown",
      "source": [
        "### Функция для обучения KMeans с инициализацией KMeans++"
      ],
      "metadata": {
        "id": "-s4d9x1Q7qaI"
      }
    },
    {
      "cell_type": "code",
      "source": [
        "def kmeanspp(X, k=3, seed=0):\n",
        "    centroids = []\n",
        "\n",
        "    np.random.seed(seed)\n",
        "    centroid_id = np.random.choice(X.shape[0])\n",
        "    centroids.append(X[centroid_id])\n",
        "\n",
        "    for _ in range(k-1):\n",
        "        dists = []\n",
        "        for x in X:\n",
        "            distances = np.linalg.norm(centroids - x, axis=1)\n",
        "            dists.append(distances.min())\n",
        "\n",
        "        obj_ind = np.array(dists).argmax()\n",
        "        next_centroid = X[obj_ind]\n",
        "        centroids.append(next_centroid)\n",
        "\n",
        "    return centroids"
      ],
      "metadata": {
        "id": "mT1GVhik7sFY"
      },
      "execution_count": null,
      "outputs": []
    },
    {
      "cell_type": "code",
      "source": [
        "def KMeans(X, k=3, num_iter=10, min_distance=1e-4, seed=0, centroids=None):\n",
        "    if centroids is None:\n",
        "        centroids = kmeanspp(X, k=k, seed=seed)\n",
        "\n",
        "    for i in range(num_iter):\n",
        "        clusters = {i: [] for i in range(k)}\n",
        "\n",
        "        for x in X:\n",
        "            distances = np.linalg.norm(centroids - x, axis=1)\n",
        "            cluster_ind = distances.argmin()\n",
        "            clusters[cluster_ind].append(x)\n",
        "\n",
        "        new_centroids = {}\n",
        "        for cluster in clusters:\n",
        "            new_centroids[cluster] = np.mean(clusters[cluster], axis=0)\n",
        "\n",
        "        new_centroids = dict(sorted(new_centroids.items()))\n",
        "        new_centroids = np.array(list(new_centroids.values()))\n",
        "\n",
        "        is_stop = True\n",
        "        for clust in range(len(centroids)):\n",
        "            if np.linalg.norm(centroids[clust] - new_centroids[clust]) > min_distance:\n",
        "                is_stop = False\n",
        "                break\n",
        "        if is_stop:\n",
        "            print(f'stopping at iter {i}')\n",
        "            break\n",
        "\n",
        "        centroids = new_centroids.copy()\n",
        "\n",
        "    return centroids, clusters"
      ],
      "metadata": {
        "id": "mDpIFM6c7X3F"
      },
      "execution_count": null,
      "outputs": []
    },
    {
      "cell_type": "markdown",
      "source": [
        "Сделаем задачу посложнее"
      ],
      "metadata": {
        "id": "7KSTgGUw9QTo"
      }
    },
    {
      "cell_type": "code",
      "execution_count": null,
      "metadata": {
        "id": "AuEPMr3B72BF"
      },
      "outputs": [],
      "source": [
        "X, y = make_blobs(n_samples=300, random_state=13, cluster_std=1.5)"
      ]
    },
    {
      "cell_type": "code",
      "execution_count": null,
      "metadata": {
        "outputId": "f535f3a5-934a-42fd-dba2-bfe26651ee1a",
        "colab": {
          "base_uri": "https://localhost:8080/",
          "height": 428
        },
        "id": "zb1yYtVk72BF"
      },
      "outputs": [
        {
          "output_type": "display_data",
          "data": {
            "text/plain": [
              "<Figure size 504x504 with 1 Axes>"
            ],
            "image/png": "[encoded data removed]"
          },
          "metadata": {
            "needs_background": "light"
          }
        }
      ],
      "source": [
        "plt.figure(figsize=(7, 7))\n",
        "plt.scatter(X[:, 0], X[:, 1]);"
      ]
    },
    {
      "cell_type": "code",
      "source": [
        "centroids, clusters = KMeans(X)"
      ],
      "metadata": {
        "colab": {
          "base_uri": "https://localhost:8080/"
        },
        "id": "53Ffe__47gIw",
        "outputId": "5428d9fa-f890-4e80-eabd-655ad5c00d1c"
      },
      "execution_count": null,
      "outputs": [
        {
          "output_type": "stream",
          "name": "stdout",
          "text": [
            "stopping at iter 3\n"
          ]
        }
      ]
    },
    {
      "cell_type": "code",
      "source": [
        "plt.figure(figsize=(7, 7))\n",
        "\n",
        "for i in clusters:\n",
        "    for x in clusters[i]:\n",
        "        plt.scatter(x[0], x[1], color=colors[i])\n",
        "\n",
        "for i, centr in enumerate(centroids):\n",
        "    plt.scatter(centr[0], centr[1], marker='*', s=500, c=colors[i])\n",
        "    plt.text(centr[0]-0.1, centr[1]-0.2, f'{i+1}', fontsize=20);"
      ],
      "metadata": {
        "colab": {
          "base_uri": "https://localhost:8080/",
          "height": 428
        },
        "id": "Gtbahcta7jfC",
        "outputId": "f18cd01b-5af6-44ff-8776-82f6e1d6b3f6"
      },
      "execution_count": null,
      "outputs": [
        {
          "output_type": "display_data",
          "data": {
            "text/plain": [
              "<Figure size 504x504 with 1 Axes>"
            ],
            "image/png": "[encoded data removed]"
          },
          "metadata": {
            "needs_background": "light"
          }
        }
      ]
    },
    {
      "cell_type": "markdown",
      "source": [
        "Сравним кластера с настоящими метками классов"
      ],
      "metadata": {
        "id": "ZFVN46cC9LUy"
      }
    },
    {
      "cell_type": "code",
      "source": [
        "plt.figure(figsize=(7, 7))\n",
        "\n",
        "for i in range(k):\n",
        "    temp = X[y == i]\n",
        "    plt.scatter(temp[:,0], temp[:,1], color=colors[i])\n",
        "\n",
        "for i, centr in enumerate(centroids):\n",
        "    plt.scatter(centr[0], centr[1], marker='*', s=500, c=colors[i])\n",
        "    plt.text(centr[0]-0.1, centr[1]-0.2, f'{i+1}', fontsize=20);"
      ],
      "metadata": {
        "colab": {
          "base_uri": "https://localhost:8080/",
          "height": 428
        },
        "id": "DYOGGDLF8XIE",
        "outputId": "e2d8c732-3d29-49a2-91bc-f59e90e2d822"
      },
      "execution_count": null,
      "outputs": [
        {
          "output_type": "display_data",
          "data": {
            "text/plain": [
              "<Figure size 504x504 with 1 Axes>"
            ],
            "image/png": "[encoded data removed]"
          },
          "metadata": {
            "needs_background": "light"
          }
        }
      ]
    }
  ]
}