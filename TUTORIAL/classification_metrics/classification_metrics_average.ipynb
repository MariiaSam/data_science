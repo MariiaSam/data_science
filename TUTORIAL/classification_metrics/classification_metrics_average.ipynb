{
  "cells": [
    {
      "cell_type": "code",
      "execution_count": null,
      "metadata": {
        "id": "FIaQlaQ6BtqD"
      },
      "outputs": [],
      "source": [
        "import pandas as pd\n",
        "import numpy as np\n",
        "import matplotlib.pyplot as plt\n",
        "import seaborn as sns\n",
        "import matplotlib\n",
        "\n",
        "matplotlib.rcParams.update({'font.size': 14})"
      ]
    },
    {
      "cell_type": "markdown",
      "metadata": {
        "id": "AsqaA2C3BtqG"
      },
      "source": [
        "**Метрики** в машинном обучении нужны для того, чтобы оценивать качество работы модели, чтобы понимать, а насколько модель хорошо запомнила закономерности из обучающей выборки.  \n",
        "\n",
        "Сегодня продолжаем рассматривать метрики для **задачи классификации**. Для такой задачи хочется, чтобы наши модели как можно чаще предсказывали верную метку класса объекта.\n",
        "\n",
        "<img src='https://static.javatpoint.com/tutorial/machine-learning/images/classification-algorithm-in-machine-learning.png' width=600>\n"
      ]
    },
    {
      "cell_type": "markdown",
      "metadata": {
        "id": "ZCEdsc_LBtqQ"
      },
      "source": [
        "До этого считали метрики только для одного класса (мошенническая транзакция, больной человек, выдача кредита), на второй класс (обычная транзакция, здоровый человек, отказ в кредите) мы не обращали внимание, считали метрику только для **целевого класса**.  \n",
        "Но бывает, что оба класса нам важны и мы хотим их одинаково хорошо предсказывать, тут мы можем считать метрики precision, recall, f-score для обоих классов, сначала для первого, потом для второго и смотреть, что говорят нам метрики."
      ]
    },
    {
      "cell_type": "markdown",
      "metadata": {
        "id": "r93dpOiwLtOs"
      },
      "source": [
        "Снова возьмем данные по задаче кредитного скоринга.   \n",
        "0 классом помечаем клиентов, которые кредит не вернут, а 1 - которые вернут."
      ]
    },
    {
      "cell_type": "code",
      "execution_count": null,
      "metadata": {
        "colab": {
          "base_uri": "https://localhost:8080/",
          "height": 355
        },
        "id": "NJhZlK0GLkJW",
        "outputId": "983709b7-2152-48d5-a7ae-ff690a856a87"
      },
      "outputs": [
        {
          "data": {
            "text/html": [
              "<div>\n",
              "<style scoped>\n",
              "    .dataframe tbody tr th:only-of-type {\n",
              "        vertical-align: middle;\n",
              "    }\n",
              "\n",
              "    .dataframe tbody tr th {\n",
              "        vertical-align: top;\n",
              "    }\n",
              "\n",
              "    .dataframe thead th {\n",
              "        text-align: right;\n",
              "    }\n",
              "</style>\n",
              "<table border=\"1\" class=\"dataframe\">\n",
              "  <thead>\n",
              "    <tr style=\"text-align: right;\">\n",
              "      <th></th>\n",
              "      <th>clients</th>\n",
              "      <th>first_model</th>\n",
              "      <th>second_model</th>\n",
              "    </tr>\n",
              "  </thead>\n",
              "  <tbody>\n",
              "    <tr>\n",
              "      <th>0</th>\n",
              "      <td>0</td>\n",
              "      <td>0</td>\n",
              "      <td>0</td>\n",
              "    </tr>\n",
              "    <tr>\n",
              "      <th>1</th>\n",
              "      <td>0</td>\n",
              "      <td>0</td>\n",
              "      <td>0</td>\n",
              "    </tr>\n",
              "    <tr>\n",
              "      <th>2</th>\n",
              "      <td>0</td>\n",
              "      <td>1</td>\n",
              "      <td>0</td>\n",
              "    </tr>\n",
              "    <tr>\n",
              "      <th>3</th>\n",
              "      <td>0</td>\n",
              "      <td>1</td>\n",
              "      <td>0</td>\n",
              "    </tr>\n",
              "    <tr>\n",
              "      <th>4</th>\n",
              "      <td>0</td>\n",
              "      <td>1</td>\n",
              "      <td>0</td>\n",
              "    </tr>\n",
              "    <tr>\n",
              "      <th>5</th>\n",
              "      <td>1</td>\n",
              "      <td>1</td>\n",
              "      <td>1</td>\n",
              "    </tr>\n",
              "    <tr>\n",
              "      <th>6</th>\n",
              "      <td>1</td>\n",
              "      <td>1</td>\n",
              "      <td>1</td>\n",
              "    </tr>\n",
              "    <tr>\n",
              "      <th>7</th>\n",
              "      <td>1</td>\n",
              "      <td>1</td>\n",
              "      <td>0</td>\n",
              "    </tr>\n",
              "    <tr>\n",
              "      <th>8</th>\n",
              "      <td>1</td>\n",
              "      <td>1</td>\n",
              "      <td>0</td>\n",
              "    </tr>\n",
              "    <tr>\n",
              "      <th>9</th>\n",
              "      <td>1</td>\n",
              "      <td>1</td>\n",
              "      <td>0</td>\n",
              "    </tr>\n",
              "  </tbody>\n",
              "</table>\n",
              "</div>"
            ],
            "text/plain": [
              "   clients  first_model  second_model\n",
              "0        0            0             0\n",
              "1        0            0             0\n",
              "2        0            1             0\n",
              "3        0            1             0\n",
              "4        0            1             0\n",
              "5        1            1             1\n",
              "6        1            1             1\n",
              "7        1            1             0\n",
              "8        1            1             0\n",
              "9        1            1             0"
            ]
          },
          "execution_count": 3,
          "metadata": {},
          "output_type": "execute_result"
        }
      ],
      "source": [
        "clients = [0, 0, 0, 0, 0,\n",
        "           1, 1, 1, 1, 1]\n",
        "first_model_pred = [0, 0, 1, 1, 1,\n",
        "                    1, 1, 1, 1, 1]\n",
        "second_model_pred = [0, 0, 0, 0, 0,\n",
        "                     1, 1, 0, 0, 0]\n",
        "\n",
        "\n",
        "df = pd.DataFrame({\n",
        "    'clients': clients,\n",
        "    'first_model': first_model_pred,\n",
        "    'second_model': second_model_pred\n",
        "})\n",
        "\n",
        "df"
      ]
    },
    {
      "cell_type": "code",
      "execution_count": null,
      "metadata": {
        "colab": {
          "base_uri": "https://localhost:8080/"
        },
        "id": "FIJwO_2eBtqY",
        "outputId": "89212e65-aecc-4767-f29b-1e79f747e82e"
      },
      "outputs": [
        {
          "name": "stdout",
          "output_type": "stream",
          "text": [
            "              precision    recall  f1-score   support\n",
            "\n",
            "           0       1.00      0.40      0.57         5\n",
            "           1       0.62      1.00      0.77         5\n",
            "\n",
            "    accuracy                           0.70        10\n",
            "   macro avg       0.81      0.70      0.67        10\n",
            "weighted avg       0.81      0.70      0.67        10\n",
            "\n"
          ]
        }
      ],
      "source": [
        "from sklearn.metrics import classification_report\n",
        "\n",
        "print(classification_report(df['clients'], df['first_model']))"
      ]
    },
    {
      "cell_type": "markdown",
      "metadata": {
        "id": "g-fIRy-ZBtqa"
      },
      "source": [
        "Получили хорошие метрики для первого класса (выдача кредита): `precision 0.62, recall 1, f-score 0.77` и чуть похуже для нулевого класса (отказ в кредите): `precision 1, recall 0.4, f-score 0.57`.\n",
        "\n",
        "- Получается, что мы лучше работаем с объектами **первого класса**, с теми людьми, которым стоит *выдать кредит*, мы находим их всех (recall единичный), но как первый класс классифицировалось слишком много *лишних объектов* (precision не единичный), то есть есть такие люди, которые не готовы выплачивать кредит, но наша модель одобрила им деньги.\n",
        "- Зато, как **нулевой класс** мы классифицируем *только* клиентов, которым не нужно было выдавать кредит (precision единичный), но недобросовестные клиенты нашлись *не все* (recall не единичный)."
      ]
    },
    {
      "cell_type": "markdown",
      "metadata": {
        "id": "8w2Yeou9Btqe"
      },
      "source": [
        "Поизучать метрики двух классов и сделать о них выводы несложная задача, но что делать, когда классов не две штуки, а 50 или 1000? Сможем ли мы для каждого класса посчитать метрику и адекватно её проанализировать?"
      ]
    },
    {
      "cell_type": "code",
      "execution_count": null,
      "metadata": {
        "colab": {
          "base_uri": "https://localhost:8080/"
        },
        "id": "Nb_jqogOBtqg",
        "outputId": "1e9c95af-3e49-4e06-a58b-b0ea9e71d3de"
      },
      "outputs": [
        {
          "data": {
            "text/plain": [
              "((1000, 60), (1000,))"
            ]
          },
          "execution_count": 5,
          "metadata": {},
          "output_type": "execute_result"
        }
      ],
      "source": [
        "from sklearn.datasets import make_classification\n",
        "\n",
        "X, y = make_classification(n_samples=1000,\n",
        "                           n_features=60,\n",
        "                           n_informative=60,\n",
        "                           n_redundant=0,\n",
        "                           n_classes=50,\n",
        "                           n_clusters_per_class=1,\n",
        "                           random_state=1)\n",
        "\n",
        "X.shape, y.shape"
      ]
    },
    {
      "cell_type": "code",
      "execution_count": null,
      "metadata": {
        "colab": {
          "base_uri": "https://localhost:8080/"
        },
        "id": "PuFA1UVTBtqi",
        "outputId": "18bad9c8-0c81-4515-ce69-ca29cdfb8b9b"
      },
      "outputs": [
        {
          "data": {
            "text/plain": [
              "DecisionTreeClassifier(ccp_alpha=0.0, class_weight=None, criterion='gini',\n",
              "                       max_depth=10, max_features=None, max_leaf_nodes=None,\n",
              "                       min_impurity_decrease=0.0, min_impurity_split=None,\n",
              "                       min_samples_leaf=1, min_samples_split=2,\n",
              "                       min_weight_fraction_leaf=0.0, presort='deprecated',\n",
              "                       random_state=1, splitter='best')"
            ]
          },
          "execution_count": 6,
          "metadata": {},
          "output_type": "execute_result"
        }
      ],
      "source": [
        "from sklearn.tree import DecisionTreeClassifier\n",
        "\n",
        "tree = DecisionTreeClassifier(max_depth=10,\n",
        "                              random_state=1)\n",
        "tree.fit(X, y)"
      ]
    },
    {
      "cell_type": "code",
      "execution_count": null,
      "metadata": {
        "id": "QPC6zyQMBtqm"
      },
      "outputs": [],
      "source": [
        "pred = tree.predict(X)"
      ]
    },
    {
      "cell_type": "code",
      "execution_count": null,
      "metadata": {
        "colab": {
          "base_uri": "https://localhost:8080/"
        },
        "id": "yicZ0e0HBtqn",
        "outputId": "2cde9982-e9f8-4475-d174-985c70e56ff2"
      },
      "outputs": [
        {
          "name": "stdout",
          "output_type": "stream",
          "text": [
            "              precision    recall  f1-score   support\n",
            "\n",
            "           0       0.43      0.65      0.52        20\n",
            "           1       0.35      0.35      0.35        20\n",
            "           2       0.67      0.30      0.41        20\n",
            "           3       0.22      0.65      0.33        20\n",
            "           4       1.00      0.45      0.62        20\n",
            "           5       0.15      0.58      0.24        19\n",
            "           6       0.26      0.47      0.34        19\n",
            "           7       0.60      0.57      0.59        21\n",
            "           8       0.40      0.57      0.47        21\n",
            "           9       1.00      0.45      0.62        20\n",
            "          10       0.46      0.29      0.35        21\n",
            "          11       1.00      0.42      0.59        19\n",
            "          12       0.31      0.40      0.35        20\n",
            "          13       0.72      0.65      0.68        20\n",
            "          14       0.17      0.30      0.21        20\n",
            "          15       0.83      0.50      0.62        20\n",
            "          16       1.00      0.21      0.35        19\n",
            "          17       1.00      0.15      0.26        20\n",
            "          18       1.00      0.25      0.40        20\n",
            "          19       1.00      0.26      0.42        19\n",
            "          20       1.00      0.16      0.27        19\n",
            "          21       0.07      0.45      0.12        20\n",
            "          22       0.06      0.48      0.10        21\n",
            "          23       1.00      0.15      0.26        20\n",
            "          24       1.00      0.30      0.46        20\n",
            "          25       0.57      0.20      0.30        20\n",
            "          26       1.00      0.19      0.32        21\n",
            "          27       0.00      0.00      0.00        20\n",
            "          28       1.00      0.16      0.27        19\n",
            "          29       1.00      0.45      0.62        20\n",
            "          30       0.75      0.33      0.46        18\n",
            "          31       1.00      0.15      0.26        20\n",
            "          32       1.00      0.35      0.52        20\n",
            "          33       0.50      0.50      0.50        20\n",
            "          34       0.79      0.55      0.65        20\n",
            "          35       1.00      0.10      0.18        20\n",
            "          36       1.00      0.26      0.42        19\n",
            "          37       1.00      0.20      0.33        20\n",
            "          38       1.00      0.10      0.18        20\n",
            "          39       1.00      0.37      0.54        19\n",
            "          40       1.00      0.25      0.40        20\n",
            "          41       0.50      0.38      0.43        21\n",
            "          42       0.19      0.25      0.22        20\n",
            "          43       1.00      0.29      0.44        21\n",
            "          44       0.09      0.35      0.14        20\n",
            "          45       1.00      0.30      0.46        20\n",
            "          46       1.00      0.24      0.38        21\n",
            "          47       1.00      0.36      0.53        22\n",
            "          48       0.56      0.50      0.53        20\n",
            "          49       1.00      0.29      0.44        21\n",
            "\n",
            "    accuracy                           0.34      1000\n",
            "   macro avg       0.71      0.34      0.39      1000\n",
            "weighted avg       0.71      0.34      0.39      1000\n",
            "\n"
          ]
        },
        {
          "name": "stderr",
          "output_type": "stream",
          "text": [
            "/usr/local/lib/python3.7/dist-packages/sklearn/metrics/_classification.py:1272: UndefinedMetricWarning: Precision and F-score are ill-defined and being set to 0.0 in labels with no predicted samples. Use `zero_division` parameter to control this behavior.\n",
            "  _warn_prf(average, modifier, msg_start, len(result))\n"
          ]
        }
      ],
      "source": [
        "print(classification_report(y, pred))"
      ]
    },
    {
      "cell_type": "markdown",
      "metadata": {
        "id": "xdy67Dz4Btqo"
      },
      "source": [
        "Теперь уже не так просто поизучать каждый класс в отдельности, глаза начинают разбегаться. Конечно мы сможем проанализировать метрики для каждого класса, но на это потребуется очень много времени, поэтому чтобы это время не тратить, можно пользоваться усредненными метриками."
      ]
    },
    {
      "cell_type": "markdown",
      "metadata": {
        "id": "gN3V6rYjBtqq"
      },
      "source": [
        "Для простоты расчетов будем рассматривать усредненные метрики на небольшом примере. Выборка из 15 объектов двух классов, 5 объектов - нулевой класс, 10 объектов - первый класс.\n",
        "\n",
        "И сделаем случайные предсказания."
      ]
    },
    {
      "cell_type": "code",
      "execution_count": null,
      "metadata": {
        "colab": {
          "base_uri": "https://localhost:8080/",
          "height": 509
        },
        "id": "YFgyd074Btqr",
        "outputId": "700f2115-11a5-4ab9-8cfc-4d6472d9e2e2"
      },
      "outputs": [
        {
          "data": {
            "text/html": [
              "<div>\n",
              "<style scoped>\n",
              "    .dataframe tbody tr th:only-of-type {\n",
              "        vertical-align: middle;\n",
              "    }\n",
              "\n",
              "    .dataframe tbody tr th {\n",
              "        vertical-align: top;\n",
              "    }\n",
              "\n",
              "    .dataframe thead th {\n",
              "        text-align: right;\n",
              "    }\n",
              "</style>\n",
              "<table border=\"1\" class=\"dataframe\">\n",
              "  <thead>\n",
              "    <tr style=\"text-align: right;\">\n",
              "      <th></th>\n",
              "      <th>ground truth</th>\n",
              "      <th>pred</th>\n",
              "    </tr>\n",
              "  </thead>\n",
              "  <tbody>\n",
              "    <tr>\n",
              "      <th>0</th>\n",
              "      <td>0</td>\n",
              "      <td>0</td>\n",
              "    </tr>\n",
              "    <tr>\n",
              "      <th>1</th>\n",
              "      <td>0</td>\n",
              "      <td>0</td>\n",
              "    </tr>\n",
              "    <tr>\n",
              "      <th>2</th>\n",
              "      <td>0</td>\n",
              "      <td>0</td>\n",
              "    </tr>\n",
              "    <tr>\n",
              "      <th>3</th>\n",
              "      <td>0</td>\n",
              "      <td>1</td>\n",
              "    </tr>\n",
              "    <tr>\n",
              "      <th>4</th>\n",
              "      <td>0</td>\n",
              "      <td>1</td>\n",
              "    </tr>\n",
              "    <tr>\n",
              "      <th>5</th>\n",
              "      <td>1</td>\n",
              "      <td>0</td>\n",
              "    </tr>\n",
              "    <tr>\n",
              "      <th>6</th>\n",
              "      <td>1</td>\n",
              "      <td>0</td>\n",
              "    </tr>\n",
              "    <tr>\n",
              "      <th>7</th>\n",
              "      <td>1</td>\n",
              "      <td>0</td>\n",
              "    </tr>\n",
              "    <tr>\n",
              "      <th>8</th>\n",
              "      <td>1</td>\n",
              "      <td>0</td>\n",
              "    </tr>\n",
              "    <tr>\n",
              "      <th>9</th>\n",
              "      <td>1</td>\n",
              "      <td>1</td>\n",
              "    </tr>\n",
              "    <tr>\n",
              "      <th>10</th>\n",
              "      <td>1</td>\n",
              "      <td>1</td>\n",
              "    </tr>\n",
              "    <tr>\n",
              "      <th>11</th>\n",
              "      <td>1</td>\n",
              "      <td>1</td>\n",
              "    </tr>\n",
              "    <tr>\n",
              "      <th>12</th>\n",
              "      <td>1</td>\n",
              "      <td>1</td>\n",
              "    </tr>\n",
              "    <tr>\n",
              "      <th>13</th>\n",
              "      <td>1</td>\n",
              "      <td>1</td>\n",
              "    </tr>\n",
              "    <tr>\n",
              "      <th>14</th>\n",
              "      <td>1</td>\n",
              "      <td>1</td>\n",
              "    </tr>\n",
              "  </tbody>\n",
              "</table>\n",
              "</div>"
            ],
            "text/plain": [
              "    ground truth  pred\n",
              "0              0     0\n",
              "1              0     0\n",
              "2              0     0\n",
              "3              0     1\n",
              "4              0     1\n",
              "5              1     0\n",
              "6              1     0\n",
              "7              1     0\n",
              "8              1     0\n",
              "9              1     1\n",
              "10             1     1\n",
              "11             1     1\n",
              "12             1     1\n",
              "13             1     1\n",
              "14             1     1"
            ]
          },
          "execution_count": 9,
          "metadata": {},
          "output_type": "execute_result"
        }
      ],
      "source": [
        "true = [0, 0, 0, 0, 0,\n",
        "        1, 1, 1, 1, 1, 1, 1, 1, 1, 1]\n",
        "\n",
        "pred = [0, 0, 0, 1, 1,\n",
        "        0, 0, 0, 0, 1, 1, 1, 1, 1, 1]\n",
        "\n",
        "df = pd.DataFrame({\n",
        "    'ground truth': true,\n",
        "    'pred': pred\n",
        "})\n",
        "\n",
        "df"
      ]
    },
    {
      "cell_type": "markdown",
      "metadata": {
        "id": "8ocHrayHBtqu"
      },
      "source": [
        "И сделаем новый столбик для обозначения корректности предсказания. True - истина совпадает с предсказанием, False - истина не совпадает с предсказанием."
      ]
    },
    {
      "cell_type": "code",
      "execution_count": null,
      "metadata": {
        "colab": {
          "base_uri": "https://localhost:8080/",
          "height": 509
        },
        "id": "BndSbTZWBtqv",
        "outputId": "3dde59e8-3cff-419d-87e7-0a3171e53511"
      },
      "outputs": [
        {
          "data": {
            "text/html": [
              "<div>\n",
              "<style scoped>\n",
              "    .dataframe tbody tr th:only-of-type {\n",
              "        vertical-align: middle;\n",
              "    }\n",
              "\n",
              "    .dataframe tbody tr th {\n",
              "        vertical-align: top;\n",
              "    }\n",
              "\n",
              "    .dataframe thead th {\n",
              "        text-align: right;\n",
              "    }\n",
              "</style>\n",
              "<table border=\"1\" class=\"dataframe\">\n",
              "  <thead>\n",
              "    <tr style=\"text-align: right;\">\n",
              "      <th></th>\n",
              "      <th>ground truth</th>\n",
              "      <th>pred</th>\n",
              "      <th>correct</th>\n",
              "    </tr>\n",
              "  </thead>\n",
              "  <tbody>\n",
              "    <tr>\n",
              "      <th>0</th>\n",
              "      <td>0</td>\n",
              "      <td>0</td>\n",
              "      <td>True</td>\n",
              "    </tr>\n",
              "    <tr>\n",
              "      <th>1</th>\n",
              "      <td>0</td>\n",
              "      <td>0</td>\n",
              "      <td>True</td>\n",
              "    </tr>\n",
              "    <tr>\n",
              "      <th>2</th>\n",
              "      <td>0</td>\n",
              "      <td>0</td>\n",
              "      <td>True</td>\n",
              "    </tr>\n",
              "    <tr>\n",
              "      <th>3</th>\n",
              "      <td>0</td>\n",
              "      <td>1</td>\n",
              "      <td>False</td>\n",
              "    </tr>\n",
              "    <tr>\n",
              "      <th>4</th>\n",
              "      <td>0</td>\n",
              "      <td>1</td>\n",
              "      <td>False</td>\n",
              "    </tr>\n",
              "    <tr>\n",
              "      <th>5</th>\n",
              "      <td>1</td>\n",
              "      <td>0</td>\n",
              "      <td>False</td>\n",
              "    </tr>\n",
              "    <tr>\n",
              "      <th>6</th>\n",
              "      <td>1</td>\n",
              "      <td>0</td>\n",
              "      <td>False</td>\n",
              "    </tr>\n",
              "    <tr>\n",
              "      <th>7</th>\n",
              "      <td>1</td>\n",
              "      <td>0</td>\n",
              "      <td>False</td>\n",
              "    </tr>\n",
              "    <tr>\n",
              "      <th>8</th>\n",
              "      <td>1</td>\n",
              "      <td>0</td>\n",
              "      <td>False</td>\n",
              "    </tr>\n",
              "    <tr>\n",
              "      <th>9</th>\n",
              "      <td>1</td>\n",
              "      <td>1</td>\n",
              "      <td>True</td>\n",
              "    </tr>\n",
              "    <tr>\n",
              "      <th>10</th>\n",
              "      <td>1</td>\n",
              "      <td>1</td>\n",
              "      <td>True</td>\n",
              "    </tr>\n",
              "    <tr>\n",
              "      <th>11</th>\n",
              "      <td>1</td>\n",
              "      <td>1</td>\n",
              "      <td>True</td>\n",
              "    </tr>\n",
              "    <tr>\n",
              "      <th>12</th>\n",
              "      <td>1</td>\n",
              "      <td>1</td>\n",
              "      <td>True</td>\n",
              "    </tr>\n",
              "    <tr>\n",
              "      <th>13</th>\n",
              "      <td>1</td>\n",
              "      <td>1</td>\n",
              "      <td>True</td>\n",
              "    </tr>\n",
              "    <tr>\n",
              "      <th>14</th>\n",
              "      <td>1</td>\n",
              "      <td>1</td>\n",
              "      <td>True</td>\n",
              "    </tr>\n",
              "  </tbody>\n",
              "</table>\n",
              "</div>"
            ],
            "text/plain": [
              "    ground truth  pred  correct\n",
              "0              0     0     True\n",
              "1              0     0     True\n",
              "2              0     0     True\n",
              "3              0     1    False\n",
              "4              0     1    False\n",
              "5              1     0    False\n",
              "6              1     0    False\n",
              "7              1     0    False\n",
              "8              1     0    False\n",
              "9              1     1     True\n",
              "10             1     1     True\n",
              "11             1     1     True\n",
              "12             1     1     True\n",
              "13             1     1     True\n",
              "14             1     1     True"
            ]
          },
          "execution_count": 10,
          "metadata": {},
          "output_type": "execute_result"
        }
      ],
      "source": [
        "df['correct'] = df['ground truth'] == df['pred']\n",
        "df"
      ]
    },
    {
      "cell_type": "markdown",
      "metadata": {
        "id": "E_m8TeA9Btqx"
      },
      "source": [
        "# Усреднения"
      ]
    },
    {
      "cell_type": "markdown",
      "metadata": {
        "id": "St6dMUEuBtqy"
      },
      "source": [
        "## Micro"
      ]
    },
    {
      "cell_type": "markdown",
      "metadata": {
        "id": "vc2Sj_HsBtqz"
      },
      "source": [
        "Микро усреднение представляет из себя сумму верных срабатываний для обоих классов, деленное на количество объектов."
      ]
    },
    {
      "cell_type": "markdown",
      "metadata": {
        "id": "8mvA2m73Btq0"
      },
      "source": [
        "Посчитаем верные срабатывания для нулевого класса. Получилось 3 True Positive."
      ]
    },
    {
      "cell_type": "code",
      "execution_count": null,
      "metadata": {
        "colab": {
          "base_uri": "https://localhost:8080/",
          "height": 509
        },
        "id": "UB2LbPYGBtq2",
        "outputId": "ee91c3f3-7cb5-4361-af7b-e936cc00f37d"
      },
      "outputs": [
        {
          "data": {
            "text/html": [
              "<div>\n",
              "<style scoped>\n",
              "    .dataframe tbody tr th:only-of-type {\n",
              "        vertical-align: middle;\n",
              "    }\n",
              "\n",
              "    .dataframe tbody tr th {\n",
              "        vertical-align: top;\n",
              "    }\n",
              "\n",
              "    .dataframe thead th {\n",
              "        text-align: right;\n",
              "    }\n",
              "</style>\n",
              "<table border=\"1\" class=\"dataframe\">\n",
              "  <thead>\n",
              "    <tr style=\"text-align: right;\">\n",
              "      <th></th>\n",
              "      <th>ground truth</th>\n",
              "      <th>pred</th>\n",
              "      <th>correct</th>\n",
              "      <th>correct_0</th>\n",
              "    </tr>\n",
              "  </thead>\n",
              "  <tbody>\n",
              "    <tr>\n",
              "      <th>0</th>\n",
              "      <td>0</td>\n",
              "      <td>0</td>\n",
              "      <td>True</td>\n",
              "      <td>True</td>\n",
              "    </tr>\n",
              "    <tr>\n",
              "      <th>1</th>\n",
              "      <td>0</td>\n",
              "      <td>0</td>\n",
              "      <td>True</td>\n",
              "      <td>True</td>\n",
              "    </tr>\n",
              "    <tr>\n",
              "      <th>2</th>\n",
              "      <td>0</td>\n",
              "      <td>0</td>\n",
              "      <td>True</td>\n",
              "      <td>True</td>\n",
              "    </tr>\n",
              "    <tr>\n",
              "      <th>3</th>\n",
              "      <td>0</td>\n",
              "      <td>1</td>\n",
              "      <td>False</td>\n",
              "      <td>False</td>\n",
              "    </tr>\n",
              "    <tr>\n",
              "      <th>4</th>\n",
              "      <td>0</td>\n",
              "      <td>1</td>\n",
              "      <td>False</td>\n",
              "      <td>False</td>\n",
              "    </tr>\n",
              "    <tr>\n",
              "      <th>5</th>\n",
              "      <td>1</td>\n",
              "      <td>0</td>\n",
              "      <td>False</td>\n",
              "      <td>False</td>\n",
              "    </tr>\n",
              "    <tr>\n",
              "      <th>6</th>\n",
              "      <td>1</td>\n",
              "      <td>0</td>\n",
              "      <td>False</td>\n",
              "      <td>False</td>\n",
              "    </tr>\n",
              "    <tr>\n",
              "      <th>7</th>\n",
              "      <td>1</td>\n",
              "      <td>0</td>\n",
              "      <td>False</td>\n",
              "      <td>False</td>\n",
              "    </tr>\n",
              "    <tr>\n",
              "      <th>8</th>\n",
              "      <td>1</td>\n",
              "      <td>0</td>\n",
              "      <td>False</td>\n",
              "      <td>False</td>\n",
              "    </tr>\n",
              "    <tr>\n",
              "      <th>9</th>\n",
              "      <td>1</td>\n",
              "      <td>1</td>\n",
              "      <td>True</td>\n",
              "      <td>False</td>\n",
              "    </tr>\n",
              "    <tr>\n",
              "      <th>10</th>\n",
              "      <td>1</td>\n",
              "      <td>1</td>\n",
              "      <td>True</td>\n",
              "      <td>False</td>\n",
              "    </tr>\n",
              "    <tr>\n",
              "      <th>11</th>\n",
              "      <td>1</td>\n",
              "      <td>1</td>\n",
              "      <td>True</td>\n",
              "      <td>False</td>\n",
              "    </tr>\n",
              "    <tr>\n",
              "      <th>12</th>\n",
              "      <td>1</td>\n",
              "      <td>1</td>\n",
              "      <td>True</td>\n",
              "      <td>False</td>\n",
              "    </tr>\n",
              "    <tr>\n",
              "      <th>13</th>\n",
              "      <td>1</td>\n",
              "      <td>1</td>\n",
              "      <td>True</td>\n",
              "      <td>False</td>\n",
              "    </tr>\n",
              "    <tr>\n",
              "      <th>14</th>\n",
              "      <td>1</td>\n",
              "      <td>1</td>\n",
              "      <td>True</td>\n",
              "      <td>False</td>\n",
              "    </tr>\n",
              "  </tbody>\n",
              "</table>\n",
              "</div>"
            ],
            "text/plain": [
              "    ground truth  pred  correct  correct_0\n",
              "0              0     0     True       True\n",
              "1              0     0     True       True\n",
              "2              0     0     True       True\n",
              "3              0     1    False      False\n",
              "4              0     1    False      False\n",
              "5              1     0    False      False\n",
              "6              1     0    False      False\n",
              "7              1     0    False      False\n",
              "8              1     0    False      False\n",
              "9              1     1     True      False\n",
              "10             1     1     True      False\n",
              "11             1     1     True      False\n",
              "12             1     1     True      False\n",
              "13             1     1     True      False\n",
              "14             1     1     True      False"
            ]
          },
          "execution_count": 11,
          "metadata": {},
          "output_type": "execute_result"
        }
      ],
      "source": [
        "df['correct_0'] = (df['correct']) & (df['ground truth'] == 0)\n",
        "df"
      ]
    },
    {
      "cell_type": "markdown",
      "metadata": {
        "id": "c6fDiwLsBtq4"
      },
      "source": [
        "Теперь посчитаем верные срабатывания для первого класса. True Positive получилось 6 штук."
      ]
    },
    {
      "cell_type": "code",
      "execution_count": null,
      "metadata": {
        "colab": {
          "base_uri": "https://localhost:8080/",
          "height": 509
        },
        "id": "caTuOZU5Btq5",
        "outputId": "2ffde0e1-cc48-4bee-dd7e-e563c7a814d3"
      },
      "outputs": [
        {
          "data": {
            "text/html": [
              "<div>\n",
              "<style scoped>\n",
              "    .dataframe tbody tr th:only-of-type {\n",
              "        vertical-align: middle;\n",
              "    }\n",
              "\n",
              "    .dataframe tbody tr th {\n",
              "        vertical-align: top;\n",
              "    }\n",
              "\n",
              "    .dataframe thead th {\n",
              "        text-align: right;\n",
              "    }\n",
              "</style>\n",
              "<table border=\"1\" class=\"dataframe\">\n",
              "  <thead>\n",
              "    <tr style=\"text-align: right;\">\n",
              "      <th></th>\n",
              "      <th>ground truth</th>\n",
              "      <th>pred</th>\n",
              "      <th>correct</th>\n",
              "      <th>correct_0</th>\n",
              "      <th>correct_1</th>\n",
              "    </tr>\n",
              "  </thead>\n",
              "  <tbody>\n",
              "    <tr>\n",
              "      <th>0</th>\n",
              "      <td>0</td>\n",
              "      <td>0</td>\n",
              "      <td>True</td>\n",
              "      <td>True</td>\n",
              "      <td>False</td>\n",
              "    </tr>\n",
              "    <tr>\n",
              "      <th>1</th>\n",
              "      <td>0</td>\n",
              "      <td>0</td>\n",
              "      <td>True</td>\n",
              "      <td>True</td>\n",
              "      <td>False</td>\n",
              "    </tr>\n",
              "    <tr>\n",
              "      <th>2</th>\n",
              "      <td>0</td>\n",
              "      <td>0</td>\n",
              "      <td>True</td>\n",
              "      <td>True</td>\n",
              "      <td>False</td>\n",
              "    </tr>\n",
              "    <tr>\n",
              "      <th>3</th>\n",
              "      <td>0</td>\n",
              "      <td>1</td>\n",
              "      <td>False</td>\n",
              "      <td>False</td>\n",
              "      <td>False</td>\n",
              "    </tr>\n",
              "    <tr>\n",
              "      <th>4</th>\n",
              "      <td>0</td>\n",
              "      <td>1</td>\n",
              "      <td>False</td>\n",
              "      <td>False</td>\n",
              "      <td>False</td>\n",
              "    </tr>\n",
              "    <tr>\n",
              "      <th>5</th>\n",
              "      <td>1</td>\n",
              "      <td>0</td>\n",
              "      <td>False</td>\n",
              "      <td>False</td>\n",
              "      <td>False</td>\n",
              "    </tr>\n",
              "    <tr>\n",
              "      <th>6</th>\n",
              "      <td>1</td>\n",
              "      <td>0</td>\n",
              "      <td>False</td>\n",
              "      <td>False</td>\n",
              "      <td>False</td>\n",
              "    </tr>\n",
              "    <tr>\n",
              "      <th>7</th>\n",
              "      <td>1</td>\n",
              "      <td>0</td>\n",
              "      <td>False</td>\n",
              "      <td>False</td>\n",
              "      <td>False</td>\n",
              "    </tr>\n",
              "    <tr>\n",
              "      <th>8</th>\n",
              "      <td>1</td>\n",
              "      <td>0</td>\n",
              "      <td>False</td>\n",
              "      <td>False</td>\n",
              "      <td>False</td>\n",
              "    </tr>\n",
              "    <tr>\n",
              "      <th>9</th>\n",
              "      <td>1</td>\n",
              "      <td>1</td>\n",
              "      <td>True</td>\n",
              "      <td>False</td>\n",
              "      <td>True</td>\n",
              "    </tr>\n",
              "    <tr>\n",
              "      <th>10</th>\n",
              "      <td>1</td>\n",
              "      <td>1</td>\n",
              "      <td>True</td>\n",
              "      <td>False</td>\n",
              "      <td>True</td>\n",
              "    </tr>\n",
              "    <tr>\n",
              "      <th>11</th>\n",
              "      <td>1</td>\n",
              "      <td>1</td>\n",
              "      <td>True</td>\n",
              "      <td>False</td>\n",
              "      <td>True</td>\n",
              "    </tr>\n",
              "    <tr>\n",
              "      <th>12</th>\n",
              "      <td>1</td>\n",
              "      <td>1</td>\n",
              "      <td>True</td>\n",
              "      <td>False</td>\n",
              "      <td>True</td>\n",
              "    </tr>\n",
              "    <tr>\n",
              "      <th>13</th>\n",
              "      <td>1</td>\n",
              "      <td>1</td>\n",
              "      <td>True</td>\n",
              "      <td>False</td>\n",
              "      <td>True</td>\n",
              "    </tr>\n",
              "    <tr>\n",
              "      <th>14</th>\n",
              "      <td>1</td>\n",
              "      <td>1</td>\n",
              "      <td>True</td>\n",
              "      <td>False</td>\n",
              "      <td>True</td>\n",
              "    </tr>\n",
              "  </tbody>\n",
              "</table>\n",
              "</div>"
            ],
            "text/plain": [
              "    ground truth  pred  correct  correct_0  correct_1\n",
              "0              0     0     True       True      False\n",
              "1              0     0     True       True      False\n",
              "2              0     0     True       True      False\n",
              "3              0     1    False      False      False\n",
              "4              0     1    False      False      False\n",
              "5              1     0    False      False      False\n",
              "6              1     0    False      False      False\n",
              "7              1     0    False      False      False\n",
              "8              1     0    False      False      False\n",
              "9              1     1     True      False       True\n",
              "10             1     1     True      False       True\n",
              "11             1     1     True      False       True\n",
              "12             1     1     True      False       True\n",
              "13             1     1     True      False       True\n",
              "14             1     1     True      False       True"
            ]
          },
          "execution_count": 12,
          "metadata": {},
          "output_type": "execute_result"
        }
      ],
      "source": [
        "df['correct_1'] = (df['correct']) & (df['ground truth'] == 1)\n",
        "df"
      ]
    },
    {
      "cell_type": "markdown",
      "metadata": {
        "id": "sFJXMjcRBtq6"
      },
      "source": [
        "Просуммируем верные срабатывания нулевого класса и первого. В сумме вышло 9 True Positive."
      ]
    },
    {
      "cell_type": "code",
      "execution_count": null,
      "metadata": {
        "colab": {
          "base_uri": "https://localhost:8080/"
        },
        "id": "MCcT9lC9Btq7",
        "outputId": "7cf9282d-16f6-4bc8-b677-9039a55c2589"
      },
      "outputs": [
        {
          "data": {
            "text/plain": [
              "9"
            ]
          },
          "execution_count": 13,
          "metadata": {},
          "output_type": "execute_result"
        }
      ],
      "source": [
        "TP_full = df['correct_0'].sum() + df['correct_1'].sum()\n",
        "TP_full"
      ]
    },
    {
      "cell_type": "markdown",
      "metadata": {
        "id": "B7-nS4HFBtq9"
      },
      "source": [
        "Остается только поделить на общее количество объектов:"
      ]
    },
    {
      "cell_type": "code",
      "execution_count": null,
      "metadata": {
        "colab": {
          "base_uri": "https://localhost:8080/"
        },
        "id": "wxI8d3s1Btq9",
        "outputId": "82f534aa-e8cc-4dee-c9c3-356b91b4777c"
      },
      "outputs": [
        {
          "data": {
            "text/plain": [
              "0.6"
            ]
          },
          "execution_count": 14,
          "metadata": {},
          "output_type": "execute_result"
        }
      ],
      "source": [
        "micro = TP_full / df.shape[0]\n",
        "micro"
      ]
    },
    {
      "cell_type": "markdown",
      "metadata": {
        "id": "SpO7ClhiBtrA"
      },
      "source": [
        "Метрика precision по микро усреднению вышла 0.6. Метрика recall по микро усреднению тоже получится 0.6. А метрика f-score по микро усреднению, как не удивительно, тоже будет 0.6.\n",
        "\n",
        "Убедимся в этом с помощью функций `precision_score`, `recall_score`, `f1_score` и поставим им `average='micro'`."
      ]
    },
    {
      "cell_type": "code",
      "execution_count": null,
      "metadata": {
        "colab": {
          "base_uri": "https://localhost:8080/"
        },
        "id": "GI9OaLsOBtrB",
        "outputId": "b783ab61-6159-41a7-a68a-3ecf482505b3"
      },
      "outputs": [
        {
          "name": "stdout",
          "output_type": "stream",
          "text": [
            "MICRO\n",
            "precision 0.6\n",
            "recall 0.6\n",
            "f1_score 0.6\n"
          ]
        }
      ],
      "source": [
        "from sklearn.metrics import precision_score, recall_score, f1_score\n",
        "\n",
        "micro_precision = precision_score(df['ground truth'], df['pred'], average='micro')\n",
        "micro_recall = recall_score(df['ground truth'], df['pred'], average='micro')\n",
        "micro_f1_score = f1_score(df['ground truth'], df['pred'], average='micro')\n",
        "\n",
        "print(f'MICRO')\n",
        "print(f'precision {micro_precision}')\n",
        "print(f'recall {micro_recall}')\n",
        "print(f'f1_score {micro_f1_score}')"
      ]
    },
    {
      "cell_type": "markdown",
      "metadata": {
        "id": "hDGtF6YiBtrD"
      },
      "source": [
        "*Не напоминает ли что-то описание микро-усреднения и его рассчет?*\n",
        "\n",
        "Очень походит на accuracy, собственно так оно и есть, микро усреднение любой метрики (будь то precision, recall, f-score) всегда будет давать значение accuracy."
      ]
    },
    {
      "cell_type": "code",
      "execution_count": null,
      "metadata": {
        "colab": {
          "base_uri": "https://localhost:8080/"
        },
        "id": "E1vfUcCTBtrE",
        "outputId": "b98d9638-80b9-4ac8-ffeb-5de92759886f"
      },
      "outputs": [
        {
          "data": {
            "text/plain": [
              "0.6"
            ]
          },
          "execution_count": 16,
          "metadata": {},
          "output_type": "execute_result"
        }
      ],
      "source": [
        "from sklearn.metrics import accuracy_score\n",
        "\n",
        "accuracy_score(df['ground truth'], df['pred'])"
      ]
    },
    {
      "cell_type": "markdown",
      "metadata": {
        "id": "yimBuen1BtrF"
      },
      "source": [
        "Именно поэтому в `classification_report` пишется только одна цифра микро усреднения, которая показывает метрику accuracy."
      ]
    },
    {
      "cell_type": "code",
      "execution_count": null,
      "metadata": {
        "colab": {
          "base_uri": "https://localhost:8080/"
        },
        "id": "m_3bFf8TBtrG",
        "outputId": "97090340-a820-4234-f9b8-1c88c1221f70"
      },
      "outputs": [
        {
          "name": "stdout",
          "output_type": "stream",
          "text": [
            "              precision    recall  f1-score   support\n",
            "\n",
            "           0       0.43      0.60      0.50         5\n",
            "           1       0.75      0.60      0.67        10\n",
            "\n",
            "    accuracy                           0.60        15\n",
            "   macro avg       0.59      0.60      0.58        15\n",
            "weighted avg       0.64      0.60      0.61        15\n",
            "\n"
          ]
        }
      ],
      "source": [
        "print(classification_report(df['ground truth'], df['pred']))"
      ]
    },
    {
      "cell_type": "markdown",
      "metadata": {
        "id": "AiFWVFpYBtrI"
      },
      "source": [
        "## Macro"
      ]
    },
    {
      "cell_type": "markdown",
      "metadata": {
        "id": "hR2SLO6GBtrJ"
      },
      "source": [
        "Для подсчета макро усреднения сначала нужно посчитать метрику для одного класса, потом для другого и найти среднее арифметическое."
      ]
    },
    {
      "cell_type": "markdown",
      "metadata": {
        "id": "CyxYbuJrBtrK"
      },
      "source": [
        "### Precision"
      ]
    },
    {
      "cell_type": "markdown",
      "metadata": {
        "id": "ApA-gHgzBtrK"
      },
      "source": [
        "Посчитаем precision для нулевого класса.\n",
        "\n",
        "Можем руками с помощью TP и FP:"
      ]
    },
    {
      "cell_type": "code",
      "execution_count": null,
      "metadata": {
        "colab": {
          "base_uri": "https://localhost:8080/",
          "height": 509
        },
        "id": "OEJqYth9BtrL",
        "outputId": "e8bf0c75-6b4b-4a45-86a8-11aad21cc1c3"
      },
      "outputs": [
        {
          "data": {
            "text/html": [
              "<div>\n",
              "<style scoped>\n",
              "    .dataframe tbody tr th:only-of-type {\n",
              "        vertical-align: middle;\n",
              "    }\n",
              "\n",
              "    .dataframe tbody tr th {\n",
              "        vertical-align: top;\n",
              "    }\n",
              "\n",
              "    .dataframe thead th {\n",
              "        text-align: right;\n",
              "    }\n",
              "</style>\n",
              "<table border=\"1\" class=\"dataframe\">\n",
              "  <thead>\n",
              "    <tr style=\"text-align: right;\">\n",
              "      <th></th>\n",
              "      <th>ground truth</th>\n",
              "      <th>pred</th>\n",
              "    </tr>\n",
              "  </thead>\n",
              "  <tbody>\n",
              "    <tr>\n",
              "      <th>0</th>\n",
              "      <td>0</td>\n",
              "      <td>0</td>\n",
              "    </tr>\n",
              "    <tr>\n",
              "      <th>1</th>\n",
              "      <td>0</td>\n",
              "      <td>0</td>\n",
              "    </tr>\n",
              "    <tr>\n",
              "      <th>2</th>\n",
              "      <td>0</td>\n",
              "      <td>0</td>\n",
              "    </tr>\n",
              "    <tr>\n",
              "      <th>3</th>\n",
              "      <td>0</td>\n",
              "      <td>1</td>\n",
              "    </tr>\n",
              "    <tr>\n",
              "      <th>4</th>\n",
              "      <td>0</td>\n",
              "      <td>1</td>\n",
              "    </tr>\n",
              "    <tr>\n",
              "      <th>5</th>\n",
              "      <td>1</td>\n",
              "      <td>0</td>\n",
              "    </tr>\n",
              "    <tr>\n",
              "      <th>6</th>\n",
              "      <td>1</td>\n",
              "      <td>0</td>\n",
              "    </tr>\n",
              "    <tr>\n",
              "      <th>7</th>\n",
              "      <td>1</td>\n",
              "      <td>0</td>\n",
              "    </tr>\n",
              "    <tr>\n",
              "      <th>8</th>\n",
              "      <td>1</td>\n",
              "      <td>0</td>\n",
              "    </tr>\n",
              "    <tr>\n",
              "      <th>9</th>\n",
              "      <td>1</td>\n",
              "      <td>1</td>\n",
              "    </tr>\n",
              "    <tr>\n",
              "      <th>10</th>\n",
              "      <td>1</td>\n",
              "      <td>1</td>\n",
              "    </tr>\n",
              "    <tr>\n",
              "      <th>11</th>\n",
              "      <td>1</td>\n",
              "      <td>1</td>\n",
              "    </tr>\n",
              "    <tr>\n",
              "      <th>12</th>\n",
              "      <td>1</td>\n",
              "      <td>1</td>\n",
              "    </tr>\n",
              "    <tr>\n",
              "      <th>13</th>\n",
              "      <td>1</td>\n",
              "      <td>1</td>\n",
              "    </tr>\n",
              "    <tr>\n",
              "      <th>14</th>\n",
              "      <td>1</td>\n",
              "      <td>1</td>\n",
              "    </tr>\n",
              "  </tbody>\n",
              "</table>\n",
              "</div>"
            ],
            "text/plain": [
              "    ground truth  pred\n",
              "0              0     0\n",
              "1              0     0\n",
              "2              0     0\n",
              "3              0     1\n",
              "4              0     1\n",
              "5              1     0\n",
              "6              1     0\n",
              "7              1     0\n",
              "8              1     0\n",
              "9              1     1\n",
              "10             1     1\n",
              "11             1     1\n",
              "12             1     1\n",
              "13             1     1\n",
              "14             1     1"
            ]
          },
          "execution_count": 18,
          "metadata": {},
          "output_type": "execute_result"
        }
      ],
      "source": [
        "df[['ground truth', 'pred']]"
      ]
    },
    {
      "cell_type": "code",
      "execution_count": null,
      "metadata": {
        "colab": {
          "base_uri": "https://localhost:8080/"
        },
        "id": "0apPLbK2BtrM",
        "outputId": "3e8ef6c4-b6be-45d0-884c-8d572c133b39"
      },
      "outputs": [
        {
          "data": {
            "text/plain": [
              "3"
            ]
          },
          "execution_count": 19,
          "metadata": {},
          "output_type": "execute_result"
        }
      ],
      "source": [
        "TP_0 = ((df['ground truth'] == 0) & (df['pred'] == 0)).sum()\n",
        "TP_0"
      ]
    },
    {
      "cell_type": "code",
      "execution_count": null,
      "metadata": {
        "colab": {
          "base_uri": "https://localhost:8080/"
        },
        "id": "a53isl89BtrN",
        "outputId": "b66c90e9-0b51-4f2a-daa6-d11335b84378"
      },
      "outputs": [
        {
          "data": {
            "text/plain": [
              "4"
            ]
          },
          "execution_count": 20,
          "metadata": {},
          "output_type": "execute_result"
        }
      ],
      "source": [
        "FP_0 = ((df['ground truth'] == 1) & (df['pred'] == 0)).sum()\n",
        "FP_0"
      ]
    },
    {
      "cell_type": "code",
      "execution_count": null,
      "metadata": {
        "colab": {
          "base_uri": "https://localhost:8080/"
        },
        "id": "8rljwzUFBtrO",
        "outputId": "6b170718-8ad7-4ad3-f590-aacd4aeb4ef2"
      },
      "outputs": [
        {
          "data": {
            "text/plain": [
              "0.42857142857142855"
            ]
          },
          "execution_count": 21,
          "metadata": {},
          "output_type": "execute_result"
        }
      ],
      "source": [
        "precision_0 = TP_0 / (TP_0 + FP_0)\n",
        "precision_0"
      ]
    },
    {
      "cell_type": "markdown",
      "metadata": {
        "id": "rP3aMIBvBtrR"
      },
      "source": [
        "Либо тоже самое могли бы получить с помощью функции `precision_score`, если в атрибут `average` передадим `'binary'` и в атрибуте `pos_label` укажем `0`. В этом случае метрика будет считаться только для нулевого класса, считая его целевым."
      ]
    },
    {
      "cell_type": "code",
      "execution_count": null,
      "metadata": {
        "colab": {
          "base_uri": "https://localhost:8080/"
        },
        "id": "y5z3EkrGBtrS",
        "outputId": "b4881547-fe7d-4f19-a6b8-07f291706468"
      },
      "outputs": [
        {
          "data": {
            "text/plain": [
              "0.42857142857142855"
            ]
          },
          "execution_count": 22,
          "metadata": {},
          "output_type": "execute_result"
        }
      ],
      "source": [
        "precision_0 = precision_score(df['ground truth'], df['pred'],\n",
        "                              average='binary',\n",
        "                              pos_label=0)\n",
        "\n",
        "precision_0"
      ]
    },
    {
      "cell_type": "markdown",
      "metadata": {
        "id": "VALxvUaiBtrT"
      },
      "source": [
        "Посчитаем precision для первого класса. Воспользуемся функцией `precision_score`. Поменяем `pos_label` на `1`."
      ]
    },
    {
      "cell_type": "code",
      "execution_count": null,
      "metadata": {
        "colab": {
          "base_uri": "https://localhost:8080/"
        },
        "id": "JIQBVvuuBtrU",
        "outputId": "15c00c11-a2e7-48ea-9bf9-c06c5809210e"
      },
      "outputs": [
        {
          "data": {
            "text/plain": [
              "0.75"
            ]
          },
          "execution_count": 23,
          "metadata": {},
          "output_type": "execute_result"
        }
      ],
      "source": [
        "precision_1 = precision_score(df['ground truth'], df['pred'],\n",
        "                              average='binary',\n",
        "                              pos_label=1)\n",
        "\n",
        "precision_1"
      ]
    },
    {
      "cell_type": "markdown",
      "metadata": {
        "id": "vwHwQbTmBtrW"
      },
      "source": [
        "Две метрики нашли, теперь остается только найти среднее арифметическое:"
      ]
    },
    {
      "cell_type": "code",
      "execution_count": null,
      "metadata": {
        "colab": {
          "base_uri": "https://localhost:8080/"
        },
        "id": "bLLA-jgqiDUa",
        "outputId": "159c04b9-647a-4870-d290-416065f7233a"
      },
      "outputs": [
        {
          "data": {
            "text/plain": [
              "0.589"
            ]
          },
          "execution_count": 24,
          "metadata": {},
          "output_type": "execute_result"
        }
      ],
      "source": [
        "(0.428 + 0.75) / 2"
      ]
    },
    {
      "cell_type": "code",
      "execution_count": null,
      "metadata": {
        "colab": {
          "base_uri": "https://localhost:8080/"
        },
        "id": "dAIcSjWZBtrX",
        "outputId": "598cb5df-7c0f-4b3d-b2f5-7eec6ba3b035"
      },
      "outputs": [
        {
          "data": {
            "text/plain": [
              "0.5892857142857143"
            ]
          },
          "execution_count": 25,
          "metadata": {},
          "output_type": "execute_result"
        }
      ],
      "source": [
        "macro_precision = (precision_0 + precision_1) / 2\n",
        "macro_precision"
      ]
    },
    {
      "cell_type": "markdown",
      "metadata": {
        "id": "-4SxZ5ctBtrY"
      },
      "source": [
        "Метрика precision по макро усреднению вышла 0.59.\n",
        "\n",
        "Убедимся в этом с помощью функций `precision_score` и поставим ей `average='macro'`."
      ]
    },
    {
      "cell_type": "code",
      "execution_count": null,
      "metadata": {
        "colab": {
          "base_uri": "https://localhost:8080/"
        },
        "id": "zpNeSXVCBtra",
        "outputId": "d023a91d-df8f-46e5-c569-b8cbc1a0a5e6"
      },
      "outputs": [
        {
          "name": "stdout",
          "output_type": "stream",
          "text": [
            "MACRO\n",
            "precision 0.5892857142857143\n"
          ]
        }
      ],
      "source": [
        "macro_precision = precision_score(df['ground truth'], df['pred'], average='macro')\n",
        "\n",
        "print(f'MACRO')\n",
        "print(f'precision {macro_precision}')"
      ]
    },
    {
      "cell_type": "markdown",
      "metadata": {
        "id": "j2tk-jS8Btrc"
      },
      "source": [
        "### Recall"
      ]
    },
    {
      "cell_type": "markdown",
      "metadata": {
        "id": "-URSqnRoBtrd"
      },
      "source": [
        "Найдем recall по макро усреднению."
      ]
    },
    {
      "cell_type": "markdown",
      "metadata": {
        "id": "ET1kSTfQBtre"
      },
      "source": [
        "Вызовем функцию `recall_score` и в атрибут `average` передадим `'binary'`, а в атрибут `pos_label` `0`."
      ]
    },
    {
      "cell_type": "code",
      "execution_count": null,
      "metadata": {
        "colab": {
          "base_uri": "https://localhost:8080/"
        },
        "id": "oos821OIBtre",
        "outputId": "b419b191-f0cd-4a17-9346-d25048eaee29"
      },
      "outputs": [
        {
          "data": {
            "text/plain": [
              "0.6"
            ]
          },
          "execution_count": 27,
          "metadata": {},
          "output_type": "execute_result"
        }
      ],
      "source": [
        "recall_0 = recall_score(df['ground truth'], df['pred'],\n",
        "                        average='binary',\n",
        "                        pos_label=0)\n",
        "\n",
        "recall_0"
      ]
    },
    {
      "cell_type": "markdown",
      "metadata": {
        "id": "Dqb9-DoCBtrn"
      },
      "source": [
        "Посчитаем recall для первого класса. Воспользуемся функцией `recall_score`. Поменяем `pos_label` на `1`."
      ]
    },
    {
      "cell_type": "code",
      "execution_count": null,
      "metadata": {
        "colab": {
          "base_uri": "https://localhost:8080/"
        },
        "id": "13psM7L-Btro",
        "outputId": "6b7c9cdf-87e1-4b52-fb2a-92ba0b8cf163"
      },
      "outputs": [
        {
          "data": {
            "text/plain": [
              "0.6"
            ]
          },
          "execution_count": 28,
          "metadata": {},
          "output_type": "execute_result"
        }
      ],
      "source": [
        "recall_1 = recall_score(df['ground truth'], df['pred'],\n",
        "                        average='binary',\n",
        "                        pos_label=1)\n",
        "\n",
        "recall_1"
      ]
    },
    {
      "cell_type": "markdown",
      "metadata": {
        "id": "xm6YLD9iBtrq"
      },
      "source": [
        "Нашли два recall и найдем  среднее арифметическое:"
      ]
    },
    {
      "cell_type": "code",
      "execution_count": null,
      "metadata": {
        "colab": {
          "base_uri": "https://localhost:8080/"
        },
        "id": "dtGycrbCBtrw",
        "outputId": "e65e9e7d-ff84-4f17-fd64-32a7372ea933"
      },
      "outputs": [
        {
          "data": {
            "text/plain": [
              "0.6"
            ]
          },
          "execution_count": 29,
          "metadata": {},
          "output_type": "execute_result"
        }
      ],
      "source": [
        "macro_recall = (recall_0 + recall_1) / 2\n",
        "macro_recall"
      ]
    },
    {
      "cell_type": "markdown",
      "metadata": {
        "id": "4j8kx9mjBtry"
      },
      "source": [
        "Метрика recall по макро усреднению вышла 0.6.\n",
        "\n",
        "Убедимся в этом с помощью функций `recall_score` и поставим ей `average='macro'`."
      ]
    },
    {
      "cell_type": "code",
      "execution_count": null,
      "metadata": {
        "colab": {
          "base_uri": "https://localhost:8080/"
        },
        "id": "4s-IwnuuBtry",
        "outputId": "0535c869-c06e-4b78-a17f-26f374578141"
      },
      "outputs": [
        {
          "name": "stdout",
          "output_type": "stream",
          "text": [
            "MACRO\n",
            "recall 0.6\n"
          ]
        }
      ],
      "source": [
        "macro_recall = recall_score(df['ground truth'], df['pred'], average='macro')\n",
        "\n",
        "print(f'MACRO')\n",
        "print(f'recall {macro_recall}')"
      ]
    },
    {
      "cell_type": "markdown",
      "metadata": {
        "id": "XyDE8Ac2Btr1"
      },
      "source": [
        "### F-score"
      ]
    },
    {
      "cell_type": "markdown",
      "metadata": {
        "id": "ajoD3oMaBtr2"
      },
      "source": [
        "И остаётся найти f-score по макро усреднению."
      ]
    },
    {
      "cell_type": "markdown",
      "metadata": {
        "id": "kwJbwsunBtr3"
      },
      "source": [
        "Вызовем функцию `f1_score`, как всегда в атрибут `average` передадим `'binary'`, а в атрибут `pos_label` `0`."
      ]
    },
    {
      "cell_type": "code",
      "execution_count": null,
      "metadata": {
        "colab": {
          "base_uri": "https://localhost:8080/"
        },
        "id": "aq29m9ykBtr4",
        "outputId": "72983ba7-2bbd-4f76-a337-762c9a8734ae"
      },
      "outputs": [
        {
          "data": {
            "text/plain": [
              "0.5"
            ]
          },
          "execution_count": 31,
          "metadata": {},
          "output_type": "execute_result"
        }
      ],
      "source": [
        "f1_0 = f1_score(df['ground truth'], df['pred'],\n",
        "                average='binary',\n",
        "                pos_label=0)\n",
        "\n",
        "f1_0"
      ]
    },
    {
      "cell_type": "markdown",
      "metadata": {
        "id": "G7n0JX4sBtr5"
      },
      "source": [
        "Посчитаем f-score для первого класса."
      ]
    },
    {
      "cell_type": "code",
      "execution_count": null,
      "metadata": {
        "colab": {
          "base_uri": "https://localhost:8080/"
        },
        "id": "r13VjoxWBtr6",
        "outputId": "e32ae880-4573-41b1-d1ee-a1a3f78ae164"
      },
      "outputs": [
        {
          "data": {
            "text/plain": [
              "0.6666666666666665"
            ]
          },
          "execution_count": 32,
          "metadata": {},
          "output_type": "execute_result"
        }
      ],
      "source": [
        "f1_1 = f1_score(df['ground truth'], df['pred'],\n",
        "                average='binary',\n",
        "                pos_label=1)\n",
        "\n",
        "f1_1"
      ]
    },
    {
      "cell_type": "markdown",
      "metadata": {
        "id": "wCLpE2DrBtr8"
      },
      "source": [
        "Нашли две F-меры, пора усреднить их."
      ]
    },
    {
      "cell_type": "code",
      "execution_count": null,
      "metadata": {
        "colab": {
          "base_uri": "https://localhost:8080/"
        },
        "id": "hycKkQpTBtr8",
        "outputId": "6922fd87-30e8-4b29-8696-4724f49dfe81"
      },
      "outputs": [
        {
          "data": {
            "text/plain": [
              "0.5833333333333333"
            ]
          },
          "execution_count": 33,
          "metadata": {},
          "output_type": "execute_result"
        }
      ],
      "source": [
        "macro_f1 = (f1_0 + f1_1) / 2\n",
        "macro_f1"
      ]
    },
    {
      "cell_type": "markdown",
      "metadata": {
        "id": "oMcsUx6XBtr-"
      },
      "source": [
        "Метрика f1-score по макро усреднению вышла 0.58.\n",
        "\n",
        "Проверим наши вычисления с помощью функций `f1_score` и поставим ей `average='macro'`."
      ]
    },
    {
      "cell_type": "code",
      "execution_count": null,
      "metadata": {
        "colab": {
          "base_uri": "https://localhost:8080/"
        },
        "id": "CIkKPR2kBtr_",
        "outputId": "3306d4b9-87c7-4fac-aeb9-78325c5c0f8e"
      },
      "outputs": [
        {
          "name": "stdout",
          "output_type": "stream",
          "text": [
            "MACRO\n",
            "f1 0.5833333333333333\n"
          ]
        }
      ],
      "source": [
        "macro_f1 = f1_score(df['ground truth'], df['pred'], average='macro')\n",
        "\n",
        "print(f'MACRO')\n",
        "print(f'f1 {macro_f1}')"
      ]
    },
    {
      "cell_type": "markdown",
      "metadata": {
        "id": "aBdQ4wrDBtsA"
      },
      "source": [
        "И всё вместе могли бы посмотреть через `classification_report` в строке `macro`."
      ]
    },
    {
      "cell_type": "code",
      "execution_count": null,
      "metadata": {
        "colab": {
          "base_uri": "https://localhost:8080/"
        },
        "id": "TraKhJhCBtsB",
        "outputId": "a0f844e6-8e68-4cd7-bbc4-e42e4e68587b"
      },
      "outputs": [
        {
          "name": "stdout",
          "output_type": "stream",
          "text": [
            "MACRO\n",
            "precision 0.5892857142857143\n",
            "recall 0.6\n",
            "f1 0.5833333333333333\n"
          ]
        }
      ],
      "source": [
        "print(f'MACRO')\n",
        "print(f'precision {macro_precision}')\n",
        "print(f'recall {macro_recall}')\n",
        "print(f'f1 {macro_f1}')"
      ]
    },
    {
      "cell_type": "code",
      "execution_count": null,
      "metadata": {
        "colab": {
          "base_uri": "https://localhost:8080/"
        },
        "id": "wn5f9QYGBtsC",
        "outputId": "c6bd714f-0bad-447f-9ac1-c24cb23d56e2"
      },
      "outputs": [
        {
          "name": "stdout",
          "output_type": "stream",
          "text": [
            "              precision    recall  f1-score   support\n",
            "\n",
            "           0       0.43      0.60      0.50         5\n",
            "           1       0.75      0.60      0.67        10\n",
            "\n",
            "    accuracy                           0.60        15\n",
            "   macro avg       0.59      0.60      0.58        15\n",
            "weighted avg       0.64      0.60      0.61        15\n",
            "\n"
          ]
        }
      ],
      "source": [
        "print(classification_report(df['ground truth'], df['pred']))"
      ]
    },
    {
      "cell_type": "markdown",
      "metadata": {
        "id": "sAdDMW4kBtsC"
      },
      "source": [
        "## Weighted"
      ]
    },
    {
      "cell_type": "markdown",
      "metadata": {
        "id": "w5YUILNhBtsD"
      },
      "source": [
        "Начало подсчета метрики по взвешенному усреднению очень похоже на начало подсчета макро усреднения. Берем метрику для одного класса, берем метрику для другого и вместо среднего арифметического ищем взвешенное среднее."
      ]
    },
    {
      "cell_type": "markdown",
      "metadata": {
        "id": "ASbihbVKBtsE"
      },
      "source": [
        "### Precision"
      ]
    },
    {
      "cell_type": "markdown",
      "metadata": {
        "id": "ZJFz_JsZBtsE"
      },
      "source": [
        "Precision для нулевого и первого классов уже есть."
      ]
    },
    {
      "cell_type": "code",
      "execution_count": null,
      "metadata": {
        "colab": {
          "base_uri": "https://localhost:8080/"
        },
        "id": "pgNX5yvkBtsF",
        "outputId": "312a8bdf-1a1b-4d4f-dd6f-e302fc3dec73"
      },
      "outputs": [
        {
          "data": {
            "text/plain": [
              "(0.42857142857142855, 0.75)"
            ]
          },
          "execution_count": 37,
          "metadata": {},
          "output_type": "execute_result"
        }
      ],
      "source": [
        "precision_0, precision_1"
      ]
    },
    {
      "cell_type": "markdown",
      "metadata": {
        "id": "ho48aJ7PBtsG"
      },
      "source": [
        "Теперь посчитаем, сколько нулей есть в нашем наборе данных. Их пять штук."
      ]
    },
    {
      "cell_type": "code",
      "execution_count": null,
      "metadata": {
        "colab": {
          "base_uri": "https://localhost:8080/"
        },
        "id": "oKrMCPc3BtsH",
        "outputId": "1309fe86-faeb-4ceb-9a54-44c03fbdf1fd"
      },
      "outputs": [
        {
          "data": {
            "text/plain": [
              "5"
            ]
          },
          "execution_count": 38,
          "metadata": {},
          "output_type": "execute_result"
        }
      ],
      "source": [
        "zeros = (df['ground truth'] == 0).sum()\n",
        "zeros"
      ]
    },
    {
      "cell_type": "markdown",
      "metadata": {
        "id": "Dk8IY80zBtsI"
      },
      "source": [
        "И посчитаем, сколько единиц. Их 10."
      ]
    },
    {
      "cell_type": "code",
      "execution_count": null,
      "metadata": {
        "colab": {
          "base_uri": "https://localhost:8080/"
        },
        "id": "hN4Lx-iDBtsJ",
        "outputId": "5519d0b7-9894-4d4a-f1d4-fb9ad2250e5e"
      },
      "outputs": [
        {
          "data": {
            "text/plain": [
              "10"
            ]
          },
          "execution_count": 39,
          "metadata": {},
          "output_type": "execute_result"
        }
      ],
      "source": [
        "ones = (df['ground truth'] == 1).sum()\n",
        "ones"
      ]
    },
    {
      "cell_type": "markdown",
      "metadata": {
        "id": "m-D8KYOdBtsK"
      },
      "source": [
        "И так же посчитаем, сколько всего объектов в данных. Их 15."
      ]
    },
    {
      "cell_type": "code",
      "execution_count": null,
      "metadata": {
        "colab": {
          "base_uri": "https://localhost:8080/"
        },
        "id": "melyowfoBtsK",
        "outputId": "3fed4508-ca8c-475e-a6c0-ea688c1fd5c3"
      },
      "outputs": [
        {
          "data": {
            "text/plain": [
              "15"
            ]
          },
          "execution_count": 40,
          "metadata": {},
          "output_type": "execute_result"
        }
      ],
      "source": [
        "total = df.shape[0]\n",
        "total"
      ]
    },
    {
      "cell_type": "markdown",
      "metadata": {
        "id": "-o7ytH4RBtsL"
      },
      "source": [
        "Две метрики посчитаны, количество объектов каждого класса знаем, ищем взвешенное усреднение."
      ]
    },
    {
      "cell_type": "code",
      "execution_count": null,
      "metadata": {
        "colab": {
          "base_uri": "https://localhost:8080/"
        },
        "id": "eEPVHYRPBtsM",
        "outputId": "476e4c08-e569-4aff-a61d-2349393c33bd"
      },
      "outputs": [
        {
          "data": {
            "text/plain": [
              "0.6428571428571428"
            ]
          },
          "execution_count": 41,
          "metadata": {},
          "output_type": "execute_result"
        }
      ],
      "source": [
        "weighted_precision = zeros / total * precision_0 + ones / total * precision_1\n",
        "weighted_precision"
      ]
    },
    {
      "cell_type": "markdown",
      "metadata": {
        "id": "Y6k8sty-BtsN"
      },
      "source": [
        "Метрика precision по взешанному усреднению равна 0.64.\n",
        "\n",
        "Проверим себя через `precision_score` с `average='weighted'`."
      ]
    },
    {
      "cell_type": "code",
      "execution_count": null,
      "metadata": {
        "colab": {
          "base_uri": "https://localhost:8080/"
        },
        "id": "rnwhnelNBtsN",
        "outputId": "f4ac89b6-b921-4cd6-876c-643b61c0fce1"
      },
      "outputs": [
        {
          "name": "stdout",
          "output_type": "stream",
          "text": [
            "WEIGHTED\n",
            "precision 0.6428571428571428\n"
          ]
        }
      ],
      "source": [
        "weighted_precision = precision_score(df['ground truth'], df['pred'], average='weighted')\n",
        "\n",
        "print(f'WEIGHTED')\n",
        "print(f'precision {weighted_precision}')"
      ]
    },
    {
      "cell_type": "markdown",
      "metadata": {
        "id": "b2PCLs1oBtsO"
      },
      "source": [
        "### Recall"
      ]
    },
    {
      "cell_type": "code",
      "execution_count": null,
      "metadata": {
        "colab": {
          "base_uri": "https://localhost:8080/"
        },
        "id": "PqZWAXRph7nF",
        "outputId": "854e0512-2e8e-48a1-e102-d1a38eaa3643"
      },
      "outputs": [
        {
          "data": {
            "text/plain": [
              "(0.6, 0.6)"
            ]
          },
          "execution_count": 43,
          "metadata": {},
          "output_type": "execute_result"
        }
      ],
      "source": [
        "recall_0, recall_1"
      ]
    },
    {
      "cell_type": "markdown",
      "metadata": {
        "id": "wnib38i6BtsP"
      },
      "source": [
        "Найдем recall по weighted усреднению."
      ]
    },
    {
      "cell_type": "markdown",
      "metadata": {
        "id": "_YsegaRgBtsQ"
      },
      "source": [
        "Recall для обоих классов знаем, количество объектов тоже знаем, считаем взвешенное среднее для них."
      ]
    },
    {
      "cell_type": "code",
      "execution_count": null,
      "metadata": {
        "id": "YeDM0VE8BtsR",
        "outputId": "9073b0fc-79ab-456d-fb5c-0eec0e985dd3"
      },
      "outputs": [
        {
          "data": {
            "text/plain": [
              "0.6"
            ]
          },
          "execution_count": 41,
          "metadata": {},
          "output_type": "execute_result"
        }
      ],
      "source": [
        "weighted_recall = zeros / total * recall_0 + ones / total * recall_1\n",
        "weighted_recall"
      ]
    },
    {
      "cell_type": "markdown",
      "metadata": {
        "id": "MybaJQTwBtsR"
      },
      "source": [
        "Метрика recall по weighted усреднению вышла 0.6.\n",
        "\n",
        "Убедимся в этом с помощью функций `recall_score` и поставим ей `average='weighted'`."
      ]
    },
    {
      "cell_type": "code",
      "execution_count": null,
      "metadata": {
        "colab": {
          "base_uri": "https://localhost:8080/"
        },
        "id": "nN2UqhEYBtsS",
        "outputId": "8bcc1f3b-df38-4b15-b5ba-27e4de2ff5e0"
      },
      "outputs": [
        {
          "name": "stdout",
          "output_type": "stream",
          "text": [
            "WEIGHTED\n",
            "recall 0.6\n"
          ]
        }
      ],
      "source": [
        "weighted_recall = recall_score(df['ground truth'], df['pred'], average='weighted')\n",
        "\n",
        "print(f'WEIGHTED')\n",
        "print(f'recall {weighted_recall}')"
      ]
    },
    {
      "cell_type": "markdown",
      "metadata": {
        "id": "P8QjgTuDBtsT"
      },
      "source": [
        "### F-score"
      ]
    },
    {
      "cell_type": "markdown",
      "metadata": {
        "id": "G_ccXDp3BtsU"
      },
      "source": [
        "И остаётся найти f-score по взвешенному усреднению."
      ]
    },
    {
      "cell_type": "code",
      "execution_count": null,
      "metadata": {
        "id": "dli93aLwBtsU",
        "outputId": "f94e1385-91a7-4924-f979-c91446c11c98"
      },
      "outputs": [
        {
          "data": {
            "text/plain": [
              "0.6111111111111109"
            ]
          },
          "execution_count": 43,
          "metadata": {},
          "output_type": "execute_result"
        }
      ],
      "source": [
        "weighted_f1 = zeros / total * f1_0 + ones / total * f1_1\n",
        "weighted_f1"
      ]
    },
    {
      "cell_type": "markdown",
      "metadata": {
        "id": "WYwWV5r1BtsV"
      },
      "source": [
        "Метрика f1-score по взвешенному усреднению равна 0.61.\n",
        "\n",
        "Проверим наши вычисления с помощью функций `f1_score` и поставим ей `average='weighted'`."
      ]
    },
    {
      "cell_type": "code",
      "execution_count": null,
      "metadata": {
        "id": "c87UlQpKBtsW",
        "outputId": "5f424f19-dcfa-4a91-9a82-3673773247c8"
      },
      "outputs": [
        {
          "name": "stdout",
          "output_type": "stream",
          "text": [
            "weighted\n",
            "f1 0.6111111111111109\n"
          ]
        }
      ],
      "source": [
        "weighted_f1 = f1_score(df['ground truth'], df['pred'], average='weighted')\n",
        "\n",
        "print(f'WEIGHTED')\n",
        "print(f'f1 {weighted_f1}')"
      ]
    },
    {
      "cell_type": "markdown",
      "metadata": {
        "id": "3UI2wd39BtsX"
      },
      "source": [
        "И всё вместе могли бы посмотреть через `classification_report` в строке `weighted`."
      ]
    },
    {
      "cell_type": "code",
      "execution_count": null,
      "metadata": {
        "id": "hh-JLwG-BtsY",
        "outputId": "94faaa51-675d-454a-b797-37696d06dce1"
      },
      "outputs": [
        {
          "name": "stdout",
          "output_type": "stream",
          "text": [
            "WEIGHTED\n",
            "precision 0.6428571428571428\n",
            "recall 0.6\n",
            "f1 0.6111111111111109\n"
          ]
        }
      ],
      "source": [
        "print(f'WEIGHTED')\n",
        "print(f'precision {weighted_precision}')\n",
        "print(f'recall {weighted_recall}')\n",
        "print(f'f1 {weighted_f1}')"
      ]
    },
    {
      "cell_type": "code",
      "execution_count": null,
      "metadata": {
        "id": "81zsVBf1BtsZ",
        "outputId": "0cc1aae4-db32-4f9c-ae72-db3b72532117"
      },
      "outputs": [
        {
          "name": "stdout",
          "output_type": "stream",
          "text": [
            "              precision    recall  f1-score   support\n",
            "\n",
            "           0       0.43      0.60      0.50         5\n",
            "           1       0.75      0.60      0.67        10\n",
            "\n",
            "    accuracy                           0.60        15\n",
            "   macro avg       0.59      0.60      0.58        15\n",
            "weighted avg       0.64      0.60      0.61        15\n",
            "\n"
          ]
        }
      ],
      "source": [
        "print(classification_report(df['ground truth'], df['pred']))"
      ]
    },
    {
      "cell_type": "markdown",
      "metadata": {
        "id": "SMJLTMpKBtsa"
      },
      "source": [
        "# Применение усредненных метрик"
      ]
    },
    {
      "cell_type": "markdown",
      "metadata": {
        "id": "QH5bfuFzBtsb"
      },
      "source": [
        "- Во-первых, разные усреднения метрик помогают нам, когда у нас есть много классов\n",
        "- Во-вторых, разные усреднения по-разному отображают дисбаланс классов"
      ]
    },
    {
      "cell_type": "markdown",
      "metadata": {
        "id": "O6NclLXIBtsc"
      },
      "source": [
        "## Micro"
      ]
    },
    {
      "cell_type": "markdown",
      "metadata": {
        "id": "PUTGvDZRBtsc"
      },
      "source": [
        "Микро усреднение пригодится, когда в ваших данных идеальный **баланс классов**, т.к. эта метрика является, по сути, accuracy, то она перенимает все её проблемы, в частности, необъективную оценку при дисбалансе классов."
      ]
    },
    {
      "cell_type": "markdown",
      "metadata": {
        "id": "umFTFZFDBtsd"
      },
      "source": [
        "Яркий пример задача, для которой подойдет микро усреднение - это классификация рукописных цифр на картинках, задача называется MNIST и она представлена в стандартных датасетах в `sklearn`."
      ]
    },
    {
      "cell_type": "markdown",
      "metadata": {
        "id": "C621vxDfBtsd"
      },
      "source": [
        "Подгрузим себе данных с помощью функции `load_digits` из модуля `datasets`."
      ]
    },
    {
      "cell_type": "code",
      "execution_count": null,
      "metadata": {
        "colab": {
          "base_uri": "https://localhost:8080/"
        },
        "id": "-yoE3eTyBtse",
        "outputId": "abece2c0-f551-4c4a-dd37-6e83c4e0e135"
      },
      "outputs": [
        {
          "data": {
            "text/plain": [
              "((1797, 64), (1797,))"
            ]
          },
          "execution_count": 1,
          "metadata": {},
          "output_type": "execute_result"
        }
      ],
      "source": [
        "from sklearn.datasets import load_digits\n",
        "\n",
        "X, y = load_digits(return_X_y=True)\n",
        "\n",
        "X.shape, y.shape"
      ]
    },
    {
      "cell_type": "markdown",
      "metadata": {
        "id": "gspPMDpZBtsf"
      },
      "source": [
        "Данные из себя представляют черно-белые картинки цифр размерностью 8 на 8 пикселей."
      ]
    },
    {
      "cell_type": "code",
      "execution_count": null,
      "metadata": {
        "colab": {
          "base_uri": "https://localhost:8080/",
          "height": 586
        },
        "id": "x3hRSz0kBtsg",
        "outputId": "5861dc06-afb7-43eb-9fb7-1ce6602bfa57"
      },
      "outputs": [
        {
          "data": {
            "image/png": "[encoded data removed]",
            "text/plain": [
              "<Figure size 1152x720 with 15 Axes>"
            ]
          },
          "metadata": {
            "needs_background": "light"
          },
          "output_type": "display_data"
        }
      ],
      "source": [
        "import matplotlib.pyplot as plt\n",
        "plt.figure(figsize=(16, 10))\n",
        "\n",
        "for i in range(15):\n",
        "    plt.subplot(3, 5, i + 1)\n",
        "    plt.imshow(X[i,:].reshape([8,8]), cmap='gray')"
      ]
    },
    {
      "cell_type": "markdown",
      "metadata": {
        "id": "yYd8pttEBtsh"
      },
      "source": [
        "Визуализируем распределение по классам и видим, что все столбики находятся на плюс минус одной и той же отметке, так что дисбаланса классов здесь не наблюдается."
      ]
    },
    {
      "cell_type": "code",
      "execution_count": null,
      "metadata": {
        "id": "_xWgoPBSBtsh",
        "outputId": "29853596-c3b6-490e-c3f4-1fccb8852a10"
      },
      "outputs": [
        {
          "data": {
            "image/png": "[encoded data removed]",
            "text/plain": [
              "<Figure size 432x288 with 1 Axes>"
            ]
          },
          "metadata": {
            "needs_background": "light"
          },
          "output_type": "display_data"
        }
      ],
      "source": [
        "import seaborn as sns\n",
        "\n",
        "y_freq = pd.Series(y).value_counts()\n",
        "sns.barplot(x=y_freq.index, y=y_freq.values);\n",
        "plt.yticks(np.linspace(0, 180, 10));"
      ]
    },
    {
      "cell_type": "markdown",
      "metadata": {
        "id": "1j3nayywF3du"
      },
      "source": [
        "Обучим простую модель на этой задаче."
      ]
    },
    {
      "cell_type": "code",
      "execution_count": null,
      "metadata": {
        "id": "rLHCsOpiBtsk",
        "outputId": "569e8396-9c2f-4248-ac93-75f729ee6bea"
      },
      "outputs": [
        {
          "data": {
            "text/plain": [
              "DecisionTreeClassifier(max_depth=8, random_state=1)"
            ]
          },
          "execution_count": 50,
          "metadata": {},
          "output_type": "execute_result"
        }
      ],
      "source": [
        "tree = DecisionTreeClassifier(max_depth=8,\n",
        "                              random_state=1)\n",
        "\n",
        "tree.fit(X, y)"
      ]
    },
    {
      "cell_type": "code",
      "execution_count": null,
      "metadata": {
        "id": "O7zgyqt8Btsl"
      },
      "outputs": [],
      "source": [
        "pred = tree.predict(X)"
      ]
    },
    {
      "cell_type": "markdown",
      "metadata": {
        "id": "aONcQqlMGIrA"
      },
      "source": [
        "И посчитаем метрики. В среднем доля правильных ответов вышла 0.94 - это accuracy и это любая метрика по усреднению micro."
      ]
    },
    {
      "cell_type": "code",
      "execution_count": null,
      "metadata": {
        "id": "b3jp9_3vBtsl",
        "outputId": "28843f82-a392-47cd-8641-63565df9c992"
      },
      "outputs": [
        {
          "name": "stdout",
          "output_type": "stream",
          "text": [
            "              precision    recall  f1-score   support\n",
            "\n",
            "           0       0.97      0.99      0.98       178\n",
            "           1       0.87      0.95      0.91       182\n",
            "           2       0.97      0.90      0.94       177\n",
            "           3       0.91      0.87      0.89       183\n",
            "           4       0.99      0.97      0.98       181\n",
            "           5       0.96      0.96      0.96       182\n",
            "           6       1.00      0.98      0.99       181\n",
            "           7       0.96      0.97      0.96       179\n",
            "           8       0.86      0.89      0.87       174\n",
            "           9       0.87      0.89      0.88       180\n",
            "\n",
            "    accuracy                           0.94      1797\n",
            "   macro avg       0.94      0.94      0.94      1797\n",
            "weighted avg       0.94      0.94      0.94      1797\n",
            "\n"
          ]
        }
      ],
      "source": [
        "print(classification_report(y, pred))"
      ]
    },
    {
      "cell_type": "markdown",
      "metadata": {
        "id": "xN0JlaSuBtsm"
      },
      "source": [
        "## Macro"
      ]
    },
    {
      "cell_type": "markdown",
      "metadata": {
        "id": "--dNhilSBtsn"
      },
      "source": [
        "Макро усреднение используйте, когда хотите дать всем классам одинаковый вес, вне зависимости от их количества в датасете.\n",
        "\n",
        "К примеру, выявление мошеннических транзакций - таких случаев мало, но именно их нужно правильно распознавать."
      ]
    },
    {
      "cell_type": "markdown",
      "metadata": {
        "id": "WdZbsZQIBtso"
      },
      "source": [
        "Возьмем целевые значения для такой задачи, класс 0 - транзакция обычная, 1 - транзакция мошенническая.\n",
        "\n",
        "И визуализируем, теперь одного класса гораздо меньше, чем другого - наглядный дисбаланс классов."
      ]
    },
    {
      "cell_type": "code",
      "execution_count": null,
      "metadata": {
        "id": "GaoUskqcBtso",
        "outputId": "06c890a4-4b69-486b-e0be-fd9052a06bac"
      },
      "outputs": [
        {
          "data": {
            "image/png": "[encoded data removed]",
            "text/plain": [
              "<Figure size 432x288 with 1 Axes>"
            ]
          },
          "metadata": {
            "needs_background": "light"
          },
          "output_type": "display_data"
        }
      ],
      "source": [
        "target = [0, 0, 0, 0, 0, 0, 0, 0, 0, 0, 0, 0, 0, 0, 0, 0, 0, 0, 0,\n",
        "          1]\n",
        "\n",
        "y_freq = pd.Series(target).value_counts()\n",
        "sns.barplot(x=y_freq.index, y=y_freq.values);"
      ]
    },
    {
      "cell_type": "markdown",
      "metadata": {
        "id": "5fLIF_HlBtsp"
      },
      "source": [
        "Сделаем константную модель, которая всегда будет предсказывать ноль - обычная транзакция."
      ]
    },
    {
      "cell_type": "code",
      "execution_count": null,
      "metadata": {
        "id": "HCP9w5hTBtsq"
      },
      "outputs": [],
      "source": [
        "pred = np.zeros_like(target)"
      ]
    },
    {
      "cell_type": "code",
      "execution_count": null,
      "metadata": {
        "id": "M9ekddaYBtsq",
        "outputId": "a7afdda0-c68f-4803-c15d-06074b8805eb"
      },
      "outputs": [
        {
          "data": {
            "text/html": [
              "<div>\n",
              "<style scoped>\n",
              "    .dataframe tbody tr th:only-of-type {\n",
              "        vertical-align: middle;\n",
              "    }\n",
              "\n",
              "    .dataframe tbody tr th {\n",
              "        vertical-align: top;\n",
              "    }\n",
              "\n",
              "    .dataframe thead th {\n",
              "        text-align: right;\n",
              "    }\n",
              "</style>\n",
              "<table border=\"1\" class=\"dataframe\">\n",
              "  <thead>\n",
              "    <tr style=\"text-align: right;\">\n",
              "      <th></th>\n",
              "      <th>ground_truth</th>\n",
              "      <th>pred</th>\n",
              "    </tr>\n",
              "  </thead>\n",
              "  <tbody>\n",
              "    <tr>\n",
              "      <th>0</th>\n",
              "      <td>0</td>\n",
              "      <td>0</td>\n",
              "    </tr>\n",
              "    <tr>\n",
              "      <th>1</th>\n",
              "      <td>0</td>\n",
              "      <td>0</td>\n",
              "    </tr>\n",
              "    <tr>\n",
              "      <th>2</th>\n",
              "      <td>0</td>\n",
              "      <td>0</td>\n",
              "    </tr>\n",
              "    <tr>\n",
              "      <th>3</th>\n",
              "      <td>0</td>\n",
              "      <td>0</td>\n",
              "    </tr>\n",
              "    <tr>\n",
              "      <th>4</th>\n",
              "      <td>0</td>\n",
              "      <td>0</td>\n",
              "    </tr>\n",
              "    <tr>\n",
              "      <th>5</th>\n",
              "      <td>0</td>\n",
              "      <td>0</td>\n",
              "    </tr>\n",
              "    <tr>\n",
              "      <th>6</th>\n",
              "      <td>0</td>\n",
              "      <td>0</td>\n",
              "    </tr>\n",
              "    <tr>\n",
              "      <th>7</th>\n",
              "      <td>0</td>\n",
              "      <td>0</td>\n",
              "    </tr>\n",
              "    <tr>\n",
              "      <th>8</th>\n",
              "      <td>0</td>\n",
              "      <td>0</td>\n",
              "    </tr>\n",
              "    <tr>\n",
              "      <th>9</th>\n",
              "      <td>0</td>\n",
              "      <td>0</td>\n",
              "    </tr>\n",
              "    <tr>\n",
              "      <th>10</th>\n",
              "      <td>0</td>\n",
              "      <td>0</td>\n",
              "    </tr>\n",
              "    <tr>\n",
              "      <th>11</th>\n",
              "      <td>0</td>\n",
              "      <td>0</td>\n",
              "    </tr>\n",
              "    <tr>\n",
              "      <th>12</th>\n",
              "      <td>0</td>\n",
              "      <td>0</td>\n",
              "    </tr>\n",
              "    <tr>\n",
              "      <th>13</th>\n",
              "      <td>0</td>\n",
              "      <td>0</td>\n",
              "    </tr>\n",
              "    <tr>\n",
              "      <th>14</th>\n",
              "      <td>0</td>\n",
              "      <td>0</td>\n",
              "    </tr>\n",
              "    <tr>\n",
              "      <th>15</th>\n",
              "      <td>0</td>\n",
              "      <td>0</td>\n",
              "    </tr>\n",
              "    <tr>\n",
              "      <th>16</th>\n",
              "      <td>0</td>\n",
              "      <td>0</td>\n",
              "    </tr>\n",
              "    <tr>\n",
              "      <th>17</th>\n",
              "      <td>0</td>\n",
              "      <td>0</td>\n",
              "    </tr>\n",
              "    <tr>\n",
              "      <th>18</th>\n",
              "      <td>0</td>\n",
              "      <td>0</td>\n",
              "    </tr>\n",
              "    <tr>\n",
              "      <th>19</th>\n",
              "      <td>1</td>\n",
              "      <td>0</td>\n",
              "    </tr>\n",
              "  </tbody>\n",
              "</table>\n",
              "</div>"
            ],
            "text/plain": [
              "    ground_truth  pred\n",
              "0              0     0\n",
              "1              0     0\n",
              "2              0     0\n",
              "3              0     0\n",
              "4              0     0\n",
              "5              0     0\n",
              "6              0     0\n",
              "7              0     0\n",
              "8              0     0\n",
              "9              0     0\n",
              "10             0     0\n",
              "11             0     0\n",
              "12             0     0\n",
              "13             0     0\n",
              "14             0     0\n",
              "15             0     0\n",
              "16             0     0\n",
              "17             0     0\n",
              "18             0     0\n",
              "19             1     0"
            ]
          },
          "execution_count": 112,
          "metadata": {},
          "output_type": "execute_result"
        }
      ],
      "source": [
        "df = pd.DataFrame({\n",
        "    'ground_truth': target,\n",
        "    'pred': pred\n",
        "})\n",
        "\n",
        "df"
      ]
    },
    {
      "cell_type": "code",
      "execution_count": null,
      "metadata": {
        "id": "MtJF4AxmBtss",
        "outputId": "89613bb8-fe46-4928-fed6-7716fba5781d"
      },
      "outputs": [
        {
          "name": "stdout",
          "output_type": "stream",
          "text": [
            "              precision    recall  f1-score   support\n",
            "\n",
            "           0       0.95      1.00      0.97        19\n",
            "           1       0.00      0.00      0.00         1\n",
            "\n",
            "    accuracy                           0.95        20\n",
            "   macro avg       0.47      0.50      0.49        20\n",
            "weighted avg       0.90      0.95      0.93        20\n",
            "\n"
          ]
        },
        {
          "name": "stderr",
          "output_type": "stream",
          "text": [
            "/home/julia/.local/share/virtualenvs/teacher_geekbrains-kzZgunB2/lib/python3.8/site-packages/sklearn/metrics/_classification.py:1221: UndefinedMetricWarning: Precision and F-score are ill-defined and being set to 0.0 in labels with no predicted samples. Use `zero_division` parameter to control this behavior.\n",
            "  _warn_prf(average, modifier, msg_start, len(result))\n"
          ]
        }
      ],
      "source": [
        "print(classification_report(df['ground_truth'], df['pred']))"
      ]
    },
    {
      "cell_type": "markdown",
      "metadata": {
        "id": "MGhU7e5wBtst"
      },
      "source": [
        "Метрика для нулевого класса отличная: `precision 0.95, recall 1, f-score 0.97`, recall единичный, потому что нашли все объекты нулевого класса из представленных, а precision не единичный, потому что в классификацию нулевого класса попалась одна лишняя единица."
      ]
    },
    {
      "cell_type": "markdown",
      "metadata": {
        "id": "Byv6pQJgBtst"
      },
      "source": [
        "А вто с первым классом совсем всё печально, метрики нулевые.\n",
        "\n",
        "Когда смотрим на усредненную метрику по micro, то получаем высокий показатель 0.95, но наша модель ниразу не нашла мошенническую транзакцию, в чём собственно и была суть задачи, так что метрика вообще непоказательная, зато если посмотреть на macro усреднения, то эти значения больше похожи на реальную картину:\n",
        "\n",
        "- Precision - 0.47, получился из среднего арифметического $\\frac{0.95 + 0}{2} = 0.47$\n",
        "- Recall - 0.5, получился из среднего арифметического $\\frac{1 + 0}{2} = 0.5$\n",
        "- F-score - 0.49, получился из среднего арифметического $\\frac{0.97 + 0}{2} = 0.49$"
      ]
    },
    {
      "cell_type": "markdown",
      "metadata": {
        "id": "ZDRRuJphBtsu"
      },
      "source": [
        "Очевидно, что с такими метриками модель в реальный бой не пустим, значит нужно что-то исправлять.   \n",
        "Спасибо, макро усреднению, что учитывает оба класса, хоть даже объект первого класса у нас всего лишь один."
      ]
    },
    {
      "cell_type": "markdown",
      "metadata": {
        "id": "zuOKeIM_Btsv"
      },
      "source": [
        "## Weighted"
      ]
    },
    {
      "cell_type": "markdown",
      "metadata": {
        "id": "FSlrmIXpBtsv"
      },
      "source": [
        "И взвешенное усреднение используйте тогда, когда хотите дать классам вес, согласно их количеству.\n",
        "\n",
        "Например, задача классификации животных. Поставили камеру на улицах обычного российского города и хотим считать, сколько раз каждое животное появляется.\n",
        "\n",
        "Обучались на трех классах - кошки, голуби и пингвины."
      ]
    },
    {
      "cell_type": "markdown",
      "metadata": {
        "id": "5LBwhkzzBtsw"
      },
      "source": [
        "Очевидно, что на улицах пингвины просто так ходить не будут, поэтому данный класс нам не очень интересно находить с идеальными метриками, поэтому мы можем им немного пренебречь и учитывать его с соответствующим весом."
      ]
    },
    {
      "cell_type": "markdown",
      "metadata": {
        "id": "Rk9u3E9-Btsw"
      },
      "source": [
        "Возьмем целевые значения для задачи классификации животных, класс 0 - кот, 1 - голубь, 2 - пингвин.\n",
        "\n",
        "И визуализируем, снова дисбаланс классов."
      ]
    },
    {
      "cell_type": "code",
      "execution_count": null,
      "metadata": {
        "id": "jv0ibfwtBtsx",
        "outputId": "ac4be8b3-dfd2-4226-ba86-b6ba312731cf"
      },
      "outputs": [
        {
          "data": {
            "image/png": "[encoded data removed]",
            "text/plain": [
              "<Figure size 432x288 with 1 Axes>"
            ]
          },
          "metadata": {
            "needs_background": "light"
          },
          "output_type": "display_data"
        }
      ],
      "source": [
        "target = [0, 0, 0, 0, 0, 0, 0,\n",
        "          1, 1, 1, 1, 1, 1, 1, 1, 1, 1, 1, 1,\n",
        "          2]\n",
        "\n",
        "y_freq = pd.Series(target).value_counts()\n",
        "sns.barplot(x=y_freq.index, y=y_freq.values);"
      ]
    },
    {
      "cell_type": "markdown",
      "metadata": {
        "id": "Sz6ELBPjBtsy"
      },
      "source": [
        "Сделаем модель, которая научилась отличать кота от голубя самым лучшим образом, но она так и не выучила пингвина."
      ]
    },
    {
      "cell_type": "code",
      "execution_count": null,
      "metadata": {
        "id": "0ELXoauRBtsz"
      },
      "outputs": [],
      "source": [
        "pred = [0, 0, 0, 0, 0, 0, 0,\n",
        "        1, 1, 1, 1, 1, 1, 1, 1, 1, 1, 1, 1,\n",
        "        1]"
      ]
    },
    {
      "cell_type": "code",
      "execution_count": null,
      "metadata": {
        "id": "txeQeDPUBtsz",
        "outputId": "1b6c0a5b-a02e-481a-894c-76e8dcd4d100"
      },
      "outputs": [
        {
          "data": {
            "text/html": [
              "<div>\n",
              "<style scoped>\n",
              "    .dataframe tbody tr th:only-of-type {\n",
              "        vertical-align: middle;\n",
              "    }\n",
              "\n",
              "    .dataframe tbody tr th {\n",
              "        vertical-align: top;\n",
              "    }\n",
              "\n",
              "    .dataframe thead th {\n",
              "        text-align: right;\n",
              "    }\n",
              "</style>\n",
              "<table border=\"1\" class=\"dataframe\">\n",
              "  <thead>\n",
              "    <tr style=\"text-align: right;\">\n",
              "      <th></th>\n",
              "      <th>ground_truth</th>\n",
              "      <th>pred</th>\n",
              "    </tr>\n",
              "  </thead>\n",
              "  <tbody>\n",
              "    <tr>\n",
              "      <th>0</th>\n",
              "      <td>0</td>\n",
              "      <td>0</td>\n",
              "    </tr>\n",
              "    <tr>\n",
              "      <th>1</th>\n",
              "      <td>0</td>\n",
              "      <td>0</td>\n",
              "    </tr>\n",
              "    <tr>\n",
              "      <th>2</th>\n",
              "      <td>0</td>\n",
              "      <td>0</td>\n",
              "    </tr>\n",
              "    <tr>\n",
              "      <th>3</th>\n",
              "      <td>0</td>\n",
              "      <td>0</td>\n",
              "    </tr>\n",
              "    <tr>\n",
              "      <th>4</th>\n",
              "      <td>0</td>\n",
              "      <td>0</td>\n",
              "    </tr>\n",
              "    <tr>\n",
              "      <th>5</th>\n",
              "      <td>0</td>\n",
              "      <td>0</td>\n",
              "    </tr>\n",
              "    <tr>\n",
              "      <th>6</th>\n",
              "      <td>0</td>\n",
              "      <td>0</td>\n",
              "    </tr>\n",
              "    <tr>\n",
              "      <th>7</th>\n",
              "      <td>1</td>\n",
              "      <td>1</td>\n",
              "    </tr>\n",
              "    <tr>\n",
              "      <th>8</th>\n",
              "      <td>1</td>\n",
              "      <td>1</td>\n",
              "    </tr>\n",
              "    <tr>\n",
              "      <th>9</th>\n",
              "      <td>1</td>\n",
              "      <td>1</td>\n",
              "    </tr>\n",
              "    <tr>\n",
              "      <th>10</th>\n",
              "      <td>1</td>\n",
              "      <td>1</td>\n",
              "    </tr>\n",
              "    <tr>\n",
              "      <th>11</th>\n",
              "      <td>1</td>\n",
              "      <td>1</td>\n",
              "    </tr>\n",
              "    <tr>\n",
              "      <th>12</th>\n",
              "      <td>1</td>\n",
              "      <td>1</td>\n",
              "    </tr>\n",
              "    <tr>\n",
              "      <th>13</th>\n",
              "      <td>1</td>\n",
              "      <td>1</td>\n",
              "    </tr>\n",
              "    <tr>\n",
              "      <th>14</th>\n",
              "      <td>1</td>\n",
              "      <td>1</td>\n",
              "    </tr>\n",
              "    <tr>\n",
              "      <th>15</th>\n",
              "      <td>1</td>\n",
              "      <td>1</td>\n",
              "    </tr>\n",
              "    <tr>\n",
              "      <th>16</th>\n",
              "      <td>1</td>\n",
              "      <td>1</td>\n",
              "    </tr>\n",
              "    <tr>\n",
              "      <th>17</th>\n",
              "      <td>1</td>\n",
              "      <td>1</td>\n",
              "    </tr>\n",
              "    <tr>\n",
              "      <th>18</th>\n",
              "      <td>1</td>\n",
              "      <td>1</td>\n",
              "    </tr>\n",
              "    <tr>\n",
              "      <th>19</th>\n",
              "      <td>2</td>\n",
              "      <td>1</td>\n",
              "    </tr>\n",
              "  </tbody>\n",
              "</table>\n",
              "</div>"
            ],
            "text/plain": [
              "    ground_truth  pred\n",
              "0              0     0\n",
              "1              0     0\n",
              "2              0     0\n",
              "3              0     0\n",
              "4              0     0\n",
              "5              0     0\n",
              "6              0     0\n",
              "7              1     1\n",
              "8              1     1\n",
              "9              1     1\n",
              "10             1     1\n",
              "11             1     1\n",
              "12             1     1\n",
              "13             1     1\n",
              "14             1     1\n",
              "15             1     1\n",
              "16             1     1\n",
              "17             1     1\n",
              "18             1     1\n",
              "19             2     1"
            ]
          },
          "execution_count": 116,
          "metadata": {},
          "output_type": "execute_result"
        }
      ],
      "source": [
        "df = pd.DataFrame({\n",
        "    'ground_truth': target,\n",
        "    'pred': pred\n",
        "})\n",
        "\n",
        "df"
      ]
    },
    {
      "cell_type": "code",
      "execution_count": null,
      "metadata": {
        "id": "nHPFJ97fBts1",
        "outputId": "cdc54924-0042-4043-d49f-b2e36632f4ee"
      },
      "outputs": [
        {
          "name": "stdout",
          "output_type": "stream",
          "text": [
            "              precision    recall  f1-score   support\n",
            "\n",
            "           0       1.00      1.00      1.00         7\n",
            "           1       0.92      1.00      0.96        12\n",
            "           2       0.00      0.00      0.00         1\n",
            "\n",
            "    accuracy                           0.95        20\n",
            "   macro avg       0.64      0.67      0.65        20\n",
            "weighted avg       0.90      0.95      0.93        20\n",
            "\n"
          ]
        },
        {
          "name": "stderr",
          "output_type": "stream",
          "text": [
            "/home/julia/.local/share/virtualenvs/teacher_geekbrains-kzZgunB2/lib/python3.8/site-packages/sklearn/metrics/_classification.py:1221: UndefinedMetricWarning: Precision and F-score are ill-defined and being set to 0.0 in labels with no predicted samples. Use `zero_division` parameter to control this behavior.\n",
            "  _warn_prf(average, modifier, msg_start, len(result))\n"
          ]
        }
      ],
      "source": [
        "print(classification_report(df['ground_truth'], df['pred']))"
      ]
    },
    {
      "cell_type": "markdown",
      "metadata": {
        "id": "sni7ilR2Bts2"
      },
      "source": [
        "0. Метрика для нулевого класса (кот) отличная: `precision 1, recall 1, f-score 1`.  \n",
        "1. С первым классом (голубь) чуть похуже: `precision 0.92, recall 1, f-score 0.96`, потому что в первый класс случайно занесли нецелевой объект (в пингвине увидели голубя), то есть вышла не самая чистая классификация, есть ошибка ложного срабатывания.\n",
        "2. А вот со вторым классом (пингвин) совсем беда, его ниразу не классифицировали, но и в целом, мы не ожидаем пингвинов в городе."
      ]
    },
    {
      "cell_type": "markdown",
      "metadata": {
        "id": "pBabvv3cBts2"
      },
      "source": [
        "Если посмотрим на усредненную метрику по macro усреднения, то получаем посредственную модель, хотя для стандартного города, в котором ходят только голуби и коты, модель что надо.\n",
        "\n",
        "Поэтому в этом случае нужно смотреть на взвешенное усреднение:\n",
        "\n",
        "- **Precision** - 0.9, получился из взвешенного среднего $$\\frac{7}{20} \\cdot 1 + \\frac{12}{20} \\cdot 0.92 + \\frac{1}{20} \\cdot 0 = 0.9$$\n",
        "\n",
        "7 котов с идеальным precision, 12 голубей с хорошим precision и 1 пингвин с плохим precision\n",
        "\n",
        "- **Recall** - 0.95, получился из взвешенного среднего  $$\\frac{7}{20} \\cdot 1 + \\frac{12}{20} \\cdot 1 + \\frac{1}{20} \\cdot 0 = 0.95$$\n",
        "\n",
        "7 котов с идеальным recall, 12 голубей с идеальным recall и 1 пингвин с плохим recall\n",
        "\n",
        "- **F-score** - 0.93, получился из взвешенного среднего  $$\\frac{7}{20} \\cdot 1 + \\frac{12}{20} \\cdot 0.96 + \\frac{1}{20} \\cdot 0 = 0.93$$\n",
        "\n",
        "7 котов с идеальным f-score, 12 голубей с хорошим f-score и 1 пингвин с плохим f-score\n"
      ]
    },
    {
      "cell_type": "markdown",
      "metadata": {
        "id": "RQWwiOf6Bts7"
      },
      "source": [
        "Метрики вышли хорошие, значит смело можем устанавливать камеру с такой моделью и наблюдать за животными в городе, пингвин появится на улице очень маловероятно."
      ]
    },
    {
      "cell_type": "markdown",
      "metadata": {
        "id": "IoHK1woXcHkk"
      },
      "source": [
        "# Summary"
      ]
    },
    {
      "cell_type": "markdown",
      "metadata": {
        "id": "2tMycW_yBts9"
      },
      "source": [
        "В этом занятии посмотрели на разные усреднения метрик для задачи классификации."
      ]
    },
    {
      "cell_type": "markdown",
      "metadata": {
        "id": "R4KYbNBiKOIo"
      },
      "source": [
        "<table>\n",
        "\n",
        "<tr>\n",
        "<td>\n",
        "Усреднение\n",
        "</td>\n",
        "\n",
        "<td>\n",
        "Формула\n",
        "</td>\n",
        "\n",
        "<td>\n",
        "Когда использовать\n",
        "</td>\n",
        "\n",
        "</tr>\n",
        "\n",
        "<tr>\n",
        "<td>\n",
        "Micro\n",
        "</td>\n",
        "\n",
        "<td>\n",
        "\n",
        "$$\\frac{TP + TN}{TP + FP + TN + FN}$$\n",
        "\n",
        "</td>\n",
        "\n",
        "<td>\n",
        "Когда НЕТ дисбаланса классов\n",
        "</td>\n",
        "\n",
        "</tr>\n",
        "\n",
        "\n",
        "\n",
        "<tr>\n",
        "<td>\n",
        "Macro\n",
        "</td>\n",
        "\n",
        "<td>\n",
        "\n",
        "$$\\frac{1}{K}\\sum_{i=0}^K{m_i}$$<br>\n",
        "где $K$ - кол-во классов,<br> $m_i$ - метрика для $i$-го класса\n",
        "\n",
        "</td>\n",
        "\n",
        "<td>\n",
        "Когда есть дисбаланс классов<br>Важен каждый класс\n",
        "\n",
        "</td>\n",
        "\n",
        "</tr>\n",
        "\n",
        "\n",
        "<tr>\n",
        "<td>\n",
        "Weighted\n",
        "</td>\n",
        "\n",
        "<td>\n",
        "\n",
        "$$\\sum_{i=0}^K{\\frac{n_i}{N}\\cdot m_i}$$<br>\n",
        "где $K$ - кол-во классов,<br> $m_i$ - метрика для i-го класса,<br>\n",
        "$n_i$ - кол-во объектов $i$-го класса,<br>\n",
        "$N$ - кол-во объектов в выборке\n",
        "\n",
        "</td>\n",
        "\n",
        "<td>\n",
        "Когда есть дисбаланс классов<br>Важны наибольшие классы\n",
        "\n",
        "</td>\n",
        "\n",
        "</tr>\n",
        "\n",
        "\n",
        "<table>"
      ]
    },
    {
      "cell_type": "markdown",
      "metadata": {
        "id": "QW0xL8P8hkxY"
      },
      "source": [
        "В целом, метрики используются для того, чтобы получить цифру оценки качества работы обученной модели, чтобы уже заранее знать, чего ожидать от модели, когда ей будем давать реальные данные, а также метрики можем использовать для обнаружения переобучения/недообучения."
      ]
    }
  ],
  "metadata": {
    "colab": {
      "provenance": []
    },
    "kernelspec": {
      "display_name": "Python 3",
      "language": "python",
      "name": "python3"
    },
    "language_info": {
      "codemirror_mode": {
        "name": "ipython",
        "version": 3
      },
      "file_extension": ".py",
      "mimetype": "text/x-python",
      "name": "python",
      "nbconvert_exporter": "python",
      "pygments_lexer": "ipython3",
      "version": "3.8.10"
    }
  },
  "nbformat": 4,
  "nbformat_minor": 0
}
