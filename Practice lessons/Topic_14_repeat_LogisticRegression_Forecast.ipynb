{
  "metadata": {
    "kernelspec": {
      "language": "python",
      "display_name": "Python 3",
      "name": "python3"
    },
    "language_info": {
      "name": "python",
      "version": "3.10.14",
      "mimetype": "text/x-python",
      "codemirror_mode": {
        "name": "ipython",
        "version": 3
      },
      "pygments_lexer": "ipython3",
      "nbconvert_exporter": "python",
      "file_extension": ".py"
    },
    "kaggle": {
      "accelerator": "none",
      "dataSources": [
        {
          "sourceId": 9819966,
          "sourceType": "datasetVersion",
          "datasetId": 6021071
        }
      ],
      "dockerImageVersionId": 30786,
      "isInternetEnabled": true,
      "language": "python",
      "sourceType": "notebook",
      "isGpuEnabled": false
    },
    "colab": {
      "name": "Topic_14_repeat_LogisticRegression_Forecast",
      "provenance": []
    }
  },
  "nbformat_minor": 0,
  "nbformat": 4,
  "cells": [
    {
      "source": [
        "import kagglehub\n",
        "zeeshier_weather_forecast_dataset_path = kagglehub.dataset_download('zeeshier/weather-forecast-dataset')\n",
        "\n",
        "print('Data source import complete.')\n"
      ],
      "metadata": {
        "id": "NAwj_nEaC5aU"
      },
      "cell_type": "code",
      "outputs": [],
      "execution_count": null
    },
    {
      "cell_type": "code",
      "source": [],
      "metadata": {
        "id": "RLFGTU2jDFUm"
      },
      "execution_count": null,
      "outputs": []
    },
    {
      "cell_type": "code",
      "source": [
        "import pandas as pd\n",
        "import matplotlib.pyplot as plt\n",
        "\n",
        "import pandas as pd\n",
        "import numpy as np\n",
        "from sklearn.model_selection import train_test_split\n",
        "from sklearn.ensemble import RandomForestClassifier\n",
        "from sklearn.linear_model import LogisticRegression\n",
        "from sklearn.metrics import accuracy_score, confusion_matrix, classification_report"
      ],
      "metadata": {
        "_uuid": "8f2839f25d086af736a60e9eeb907d3b93b6e0e5",
        "_cell_guid": "b1076dfc-b9ad-4769-8c92-a6c4dae69d19",
        "trusted": true,
        "execution": {
          "iopub.status.busy": "2024-11-23T10:31:03.742503Z",
          "iopub.execute_input": "2024-11-23T10:31:03.742992Z",
          "iopub.status.idle": "2024-11-23T10:31:06.878621Z",
          "shell.execute_reply.started": "2024-11-23T10:31:03.742941Z",
          "shell.execute_reply": "2024-11-23T10:31:06.877615Z"
        },
        "id": "W39upOO3C5aU"
      },
      "outputs": [],
      "execution_count": null
    },
    {
      "cell_type": "code",
      "source": [
        "file_path = '/kaggle/input/weather-forecast-dataset/weather_forecast_data.csv'\n",
        "\n",
        "df = pd.read_csv(file_path)\n",
        "\n",
        "df.head()"
      ],
      "metadata": {
        "trusted": true,
        "execution": {
          "iopub.status.busy": "2024-11-23T10:31:10.503674Z",
          "iopub.execute_input": "2024-11-23T10:31:10.504177Z",
          "iopub.status.idle": "2024-11-23T10:31:10.556059Z",
          "shell.execute_reply.started": "2024-11-23T10:31:10.504142Z",
          "shell.execute_reply": "2024-11-23T10:31:10.55486Z"
        },
        "id": "Ub4t1bCeC5aV"
      },
      "outputs": [],
      "execution_count": null
    },
    {
      "cell_type": "code",
      "source": [
        "df.info()"
      ],
      "metadata": {
        "trusted": true,
        "execution": {
          "iopub.status.busy": "2024-11-23T10:31:25.05163Z",
          "iopub.execute_input": "2024-11-23T10:31:25.052Z",
          "iopub.status.idle": "2024-11-23T10:31:25.080653Z",
          "shell.execute_reply.started": "2024-11-23T10:31:25.051968Z",
          "shell.execute_reply": "2024-11-23T10:31:25.079241Z"
        },
        "id": "Q6K8ivDYC5aV"
      },
      "outputs": [],
      "execution_count": null
    },
    {
      "cell_type": "code",
      "source": [
        "df['Rain'].value_counts()"
      ],
      "metadata": {
        "trusted": true,
        "execution": {
          "iopub.status.busy": "2024-11-23T10:32:57.03158Z",
          "iopub.execute_input": "2024-11-23T10:32:57.031975Z",
          "iopub.status.idle": "2024-11-23T10:32:57.040857Z",
          "shell.execute_reply.started": "2024-11-23T10:32:57.031937Z",
          "shell.execute_reply": "2024-11-23T10:32:57.039643Z"
        },
        "id": "dkRTKueDC5aV"
      },
      "outputs": [],
      "execution_count": null
    },
    {
      "cell_type": "code",
      "source": [
        "df['Rain'] = df['Rain'].map({'no rain': 0, 'rain': 1})\n"
      ],
      "metadata": {
        "trusted": true,
        "execution": {
          "iopub.status.busy": "2024-11-23T10:34:07.162259Z",
          "iopub.execute_input": "2024-11-23T10:34:07.162654Z",
          "iopub.status.idle": "2024-11-23T10:34:07.168472Z",
          "shell.execute_reply.started": "2024-11-23T10:34:07.162617Z",
          "shell.execute_reply": "2024-11-23T10:34:07.167526Z"
        },
        "id": "o5x3OLwRC5aV"
      },
      "outputs": [],
      "execution_count": null
    },
    {
      "cell_type": "code",
      "source": [
        "df.duplicated().sum()"
      ],
      "metadata": {
        "trusted": true,
        "execution": {
          "iopub.status.busy": "2024-11-23T10:35:41.517209Z",
          "iopub.execute_input": "2024-11-23T10:35:41.517693Z",
          "iopub.status.idle": "2024-11-23T10:35:41.526983Z",
          "shell.execute_reply.started": "2024-11-23T10:35:41.517643Z",
          "shell.execute_reply": "2024-11-23T10:35:41.525969Z"
        },
        "id": "VbL3xOp-C5aV"
      },
      "outputs": [],
      "execution_count": null
    },
    {
      "cell_type": "code",
      "source": [
        "from imblearn.over_sampling import SMOTE\n",
        "\n",
        "X = df.drop('Rain', axis=1)\n",
        "y = df['Rain']\n",
        "\n",
        "X_train, X_test, y_train, y_test = train_test_split(X, y, test_size=0.2, random_state=42)\n",
        "\n",
        "\n",
        "smote = SMOTE(random_state=42)\n",
        "X_train, y_train = smote.fit_resample(X_train, y_train)"
      ],
      "metadata": {
        "trusted": true,
        "execution": {
          "iopub.status.busy": "2024-11-23T10:44:12.252582Z",
          "iopub.execute_input": "2024-11-23T10:44:12.253025Z",
          "iopub.status.idle": "2024-11-23T10:44:12.268406Z",
          "shell.execute_reply.started": "2024-11-23T10:44:12.252989Z",
          "shell.execute_reply": "2024-11-23T10:44:12.267458Z"
        },
        "id": "LwKTm40zC5aW"
      },
      "outputs": [],
      "execution_count": null
    },
    {
      "cell_type": "code",
      "source": [
        "lr_model = LogisticRegression(max_iter=1000)\n",
        "lr_model.fit(X_train, y_train)"
      ],
      "metadata": {
        "trusted": true,
        "execution": {
          "iopub.status.busy": "2024-11-23T10:44:59.062639Z",
          "iopub.execute_input": "2024-11-23T10:44:59.063006Z",
          "iopub.status.idle": "2024-11-23T10:44:59.097902Z",
          "shell.execute_reply.started": "2024-11-23T10:44:59.062978Z",
          "shell.execute_reply": "2024-11-23T10:44:59.095985Z"
        },
        "id": "c-q4PhBRC5aW"
      },
      "outputs": [],
      "execution_count": null
    },
    {
      "cell_type": "code",
      "source": [
        "y_pred_lr = lr_model.predict(X_test)\n"
      ],
      "metadata": {
        "trusted": true,
        "execution": {
          "iopub.status.busy": "2024-11-23T10:45:56.139278Z",
          "iopub.execute_input": "2024-11-23T10:45:56.139701Z",
          "iopub.status.idle": "2024-11-23T10:45:56.145786Z",
          "shell.execute_reply.started": "2024-11-23T10:45:56.139659Z",
          "shell.execute_reply": "2024-11-23T10:45:56.144696Z"
        },
        "id": "HTazLXoUC5aW"
      },
      "outputs": [],
      "execution_count": null
    },
    {
      "cell_type": "code",
      "source": [
        "print(classification_report(y_test, y_pred_lr))"
      ],
      "metadata": {
        "trusted": true,
        "execution": {
          "iopub.status.busy": "2024-11-23T10:46:48.006868Z",
          "iopub.execute_input": "2024-11-23T10:46:48.007764Z",
          "iopub.status.idle": "2024-11-23T10:46:48.02193Z",
          "shell.execute_reply.started": "2024-11-23T10:46:48.007724Z",
          "shell.execute_reply": "2024-11-23T10:46:48.020758Z"
        },
        "id": "-2FrKUPjC5aW"
      },
      "outputs": [],
      "execution_count": null
    },
    {
      "cell_type": "code",
      "source": [
        "print(accuracy_score(y_test, y_pred_lr))"
      ],
      "metadata": {
        "trusted": true,
        "execution": {
          "iopub.status.busy": "2024-11-23T10:47:35.392498Z",
          "iopub.execute_input": "2024-11-23T10:47:35.393267Z",
          "iopub.status.idle": "2024-11-23T10:47:35.400043Z",
          "shell.execute_reply.started": "2024-11-23T10:47:35.393227Z",
          "shell.execute_reply": "2024-11-23T10:47:35.398861Z"
        },
        "id": "vCysb1WOC5aW"
      },
      "outputs": [],
      "execution_count": null
    },
    {
      "cell_type": "code",
      "source": [
        "rf_model = RandomForestClassifier(random_state=42)\n",
        "rf_model.fit(X_train, y_train)"
      ],
      "metadata": {
        "trusted": true,
        "execution": {
          "iopub.status.busy": "2024-11-23T10:50:01.447404Z",
          "iopub.execute_input": "2024-11-23T10:50:01.448131Z",
          "iopub.status.idle": "2024-11-23T10:50:01.862839Z",
          "shell.execute_reply.started": "2024-11-23T10:50:01.448091Z",
          "shell.execute_reply": "2024-11-23T10:50:01.861764Z"
        },
        "id": "Iq4-apzGC5aW"
      },
      "outputs": [],
      "execution_count": null
    },
    {
      "cell_type": "code",
      "source": [
        "rf_predict = rf_model.predict(X_test)"
      ],
      "metadata": {
        "trusted": true,
        "execution": {
          "iopub.status.busy": "2024-11-23T10:50:24.642611Z",
          "iopub.execute_input": "2024-11-23T10:50:24.642972Z",
          "iopub.status.idle": "2024-11-23T10:50:24.659176Z",
          "shell.execute_reply.started": "2024-11-23T10:50:24.64294Z",
          "shell.execute_reply": "2024-11-23T10:50:24.658327Z"
        },
        "id": "BeYxH417C5aW"
      },
      "outputs": [],
      "execution_count": null
    },
    {
      "cell_type": "code",
      "source": [
        "print(classification_report(y_test, rf_predict))"
      ],
      "metadata": {
        "trusted": true,
        "execution": {
          "iopub.status.busy": "2024-11-23T10:50:58.862468Z",
          "iopub.execute_input": "2024-11-23T10:50:58.86287Z",
          "iopub.status.idle": "2024-11-23T10:50:58.877324Z",
          "shell.execute_reply.started": "2024-11-23T10:50:58.862836Z",
          "shell.execute_reply": "2024-11-23T10:50:58.876224Z"
        },
        "id": "fjVPZPPEC5aW"
      },
      "outputs": [],
      "execution_count": null
    },
    {
      "cell_type": "code",
      "source": [
        "print(accuracy_score(y_test, rf_predict))"
      ],
      "metadata": {
        "trusted": true,
        "execution": {
          "iopub.status.busy": "2024-11-23T10:51:24.847319Z",
          "iopub.execute_input": "2024-11-23T10:51:24.848021Z",
          "iopub.status.idle": "2024-11-23T10:51:24.85462Z",
          "shell.execute_reply.started": "2024-11-23T10:51:24.84798Z",
          "shell.execute_reply": "2024-11-23T10:51:24.853518Z"
        },
        "id": "-EjWPxG1C5aW"
      },
      "outputs": [],
      "execution_count": null
    }
  ]
}