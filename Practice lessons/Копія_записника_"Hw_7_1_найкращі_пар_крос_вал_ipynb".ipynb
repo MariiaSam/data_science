{
  "nbformat": 4,
  "nbformat_minor": 0,
  "metadata": {
    "colab": {
      "provenance": []
    },
    "kernelspec": {
      "name": "python3",
      "display_name": "Python 3"
    },
    "language_info": {
      "name": "python"
    }
  },
  "cells": [
    {
      "cell_type": "code",
      "execution_count": null,
      "metadata": {
        "colab": {
          "base_uri": "https://localhost:8080/"
        },
        "id": "JX1Dopvv6saB",
        "outputId": "1bd16474-2e39-4c3f-ad84-f6e4c622bf7d"
      },
      "outputs": [
        {
          "output_type": "stream",
          "name": "stdout",
          "text": [
            "Requirement already satisfied: surprise in /usr/local/lib/python3.10/dist-packages (0.1)\n",
            "Requirement already satisfied: scikit-surprise in /usr/local/lib/python3.10/dist-packages (from surprise) (1.1.4)\n",
            "Requirement already satisfied: joblib>=1.2.0 in /usr/local/lib/python3.10/dist-packages (from scikit-surprise->surprise) (1.4.2)\n",
            "Requirement already satisfied: numpy>=1.19.5 in /usr/local/lib/python3.10/dist-packages (from scikit-surprise->surprise) (1.25.2)\n",
            "Requirement already satisfied: scipy>=1.6.0 in /usr/local/lib/python3.10/dist-packages (from scikit-surprise->surprise) (1.11.4)\n"
          ]
        }
      ],
      "source": [
        "\n",
        "!pip install surprise"
      ]
    },
    {
      "cell_type": "code",
      "source": [
        "import numpy as np\n",
        "import pandas as pd\n",
        "import matplotlib.pyplot as plt\n",
        "from surprise import Dataset, Reader, SVD, SVDpp, NMF\n",
        "from surprise.model_selection import cross_validate, GridSearchCV, train_test_split\n",
        "import random"
      ],
      "metadata": {
        "id": "NX44h46R7AdP"
      },
      "execution_count": null,
      "outputs": []
    },
    {
      "cell_type": "code",
      "source": [
        "# завантаження датасету\n",
        "data = Dataset.load_builtin('ml-100k')\n",
        "\n",
        "# Отримання raw ratings\n",
        "raw_ratings = data.raw_ratings\n",
        "\n",
        "# вивантаження у форматі pd DataFrame для перегляду\n",
        "\n",
        "df = pd.DataFrame(raw_ratings, columns=['user', 'item', 'rating', 'timestamp'])\n",
        "\n",
        "df.head()"
      ],
      "metadata": {
        "colab": {
          "base_uri": "https://localhost:8080/",
          "height": 206
        },
        "id": "bPvgpgbF66my",
        "outputId": "aead58e1-b5a7-43ff-9a2c-f9078f06e5a2"
      },
      "execution_count": null,
      "outputs": [
        {
          "output_type": "execute_result",
          "data": {
            "text/plain": [
              "  user item  rating  timestamp\n",
              "0  196  242     3.0  881250949\n",
              "1  186  302     3.0  891717742\n",
              "2   22  377     1.0  878887116\n",
              "3  244   51     2.0  880606923\n",
              "4  166  346     1.0  886397596"
            ],
            "text/html": [
              "\n",
              "  <div id=\"df-1ffd7c05-3285-4d6b-bc09-a97143751520\" class=\"colab-df-container\">\n",
              "    <div>\n",
              "<style scoped>\n",
              "    .dataframe tbody tr th:only-of-type {\n",
              "        vertical-align: middle;\n",
              "    }\n",
              "\n",
              "    .dataframe tbody tr th {\n",
              "        vertical-align: top;\n",
              "    }\n",
              "\n",
              "    .dataframe thead th {\n",
              "        text-align: right;\n",
              "    }\n",
              "</style>\n",
              "<table border=\"1\" class=\"dataframe\">\n",
              "  <thead>\n",
              "    <tr style=\"text-align: right;\">\n",
              "      <th></th>\n",
              "      <th>user</th>\n",
              "      <th>item</th>\n",
              "      <th>rating</th>\n",
              "      <th>timestamp</th>\n",
              "    </tr>\n",
              "  </thead>\n",
              "  <tbody>\n",
              "    <tr>\n",
              "      <th>0</th>\n",
              "      <td>196</td>\n",
              "      <td>242</td>\n",
              "      <td>3.0</td>\n",
              "      <td>881250949</td>\n",
              "    </tr>\n",
              "    <tr>\n",
              "      <th>1</th>\n",
              "      <td>186</td>\n",
              "      <td>302</td>\n",
              "      <td>3.0</td>\n",
              "      <td>891717742</td>\n",
              "    </tr>\n",
              "    <tr>\n",
              "      <th>2</th>\n",
              "      <td>22</td>\n",
              "      <td>377</td>\n",
              "      <td>1.0</td>\n",
              "      <td>878887116</td>\n",
              "    </tr>\n",
              "    <tr>\n",
              "      <th>3</th>\n",
              "      <td>244</td>\n",
              "      <td>51</td>\n",
              "      <td>2.0</td>\n",
              "      <td>880606923</td>\n",
              "    </tr>\n",
              "    <tr>\n",
              "      <th>4</th>\n",
              "      <td>166</td>\n",
              "      <td>346</td>\n",
              "      <td>1.0</td>\n",
              "      <td>886397596</td>\n",
              "    </tr>\n",
              "  </tbody>\n",
              "</table>\n",
              "</div>\n",
              "    <div class=\"colab-df-buttons\">\n",
              "\n",
              "  <div class=\"colab-df-container\">\n",
              "    <button class=\"colab-df-convert\" onclick=\"convertToInteractive('df-1ffd7c05-3285-4d6b-bc09-a97143751520')\"\n",
              "            title=\"Convert this dataframe to an interactive table.\"\n",
              "            style=\"display:none;\">\n",
              "\n",
              "  <svg xmlns=\"http://www.w3.org/2000/svg\" height=\"24px\" viewBox=\"0 -960 960 960\">\n",
              "    <path d=\"M120-120v-720h720v720H120Zm60-500h600v-160H180v160Zm220 220h160v-160H400v160Zm0 220h160v-160H400v160ZM180-400h160v-160H180v160Zm440 0h160v-160H620v160ZM180-180h160v-160H180v160Zm440 0h160v-160H620v160Z\"/>\n",
              "  </svg>\n",
              "    </button>\n",
              "\n",
              "  <style>\n",
              "    .colab-df-container {\n",
              "      display:flex;\n",
              "      gap: 12px;\n",
              "    }\n",
              "\n",
              "    .colab-df-convert {\n",
              "      background-color: #E8F0FE;\n",
              "      border: none;\n",
              "      border-radius: 50%;\n",
              "      cursor: pointer;\n",
              "      display: none;\n",
              "      fill: #1967D2;\n",
              "      height: 32px;\n",
              "      padding: 0 0 0 0;\n",
              "      width: 32px;\n",
              "    }\n",
              "\n",
              "    .colab-df-convert:hover {\n",
              "      background-color: #E2EBFA;\n",
              "      box-shadow: 0px 1px 2px rgba(60, 64, 67, 0.3), 0px 1px 3px 1px rgba(60, 64, 67, 0.15);\n",
              "      fill: #174EA6;\n",
              "    }\n",
              "\n",
              "    .colab-df-buttons div {\n",
              "      margin-bottom: 4px;\n",
              "    }\n",
              "\n",
              "    [theme=dark] .colab-df-convert {\n",
              "      background-color: #3B4455;\n",
              "      fill: #D2E3FC;\n",
              "    }\n",
              "\n",
              "    [theme=dark] .colab-df-convert:hover {\n",
              "      background-color: #434B5C;\n",
              "      box-shadow: 0px 1px 3px 1px rgba(0, 0, 0, 0.15);\n",
              "      filter: drop-shadow(0px 1px 2px rgba(0, 0, 0, 0.3));\n",
              "      fill: #FFFFFF;\n",
              "    }\n",
              "  </style>\n",
              "\n",
              "    <script>\n",
              "      const buttonEl =\n",
              "        document.querySelector('#df-1ffd7c05-3285-4d6b-bc09-a97143751520 button.colab-df-convert');\n",
              "      buttonEl.style.display =\n",
              "        google.colab.kernel.accessAllowed ? 'block' : 'none';\n",
              "\n",
              "      async function convertToInteractive(key) {\n",
              "        const element = document.querySelector('#df-1ffd7c05-3285-4d6b-bc09-a97143751520');\n",
              "        const dataTable =\n",
              "          await google.colab.kernel.invokeFunction('convertToInteractive',\n",
              "                                                    [key], {});\n",
              "        if (!dataTable) return;\n",
              "\n",
              "        const docLinkHtml = 'Like what you see? Visit the ' +\n",
              "          '<a target=\"_blank\" href=https://colab.research.google.com/notebooks/data_table.ipynb>data table notebook</a>'\n",
              "          + ' to learn more about interactive tables.';\n",
              "        element.innerHTML = '';\n",
              "        dataTable['output_type'] = 'display_data';\n",
              "        await google.colab.output.renderOutput(dataTable, element);\n",
              "        const docLink = document.createElement('div');\n",
              "        docLink.innerHTML = docLinkHtml;\n",
              "        element.appendChild(docLink);\n",
              "      }\n",
              "    </script>\n",
              "  </div>\n",
              "\n",
              "\n",
              "<div id=\"df-995d3d01-6561-44a7-90ae-2b5c401908e5\">\n",
              "  <button class=\"colab-df-quickchart\" onclick=\"quickchart('df-995d3d01-6561-44a7-90ae-2b5c401908e5')\"\n",
              "            title=\"Suggest charts\"\n",
              "            style=\"display:none;\">\n",
              "\n",
              "<svg xmlns=\"http://www.w3.org/2000/svg\" height=\"24px\"viewBox=\"0 0 24 24\"\n",
              "     width=\"24px\">\n",
              "    <g>\n",
              "        <path d=\"M19 3H5c-1.1 0-2 .9-2 2v14c0 1.1.9 2 2 2h14c1.1 0 2-.9 2-2V5c0-1.1-.9-2-2-2zM9 17H7v-7h2v7zm4 0h-2V7h2v10zm4 0h-2v-4h2v4z\"/>\n",
              "    </g>\n",
              "</svg>\n",
              "  </button>\n",
              "\n",
              "<style>\n",
              "  .colab-df-quickchart {\n",
              "      --bg-color: #E8F0FE;\n",
              "      --fill-color: #1967D2;\n",
              "      --hover-bg-color: #E2EBFA;\n",
              "      --hover-fill-color: #174EA6;\n",
              "      --disabled-fill-color: #AAA;\n",
              "      --disabled-bg-color: #DDD;\n",
              "  }\n",
              "\n",
              "  [theme=dark] .colab-df-quickchart {\n",
              "      --bg-color: #3B4455;\n",
              "      --fill-color: #D2E3FC;\n",
              "      --hover-bg-color: #434B5C;\n",
              "      --hover-fill-color: #FFFFFF;\n",
              "      --disabled-bg-color: #3B4455;\n",
              "      --disabled-fill-color: #666;\n",
              "  }\n",
              "\n",
              "  .colab-df-quickchart {\n",
              "    background-color: var(--bg-color);\n",
              "    border: none;\n",
              "    border-radius: 50%;\n",
              "    cursor: pointer;\n",
              "    display: none;\n",
              "    fill: var(--fill-color);\n",
              "    height: 32px;\n",
              "    padding: 0;\n",
              "    width: 32px;\n",
              "  }\n",
              "\n",
              "  .colab-df-quickchart:hover {\n",
              "    background-color: var(--hover-bg-color);\n",
              "    box-shadow: 0 1px 2px rgba(60, 64, 67, 0.3), 0 1px 3px 1px rgba(60, 64, 67, 0.15);\n",
              "    fill: var(--button-hover-fill-color);\n",
              "  }\n",
              "\n",
              "  .colab-df-quickchart-complete:disabled,\n",
              "  .colab-df-quickchart-complete:disabled:hover {\n",
              "    background-color: var(--disabled-bg-color);\n",
              "    fill: var(--disabled-fill-color);\n",
              "    box-shadow: none;\n",
              "  }\n",
              "\n",
              "  .colab-df-spinner {\n",
              "    border: 2px solid var(--fill-color);\n",
              "    border-color: transparent;\n",
              "    border-bottom-color: var(--fill-color);\n",
              "    animation:\n",
              "      spin 1s steps(1) infinite;\n",
              "  }\n",
              "\n",
              "  @keyframes spin {\n",
              "    0% {\n",
              "      border-color: transparent;\n",
              "      border-bottom-color: var(--fill-color);\n",
              "      border-left-color: var(--fill-color);\n",
              "    }\n",
              "    20% {\n",
              "      border-color: transparent;\n",
              "      border-left-color: var(--fill-color);\n",
              "      border-top-color: var(--fill-color);\n",
              "    }\n",
              "    30% {\n",
              "      border-color: transparent;\n",
              "      border-left-color: var(--fill-color);\n",
              "      border-top-color: var(--fill-color);\n",
              "      border-right-color: var(--fill-color);\n",
              "    }\n",
              "    40% {\n",
              "      border-color: transparent;\n",
              "      border-right-color: var(--fill-color);\n",
              "      border-top-color: var(--fill-color);\n",
              "    }\n",
              "    60% {\n",
              "      border-color: transparent;\n",
              "      border-right-color: var(--fill-color);\n",
              "    }\n",
              "    80% {\n",
              "      border-color: transparent;\n",
              "      border-right-color: var(--fill-color);\n",
              "      border-bottom-color: var(--fill-color);\n",
              "    }\n",
              "    90% {\n",
              "      border-color: transparent;\n",
              "      border-bottom-color: var(--fill-color);\n",
              "    }\n",
              "  }\n",
              "</style>\n",
              "\n",
              "  <script>\n",
              "    async function quickchart(key) {\n",
              "      const quickchartButtonEl =\n",
              "        document.querySelector('#' + key + ' button');\n",
              "      quickchartButtonEl.disabled = true;  // To prevent multiple clicks.\n",
              "      quickchartButtonEl.classList.add('colab-df-spinner');\n",
              "      try {\n",
              "        const charts = await google.colab.kernel.invokeFunction(\n",
              "            'suggestCharts', [key], {});\n",
              "      } catch (error) {\n",
              "        console.error('Error during call to suggestCharts:', error);\n",
              "      }\n",
              "      quickchartButtonEl.classList.remove('colab-df-spinner');\n",
              "      quickchartButtonEl.classList.add('colab-df-quickchart-complete');\n",
              "    }\n",
              "    (() => {\n",
              "      let quickchartButtonEl =\n",
              "        document.querySelector('#df-995d3d01-6561-44a7-90ae-2b5c401908e5 button');\n",
              "      quickchartButtonEl.style.display =\n",
              "        google.colab.kernel.accessAllowed ? 'block' : 'none';\n",
              "    })();\n",
              "  </script>\n",
              "</div>\n",
              "\n",
              "    </div>\n",
              "  </div>\n"
            ],
            "application/vnd.google.colaboratory.intrinsic+json": {
              "type": "dataframe",
              "variable_name": "df",
              "summary": "{\n  \"name\": \"df\",\n  \"rows\": 100000,\n  \"fields\": [\n    {\n      \"column\": \"user\",\n      \"properties\": {\n        \"dtype\": \"category\",\n        \"num_unique_values\": 943,\n        \"samples\": [\n          \"262\",\n          \"136\",\n          \"821\"\n        ],\n        \"semantic_type\": \"\",\n        \"description\": \"\"\n      }\n    },\n    {\n      \"column\": \"item\",\n      \"properties\": {\n        \"dtype\": \"category\",\n        \"num_unique_values\": 1682,\n        \"samples\": [\n          \"1557\",\n          \"808\",\n          \"1618\"\n        ],\n        \"semantic_type\": \"\",\n        \"description\": \"\"\n      }\n    },\n    {\n      \"column\": \"rating\",\n      \"properties\": {\n        \"dtype\": \"number\",\n        \"std\": 1.125673599144316,\n        \"min\": 1.0,\n        \"max\": 5.0,\n        \"num_unique_values\": 5,\n        \"samples\": [\n          1.0,\n          5.0,\n          2.0\n        ],\n        \"semantic_type\": \"\",\n        \"description\": \"\"\n      }\n    },\n    {\n      \"column\": \"timestamp\",\n      \"properties\": {\n        \"dtype\": \"category\",\n        \"num_unique_values\": 49282,\n        \"samples\": [\n          \"889728713\",\n          \"888443306\",\n          \"880605158\"\n        ],\n        \"semantic_type\": \"\",\n        \"description\": \"\"\n      }\n    }\n  ]\n}"
            }
          },
          "metadata": {},
          "execution_count": 3
        }
      ]
    },
    {
      "cell_type": "code",
      "source": [
        "# визначення сітки параметрів. Ці параметри ми обираємо самостійно.Можна змінювати для найкращих результатів.\n",
        "param_grid = {\n",
        "    'n_epochs': [12, 20, 24],\n",
        "    'lr_all': [0.01, 0.03, 0.05],\n",
        "    'reg_all': [0.02, 0.1, 0.2]\n",
        "}\n",
        "\n",
        "# використання GridSearchCV у підборі параметрів\n",
        "gs = GridSearchCV(SVD, param_grid, measures=['rmse', 'mae'], cv=3)\n",
        "gs.fit(data)\n",
        "\n",
        "# вивід найкращих результатів\n",
        "print(\"Best RMSE score:\", gs.best_score['rmse'])\n",
        "print(\"Best parameters:\", gs.best_params['rmse'])"
      ],
      "metadata": {
        "colab": {
          "base_uri": "https://localhost:8080/"
        },
        "id": "M_CO6uh-60wO",
        "outputId": "b0320f9b-8043-4bc5-8474-f005890b7b8a"
      },
      "execution_count": null,
      "outputs": [
        {
          "output_type": "stream",
          "name": "stdout",
          "text": [
            "Best RMSE score: 0.9244698948579823\n",
            "Best parameters: {'n_epochs': 12, 'lr_all': 0.03, 'reg_all': 0.1}\n"
          ]
        }
      ]
    },
    {
      "cell_type": "code",
      "source": [
        "# ініціалізація алгоритма\n",
        "algo = SVD(n_epochs=gs.best_params['rmse']['n_epochs'],\n",
        "           lr_all=gs.best_params['rmse']['lr_all'],\n",
        "           reg_all=gs.best_params['rmse']['reg_all'])\n",
        "\n",
        "# оцінка моделі з використанням крос-валідації.cv = 3 - це кількість розбіттів для крос-валідації. Обираємо самостійно.\n",
        "results = cross_validate(algo, data, measures=['RMSE', 'MAE'], cv=3, verbose=True)\n",
        "print(\"\\nРезультати з найкращими параметрами:\")\n",
        "print(\"RMSE: \", np.mean(results['test_rmse']))\n",
        "print(\"MAE: \", np.mean(results['test_mae']))"
      ],
      "metadata": {
        "colab": {
          "base_uri": "https://localhost:8080/"
        },
        "id": "8E-8xR4Sbupn",
        "outputId": "8c594e68-f046-4885-f68b-ef5eed335718"
      },
      "execution_count": null,
      "outputs": [
        {
          "output_type": "stream",
          "name": "stdout",
          "text": [
            "Evaluating RMSE, MAE of algorithm SVD on 3 split(s).\n",
            "\n",
            "                  Fold 1  Fold 2  Fold 3  Mean    Std     \n",
            "RMSE (testset)    0.9291  0.9231  0.9202  0.9241  0.0037  \n",
            "MAE (testset)     0.7349  0.7305  0.7267  0.7307  0.0034  \n",
            "Fit time          0.76    0.77    0.75    0.76    0.01    \n",
            "Test time         0.22    0.26    0.29    0.26    0.03    \n",
            "\n",
            "Результати з найкращими параметрами:\n",
            "RMSE:  0.9241421491595067\n",
            "MAE:  0.7307220900896185\n"
          ]
        }
      ]
    },
    {
      "cell_type": "code",
      "source": [
        "#Аналогічні розрахунки виконаємо для NMF\n",
        "from surprise import NMF\n",
        "\n",
        "# Визначення сітки параметрів для NMF\n",
        "param_grid = {\n",
        "    'n_epochs': [50, 100],\n",
        "    'lr_bu': [0.002, 0.005],\n",
        "    'lr_bi': [0.002, 0.005],\n",
        "    'reg_pu': [0.06, 0.1],\n",
        "    'reg_qi': [0.06, 0.1]\n",
        "}\n",
        "\n",
        "# Використання GridSearchCV для підбору параметрів\n",
        "gs = GridSearchCV(NMF, param_grid, measures=['rmse', 'mae'], cv=3)\n",
        "gs.fit(data)\n",
        "\n",
        "\n"
      ],
      "metadata": {
        "id": "HT5gJ5VUeBV5"
      },
      "execution_count": null,
      "outputs": []
    },
    {
      "cell_type": "code",
      "source": [
        "# Вивід найкращих результатів\n",
        "print(\"Best RMSE score for NMF:\", gs.best_score['rmse'])\n",
        "print(\"Best parameters for NMF:\", gs.best_params['rmse'])\n",
        "\n",
        "# Ініціалізація алгоритму з найкращими параметрами\n",
        "best_params = gs.best_params['rmse']\n",
        "algo_nmf = NMF(n_epochs=best_params['n_epochs'],\n",
        "               lr_bu=best_params['lr_bu'],\n",
        "               lr_bi=best_params['lr_bi'],\n",
        "               reg_pu=best_params['reg_pu'],\n",
        "               reg_qi=best_params['reg_qi'])\n",
        "\n",
        "# Оцінка моделі з використанням крос-валідації\n",
        "results_nmf = cross_validate(algo_nmf, data, measures=['RMSE', 'MAE'], cv=3, verbose=True)\n",
        "\n",
        "# Вивід результатів\n",
        "print(\"\\nРезультати з найкращими параметрами для NMF:\")\n",
        "print(\"RMSE: \", np.mean(results_nmf['test_rmse']))\n",
        "print(\"MAE: \", np.mean(results_nmf['test_mae']))"
      ],
      "metadata": {
        "colab": {
          "base_uri": "https://localhost:8080/"
        },
        "id": "rqtLd0S7fP07",
        "outputId": "964436f2-cd4a-4463-df73-ae40b4a5849c"
      },
      "execution_count": null,
      "outputs": [
        {
          "output_type": "stream",
          "name": "stdout",
          "text": [
            "Best RMSE score for NMF: 0.9480610662821926\n",
            "Best parameters for NMF: {'n_epochs': 100, 'lr_bu': 0.002, 'lr_bi': 0.002, 'reg_pu': 0.1, 'reg_qi': 0.1}\n",
            "Evaluating RMSE, MAE of algorithm NMF on 3 split(s).\n",
            "\n",
            "                  Fold 1  Fold 2  Fold 3  Mean    Std     \n",
            "RMSE (testset)    0.9483  0.9430  0.9578  0.9497  0.0061  \n",
            "MAE (testset)     0.7494  0.7486  0.7608  0.7529  0.0056  \n",
            "Fit time          3.71    3.89    3.47    3.69    0.17    \n",
            "Test time         0.40    0.16    0.17    0.24    0.11    \n",
            "\n",
            "Результати з найкращими параметрами для NMF:\n",
            "RMSE:  0.9497000579035567\n",
            "MAE:  0.752923259494313\n"
          ]
        }
      ]
    },
    {
      "cell_type": "markdown",
      "source": [
        "SVD++"
      ],
      "metadata": {
        "id": "0ufPEePtfAmW"
      }
    },
    {
      "cell_type": "code",
      "source": [
        "from surprise import SVDpp\n",
        "from surprise.model_selection import GridSearchCV, cross_validate\n",
        "import numpy as np\n",
        "\n",
        "# Визначення сітки параметрів для SVD++\n",
        "param_grid = {\n",
        "    'n_epochs': [20, 50],\n",
        "    'lr_all': [0.005, 0.01],\n",
        "    'reg_all': [0.02, 0.1]\n",
        "}\n",
        "\n",
        "# Використання GridSearchCV для підбору параметрів\n",
        "gs = GridSearchCV(SVDpp, param_grid, measures=['rmse', 'mae'], cv=3)\n",
        "gs.fit(data)\n",
        "\n",
        "# Вивід найкращих результатів\n",
        "print(\"Best RMSE score for SVD++:\", gs.best_score['rmse'])\n",
        "print(\"Best parameters for SVD++:\", gs.best_params['rmse'])\n"
      ],
      "metadata": {
        "colab": {
          "base_uri": "https://localhost:8080/"
        },
        "id": "61Q4Cb-5fSXY",
        "outputId": "9460ef26-866f-49ec-81f5-6051ed150440"
      },
      "execution_count": null,
      "outputs": [
        {
          "output_type": "stream",
          "name": "stdout",
          "text": [
            "Best RMSE score for SVD++: 0.9225424141194409\n",
            "Best parameters for SVD++: {'n_epochs': 50, 'lr_all': 0.01, 'reg_all': 0.1}\n"
          ]
        }
      ]
    },
    {
      "cell_type": "code",
      "source": [
        "# Ініціалізація алгоритму з найкращими параметрами\n",
        "best_params = gs.best_params['rmse']\n",
        "algo_svdpp = SVDpp(n_epochs=best_params['n_epochs'],\n",
        "                   lr_all=best_params['lr_all'],\n",
        "                   reg_all=best_params['reg_all'])\n",
        "\n",
        "# Оцінка моделі з використанням крос-валідації\n",
        "results_svdpp = cross_validate(algo_svdpp, data, measures=['RMSE', 'MAE'], cv=3, verbose=True)\n",
        "\n",
        "# Вивід результатів\n",
        "print(\"\\nРезультати з найкращими параметрами для SVD++:\")\n",
        "print(\"RMSE: \", np.mean(results_svdpp['test_rmse']))\n",
        "print(\"MAE: \", np.mean(results_svdpp['test_mae']))"
      ],
      "metadata": {
        "colab": {
          "base_uri": "https://localhost:8080/"
        },
        "id": "8_6AHiPyfXXM",
        "outputId": "e40cb27c-7cc7-4012-e24d-104d81e5c2a8"
      },
      "execution_count": null,
      "outputs": [
        {
          "output_type": "stream",
          "name": "stdout",
          "text": [
            "Evaluating RMSE, MAE of algorithm SVDpp on 3 split(s).\n",
            "\n",
            "                  Fold 1  Fold 2  Fold 3  Mean    Std     \n",
            "RMSE (testset)    0.9168  0.9232  0.9224  0.9208  0.0028  \n",
            "MAE (testset)     0.7228  0.7277  0.7272  0.7259  0.0022  \n",
            "Fit time          47.22   47.65   46.27   47.05   0.58    \n",
            "Test time         6.50    7.18    7.32    7.00    0.36    \n",
            "\n",
            "Результати з найкращими параметрами для SVD++:\n",
            "RMSE:  0.9208221054955467\n",
            "MAE:  0.7258760030065354\n"
          ]
        }
      ]
    },
    {
      "cell_type": "markdown",
      "source": [
        "Значення RMSE вказує на середнє квадратичне відхилення між фактичними та передбаченими рейтингами, тобто чим менше значення RMSE, тим краща модель.\n",
        "Fold 1, Fold 2, Fold 3: Це результати моделі на трьох різних частинах даних, використаних у крос-валідації. Крос-валідація поділяє дані на кілька частин (у цьому випадку 3) і перевіряє модель на кожній частині, щоб отримати середнє значення та стандартне відхилення помилок.\n"
      ],
      "metadata": {
        "id": "i_r1YP3n3Ojs"
      }
    },
    {
      "cell_type": "code",
      "source": [],
      "metadata": {
        "id": "3EqVcvqqfIyY"
      },
      "execution_count": null,
      "outputs": []
    }
  ]
}