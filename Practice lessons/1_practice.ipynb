{
  "cells": [
    {
      "cell_type": "markdown",
      "metadata": {
        "colab_type": "text",
        "id": "view-in-github"
      },
      "source": [
        "<a href=\"https://colab.research.google.com/github/MariiaSam/data_science/blob/main/1_practice.ipynb\" target=\"_parent\"><img src=\"https://colab.research.google.com/assets/colab-badge.svg\" alt=\"Open In Colab\"/></a>"
      ]
    },
    {
      "cell_type": "code",
      "execution_count": 2,
      "metadata": {
        "colab": {
          "base_uri": "https://localhost:8080/"
        },
        "id": "Fq8YhGE7WYlL",
        "outputId": "adc70fc2-6bac-4ab0-9c0b-e4ea53a7eccd"
      },
      "outputs": [
        {
          "name": "stdout",
          "output_type": "stream",
          "text": [
            "Requirement already satisfied: numpy in /usr/local/lib/python3.10/dist-packages (1.26.4)\n"
          ]
        }
      ],
      "source": [
        "! pip install numpy\n"
      ]
    },
    {
      "cell_type": "markdown",
      "metadata": {
        "id": "u24fnDP4X96b"
      },
      "source": []
    },
    {
      "cell_type": "markdown",
      "metadata": {
        "id": "IU3YEAtacVZ2"
      },
      "source": []
    },
    {
      "cell_type": "code",
      "execution_count": 3,
      "metadata": {
        "id": "stEyP2roX-aW"
      },
      "outputs": [],
      "source": [
        "import numpy as np"
      ]
    },
    {
      "cell_type": "code",
      "execution_count": 7,
      "metadata": {
        "colab": {
          "base_uri": "https://localhost:8080/",
          "height": 35
        },
        "id": "NmbSuX3ha5-7",
        "outputId": "4d34a7f1-6c71-4755-a5e0-455c25603bb6"
      },
      "outputs": [
        {
          "data": {
            "application/vnd.google.colaboratory.intrinsic+json": {
              "type": "string"
            },
            "text/plain": [
              "'1.26.4'"
            ]
          },
          "execution_count": 7,
          "metadata": {},
          "output_type": "execute_result"
        }
      ],
      "source": [
        "np.__version__\n",
        "\n"
      ]
    },
    {
      "cell_type": "code",
      "execution_count": 11,
      "metadata": {
        "colab": {
          "base_uri": "https://localhost:8080/"
        },
        "id": "wMUsnSxrcbjw",
        "outputId": "4375f1a6-762a-4266-c451-b58c03b31e0a"
      },
      "outputs": [
        {
          "name": "stdout",
          "output_type": "stream",
          "text": [
            "Матриця:\n",
            "[[1 2 3]\n",
            " [4 5 6]\n",
            " [7 8 9]]\n"
          ]
        }
      ],
      "source": [
        "# Задаємо матрицю 3*3\n",
        "a = np.array([[1, 2, 3], [4, 5, 6], [7, 8, 9]])\n",
        "print(\"Матриця:\")\n",
        "print(a)"
      ]
    },
    {
      "cell_type": "code",
      "execution_count": 10,
      "metadata": {
        "colab": {
          "base_uri": "https://localhost:8080/"
        },
        "id": "S8NVVSVHdTmJ",
        "outputId": "ec8d73c8-e337-4ab8-8e99-b6bfabf37136"
      },
      "outputs": [
        {
          "name": "stdout",
          "output_type": "stream",
          "text": [
            "Матриця (ще один варіант):\n",
            "[[1 2 3]\n",
            " [4 5 6]\n",
            " [7 8 9]]\n"
          ]
        }
      ],
      "source": [
        "b = np.matrix([[1, 2, 3], [4, 5, 6], [7, 8, 9]])\n",
        "print(\"Матриця (ще один варіант):\")\n",
        "print(b)"
      ]
    },
    {
      "cell_type": "code",
      "execution_count": 17,
      "metadata": {
        "colab": {
          "base_uri": "https://localhost:8080/"
        },
        "id": "370z2WA3cuad",
        "outputId": "b99e6990-25cb-4d7b-b52f-26064effd02c"
      },
      "outputs": [
        {
          "name": "stdout",
          "output_type": "stream",
          "text": [
            "Матриця:\n",
            "[[1 2 3 4]\n",
            " [4 5 6 4]\n",
            " [7 8 9 4]\n",
            " [7 8 9 4]]\n",
            "Матриця:\n",
            "[[ 1  2 -3  4]\n",
            " [ 4 65  6  4]\n",
            " [ 7  8  9 -4]\n",
            " [-7  8  9  4]]\n"
          ]
        }
      ],
      "source": [
        "a = np.array([[1, 2, 8, 4], [4, 75, 6, 4], [7, 8, 245, 4], [7, 575, 9, 4]])\n",
        "print(\"Матриця:\")\n",
        "print(a)\n",
        "\n",
        "b = np.array([[1, 2, -3, 4], [4, 65, 6, 4], [7, 8, 9, -4], [-7, 90, 9, 787]])\n",
        "print(\"Матриця:\")\n",
        "print(b)"
      ]
    },
    {
      "cell_type": "code",
      "execution_count": 20,
      "metadata": {
        "colab": {
          "base_uri": "https://localhost:8080/"
        },
        "id": "HG5OSRPyfpyc",
        "outputId": "9b03c934-7e5b-48ad-b5b7-8714bdc0273d"
      },
      "outputs": [
        {
          "name": "stdout",
          "output_type": "stream",
          "text": [
            "[[ 2  4  0  8]\n",
            " [ 8 70 12  8]\n",
            " [14 16 18  0]\n",
            " [ 0 16 18  8]]\n",
            "[[  0   0   6   0]\n",
            " [  0 -60   0   0]\n",
            " [  0   0   0   8]\n",
            " [ 14   0   0   0]]\n",
            "[[  1   4  -9  16]\n",
            " [ 16 325  36  16]\n",
            " [ 49  64  81 -16]\n",
            " [-49  64  81  16]]\n",
            "[[ 1.          1.         -1.          1.        ]\n",
            " [ 1.          0.07692308  1.          1.        ]\n",
            " [ 1.          1.          1.         -1.        ]\n",
            " [-1.          1.          1.          1.        ]]\n"
          ]
        }
      ],
      "source": [
        "print(a + b) # додаєм відповідні елементи\n",
        "print(a - b)# віднімаємо відповідні елементи\n",
        "print(a*b) # поелементне множення\n",
        "print(a/b)"
      ]
    },
    {
      "cell_type": "code",
      "execution_count": 31,
      "metadata": {
        "colab": {
          "base_uri": "https://localhost:8080/"
        },
        "id": "66EjvX_cg3_R",
        "outputId": "84ed47dc-e8d5-4717-82c1-d1c93d2e41cf"
      },
      "outputs": [
        {
          "name": "stdout",
          "output_type": "stream",
          "text": [
            "Матриця:\n",
            "[[ 1  2]\n",
            " [ 4 75]]\n",
            "Матриця:\n",
            "[[ 3  8]\n",
            " [ 4 65]]\n",
            "[[  11  138]\n",
            " [ 312 4907]]\n",
            "[[  35  606]\n",
            " [ 264 4883]]\n"
          ]
        }
      ],
      "source": [
        "a = np.matrix([[1, 2], [4, 75]])\n",
        "print(\"Матриця:\")\n",
        "print(a)\n",
        "\n",
        "b = np.matrix([[3, 8], [4, 65]])\n",
        "print(\"Матриця:\")\n",
        "print(b)\n",
        "\n",
        "c = np.dot(a, b)\n",
        "print(c)\n",
        "\n",
        "d = np.dot(b, a)\n",
        "print(d)"
      ]
    },
    {
      "cell_type": "code",
      "execution_count": 32,
      "metadata": {
        "colab": {
          "base_uri": "https://localhost:8080/"
        },
        "id": "MCkSnSlcksQP",
        "outputId": "2b5dc33c-c263-442c-a89d-eb53791e7c71"
      },
      "outputs": [
        {
          "name": "stdout",
          "output_type": "stream",
          "text": [
            "Матриця:\n",
            "[[ 1  2]\n",
            " [ 4 75]\n",
            " [ 3  6]]\n",
            "Матриця:\n",
            "[[ 3  8]\n",
            " [ 4 65]]\n",
            "[[  11  138]\n",
            " [ 312 4907]\n",
            " [  33  414]]\n"
          ]
        }
      ],
      "source": [
        "a = np.matrix([[1, 2], [4, 75], [3, 6]])\n",
        "print(\"Матриця:\")\n",
        "print(a)\n",
        "\n",
        "b = np.matrix([[3, 8], [4, 65]])\n",
        "print(\"Матриця:\")\n",
        "print(b)\n",
        "\n",
        "c = np.dot(a, b)\n",
        "print(c)"
      ]
    },
    {
      "cell_type": "code",
      "execution_count": 35,
      "metadata": {
        "colab": {
          "base_uri": "https://localhost:8080/"
        },
        "id": "NQA12C78mois",
        "outputId": "e7895464-b5d1-4502-8bee-355e9fb46d5e"
      },
      "outputs": [
        {
          "name": "stdout",
          "output_type": "stream",
          "text": [
            "Визначник матриці:\n",
            "-889.1\n"
          ]
        }
      ],
      "source": [
        "# Визначник матриці\n",
        "a = np.matrix([[1, 298], [3, 4.9]])\n",
        "a_det = np.linalg.det(a)\n",
        "\n",
        "print(\"Визначник матриці:\")\n",
        "print(a_det.round(2))"
      ]
    },
    {
      "cell_type": "code",
      "execution_count": 36,
      "metadata": {
        "colab": {
          "base_uri": "https://localhost:8080/"
        },
        "id": "bAb_ZFG7nU0D",
        "outputId": "1a3ae405-7267-49a8-94bd-8880215eed3e"
      },
      "outputs": [
        {
          "name": "stdout",
          "output_type": "stream",
          "text": [
            "[[0 0 0]\n",
            " [0 0 0]\n",
            " [0 0 0]]\n"
          ]
        }
      ],
      "source": [
        "matrix = np.zeros((3, 3), dtype=int)\n",
        "print(matrix)"
      ]
    },
    {
      "cell_type": "code",
      "execution_count": 41,
      "metadata": {
        "colab": {
          "base_uri": "https://localhost:8080/"
        },
        "id": "SwT208BvoBic",
        "outputId": "f1bd30e4-6a88-4a00-bfcd-1ea2efcbbe19"
      },
      "outputs": [
        {
          "name": "stdout",
          "output_type": "stream",
          "text": [
            "[[0 1 0 0]\n",
            " [0 1 0 1]\n",
            " [1 1 1 0]\n",
            " [1 1 0 1]]\n"
          ]
        }
      ],
      "source": [
        "matrix = np.random.randint(2, size=(4, 4))\n",
        "print(matrix)"
      ]
    },
    {
      "cell_type": "code",
      "execution_count": 42,
      "metadata": {
        "colab": {
          "base_uri": "https://localhost:8080/"
        },
        "id": "sDdNBTwJpI0e",
        "outputId": "fc2eeea8-2198-4af6-a263-af3f168b7023"
      },
      "outputs": [
        {
          "name": "stdout",
          "output_type": "stream",
          "text": [
            "[[1 1 1]\n",
            " [1 1 1]\n",
            " [1 1 1]]\n"
          ]
        }
      ],
      "source": [
        "#матриця з одиниць\n",
        "matrix = np.ones((3, 3), dtype=int)\n",
        "print(matrix)"
      ]
    },
    {
      "cell_type": "code",
      "execution_count": 45,
      "metadata": {
        "colab": {
          "base_uri": "https://localhost:8080/"
        },
        "id": "8VO_t6zZpmeR",
        "outputId": "b02b1d39-df07-4f19-89c4-8aad8a6dda13"
      },
      "outputs": [
        {
          "name": "stdout",
          "output_type": "stream",
          "text": [
            "Діагональ:\n",
            "[1 1 1]\n"
          ]
        }
      ],
      "source": [
        "# Побудуємо діагональ\n",
        "diag = np.diag(matrix)\n",
        "print(\"Діагональ:\")\n",
        "print(diag)\n",
        "\n"
      ]
    },
    {
      "cell_type": "code",
      "execution_count": 46,
      "metadata": {
        "colab": {
          "base_uri": "https://localhost:8080/"
        },
        "id": "lJJMTCGQqFrM",
        "outputId": "0a72bb04-de8f-4d1a-8f3e-a49b94363335"
      },
      "outputs": [
        {
          "name": "stdout",
          "output_type": "stream",
          "text": [
            "Діагональна матриця:\n",
            "[[1 0 0]\n",
            " [0 1 0]\n",
            " [0 0 1]]\n"
          ]
        }
      ],
      "source": [
        "# Побудуємо діагональну матрицю на основі діагоналі\n",
        "m_diag_np = np.diag(np.diag(matrix))\n",
        "print(\"Діагональна матриця:\")\n",
        "print(m_diag_np)\n"
      ]
    },
    {
      "cell_type": "markdown",
      "metadata": {
        "id": "JBLLUrAbpmQX"
      },
      "source": []
    },
    {
      "cell_type": "code",
      "execution_count": 49,
      "metadata": {
        "colab": {
          "base_uri": "https://localhost:8080/"
        },
        "id": "BcLkqXZiqYDT",
        "outputId": "054ba6cf-a173-449f-ea81-f2df1458a107"
      },
      "outputs": [
        {
          "name": "stdout",
          "output_type": "stream",
          "text": [
            "Матриця a:\n",
            "[[1 2 3]\n",
            " [4 5 6]]\n",
            "Транспонована матриця:\n",
            "[[1 4]\n",
            " [2 5]\n",
            " [3 6]]\n",
            "Ще один спосіб транспонування матриці:\n",
            "[[1 4]\n",
            " [2 5]\n",
            " [3 6]]\n"
          ]
        }
      ],
      "source": [
        " #Транспонована матриця\n",
        "a = np.array([[1, 2, 3], [4, 5, 6]])\n",
        "print(\"Матриця a:\")\n",
        "print(a)\n",
        "a_t = a.transpose()\n",
        "print(\"Транспонована матриця:\")\n",
        "print(a_t)\n",
        "print(\"Ще один спосіб транспонування матриці:\")\n",
        "print(a.T)"
      ]
    },
    {
      "cell_type": "code",
      "execution_count": 50,
      "metadata": {
        "colab": {
          "base_uri": "https://localhost:8080/"
        },
        "id": "ZiaCYmtur7P7",
        "outputId": "7d79fc80-9f44-4f33-8a1e-69dc29e271a9"
      },
      "outputs": [
        {
          "name": "stdout",
          "output_type": "stream",
          "text": [
            "Визначник матриці:\n",
            "-1.0\n"
          ]
        }
      ],
      "source": [
        "a = np.matrix([[1, 3], [2, 5]])\n",
        "a_det = np.linalg.det(a)\n",
        "print(\"Визначник матриці:\")\n",
        "print(a_det.round(2))\n"
      ]
    },
    {
      "cell_type": "code",
      "execution_count": 54,
      "metadata": {
        "id": "5B9VjonetQA0"
      },
      "outputs": [],
      "source": [
        "a = np.matrix([[3, 4, 7], [5, 4, 2], [1, 0, 2]])\n",
        "b = np.matrix([[3], [4], [7]])"
      ]
    },
    {
      "cell_type": "code",
      "execution_count": 56,
      "metadata": {
        "colab": {
          "base_uri": "https://localhost:8080/"
        },
        "id": "wv8_m61ntlH5",
        "outputId": "e3173464-73e6-46c9-ad97-0021740931de"
      },
      "outputs": [
        {
          "name": "stdout",
          "output_type": "stream",
          "text": [
            "Перевірка: \n",
            "x = [[ 25.2]\n",
            " [-35.2]\n",
            " [  9.9]]\n"
          ]
        }
      ],
      "source": [
        "x = np.linalg.solve(a, b)\n",
        "print('Перевірка: ')\n",
        "print('x =', x.round(1) )"
      ]
    },
    {
      "cell_type": "code",
      "execution_count": 61,
      "metadata": {
        "colab": {
          "base_uri": "https://localhost:8080/"
        },
        "id": "lTn0TEoeu5_c",
        "outputId": "c95d9d70-522f-4f30-a221-e7854ab9fb45"
      },
      "outputs": [
        {
          "name": "stdout",
          "output_type": "stream",
          "text": [
            "перевірка: \n",
            "x = [[ 25.2]\n",
            " [-35.2]\n",
            " [  9.9]]\n"
          ]
        }
      ],
      "source": [
        "a_inv = np.linalg.inv(a)\n",
        "c = np.dot(a_inv, b)\n",
        "print(\"перевірка: \")\n",
        "print('x =', c.round(1))\n"
      ]
    }
  ],
  "metadata": {
    "colab": {
      "authorship_tag": "ABX9TyOIVov6P5ZdeGWmJWfaoLq2",
      "include_colab_link": true,
      "provenance": []
    },
    "kernelspec": {
      "display_name": "Python 3",
      "name": "python3"
    },
    "language_info": {
      "name": "python"
    }
  },
  "nbformat": 4,
  "nbformat_minor": 0
}
