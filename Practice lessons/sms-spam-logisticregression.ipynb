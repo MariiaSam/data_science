{
 "cells": [
  {
   "cell_type": "code",
   "execution_count": 1,
   "id": "a7613137",
   "metadata": {
    "execution": {
     "iopub.execute_input": "2024-11-23T10:21:52.010386Z",
     "iopub.status.busy": "2024-11-23T10:21:52.009888Z",
     "iopub.status.idle": "2024-11-23T10:21:59.450798Z",
     "shell.execute_reply": "2024-11-23T10:21:59.449813Z"
    },
    "papermill": {
     "duration": 7.448597,
     "end_time": "2024-11-23T10:21:59.453446",
     "exception": false,
     "start_time": "2024-11-23T10:21:52.004849",
     "status": "completed"
    },
    "tags": []
   },
   "outputs": [],
   "source": [
    "import pandas as pd\n",
    "import numpy as np\n",
    "import re\n",
    "\n",
    "import spacy\n",
    "from nltk.corpus import stopwords\n",
    "\n",
    "from sklearn.feature_extraction.text import TfidfVectorizer\n",
    "from sklearn.linear_model import LogisticRegression\n",
    "from sklearn.model_selection import train_test_split\n",
    "from sklearn.metrics import accuracy_score, classification_report\n"
   ]
  },
  {
   "cell_type": "code",
   "execution_count": null,
   "id": "b9523dd1",
   "metadata": {
    "papermill": {
     "duration": 0.002444,
     "end_time": "2024-11-23T10:21:59.459153",
     "exception": false,
     "start_time": "2024-11-23T10:21:59.456709",
     "status": "completed"
    },
    "tags": []
   },
   "outputs": [],
   "source": []
  },
  {
   "cell_type": "code",
   "execution_count": null,
   "id": "33904dc9",
   "metadata": {
    "papermill": {
     "duration": 0.0022,
     "end_time": "2024-11-23T10:21:59.463925",
     "exception": false,
     "start_time": "2024-11-23T10:21:59.461725",
     "status": "completed"
    },
    "tags": []
   },
   "outputs": [],
   "source": []
  },
  {
   "cell_type": "code",
   "execution_count": 2,
   "id": "15c8adc1",
   "metadata": {
    "execution": {
     "iopub.execute_input": "2024-11-23T10:21:59.470697Z",
     "iopub.status.busy": "2024-11-23T10:21:59.470098Z",
     "iopub.status.idle": "2024-11-23T10:21:59.522238Z",
     "shell.execute_reply": "2024-11-23T10:21:59.521068Z"
    },
    "papermill": {
     "duration": 0.05817,
     "end_time": "2024-11-23T10:21:59.524484",
     "exception": false,
     "start_time": "2024-11-23T10:21:59.466314",
     "status": "completed"
    },
    "tags": []
   },
   "outputs": [
    {
     "data": {
      "text/html": [
       "<div>\n",
       "<style scoped>\n",
       "    .dataframe tbody tr th:only-of-type {\n",
       "        vertical-align: middle;\n",
       "    }\n",
       "\n",
       "    .dataframe tbody tr th {\n",
       "        vertical-align: top;\n",
       "    }\n",
       "\n",
       "    .dataframe thead th {\n",
       "        text-align: right;\n",
       "    }\n",
       "</style>\n",
       "<table border=\"1\" class=\"dataframe\">\n",
       "  <thead>\n",
       "    <tr style=\"text-align: right;\">\n",
       "      <th></th>\n",
       "      <th>sms</th>\n",
       "      <th>label</th>\n",
       "    </tr>\n",
       "  </thead>\n",
       "  <tbody>\n",
       "    <tr>\n",
       "      <th>0</th>\n",
       "      <td>Go until jurong point, crazy.. Available only ...</td>\n",
       "      <td>0</td>\n",
       "    </tr>\n",
       "    <tr>\n",
       "      <th>1</th>\n",
       "      <td>Ok lar... Joking wif u oni...\\n</td>\n",
       "      <td>0</td>\n",
       "    </tr>\n",
       "    <tr>\n",
       "      <th>2</th>\n",
       "      <td>Free entry in 2 a wkly comp to win FA Cup fina...</td>\n",
       "      <td>1</td>\n",
       "    </tr>\n",
       "    <tr>\n",
       "      <th>3</th>\n",
       "      <td>U dun say so early hor... U c already then say...</td>\n",
       "      <td>0</td>\n",
       "    </tr>\n",
       "    <tr>\n",
       "      <th>4</th>\n",
       "      <td>Nah I don't think he goes to usf, he lives aro...</td>\n",
       "      <td>0</td>\n",
       "    </tr>\n",
       "    <tr>\n",
       "      <th>5</th>\n",
       "      <td>FreeMsg Hey there darling it's been 3 week's n...</td>\n",
       "      <td>1</td>\n",
       "    </tr>\n",
       "    <tr>\n",
       "      <th>6</th>\n",
       "      <td>Even my brother is not like to speak with me. ...</td>\n",
       "      <td>0</td>\n",
       "    </tr>\n",
       "    <tr>\n",
       "      <th>7</th>\n",
       "      <td>As per your request 'Melle Melle (Oru Minnamin...</td>\n",
       "      <td>0</td>\n",
       "    </tr>\n",
       "    <tr>\n",
       "      <th>8</th>\n",
       "      <td>WINNER!! As a valued network customer you have...</td>\n",
       "      <td>1</td>\n",
       "    </tr>\n",
       "    <tr>\n",
       "      <th>9</th>\n",
       "      <td>Had your mobile 11 months or more? U R entitle...</td>\n",
       "      <td>1</td>\n",
       "    </tr>\n",
       "  </tbody>\n",
       "</table>\n",
       "</div>"
      ],
      "text/plain": [
       "                                                 sms  label\n",
       "0  Go until jurong point, crazy.. Available only ...      0\n",
       "1                    Ok lar... Joking wif u oni...\\n      0\n",
       "2  Free entry in 2 a wkly comp to win FA Cup fina...      1\n",
       "3  U dun say so early hor... U c already then say...      0\n",
       "4  Nah I don't think he goes to usf, he lives aro...      0\n",
       "5  FreeMsg Hey there darling it's been 3 week's n...      1\n",
       "6  Even my brother is not like to speak with me. ...      0\n",
       "7  As per your request 'Melle Melle (Oru Minnamin...      0\n",
       "8  WINNER!! As a valued network customer you have...      1\n",
       "9  Had your mobile 11 months or more? U R entitle...      1"
      ]
     },
     "execution_count": 2,
     "metadata": {},
     "output_type": "execute_result"
    }
   ],
   "source": [
    "file_path = '/kaggle/input/sms-spam-collection-a-more-diverse-dataset/train.csv'\n",
    "\n",
    "df = pd.read_csv(file_path)\n",
    "\n",
    "df.head(10)"
   ]
  },
  {
   "cell_type": "code",
   "execution_count": 3,
   "id": "6818065e",
   "metadata": {
    "execution": {
     "iopub.execute_input": "2024-11-23T10:21:59.531761Z",
     "iopub.status.busy": "2024-11-23T10:21:59.531359Z",
     "iopub.status.idle": "2024-11-23T10:21:59.555973Z",
     "shell.execute_reply": "2024-11-23T10:21:59.554827Z"
    },
    "papermill": {
     "duration": 0.030988,
     "end_time": "2024-11-23T10:21:59.558401",
     "exception": false,
     "start_time": "2024-11-23T10:21:59.527413",
     "status": "completed"
    },
    "tags": []
   },
   "outputs": [
    {
     "name": "stdout",
     "output_type": "stream",
     "text": [
      "<class 'pandas.core.frame.DataFrame'>\n",
      "RangeIndex: 5574 entries, 0 to 5573\n",
      "Data columns (total 2 columns):\n",
      " #   Column  Non-Null Count  Dtype \n",
      "---  ------  --------------  ----- \n",
      " 0   sms     5574 non-null   object\n",
      " 1   label   5574 non-null   int64 \n",
      "dtypes: int64(1), object(1)\n",
      "memory usage: 87.2+ KB\n"
     ]
    }
   ],
   "source": [
    "df.info()"
   ]
  },
  {
   "cell_type": "code",
   "execution_count": 4,
   "id": "a9d5e7cc",
   "metadata": {
    "execution": {
     "iopub.execute_input": "2024-11-23T10:21:59.566023Z",
     "iopub.status.busy": "2024-11-23T10:21:59.565577Z",
     "iopub.status.idle": "2024-11-23T10:21:59.574074Z",
     "shell.execute_reply": "2024-11-23T10:21:59.573042Z"
    },
    "papermill": {
     "duration": 0.014817,
     "end_time": "2024-11-23T10:21:59.576229",
     "exception": false,
     "start_time": "2024-11-23T10:21:59.561412",
     "status": "completed"
    },
    "tags": []
   },
   "outputs": [
    {
     "data": {
      "text/plain": [
       "sms      0\n",
       "label    0\n",
       "dtype: int64"
      ]
     },
     "execution_count": 4,
     "metadata": {},
     "output_type": "execute_result"
    }
   ],
   "source": [
    "df.isnull().sum()"
   ]
  },
  {
   "cell_type": "code",
   "execution_count": 5,
   "id": "ba5470cc",
   "metadata": {
    "execution": {
     "iopub.execute_input": "2024-11-23T10:21:59.584139Z",
     "iopub.status.busy": "2024-11-23T10:21:59.583759Z",
     "iopub.status.idle": "2024-11-23T10:22:40.221034Z",
     "shell.execute_reply": "2024-11-23T10:22:40.219921Z"
    },
    "papermill": {
     "duration": 40.644575,
     "end_time": "2024-11-23T10:22:40.223925",
     "exception": false,
     "start_time": "2024-11-23T10:21:59.579350",
     "status": "completed"
    },
    "tags": []
   },
   "outputs": [],
   "source": [
    "# 1. Очистка тексту за допомогою spaCy та NLTK\n",
    "nlp = spacy.load(\"en_core_web_sm\")\n",
    "stop_words = set(stopwords.words(\"english\"))\n",
    "\n",
    "def clean_text(text):\n",
    "    # Видалення небажаних символів\n",
    "    text = re.sub(r'[^a-zA-Z\\s]', '', text)  # Залишаємо лише літери та пробіли\n",
    "    text = text.lower()  # Перетворення в нижній регістр\n",
    "    # Токенізація та видалення стоп-слів\n",
    "    doc = nlp(text)\n",
    "    #Лемматизація перетворює слова до базової форми (наприклад, \"running\" → \"run\"). \n",
    "    #Видаляються слова зі списку стоп-слів і пунктуація.\n",
    "    tokens = [token.lemma_ for token in doc if token.text not in stop_words and not token.is_punct]\n",
    "    #Об’єднання очищених токенів у текст\n",
    "    return \" \".join(tokens)\n",
    "\n",
    "df['sms_cleaned'] = df['sms'].apply(clean_text)\n",
    "\n"
   ]
  },
  {
   "cell_type": "code",
   "execution_count": 6,
   "id": "75eb6bad",
   "metadata": {
    "execution": {
     "iopub.execute_input": "2024-11-23T10:22:40.232368Z",
     "iopub.status.busy": "2024-11-23T10:22:40.232003Z",
     "iopub.status.idle": "2024-11-23T10:22:40.360464Z",
     "shell.execute_reply": "2024-11-23T10:22:40.359381Z"
    },
    "papermill": {
     "duration": 0.135196,
     "end_time": "2024-11-23T10:22:40.362958",
     "exception": false,
     "start_time": "2024-11-23T10:22:40.227762",
     "status": "completed"
    },
    "tags": []
   },
   "outputs": [],
   "source": [
    "# 2. Перетворення тексту на числові ознаки (TF-IDF)\n",
    "#Після очистки текст потрібно перетворити на формат, придатний для моделі машинного навчання.\n",
    "#Для цього використовується метод TF-IDF\n",
    "#Цей метод перетворює текст на числовий вектор, що відображає важливість кожного слова в тексті відносно всіх документів\n",
    "\n",
    "vectorizer = TfidfVectorizer(max_features=500)\n",
    "X = vectorizer.fit_transform(df['sms_cleaned']).toarray()\n",
    "\n",
    "#Текст очищеного стовпця sms_cleaned перетворюється на матрицю чисел.\n",
    "#Кожен рядок матриці представляє одне повідомлення, а кожен стовпець — слово.\n",
    "#Результат: X — це матриця розміру (кількість повідомлень × 500).\n",
    "y = df['label']"
   ]
  },
  {
   "cell_type": "code",
   "execution_count": 7,
   "id": "52e1607d",
   "metadata": {
    "execution": {
     "iopub.execute_input": "2024-11-23T10:22:40.371516Z",
     "iopub.status.busy": "2024-11-23T10:22:40.371124Z",
     "iopub.status.idle": "2024-11-23T10:22:40.523221Z",
     "shell.execute_reply": "2024-11-23T10:22:40.520815Z"
    },
    "papermill": {
     "duration": 0.161326,
     "end_time": "2024-11-23T10:22:40.527617",
     "exception": false,
     "start_time": "2024-11-23T10:22:40.366291",
     "status": "completed"
    },
    "tags": []
   },
   "outputs": [
    {
     "name": "stdout",
     "output_type": "stream",
     "text": [
      "Accuracy: 0.9721973094170404\n",
      "Classification Report:\n",
      "               precision    recall  f1-score   support\n",
      "\n",
      "           0       0.97      0.99      0.98       954\n",
      "           1       0.96      0.84      0.90       161\n",
      "\n",
      "    accuracy                           0.97      1115\n",
      "   macro avg       0.97      0.92      0.94      1115\n",
      "weighted avg       0.97      0.97      0.97      1115\n",
      "\n",
      "                                                    sms  \\\n",
      "0     Go until jurong point, crazy.. Available only ...   \n",
      "1                       Ok lar... Joking wif u oni...\\n   \n",
      "2     Free entry in 2 a wkly comp to win FA Cup fina...   \n",
      "3     U dun say so early hor... U c already then say...   \n",
      "4     Nah I don't think he goes to usf, he lives aro...   \n",
      "...                                                 ...   \n",
      "5569  This is the 2nd time we have tried 2 contact u...   \n",
      "5570             Will ü b going to esplanade fr home?\\n   \n",
      "5571  Pity, * was in mood for that. So...any other s...   \n",
      "5572  The guy did some bitching but I acted like i'd...   \n",
      "5573                       Rofl. Its true to its name\\n   \n",
      "\n",
      "                                            sms_cleaned  \n",
      "0     go jurong point crazy available bugis n great ...  \n",
      "1                            ok lar joking wif u oni \\n  \n",
      "2     free entry   wkly comp win fa cup final tkts s...  \n",
      "3                u dun say early hor u c already say \\n  \n",
      "4            nah not think go usf live around though \\n  \n",
      "...                                                 ...  \n",
      "5569  nd time try   contact u u   pound prize   clai...  \n",
      "5570                          b go esplanade fr home \\n  \n",
      "5571                    pity   mood soany suggestion \\n  \n",
      "5572  guy bitching act like interested buy something...  \n",
      "5573                                  rofl true name \\n  \n",
      "\n",
      "[5574 rows x 2 columns]\n"
     ]
    }
   ],
   "source": [
    "# 3. Розділення даних на тренувальну і тестову вибірки\n",
    "X_train, X_test, y_train, y_test = train_test_split(X, y, test_size=0.2, random_state=42)\n",
    "\n",
    "# 4. Модель логістичної регресії\n",
    "model = LogisticRegression(max_iter=1000)\n",
    "model.fit(X_train, y_train)\n",
    "\n",
    "# Прогнозування\n",
    "y_pred = model.predict(X_test)\n",
    "\n",
    "# Оцінка моделі\n",
    "print(\"Accuracy:\", accuracy_score(y_test, y_pred))\n",
    "print(\"Classification Report:\\n\", classification_report(y_test, y_pred))\n",
    "\n",
    "# Вивід підготовлених даних\n",
    "print(df[['sms', 'sms_cleaned']])"
   ]
  }
 ],
 "metadata": {
  "kaggle": {
   "accelerator": "none",
   "dataSources": [
    {
     "datasetId": 2660681,
     "sourceId": 4558602,
     "sourceType": "datasetVersion"
    }
   ],
   "dockerImageVersionId": 30786,
   "isGpuEnabled": false,
   "isInternetEnabled": true,
   "language": "python",
   "sourceType": "notebook"
  },
  "kernelspec": {
   "display_name": "Python 3",
   "language": "python",
   "name": "python3"
  },
  "language_info": {
   "codemirror_mode": {
    "name": "ipython",
    "version": 3
   },
   "file_extension": ".py",
   "mimetype": "text/x-python",
   "name": "python",
   "nbconvert_exporter": "python",
   "pygments_lexer": "ipython3",
   "version": "3.10.14"
  },
  "papermill": {
   "default_parameters": {},
   "duration": 53.458803,
   "end_time": "2024-11-23T10:22:42.789238",
   "environment_variables": {},
   "exception": null,
   "input_path": "__notebook__.ipynb",
   "output_path": "__notebook__.ipynb",
   "parameters": {},
   "start_time": "2024-11-23T10:21:49.330435",
   "version": "2.6.0"
  }
 },
 "nbformat": 4,
 "nbformat_minor": 5
}
