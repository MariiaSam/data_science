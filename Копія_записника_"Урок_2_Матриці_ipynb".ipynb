{
  "nbformat": 4,
  "nbformat_minor": 0,
  "metadata": {
    "colab": {
      "provenance": [],
      "include_colab_link": true
    },
    "kernelspec": {
      "name": "python3",
      "display_name": "Python 3"
    },
    "language_info": {
      "name": "python"
    }
  },
  "cells": [
    {
      "cell_type": "markdown",
      "metadata": {
        "id": "view-in-github",
        "colab_type": "text"
      },
      "source": [
        "<a href=\"https://colab.research.google.com/github/MariiaSam/data_science/blob/main/%D0%9A%D0%BE%D0%BF%D1%96%D1%8F_%D0%B7%D0%B0%D0%BF%D0%B8%D1%81%D0%BD%D0%B8%D0%BA%D0%B0_%22%D0%A3%D1%80%D0%BE%D0%BA_2_%D0%9C%D0%B0%D1%82%D1%80%D0%B8%D1%86%D1%96_ipynb%22.ipynb\" target=\"_parent\"><img src=\"https://colab.research.google.com/assets/colab-badge.svg\" alt=\"Open In Colab\"/></a>"
      ]
    },
    {
      "cell_type": "code",
      "source": [
        "import numpy as np"
      ],
      "metadata": {
        "id": "yGaHTiHRNT4w"
      },
      "execution_count": 1,
      "outputs": []
    },
    {
      "cell_type": "code",
      "source": [
        "vector = np.array([1, 2, 3, 4, 5])\n",
        "print(vector)"
      ],
      "metadata": {
        "id": "VJu5mNq3NL9Y",
        "colab": {
          "base_uri": "https://localhost:8080/"
        },
        "outputId": "1fa1866c-1b24-4a79-a11c-be5c87f363fd"
      },
      "execution_count": 2,
      "outputs": [
        {
          "output_type": "stream",
          "name": "stdout",
          "text": [
            "[1 2 3 4 5]\n"
          ]
        }
      ]
    },
    {
      "cell_type": "code",
      "source": [
        "v1 = np.matrix([1, 2, 3, 4, 5])\n",
        "print(v1)\n",
        "\n",
        "v2 = v1.T\n",
        "print(v2)"
      ],
      "metadata": {
        "colab": {
          "base_uri": "https://localhost:8080/"
        },
        "id": "QQIX7x56Vv7w",
        "outputId": "14a1dd0e-b398-41e4-8fee-aea8298b4d23"
      },
      "execution_count": 4,
      "outputs": [
        {
          "output_type": "stream",
          "name": "stdout",
          "text": [
            "[[1 2 3 4 5]]\n",
            "[[1]\n",
            " [2]\n",
            " [3]\n",
            " [4]\n",
            " [5]]\n"
          ]
        }
      ]
    },
    {
      "cell_type": "markdown",
      "source": [
        "1. Напишіть функцію, яка перевертає вектор у зворотному порядку"
      ],
      "metadata": {
        "id": "x25-0IykNElc"
      }
    },
    {
      "cell_type": "code",
      "source": [
        "v = np.array([1, 2,3,4,5])\n",
        "print(v[::-1])\n",
        "v = np.flip(v)\n",
        "print(v)"
      ],
      "metadata": {
        "colab": {
          "base_uri": "https://localhost:8080/"
        },
        "id": "DlbZMNjbND-_",
        "outputId": "48f7d3bb-e293-4424-8ae3-012d73393252"
      },
      "execution_count": 22,
      "outputs": [
        {
          "output_type": "stream",
          "name": "stdout",
          "text": [
            "[5 4 3 2 1]\n",
            "[5 4 3 2 1]\n"
          ]
        }
      ]
    },
    {
      "cell_type": "markdown",
      "source": [
        "2.Обчислити середнє значення вектора"
      ],
      "metadata": {
        "id": "1E1bdmyCNhoB"
      }
    },
    {
      "cell_type": "code",
      "execution_count": 6,
      "metadata": {
        "id": "vpcmzRVKNC0W",
        "colab": {
          "base_uri": "https://localhost:8080/"
        },
        "outputId": "b40e3c8d-4193-441f-87b0-98301ddb0062"
      },
      "outputs": [
        {
          "output_type": "stream",
          "name": "stdout",
          "text": [
            "3.0\n"
          ]
        }
      ],
      "source": [
        "print(np.mean(v))"
      ]
    },
    {
      "cell_type": "markdown",
      "source": [],
      "metadata": {
        "id": "voFa7ATENlp3"
      }
    },
    {
      "cell_type": "markdown",
      "source": [
        "3.Знайти найбільший і найменший елементи вектора"
      ],
      "metadata": {
        "id": "GI7LfwzFN1wb"
      }
    },
    {
      "cell_type": "code",
      "source": [
        "print(np.max(v))\n",
        "print(np.min(v))"
      ],
      "metadata": {
        "id": "XulY_xY6N3jp",
        "colab": {
          "base_uri": "https://localhost:8080/"
        },
        "outputId": "9cb1cbcb-6815-4ac0-d8f4-3520751041b8"
      },
      "execution_count": 8,
      "outputs": [
        {
          "output_type": "stream",
          "name": "stdout",
          "text": [
            "5\n",
            "1\n"
          ]
        }
      ]
    },
    {
      "cell_type": "markdown",
      "source": [
        "4.Обчислити скалярний добуток (dot product) двох векторів"
      ],
      "metadata": {
        "id": "MNHM2YjDN4Ee"
      }
    },
    {
      "cell_type": "code",
      "source": [
        "v1 = np.array([1, 2, 3])\n",
        "v2 = np.array([4, 5, 6])\n",
        "print(np.dot(v1, v2))\n",
        "print((v1*v2))"
      ],
      "metadata": {
        "id": "cem2Fc-jN8ur",
        "colab": {
          "base_uri": "https://localhost:8080/"
        },
        "outputId": "fcd63f92-5f8d-4c0e-866e-f975b91a77cd"
      },
      "execution_count": 15,
      "outputs": [
        {
          "output_type": "stream",
          "name": "stdout",
          "text": [
            "32\n",
            "[ 4 10 18]\n"
          ]
        }
      ]
    },
    {
      "cell_type": "markdown",
      "source": [
        "5.Напишіть функцію, яка нормалізує вектор (зводить до одиничної довжини)."
      ],
      "metadata": {
        "id": "JtkMYoNQOHYY"
      }
    },
    {
      "cell_type": "code",
      "source": [
        "v = np.array([1, 2, 3, 4, 5])\n",
        "norm = np.linalg.norm(v)\n",
        "print(norm)\n",
        "print(v/norm)"
      ],
      "metadata": {
        "id": "enDJxdvpOJeY",
        "colab": {
          "base_uri": "https://localhost:8080/"
        },
        "outputId": "110c6303-fdec-4ac3-b13b-1ea011cf9c18"
      },
      "execution_count": 14,
      "outputs": [
        {
          "output_type": "stream",
          "name": "stdout",
          "text": [
            "7.416198487095663\n",
            "[0.13483997 0.26967994 0.40451992 0.53935989 0.67419986]\n"
          ]
        }
      ]
    },
    {
      "cell_type": "markdown",
      "source": [
        "6.Перевірити, чи є вектори ортогональними"
      ],
      "metadata": {
        "id": "V-Psn2hTOhlK"
      }
    },
    {
      "cell_type": "code",
      "source": [
        "v1 = np.array([1, 0, 0])\n",
        "v2 = np.array([0, 1, 0])\n",
        "print(np.dot(v1, v2))"
      ],
      "metadata": {
        "id": "u73yvDEVOjrS",
        "colab": {
          "base_uri": "https://localhost:8080/"
        },
        "outputId": "f024241b-4e80-45d6-d347-8c3c51e3b6bf"
      },
      "execution_count": 16,
      "outputs": [
        {
          "output_type": "stream",
          "name": "stdout",
          "text": [
            "0\n"
          ]
        }
      ]
    },
    {
      "cell_type": "markdown",
      "source": [
        "7. Вивести вектор без дублікатів"
      ],
      "metadata": {
        "id": "-DTtQB-GO3O_"
      }
    },
    {
      "cell_type": "code",
      "source": [
        "v = np.array([1, 2, 3, 4, 5, 2])\n",
        "print(np.unique(v))"
      ],
      "metadata": {
        "id": "qPcZdnxtO5he",
        "colab": {
          "base_uri": "https://localhost:8080/"
        },
        "outputId": "8f711180-52fa-4a95-f395-41370ce7604b"
      },
      "execution_count": 17,
      "outputs": [
        {
          "output_type": "stream",
          "name": "stdout",
          "text": [
            "[1 2 3 4 5]\n"
          ]
        }
      ]
    },
    {
      "cell_type": "markdown",
      "source": [
        "8.Знайти вектор, що є різницею між двома векторами"
      ],
      "metadata": {
        "id": "ukxn67HjO6B2"
      }
    },
    {
      "cell_type": "code",
      "source": [
        "v1 = np.array([1, 2, 3])\n",
        "v2 = np.array([4, 5, 6])\n",
        "print(v1 - v2)\n",
        "print(v2 - v1)\n",
        "print(v1 + v2)\n",
        "print(v2 + v1)\n",
        "print(v1 * v2)\n",
        "print(v2 * v1)\n",
        "print(v1 / v2)\n",
        "print(v2 / v1)"
      ],
      "metadata": {
        "id": "Rp0XNL9VPHQF",
        "colab": {
          "base_uri": "https://localhost:8080/"
        },
        "outputId": "70f0c74c-a1dd-445e-aff9-29cc4e20dbde"
      },
      "execution_count": 20,
      "outputs": [
        {
          "output_type": "stream",
          "name": "stdout",
          "text": [
            "[-3 -3 -3]\n",
            "[3 3 3]\n",
            "[5 7 9]\n",
            "[5 7 9]\n",
            "[ 4 10 18]\n",
            "[ 4 10 18]\n",
            "[0.25 0.4  0.5 ]\n",
            "[4.  2.5 2. ]\n"
          ]
        }
      ]
    },
    {
      "cell_type": "markdown",
      "source": [
        "9.Перевірити, до дорівнює довжина вектора 5"
      ],
      "metadata": {
        "id": "duucLJAmPTr2"
      }
    },
    {
      "cell_type": "code",
      "source": [
        "vector = np.array([1,2,3, 4, 5])\n",
        "length = np.linalg.norm(vector)\n",
        "print(np.isclose(length, 7.416198487095663))\n",
        "print(np.isclose(length, 5))\n"
      ],
      "metadata": {
        "colab": {
          "base_uri": "https://localhost:8080/"
        },
        "id": "Pu83F7TBPVhH",
        "outputId": "034a9c57-4518-44ca-dfdb-548bf65b5885"
      },
      "execution_count": 24,
      "outputs": [
        {
          "output_type": "stream",
          "name": "stdout",
          "text": [
            "True\n",
            "False\n"
          ]
        }
      ]
    },
    {
      "cell_type": "markdown",
      "source": [
        "10. Задати матрицю, заповнену випадковими числами"
      ],
      "metadata": {
        "id": "cosga6bEQqg3"
      }
    },
    {
      "cell_type": "code",
      "source": [
        "a = np.random.randint(0, 10, (3, 3))\n",
        "print(a)"
      ],
      "metadata": {
        "colab": {
          "base_uri": "https://localhost:8080/"
        },
        "id": "AiE9yftJQwBA",
        "outputId": "ad1416f7-dba3-49b4-9488-23fec7fe3f1f"
      },
      "execution_count": 25,
      "outputs": [
        {
          "output_type": "stream",
          "name": "stdout",
          "text": [
            "[[7 3 7]\n",
            " [2 0 0]\n",
            " [8 4 7]]\n"
          ]
        }
      ]
    },
    {
      "cell_type": "markdown",
      "source": [
        "11. Обчислити визначник матриці"
      ],
      "metadata": {
        "id": "isjBrlBzQ9Br"
      }
    },
    {
      "cell_type": "code",
      "source": [
        "print(np.linalg.det(a))"
      ],
      "metadata": {
        "id": "nPoJswiURJWu",
        "colab": {
          "base_uri": "https://localhost:8080/"
        },
        "outputId": "4cf3340d-af35-49a9-e4d2-8861cee9ef76"
      },
      "execution_count": 26,
      "outputs": [
        {
          "output_type": "stream",
          "name": "stdout",
          "text": [
            "13.999999999999996\n"
          ]
        }
      ]
    },
    {
      "cell_type": "markdown",
      "source": [
        "12. Знаходження оберненої матриці"
      ],
      "metadata": {
        "id": "-GHrP6cORKEp"
      }
    },
    {
      "cell_type": "code",
      "source": [
        "print(np.linalg.inv(a))"
      ],
      "metadata": {
        "id": "IEZVuZHEQ8f9",
        "colab": {
          "base_uri": "https://localhost:8080/"
        },
        "outputId": "06d6ac87-bdc9-4766-e9d1-0c370e549024"
      },
      "execution_count": 27,
      "outputs": [
        {
          "output_type": "stream",
          "name": "stdout",
          "text": [
            "[[ 0.          0.5         0.        ]\n",
            " [-1.         -0.5         1.        ]\n",
            " [ 0.57142857 -0.28571429 -0.42857143]]\n"
          ]
        }
      ]
    },
    {
      "cell_type": "markdown",
      "source": [
        "13. Розв'яжіть систему лінійних рівнянь A⋅x=b, де A – матриця коефіцієнтів, 𝑏\n",
        " – вектор вільних членів."
      ],
      "metadata": {
        "id": "_2KilBrbRYWP"
      }
    },
    {
      "cell_type": "code",
      "source": [
        "a = np.array([[1, 3, -4], [0, 2, -3], [-2, 2, 5]])\n",
        "b = np.array([5, 3, 4])\n",
        "x = np.linalg.solve(a, b)\n",
        "print(x)\n",
        "inv_a = np.linalg.inv(a)\n",
        "x1 = inv_a.dot(b)\n",
        "print(x1)\n"
      ],
      "metadata": {
        "id": "fH9L20oTRoly",
        "colab": {
          "base_uri": "https://localhost:8080/"
        },
        "outputId": "3c286b0a-0d23-4475-9547-5ccee60720ea"
      },
      "execution_count": 28,
      "outputs": [
        {
          "output_type": "stream",
          "name": "stdout",
          "text": [
            "[0.38888889 1.83333333 0.22222222]\n",
            "[0.38888889 1.83333333 0.22222222]\n"
          ]
        }
      ]
    },
    {
      "cell_type": "markdown",
      "source": [
        "14. Множення двох матриць"
      ],
      "metadata": {
        "id": "rIvhUrntRpAk"
      }
    },
    {
      "cell_type": "code",
      "source": [
        "a = np.array([[1, 3, -4], [0, 2, -3], [-2, 2, 5]])\n",
        "b = np.array([5, 3, 4])\n",
        "print(np.dot(a, b))\n"
      ],
      "metadata": {
        "id": "kCApy-O0R4P_",
        "colab": {
          "base_uri": "https://localhost:8080/"
        },
        "outputId": "49bfb501-13e0-443b-e9ed-41fe4f9c17ec"
      },
      "execution_count": 30,
      "outputs": [
        {
          "output_type": "stream",
          "name": "stdout",
          "text": [
            "[-2 -6 16]\n"
          ]
        }
      ]
    },
    {
      "cell_type": "code",
      "source": [
        "a = np.matrix([[1, 3, -4], [0, 2, -3], [-2, 2, 5]])\n",
        "b = np.matrix([[5, 3, 4], [0, 2, 5], [2, 7, 4]])\n",
        "print(np.dot(a, b))"
      ],
      "metadata": {
        "colab": {
          "base_uri": "https://localhost:8080/"
        },
        "id": "k9sHFCoNg6Tf",
        "outputId": "f050af83-6485-4b37-fca9-61776fcbe039"
      },
      "execution_count": 32,
      "outputs": [
        {
          "output_type": "stream",
          "name": "stdout",
          "text": [
            "[[ -3 -19   3]\n",
            " [ -6 -17  -2]\n",
            " [  0  33  22]]\n"
          ]
        }
      ]
    },
    {
      "cell_type": "code",
      "source": [
        "a = np.matrix([[1, 3, -4], [0, 2, -3]])\n",
        "b = np.matrix([[5, 3, 4], [0, 2, 5], [2, 7, 4]])\n",
        "print(a)\n",
        "print(b)\n",
        "print(np.dot(a, b))"
      ],
      "metadata": {
        "colab": {
          "base_uri": "https://localhost:8080/"
        },
        "id": "YEAAQWApiSwZ",
        "outputId": "56d92859-b2b8-4da9-efef-661e8d00a09a"
      },
      "execution_count": 33,
      "outputs": [
        {
          "output_type": "stream",
          "name": "stdout",
          "text": [
            "[[ 1  3 -4]\n",
            " [ 0  2 -3]]\n",
            "[[5 3 4]\n",
            " [0 2 5]\n",
            " [2 7 4]]\n",
            "[[ -3 -19   3]\n",
            " [ -6 -17  -2]]\n"
          ]
        }
      ]
    },
    {
      "cell_type": "markdown",
      "source": [
        "15. Транспонування матриці"
      ],
      "metadata": {
        "id": "oc8I-KQCR4v4"
      }
    },
    {
      "cell_type": "code",
      "source": [],
      "metadata": {
        "id": "WKf4eDulR9nw"
      },
      "execution_count": null,
      "outputs": []
    },
    {
      "cell_type": "markdown",
      "source": [
        "16. Перевірка симетричності матриці"
      ],
      "metadata": {
        "id": "9VEjB-0nSHzI"
      }
    },
    {
      "cell_type": "code",
      "source": [
        "np.allclose(matrix, matrix.T)"
      ],
      "metadata": {
        "id": "n1gZAXI-SMxG"
      },
      "execution_count": null,
      "outputs": []
    },
    {
      "cell_type": "markdown",
      "source": [
        "17. Обчислення сліду матриці"
      ],
      "metadata": {
        "id": "n7igq-qySRaj"
      }
    },
    {
      "cell_type": "code",
      "source": [
        "np.trace(matrix)"
      ],
      "metadata": {
        "id": "s4cqN5ynSW9e"
      },
      "execution_count": null,
      "outputs": []
    },
    {
      "cell_type": "markdown",
      "source": [
        "18. Сума матриць"
      ],
      "metadata": {
        "id": "hPNY2qJoSaMF"
      }
    },
    {
      "cell_type": "code",
      "source": [
        "np.add(a, b)"
      ],
      "metadata": {
        "id": "BExdLkSbRX1_"
      },
      "execution_count": null,
      "outputs": []
    },
    {
      "cell_type": "markdown",
      "source": [
        "19. Піднесення матриці до ступеня"
      ],
      "metadata": {
        "id": "GHjJbAvPSt3m"
      }
    },
    {
      "cell_type": "code",
      "source": [],
      "metadata": {
        "id": "FzglE8cEUaPs"
      },
      "execution_count": null,
      "outputs": []
    },
    {
      "cell_type": "code",
      "source": [
        "np.linalg.matrix_power(matrix, power)"
      ],
      "metadata": {
        "id": "EmCNVad8StPy"
      },
      "execution_count": null,
      "outputs": []
    },
    {
      "cell_type": "markdown",
      "source": [
        "20.Сортування рядків або стовпців матриці"
      ],
      "metadata": {
        "id": "29hXGamOS7mG"
      }
    },
    {
      "cell_type": "code",
      "source": [
        "np.sort(matrix, axis=1)"
      ],
      "metadata": {
        "id": "mEDNLuRWTAid"
      },
      "execution_count": null,
      "outputs": []
    },
    {
      "cell_type": "code",
      "source": [
        "np.sort(matrix, axis=0)"
      ],
      "metadata": {
        "id": "FBAAxg5aTDQz"
      },
      "execution_count": null,
      "outputs": []
    },
    {
      "cell_type": "code",
      "source": [
        "# Підрахунок суми елементів кожного рядка і зміна форми на (n, 1)\n",
        "row_sums = np.sum(matrix, axis=1).reshape(-1, 1)\n",
        "\n",
        "print(\"Сума елементів кожного рядка:\")\n",
        "print(row_sums)\n",
        "#В результаті отримали вектор - стовпчик"
      ],
      "metadata": {
        "id": "ZnAGyKUATWfh"
      },
      "execution_count": null,
      "outputs": []
    }
  ]
}